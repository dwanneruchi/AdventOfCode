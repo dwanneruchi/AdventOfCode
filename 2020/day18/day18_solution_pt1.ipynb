{
 "cells": [
  {
   "cell_type": "markdown",
   "metadata": {},
   "source": [
    "### Day 18, Part 1: Test Case\n",
    "\n",
    "```\n",
    "The homework (your puzzle input) consists of a series of expressions that consist of addition (+), multiplication (*), and parentheses ((...)). Just like normal math, parentheses indicate that the expression inside must be evaluated before it can be used by the surrounding expression. Addition still finds the sum of the numbers on both sides of the operator, and multiplication still finds the product.\n",
    "\n",
    "However, the rules of operator precedence have changed. Rather than evaluating multiplication before addition, the operators have the same precedence, and are evaluated left-to-right regardless of the order in which they appear.\n",
    "\n",
    "```"
   ]
  },
  {
   "cell_type": "code",
   "execution_count": 1,
   "metadata": {},
   "outputs": [],
   "source": [
    "filepath = \"day18_test_data.txt\"\n",
    "with open(filepath) as fh:\n",
    "    lines = [line.strip() for line in fh.readlines()]"
   ]
  },
  {
   "cell_type": "markdown",
   "metadata": {},
   "source": [
    "#### Pseudocode:\n",
    "\n",
    "- We always solve left to right.\n",
    "- But, we first scan to see if `(` and `)` exist.\n",
    "    - If so, we jump into those & solve left to right, replacing parentheticals with value."
   ]
  },
  {
   "cell_type": "code",
   "execution_count": 13,
   "metadata": {},
   "outputs": [
    {
     "data": {
      "text/plain": [
       "''"
      ]
     },
     "execution_count": 13,
     "metadata": {},
     "output_type": "execute_result"
    }
   ],
   "source": [
    "lines[1][lines[1].find(\")\")-:lines[1].find(\"(\")]"
   ]
  },
  {
   "cell_type": "code",
   "execution_count": 61,
   "metadata": {},
   "outputs": [
    {
     "name": "stdout",
     "output_type": "stream",
     "text": [
      "0\n",
      "5\n",
      "Our main_parenth function: 4 + 5 * 7\n",
      "[4, 5, 7] ['+', '*']\n",
      "Applying + against 5\n",
      "Applying * against 7\n",
      "63\n",
      "(2 + 63)\n"
     ]
    }
   ],
   "source": [
    "# the inner parenthetical should be solved as : 4 + 5 = 9, 9 * 7 = 63\n",
    "s = '(2 + (4 + 5 * 7))'\n",
    "\n",
    "max_lp = 0\n",
    "min_rp = len(s)\n",
    "for i, _ in enumerate(s):\n",
    "\n",
    "    # we always want the max \"(\" and the min \")\"\n",
    "    if _ == '(':\n",
    "        print(i)\n",
    "        if i > max_lp:\n",
    "            max_lp = i\n",
    "    \n",
    "    elif _ == ')':\n",
    "        if i < min_rp:\n",
    "            min_rp = i\n",
    "\n",
    "# subset parentheticals:\n",
    "main_parenth = s[max_lp+1:min_rp]\n",
    "print(f\"Our main_parenth function: {main_parenth}\")\n",
    "\n",
    "# solve equation from left to right (we can assume no parentheticals)\n",
    "# every other step will be a digit\n",
    "functions = [ops for ops in main_parenth if ops != ' ']\n",
    "digits = [int(ops) for i, ops in enumerate(functions) if i % 2 == 0]\n",
    "operations = [ops for i, ops in enumerate(functions) if i % 2 == 1]\n",
    "print(digits, operations)\n",
    "\n",
    "total = digits[0]\n",
    "\n",
    "for i in range(1, len(digits)):\n",
    "    \n",
    "    # next operation\n",
    "    op = operations.pop(0)\n",
    "    print(f\"Applying {op} against {digits[i]}\")\n",
    "    \n",
    "    # apply operation to digits\n",
    "    if op == '+':\n",
    "        total += digits[i]\n",
    "    else:\n",
    "        total *= digits[i]\n",
    "\n",
    "print(total)\n",
    "\n",
    "# total takes place of string index\n",
    "new_string = s[:max_lp] + str(total) + s[min_rp+1:]\n",
    "\n",
    "print(new_string)\n",
    "\n",
    "\n",
    "    "
   ]
  },
  {
   "cell_type": "markdown",
   "metadata": {},
   "source": [
    "### Create Some Functions:\n",
    "\n",
    "- Run parenHandler until no more parentheses have been ignored. "
   ]
  },
  {
   "cell_type": "code",
   "execution_count": 140,
   "metadata": {},
   "outputs": [],
   "source": [
    "def checkForParent(s):\n",
    "    \"Boolean that checks if string has a parentheses, if not move on\"\n",
    "    if '(' in s:\n",
    "        return True\n",
    "    return False\n",
    "\n",
    "def findInnerParen(s):\n",
    "    \"\"\"Function to find inner-parenthese\"\"\"\n",
    "    lp = 0\n",
    "    rp = 0\n",
    "    for i, _ in enumerate(s):\n",
    "\n",
    "        # we always want the max \"(\", then find the closest \")\"\n",
    "        if _ == '(':\n",
    "            if i > lp:\n",
    "                lp = i\n",
    "        else:\n",
    "            continue\n",
    "            \n",
    "        # find corresponding ')'\n",
    "        rp = s.find(')', lp)\n",
    "    \n",
    "    return (lp, rp)\n",
    "    \n",
    "\n",
    "def parenHandler(s):\n",
    "    \"\"\"Find inner-most parentheses & output string with math operation accounted for\n",
    "    E.g. 4 + (4 + (5 * 6)) would output: 4 + (4 + 30)\n",
    "    \"\"\"\n",
    "    # find inner paren string\n",
    "    max_lp, min_rp = findInnerParen(s)\n",
    "    inner_p = s[max_lp+1:min_rp]\n",
    "\n",
    "    # solve equation from left to right (we can assume no parentheticals)\n",
    "    functions = inner_p.split(' ')\n",
    "    digits = [int(ops) for i, ops in enumerate(functions) if i % 2 == 0]\n",
    "    operations = [ops for i, ops in enumerate(functions) if i % 2 == 1]\n",
    "\n",
    "    total = digits[0]\n",
    "    #print(digits, operations)\n",
    "    for i in range(1, len(digits)):\n",
    "        op = operations.pop(0) # next operation\n",
    "        \n",
    "        # apply operation to digits\n",
    "        if op == '+':\n",
    "            total += digits[i]\n",
    "        else:\n",
    "            total *= digits[i]\n",
    "\n",
    "    # total takes place of string index\n",
    "    new_string = s[:max_lp] + str(total) + s[min_rp+1:]\n",
    "\n",
    "    return new_string\n",
    "\n",
    "def finalFuncSolver(s):\n",
    "    \"\"\"Once no more parentheses, run this process to do left to right calculations\"\"\"\n",
    "    functions = s.split(' ')\n",
    "    #print(functions)\n",
    "    digits = [int(ops) for i, ops in enumerate(functions) if i % 2 == 0]\n",
    "    operations = [ops for i, ops in enumerate(functions) if i % 2 == 1]\n",
    "\n",
    "    total = digits[0]\n",
    "    #print(digits, operations)\n",
    "    for i in range(1, len(digits)):\n",
    "        op = operations.pop(0) # next operation\n",
    "        \n",
    "        # apply operation to digits\n",
    "        if op == '+':\n",
    "            total += digits[i]\n",
    "        else:\n",
    "            total *= digits[i]\n",
    "\n",
    "    return total"
   ]
  },
  {
   "cell_type": "code",
   "execution_count": 141,
   "metadata": {},
   "outputs": [],
   "source": [
    "# test runs: \n",
    "\n",
    "#4 + (4 + (5 * 6)) == 4 + (4 + 30)\n",
    "assert(parenHandler(s = \"4 + (4 + (5 * 6))\") == \"4 + (4 + 30)\")\n",
    "\n",
    "# 1 + (2 * 3) + (4 * (5 + 6)) == 1 + (2 * 3) + (4 * (11))\n",
    "assert(parenHandler(s = \"1 + (2 * 3) + (4 * (5 + 6))\") == \"1 + (2 * 3) + (4 * 11)\")\n"
   ]
  },
  {
   "cell_type": "code",
   "execution_count": 142,
   "metadata": {},
   "outputs": [
    {
     "name": "stdout",
     "output_type": "stream",
     "text": [
      "Step 1 yields: 1 + (2 * 3) + (4 * 11)\n",
      "Step 2 yields: 1 + (2 * 3) + 44\n",
      "Step 3 yields: 1 + 6 + 44\n"
     ]
    }
   ],
   "source": [
    "# we have 3 parenths to account for in this example\n",
    "test = \"1 + (2 * 3) + (4 * (5 + 6))\"\n",
    "\n",
    "for _ in range(3):\n",
    "    test = parenHandler(test)\n",
    "    print(f\"Step {_+1} yields: {test}\")"
   ]
  },
  {
   "cell_type": "code",
   "execution_count": 143,
   "metadata": {},
   "outputs": [
    {
     "name": "stdout",
     "output_type": "stream",
     "text": [
      "Input test: 1 + 6 + 44, solution 51\n",
      "Input test: 2 * 3 + 20, solution 26\n",
      "Input test: 5 + 432, solution 437\n",
      "Input test: 5 * 9 * 272, solution 12240\n",
      "Input test: 6810 + 2 + 4 * 2, solution 13632\n",
      "26386\n"
     ]
    }
   ],
   "source": [
    "# we can do a while loop & once out, move to final calc\n",
    "\n",
    "test_sets = [\n",
    "    \"1 + (2 * 3) + (4 * (5 + 6))\",\n",
    "    \"2 * 3 + (4 * 5)\",\n",
    "    \"5 + (8 * 3 + 9 + 3 * 4 * 3)\",\n",
    "    \"5 * 9 * (7 * 3 * 3 + 9 * 3 + (8 + 6 * 4))\",\n",
    "    \"((2 + 4 * 9) * (6 + 9 * 8 + 6) + 6) + 2 + 4 * 2\"\n",
    "]\n",
    "\n",
    "total_val = 0\n",
    "for test in test_sets:\n",
    "    while True:\n",
    "        test = parenHandler(test)\n",
    "        if not checkForParent(test):\n",
    "            break\n",
    "    # run final step \n",
    "    solution = finalFuncSolver(test)\n",
    "    print(f\"Input test: {test}, solution {solution}\")\n",
    "    total_val += solution\n",
    "\n",
    "print(total_val)\n",
    "\n"
   ]
  },
  {
   "cell_type": "markdown",
   "metadata": {},
   "source": [
    "### Run On Final: "
   ]
  },
  {
   "cell_type": "code",
   "execution_count": 146,
   "metadata": {},
   "outputs": [
    {
     "name": "stdout",
     "output_type": "stream",
     "text": [
      "209335026987\n"
     ]
    }
   ],
   "source": [
    "filepath = \"day18_data.txt\"\n",
    "with open(filepath) as fh:\n",
    "    lines = [line.strip() for line in fh.readlines()]\n",
    "\n",
    "total_val = 0\n",
    "for i, test in enumerate(lines):\n",
    "    p_flag = checkForParent(test)\n",
    "    while p_flag:\n",
    "        test = parenHandler(test)\n",
    "        if not checkForParent(test):\n",
    "            break\n",
    "    # run final step \n",
    "    total_val += finalFuncSolver(test)\n",
    "\n",
    "print(total_val)"
   ]
  }
 ],
 "metadata": {
  "kernelspec": {
   "display_name": "Python 3.8",
   "language": "python",
   "name": "other-env"
  },
  "language_info": {
   "codemirror_mode": {
    "name": "ipython",
    "version": 3
   },
   "file_extension": ".py",
   "mimetype": "text/x-python",
   "name": "python",
   "nbconvert_exporter": "python",
   "pygments_lexer": "ipython3",
   "version": "3.8.5"
  }
 },
 "nbformat": 4,
 "nbformat_minor": 4
}
