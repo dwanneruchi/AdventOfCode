{
 "cells": [
  {
   "cell_type": "markdown",
   "metadata": {},
   "source": [
    "### Day 18, Part 2:\n",
    "\n",
    "Same as before except I need to prioritize `+` over `*` in precedence. "
   ]
  },
  {
   "cell_type": "code",
   "execution_count": 1,
   "metadata": {},
   "outputs": [
    {
     "name": "stdout",
     "output_type": "stream",
     "text": [
      "['1 + 2 * 3 + 4 * 5 + 6', '1 + (2 * 3) + (4 * (5 + 6))', '2 * 3 + (4 * 5)', '5 + (8 * 3 + 9 + 3 * 4 * 3)']\n"
     ]
    }
   ],
   "source": [
    "filepath = \"day18_test_data.txt\"\n",
    "with open(filepath) as fh:\n",
    "    lines = [line.strip() for line in fh.readlines()]\n",
    "\n",
    "print(lines)"
   ]
  },
  {
   "cell_type": "markdown",
   "metadata": {},
   "source": [
    "### Create Some Functions:\n",
    "\n",
    "- Run parenHandler until no more parentheses have been ignored. "
   ]
  },
  {
   "cell_type": "code",
   "execution_count": 2,
   "metadata": {},
   "outputs": [],
   "source": [
    "def checkForParent(s):\n",
    "    \"Boolean that checks if string has a parentheses, if not move on\"\n",
    "    if '(' in s:\n",
    "        return True\n",
    "    return False\n",
    "\n",
    "def findInnerParen(s):\n",
    "    \"\"\"Function to find inner-parenthese\"\"\"\n",
    "    lp = 0\n",
    "    rp = 0\n",
    "    for i, _ in enumerate(s):\n",
    "\n",
    "        # we always want the max \"(\", then find the closest \")\"\n",
    "        if _ == '(':\n",
    "            if i > lp:\n",
    "                lp = i\n",
    "        else:\n",
    "            continue\n",
    "            \n",
    "        # find corresponding ')'\n",
    "        rp = s.find(')', lp)\n",
    "    \n",
    "    return (lp, rp)\n",
    "    \n",
    "\n",
    "def parenHandler(s):\n",
    "    \"\"\"Find inner-most parentheses & output string with math operation accounted for\n",
    "    E.g. 4 + (4 + (5 * 6)) would output: 4 + (4 + 30)\n",
    "    \"\"\"\n",
    "    # find inner paren string\n",
    "    max_lp, min_rp = findInnerParen(s)\n",
    "    inner_p = s[max_lp+1:min_rp]\n",
    "\n",
    "    # solve equation from left to right (we can assume no parentheticals)\n",
    "    #UPDATE: using other function\n",
    "    total = finalFuncSolver2(inner_p)\n",
    "\n",
    "    # total takes place of string index\n",
    "    new_string = s[:max_lp] + str(total) + s[min_rp+1:]\n",
    "\n",
    "    return new_string\n",
    "\n",
    "def finalFuncSolver(s):\n",
    "    \"\"\"Once no more parentheses, run this process to do left to right calculations\"\"\"\n",
    "    functions = s.split(' ')\n",
    "    \n",
    "    digits = [int(ops) for i, ops in enumerate(functions) if i % 2 == 0]\n",
    "    operations = [ops for i, ops in enumerate(functions) if i % 2 == 1]\n",
    "    \n",
    "    total = digits[0]\n",
    "    #print(digits, operations)\n",
    "    for i in range(1, len(digits)):\n",
    "        op = operations.pop(0) # next operation\n",
    "        \n",
    "        # apply operation to digits\n",
    "        if op == '+':\n",
    "            total += digits[i]\n",
    "        else:\n",
    "            total *= digits[i]\n",
    "\n",
    "    return total\n",
    "\n",
    "def plusPref(s):\n",
    "    \"\"\"Take a string & run one mathematical operation, updating string\"\"\"\n",
    "    # split into functions\n",
    "    functions = s.split(' ')\n",
    "    if '+' in functions:\n",
    "        for i, symbol in enumerate(functions):\n",
    "            if symbol == '+':\n",
    "                #print(\"Found a +\")\n",
    "                replacement = int(functions[i-1]) + int(functions[i+1])\n",
    "                return ' '.join(functions[:i-1] + [str(replacement)] + functions[i+2:] )\n",
    "\n",
    "    if '*' in functions:\n",
    "        for i, symbol in enumerate(functions):\n",
    "            if symbol == '*':\n",
    "                #print(\"Found a *\")\n",
    "                replacement = int(functions[i-1]) * int(functions[i+1])\n",
    "                return ' '.join(functions[:i-1] + [str(replacement)] + functions[i+2:] )\n",
    "\n",
    "def finalFuncSolver2(s):\n",
    "    \"\"\"Run process to prefer + to * in precedence, otherwise left to right\"\"\"\n",
    "    \n",
    "    while '+' in s or '*' in s:\n",
    "        s = plusPref(s)\n",
    "    \n",
    "    return int(s)"
   ]
  },
  {
   "cell_type": "code",
   "execution_count": 3,
   "metadata": {},
   "outputs": [
    {
     "name": "stdout",
     "output_type": "stream",
     "text": [
      "9 * 18 + 9\n",
      "9 + 18 * 18 + 9\n",
      "20 * 18 * 18 * 9\n"
     ]
    }
   ],
   "source": [
    "print(plusPref(\"4 + 5 * 18 + 9\"))\n",
    "print(plusPref(\"4 + 5 + 18 * 18 + 9\"))\n",
    "print(plusPref(\"4 * 5 * 18 * 18 * 9\"))"
   ]
  },
  {
   "cell_type": "code",
   "execution_count": 4,
   "metadata": {},
   "outputs": [
    {
     "data": {
      "text/plain": [
       "231"
      ]
     },
     "execution_count": 4,
     "metadata": {},
     "output_type": "execute_result"
    }
   ],
   "source": [
    "finalFuncSolver2('1 + 2 * 3 + 4 * 5 + 6')"
   ]
  },
  {
   "cell_type": "code",
   "execution_count": 5,
   "metadata": {},
   "outputs": [
    {
     "name": "stdout",
     "output_type": "stream",
     "text": [
      "Input test: 1 + 6 + 44, solution 51\n",
      "Input test: 2 * 3 + 20, solution 46\n",
      "Input test: 5 + 1440, solution 1445\n",
      "Input test: 5 * 9 * 14868, solution 669060\n",
      "Input test: 11664 + 2 + 4 * 2, solution 23340\n",
      "693942\n"
     ]
    }
   ],
   "source": [
    "# we can do a while loop & once out, move to final calc\n",
    "\n",
    "test_sets = [\n",
    "    \"1 + (2 * 3) + (4 * (5 + 6))\",\n",
    "    \"2 * 3 + (4 * 5)\",\n",
    "    \"5 + (8 * 3 + 9 + 3 * 4 * 3)\",\n",
    "    \"5 * 9 * (7 * 3 * 3 + 9 * 3 + (8 + 6 * 4))\",\n",
    "    \"((2 + 4 * 9) * (6 + 9 * 8 + 6) + 6) + 2 + 4 * 2\"\n",
    "]\n",
    "\n",
    "total_val = 0\n",
    "for test in test_sets:\n",
    "    while True:\n",
    "        test = parenHandler(test)\n",
    "        if not checkForParent(test):\n",
    "            break\n",
    "    # run final step \n",
    "    solution = finalFuncSolver2(test)\n",
    "    print(f\"Input test: {test}, solution {solution}\")\n",
    "    total_val += solution\n",
    "\n",
    "print(total_val)\n",
    "\n"
   ]
  },
  {
   "cell_type": "markdown",
   "metadata": {},
   "source": [
    "### Run On Final: "
   ]
  },
  {
   "cell_type": "code",
   "execution_count": 6,
   "metadata": {},
   "outputs": [
    {
     "name": "stdout",
     "output_type": "stream",
     "text": [
      "33331817392479\n"
     ]
    }
   ],
   "source": [
    "filepath = \"day18_data.txt\"\n",
    "with open(filepath) as fh:\n",
    "    lines = [line.strip() for line in fh.readlines()]\n",
    "\n",
    "total_val = 0\n",
    "for i, test in enumerate(lines):\n",
    "    p_flag = checkForParent(test)\n",
    "    while p_flag:\n",
    "        test = parenHandler(test)\n",
    "        if not checkForParent(test):\n",
    "            break\n",
    "    # run final step \n",
    "    total_val += finalFuncSolver2(test)\n",
    "\n",
    "print(total_val)"
   ]
  }
 ],
 "metadata": {
  "kernelspec": {
   "display_name": "Python 3.8",
   "language": "python",
   "name": "other-env"
  },
  "language_info": {
   "codemirror_mode": {
    "name": "ipython",
    "version": 3
   },
   "file_extension": ".py",
   "mimetype": "text/x-python",
   "name": "python",
   "nbconvert_exporter": "python",
   "pygments_lexer": "ipython3",
   "version": "3.8.5"
  }
 },
 "nbformat": 4,
 "nbformat_minor": 4
}
