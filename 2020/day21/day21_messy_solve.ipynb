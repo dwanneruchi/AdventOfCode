{
 "cells": [
  {
   "cell_type": "markdown",
   "metadata": {},
   "source": [
    "### Day 21, Pt 1 - Solution\n",
    "\n",
    "This is my \"night of\" solve and could use a lot of work. Mainly was figuring out how to solve the logic by hand, then write code as I went. \n",
    "\n",
    "#### What we know:\n",
    "\n",
    "1) Each allergen is found in exactly one ingredient. \n",
    "2) Each ingredient contains zero or one allergen. \n",
    "    - Allergens are not always marked \n",
    "    \n",
    "#### Test Case Interpretation: \n",
    "\n",
    "```\n",
    "mxmxvkd kfcds sqjhc nhms (contains dairy, fish)\n",
    "trh fvjkl sbzzf mxmxvkd (contains dairy)\n",
    "sqjhc fvjkl (contains soy)\n",
    "sqjhc mxmxvkd sbzzf (contains fish)\n",
    "```\n",
    "\n",
    "Allergens:\n",
    "- We can determine that `mxmxvkd` contains dairy based on it existing in line 1 & line 2. \n",
    "- We can determine that `sqjhc` could contain fish or soy.\n",
    "- We can determine that `fvjkl` could contain soy.\n",
    "\n",
    "No allergens:\n",
    "- `kfcds` & `nhms` only appear in line 1, so no allergen (`mxmxvkd` has already taken dairy)\n",
    "- `trh` only in line 2, so no allergen (`mxmxvkd` has already taken dairy)\n",
    "- `sbzzf` appears in various spots, but can't logically have an allergen:\n",
    "    - It is in line 2, but can't have dairy.\n",
    "    - It is line 4, but given line 2 we know it can't be linked to fish since the item linked to fish would need to have been present in line 1. "
   ]
  },
  {
   "cell_type": "code",
   "execution_count": 1,
   "metadata": {},
   "outputs": [],
   "source": [
    "import re\n",
    "from collections import defaultdict, Counter\n",
    "\n",
    "# Read in test data\n",
    "filepath = \"day21_data.txt\"\n",
    "with open(filepath) as fh:\n",
    "    lines = [line.strip() for line in fh.readlines()]"
   ]
  },
  {
   "cell_type": "markdown",
   "metadata": {},
   "source": [
    "### How to Approach This: \n",
    "\n",
    "- I need to find how many times an item is in with an allergen & how many times that allergen appears in general? \n",
    "    - This should work since \"each allergen is found in exactly one ingredient\"\n",
    "    - Need to be careful though since an allergen does not have to be lsited, even if an ingredient is there. "
   ]
  },
  {
   "cell_type": "code",
   "execution_count": 2,
   "metadata": {},
   "outputs": [],
   "source": [
    "def allergenExtraction(string):\n",
    "    \"\"\"Pass in a string & return list of allergens\"\"\"\n",
    "    m = re.search(r'\\((.*?)\\)', string)\n",
    "    allergens = m.group(1) # seperate due to next step\n",
    "    \n",
    "    return allergens.replace('contains ', '').split(', ')"
   ]
  },
  {
   "cell_type": "code",
   "execution_count": 3,
   "metadata": {},
   "outputs": [],
   "source": [
    "allergen_dict = defaultdict(list)\n",
    "ingred_dict = defaultdict(lambda:0)\n",
    "for line in lines:\n",
    "    \n",
    "    # get allergens for ingredients\n",
    "    allergens = allergenExtraction(line)\n",
    "    \n",
    "    # ingredients\n",
    "    ingreds = line.split(\" (\")[0].split()\n",
    "    \n",
    "    # add ingreds to each allergen key\n",
    "    for allergen in allergens:\n",
    "        allergen_dict[allergen].append(ingreds)\n",
    "        \n",
    "    # update total tracker for ingredients -> will be used at the end to determine how often ingreds showed up\n",
    "    for ingred in ingreds:\n",
    "        ingred_dict[ingred] += 1"
   ]
  },
  {
   "cell_type": "code",
   "execution_count": 4,
   "metadata": {},
   "outputs": [],
   "source": [
    "final_dict = {}\n",
    "\n",
    "for allergen, ingred_list in allergen_dict.items():\n",
    "    \n",
    "    # number of times we saw allergen\n",
    "    all_cnt = len(ingred_list)\n",
    "    \n",
    "    # flatten list\n",
    "    flat_list = [item for sublist in ingred_list for item in sublist]\n",
    "    \n",
    "    # build a counter which represents how many of each ingredient showed up across all instances \n",
    "    # of allergen of interest. \n",
    "    final_dict[allergen] = (all_cnt, dict(Counter(flat_list)))"
   ]
  },
  {
   "cell_type": "markdown",
   "metadata": {},
   "source": [
    "### General Logic:\n",
    "\n",
    "- If only one ingredient has a count == number of times item showed up, then we know this ingredient is linked to allergen:\n",
    "    - we can remove it from all other checks\n",
    "    - we can store it in an ingredient dictionary\n",
    "    - we can store off the others in a counter\n",
    "\n",
    "- If multiple ingredients have a count == number of times item showed up, then we don't know how to proceed unless we can start removing items that already have a key (maybe use a while loop?)\n",
    "    - Example would be determining that `sqjhc` links to fish - i think this is correct, but `mxmxvkd` also links to fish. I guess we just skip these until it is obvious (***Note: solved at the end**) \n",
    "    \n",
    "- Potential TODO: \n",
    "    - My handling of the `sbzzf` example might not scale properly. Right now I am assuming my logic handles the fact that `sbzzf` showed up in 1 of the 2 fish examples, but not positive I am correct on this. (**Note: This was not a problem**)"
   ]
  },
  {
   "cell_type": "code",
   "execution_count": 5,
   "metadata": {},
   "outputs": [],
   "source": [
    "allergen_ingred = {}\n",
    "ingred_all = [] # ingredients known to be linked to allergens \n",
    "for allergen, v in final_dict.items():\n",
    "    count, ingred_list = v\n",
    "    \n",
    "    # remove any ingredients that are already affiliated with one allergen\n",
    "    possible = []\n",
    "    for k,v in ingred_list.items():\n",
    "        if k in ingred_all:\n",
    "            del ingred_list[k]\n",
    "            \n",
    "        # we need to find the top ingred(s) for each allergen\n",
    "        else:\n",
    "            # if counter val = total times allergen showed up, then its likely so add on\n",
    "            if v == count:\n",
    "                possible.append(k)\n",
    "    \n",
    "    # this still won't be perfect, can have multiple mappings per allergen so will need to resolve. \n",
    "    allergen_ingred[allergen] = possible    "
   ]
  },
  {
   "cell_type": "code",
   "execution_count": 6,
   "metadata": {},
   "outputs": [
    {
     "name": "stdout",
     "output_type": "stream",
     "text": [
      "{'vqzbq', 'dtb', 'nhjrzzj', 'zqjm', 'vdxb', 'rpj', 'gbt', 'bqmhk'}\n"
     ]
    }
   ],
   "source": [
    "# build a single list of ingredients likely matched to an allergen\n",
    "final_list = []\n",
    "for k,v in allergen_ingred.items():\n",
    "    final_list.append(v)\n",
    "\n",
    "# set of ingredients that match with an allergen\n",
    "ingreds_w_all = set([item for sublist in final_list for item in sublist])\n",
    "print(ingreds_w_all)"
   ]
  },
  {
   "cell_type": "code",
   "execution_count": 7,
   "metadata": {},
   "outputs": [
    {
     "name": "stdout",
     "output_type": "stream",
     "text": [
      "2798\n"
     ]
    }
   ],
   "source": [
    "tot_count = 0\n",
    "for k,v in ingred_dict.items():\n",
    "    if k in ingreds_w_all:\n",
    "        continue\n",
    "    else:\n",
    "        tot_count += v\n",
    "print(tot_count)"
   ]
  },
  {
   "cell_type": "markdown",
   "metadata": {},
   "source": [
    "### Part 2: I actually wrote this out by hand to ensure my logic worked\n",
    "\n",
    "- will code up later -> will look like sorting by val length & building a new dict while also removing from other dict. \n",
    "- General Logic: Each ingredient can only have at most one allergen\n",
    "    - once we know `vqzbq` is linked to `sesame`, then we can remove `vqzbq` from all other steps. This is easily solved. \n",
    "\n",
    "#### Solution: \n",
    "\n",
    "```python\n",
    "# final answer\n",
    "gbt,rpj,vdxb,dtb,bqmhk,vqzbq,zqjm,nhjrzzj\n",
    "```"
   ]
  },
  {
   "cell_type": "code",
   "execution_count": 8,
   "metadata": {},
   "outputs": [
    {
     "name": "stdout",
     "output_type": "stream",
     "text": [
      "dairy ['vqzbq', 'gbt']\n",
      "eggs ['vqzbq', 'rpj']\n",
      "fish ['zqjm', 'vdxb']\n",
      "nuts ['gbt', 'bqmhk', 'dtb', 'rpj']\n",
      "peanuts ['bqmhk', 'gbt']\n",
      "sesame ['vqzbq']\n",
      "shellfish ['vqzbq', 'zqjm']\n",
      "wheat ['nhjrzzj', 'vdxb']\n"
     ]
    }
   ],
   "source": [
    "for key in sorted(allergen_ingred):\n",
    "    print(key, allergen_ingred[key])"
   ]
  }
 ],
 "metadata": {
  "kernelspec": {
   "display_name": "Python 3.8",
   "language": "python",
   "name": "other-env"
  },
  "language_info": {
   "codemirror_mode": {
    "name": "ipython",
    "version": 3
   },
   "file_extension": ".py",
   "mimetype": "text/x-python",
   "name": "python",
   "nbconvert_exporter": "python",
   "pygments_lexer": "ipython3",
   "version": "3.8.5"
  }
 },
 "nbformat": 4,
 "nbformat_minor": 4
}
