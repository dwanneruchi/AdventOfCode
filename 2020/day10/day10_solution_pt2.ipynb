{
 "cells": [
  {
   "cell_type": "markdown",
   "metadata": {},
   "source": [
    "### Day 10, Part 2:\n",
    "\n",
    "General Approach:\n",
    "- from start index, look forward to all adapters that start could connect to (max diff of +3)\n",
    "for this subset, find diff from next adapter outside of subset\n",
    "- find permutations of this subset\n",
    "- reduce permutations to those that end with a diff <= -3 AND are in order\n",
    "- len(permutations) is stored off.\n",
    "repeat, with the next start being the last value in subset from step 2, until start index exceeds length\n",
    "multiply all len(permutations) together\n",
    "\n",
    "\n"
   ]
  },
  {
   "cell_type": "code",
   "execution_count": 1,
   "metadata": {},
   "outputs": [],
   "source": [
    "from itertools import permutations\n",
    "from functools import reduce\n",
    "\n",
    "def prepareDate(filepath):\n",
    "    \"\"\"Prepare data, including add the min & max adaptor values after sorting\"\"\"\n",
    "    with open(filepath) as fh:\n",
    "        lines = [int(line.strip()) for line in fh.readlines()]\n",
    "    lines.sort()\n",
    "    lines.insert(0,0)\n",
    "    lines.insert(len(lines),max(lines) + 3)\n",
    "    return lines\n",
    "\n",
    "def findEligDiff(start, input_list):\n",
    "    \"\"\"Pass in list & start index to find differences moving forward. \n",
    "       Those that exceed -3 are not eligible for the adaptor to connect to\n",
    "       Return indices\n",
    "    \"\"\"\n",
    "    eligible_list = []\n",
    "    for i in range(start+1, len(input_list)-1):\n",
    "        if input_list[start] - input_list[i] >= -3:\n",
    "            eligible_list.append(i)\n",
    "    return eligible_list\n",
    "\n",
    "def findNextDiff(eligible_list, input_list):\n",
    "    \"\"\"Return list of differences from the eligible list to the next adaptor\n",
    "       Next adaptor is going to be the index of the last eligible item + 1\n",
    "       Return the list of differences \n",
    "    \"\"\"\n",
    "    diff_list = []\n",
    "    max_i = eligible_list[-1] + 1\n",
    "\n",
    "    for j in eligible_list:\n",
    "        diff_list.append(input_list[j] - input_list[max_i])\n",
    "\n",
    "    return diff_list\n",
    "\n",
    "def confirmOrder(permutation):\n",
    "    \"\"\" Determine if a permutation is acceptable \n",
    "        In order to be acceptable, permutation must be in ascending order.\n",
    "    \"\"\"\n",
    "    permutation = [x for x in permutation]\n",
    "    if len(permutation) > 1:\n",
    "        for i in range( len(permutation) - 1 ):\n",
    "            if permutation[i] > permutation[i+1]:\n",
    "                return False\n",
    "        return True\n",
    "    else:\n",
    "        return True\n",
    "    \n",
    "def findPerms(diff_list):\n",
    "    \"\"\"Find all possible permutations of differences across subset\n",
    "       Each subsets eligible permutations represent a multiplier to the total list\n",
    "       Return count of distinct permutations\n",
    "    \"\"\"\n",
    "    iters = 0\n",
    "    for L in range(0, len(diff_list)+1):\n",
    "        for subset in permutations(diff_list, L):\n",
    "            if len(subset) > 0 and subset[-1] >= -3 and confirmOrder(subset):\n",
    "                iters += 1\n",
    "    return iters"
   ]
  },
  {
   "cell_type": "markdown",
   "metadata": {},
   "source": [
    "### Day 10, Part 2: Test Case 1\n",
    "\n",
    "- We expect 8 possibilities"
   ]
  },
  {
   "cell_type": "code",
   "execution_count": 2,
   "metadata": {},
   "outputs": [
    {
     "name": "stdout",
     "output_type": "stream",
     "text": [
      "[1, 1, 4, 1, 2, 1, 1, 1]\n"
     ]
    },
    {
     "data": {
      "text/plain": [
       "8"
      ]
     },
     "execution_count": 2,
     "metadata": {},
     "output_type": "execute_result"
    }
   ],
   "source": [
    "# Read in test data\n",
    "lines = prepareDate('day10_test_data.txt')\n",
    "\n",
    "# Initial params\n",
    "iter_list = []\n",
    "start = 0\n",
    "\n",
    "# Loop until start exceeds len(lines) - 2. \n",
    "# This is to account for len() - 1 as well as our last adaptor\n",
    "while start < len(lines)-2:\n",
    "    \n",
    "    elig_diff = findEligDiff(start, lines)\n",
    "    \n",
    "    # we start from the last eligible adaptor\n",
    "    start = elig_diff[-1]\n",
    "    \n",
    "    # now we can check diff from next step, which impacts ordering: \n",
    "    nextDiff = findNextDiff(elig_diff, lines)\n",
    "\n",
    "    iter_list.append(findPerms(nextDiff))\n",
    "\n",
    "# multiply all elements for answer\n",
    "print(iter_list)\n",
    "reduce(lambda x, y: x*y,iter_list)"
   ]
  },
  {
   "cell_type": "markdown",
   "metadata": {},
   "source": [
    "### Day 10, Part 2: Test Case 1\n",
    "\n",
    "- We expect 19,208 possibilities"
   ]
  },
  {
   "cell_type": "code",
   "execution_count": 3,
   "metadata": {},
   "outputs": [
    {
     "name": "stdout",
     "output_type": "stream",
     "text": [
      "[7, 1, 1, 7, 1, 1, 1, 4, 1, 2, 1, 1, 7, 1, 1, 1, 1, 1, 7, 1]\n"
     ]
    },
    {
     "data": {
      "text/plain": [
       "19208"
      ]
     },
     "execution_count": 3,
     "metadata": {},
     "output_type": "execute_result"
    }
   ],
   "source": [
    "# Read in test data\n",
    "lines = prepareDate('day10_test_d2.txt')\n",
    "\n",
    "# Initial params\n",
    "iter_list = []\n",
    "start = 0\n",
    "\n",
    "# Loop until start exceeds len(lines) - 2. \n",
    "# This is to account for len() - 1 as well as our last adaptor\n",
    "while start < len(lines)-2:\n",
    "    \n",
    "    elig_diff = findEligDiff(start, lines)\n",
    "    \n",
    "    # we start from the last eligible adaptor\n",
    "    start = elig_diff[-1]\n",
    "    \n",
    "    # now we can check diff from next step, which impacts ordering: \n",
    "    nextDiff = findNextDiff(elig_diff, lines)\n",
    "\n",
    "    iter_list.append(findPerms(nextDiff))\n",
    "\n",
    "# multiply all elements for answer\n",
    "print(iter_list)\n",
    "reduce(lambda x, y: x*y,iter_list)"
   ]
  },
  {
   "cell_type": "markdown",
   "metadata": {},
   "source": [
    "### Day 10, Part 2: Real Data\n",
    "\n",
    "- Passed tests, now for the real solve \n",
    "- Update: Answer was big, but this runs very fast: `31,581,162,962,944\n",
    "  - 31.5 trillion"
   ]
  },
  {
   "cell_type": "code",
   "execution_count": 4,
   "metadata": {},
   "outputs": [
    {
     "name": "stdout",
     "output_type": "stream",
     "text": [
      "[7, 1, 1, 7, 1, 1, 1, 1, 7, 1, 1, 2, 1, 4, 1, 1, 4, 1, 1, 1, 1, 7, 1, 1, 2, 1, 2, 1, 7, 1, 1, 2, 1, 4, 1, 2, 1, 4, 1, 4, 1, 1, 4, 1, 4, 1, 1, 2, 1, 7, 1, 1, 1, 1, 4, 1, 1, 4, 1, 4, 1, 1, 4]\n"
     ]
    },
    {
     "data": {
      "text/plain": [
       "31581162962944"
      ]
     },
     "execution_count": 4,
     "metadata": {},
     "output_type": "execute_result"
    }
   ],
   "source": [
    "# Read in test data\n",
    "lines = prepareDate('day10_data.txt')\n",
    "\n",
    "# Initial params\n",
    "iter_list = []\n",
    "start = 0\n",
    "\n",
    "# Loop until start exceeds len(lines) - 2. \n",
    "# This is to account for len() - 1 as well as our last adaptor\n",
    "while start < len(lines)-2:\n",
    "    \n",
    "    elig_diff = findEligDiff(start, lines)\n",
    "    \n",
    "    # we start from the last eligible adaptor\n",
    "    start = elig_diff[-1]\n",
    "    \n",
    "    # now we can check diff from next step, which impacts ordering: \n",
    "    nextDiff = findNextDiff(elig_diff, lines)\n",
    "\n",
    "    iter_list.append(findPerms(nextDiff))\n",
    "\n",
    "# multiply all elements for answer\n",
    "print(iter_list)\n",
    "reduce(lambda x, y: x*y,iter_list)"
   ]
  }
 ],
 "metadata": {
  "kernelspec": {
   "display_name": "Python 3.8",
   "language": "python",
   "name": "other-env"
  },
  "language_info": {
   "codemirror_mode": {
    "name": "ipython",
    "version": 3
   },
   "file_extension": ".py",
   "mimetype": "text/x-python",
   "name": "python",
   "nbconvert_exporter": "python",
   "pygments_lexer": "ipython3",
   "version": "3.8.5"
  }
 },
 "nbformat": 4,
 "nbformat_minor": 4
}
