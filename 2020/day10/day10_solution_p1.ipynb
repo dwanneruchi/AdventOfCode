{
 "cells": [
  {
   "cell_type": "markdown",
   "metadata": {},
   "source": [
    "### Part 1 - Test Date\n",
    "\n",
    "```\n",
    "If you use every adapter in your bag at once, what is the distribution of joltage differences between the charging outlet, the adapters, and your device?\n",
    "```"
   ]
  },
  {
   "cell_type": "code",
   "execution_count": 43,
   "metadata": {},
   "outputs": [
    {
     "name": "stdout",
     "output_type": "stream",
     "text": [
      "[16, 10, 15, 5, 1, 11, 7, 19, 6, 12, 4]\n"
     ]
    }
   ],
   "source": [
    "# MF would be happy of my use of collections!\n",
    "from collections import defaultdict \n",
    "\n",
    "# read & clean input data \n",
    "with open('day10_test_data.txt') as fh:\n",
    "    lines = [int(line.strip()) for line in fh.readlines()]\n",
    "print(lines)"
   ]
  },
  {
   "cell_type": "code",
   "execution_count": 44,
   "metadata": {},
   "outputs": [],
   "source": [
    "max_chrg = 0\n",
    "built_in_max = max(lines) + 3"
   ]
  },
  {
   "cell_type": "code",
   "execution_count": 45,
   "metadata": {},
   "outputs": [],
   "source": [
    "# we need to step through the list & find values that fit..\n",
    "lines.sort()\n",
    "i = 0 \n",
    "diff_dict = defaultdict(lambda: 0)\n",
    "while len(lines) > 0:\n",
    "    if lines[i] <= max_chrg + 3:\n",
    "        diff_dict[abs(lines[i] - max_chrg)] += 1\n",
    "        max_chrg = lines.pop(0)\n",
    "    \n",
    "diff_dict[3] += 1\n",
    "        "
   ]
  },
  {
   "cell_type": "code",
   "execution_count": 46,
   "metadata": {},
   "outputs": [
    {
     "data": {
      "text/plain": [
       "dict_items([(1, 7), (3, 5)])"
      ]
     },
     "execution_count": 46,
     "metadata": {},
     "output_type": "execute_result"
    }
   ],
   "source": [
    "diff_dict.items()"
   ]
  },
  {
   "cell_type": "code",
   "execution_count": 47,
   "metadata": {},
   "outputs": [],
   "source": [
    "# bigger dataset test - was missing use of the built_in_max\n",
    "with open('day10_test_d2.txt') as fh:\n",
    "    lines = [int(line.strip()) for line in fh.readlines()]\n",
    "max_chrg = 0\n",
    "built_in_max = max(lines) + 3\n",
    "# we need to step through the list & find values that fit..\n",
    "lines.sort()\n",
    "i = 0 \n",
    "diff_dict = defaultdict(lambda: 0)\n",
    "while len(lines) > 0:\n",
    "    if lines[i] <= max_chrg + 3:\n",
    "        diff_dict[abs(lines[i] - max_chrg)] += 1\n",
    "        max_chrg = lines.pop(0)\n",
    "diff_dict[3] += 1\n"
   ]
  },
  {
   "cell_type": "code",
   "execution_count": 49,
   "metadata": {},
   "outputs": [
    {
     "name": "stdout",
     "output_type": "stream",
     "text": [
      "220\n"
     ]
    }
   ],
   "source": [
    "print(diff_dict[1] * diff_dict[3])"
   ]
  },
  {
   "cell_type": "markdown",
   "metadata": {},
   "source": [
    "### Part 1 - Actual Data"
   ]
  },
  {
   "cell_type": "code",
   "execution_count": 50,
   "metadata": {},
   "outputs": [],
   "source": [
    "# bigger dataset test - was missing use of the built_in_max\n",
    "with open('day10_data.txt') as fh:\n",
    "    lines = [int(line.strip()) for line in fh.readlines()]\n",
    "max_chrg = 0\n",
    "built_in_max = max(lines) + 3\n",
    "# we need to step through the list & find values that fit..\n",
    "lines.sort()\n",
    "i = 0 \n",
    "diff_dict = defaultdict(lambda: 0)\n",
    "while len(lines) > 0:\n",
    "    if lines[i] <= max_chrg + 3:\n",
    "        diff_dict[abs(lines[i] - max_chrg)] += 1\n",
    "        max_chrg = lines.pop(0)\n",
    "diff_dict[3] += 1"
   ]
  },
  {
   "cell_type": "code",
   "execution_count": 51,
   "metadata": {},
   "outputs": [
    {
     "name": "stdout",
     "output_type": "stream",
     "text": [
      "2343\n"
     ]
    }
   ],
   "source": [
    "print(diff_dict[1] * diff_dict[3])"
   ]
  }
 ],
 "metadata": {
  "kernelspec": {
   "display_name": "Python 3.8",
   "language": "python",
   "name": "other-env"
  },
  "language_info": {
   "codemirror_mode": {
    "name": "ipython",
    "version": 3
   },
   "file_extension": ".py",
   "mimetype": "text/x-python",
   "name": "python",
   "nbconvert_exporter": "python",
   "pygments_lexer": "ipython3",
   "version": "3.8.5"
  }
 },
 "nbformat": 4,
 "nbformat_minor": 4
}
