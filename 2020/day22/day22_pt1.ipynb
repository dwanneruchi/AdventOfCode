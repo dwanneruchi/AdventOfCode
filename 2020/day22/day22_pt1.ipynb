{
 "cells": [
  {
   "cell_type": "code",
   "execution_count": 99,
   "metadata": {},
   "outputs": [],
   "source": [
    "# Read in test data\n",
    "filepath = \"day22_data.txt\"\n",
    "with open(filepath) as fh:\n",
    "    lines = [line.strip() for line in fh.readlines()]"
   ]
  },
  {
   "cell_type": "code",
   "execution_count": 103,
   "metadata": {},
   "outputs": [],
   "source": [
    "from collections import defaultdict\n",
    "import copy \n",
    "player_cards = defaultdict(list)\n",
    "player = 1\n",
    "for _ in lines:\n",
    "    if _ == \"\":\n",
    "        player += 1\n",
    "    else:\n",
    "        try:\n",
    "            player_cards[player].append(int(_))\n",
    "        except:\n",
    "            pass"
   ]
  },
  {
   "cell_type": "code",
   "execution_count": 104,
   "metadata": {},
   "outputs": [],
   "source": [
    "p1_cards = copy.deepcopy(player_cards[1])\n",
    "p2_cards = copy.deepcopy(player_cards[2])"
   ]
  },
  {
   "cell_type": "code",
   "execution_count": 105,
   "metadata": {},
   "outputs": [
    {
     "name": "stdout",
     "output_type": "stream",
     "text": [
      "Game over\n"
     ]
    }
   ],
   "source": [
    "while True:\n",
    "    \n",
    "    # get top cards\n",
    "    top_p1 = p1_cards.pop(0)\n",
    "    top_p2 = p2_cards.pop(0)\n",
    "    \n",
    "    # update based on top card\n",
    "    if top_p1 > top_p2:\n",
    "        p1_cards.append(top_p1)\n",
    "        p1_cards.append(top_p2)\n",
    "    else:\n",
    "        p2_cards.append(top_p2)\n",
    "        p2_cards.append(top_p1)\n",
    "    \n",
    "    # if either player hits 0, break\n",
    "    if len(p1_cards) == 0 or len(p2_cards) == 0:\n",
    "        print(\"Game over\")\n",
    "        break"
   ]
  },
  {
   "cell_type": "code",
   "execution_count": 107,
   "metadata": {},
   "outputs": [
    {
     "name": "stdout",
     "output_type": "stream",
     "text": [
      "32272\n"
     ]
    }
   ],
   "source": [
    "tot = 0\n",
    "for i, val in enumerate(p1_cards[::-1]):\n",
    "    tot += val * (i+1)\n",
    "    \n",
    "print(tot)"
   ]
  },
  {
   "cell_type": "code",
   "execution_count": null,
   "metadata": {},
   "outputs": [],
   "source": []
  }
 ],
 "metadata": {
  "kernelspec": {
   "display_name": "Python 3.8",
   "language": "python",
   "name": "other-env"
  },
  "language_info": {
   "codemirror_mode": {
    "name": "ipython",
    "version": 3
   },
   "file_extension": ".py",
   "mimetype": "text/x-python",
   "name": "python",
   "nbconvert_exporter": "python",
   "pygments_lexer": "ipython3",
   "version": "3.8.5"
  }
 },
 "nbformat": 4,
 "nbformat_minor": 4
}
