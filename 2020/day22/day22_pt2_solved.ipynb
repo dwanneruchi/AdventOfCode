{
 "cells": [
  {
   "cell_type": "code",
   "execution_count": 1,
   "metadata": {},
   "outputs": [],
   "source": [
    "# Read in test data\n",
    "filepath = \"day22_data.txt\"\n",
    "with open(filepath) as fh:\n",
    "    lines = [line.strip() for line in fh.readlines()]"
   ]
  },
  {
   "cell_type": "code",
   "execution_count": 2,
   "metadata": {},
   "outputs": [],
   "source": [
    "from collections import defaultdict\n",
    "import copy \n",
    "player_cards = defaultdict(list)\n",
    "player = 1\n",
    "for _ in lines:\n",
    "    if _ == \"\":\n",
    "        player += 1\n",
    "    else:\n",
    "        try:\n",
    "            player_cards[player].append(int(_))\n",
    "        except:\n",
    "            pass"
   ]
  },
  {
   "cell_type": "code",
   "execution_count": 3,
   "metadata": {},
   "outputs": [],
   "source": [
    "p1_cards = copy.deepcopy(player_cards[1])\n",
    "p2_cards = copy.deepcopy(player_cards[2])"
   ]
  },
  {
   "cell_type": "code",
   "execution_count": 4,
   "metadata": {},
   "outputs": [],
   "source": [
    "game_round = 0\n",
    "def playGame(p1_cards, p2_cards):\n",
    "    \n",
    "    global game_round\n",
    "    game_round += 1\n",
    "    i = 0\n",
    "    \n",
    "    # update to a sit to clean up search\n",
    "    memory_list_p1 = set()\n",
    "    memory_list_p2 = set()\n",
    "        \n",
    "    while True:\n",
    "        i += 1\n",
    "        \n",
    "        # check for previous round -> passed test case\n",
    "        if tuple(p1_cards) in memory_list_p1 and tuple(p2_cards) in memory_list_p2:\n",
    "            return (p1_cards, p2_cards, 1)\n",
    "        \n",
    "        # add snapshot of cards\n",
    "        memory_list_p1.add(tuple(p1_cards))\n",
    "        memory_list_p2.add(tuple(p2_cards))\n",
    "        #memory_list.append(copy.deepcopy(p1_cards) + copy.deepcopy(p2_cards)) \n",
    "        \n",
    "\n",
    "        # get top cards\n",
    "        top_p1 = p1_cards.pop(0)\n",
    "        top_p2 = p2_cards.pop(0)\n",
    "\n",
    "        # check for recursive combat: \n",
    "        if top_p1 <= len(p1_cards) and top_p2 <= len(p2_cards):\n",
    "            \n",
    "            # we play game and output \n",
    "            p1_copy = p1_cards[:top_p1].copy()\n",
    "            p2_copy = p2_cards[:top_p2].copy()\n",
    "            trash1, trash2, winner = playGame(p1_copy, p2_copy)\n",
    "            \n",
    "            # check if we had a winner from prior game \n",
    "            if winner == 1:\n",
    "                p1_cards.append(top_p1)\n",
    "                p1_cards.append(top_p2) \n",
    "\n",
    "            if winner == 2:\n",
    "                p2_cards.append(top_p2)\n",
    "                p2_cards.append(top_p1) \n",
    "\n",
    "        else:\n",
    "            # update based on top card\n",
    "            if top_p1 > top_p2:\n",
    "                p1_cards.append(top_p1)\n",
    "                p1_cards.append(top_p2)\n",
    "            else:\n",
    "                p2_cards.append(top_p2)\n",
    "                p2_cards.append(top_p1)\n",
    "\n",
    "        # if either player hits 0, break\n",
    "        if len(p1_cards) == 0 or len(p2_cards) == 0:\n",
    "            if len(p1_cards) > 0:\n",
    "                return (p1_cards, p2_cards, 1)\n",
    "            else:\n",
    "                return (p1_cards, p2_cards, 2)"
   ]
  },
  {
   "cell_type": "code",
   "execution_count": 5,
   "metadata": {},
   "outputs": [],
   "source": [
    "p1_cards = copy.deepcopy(player_cards[1])\n",
    "p2_cards = copy.deepcopy(player_cards[2])\n",
    "p1_list, p2_list, winner = playGame(p1_cards, p2_cards)"
   ]
  },
  {
   "cell_type": "code",
   "execution_count": 6,
   "metadata": {},
   "outputs": [
    {
     "name": "stdout",
     "output_type": "stream",
     "text": [
      "33206\n"
     ]
    }
   ],
   "source": [
    "tot = 0\n",
    "for i, val in enumerate(p1_list[::-1]):\n",
    "    tot += val * (i+1)\n",
    "    \n",
    "print(tot)"
   ]
  },
  {
   "cell_type": "markdown",
   "metadata": {},
   "source": [
    "### Issues I had to Resolve Later:\n",
    "\n",
    "- Was able to get proper output for the test case, but knew something was slightly off given how long my code took to run AND given I had two answers, one which was too high and one was too low (difference of about 200 so no use in guessing!)\n",
    "\n",
    "- Issue Resolved Around Storing Memory: \n",
    "    - Thought through it & realized I had been concatenating the p1 & p2 card set each round, which is an issue. \n",
    "    - If p1 had `1,4,5,6` and p2 had `2,7,8,9` then i stored this as: `1,4,5,6,2,7,8,9`\n",
    "    - Problem: This would flag a repeat for the wrong hands:\n",
    "        - p1 had `1,4,5,6,2,7` and p2 had `8,9` got incorrectly flagged\n",
    "        - p2 had `1,4` and p2 had `5,6,2,7,8,9` got incorrectly flagged\n",
    "    - Fix: \n",
    "        - Use sets to be faster in general (need to store list as tuple due to mutability of lists)\n",
    "        - Use two separate types of storage for p1 vs p2 instead of concatenation. \n"
   ]
  }
 ],
 "metadata": {
  "kernelspec": {
   "display_name": "Python 3.8",
   "language": "python",
   "name": "other-env"
  },
  "language_info": {
   "codemirror_mode": {
    "name": "ipython",
    "version": 3
   },
   "file_extension": ".py",
   "mimetype": "text/x-python",
   "name": "python",
   "nbconvert_exporter": "python",
   "pygments_lexer": "ipython3",
   "version": "3.8.5"
  }
 },
 "nbformat": 4,
 "nbformat_minor": 4
}
