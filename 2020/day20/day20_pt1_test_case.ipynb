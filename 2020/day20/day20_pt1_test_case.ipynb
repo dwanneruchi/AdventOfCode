{
 "cells": [
  {
   "cell_type": "markdown",
   "metadata": {},
   "source": [
    "### Day 20 - Part 1:\n",
    "\n",
    "What really matters here? \n",
    "- We don't care about the center, just the border, so that could be stored off? \n",
    "- From there, can iterate through and match stuff together"
   ]
  },
  {
   "cell_type": "code",
   "execution_count": 16,
   "metadata": {},
   "outputs": [],
   "source": [
    "from collections import defaultdict\n",
    "import numpy as np \n",
    "\n",
    "# Read in test data\n",
    "filepath = \"day20_test_data.txt\"\n",
    "with open(filepath) as fh:\n",
    "    lines = [line.strip() for line in fh.readlines()]\n",
    "\n",
    "# default dict that can be appended to\n",
    "temp_dict = defaultdict(list)"
   ]
  },
  {
   "cell_type": "code",
   "execution_count": 17,
   "metadata": {},
   "outputs": [],
   "source": [
    "# Prepare each image\n",
    "for line in lines:\n",
    "    if 'Tile' in line:\n",
    "        img_num = line.split(' ')[1][:-1] # extract image number\n",
    "    elif line == '':\n",
    "        pass # bad input, skip\n",
    "        \n",
    "    else:\n",
    "        temp_dict[img_num].append([sym for sym in line])\n",
    "\n",
    "# Convert each image to a 2-D array & store in final dict\n",
    "image_dict = {}\n",
    "\n",
    "for num, img in temp_dict.items():\n",
    "    \n",
    "    # flatten & rebuild as array \n",
    "    flat_list = [item for sublist in img for item in sublist]\n",
    "    \n",
    "    # rebuild as an array of size row, col\n",
    "    row = len(img) # total rows\n",
    "    col = len(img[0]) # elements in a single row\n",
    "    array = np.array(flat_list)\n",
    "    array.shape = ((row,col))\n",
    "    \n",
    "    # store the important vals: left col, top row, right col, bottom row\n",
    "    left_col = array[:,0]\n",
    "    right_col = array[:,col-1]\n",
    "    top_row = array[0,]\n",
    "    bot_row = array[row-1,]\n",
    "    \n",
    "    # append all into dict\n",
    "    image_dict[num] = [left_col, right_col, top_row, bot_row]"
   ]
  },
  {
   "cell_type": "code",
   "execution_count": 18,
   "metadata": {},
   "outputs": [
    {
     "data": {
      "text/plain": [
       "[array(['.', '#', '#', '#', '#', '#', '.', '.', '#', '.'], dtype='<U1'),\n",
       " array(['.', '.', '.', '#', '.', '#', '#', '.', '.', '#'], dtype='<U1'),\n",
       " array(['.', '.', '#', '#', '.', '#', '.', '.', '#', '.'], dtype='<U1'),\n",
       " array(['.', '.', '#', '#', '#', '.', '.', '#', '#', '#'], dtype='<U1')]"
      ]
     },
     "execution_count": 18,
     "metadata": {},
     "output_type": "execute_result"
    }
   ],
   "source": [
    "image_dict['2311']"
   ]
  },
  {
   "cell_type": "markdown",
   "metadata": {},
   "source": [
    "#### Working test case:\n",
    "\n",
    "- In the test case we know that 1951 connects to 2311 \n",
    "- Specifically, 1951 right col matches to 2311 left col\n",
    "- Each boundary (top, left, right, bot) can be rotated (compare to everything) or flipped (-1 oflist?)\n",
    "    - should only need to flip once....doing twice would jsut replicate a process I think \n",
    "    \n",
    "- **We would then just look for those that are missing two matches....these represent 4 corners**\n",
    "  - I am happy to have considered this!"
   ]
  },
  {
   "cell_type": "code",
   "execution_count": 32,
   "metadata": {},
   "outputs": [
    {
     "name": "stdout",
     "output_type": "stream",
     "text": [
      "['#' '#' '.' '#' '.' '.' '#' '.' '.' '#']\n",
      "['#' '.' '.' '#' '.' '.' '#' '.' '#' '#']\n",
      "Next\n",
      "['.' '#' '#' '#' '#' '#' '.' '.' '#' '.']\n",
      "['.' '#' '.' '.' '#' '#' '#' '#' '#' '.']\n",
      "Next\n",
      "2311 matched a border...\n",
      "['#' '.' '#' '#' '.' '.' '.' '#' '#' '.']\n",
      "['.' '#' '#' '.' '.' '.' '#' '#' '.' '#']\n",
      "Next\n",
      "2729 matched a border...\n",
      "['#' '.' '.' '.' '#' '#' '.' '#' '.' '.']\n",
      "['.' '.' '#' '.' '#' '#' '.' '.' '.' '#']\n",
      "Next\n"
     ]
    }
   ],
   "source": [
    "boundary = {}\n",
    "idx = 0 # [left_col, right_col, top_row, bot_row], flip is add 4\n",
    "for v in image_dict['1951']:\n",
    "    print(v)\n",
    "    print(np.flip(v))\n",
    "    print(\"Next\")\n",
    "    \n",
    "    # iterate through other images - this would count as a rotation\n",
    "    for k,val in image_dict.items():\n",
    "        if k == '1951':\n",
    "            continue\n",
    "        \n",
    "        for border in val:\n",
    "            if np.array_equal(border, v):\n",
    "                print(f\"{k} matched a border...\")\n",
    "                boundary[idx] = k\n",
    "                idx += 1\n",
    "            elif np.array_equal(border, np.flip(v)):\n",
    "                print(f\"{k} matched a border...\")\n",
    "                boundary[idx+4] = k\n",
    "                idx += 1                "
   ]
  },
  {
   "cell_type": "markdown",
   "metadata": {},
   "source": [
    "### Bringing It All Together:\n",
    "\n",
    "- Process above will build out matches\n",
    "- Next step is to iterate through all images & build out a dictionary with their matches\n",
    "- Then identify the 4 corners from those that only have 2 matches "
   ]
  },
  {
   "cell_type": "code",
   "execution_count": 41,
   "metadata": {},
   "outputs": [],
   "source": [
    "boundary_dict = {}\n",
    "\n",
    "for num, bords in image_dict.items():\n",
    "    \n",
    "    boundary_dict[num] = [] # list to store our info\n",
    "    for v in bords:\n",
    "        # iterate through other images - this would count as a rotation\n",
    "        for k,val in image_dict.items():\n",
    "            if k == num:\n",
    "                continue\n",
    "\n",
    "            for border in val:\n",
    "                if np.array_equal(border, v):\n",
    "                    #print(f\"{k} matched a border...\")\n",
    "                    boundary_dict[num].append(k)\n",
    "                    idx += 1\n",
    "                elif np.array_equal(border, np.flip(v)):\n",
    "                    #print(f\"{k} matched a border...\")\n",
    "                    boundary_dict[num].append(k)\n",
    "                    idx += 1\n",
    "                else:\n",
    "                    continue"
   ]
  },
  {
   "cell_type": "code",
   "execution_count": 42,
   "metadata": {},
   "outputs": [
    {
     "data": {
      "text/plain": [
       "{'2311': ['1951', '3079', '1427'],\n",
       " '1951': ['2311', '2729'],\n",
       " '1171': ['1489', '2473'],\n",
       " '1427': ['2729', '2473', '1489', '2311'],\n",
       " '1489': ['2971', '1171', '1427'],\n",
       " '2473': ['1171', '3079', '1427'],\n",
       " '2971': ['1489', '2729'],\n",
       " '2729': ['1427', '2971', '1951'],\n",
       " '3079': ['2311', '2473']}"
      ]
     },
     "execution_count": 42,
     "metadata": {},
     "output_type": "execute_result"
    }
   ],
   "source": [
    "boundary_dict"
   ]
  },
  {
   "cell_type": "code",
   "execution_count": 44,
   "metadata": {},
   "outputs": [
    {
     "name": "stdout",
     "output_type": "stream",
     "text": [
      "1951\n",
      "1171\n",
      "2971\n",
      "3079\n",
      "Product of four corners = 20899048083289\n"
     ]
    }
   ],
   "source": [
    "prod = 1\n",
    "for k,v in boundary_dict.items():\n",
    "    if len(v) == 2:\n",
    "        print(k)\n",
    "        prod *= int(k)\n",
    "        \n",
    "print(f\"Product of four corners = {prod}\")"
   ]
  },
  {
   "cell_type": "code",
   "execution_count": null,
   "metadata": {},
   "outputs": [],
   "source": []
  }
 ],
 "metadata": {
  "kernelspec": {
   "display_name": "Python 3.8",
   "language": "python",
   "name": "other-env"
  },
  "language_info": {
   "codemirror_mode": {
    "name": "ipython",
    "version": 3
   },
   "file_extension": ".py",
   "mimetype": "text/x-python",
   "name": "python",
   "nbconvert_exporter": "python",
   "pygments_lexer": "ipython3",
   "version": "3.8.5"
  }
 },
 "nbformat": 4,
 "nbformat_minor": 4
}
