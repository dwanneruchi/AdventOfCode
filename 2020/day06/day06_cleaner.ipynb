{
 "cells": [
  {
   "cell_type": "markdown",
   "metadata": {},
   "source": [
    "### Day 06 - Part 1: \n",
    "\n",
    "```\n",
    "--- Day 6: Custom Customs ---\n",
    "As your flight approaches the regional airport where you'll switch to a much larger plane, customs declaration forms are distributed to the passengers.\n",
    "\n",
    "The form asks a series of 26 yes-or-no questions marked a through z. All you need to do is identify the questions for which anyone in your group answers \"yes\". Since your group is just you, this doesn't take very long.\n",
    "\n",
    "However, the person sitting next to you seems to be experiencing a language barrier and asks if you can help. For each of the people in their group, you write down the questions for which they answer \"yes\", one per line. For example:\n",
    "\n",
    "abcx\n",
    "abcy\n",
    "abcz\n",
    "In this group, there are 6 questions to which anyone answered \"yes\": a, b, c, x, y, and z. (Duplicate answers to the same question don't count extra; each question counts at most once.)\n",
    "\n",
    "Another group asks for your help, then another, and eventually you've collected answers from every group on the plane (your puzzle input). Each group's answers are separated by a blank line, and within each group, each person's answers are on a single line. For example:\n",
    "\n",
    "abc\n",
    "\n",
    "a\n",
    "b\n",
    "c\n",
    "\n",
    "ab\n",
    "ac\n",
    "\n",
    "a\n",
    "a\n",
    "a\n",
    "a\n",
    "\n",
    "b\n",
    "This list represents answers from five groups:\n",
    "\n",
    "The first group contains one person who answered \"yes\" to 3 questions: a, b, and c.\n",
    "The second group contains three people; combined, they answered \"yes\" to 3 questions: a, b, and c.\n",
    "The third group contains two people; combined, they answered \"yes\" to 3 questions: a, b, and c.\n",
    "The fourth group contains four people; combined, they answered \"yes\" to only 1 question, a.\n",
    "The last group contains one person who answered \"yes\" to only 1 question, b.\n",
    "In this example, the sum of these counts is 3 + 3 + 3 + 1 + 1 = 11.\n",
    "\n",
    "For each group, count the number of questions to which anyone answered \"yes\". What is the sum of those counts?\n",
    "```\n",
    "\n",
    "#### Part 1 Logic: \n",
    "\n",
    "- I am going to combine all strings together, find the distinct characters & add them to a \"yes\" count. This might make sense to do a nested list so I don't accidentally omit one of the \n",
    "\n",
    "#### Part 2 Problem: \n",
    "\n",
    "As you finish the last group's customs declaration, you notice that you misread one word in the instructions:\n",
    "\n",
    "You don't need to identify the questions to which anyone answered \"yes\"; you need to identify the questions to which everyone answered \"yes\"!\n",
    "\n",
    "#### Part 2 Logic: \n",
    "\n",
    "- Need to generate a full string, determine distinct characters, and find the total members in the group (represented by elements in the group list).\n",
    "- Simple logic is to then just iterate across each character & determine if its count in string == total members in group."
   ]
  },
  {
   "cell_type": "code",
   "execution_count": 14,
   "metadata": {},
   "outputs": [],
   "source": [
    "def prepareDate(inputList):\n",
    "    \"\"\"Take in list & output a nested list representing groupings\"\"\"\n",
    "    output_list = []\n",
    "    inner_list = []\n",
    "    for line in inputList:\n",
    "        if line == \"\":\n",
    "            output_list.append(inner_list)\n",
    "            inner_list = []\n",
    "        else:\n",
    "            inner_list.append(line)\n",
    "    return output_list\n",
    "\n",
    "def groupYes(group_list, consensus = False):\n",
    "    \"\"\"Determine total yes in a group based on criteria\"\"\"\n",
    "    full_str = ''.join([person for person in group_list])\n",
    "    if not consensus:\n",
    "        return len(set(full_str))\n",
    "    else:  \n",
    "        return sum([full_str.count(letter) == len(group_list) for letter in set(full_str)])"
   ]
  },
  {
   "cell_type": "code",
   "execution_count": 15,
   "metadata": {},
   "outputs": [
    {
     "name": "stdout",
     "output_type": "stream",
     "text": [
      "Distinct 'Yes': 6742\n",
      "Consensus 'Yes': 3447\n"
     ]
    }
   ],
   "source": [
    "# loop through & solve both problems: \n",
    "yes_count1 = 0\n",
    "yes_count2 = 0\n",
    "\n",
    "# Read in data\n",
    "with open('day06.txt') as fh:\n",
    "    lines = [line.strip() for line in fh.readlines()] # updating based on MF cleaner approach!\n",
    "\n",
    "# MF trick again! Append a blank space at the end so I don't have to double up on handling last group\n",
    "lines.append('')\n",
    "\n",
    "# build out group list\n",
    "group_list = prepareDate(lines)\n",
    "\n",
    "for group in group_list:\n",
    "    yes_count1 += groupYes(group)\n",
    "    yes_count2 += groupYes(group, consensus=True)\n",
    "\n",
    "print(f\"Distinct 'Yes': {yes_count1}\")\n",
    "print(f\"Consensus 'Yes': {yes_count2}\")"
   ]
  }
 ],
 "metadata": {
  "kernelspec": {
   "display_name": "Python 3.8",
   "language": "python",
   "name": "other-env"
  },
  "language_info": {
   "codemirror_mode": {
    "name": "ipython",
    "version": 3
   },
   "file_extension": ".py",
   "mimetype": "text/x-python",
   "name": "python",
   "nbconvert_exporter": "python",
   "pygments_lexer": "ipython3",
   "version": "3.8.5"
  }
 },
 "nbformat": 4,
 "nbformat_minor": 4
}
