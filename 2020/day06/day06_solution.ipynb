{
 "cells": [
  {
   "cell_type": "markdown",
   "metadata": {},
   "source": [
    "### Day 06 - Test Cases"
   ]
  },
  {
   "cell_type": "code",
   "execution_count": null,
   "metadata": {},
   "outputs": [],
   "source": []
  },
  {
   "cell_type": "code",
   "execution_count": 21,
   "metadata": {},
   "outputs": [],
   "source": [
    "# Read in data\n",
    "with open('day06.txt') as fh:\n",
    "    lines = fh.readlines()\n",
    "\n",
    "# strip out\n",
    "text = [line.strip() for line in lines]"
   ]
  },
  {
   "cell_type": "code",
   "execution_count": 23,
   "metadata": {},
   "outputs": [
    {
     "name": "stdout",
     "output_type": "stream",
     "text": [
      "6742\n"
     ]
    }
   ],
   "source": [
    "\n",
    "# loop through & build a set\n",
    "str_val = \"\"\n",
    "yes_count = 0\n",
    "group_count = 1\n",
    "for line in text:\n",
    "    if line == \"\":\n",
    "        # find set, which represents \"yes\" & add to total count\n",
    "        #print(len(set(str_val)))\n",
    "        yes_count += len(set(str_val))\n",
    "        \n",
    "        # reset str_val\n",
    "        str_val = \"\"\n",
    "        \n",
    "        pass\n",
    "    else:\n",
    "        # join to existing \n",
    "        str_val += line\n",
    "        \n",
    "# add final row:\n",
    "yes_count += len(set(str_val))\n",
    "print(yes_count)"
   ]
  },
  {
   "cell_type": "markdown",
   "metadata": {},
   "source": [
    "### Part 2: \n",
    "\n",
    "We now switch to everyone saying yes in a group....bit trickier\n"
   ]
  },
  {
   "cell_type": "code",
   "execution_count": 27,
   "metadata": {},
   "outputs": [],
   "source": [
    "# Read in data\n",
    "with open('day06.txt') as fh:\n",
    "    lines = fh.readlines()\n",
    "\n",
    "# strip out\n",
    "text = [line.strip() for line in lines]"
   ]
  },
  {
   "cell_type": "code",
   "execution_count": 28,
   "metadata": {},
   "outputs": [
    {
     "name": "stdout",
     "output_type": "stream",
     "text": [
      "3447\n"
     ]
    }
   ],
   "source": [
    "\n",
    "# loop through & build a set\n",
    "str_val = \"\"\n",
    "yes_count = 0\n",
    "group_count = 0\n",
    "for line in text:\n",
    "    if line == \"\":\n",
    "        # find set, which represents \"yes\" & add to total count\n",
    "        #print(len(set(str_val)))\n",
    "        unique_c = set(str_val)\n",
    "        for letter in unique_c:\n",
    "            if str_val.count(letter) == group_count:\n",
    "                yes_count += 1\n",
    "        \n",
    "        # reset str_val\n",
    "        str_val = \"\"\n",
    "        group_count = 0\n",
    "        \n",
    "        pass\n",
    "    else:\n",
    "        # join to existing \n",
    "        str_val += line\n",
    "        group_count += 1\n",
    "        \n",
    "# add final row:\n",
    "unique_c = set(str_val)\n",
    "for letter in unique_c:\n",
    "    if str_val.count(letter) == group_count:\n",
    "        yes_count += 1\n",
    "        \n",
    "print(yes_count)"
   ]
  },
  {
   "cell_type": "code",
   "execution_count": null,
   "metadata": {},
   "outputs": [],
   "source": []
  }
 ],
 "metadata": {
  "kernelspec": {
   "display_name": "Python 3.8",
   "language": "python",
   "name": "other-env"
  },
  "language_info": {
   "codemirror_mode": {
    "name": "ipython",
    "version": 3
   },
   "file_extension": ".py",
   "mimetype": "text/x-python",
   "name": "python",
   "nbconvert_exporter": "python",
   "pygments_lexer": "ipython3",
   "version": "3.8.5"
  }
 },
 "nbformat": 4,
 "nbformat_minor": 4
}
