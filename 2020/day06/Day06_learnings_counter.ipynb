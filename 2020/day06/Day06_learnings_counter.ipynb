{
 "cells": [
  {
   "cell_type": "markdown",
   "metadata": {},
   "source": [
    "### Using counter\n",
    "\n",
    "Reference code: https://github.com/mark-ferguson-kroger/aoc-2020/blob/main/aoc6.py\n",
    "\n",
    "Great problem to solve using `Counter` as MF showed. Going to work through some examples for Day 6"
   ]
  },
  {
   "cell_type": "code",
   "execution_count": 1,
   "metadata": {},
   "outputs": [],
   "source": [
    "# Read in data\n",
    "with open('day06.txt') as fh:\n",
    "    lines = [line.strip() for line in fh.readlines()] # updating based on MF cleaner approach\n",
    "\n",
    "lines.append('')"
   ]
  },
  {
   "cell_type": "code",
   "execution_count": 2,
   "metadata": {},
   "outputs": [
    {
     "name": "stdout",
     "output_type": "stream",
     "text": [
      "qzbwqez\n",
      "5\n",
      "Counter({'q': 2, 'z': 2, 'b': 1, 'w': 1, 'e': 1})\n"
     ]
    }
   ],
   "source": [
    "from collections import Counter\n",
    "group = ''\n",
    "nums = []\n",
    "\n",
    "# loop below is going to combine strings until a break is found, marked as ''\n",
    "for line in lines[:2]:\n",
    "    if line == '':\n",
    "        break\n",
    "    else:\n",
    "        group += line\n",
    "        \n",
    "# counter will automatically build out a key of char & a val of count, perfect for this problem \n",
    "print(group)\n",
    "print(len(Counter(group)))\n",
    "print(Counter(group))"
   ]
  },
  {
   "cell_type": "code",
   "execution_count": 3,
   "metadata": {},
   "outputs": [
    {
     "data": {
      "text/plain": [
       "[True, True, False, False, False]"
      ]
     },
     "execution_count": 3,
     "metadata": {},
     "output_type": "execute_result"
    }
   ],
   "source": [
    "# Nice thing with counter is the .items() will return a tuple of key: count\n",
    "# this is easy to use for part 2\n",
    "counter = Counter(group)\n",
    "[x[1] == 2 for x in counter.items()]"
   ]
  },
  {
   "cell_type": "markdown",
   "metadata": {},
   "source": [
    "### Class to handle Group-level Declarations\n",
    "\n",
    "- class will handle data processing as well as both validation steps. "
   ]
  },
  {
   "cell_type": "code",
   "execution_count": 10,
   "metadata": {},
   "outputs": [],
   "source": [
    "class CustomsDeclaration():\n",
    "    def __init__(self, input_list):\n",
    "        self.input_list = input_list\n",
    "        self.groups = []\n",
    "        self.count1 = 0\n",
    "        self.count2 = 0\n",
    "        \n",
    "        # run data prep step\n",
    "        self.prep_step = self.prepareData()\n",
    "        \n",
    "    def prepareData(self):\n",
    "        \"\"\"Take in list & output a nested list representing groupings\"\"\"\n",
    "        inner_list = []\n",
    "        try:\n",
    "            for line in self.input_list:\n",
    "                if line == \"\":\n",
    "                    self.groups.append(inner_list)\n",
    "                    inner_list = []\n",
    "                else:\n",
    "                    inner_list.append(line)\n",
    "            return True\n",
    "        except:\n",
    "            print(\"Something wrong in data step!\")\n",
    "            return False\n",
    "    \n",
    "    def runValidator(self):\n",
    "        \"\"\"Run through both types of validation for each group\"\"\"\n",
    "        for group in self.groups:\n",
    "            temp_counter = self.__buildGroupCounter(group)\n",
    "            members = len(group)\n",
    "            self.distinctValidation(temp_counter)\n",
    "            self.groupValidation(members, temp_counter)\n",
    "        \n",
    "    def distinctValidation(self, counterObj):\n",
    "        \"\"\"Count distinct letters to represent yes\"\"\"\n",
    "        self.count1 += len(counterObj)\n",
    "        \n",
    "    def groupValidation(self, members, counterObj):\n",
    "        \"\"\"Count total members in a group that agree\"\"\"\n",
    "        self.count2 += sum([letter[1] == members for letter in counterObj.items()])\n",
    "    \n",
    "    def __buildGroupCounter(self, group):\n",
    "        \"\"\"Return a single Counter object for a group\"\"\"\n",
    "        return Counter(''.join([person for person in group]))"
   ]
  },
  {
   "cell_type": "code",
   "execution_count": 11,
   "metadata": {},
   "outputs": [
    {
     "name": "stdout",
     "output_type": "stream",
     "text": [
      "<class '__main__.CustomsDeclaration'>\n",
      "Distinct 'Yes': 6742\n",
      "Consensus 'Yes': 3447\n"
     ]
    }
   ],
   "source": [
    "# Read in data\n",
    "with open('day06.txt') as fh:\n",
    "    lines = [line.strip() for line in fh.readlines()] # updating based on MF cleaner approach\n",
    "lines.append('')\n",
    "\n",
    "# Instantiate new Customs object\n",
    "test = CustomsDeclaration(lines)\n",
    "print(type(test))\n",
    "\n",
    "# run validator for both parts of problem\n",
    "test.runValidator()\n",
    "\n",
    "# print results \n",
    "print(f\"Distinct 'Yes': {test.count1}\")\n",
    "print(f\"Consensus 'Yes': {test.count2}\")"
   ]
  },
  {
   "cell_type": "code",
   "execution_count": null,
   "metadata": {},
   "outputs": [],
   "source": []
  }
 ],
 "metadata": {
  "kernelspec": {
   "display_name": "Python 3.8",
   "language": "python",
   "name": "other-env"
  },
  "language_info": {
   "codemirror_mode": {
    "name": "ipython",
    "version": 3
   },
   "file_extension": ".py",
   "mimetype": "text/x-python",
   "name": "python",
   "nbconvert_exporter": "python",
   "pygments_lexer": "ipython3",
   "version": "3.8.5"
  }
 },
 "nbformat": 4,
 "nbformat_minor": 4
}
