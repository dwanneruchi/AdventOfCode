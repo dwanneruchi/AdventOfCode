{
 "cells": [
  {
   "cell_type": "markdown",
   "metadata": {},
   "source": [
    "### Day 14: Part 1"
   ]
  },
  {
   "cell_type": "code",
   "execution_count": 48,
   "metadata": {},
   "outputs": [
    {
     "name": "stdout",
     "output_type": "stream",
     "text": [
      "000000000000000000000000000000001011\n",
      "11\n",
      "36\n",
      "000000000000000000000000000000001011\n",
      "36\n"
     ]
    }
   ],
   "source": [
    "mask = \"XXXXXXXXXXXXXXXXXXXXXXXXXXXXX1XXXX0X\"\n",
    "converted_val = bin(11 + 2**36)\n",
    "print(converted_val[3:])\n",
    "print(int(converted_val[3:], 2))\n",
    "change_val = converted_val[3:]\n",
    "\n",
    "# chekc lengths\n",
    "print(len(change_val))\n",
    "print(change_val)\n",
    "print(len(mask))"
   ]
  },
  {
   "cell_type": "code",
   "execution_count": 51,
   "metadata": {},
   "outputs": [
    {
     "name": "stdout",
     "output_type": "stream",
     "text": [
      "1\n",
      "0\n",
      "73\n"
     ]
    }
   ],
   "source": [
    "new_val = ''\n",
    "for i in range(len(mask)):\n",
    "    if mask[i] != 'X':\n",
    "        print(mask[i])\n",
    "        new_val = new_val + mask[i]\n",
    "    else:\n",
    "        new_val = new_val + change_val[i]\n",
    "print(int(new_val, 2))"
   ]
  },
  {
   "cell_type": "code",
   "execution_count": 54,
   "metadata": {},
   "outputs": [],
   "source": [
    "def bitmask(mask, intVal):\n",
    "    \"\"\"Handle mask & integer, apply mask, and output integer\"\"\"\n",
    "    converted_val = bin(intVal + 2**36)\n",
    "    change_val = converted_val[3:]\n",
    "    new_val = ''\n",
    "    for i in range(len(mask)):\n",
    "        if mask[i] != 'X':\n",
    "            new_val = new_val + mask[i]\n",
    "        else:\n",
    "            new_val = new_val + change_val[i]\n",
    "    return int(new_val, 2)\n",
    "    \n",
    "    "
   ]
  },
  {
   "cell_type": "code",
   "execution_count": 58,
   "metadata": {},
   "outputs": [
    {
     "name": "stdout",
     "output_type": "stream",
     "text": [
      "73\n",
      "101\n",
      "64\n"
     ]
    }
   ],
   "source": [
    "# passes all test cases\n",
    "print(bitmask(mask, 11))\n",
    "print(bitmask(mask, 101))\n",
    "print(bitmask(mask, 0))"
   ]
  },
  {
   "cell_type": "markdown",
   "metadata": {},
   "source": [
    "#### Now to Handle Input: "
   ]
  },
  {
   "cell_type": "code",
   "execution_count": 70,
   "metadata": {},
   "outputs": [
    {
     "name": "stdout",
     "output_type": "stream",
     "text": [
      "8\n",
      "7\n",
      "8\n"
     ]
    }
   ],
   "source": [
    "# path \n",
    "filepath = \"day14_test_data.txt\"\n",
    "with open(filepath) as fh:\n",
    "    lines = [line.strip() for line in fh.readlines()]\n",
    "storage_dict = {}\n",
    "dict_main_key = 0\n",
    "for line in lines:\n",
    "    split_vals = line.split(\" = \")\n",
    "    if split_vals[0] == \"mask\":\n",
    "        dict_main_key += 1\n",
    "        storage_dict[dict_main_key] = {}\n",
    "        storage_dict[dict_main_key]['mask'] = split_vals[1]\n",
    "    else:\n",
    "        key = ''.join([x for x in split_vals[0] if x.isdigit()])\n",
    "        print(key)\n",
    "        storage_dict[dict_main_key][key] = int(split_vals[1])"
   ]
  },
  {
   "cell_type": "code",
   "execution_count": 87,
   "metadata": {},
   "outputs": [],
   "source": [
    "all_mem = {}\n",
    "for key in storage_dict.keys():\n",
    "    for key2 in storage_dict[key]:\n",
    "        if key2 == 'mask':\n",
    "            continue\n",
    "        all_mem[key2] = bitmask(storage_dict[key]['mask'], storage_dict[key][key2])"
   ]
  },
  {
   "cell_type": "code",
   "execution_count": 89,
   "metadata": {},
   "outputs": [
    {
     "name": "stdout",
     "output_type": "stream",
     "text": [
      "14925946402938\n"
     ]
    }
   ],
   "source": [
    "tot = 0\n",
    "for k, v in all_mem.items():\n",
    "    tot +=  v\n",
    "print(tot)"
   ]
  }
 ],
 "metadata": {
  "kernelspec": {
   "display_name": "Python 3.8",
   "language": "python",
   "name": "other-env"
  },
  "language_info": {
   "codemirror_mode": {
    "name": "ipython",
    "version": 3
   },
   "file_extension": ".py",
   "mimetype": "text/x-python",
   "name": "python",
   "nbconvert_exporter": "python",
   "pygments_lexer": "ipython3",
   "version": "3.8.5"
  }
 },
 "nbformat": 4,
 "nbformat_minor": 4
}
