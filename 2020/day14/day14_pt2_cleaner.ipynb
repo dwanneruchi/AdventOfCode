{
 "cells": [
  {
   "cell_type": "markdown",
   "metadata": {},
   "source": [
    "### Day 14: Part 2\n",
    "\n",
    "#### General clean-up:\n",
    "- Some solid tips from Mark Ferguson: https://github.com/mark-ferguson-kroger/aoc-2020/blob/main/aoc14.py\n",
    " - Switching approach to handling the bits -> `format(int(val), '036b')\n",
    " - Considering a shift for handling of expansion of bits\n",
    " "
   ]
  },
  {
   "cell_type": "code",
   "execution_count": 32,
   "metadata": {},
   "outputs": [],
   "source": [
    "from itertools import product\n",
    "import math\n",
    "\n",
    "def buildDict(inputList):\n",
    "    \"\"\"\n",
    "    Expecting an input list of either bit-masks or memory address with values\n",
    "    Parse into a nested dictionary\n",
    "    Each dictionary represents a different mask along with a series of memory addresses.\n",
    "    Return dictionary\n",
    "    \"\"\"\n",
    "    keyCounter = 0\n",
    "    storage_dict = {}\n",
    "    for line in lines:\n",
    "        split_vals = line.split(\" = \")\n",
    "        if split_vals[0] == \"mask\":\n",
    "            keyCounter += 1\n",
    "            storage_dict[keyCounter] = {}\n",
    "            storage_dict[keyCounter]['mask'] = split_vals[1] # store specific bit mask based on key\n",
    "        else:\n",
    "            mem_address = ''.join([dig for dig in split_vals[0] if dig.isdigit()])\n",
    "            storage_dict[keyCounter][mem_address] = int(split_vals[1])\n",
    "            \n",
    "    return storage_dict\n",
    "\n",
    "def expansionFunc(inputstr):\n",
    "    \"\"\"\n",
    "    Count of Fs in input string is N then we will have 2^N bit representations. \n",
    "    Convert bin-36 strings to decimal value representing memory addresses\n",
    "    \"\"\"\n",
    "    floatBits = inputstr.count('F')\n",
    "    expandedBits = [\"\".join(seq) for seq in product(\"01\", repeat=int(floatBits))]\n",
    "    output_list = []\n",
    "    for i in range(len(expandedBits)):\n",
    "        bitVal = ''\n",
    "        idx = 0\n",
    "        for j in range(len(inputstr)):\n",
    "            # if we find a floating bit then pass in next val from expandedBit\n",
    "            if inputstr[j] == 'F':\n",
    "                bitVal = bitVal + expandedBits[i][idx]\n",
    "                idx += 1\n",
    "            else:\n",
    "                bitVal = bitVal + inputstr[j]\n",
    "        output_list.append(int(bitVal,2)) # append decimal form\n",
    "        \n",
    "    return output_list\n",
    "\n",
    "def bitmask2(mask, intVal):\n",
    "    \"\"\"\n",
    "    Apply bitmask to intVal, return modified 36-bit representation\n",
    "    \"\"\"\n",
    "    bitVal = format(intVal, '036b')\n",
    "    outBit = ''\n",
    "    for i in range(len(mask)):\n",
    "        if mask[i] == '1':\n",
    "            outBit = outBit + '1'\n",
    "        elif mask[i] == 'X':\n",
    "            outBit = outBit + 'F' # makes it easier to find floating; flagging\n",
    "        else:\n",
    "            outBit = outBit + bitVal[i]\n",
    "    return outBit"
   ]
  },
  {
   "cell_type": "markdown",
   "metadata": {},
   "source": [
    "### Trying with test inputs first "
   ]
  },
  {
   "cell_type": "code",
   "execution_count": 44,
   "metadata": {},
   "outputs": [
    {
     "name": "stdout",
     "output_type": "stream",
     "text": [
      "Solution is: 208\n"
     ]
    }
   ],
   "source": [
    "# path \n",
    "filepath = \"day14_test_d2.txt\"\n",
    "with open(filepath) as fh:\n",
    "    lines = [line.strip() for line in fh.readlines()]\n",
    "\n",
    "# Build dictionary:\n",
    "maskDict = buildDict(lines)\n",
    "\n",
    "# Iterate Over Masks & Memory Addresses & store output in dictionary \n",
    "all_mem = {}\n",
    "for mask_key in maskDict.keys():\n",
    "    for mem_address in maskDict[mask_key]:\n",
    "        \n",
    "        # pass over mask\n",
    "        if mem_address == 'mask':\n",
    "            continue\n",
    "                    \n",
    "        # generate updated 36-bit floating\n",
    "        floatBit = bitmask2(maskDict[mask_key]['mask'], int(mem_address))\n",
    "        \n",
    "        # build expanded memory locations\n",
    "        memList = expansionFunc(floatBit)\n",
    "        \n",
    "        # store original value in the \n",
    "        for m_add in memList:\n",
    "            all_mem[m_add] = maskDict[mask_key][mem_address]\n",
    "\n",
    "print(f\"Solution is: {sum(all_mem.values())}\")"
   ]
  },
  {
   "cell_type": "markdown",
   "metadata": {},
   "source": [
    "### Now For Real Data"
   ]
  },
  {
   "cell_type": "code",
   "execution_count": 45,
   "metadata": {},
   "outputs": [
    {
     "name": "stdout",
     "output_type": "stream",
     "text": [
      "Solution is: 3706820676200\n"
     ]
    }
   ],
   "source": [
    "# path \n",
    "filepath = \"day14_data.txt\"\n",
    "with open(filepath) as fh:\n",
    "    lines = [line.strip() for line in fh.readlines()]\n",
    "\n",
    "# Build dictionary:\n",
    "maskDict = buildDict(lines)\n",
    "\n",
    "# Iterate Over Masks & Memory Addresses & store output in dictionary \n",
    "all_mem = {}\n",
    "for mask_key in maskDict.keys():\n",
    "    for mem_address in maskDict[mask_key]:\n",
    "        \n",
    "        # pass over mask\n",
    "        if mem_address == 'mask':\n",
    "            continue\n",
    "                    \n",
    "        # generate updated 36-bit floating\n",
    "        floatBit = bitmask2(maskDict[mask_key]['mask'], int(mem_address))\n",
    "        \n",
    "        # build expanded memory locations\n",
    "        memList = expansionFunc(floatBit)\n",
    "        \n",
    "        # store original value in the \n",
    "        for m_add in memList:\n",
    "            all_mem[m_add] = maskDict[mask_key][mem_address]\n",
    "\n",
    "print(f\"Solution is: {sum(all_mem.values())}\")"
   ]
  }
 ],
 "metadata": {
  "kernelspec": {
   "display_name": "Python 3.8",
   "language": "python",
   "name": "other-env"
  },
  "language_info": {
   "codemirror_mode": {
    "name": "ipython",
    "version": 3
   },
   "file_extension": ".py",
   "mimetype": "text/x-python",
   "name": "python",
   "nbconvert_exporter": "python",
   "pygments_lexer": "ipython3",
   "version": "3.8.5"
  }
 },
 "nbformat": 4,
 "nbformat_minor": 4
}
