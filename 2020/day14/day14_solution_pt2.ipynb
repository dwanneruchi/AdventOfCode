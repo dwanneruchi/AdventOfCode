{
 "cells": [
  {
   "cell_type": "markdown",
   "metadata": {},
   "source": [
    "### Day 14: Part 2\n",
    "\n",
    "Changes:\n",
    "- bitmask bit of `0` is now ignored\n",
    "- bitmask bit of `1` still overwrites\n",
    "- bitmask bit of `x` is just going to mean all combinations are possible...."
   ]
  },
  {
   "cell_type": "code",
   "execution_count": 26,
   "metadata": {},
   "outputs": [],
   "source": [
    "def bitmask2(mask, intVal):\n",
    "    \"\"\"\n",
    "    Handle mask & integer, apply mask, and output integer\n",
    "    Build out all possible combinations of floating bits (which can be 1 or 0)\n",
    "    \"\"\"\n",
    "    converted_val = bin(intVal + 2**36)\n",
    "    change_val = converted_val[3:]\n",
    "    print(change_val)\n",
    "    new_val = ''\n",
    "    for i in range(len(mask)):\n",
    "        if mask[i] == '1':\n",
    "            new_val = new_val + '1'\n",
    "        elif mask[i] == 'X':\n",
    "            new_val = new_val + 'F' # makes it easier to find floating\n",
    "        else:\n",
    "            new_val = new_val + change_val[i]\n",
    "    return new_val"
   ]
  },
  {
   "cell_type": "code",
   "execution_count": 27,
   "metadata": {},
   "outputs": [
    {
     "name": "stdout",
     "output_type": "stream",
     "text": [
      "000000000000000000000000000000101010\n"
     ]
    },
    {
     "data": {
      "text/plain": [
       "'000000000000000000000000000000F1101F'"
      ]
     },
     "execution_count": 27,
     "metadata": {},
     "output_type": "execute_result"
    }
   ],
   "source": [
    "# ex 1: \n",
    "mask = \"000000000000000000000000000000X1001X\"\n",
    "integerVal = 100\n",
    "memory_address = 42\n",
    "bitmask2(mask, memory_address)"
   ]
  },
  {
   "cell_type": "code",
   "execution_count": 28,
   "metadata": {},
   "outputs": [
    {
     "name": "stdout",
     "output_type": "stream",
     "text": [
      "000000000000000000000000000000011010\n"
     ]
    },
    {
     "data": {
      "text/plain": [
       "'00000000000000000000000000000001F0FF'"
      ]
     },
     "execution_count": 28,
     "metadata": {},
     "output_type": "execute_result"
    }
   ],
   "source": [
    "# ex 2: \n",
    "mask = \"00000000000000000000000000000000X0XX\"\n",
    "memory_address = 26\n",
    "bitmask2(mask, memory_address)"
   ]
  },
  {
   "cell_type": "markdown",
   "metadata": {},
   "source": [
    "### Now need a clean way to expand out for floating bits"
   ]
  },
  {
   "cell_type": "code",
   "execution_count": 47,
   "metadata": {},
   "outputs": [
    {
     "data": {
      "text/plain": [
       "['000', '001', '010', '011', '100', '101', '110', '111']"
      ]
     },
     "execution_count": 47,
     "metadata": {},
     "output_type": "execute_result"
    }
   ],
   "source": [
    "# Very cool:\n",
    "# https://stackoverflow.com/questions/4928297/all-permutations-of-a-binary-sequence-x-bits-long\n",
    "[\"\".join(seq) for seq in product(\"01\", repeat=3)]"
   ]
  },
  {
   "cell_type": "code",
   "execution_count": 94,
   "metadata": {},
   "outputs": [],
   "source": [
    "from itertools import product\n",
    "import math\n",
    "\n",
    "def expansionFunc(inputstr):\n",
    "    \"\"\"Depending on number of Fs, we will have 2^TOT_F changes\"\"\"\n",
    "    tot_x = inputstr.count('F')\n",
    "    new_adds = [\"\".join(seq) for seq in product(\"01\", repeat=int(tot_x))]\n",
    "    print(new_adds)\n",
    "    # to do: may want to sum these outputs instead of just outputting a list\n",
    "    output_list = []\n",
    "    for i in range(len(new_adds)):\n",
    "        new_val = ''\n",
    "        idx = 0\n",
    "        for j in range(len(inputstr)):\n",
    "            if inputstr[j] == 'F':\n",
    "                new_val = new_val + new_adds[i][idx]\n",
    "                idx += 1\n",
    "            else:\n",
    "                new_val = new_val + inputstr[j]\n",
    "        \n",
    "        # append\n",
    "        output_list.append(new_val)\n",
    "    \n",
    "    return output_list"
   ]
  },
  {
   "cell_type": "code",
   "execution_count": 95,
   "metadata": {},
   "outputs": [
    {
     "name": "stdout",
     "output_type": "stream",
     "text": [
      "['00', '01', '10', '11']\n"
     ]
    },
    {
     "data": {
      "text/plain": [
       "['000000000000000000000000000000011010',\n",
       " '000000000000000000000000000000011011',\n",
       " '000000000000000000000000000000111010',\n",
       " '000000000000000000000000000000111011']"
      ]
     },
     "execution_count": 95,
     "metadata": {},
     "output_type": "execute_result"
    }
   ],
   "source": [
    "# ex 1:\n",
    "expansionFunc(\"000000000000000000000000000000F1101F\")"
   ]
  },
  {
   "cell_type": "code",
   "execution_count": 96,
   "metadata": {},
   "outputs": [
    {
     "name": "stdout",
     "output_type": "stream",
     "text": [
      "['000', '001', '010', '011', '100', '101', '110', '111']\n"
     ]
    },
    {
     "data": {
      "text/plain": [
       "['000000000000000000000000000000010000',\n",
       " '000000000000000000000000000000010001',\n",
       " '000000000000000000000000000000010010',\n",
       " '000000000000000000000000000000010011',\n",
       " '000000000000000000000000000000011000',\n",
       " '000000000000000000000000000000011001',\n",
       " '000000000000000000000000000000011010',\n",
       " '000000000000000000000000000000011011']"
      ]
     },
     "execution_count": 96,
     "metadata": {},
     "output_type": "execute_result"
    }
   ],
   "source": [
    "# ex 2:\n",
    "expansionFunc(\"00000000000000000000000000000001F0FF\")"
   ]
  },
  {
   "cell_type": "code",
   "execution_count": null,
   "metadata": {},
   "outputs": [],
   "source": []
  }
 ],
 "metadata": {
  "kernelspec": {
   "display_name": "Python 3.8",
   "language": "python",
   "name": "other-env"
  },
  "language_info": {
   "codemirror_mode": {
    "name": "ipython",
    "version": 3
   },
   "file_extension": ".py",
   "mimetype": "text/x-python",
   "name": "python",
   "nbconvert_exporter": "python",
   "pygments_lexer": "ipython3",
   "version": "3.8.5"
  }
 },
 "nbformat": 4,
 "nbformat_minor": 4
}
