{
 "cells": [
  {
   "cell_type": "markdown",
   "metadata": {},
   "source": [
    "### Day 08: Boot Code Class"
   ]
  },
  {
   "cell_type": "code",
   "execution_count": 1,
   "metadata": {},
   "outputs": [],
   "source": [
    "# read & clean input data \n",
    "with open('day08_test_data.txt') as fh:\n",
    "    lines = [line.strip() for line in fh.readlines()] "
   ]
  },
  {
   "cell_type": "code",
   "execution_count": 2,
   "metadata": {},
   "outputs": [],
   "source": [
    "class bootCode():\n",
    "    def __init__(self, input_list):\n",
    "        self.input_lines = input_list\n",
    "        \n",
    "        # run data prep step\n",
    "        self.prep_step = self.prepareData()\n",
    "        \n",
    "        # initialize some vars\n",
    "        self.initVars()\n",
    "        \n",
    "    def initVars(self):\n",
    "        \"\"\"These need to be reset each run \"\"\"\n",
    "        self.step = 0\n",
    "        self.accumulator = 0\n",
    "        self.steps_taken = [0] # start at step 0\n",
    "        self.fail_flag = False\n",
    "        \n",
    "    def prepareData(self):\n",
    "        \"\"\"Split into commands & delta. Also builds a change index\"\"\"\n",
    "        self.commands = [x.split(\" \")[0] for x in self.input_lines]\n",
    "        self.deltas = [int(x.split(\" \")[1]) for x in self.input_lines]\n",
    "        self.change_index = [i for i in range(len(self.commands)) if self.commands[i] in [\"jmp\", \"nop\"]]\n",
    "        \n",
    "    def runAccumulator(self):\n",
    "        \"\"\"For loop that runs until a repeat value is hit. Max is length of commands text\"\"\"\n",
    "        self.initVars()\n",
    "        for _ in range(len(self.commands)):\n",
    "            # execution\n",
    "            self.__runCommand()\n",
    "            \n",
    "            # track next step & determine if visited already\n",
    "            if self.step in self.steps_taken:\n",
    "                return self.accumulator\n",
    "\n",
    "            else:\n",
    "                self.steps_taken.append(self.step)\n",
    "                \n",
    "    def randomSwitching(self):\n",
    "        \"\"\"Part 2 of Puzzle: Randomly change an nop or jmp command to make the infinite loop stop \"\"\"\n",
    "        for idx in self.change_index:\n",
    "            \n",
    "            self.initVars()\n",
    "            \n",
    "            while self.step < len(self.commands):\n",
    "                self.__randomizeCommand(idx)\n",
    "\n",
    "                # track next step & determine if visited already\n",
    "                if self.step in self.steps_taken:\n",
    "                    fail_flag = True\n",
    "                    break\n",
    "                else:\n",
    "                    self.steps_taken.append(self.step)\n",
    "                    \n",
    "            if not self.fail_flag and self.step == len(self.commands):\n",
    "                return self.accumulator\n",
    "            \n",
    "        \n",
    "    def __runCommand(self):\n",
    "        \"\"\"Input a command and step, return update step\"\"\"\n",
    "        command = self.commands[self.step]\n",
    "        if command == \"acc\":\n",
    "            self.accumulator += self.deltas[self.step]\n",
    "            self.step += 1\n",
    "        elif command == \"jmp\":\n",
    "            self.step += self.deltas[self.step]\n",
    "        elif command == \"nop\":\n",
    "            self.step += 1\n",
    "\n",
    "    def __randomizeCommand(self, idx):\n",
    "        \"\"\"Input a command and step, return update step\"\"\"\n",
    "        command = self.commands[self.step]\n",
    "        \n",
    "        # mixing it up based on idx\n",
    "        if self.step == idx:\n",
    "            if command == \"jmp\":\n",
    "                command = \"nop\"\n",
    "            else:\n",
    "                command = \"jmp\"\n",
    "                \n",
    "        if command == \"acc\":\n",
    "            self.accumulator += self.deltas[self.step]\n",
    "            self.step += 1\n",
    "        elif command == \"jmp\":\n",
    "            self.step += self.deltas[self.step]\n",
    "        elif command == \"nop\":\n",
    "            self.step += 1"
   ]
  },
  {
   "cell_type": "code",
   "execution_count": 3,
   "metadata": {},
   "outputs": [
    {
     "name": "stdout",
     "output_type": "stream",
     "text": [
      "5\n",
      "8\n"
     ]
    }
   ],
   "source": [
    "# test 1\n",
    "test = bootCode(lines)\n",
    "print(test.runAccumulator())\n",
    "\n",
    "# test part 2\n",
    "print(test.randomSwitching())"
   ]
  },
  {
   "cell_type": "markdown",
   "metadata": {},
   "source": [
    "### Run on Actual Data "
   ]
  },
  {
   "cell_type": "code",
   "execution_count": 4,
   "metadata": {},
   "outputs": [
    {
     "name": "stdout",
     "output_type": "stream",
     "text": [
      "Solution 1: 1915\n",
      "Solution 2: 944\n"
     ]
    }
   ],
   "source": [
    "# read & clean input data \n",
    "with open('day08_data.txt') as fh:\n",
    "    lines = [line.strip() for line in fh.readlines()]\n",
    "\n",
    "# Make a class: \n",
    "pr8 = bootCode(lines)\n",
    "\n",
    "print(f\"Solution 1: {pr8.runAccumulator()}\")\n",
    "print(f\"Solution 2: {pr8.randomSwitching()}\")"
   ]
  }
 ],
 "metadata": {
  "kernelspec": {
   "display_name": "Python 3.8",
   "language": "python",
   "name": "other-env"
  },
  "language_info": {
   "codemirror_mode": {
    "name": "ipython",
    "version": 3
   },
   "file_extension": ".py",
   "mimetype": "text/x-python",
   "name": "python",
   "nbconvert_exporter": "python",
   "pygments_lexer": "ipython3",
   "version": "3.8.5"
  }
 },
 "nbformat": 4,
 "nbformat_minor": 4
}
