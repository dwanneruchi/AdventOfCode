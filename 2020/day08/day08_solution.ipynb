{
 "cells": [
  {
   "cell_type": "markdown",
   "metadata": {},
   "source": [
    "### Day 08: Boot Code"
   ]
  },
  {
   "cell_type": "code",
   "execution_count": 1,
   "metadata": {},
   "outputs": [],
   "source": [
    "\n",
    "# read & clean input data \n",
    "with open('day08_test_data.txt') as fh:\n",
    "    lines = [line.strip() for line in fh.readlines()] \n",
    "    \n",
    "# split into appropriate values\n",
    "clean_commands = [(x.split(\" \")[0], int(x.split(\" \")[1])) for x in lines]"
   ]
  },
  {
   "cell_type": "code",
   "execution_count": 2,
   "metadata": {},
   "outputs": [],
   "source": [
    "accumulator = 0\n",
    "step = 0\n",
    "track_steps = [0]\n",
    "keep = True\n",
    "while keep:\n",
    "    command = clean_commands[step][0]\n",
    "    if command == \"acc\":\n",
    "        accumulator += clean_commands[step][1]\n",
    "        step += 1\n",
    "    elif command == \"jmp\":\n",
    "        step += clean_commands[step][1]\n",
    "    elif command == \"nop\":\n",
    "        step += 1\n",
    "    \n",
    "    # track next step & determine if visited already\n",
    "    if step in track_steps:\n",
    "        print(accumulator)\n",
    "        break\n",
    "        # otherwise move on \n",
    "    track_steps.append(step)\n",
    "    print(track_steps)\n",
    "        \n",
    "    "
   ]
  },
  {
   "cell_type": "markdown",
   "metadata": {},
   "source": [
    "### Real Data"
   ]
  },
  {
   "cell_type": "code",
   "execution_count": 3,
   "metadata": {},
   "outputs": [
    {
     "data": {
      "text/plain": [
       "660"
      ]
     },
     "execution_count": 3,
     "metadata": {},
     "output_type": "execute_result"
    }
   ],
   "source": [
    "# read & clean input data \n",
    "with open('day08_data.txt') as fh:\n",
    "    lines = [line.strip() for line in fh.readlines()] \n",
    "    \n",
    "# split into appropriate values\n",
    "clean_commands = [(x.split(\" \")[0], int(x.split(\" \")[1])) for x in lines]\n",
    "len(clean_commands)"
   ]
  },
  {
   "cell_type": "code",
   "execution_count": 4,
   "metadata": {},
   "outputs": [
    {
     "name": "stdout",
     "output_type": "stream",
     "text": [
      "1915\n"
     ]
    }
   ],
   "source": [
    "accumulator = 0\n",
    "step = 0\n",
    "track_steps = [0]\n",
    "keep = True\n",
    "while keep:\n",
    "    command = clean_commands[step][0]\n",
    "    if command == \"acc\":\n",
    "        accumulator += clean_commands[step][1]\n",
    "        step += 1\n",
    "    elif command == \"jmp\":\n",
    "        step += clean_commands[step][1]\n",
    "    elif command == \"nop\":\n",
    "        step += 1\n",
    "    \n",
    "    # track next step & determine if visited already\n",
    "    if step in track_steps:\n",
    "        print(accumulator)\n",
    "        break\n",
    "        # otherwise move on \n",
    "    track_steps.append(step)"
   ]
  },
  {
   "cell_type": "markdown",
   "metadata": {},
   "source": [
    "### Part 2:\n",
    "\n",
    "- Handling a bug -> how to do this in the non-brute force way given we have 660 input lines...."
   ]
  },
  {
   "cell_type": "code",
   "execution_count": 5,
   "metadata": {},
   "outputs": [],
   "source": [
    "# read & clean input data \n",
    "with open('day08_test_data.txt') as fh:\n",
    "    lines = [line.strip() for line in fh.readlines()] \n",
    "    \n",
    "# split into appropriate values\n",
    "commands = [x.split(\" \")[0] for x in lines]\n",
    "deltas = [int(x.split(\" \")[1]) for x in lines]"
   ]
  },
  {
   "cell_type": "code",
   "execution_count": 6,
   "metadata": {},
   "outputs": [
    {
     "name": "stdout",
     "output_type": "stream",
     "text": [
      "[0, 2, 4, 7]\n"
     ]
    }
   ],
   "source": [
    "# build out possible changes -> only can impact nop or jmp\n",
    "change_index = [i for i in range(len(commands)) if commands[i] in [\"jmp\", \"nop\"]]\n",
    "print(change_index)"
   ]
  },
  {
   "cell_type": "code",
   "execution_count": 7,
   "metadata": {},
   "outputs": [
    {
     "name": "stdout",
     "output_type": "stream",
     "text": [
      "8\n"
     ]
    }
   ],
   "source": [
    "for idx in change_index:\n",
    "    accumulator = 0\n",
    "    step = 0\n",
    "    track_steps = [0]\n",
    "    keep = True\n",
    "    fail_flag = False\n",
    "    \n",
    "    while keep and step < len(commands):\n",
    "        command = commands[step]\n",
    "        if step == idx:\n",
    "            if command == \"jmp\":\n",
    "                command = \"nop\"\n",
    "            else:\n",
    "                command = \"jmp\"\n",
    "        \n",
    "        # proceed\n",
    "        if command == \"acc\":\n",
    "            accumulator += deltas[step]\n",
    "            step += 1\n",
    "        elif command == \"jmp\":\n",
    "            step += deltas[step]\n",
    "        elif command == \"nop\":\n",
    "            step += 1\n",
    "        \n",
    "        # still track next step & determine if visited already\n",
    "        if step in track_steps:\n",
    "            fail_flag = True\n",
    "            break\n",
    "            # otherwise move on \n",
    "        track_steps.append(step)\n",
    "    if not fail_flag:\n",
    "        print(accumulator)\n",
    "        break"
   ]
  },
  {
   "cell_type": "markdown",
   "metadata": {},
   "source": [
    "### Trying on Real Data\n",
    "\n",
    "- By using break on repeated steps and adding a flag I can reduce general runtime"
   ]
  },
  {
   "cell_type": "code",
   "execution_count": 8,
   "metadata": {},
   "outputs": [
    {
     "name": "stdout",
     "output_type": "stream",
     "text": [
      "311\n"
     ]
    }
   ],
   "source": [
    "# read & clean input data \n",
    "with open('day08_data.txt') as fh:\n",
    "    lines = [line.strip() for line in fh.readlines()] \n",
    "    \n",
    "# split into appropriate values\n",
    "commands = [x.split(\" \")[0] for x in lines]\n",
    "deltas = [int(x.split(\" \")[1]) for x in lines]\n",
    "\n",
    "# build out possible changes -> only can impact nop or jmp\n",
    "change_index = [i for i in range(len(commands)) if commands[i] in [\"jmp\", \"nop\"]]\n",
    "print(len(change_index)) # not too many iterations...will take some time "
   ]
  },
  {
   "cell_type": "code",
   "execution_count": 9,
   "metadata": {},
   "outputs": [
    {
     "name": "stdout",
     "output_type": "stream",
     "text": [
      "944\n"
     ]
    }
   ],
   "source": [
    "for idx in change_index:\n",
    "    accumulator = 0\n",
    "    step = 0\n",
    "    track_steps = [0]\n",
    "    keep = True\n",
    "    fail_flag = False\n",
    "    \n",
    "    while keep and step < len(commands):\n",
    "        command = commands[step]\n",
    "        if step == idx:\n",
    "            if command == \"jmp\":\n",
    "                command = \"nop\"\n",
    "            else:\n",
    "                command = \"jmp\"\n",
    "        \n",
    "        # proceed\n",
    "        if command == \"acc\":\n",
    "            accumulator += deltas[step]\n",
    "            step += 1\n",
    "        elif command == \"jmp\":\n",
    "            step += deltas[step]\n",
    "        elif command == \"nop\":\n",
    "            step += 1\n",
    "        \n",
    "        # still track next step & determine if visited already\n",
    "        if step in track_steps:\n",
    "            fail_flag = True\n",
    "            break\n",
    "            # otherwise move on \n",
    "        track_steps.append(step)\n",
    "    if not fail_flag:\n",
    "        print(accumulator)\n",
    "        break"
   ]
  }
 ],
 "metadata": {
  "kernelspec": {
   "display_name": "Python 3.8",
   "language": "python",
   "name": "other-env"
  },
  "language_info": {
   "codemirror_mode": {
    "name": "ipython",
    "version": 3
   },
   "file_extension": ".py",
   "mimetype": "text/x-python",
   "name": "python",
   "nbconvert_exporter": "python",
   "pygments_lexer": "ipython3",
   "version": "3.8.5"
  }
 },
 "nbformat": 4,
 "nbformat_minor": 4
}
