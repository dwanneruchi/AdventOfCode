{
 "cells": [
  {
   "cell_type": "markdown",
   "metadata": {},
   "source": [
    "#### Day 16, Part 1: Test Data\n",
    "\n",
    "This one is a bit confusing, but I believe I just need to check if a ticket in the nearby tickets contains `any value that is not valid across fields`"
   ]
  },
  {
   "cell_type": "code",
   "execution_count": 1,
   "metadata": {},
   "outputs": [],
   "source": [
    "# path - can probably just hard-code as needed\n",
    "filepath = \"day16_test_data.txt\"\n",
    "with open(filepath) as fh:\n",
    "    lines = [line for line in fh.readlines()]"
   ]
  },
  {
   "cell_type": "code",
   "execution_count": 2,
   "metadata": {},
   "outputs": [],
   "source": [
    "rules_list = []\n",
    "\n",
    "for _ in range(len(lines)):\n",
    "    if lines[_] == '\\n':\n",
    "        break\n",
    "    \n",
    "    # build out filters ->\n",
    "    num_vals = lines[_].split(\": \")[1]\n",
    "    cond1, cond2 = num_vals.split(' or ')\n",
    "    \n",
    "    # store off: \n",
    "    rules_list.append([int(v) for v in cond1.split('-')])\n",
    "    rules_list.append([int(v) for v in cond2.split('-')])"
   ]
  },
  {
   "cell_type": "code",
   "execution_count": 3,
   "metadata": {},
   "outputs": [
    {
     "data": {
      "text/plain": [
       "[[1, 3], [5, 7], [6, 11], [33, 44], [13, 40], [45, 50]]"
      ]
     },
     "execution_count": 3,
     "metadata": {},
     "output_type": "execute_result"
    }
   ],
   "source": [
    "rules_list # represents min, max filters"
   ]
  },
  {
   "cell_type": "code",
   "execution_count": 4,
   "metadata": {},
   "outputs": [
    {
     "data": {
      "text/plain": [
       "[[7, 3, 47], [40, 4, 50], [55, 2, 20], [38, 6, 12]]"
      ]
     },
     "execution_count": 4,
     "metadata": {},
     "output_type": "execute_result"
    }
   ],
   "source": [
    "nearby_tickets = []\n",
    "for _ in range(8, len(lines)):\n",
    "    nearby_tickets.append([int(v) for v in lines[_].split(',')])\n",
    "\n",
    "# we now have all tickets\n",
    "nearby_tickets"
   ]
  },
  {
   "cell_type": "code",
   "execution_count": 5,
   "metadata": {},
   "outputs": [
    {
     "name": "stdout",
     "output_type": "stream",
     "text": [
      "Tix 4 is invalid\n",
      "Tix 55 is invalid\n",
      "Tix 12 is invalid\n",
      "71\n"
     ]
    }
   ],
   "source": [
    "# Simply iterate over each option & run through rules: \n",
    "invalid_list = []\n",
    "tot_rules = len(rules_list)\n",
    "for nearby_tix in nearby_tickets:\n",
    "    for tix in nearby_tix:\n",
    "        tix_count = 0\n",
    "        for rule in rules_list:\n",
    "            if tix < rule[0] or tix > rule[1]:\n",
    "                tix_count += 1\n",
    "        if tix_count >= tot_rules:\n",
    "            print(f\"Tix {tix} is invalid\")\n",
    "            invalid_list.append(tix)\n",
    "print(sum(invalid_list))"
   ]
  },
  {
   "cell_type": "markdown",
   "metadata": {},
   "source": [
    "### Actual Data:"
   ]
  },
  {
   "cell_type": "code",
   "execution_count": 6,
   "metadata": {},
   "outputs": [],
   "source": [
    "# path - can probably just hard-code as needed\n",
    "filepath = \"day16_data.txt\"\n",
    "with open(filepath) as fh:\n",
    "    lines = [line for line in fh.readlines()]"
   ]
  },
  {
   "cell_type": "code",
   "execution_count": 7,
   "metadata": {},
   "outputs": [],
   "source": [
    "rules_list = []\n",
    "\n",
    "for _ in range(len(lines)):\n",
    "    if lines[_] == '\\n':\n",
    "        break\n",
    "    \n",
    "    # build out filters ->\n",
    "    num_vals = lines[_].split(\": \")[1]\n",
    "    cond1, cond2 = num_vals.split(' or ')\n",
    "    \n",
    "    # store off: \n",
    "    rules_list.append([int(v) for v in cond1.split('-')])\n",
    "    rules_list.append([int(v) for v in cond2.split('-')])"
   ]
  },
  {
   "cell_type": "code",
   "execution_count": 8,
   "metadata": {},
   "outputs": [],
   "source": [
    "nearby_tickets = []\n",
    "for _ in range(25, len(lines)):\n",
    "    nearby_tickets.append([int(v) for v in lines[_].split(',')])\n"
   ]
  },
  {
   "cell_type": "code",
   "execution_count": 9,
   "metadata": {},
   "outputs": [
    {
     "name": "stdout",
     "output_type": "stream",
     "text": [
      "25961\n"
     ]
    }
   ],
   "source": [
    "# Simply iterate over each option & run through rules: \n",
    "invalid_list = []\n",
    "tot_rules = len(rules_list)\n",
    "for nearby_tix in nearby_tickets:\n",
    "    for tix in nearby_tix:\n",
    "        tix_count = 0\n",
    "        for rule in rules_list:\n",
    "            if tix < rule[0] or tix > rule[1]:\n",
    "                tix_count += 1\n",
    "        if tix_count >= tot_rules:\n",
    "            #print(f\"Tix {tix} is invalid\")\n",
    "            invalid_list.append(tix)\n",
    "print(sum(invalid_list))"
   ]
  }
 ],
 "metadata": {
  "kernelspec": {
   "display_name": "Python 3.8",
   "language": "python",
   "name": "other-env"
  },
  "language_info": {
   "codemirror_mode": {
    "name": "ipython",
    "version": 3
   },
   "file_extension": ".py",
   "mimetype": "text/x-python",
   "name": "python",
   "nbconvert_exporter": "python",
   "pygments_lexer": "ipython3",
   "version": "3.8.5"
  }
 },
 "nbformat": 4,
 "nbformat_minor": 4
}
