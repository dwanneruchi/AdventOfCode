{
 "cells": [
  {
   "cell_type": "markdown",
   "metadata": {},
   "source": [
    "#### Day 16, Part 2: Solving\n",
    "\n",
    "1 am breakthrough!"
   ]
  },
  {
   "cell_type": "code",
   "execution_count": 1,
   "metadata": {},
   "outputs": [],
   "source": [
    "from collections import defaultdict \n",
    "from math import factorial\n",
    "\n",
    "filepath = \"day16_data.txt\"\n",
    "with open(filepath) as fh:\n",
    "    lines = [line for line in fh.readlines()]\n",
    "    \n",
    "# handle rules\n",
    "rules_list = []\n",
    "\n",
    "for _ in range(len(lines)):\n",
    "    if lines[_] == '\\n':\n",
    "        break\n",
    "    \n",
    "    # build out filters ->\n",
    "    num_vals = lines[_].split(\": \")[1]\n",
    "    cond1, cond2 = num_vals.split(' or ')\n",
    "    \n",
    "    # store off: \n",
    "    rules_list.append([int(v) for v in cond1.split('-')])\n",
    "    rules_list.append([int(v) for v in cond2.split('-')])\n",
    "\n",
    "# get nearby passengers\n",
    "nearby_tickets = []\n",
    "for _ in range(25, len(lines)):\n",
    "    nearby_tickets.append([int(v) for v in lines[_].split(',')])"
   ]
  },
  {
   "cell_type": "code",
   "execution_count": 2,
   "metadata": {},
   "outputs": [
    {
     "name": "stdout",
     "output_type": "stream",
     "text": [
      "25961\n",
      "190\n"
     ]
    }
   ],
   "source": [
    "# Simply iterate over each option & run through rules: \n",
    "invalid_list = []\n",
    "valid_list = [] # adding a valid list\n",
    "tot_rules = len(rules_list)\n",
    "\n",
    "for nearby_tix in nearby_tickets:\n",
    "    invalid_flag = False\n",
    "    for tix in nearby_tix:\n",
    "        tix_count = 0\n",
    "        for rule in rules_list:\n",
    "            if tix < rule[0] or tix > rule[1]:\n",
    "                tix_count += 1\n",
    "        if tix_count >= tot_rules:\n",
    "            #print(f\"Tix {tix} is invalid\")\n",
    "            invalid_list.append(tix)\n",
    "            invalid_flag = True\n",
    "    # add any false invalid flags to valid list\n",
    "    if not invalid_flag:\n",
    "        valid_list.append(nearby_tix)\n",
    "            \n",
    "print(sum(invalid_list))\n",
    "print(len(valid_list))"
   ]
  },
  {
   "cell_type": "markdown",
   "metadata": {},
   "source": [
    "#### Permutation Approach Won't Work: \n",
    " - Originally planned to build every possible rule set, and then iterate through until one passed.\n",
    " - 2,432,902,008,176,640,000 total permutations....yikes. "
   ]
  },
  {
   "cell_type": "code",
   "execution_count": 3,
   "metadata": {},
   "outputs": [
    {
     "data": {
      "text/plain": [
       "2.43290200817664e+18"
      ]
     },
     "execution_count": 3,
     "metadata": {},
     "output_type": "execute_result"
    }
   ],
   "source": [
    "factorial(len(valid_list[0])) / factorial(0)"
   ]
  },
  {
   "cell_type": "markdown",
   "metadata": {},
   "source": [
    "#### New Idea: \n",
    "- We only have 190 valid users, which is pretty small. \n",
    "- Instead of handling all permutations, I can just pass in columns for all users over all rules & track how many pass. From there I can whittle down which rules connect to which. \n",
    "- This limits to the problem to be: \n",
    "    - `20 * 20 = 400 combinations of rule-column.`\n",
    "    - `Each run across 190 rows each, pretty easy for Python lists`"
   ]
  },
  {
   "cell_type": "code",
   "execution_count": 4,
   "metadata": {},
   "outputs": [],
   "source": [
    "# clean up rules - storing together as tuples\n",
    "rules_list = list(zip(rules_list[::2], rules_list[1::2])) # package rules up properly"
   ]
  },
  {
   "cell_type": "code",
   "execution_count": 5,
   "metadata": {},
   "outputs": [],
   "source": [
    "# default dict is nice for appending which rules passed\n",
    "rule_dict = defaultdict(list)\n",
    "\n",
    "# lets try over all rules - store eligible cols in dict\n",
    "for i, rule in enumerate(rules_list):\n",
    "    for col in range(len(valid_list[0])):\n",
    "        #print(f\"Testing rule {i} against column {col}\")\n",
    "        RulePass = True\n",
    "        idx = 0\n",
    "        while idx < len(valid_list):\n",
    "            #print(f\"On idx {idx}\")\n",
    "            if (valid_list[idx][col] >= rule[0][0] and valid_list[idx][col] <= rule[0][1]) or (valid_list[idx][col] >= rule[1][0] and valid_list[idx][col] <= rule[1][1]):\n",
    "                idx += 1\n",
    "                continue\n",
    "            else:\n",
    "                #print(f\"Column {col} is not linked to rule {i}\")\n",
    "                RulePass = False\n",
    "                break\n",
    "        if RulePass:\n",
    "            rule_dict[i].append(col)"
   ]
  },
  {
   "cell_type": "code",
   "execution_count": 6,
   "metadata": {},
   "outputs": [
    {
     "name": "stdout",
     "output_type": "stream",
     "text": [
      "8 [9]\n",
      "15 [8, 9]\n",
      "18 [8, 9, 12]\n",
      "14 [4, 8, 9, 12]\n",
      "11 [4, 8, 9, 12, 18]\n",
      "12 [4, 8, 9, 12, 14, 18]\n",
      "16 [4, 8, 9, 11, 12, 14, 18]\n",
      "5 [4, 8, 9, 11, 12, 13, 14, 18]\n",
      "4 [4, 8, 9, 11, 12, 13, 14, 17, 18]\n",
      "2 [1, 4, 8, 9, 11, 12, 13, 14, 17, 18]\n",
      "3 [1, 4, 5, 8, 9, 11, 12, 13, 14, 17, 18]\n",
      "0 [1, 4, 5, 8, 9, 11, 12, 13, 14, 16, 17, 18]\n",
      "1 [1, 2, 4, 5, 8, 9, 11, 12, 13, 14, 16, 17, 18]\n",
      "7 [1, 2, 4, 5, 8, 9, 10, 11, 12, 13, 14, 16, 17, 18]\n",
      "6 [1, 2, 4, 5, 8, 9, 10, 11, 12, 13, 14, 15, 16, 17, 18]\n",
      "10 [1, 2, 4, 5, 6, 8, 9, 10, 11, 12, 13, 14, 15, 16, 17, 18]\n",
      "19 [1, 2, 4, 5, 6, 8, 9, 10, 11, 12, 13, 14, 15, 16, 17, 18, 19]\n",
      "13 [1, 2, 3, 4, 5, 6, 8, 9, 10, 11, 12, 13, 14, 15, 16, 17, 18, 19]\n",
      "9 [1, 2, 3, 4, 5, 6, 7, 8, 9, 10, 11, 12, 13, 14, 15, 16, 17, 18, 19]\n",
      "17 [0, 1, 2, 3, 4, 5, 6, 7, 8, 9, 10, 11, 12, 13, 14, 15, 16, 17, 18, 19]\n"
     ]
    }
   ],
   "source": [
    "# this is cool!\n",
    "for key in sorted(rule_dict, key=lambda x:len(rule_dict[x]), reverse=False):\n",
    "    print(key, rule_dict[key])"
   ]
  },
  {
   "cell_type": "code",
   "execution_count": 7,
   "metadata": {},
   "outputs": [],
   "source": [
    "final_dict = {}\n",
    "\n",
    "# iterate through based on size of list; if a rule already exists, we pass\n",
    "# by the end we will have a distinct dictionary that links each rule to a column\n",
    "for key in sorted(rule_dict, key=lambda x:len(rule_dict[x]), reverse=False):\n",
    "    rule_pass = rule_dict[key]\n",
    "    for rule in rule_pass:\n",
    "        if rule in final_dict.values():\n",
    "            continue\n",
    "        else:\n",
    "            final_dict[key] = rule "
   ]
  },
  {
   "cell_type": "code",
   "execution_count": 8,
   "metadata": {},
   "outputs": [
    {
     "name": "stdout",
     "output_type": "stream",
     "text": [
      "603409823791\n"
     ]
    }
   ],
   "source": [
    "my_ticket = [53,101,83,151,127,131,103,61,73,71,97,89,113,67,149,163,139,59,79,137]\n",
    "prod = 1\n",
    "\n",
    "# only need to find the rules for 0-5 which represent departure\n",
    "for i in range(6):\n",
    "    prod *= my_ticket[final_dict[i]]\n",
    "\n",
    "print(prod)"
   ]
  }
 ],
 "metadata": {
  "kernelspec": {
   "display_name": "Python 3.8",
   "language": "python",
   "name": "other-env"
  },
  "language_info": {
   "codemirror_mode": {
    "name": "ipython",
    "version": 3
   },
   "file_extension": ".py",
   "mimetype": "text/x-python",
   "name": "python",
   "nbconvert_exporter": "python",
   "pygments_lexer": "ipython3",
   "version": "3.8.5"
  }
 },
 "nbformat": 4,
 "nbformat_minor": 4
}
