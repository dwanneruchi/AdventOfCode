{
 "cells": [
  {
   "cell_type": "markdown",
   "metadata": {},
   "source": [
    "#### Day 16, Part 2: Solving\n",
    "\n",
    "Note: Realized about an hour into my solution that I should have checked total permutations across 20 distinct columns...it is a large number. "
   ]
  },
  {
   "cell_type": "code",
   "execution_count": 1,
   "metadata": {},
   "outputs": [],
   "source": [
    "# path - can probably just hard-code as needed\n",
    "filepath = \"day16_data.txt\"\n",
    "with open(filepath) as fh:\n",
    "    lines = [line for line in fh.readlines()]\n",
    "    \n",
    "# handle rules\n",
    "rules_list = []\n",
    "\n",
    "for _ in range(len(lines)):\n",
    "    if lines[_] == '\\n':\n",
    "        break\n",
    "    \n",
    "    # build out filters ->\n",
    "    num_vals = lines[_].split(\": \")[1]\n",
    "    cond1, cond2 = num_vals.split(' or ')\n",
    "    \n",
    "    # store off: \n",
    "    rules_list.append([int(v) for v in cond1.split('-')])\n",
    "    rules_list.append([int(v) for v in cond2.split('-')])\n",
    "\n",
    "# get nearby passengers\n",
    "nearby_tickets = []\n",
    "for _ in range(25, len(lines)):\n",
    "    nearby_tickets.append([int(v) for v in lines[_].split(',')])"
   ]
  },
  {
   "cell_type": "code",
   "execution_count": 7,
   "metadata": {},
   "outputs": [
    {
     "name": "stdout",
     "output_type": "stream",
     "text": [
      "25961\n",
      "190\n"
     ]
    }
   ],
   "source": [
    "# Simply iterate over each option & run through rules: \n",
    "invalid_list = []\n",
    "valid_list = [] # adding a valid list\n",
    "tot_rules = len(rules_list)\n",
    "\n",
    "for nearby_tix in nearby_tickets:\n",
    "    invalid_flag = False\n",
    "    for tix in nearby_tix:\n",
    "        tix_count = 0\n",
    "        for rule in rules_list:\n",
    "            if tix < rule[0] or tix > rule[1]:\n",
    "                tix_count += 1\n",
    "        if tix_count >= tot_rules:\n",
    "            #print(f\"Tix {tix} is invalid\")\n",
    "            invalid_list.append(tix)\n",
    "            invalid_flag = True\n",
    "    # add any false invalid flags to valid list\n",
    "    if not invalid_flag:\n",
    "        valid_list.append(nearby_tix)\n",
    "            \n",
    "print(sum(invalid_list))\n",
    "print(len(valid_list))"
   ]
  },
  {
   "cell_type": "code",
   "execution_count": 13,
   "metadata": {},
   "outputs": [
    {
     "data": {
      "text/plain": [
       "20"
      ]
     },
     "execution_count": 13,
     "metadata": {},
     "output_type": "execute_result"
    }
   ],
   "source": [
    "len(valid_list[0])"
   ]
  },
  {
   "cell_type": "markdown",
   "metadata": {},
   "source": [
    "#### Permutation Approach Won't Work: \n",
    " - 2,432,902,008,176,640,000 total permutations....yikes. \n",
    " - A problem for future David to work on!"
   ]
  },
  {
   "cell_type": "code",
   "execution_count": 17,
   "metadata": {},
   "outputs": [
    {
     "data": {
      "text/plain": [
       "2.43290200817664e+18"
      ]
     },
     "execution_count": 17,
     "metadata": {},
     "output_type": "execute_result"
    }
   ],
   "source": [
    "from math import factorial\n",
    "factorial(len(valid_list[0])) / factorial(0)"
   ]
  }
 ],
 "metadata": {
  "kernelspec": {
   "display_name": "Python 3.8",
   "language": "python",
   "name": "other-env"
  },
  "language_info": {
   "codemirror_mode": {
    "name": "ipython",
    "version": 3
   },
   "file_extension": ".py",
   "mimetype": "text/x-python",
   "name": "python",
   "nbconvert_exporter": "python",
   "pygments_lexer": "ipython3",
   "version": "3.8.5"
  }
 },
 "nbformat": 4,
 "nbformat_minor": 4
}
