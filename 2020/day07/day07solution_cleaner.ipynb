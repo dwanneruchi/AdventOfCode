{
 "cells": [
  {
   "cell_type": "markdown",
   "metadata": {},
   "source": [
    "### Part 1:\n",
    "\n",
    "- Wrote a function to iterate through each backpack, and once in a backpack, iterate through backpacks that can be contained in said backpack (good recursion problem)"
   ]
  },
  {
   "cell_type": "code",
   "execution_count": 1,
   "metadata": {},
   "outputs": [],
   "source": [
    "def recursionGold(d, k):\n",
    "    \"\"\"Iterate over values in key, adding colors to a main list representing bags that can be\n",
    "    stored in outer bag (k)\n",
    "    \"\"\"\n",
    "    colors = list(d[k].keys())\n",
    "    \n",
    "    # iterate over each value of colors\n",
    "    for c,v in d[k].items():\n",
    "        if c in d.keys():\n",
    "            colors = colors + recursionGold(d, c)\n",
    "        else:\n",
    "            pass\n",
    "    return colors"
   ]
  },
  {
   "cell_type": "markdown",
   "metadata": {},
   "source": [
    "### Part 2\n",
    "- The prompt now requests summing up total backpacks able to fit in gold.\n",
    "\n",
    "- The recursion process here is probably easier as a graph (or a tree?) but I thought about it like this:\n",
    " - Let's say Gold holds 3 blue, 5 black and 7 brown. \n",
    " - Say blue holds nothing, black holds 1 blue, and brown holds 5 Black. \n",
    " - To solve this we could branch out as follows off gold:\n",
    "     - Gold:\n",
    "         - 3 Blue  (This is 3 total bags)\n",
    "         - 5 Black: (This is 10 total bags, 5 * (1+1)\n",
    "             - 1 Blue\n",
    "         - 7 Brown: (This is 77 total bags -> 7 * Black + 7 -> 77\n",
    "             - 5 Black\n",
    "                 - 1 Blue\n",
    "                 \n",
    "      - The total here is: \n",
    "          - 1 G + 3 Blue + (5 Black * (1  + 1 Blue) + (7 Brown * (1 + 5 Blacks * (1 + 1 Blue))\n",
    "\n",
    "#### Generating Recursive Function: \n",
    "\n",
    "- The general function we need is something like this:\n",
    "    - Take `count of bag` `*` `(1+ inner bag count)`, except it needs a recursive function here to traverse all bags."
   ]
  },
  {
   "cell_type": "code",
   "execution_count": 2,
   "metadata": {},
   "outputs": [],
   "source": [
    "def recursionSum(d, k):\n",
    "    \"\"\"Iterate over values in key, recursively adding bags\"\"\"\n",
    "    count = 0\n",
    "    \n",
    "    # iterate over each value of colors\n",
    "    for c,v in d[k].items():\n",
    "        if c in d.keys():\n",
    "            count = count + v * (1 + recursionSum(d, c))\n",
    "        else:\n",
    "            pass\n",
    "    return count"
   ]
  },
  {
   "cell_type": "markdown",
   "metadata": {},
   "source": [
    "#### Getting Data Handled\n",
    "\n",
    "- This is all quite ugly. "
   ]
  },
  {
   "cell_type": "code",
   "execution_count": null,
   "metadata": {},
   "outputs": [],
   "source": []
  },
  {
   "cell_type": "code",
   "execution_count": 3,
   "metadata": {},
   "outputs": [],
   "source": [
    "import re\n",
    "\n",
    "# read & clean input data \n",
    "with open('day07.txt') as fh:\n",
    "    lines = [line.strip() for line in fh.readlines()] # updating based on MF cleaner approach\n",
    "    \n",
    "# building a dictionary with all initial words up to \"bags\"\n",
    "bag_rules = {}\n",
    "\n",
    "# iterate over each rule & store in dictionary \n",
    "for rule in lines:\n",
    "    \n",
    "    # storage\n",
    "    final_list = []\n",
    "    val_list = []\n",
    "    key_list = []\n",
    "    \n",
    "    # splitting out the key\n",
    "    key = rule.split(\" bags\")[0]\n",
    "    \n",
    "    # splitting out the string of inner bags\n",
    "    innerBags = rule.split(\"contain \")[1]\n",
    "    innerBags = re.sub(r'[^\\w\\s]','',innerBags) # removing punctuation\n",
    "    innerBags = innerBags.split(\" \") # splitting components into a list\n",
    "\n",
    "    # Messy handling of list elements\n",
    "    for word in innerBags:\n",
    "        if word in [\"bags\", \"bag\", \"no\", \"other\"]: # nice pattern where we remove these\n",
    "            continue\n",
    "        elif word.isdigit(): \n",
    "            val_list.append(int(word)) # this is going to represent the count of the bags\n",
    "        else:\n",
    "            final_list.append(word) # this is going to represent the colors\n",
    "\n",
    "    # Generating keys as every-other term joined (vibrant, green, plaid, yellow) -> (vibrant green, plaid yellow): \n",
    "    \n",
    "    for i in range(0, len(final_list) -1, 2):\n",
    "        val = ' '.join(final_list[i:i+2])\n",
    "        key_list.append(val)\n",
    "    \n",
    "    # generate dictionary with key list & val list\n",
    "    child_dict = dict(zip(key_list, val_list))\n",
    "    \n",
    "    # add to dict\n",
    "    bag_rules[key] = child_dict\n",
    "    "
   ]
  },
  {
   "cell_type": "code",
   "execution_count": 4,
   "metadata": {},
   "outputs": [
    {
     "name": "stdout",
     "output_type": "stream",
     "text": [
      "Answer to Part 1: 316\n",
      "Answer to Part 2: 11310\n"
     ]
    }
   ],
   "source": [
    "# part 1: \n",
    "interest = 'shiny gold'\n",
    "tot = 0\n",
    "for k in bag_rules.keys():\n",
    "    outlist = recursionGold(bag_rules,k) # outputs all colors that can exist in a \"outer bag\"\n",
    "    sub_colors = set([x for x in outlist if x]) # taking set of actual elements (thus the \"if x term\")\n",
    "    if interest in sub_colors: # checking if shiny gold appears in sub colors (bags buried within \"outer bag\")\n",
    "        tot += 1\n",
    "        \n",
    "print(f\"Answer to Part 1: {tot}\")\n",
    "print(f\"Answer to Part 2: {recursionSum(bag_rules, 'shiny gold')}\")"
   ]
  }
 ],
 "metadata": {
  "kernelspec": {
   "display_name": "Python 3.8",
   "language": "python",
   "name": "other-env"
  },
  "language_info": {
   "codemirror_mode": {
    "name": "ipython",
    "version": 3
   },
   "file_extension": ".py",
   "mimetype": "text/x-python",
   "name": "python",
   "nbconvert_exporter": "python",
   "pygments_lexer": "ipython3",
   "version": "3.8.5"
  }
 },
 "nbformat": 4,
 "nbformat_minor": 4
}
