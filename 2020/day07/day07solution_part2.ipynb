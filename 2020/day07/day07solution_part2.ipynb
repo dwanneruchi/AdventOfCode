{
 "cells": [
  {
   "cell_type": "markdown",
   "metadata": {},
   "source": [
    "#### Part 1 Reminder:\n",
    "\n",
    "- The part 1 code was a mess, but came down to be a loop with the following function for recursion"
   ]
  },
  {
   "cell_type": "code",
   "execution_count": 36,
   "metadata": {},
   "outputs": [],
   "source": [
    "test_dict = {'lr': {'bw':1, 'my':2}, \n",
    "             'dor' : {'bw':3, 'my':4}, \n",
    "             'bw': {'sg':1}, \n",
    "             'my': {'sg':2, 'fb':9},\n",
    "             'sg': {'do':1, 'vp':2}, # add 'zz' to ensure we don't fail if a bag didn't serve as a key\n",
    "             'do': {'fb':3, 'db':4},\n",
    "             'vp': {'fb':5, 'db':6},\n",
    "             'fb': {},\n",
    "             'db': {}\n",
    "            }"
   ]
  },
  {
   "cell_type": "code",
   "execution_count": 37,
   "metadata": {},
   "outputs": [],
   "source": [
    "def recursionGold(d, k):\n",
    "    \"\"\"Iterate over values in key, adding colors to a main color list (recursion fun)\"\"\"\n",
    "    colors = list(d[k])\n",
    "    \n",
    "    # iterate over each value of colors\n",
    "    for c,v in d[k].items():\n",
    "        if c in d.keys():\n",
    "            colors = colors + recursion(d, c)\n",
    "        else:\n",
    "            pass\n",
    "    return colors"
   ]
  },
  {
   "cell_type": "code",
   "execution_count": 38,
   "metadata": {},
   "outputs": [
    {
     "data": {
      "text/plain": [
       "['do', 'vp', 'fb', 'db', 'fb', 'db']"
      ]
     },
     "execution_count": 38,
     "metadata": {},
     "output_type": "execute_result"
    }
   ],
   "source": [
    "recursionGold(test_dict, 'sg')"
   ]
  },
  {
   "cell_type": "markdown",
   "metadata": {},
   "source": [
    "### Modify for Part 2\n",
    "\n",
    "- now just need to constantly update a count term off of the child. "
   ]
  },
  {
   "cell_type": "code",
   "execution_count": 39,
   "metadata": {},
   "outputs": [],
   "source": [
    "def recursionSum(d, k):\n",
    "    \"\"\"Iterate over values in key, adding counts)\"\"\"\n",
    "    count = 0\n",
    "    \n",
    "    # iterate over each value of colors\n",
    "    for c,v in d[k].items():\n",
    "        if c in d.keys():\n",
    "            count = count + v * (1 + recursionSum(d, c))\n",
    "        else:\n",
    "            pass\n",
    "    return count"
   ]
  },
  {
   "cell_type": "code",
   "execution_count": 40,
   "metadata": {},
   "outputs": [
    {
     "data": {
      "text/plain": [
       "32"
      ]
     },
     "execution_count": 40,
     "metadata": {},
     "output_type": "execute_result"
    }
   ],
   "source": [
    "recursionSum(test_dict, 'sg')"
   ]
  },
  {
   "cell_type": "code",
   "execution_count": 41,
   "metadata": {},
   "outputs": [],
   "source": [
    "test_dict2 = {'sg': {'dr':2}, \n",
    "             'dr' : {'do':2}, \n",
    "             'do': {'dy':2}, \n",
    "             'dy': {'dg':2},\n",
    "             'dg': {'db':2},\n",
    "             'db': {'dv':2},\n",
    "             'dv': {}\n",
    "            }"
   ]
  },
  {
   "cell_type": "code",
   "execution_count": 42,
   "metadata": {},
   "outputs": [
    {
     "data": {
      "text/plain": [
       "126"
      ]
     },
     "execution_count": 42,
     "metadata": {},
     "output_type": "execute_result"
    }
   ],
   "source": [
    "recursionSum(test_dict2, 'sg')"
   ]
  },
  {
   "cell_type": "markdown",
   "metadata": {},
   "source": [
    "#### Getting Data Handled\n",
    "\n",
    "- need to clean up, but here I am storing child colors & amount as a dictionary"
   ]
  },
  {
   "cell_type": "code",
   "execution_count": 45,
   "metadata": {},
   "outputs": [],
   "source": [
    "import re\n",
    "\n",
    "# read & clean input data \n",
    "with open('day07.txt') as fh:\n",
    "    lines = [line.strip() for line in fh.readlines()] # updating based on MF cleaner approach"
   ]
  },
  {
   "cell_type": "code",
   "execution_count": 46,
   "metadata": {},
   "outputs": [],
   "source": [
    "# building a dictionary with all initial words up to \"bags\"\n",
    "bag_rules = {}\n",
    "\n",
    "# iterate over & store values. if string contains \"shiny gold\" add 1, otherwise move \n",
    "for rule in lines:\n",
    "    key = rule.split(\" bags\")[0]\n",
    "    options = rule.split(\"contain \")[1]\n",
    "    test = re.sub(r'[^\\w\\s]','',options)\n",
    "    split_vals = test.split(\" \")\n",
    "    final_list = []\n",
    "    val_list = []\n",
    "    for word in split_vals:\n",
    "        if word in [\"bags\", \"bag\", \"no\", \"other\"]:\n",
    "            continue\n",
    "        elif word.isdigit():\n",
    "            val_list.append(int(word))\n",
    "        else:\n",
    "            final_list.append(word)\n",
    "\n",
    "    # now just pull it all together: \n",
    "    key_list = []\n",
    "    for i in range(0, len(final_list) -1, 2):\n",
    "        val = ' '.join(final_list[i:i+2])\n",
    "        key_list.append(val)\n",
    "    \n",
    "    # generate dictionary with key list & val list (should be ordered? I hope)\n",
    "    child_dict = dict(zip(key_list, val_list))\n",
    "    \n",
    "    # add to dict\n",
    "    bag_rules[key] = child_dict\n",
    "    "
   ]
  },
  {
   "cell_type": "code",
   "execution_count": 47,
   "metadata": {},
   "outputs": [
    {
     "data": {
      "text/plain": [
       "11310"
      ]
     },
     "execution_count": 47,
     "metadata": {},
     "output_type": "execute_result"
    }
   ],
   "source": [
    "recursionSum(bag_rules, 'shiny gold')"
   ]
  },
  {
   "cell_type": "code",
   "execution_count": null,
   "metadata": {},
   "outputs": [],
   "source": []
  }
 ],
 "metadata": {
  "kernelspec": {
   "display_name": "Python 3.8",
   "language": "python",
   "name": "other-env"
  },
  "language_info": {
   "codemirror_mode": {
    "name": "ipython",
    "version": 3
   },
   "file_extension": ".py",
   "mimetype": "text/x-python",
   "name": "python",
   "nbconvert_exporter": "python",
   "pygments_lexer": "ipython3",
   "version": "3.8.5"
  }
 },
 "nbformat": 4,
 "nbformat_minor": 4
}
