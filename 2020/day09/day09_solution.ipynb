{
 "cells": [
  {
   "cell_type": "markdown",
   "metadata": {},
   "source": [
    "### Day 9: Part 1\n",
    "\n",
    "#### Test Cases "
   ]
  },
  {
   "cell_type": "code",
   "execution_count": 1,
   "metadata": {},
   "outputs": [
    {
     "name": "stdout",
     "output_type": "stream",
     "text": [
      "[35, 20, 15, 25, 47, 40, 62, 55, 65, 95, 102, 117, 150, 182, 127, 219, 299, 277, 309, 576]\n"
     ]
    }
   ],
   "source": [
    "# read & clean input data \n",
    "with open('day09_test_data.txt') as fh:\n",
    "    lines = [line.strip() for line in fh.readlines()]\n",
    "\n",
    "# sample\n",
    "sample_list = [int(x) for x in lines]\n",
    "print(sample_list)"
   ]
  },
  {
   "cell_type": "code",
   "execution_count": 2,
   "metadata": {},
   "outputs": [
    {
     "name": "stdout",
     "output_type": "stream",
     "text": [
      "Failed\n",
      "127\n"
     ]
    }
   ],
   "source": [
    "# for test case, 5 is our param; starting index will be prev_num\n",
    "prev_num = 5\n",
    "\n",
    "for i in range(prev_num, len(sample_list)):\n",
    "    val_int = sample_list[i]\n",
    "    found = False\n",
    "    # look back at the prior prev_num values in list\n",
    "    sub_list = sample_list[i-prev_num:i]\n",
    "    \n",
    "    # confirm value is sum of 2 vals in sub_list\n",
    "    for i in sub_list:\n",
    "        for j in sub_list:\n",
    "            if i == j:\n",
    "                continue\n",
    "            elif (i+j) == val_int:\n",
    "        \n",
    "                found = True\n",
    "            else:\n",
    "                continue\n",
    "    \n",
    "    # check if we didnt find it\n",
    "    if not found:\n",
    "        print(\"Failed\")\n",
    "        print(val_int)\n",
    "        break\n",
    "            \n",
    "        \n",
    "\n"
   ]
  },
  {
   "cell_type": "markdown",
   "metadata": {},
   "source": [
    "### Actual Part 1"
   ]
  },
  {
   "cell_type": "code",
   "execution_count": 3,
   "metadata": {},
   "outputs": [
    {
     "name": "stdout",
     "output_type": "stream",
     "text": [
      "Failed\n",
      "88311122\n"
     ]
    }
   ],
   "source": [
    "# read & clean input data \n",
    "with open('day09_data.txt') as fh:\n",
    "    lines = [line.strip() for line in fh.readlines()]\n",
    "\n",
    "# sample\n",
    "sample_list = [int(x) for x in lines]\n",
    "\n",
    "# for actual we up to 25 - going to take long...\n",
    "prev_num = 25\n",
    "\n",
    "for i in range(prev_num, len(sample_list)):\n",
    "    val_int = sample_list[i]\n",
    "    found = False\n",
    "    # look back at the prior prev_num values in list\n",
    "    sub_list = sample_list[i-prev_num:i]\n",
    "    \n",
    "    # confirm value is sum of 2 vals in sub_list\n",
    "    for i in sub_list:\n",
    "        for j in sub_list:\n",
    "            if i == j:\n",
    "                continue\n",
    "            elif (i+j) == val_int:\n",
    "        \n",
    "                found = True\n",
    "            else:\n",
    "                continue\n",
    "    \n",
    "    # check if we didnt find it\n",
    "    if not found:\n",
    "        print(\"Failed\")\n",
    "        print(val_int)\n",
    "        break"
   ]
  },
  {
   "cell_type": "markdown",
   "metadata": {},
   "source": [
    "\n",
    "### Part 2: Test Case - Contiguous Set\n",
    "\n",
    "- brute-force: need to iterate through each combination, but once sums exceed fail_num, move to the next"
   ]
  },
  {
   "cell_type": "code",
   "execution_count": 4,
   "metadata": {},
   "outputs": [
    {
     "name": "stdout",
     "output_type": "stream",
     "text": [
      "Found it\n",
      "Index: [1, 2, 3, 4]\n",
      "Min val: 15\n",
      "Max val: 47\n",
      "Encryption Weakness: 62\n"
     ]
    }
   ],
   "source": [
    "fail_num = 127\n",
    "end_flag =False\n",
    "# read & clean input data \n",
    "with open('day09_test_data.txt') as fh:\n",
    "    lines = [line.strip() for line in fh.readlines()]\n",
    "\n",
    "# sample\n",
    "sample_list = [int(x) for x in lines]\n",
    "\n",
    "for i, val in enumerate(sample_list):\n",
    "    j = i\n",
    "    temp_list = []\n",
    "    \n",
    "    while val <= fail_num:\n",
    "        # add the next value\n",
    "        val += sample_list[j]\n",
    "        \n",
    "        # append index\n",
    "        temp_list.append(j)\n",
    "        \n",
    "        # check if we equal fail\n",
    "        if val == fail_num:\n",
    "            print(\"Found it\")\n",
    "            print(f\"Index: {temp_list}\")\n",
    "            end_flag = True\n",
    "            break\n",
    "        \n",
    "        # increment\n",
    "        j += 1\n",
    "    \n",
    "    # outside while\n",
    "    if end_flag:\n",
    "        break\n",
    "    \n",
    "        \n",
    "# subset list: \n",
    "final_list = [sample_list[x] for x in temp_list]\n",
    "final_list.sort()\n",
    "print(f\"Min val: {final_list[0]}\")\n",
    "print(f\"Max val: {final_list[-1]}\")\n",
    "print(f\"Encryption Weakness: {final_list[0] + final_list[-1]}\")"
   ]
  },
  {
   "cell_type": "code",
   "execution_count": 5,
   "metadata": {},
   "outputs": [
    {
     "name": "stdout",
     "output_type": "stream",
     "text": [
      "Found it\n",
      "Index: [446, 447, 448, 449, 450, 451, 452, 453, 454, 455, 456, 457, 458, 459, 460, 461]\n",
      "Min val: 3698072\n",
      "Max val: 9851297\n",
      "Encryption Weakness: 13549369\n"
     ]
    }
   ],
   "source": [
    "fail_num = 88311122\n",
    "end_flag =False\n",
    "# read & clean input data \n",
    "with open('day09_data.txt') as fh:\n",
    "    lines = [line.strip() for line in fh.readlines()]\n",
    "\n",
    "# sample\n",
    "sample_list = [int(x) for x in lines]\n",
    "\n",
    "temp_sum = 0\n",
    "for i, val in enumerate(sample_list):\n",
    "    j = i + 1\n",
    "    temp_list = []\n",
    "    \n",
    "    while val <= fail_num:\n",
    "        # add the next value\n",
    "        val += sample_list[j]\n",
    "        \n",
    "        # append index\n",
    "        temp_list.append(j)\n",
    "        \n",
    "        # check if we equal fail\n",
    "        if val == fail_num:\n",
    "            print(\"Found it\")\n",
    "            print(f\"Index: {temp_list}\")\n",
    "            end_flag = True\n",
    "            break\n",
    "        \n",
    "        # increment\n",
    "        j += 1\n",
    "    \n",
    "    # outside while\n",
    "    if end_flag:\n",
    "        break\n",
    "    \n",
    "        \n",
    "# subset list: \n",
    "final_list = [sample_list[x] for x in temp_list]\n",
    "final_list.sort()\n",
    "print(f\"Min val: {final_list[0]}\")\n",
    "print(f\"Max val: {final_list[-1]}\")\n",
    "print(f\"Encryption Weakness: {final_list[0] + final_list[-1]}\")"
   ]
  }
 ],
 "metadata": {
  "kernelspec": {
   "display_name": "Python 3.8",
   "language": "python",
   "name": "other-env"
  },
  "language_info": {
   "codemirror_mode": {
    "name": "ipython",
    "version": 3
   },
   "file_extension": ".py",
   "mimetype": "text/x-python",
   "name": "python",
   "nbconvert_exporter": "python",
   "pygments_lexer": "ipython3",
   "version": "3.8.5"
  }
 },
 "nbformat": 4,
 "nbformat_minor": 4
}
