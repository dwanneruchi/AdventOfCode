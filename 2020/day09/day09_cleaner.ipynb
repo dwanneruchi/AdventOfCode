{
 "cells": [
  {
   "cell_type": "markdown",
   "metadata": {},
   "source": [
    "### Day 9: Clean-up\n",
    "\n",
    "Good feedback from Mark F! Implementing for cleaner approach. \n",
    "\n",
    "#### Test Cases "
   ]
  },
  {
   "cell_type": "code",
   "execution_count": 1,
   "metadata": {},
   "outputs": [],
   "source": [
    "from itertools import combinations\n",
    "\n",
    "# read data \n",
    "with open('day09_data.txt') as fh:\n",
    "    lines = [int(line.strip()) for line in fh.readlines()]"
   ]
  },
  {
   "cell_type": "code",
   "execution_count": 2,
   "metadata": {},
   "outputs": [],
   "source": [
    "def checkSum(listChunk, nextVal):\n",
    "    \"\"\"Pass in a chunk of prior n items & return boolean if any sum to nextVal\"\"\"\n",
    "    for x,y in combinations(listChunk, 2):\n",
    "        if x+y == nextVal:\n",
    "            return True\n",
    "    return False\n",
    "\n",
    "def Contiguous():\n",
    "    \"\"\"\"\"\"\n",
    "    return \"Not started\"\n",
    "    "
   ]
  },
  {
   "cell_type": "code",
   "execution_count": 4,
   "metadata": {},
   "outputs": [
    {
     "name": "stdout",
     "output_type": "stream",
     "text": [
      "Answer to Part 1: 88311122\n"
     ]
    }
   ],
   "source": [
    "prev_num = 25\n",
    "\n",
    "# Step through each element\n",
    "for i in range(prev_num, len(lines)):\n",
    "    \n",
    "    # check if upcoming val existed in prior prev_num\n",
    "    found = checkSum(lines[i-prev_num:i], lines[i])\n",
    "    \n",
    "    # If we didn't find a pair that summed, then print value\n",
    "    if not found:\n",
    "        print(f\"Answer to Part 1: {lines[i]}\")\n",
    "        break"
   ]
  }
 ],
 "metadata": {
  "kernelspec": {
   "display_name": "Python 3.8",
   "language": "python",
   "name": "other-env"
  },
  "language_info": {
   "codemirror_mode": {
    "name": "ipython",
    "version": 3
   },
   "file_extension": ".py",
   "mimetype": "text/x-python",
   "name": "python",
   "nbconvert_exporter": "python",
   "pygments_lexer": "ipython3",
   "version": "3.8.5"
  }
 },
 "nbformat": 4,
 "nbformat_minor": 4
}
