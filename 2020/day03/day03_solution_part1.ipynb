{
 "cells": [
  {
   "cell_type": "markdown",
   "metadata": {},
   "source": [
    "### Part A: Test Case\n",
    "\n",
    "- start with the test case\n",
    "\n",
    "- yet again, got tripped up a bit by NOT handling input properly. Needed to strip the text for test case to get it to work, applied further on. "
   ]
  },
  {
   "cell_type": "code",
   "execution_count": 1,
   "metadata": {},
   "outputs": [
    {
     "name": "stdout",
     "output_type": "stream",
     "text": [
      "Total records: 11\n"
     ]
    }
   ],
   "source": [
    "# empty list\n",
    "data = []\n",
    "\n",
    "with open('day03_test.txt') as f:\n",
    "    for line in f:\n",
    "        data.append(line.strip())\n",
    "\n",
    "print(f\"Total records: {len(data)}\")"
   ]
  },
  {
   "cell_type": "code",
   "execution_count": 2,
   "metadata": {},
   "outputs": [],
   "source": [
    "def traversalFunc(start, lower_line):\n",
    "    \"\"\"Move across 3 and down 1 from start\"\"\"\n",
    "    # modulo allows us to account for when we step beyond the last index \n",
    "    end = (start + 3) % len(lower_line)\n",
    "    \n",
    "    # increment over 3 and down 1 (handled by passing lower line)\n",
    "    symbol = lower_line[end]\n",
    "    \n",
    "    \n",
    "    return end, symbol"
   ]
  },
  {
   "cell_type": "code",
   "execution_count": 3,
   "metadata": {},
   "outputs": [
    {
     "name": "stdout",
     "output_type": "stream",
     "text": [
      "Total trees: 7\n"
     ]
    }
   ],
   "source": [
    "i = 0\n",
    "start = 0\n",
    "count = 0\n",
    "\n",
    "while i < (len(data)-1):\n",
    "    \n",
    "    start, symbol = traversalFunc(start, data[i + 1])\n",
    "    #print(start)\n",
    "    #print(symbol)\n",
    "    if symbol == \"#\":\n",
    "        count += 1\n",
    "    i+= 1\n",
    "    \n",
    "print(f\"Total trees: {count}\")\n",
    "    "
   ]
  },
  {
   "cell_type": "markdown",
   "metadata": {},
   "source": [
    "### Part A: Actual"
   ]
  },
  {
   "cell_type": "code",
   "execution_count": 4,
   "metadata": {},
   "outputs": [
    {
     "name": "stdout",
     "output_type": "stream",
     "text": [
      "Total records: 323\n"
     ]
    }
   ],
   "source": [
    "# empty list\n",
    "data = []\n",
    "\n",
    "with open('day03.txt') as f:\n",
    "    for line in f:\n",
    "        data.append(line.replace(\"\\n\", \"\"))\n",
    "\n",
    "print(f\"Total records: {len(data)}\")"
   ]
  },
  {
   "cell_type": "code",
   "execution_count": 5,
   "metadata": {},
   "outputs": [
    {
     "name": "stdout",
     "output_type": "stream",
     "text": [
      "Total trees: 259\n",
      "Lines traversed: 322\n"
     ]
    }
   ],
   "source": [
    "i = 0\n",
    "start = 0\n",
    "count = 0\n",
    "\n",
    "while i < (len(data)-1):\n",
    "    \n",
    "    start, symbol = traversalFunc(start, data[i + 1])\n",
    "    \n",
    "    if symbol == \"#\":\n",
    "        count += 1\n",
    "    i+= 1\n",
    "    \n",
    "print(f\"Total trees: {count}\")\n",
    "print(f\"Lines traversed: {i}\")"
   ]
  }
 ],
 "metadata": {
  "kernelspec": {
   "display_name": "Python 3.8",
   "language": "python",
   "name": "other-env"
  },
  "language_info": {
   "codemirror_mode": {
    "name": "ipython",
    "version": 3
   },
   "file_extension": ".py",
   "mimetype": "text/x-python",
   "name": "python",
   "nbconvert_exporter": "python",
   "pygments_lexer": "ipython3",
   "version": "3.8.5"
  }
 },
 "nbformat": 4,
 "nbformat_minor": 4
}
