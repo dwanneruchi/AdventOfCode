{
 "cells": [
  {
   "cell_type": "markdown",
   "metadata": {},
   "source": [
    "### Part B: Test Case\n",
    "\n",
    "- start with the test case"
   ]
  },
  {
   "cell_type": "code",
   "execution_count": 1,
   "metadata": {},
   "outputs": [
    {
     "name": "stdout",
     "output_type": "stream",
     "text": [
      "Total records: 11\n"
     ]
    }
   ],
   "source": [
    "# empty list\n",
    "data = []\n",
    "\n",
    "with open('day03_test.txt') as f:\n",
    "    for line in f:\n",
    "        data.append(line.strip())\n",
    "\n",
    "print(f\"Total records: {len(data)}\")"
   ]
  },
  {
   "cell_type": "code",
   "execution_count": 2,
   "metadata": {},
   "outputs": [],
   "source": [
    "def traversalFunc(start, lower_line, right = 3):\n",
    "    \"\"\"Move across right amount from start\"\"\"\n",
    "    \n",
    "    # modulo allows us to account for when we step beyond the last index \n",
    "    # Updated to handle varying direction for moving to the right \n",
    "    end = (start + right) % len(lower_line)\n",
    "    \n",
    "    # find symbol\n",
    "    symbol = lower_line[end]\n",
    "    \n",
    "    return end, symbol"
   ]
  },
  {
   "cell_type": "code",
   "execution_count": 3,
   "metadata": {},
   "outputs": [
    {
     "name": "stdout",
     "output_type": "stream",
     "text": [
      "Total trees: 2\n",
      "Total trees: 7\n",
      "Total trees: 3\n",
      "Total trees: 4\n",
      "Total trees: 2\n"
     ]
    }
   ],
   "source": [
    "# new directions provided\n",
    "directions = [(1,1), (3,1), (5,1), (7,1), (1,2)]\n",
    "\n",
    "# iterate over each direction type \n",
    "# we now need to update our downward row based on the direction provided \n",
    "for el in directions:\n",
    "    right = el[0]\n",
    "    down = el[1]\n",
    "    i = 0\n",
    "    start = 0\n",
    "    count = 0\n",
    "\n",
    "    while i < (len(data)-1):\n",
    "\n",
    "        start, symbol = traversalFunc(start, data[i + down], right)\n",
    "\n",
    "        if symbol == \"#\":\n",
    "            count += 1\n",
    "        i+= down\n",
    "\n",
    "    print(f\"Total trees: {count}\")"
   ]
  },
  {
   "cell_type": "markdown",
   "metadata": {},
   "source": [
    "### Part B: Actual"
   ]
  },
  {
   "cell_type": "code",
   "execution_count": 4,
   "metadata": {},
   "outputs": [
    {
     "name": "stdout",
     "output_type": "stream",
     "text": [
      "Total records: 323\n"
     ]
    }
   ],
   "source": [
    "# empty list\n",
    "data = []\n",
    "\n",
    "with open('day03.txt') as f:\n",
    "    for line in f:\n",
    "        data.append(line.replace(\"\\n\", \"\"))\n",
    "\n",
    "print(f\"Total records: {len(data)}\")"
   ]
  },
  {
   "cell_type": "code",
   "execution_count": 5,
   "metadata": {},
   "outputs": [
    {
     "name": "stdout",
     "output_type": "stream",
     "text": [
      "Total trees: 64\n",
      "Total trees: 259\n",
      "Total trees: 65\n",
      "Total trees: 59\n",
      "Total trees: 35\n"
     ]
    }
   ],
   "source": [
    "# new directions provided\n",
    "directions = [(1,1), (3,1), (5,1), (7,1), (1,2)]\n",
    "tree_list = []\n",
    "\n",
    "# iterate over each direction type \n",
    "for el in directions:\n",
    "    right = el[0]\n",
    "    down = el[1]\n",
    "    i = 0\n",
    "    start = 0\n",
    "    count = 0\n",
    "\n",
    "    while i < (len(data)-1):\n",
    "\n",
    "        start, symbol = traversalFunc(start, data[i + down], right)\n",
    "\n",
    "        if symbol == \"#\":\n",
    "            count += 1\n",
    "        i+= down\n",
    "\n",
    "    print(f\"Total trees: {count}\")\n",
    "    tree_list.append(count)"
   ]
  },
  {
   "cell_type": "code",
   "execution_count": 6,
   "metadata": {},
   "outputs": [
    {
     "data": {
      "text/plain": [
       "2224913600"
      ]
     },
     "execution_count": 6,
     "metadata": {},
     "output_type": "execute_result"
    }
   ],
   "source": [
    "from functools import reduce\n",
    "\n",
    "# reduce takes a function and a list as an argument, then performs operation over pairs of list\n",
    "# credit: https://www.geeksforgeeks.org/python-multiply-numbers-list-3-different-ways/\n",
    "reduce((lambda x, y: x * y), tree_list)"
   ]
  }
 ],
 "metadata": {
  "kernelspec": {
   "display_name": "Python 3.8",
   "language": "python",
   "name": "other-env"
  },
  "language_info": {
   "codemirror_mode": {
    "name": "ipython",
    "version": 3
   },
   "file_extension": ".py",
   "mimetype": "text/x-python",
   "name": "python",
   "nbconvert_exporter": "python",
   "pygments_lexer": "ipython3",
   "version": "3.8.5"
  }
 },
 "nbformat": 4,
 "nbformat_minor": 4
}
