{
 "cells": [
  {
   "cell_type": "markdown",
   "metadata": {},
   "source": [
    "### Data\n",
    "\n",
    "Don't forget to strip off that \"\\n\""
   ]
  },
  {
   "cell_type": "code",
   "execution_count": 1,
   "metadata": {},
   "outputs": [
    {
     "name": "stdout",
     "output_type": "stream",
     "text": [
      "Total records: 323\n"
     ]
    }
   ],
   "source": [
    "from functools import reduce\n",
    "\n",
    "# empty list\n",
    "data = []\n",
    "\n",
    "with open('day03.txt') as f:\n",
    "    for line in f:\n",
    "        data.append(line.replace(\"\\n\", \"\"))\n",
    "\n",
    "print(f\"Total records: {len(data)}\")"
   ]
  },
  {
   "cell_type": "markdown",
   "metadata": {},
   "source": [
    "### Slightly Modifying Approach for Cleaner Solve\n",
    "\n",
    "Pretty unecessary to have these functions, but helped me think through the problems. \n"
   ]
  },
  {
   "cell_type": "code",
   "execution_count": 2,
   "metadata": {},
   "outputs": [],
   "source": [
    "def traversalCol(start, right, list_len):\n",
    "    \"\"\"Move across right amount from start; row handling done elsewhere\"\"\"\n",
    "    return (start + right) % list_len"
   ]
  },
  {
   "cell_type": "code",
   "execution_count": 3,
   "metadata": {},
   "outputs": [],
   "source": [
    "def traversalRow(start, down):\n",
    "    \"Move down based on down shift\"\n",
    "    return start + down"
   ]
  },
  {
   "cell_type": "markdown",
   "metadata": {},
   "source": [
    "### Solve"
   ]
  },
  {
   "cell_type": "code",
   "execution_count": 4,
   "metadata": {},
   "outputs": [
    {
     "name": "stdout",
     "output_type": "stream",
     "text": [
      "Part 1 Answer: 259\n",
      "Part 2 Answer: 2224913600\n"
     ]
    }
   ],
   "source": [
    "# new directions provided\n",
    "directions = [(1,1), (3,1), (5,1), (7,1), (1,2)]\n",
    "tree_list = []\n",
    "\n",
    "# iterate over each direction type \n",
    "for slopes in directions:\n",
    "\n",
    "    # params for run\n",
    "    col = 0\n",
    "    row = 0\n",
    "    count = 0\n",
    "\n",
    "    while row < (len(data)-1):\n",
    "\n",
    "        col = traversalCol(col, slopes[0], len(data[0]))\n",
    "        row = traversalRow(row, slopes[1])\n",
    "        \n",
    "        # check for tree\n",
    "        if data[row][col] == \"#\":\n",
    "            count += 1\n",
    "            \n",
    "    # add to list\n",
    "    tree_list.append(count)\n",
    "\n",
    "# print solutions:\n",
    "print(f\"Part 1 Answer: {tree_list[1]}\")\n",
    "print(f\"Part 2 Answer: {reduce((lambda x, y: x * y), tree_list)}\")"
   ]
  }
 ],
 "metadata": {
  "kernelspec": {
   "display_name": "Python 3.8",
   "language": "python",
   "name": "other-env"
  },
  "language_info": {
   "codemirror_mode": {
    "name": "ipython",
    "version": 3
   },
   "file_extension": ".py",
   "mimetype": "text/x-python",
   "name": "python",
   "nbconvert_exporter": "python",
   "pygments_lexer": "ipython3",
   "version": "3.8.5"
  }
 },
 "nbformat": 4,
 "nbformat_minor": 4
}
