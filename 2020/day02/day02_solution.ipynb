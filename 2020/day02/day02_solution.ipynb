{
 "cells": [
  {
   "cell_type": "code",
   "execution_count": 1,
   "metadata": {},
   "outputs": [],
   "source": [
    "# test case - maybe store key-val backwards\n",
    "test_dict = {'a: abcde': '1-3',\n",
    "             'b: cdefg': '1-3',\n",
    "             'c: ccccccccc': '2-9'\n",
    "            }\n",
    "\n",
    "# counter\n",
    "good = 0"
   ]
  },
  {
   "cell_type": "code",
   "execution_count": 2,
   "metadata": {},
   "outputs": [
    {
     "name": "stdout",
     "output_type": "stream",
     "text": [
      "a: abcde\n",
      "1-3\n",
      "1\n",
      "3\n",
      "1\n",
      "Good password!\n",
      "b: cdefg\n",
      "1-3\n",
      "c: ccccccccc\n",
      "2-9\n",
      "2\n",
      "9\n",
      "9\n",
      "Good password!\n"
     ]
    }
   ],
   "source": [
    "for policy, bounds in test_dict.items():\n",
    "    print(policy)\n",
    "    print(bounds)\n",
    "    \n",
    "    # determine lower bound\n",
    "    l_bound = int(bounds.split(\"-\")[0])\n",
    "    u_bound = int(bounds.split(\"-\")[1])\n",
    "    \n",
    "    # split policy with password \n",
    "    letter = policy.split(\":\")[0]\n",
    "    pwd = policy.split(\":\")[1].strip() # remove spaces\n",
    "\n",
    "    # we now have all we need, so determine count of letter in pwd and if we are in bounds\n",
    "    # can use count method off string \n",
    "    letter_count = pwd.count(letter)\n",
    "    \n",
    "    if letter_count >= l_bound and letter_count <= u_bound:\n",
    "        good += 1\n",
    "        print(l_bound)\n",
    "        print(u_bound)\n",
    "        print(letter_count)\n",
    "        print(\"Good password!\")\n"
   ]
  },
  {
   "cell_type": "markdown",
   "metadata": {},
   "source": [
    "### Part 1\n",
    "\n",
    "Fun learning - there are duplicated passwords in here....gotta rethink!"
   ]
  },
  {
   "cell_type": "code",
   "execution_count": 4,
   "metadata": {},
   "outputs": [
    {
     "name": "stdout",
     "output_type": "stream",
     "text": [
      "Total records: 1000\n"
     ]
    }
   ],
   "source": [
    "# empty list\n",
    "data = {}\n",
    "i = 0\n",
    "with open('day2.txt') as f:\n",
    "    for line in f:\n",
    "        key, val = line.split(\":\")\n",
    "        data[i] = {key: val}\n",
    "        i += 1\n",
    "\n",
    "print(f\"Total records: {len(data)}\")"
   ]
  },
  {
   "cell_type": "code",
   "execution_count": 5,
   "metadata": {},
   "outputs": [
    {
     "name": "stdout",
     "output_type": "stream",
     "text": [
      "469\n"
     ]
    }
   ],
   "source": [
    "#sloppy approach\n",
    "\n",
    "# counter\n",
    "good = 0\n",
    "\n",
    "for _, info in data.items():\n",
    "    for policy, pwd in info.items():\n",
    "\n",
    "        # determine bounds\n",
    "        bounds = policy.split(\" \")[0]\n",
    "        letter = policy.split(\" \")[1].lower()\n",
    "        l_bound = bounds.split(\"-\")[0]\n",
    "        u_bound = bounds.split(\"-\")[1]\n",
    "        pwd = pwd.strip().lower() # remove spaces\n",
    "\n",
    "        # we now have all we need, so determine count of letter in pwd and if we are in bounds\n",
    "        letter_count = pwd.count(letter)\n",
    "\n",
    "        if letter_count >= int(l_bound) and letter_count <= int(u_bound):\n",
    "            good += 1\n",
    "\n",
    "# print good passwords\n",
    "print(good)"
   ]
  },
  {
   "cell_type": "markdown",
   "metadata": {},
   "source": [
    "### Part 2: Yikes, that was ugly. \n",
    "\n",
    "But, moving on from there..."
   ]
  },
  {
   "cell_type": "code",
   "execution_count": 6,
   "metadata": {},
   "outputs": [
    {
     "name": "stdout",
     "output_type": "stream",
     "text": [
      "a: abcde\n",
      "1-3\n",
      "Good password!\n",
      "b: cdefg\n",
      "1-3\n",
      "Bad Password\n",
      "c: ccccccccc\n",
      "2-9\n",
      "Bad Password\n"
     ]
    }
   ],
   "source": [
    "# test case \n",
    "for policy, bounds in test_dict.items():\n",
    "    \n",
    "    print(policy)\n",
    "    print(bounds)\n",
    "    \n",
    "    # determine indices(don't forget to subtract 1 for starting at 0th index in string)\n",
    "    idx1 = int(bounds.split(\"-\")[0]) - 1\n",
    "    idx2 = int(bounds.split(\"-\")[1]) - 1\n",
    "    \n",
    "    # split policy with password \n",
    "    letter = policy.split(\":\")[0]\n",
    "    pwd = policy.split(\":\")[1].strip() # remove spaces\n",
    "\n",
    "    # need to adjust our process\n",
    "    # True == 1 in Python, so we will only count a good password as that where sum of val1 & val2 is 1\n",
    "    val1 = (pwd[idx1] == letter) \n",
    "    val2 = (pwd[idx2] == letter) \n",
    "    \n",
    "    if (val1+val2) == 1:\n",
    "        print(\"Good password!\")\n",
    "    \n",
    "    else:\n",
    "        print(\"Bad Password\")"
   ]
  },
  {
   "cell_type": "code",
   "execution_count": null,
   "metadata": {},
   "outputs": [],
   "source": [
    "#sloppy approach\n",
    "\n",
    "# counter\n",
    "good = 0\n",
    "\n",
    "for _, info in data.items():\n",
    "    for policy, pwd in info.items():\n",
    "\n",
    "        # determine bounds\n",
    "        bounds = policy.split(\" \")[0]\n",
    "        letter = policy.split(\" \")[1].lower()\n",
    "        \n",
    "        # determine indices(don't forget to subtract 1 for starting at 0th index in string)\n",
    "        idx1 = int(bounds.split(\"-\")[0]) - 1\n",
    "        idx2 = int(bounds.split(\"-\")[1]) - 1\n",
    "        pwd = pwd.strip().lower() # remove spaces\n",
    "\n",
    "        # need to adjust our process\n",
    "        # True == 1 in Python, so we will only count a good password as that where sum of val1 & val2 is 1\n",
    "        val1 = (pwd[idx1] == letter) \n",
    "        val2 = (pwd[idx2] == letter) \n",
    "\n",
    "        if (val1+val2) == 1:\n",
    "            good += 1\n",
    "\n",
    "# print good passwords\n",
    "print(good)"
   ]
  }
 ],
 "metadata": {
  "kernelspec": {
   "display_name": "Python 3.8",
   "language": "python",
   "name": "other-env"
  },
  "language_info": {
   "codemirror_mode": {
    "name": "ipython",
    "version": 3
   },
   "file_extension": ".py",
   "mimetype": "text/x-python",
   "name": "python",
   "nbconvert_exporter": "python",
   "pygments_lexer": "ipython3",
   "version": "3.8.5"
  }
 },
 "nbformat": 4,
 "nbformat_minor": 4
}
