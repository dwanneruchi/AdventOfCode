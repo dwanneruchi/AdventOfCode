{
 "cells": [
  {
   "cell_type": "markdown",
   "metadata": {},
   "source": [
    "### Part 1\n",
    "\n",
    "Makes more sense to store in a list, then parse each line later"
   ]
  },
  {
   "cell_type": "code",
   "execution_count": 5,
   "metadata": {},
   "outputs": [
    {
     "name": "stdout",
     "output_type": "stream",
     "text": [
      "Total records: 1000\n"
     ]
    }
   ],
   "source": [
    "# empty list\n",
    "data = []\n",
    "\n",
    "with open('day2.txt') as f:\n",
    "    for line in f:\n",
    "        data.append(line)\n",
    "\n",
    "print(f\"Total records: {len(data)}\")"
   ]
  },
  {
   "cell_type": "code",
   "execution_count": 6,
   "metadata": {},
   "outputs": [
    {
     "data": {
      "text/plain": [
       "'9-10 m: mmmmnxmmmwm\\n'"
      ]
     },
     "execution_count": 6,
     "metadata": {},
     "output_type": "execute_result"
    }
   ],
   "source": [
    "data[0]"
   ]
  },
  {
   "cell_type": "code",
   "execution_count": 19,
   "metadata": {},
   "outputs": [],
   "source": [
    "def parserFunc(line):\n",
    "    \"\"\"Read in line & breakdown to appropriate values\"\"\"\n",
    "    \n",
    "    # build bounds \n",
    "    bounds = line.split(\" \")[0]\n",
    "    lb = int(bounds.split(\"-\")[0])\n",
    "    ub = int(bounds.split(\"-\")[1])\n",
    "    \n",
    "    # other junk - treat as a single string\n",
    "    junk = line.split(\" \", 1)[1]\n",
    "    \n",
    "    # build letter\n",
    "    letter = junk.split(\":\")[0]\n",
    "    \n",
    "    # find password\n",
    "    pwd = junk.split(\":\")[1].strip().lower()\n",
    "    \n",
    "    \n",
    "    return lb, ub, letter, pwd"
   ]
  },
  {
   "cell_type": "code",
   "execution_count": 20,
   "metadata": {},
   "outputs": [
    {
     "data": {
      "text/plain": [
       "(9, 10, 'm', 'mmmmnxmmmwm')"
      ]
     },
     "execution_count": 20,
     "metadata": {},
     "output_type": "execute_result"
    }
   ],
   "source": [
    "# looks good \n",
    "parserFunc(data[0])"
   ]
  },
  {
   "cell_type": "code",
   "execution_count": 21,
   "metadata": {},
   "outputs": [
    {
     "name": "stdout",
     "output_type": "stream",
     "text": [
      "469\n"
     ]
    }
   ],
   "source": [
    "# counter\n",
    "good = 0\n",
    "\n",
    "for singleLine in data:\n",
    "    \n",
    "    # run parser func\n",
    "    lb, ub, letter, pwd = parserFunc(singleLine)\n",
    "    \n",
    "    # find count\n",
    "    letter_count = pwd.count(letter)\n",
    "\n",
    "    # run logic \n",
    "    if letter_count >= lb and letter_count <= ub:\n",
    "        good += 1\n",
    "\n",
    "# print good passwords\n",
    "print(good)"
   ]
  },
  {
   "cell_type": "markdown",
   "metadata": {},
   "source": [
    "### Part 2: \n",
    "\n",
    "Can use same function, but the lower bound & upper bound will need to be modified for indices."
   ]
  },
  {
   "cell_type": "code",
   "execution_count": 22,
   "metadata": {},
   "outputs": [
    {
     "name": "stdout",
     "output_type": "stream",
     "text": [
      "267\n"
     ]
    }
   ],
   "source": [
    "# counter\n",
    "good = 0\n",
    "\n",
    "for singleLine in data:\n",
    "    \n",
    "    # run parser func\n",
    "    lb, ub, letter, pwd = parserFunc(singleLine)\n",
    "    \n",
    "    # find idxs\n",
    "    idx1 = lb - 1\n",
    "    idx2 = ub - 1\n",
    "\n",
    "    # New LogicL:\n",
    "    # True == 1 in Python, so we will only count a good password as that where sum of val1 & val2 is 1\n",
    "    val1 = (pwd[idx1] == letter) \n",
    "    val2 = (pwd[idx2] == letter) \n",
    "\n",
    "    if (val1+val2) == 1:\n",
    "        good += 1\n",
    "\n",
    "# print good passwords\n",
    "print(good)"
   ]
  }
 ],
 "metadata": {
  "kernelspec": {
   "display_name": "Python 3.8",
   "language": "python",
   "name": "other-env"
  },
  "language_info": {
   "codemirror_mode": {
    "name": "ipython",
    "version": 3
   },
   "file_extension": ".py",
   "mimetype": "text/x-python",
   "name": "python",
   "nbconvert_exporter": "python",
   "pygments_lexer": "ipython3",
   "version": "3.8.5"
  }
 },
 "nbformat": 4,
 "nbformat_minor": 4
}
