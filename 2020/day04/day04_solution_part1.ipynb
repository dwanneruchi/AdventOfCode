{
 "cells": [
  {
   "cell_type": "markdown",
   "metadata": {},
   "source": [
    "### Day 4: Test Case\n",
    "\n",
    "- need to append parts of list until a '' is met"
   ]
  },
  {
   "cell_type": "code",
   "execution_count": 5,
   "metadata": {},
   "outputs": [
    {
     "data": {
      "text/plain": [
       "['ecl:gry pid:860033327 eyr:2020 hcl:#fffffd',\n",
       " 'byr:1937 iyr:2017 cid:147 hgt:183cm',\n",
       " '',\n",
       " 'iyr:2013 ecl:amb cid:350 eyr:2023 pid:028048884',\n",
       " 'hcl:#cfa07d byr:1929',\n",
       " '',\n",
       " 'hcl:#ae17e1 iyr:2013',\n",
       " 'eyr:2024',\n",
       " 'ecl:brn pid:760753108 byr:1931',\n",
       " 'hgt:179cm',\n",
       " '',\n",
       " 'hcl:#cfa07d eyr:2025 pid:166559648',\n",
       " 'iyr:2011 ecl:brn hgt:59in']"
      ]
     },
     "execution_count": 5,
     "metadata": {},
     "output_type": "execute_result"
    }
   ],
   "source": [
    "with open('day04_test.txt') as fh:\n",
    "    lines = fh.readlines()\n",
    "\n",
    "text = [line.strip() for line in lines]\n",
    "\n",
    "text"
   ]
  },
  {
   "cell_type": "code",
   "execution_count": 13,
   "metadata": {},
   "outputs": [],
   "source": [
    "# build a clean list to store all elements needed, eventually convert to dict\n",
    "clean_list = []\n",
    "intermediate_list = []\n",
    "for line in text:\n",
    "\n",
    "    if line != '':\n",
    "        intermediate_list.append(line)\n",
    "    else:\n",
    "        # append whatever we have\n",
    "        clean_list.append(intermediate_list)\n",
    "        \n",
    "        # wipe away list\n",
    "        intermediate_list = []\n",
    "        \n",
    "\n",
    "# make sure to append the last line\n",
    "clean_list.append(intermediate_list)"
   ]
  },
  {
   "cell_type": "code",
   "execution_count": 19,
   "metadata": {},
   "outputs": [],
   "source": [
    "def passportCriteria(passList, rules):\n",
    "    \"\"\"Need all 8 fields, allowed to not have cid\"\"\"\n",
    "    \n",
    "    # can convert to set & ensure sum == 7\n",
    "    return len(set(passList) & set(rules))\n",
    "    "
   ]
  },
  {
   "cell_type": "code",
   "execution_count": 22,
   "metadata": {},
   "outputs": [
    {
     "name": "stdout",
     "output_type": "stream",
     "text": [
      "Total valid passports in test set: 2\n"
     ]
    }
   ],
   "source": [
    "valid = 0\n",
    "rules = ['ecl', 'pid', 'eyr', 'hcl', 'byr', 'iyr', 'hgt']\n",
    "\n",
    "for passport in clean_list:\n",
    "    \n",
    "    # use join to connect strings together for single passport\n",
    "    clean_passport = ' '.join((info for info in passport))\n",
    "    \n",
    "    # split string based on spacing first \n",
    "    key_val = clean_passport.split()\n",
    "    \n",
    "    # store off the list of keys \n",
    "    keys = [key.split(\":\")[0] for key in key_val]\n",
    "    \n",
    "    # determine if list meets criteria \n",
    "    if passportCriteria(keys, rules) >= 7:\n",
    "        valid += 1\n",
    "        \n",
    "        \n",
    "print(f\"Total valid passports in test set: {valid}\")"
   ]
  },
  {
   "cell_type": "markdown",
   "metadata": {},
   "source": [
    "### Day 4: Part 1"
   ]
  },
  {
   "cell_type": "code",
   "execution_count": 23,
   "metadata": {},
   "outputs": [
    {
     "name": "stdout",
     "output_type": "stream",
     "text": [
      "Total valid passports in test set: 237\n"
     ]
    }
   ],
   "source": [
    "# Taking Mark's advice on inputs \n",
    "with open('day04.txt') as fh:\n",
    "    lines = fh.readlines()\n",
    "\n",
    "text = [line.strip() for line in lines]\n",
    "\n",
    "# build a clean list to store all elements needed, eventually convert to dict\n",
    "clean_list = []\n",
    "intermediate_list = []\n",
    "for line in text:\n",
    "\n",
    "    if line != '':\n",
    "        intermediate_list.append(line)\n",
    "    else:\n",
    "        # append whatever we have\n",
    "        clean_list.append(intermediate_list)\n",
    "        \n",
    "        # wipe away list\n",
    "        intermediate_list = []\n",
    "        \n",
    "\n",
    "# make sure to append the last line\n",
    "clean_list.append(intermediate_list)\n",
    "\n",
    "# run through \n",
    "valid = 0\n",
    "rules = ['ecl', 'pid', 'eyr', 'hcl', 'byr', 'iyr', 'hgt']\n",
    "\n",
    "for passport in clean_list:\n",
    "    \n",
    "    # use join to connect strings together for single passport\n",
    "    clean_passport = ' '.join((info for info in passport))\n",
    "    \n",
    "    # split string based on spacing first \n",
    "    key_val = clean_passport.split()\n",
    "    \n",
    "    # store off the list of keys \n",
    "    keys = [key.split(\":\")[0] for key in key_val]\n",
    "    \n",
    "    # determine if list meets criteria \n",
    "    if passportCriteria(keys, rules) >= 7:\n",
    "        valid += 1\n",
    "        \n",
    "        \n",
    "print(f\"Total valid passports in test set: {valid}\")"
   ]
  },
  {
   "cell_type": "markdown",
   "metadata": {},
   "source": [
    "### Part 2: Well damn....time to rethink this. Switching notebooks "
   ]
  }
 ],
 "metadata": {
  "kernelspec": {
   "display_name": "Python 3.8",
   "language": "python",
   "name": "other-env"
  },
  "language_info": {
   "codemirror_mode": {
    "name": "ipython",
    "version": 3
   },
   "file_extension": ".py",
   "mimetype": "text/x-python",
   "name": "python",
   "nbconvert_exporter": "python",
   "pygments_lexer": "ipython3",
   "version": "3.8.5"
  }
 },
 "nbformat": 4,
 "nbformat_minor": 4
}
