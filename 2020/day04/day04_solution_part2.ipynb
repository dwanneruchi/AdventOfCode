{
 "cells": [
  {
   "cell_type": "markdown",
   "metadata": {},
   "source": [
    "### Day 4, Part 2: Test Case\n",
    "\n",
    "- need to append parts of list until a '' is met"
   ]
  },
  {
   "cell_type": "code",
   "execution_count": 1,
   "metadata": {},
   "outputs": [],
   "source": [
    "with open('day04_test.txt') as fh:\n",
    "    lines = fh.readlines()\n",
    "\n",
    "text = [line.strip() for line in lines]\n",
    "\n",
    "text"
   ]
  },
  {
   "cell_type": "code",
   "execution_count": 2,
   "metadata": {},
   "outputs": [],
   "source": [
    "# build a clean list to store all elements needed, eventually convert to dict\n",
    "clean_list = []\n",
    "intermediate_list = []\n",
    "for line in text:\n",
    "\n",
    "    if line != '':\n",
    "        intermediate_list.append(line)\n",
    "    else:\n",
    "        # append whatever we have\n",
    "        clean_list.append(intermediate_list)\n",
    "        \n",
    "        # wipe away list\n",
    "        intermediate_list = []\n",
    "        \n",
    "\n",
    "# make sure to append the last line\n",
    "clean_list.append(intermediate_list)"
   ]
  },
  {
   "cell_type": "code",
   "execution_count": 3,
   "metadata": {},
   "outputs": [
    {
     "name": "stdout",
     "output_type": "stream",
     "text": [
      "{'ecl': 'gry', 'pid': '860033327', 'eyr': '2020', 'hcl': '#fffffd', 'byr': '1937', 'iyr': '2017', 'cid': '147', 'hgt': '183cm'}\n",
      "{'iyr': '2013', 'ecl': 'amb', 'cid': '350', 'eyr': '2023', 'pid': '028048884', 'hcl': '#cfa07d', 'byr': '1929'}\n",
      "{'hcl': '#ae17e1', 'iyr': '2013', 'eyr': '2024', 'ecl': 'brn', 'pid': '760753108', 'byr': '1931', 'hgt': '179cm'}\n",
      "{'hcl': '#cfa07d', 'eyr': '2025', 'pid': '166559648', 'iyr': '2011', 'ecl': 'brn', 'hgt': '59in'}\n"
     ]
    }
   ],
   "source": [
    "valid = 0\n",
    "\n",
    "for passport in clean_list:\n",
    "    \n",
    "    # use join to connect strings together for single passport\n",
    "    clean_passport = ' '.join((info for info in passport))\n",
    "    \n",
    "    # split string based on spacing first \n",
    "    key_val = clean_passport.split()\n",
    "    \n",
    "    # thank you python - dictionary comprehension time \n",
    "    keyval_dict = {key.split(\":\")[0]:key.split(\":\")[1] for key in key_val}\n",
    "\n",
    "    print(keyval_dict) # oh yeah, this will work\n",
    "    "
   ]
  },
  {
   "cell_type": "markdown",
   "metadata": {},
   "source": [
    "### Day 4: Part 2\n",
    "\n",
    "Now just need a function to check each key in the dict aligning with rules provided: \n",
    "\n",
    "```\n",
    "byr (Birth Year) - four digits; at least 1920 and at most 2002.\n",
    "iyr (Issue Year) - four digits; at least 2010 and at most 2020.\n",
    "eyr (Expiration Year) - four digits; at least 2020 and at most 2030.\n",
    "hgt (Height) - a number followed by either cm or in:\n",
    "If cm, the number must be at least 150 and at most 193.\n",
    "If in, the number must be at least 59 and at most 76.\n",
    "hcl (Hair Color) - a # followed by exactly six characters 0-9 or a-f.\n",
    "ecl (Eye Color) - exactly one of: amb blu brn gry grn hzl oth.\n",
    "pid (Passport ID) - a nine-digit number, including leading zeroes.\n",
    "cid (Country ID) - ignored, missing or not.\n",
    "```"
   ]
  },
  {
   "cell_type": "code",
   "execution_count": 4,
   "metadata": {},
   "outputs": [],
   "source": [
    "import re \n",
    "\n",
    "def validPassport(passDict, rules):\n",
    "    \"\"\"Running through rules then checking specific on fields\"\"\"\n",
    "    \n",
    "    # first test - just ensuring same conditions as before\n",
    "    if len(set(passDict.keys()) & set(rules)) < 7:\n",
    "        return False\n",
    "    \n",
    "    # can now assume all of the proper keys exist at this point \n",
    "    # tested\n",
    "    if len(passDict['byr']) != 4 or int(passDict['byr']) < 1920 or int(passDict['byr']) > 2002:\n",
    "        return False\n",
    "    \n",
    "    # tested\n",
    "    if len(passDict['iyr']) != 4 or int(passDict['iyr']) < 2010 or int(passDict['iyr']) > 2020:\n",
    "        return False\n",
    "\n",
    "    # tested\n",
    "    if len(passDict['eyr']) != 4 or int(passDict['eyr']) < 2020 or int(passDict['eyr']) > 2030:\n",
    "        return False\n",
    "\n",
    "    # adding try-except here in case of weird inputs \n",
    "    try:\n",
    "        match = re.match(r\"([0-9]+)([a-z]+)\", passDict['hgt'], re.I)\n",
    "        hgt, unit = match.groups()\n",
    "        hgt = int(hgt)\n",
    "    except:\n",
    "        return False\n",
    "    \n",
    "    # tested\n",
    "    if unit == \"cm\":\n",
    "        if hgt < 150 or hgt > 193:\n",
    "            return False \n",
    "    elif unit == \"in\":\n",
    "        if hgt < 59 or hgt > 76:\n",
    "            return False     \n",
    "    else:\n",
    "        return False\n",
    "    \n",
    "    # hcl condition: \n",
    "    symbol = passDict['hcl'][0]\n",
    "    color = passDict['hcl'][1:]\n",
    "    \n",
    "    # check symbol and length of color - tested\n",
    "    if symbol != \"#\" or len(color) != 6:\n",
    "        return False\n",
    "    \n",
    "    # using search to see if any chars in string fall outside of range - tests passed \n",
    "    excluded = re.compile('[^a-fA-F0-9]').search\n",
    "    if bool(excluded(color)):\n",
    "        return False\n",
    "    \n",
    "    # ecl: exactly one of the colors listed\n",
    "    ecl_list = [\"amb\", \"blu\", \"brn\", \"gry\", \"grn\", \"hzl\", \"oth\"]\n",
    "    if passDict['ecl'] not in ecl_list:\n",
    "        return False\n",
    "    \n",
    "    #last one!? pid is str so just confirm numeric and confirm 9 long, then we have a valid passport\n",
    "    if passDict['pid'].isnumeric() and len(passDict['pid']) == 9:\n",
    "        return True\n",
    "    else:\n",
    "        return False"
   ]
  },
  {
   "cell_type": "code",
   "execution_count": 6,
   "metadata": {},
   "outputs": [
    {
     "name": "stdout",
     "output_type": "stream",
     "text": [
      "Total valid passports in test set: 172\n"
     ]
    }
   ],
   "source": [
    "# Taking Mark's advice on inputs \n",
    "with open('day04.txt') as fh:\n",
    "    lines = fh.readlines()\n",
    "\n",
    "text = [line.strip() for line in lines]\n",
    "\n",
    "# build a clean list to store all elements needed, eventually convert to dict\n",
    "clean_list = []\n",
    "intermediate_list = []\n",
    "for line in text:\n",
    "\n",
    "    if line != '':\n",
    "        intermediate_list.append(line)\n",
    "    else:\n",
    "        # append whatever we have\n",
    "        clean_list.append(intermediate_list)\n",
    "        \n",
    "        # wipe away list\n",
    "        intermediate_list = []\n",
    "        \n",
    "\n",
    "# make sure to append the last line\n",
    "clean_list.append(intermediate_list)\n",
    "\n",
    "# run through \n",
    "valid = 0\n",
    "\n",
    "for passport in clean_list:\n",
    "    \n",
    "    # use join to connect strings together for single passport\n",
    "    clean_passport = ' '.join((info for info in passport))\n",
    "    \n",
    "    # split string based on spacing first \n",
    "    key_val = clean_passport.split()\n",
    "    \n",
    "    # thank you python - dictionary comprehension time \n",
    "    keyval_dict = {key.split(\":\")[0]:key.split(\":\")[1] for key in key_val}\n",
    "    \n",
    "    # pass into function\n",
    "    rules = ['ecl', 'pid', 'eyr', 'hcl', 'byr', 'iyr', 'hgt']\n",
    "    if validPassport(keyval_dict, rules):\n",
    "        valid += 1\n",
    "        \n",
    "print(f\"Total valid passports in test set: {valid}\")"
   ]
  }
 ],
 "metadata": {
  "kernelspec": {
   "display_name": "Python 3.8",
   "language": "python",
   "name": "other-env"
  },
  "language_info": {
   "codemirror_mode": {
    "name": "ipython",
    "version": 3
   },
   "file_extension": ".py",
   "mimetype": "text/x-python",
   "name": "python",
   "nbconvert_exporter": "python",
   "pygments_lexer": "ipython3",
   "version": "3.8.5"
  }
 },
 "nbformat": 4,
 "nbformat_minor": 4
}
