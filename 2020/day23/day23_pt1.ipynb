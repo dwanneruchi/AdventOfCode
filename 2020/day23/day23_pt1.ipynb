{
 "cells": [
  {
   "cell_type": "markdown",
   "metadata": {},
   "source": [
    "#### Part 1: Rules\n",
    "\n",
    "Each move:\n",
    "- crab picks up 3 cups immediately clockwise the current cup (removed from circle)\n",
    "- crab selects a destination cup -> cup with a label equal to `current cup - 1`\n",
    "    - if its 1 of the cups in hand, crab will keep subtracting 1 until it finds a new cup\n",
    "    - if at anytime the value goes below the lowest value of eligible cups then it wraps around to the highest value instead\n",
    "- crab places the cups it just picked up so that they are immediately clockwise of destination cup\n",
    "- crab moves to a new cup (the one directly clockwise `current cup`)"
   ]
  },
  {
   "cell_type": "code",
   "execution_count": 32,
   "metadata": {},
   "outputs": [
    {
     "name": "stdout",
     "output_type": "stream",
     "text": [
      "[3, 8, 9, 1, 2, 5, 4, 6, 7]\n"
     ]
    }
   ],
   "source": [
    "test_labeling = '389125467'\n",
    "test_list = [int(cup) for cup in test_labeling]\n",
    "print(test_list)"
   ]
  },
  {
   "cell_type": "code",
   "execution_count": 51,
   "metadata": {},
   "outputs": [],
   "source": [
    "def crabPickup(initState, startIdx):\n",
    "    \"\"\"\n",
    "    Function to represent the crabs initial pickup. Returns picked up cups & new state\n",
    "    \"\"\"\n",
    "    # find removal indices\n",
    "    remove_idx = [(startIdx + i) % len(initState) for i in range(1,4)]\n",
    "\n",
    "    # store in pickup list & remove from original list\n",
    "    pickupList = [initState[idx] for idx in remove_idx]\n",
    "\n",
    "    # build a new list of items not in pickup_list,but in same order\n",
    "    newState = [cup for cup in initState if cup not in pickupList]\n",
    "\n",
    "    return pickupList, newState\n",
    "\n",
    "def crabDestination(gameState, currCup):\n",
    "    \"\"\"Determine the destination cup\"\"\"\n",
    "    min_val = min(gameState)\n",
    "    max_val = max(gameState)\n",
    "    destination = curr_cup - 1\n",
    "    \n",
    "    # run through available cups until we either dip below min or find a cup\n",
    "    while True:\n",
    "        if destination < min_val:\n",
    "            destination = max_val\n",
    "            break\n",
    "        elif destination in gameState:\n",
    "            break\n",
    "        else:\n",
    "            destination -= 1\n",
    "    \n",
    "    return gameState.index(destination)\n",
    "\n",
    "#def buildState():\n",
    "#    \"\"\"Function to piece together the game state\"\"\""
   ]
  },
  {
   "cell_type": "code",
   "execution_count": 79,
   "metadata": {},
   "outputs": [
    {
     "name": "stdout",
     "output_type": "stream",
     "text": [
      "-- move 1 --\n",
      "cups: [3, 8, 9, 1, 2, 5, 4, 6, 7]\n",
      "curr cup: 3\n",
      "pick up: [8, 9, 1]\n",
      "destination: 2\n",
      "-- move 2 --\n",
      "cups: [3, 2, 8, 9, 1, 5, 4, 6, 7]\n",
      "curr cup: 2\n",
      "pick up: [8, 9, 1]\n",
      "destination: 7\n",
      "-- move 3 --\n",
      "cups: [3, 2, 5, 4, 6, 7, 8, 9, 1]\n",
      "curr cup: 5\n",
      "pick up: [4, 6, 7]\n",
      "destination: 3\n",
      "-- move 4 --\n",
      "cups: [3, 4, 6, 7, 2, 5, 8, 9, 1]\n",
      "curr cup: 8\n",
      "pick up: [9, 1, 3]\n",
      "destination: 7\n",
      "-- move 5 --\n",
      "cups: [4, 6, 7, 9, 1, 3, 2, 5, 8]\n",
      "curr cup: 4\n",
      "pick up: [6, 7, 9]\n",
      "destination: 3\n",
      "-- move 6 --\n",
      "cups: [4, 1, 3, 6, 7, 9, 2, 5, 8]\n",
      "curr cup: 1\n",
      "pick up: [3, 6, 7]\n",
      "destination: 9\n",
      "-- move 7 --\n",
      "cups: [4, 1, 9, 3, 6, 7, 2, 5, 8]\n",
      "curr cup: 9\n",
      "pick up: [3, 6, 7]\n",
      "destination: 8\n",
      "-- move 8 --\n",
      "cups: [4, 1, 9, 2, 5, 8, 3, 6, 7]\n",
      "curr cup: 2\n",
      "pick up: [5, 8, 3]\n",
      "destination: 1\n",
      "-- move 9 --\n",
      "cups: [4, 1, 5, 8, 3, 9, 2, 6, 7]\n",
      "curr cup: 6\n",
      "pick up: [7, 4, 1]\n",
      "destination: 5\n",
      "-- move 10 --\n",
      "cups: [5, 7, 4, 1, 8, 3, 9, 2, 6]\n",
      "curr cup: 5\n",
      "pick up: [7, 4, 1]\n",
      "destination: 3\n",
      "92658374\n"
     ]
    }
   ],
   "source": [
    "start_idx = 0\n",
    "initState = [3, 8, 9, 1, 2, 5, 4, 6, 7]\n",
    "\n",
    "for i in range(10):\n",
    "    \n",
    "    # find val of current cup\n",
    "    curr_cup = initState[start_idx]\n",
    "    print(f\"-- move {i+1} --\")\n",
    "    print(f\"cups: {initState}\")\n",
    "    print(f\"curr cup: {curr_cup}\")\n",
    "    pickup_list, gameState = crabPickup(initState, start_idx)\n",
    "    print(f\"pick up: {pickup_list}\")\n",
    "    #print(f\"cups after removal: {gameState}\")\n",
    "    destination = crabDestination(gameState, curr_cup)\n",
    "    print(f\"destination: {gameState[destination]}\")\n",
    "\n",
    "    # add back \n",
    "    gameState.insert(destination + 1, pickup_list[0])\n",
    "    gameState.insert(destination + 2, pickup_list[1])\n",
    "    gameState.insert(destination + 3, pickup_list[2])\n",
    "    \n",
    "    # overwrite state\n",
    "    initState = gameState.copy()\n",
    "\n",
    "    # update start index using modulo\n",
    "    # need to refind the index of start cup & increment by 1 to get new state\n",
    "    start_idx = (initState.index(curr_cup) + 1) % len(initState)\n",
    "\n",
    "cup1_idx = initState.index(1)\n",
    "solution = ''\n",
    "for _ in range(len(initState)-1):\n",
    "    idx = (cup1_idx + 1 + _) % len(initState)\n",
    "    solution = solution + str(initState[idx])\n",
    "print(solution)"
   ]
  },
  {
   "cell_type": "markdown",
   "metadata": {},
   "source": [
    "### Check 100 Moves: "
   ]
  },
  {
   "cell_type": "code",
   "execution_count": 80,
   "metadata": {},
   "outputs": [
    {
     "name": "stdout",
     "output_type": "stream",
     "text": [
      "67384529\n"
     ]
    }
   ],
   "source": [
    "start_idx = 0\n",
    "initState = [3, 8, 9, 1, 2, 5, 4, 6, 7]\n",
    "\n",
    "for i in range(100):\n",
    "    \n",
    "    # find val of current cup\n",
    "    curr_cup = initState[start_idx]\n",
    "\n",
    "    pickup_list, gameState = crabPickup(initState, start_idx)\n",
    "    destination = crabDestination(gameState, curr_cup)\n",
    "\n",
    "    # add back \n",
    "    gameState.insert(destination + 1, pickup_list[0])\n",
    "    gameState.insert(destination + 2, pickup_list[1])\n",
    "    gameState.insert(destination + 3, pickup_list[2])\n",
    "    \n",
    "    # overwrite state\n",
    "    initState = gameState.copy()\n",
    "\n",
    "    # update start index using modulo\n",
    "    # need to refind the index of start cup & increment by 1 to get new state\n",
    "    start_idx = (initState.index(curr_cup) + 1) % len(initState)\n",
    "\n",
    "cup1_idx = initState.index(1)\n",
    "solution = ''\n",
    "for _ in range(len(initState)-1):\n",
    "    idx = (cup1_idx + 1 + _) % len(initState)\n",
    "    solution = solution + str(initState[idx])\n",
    "print(solution)"
   ]
  },
  {
   "cell_type": "markdown",
   "metadata": {},
   "source": [
    "### Part 1 Real Data"
   ]
  },
  {
   "cell_type": "code",
   "execution_count": 81,
   "metadata": {},
   "outputs": [
    {
     "name": "stdout",
     "output_type": "stream",
     "text": [
      "82934675\n"
     ]
    }
   ],
   "source": [
    "start_idx = 0\n",
    "real_label= '327465189'\n",
    "initState = [int(cup) for cup in real_label]\n",
    "\n",
    "for i in range(100):\n",
    "    \n",
    "    # find val of current cup\n",
    "    curr_cup = initState[start_idx]\n",
    "\n",
    "    pickup_list, gameState = crabPickup(initState, start_idx)\n",
    "    destination = crabDestination(gameState, curr_cup)\n",
    "\n",
    "    # add back \n",
    "    gameState.insert(destination + 1, pickup_list[0])\n",
    "    gameState.insert(destination + 2, pickup_list[1])\n",
    "    gameState.insert(destination + 3, pickup_list[2])\n",
    "    \n",
    "    # overwrite state\n",
    "    initState = gameState.copy()\n",
    "\n",
    "    # update start index using modulo\n",
    "    # need to refind the index of start cup & increment by 1 to get new state\n",
    "    start_idx = (initState.index(curr_cup) + 1) % len(initState)\n",
    "\n",
    "cup1_idx = initState.index(1)\n",
    "solution = ''\n",
    "for _ in range(len(initState)-1):\n",
    "    idx = (cup1_idx + 1 + _) % len(initState)\n",
    "    solution = solution + str(initState[idx])\n",
    "print(solution)"
   ]
  }
 ],
 "metadata": {
  "kernelspec": {
   "display_name": "Python 3.8",
   "language": "python",
   "name": "other-env"
  },
  "language_info": {
   "codemirror_mode": {
    "name": "ipython",
    "version": 3
   },
   "file_extension": ".py",
   "mimetype": "text/x-python",
   "name": "python",
   "nbconvert_exporter": "python",
   "pygments_lexer": "ipython3",
   "version": "3.8.5"
  }
 },
 "nbformat": 4,
 "nbformat_minor": 4
}
