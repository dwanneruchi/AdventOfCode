{
 "cells": [
  {
   "cell_type": "markdown",
   "metadata": {},
   "source": [
    "### Day 15 Part 1\n",
    "\n",
    "Using default dict so I can automatically update values in a `memory dict` (counts total times its occurred) and `turn dict` which tracks a tuple of last two runs. \n",
    "\n",
    "#### Test Cases\n",
    "\n",
    "- showing a few"
   ]
  },
  {
   "cell_type": "code",
   "execution_count": 1,
   "metadata": {},
   "outputs": [
    {
     "name": "stdout",
     "output_type": "stream",
     "text": [
      "Speaking: 436 on turn 2020\n",
      "Total Time: 0.0029888153076171875\n"
     ]
    }
   ],
   "source": [
    "from collections import defaultdict  \n",
    "import time\n",
    "\n",
    "# test data\n",
    "t0 = time.time()\n",
    "input_numbers = [0,3,6]\n",
    "goal_turn = 2020\n",
    "turn = 0\n",
    "\n",
    "# storing dictionaries\n",
    "memory_dict = defaultdict(int)\n",
    "turn_dict = defaultdict(list)\n",
    "\n",
    "for i in range(goal_turn):\n",
    "\n",
    "    turn += 1\n",
    "    \n",
    "    if i < len(input_numbers):\n",
    "        memory_dict[input_numbers[i]] += 1\n",
    "        turn_dict[input_numbers[i]].append(turn)\n",
    "        last_key = input_numbers[i]\n",
    "        \n",
    "    elif memory_dict[last_key] == 1:\n",
    "        memory_dict[0] += 1\n",
    "        turn_dict[0].append(turn)\n",
    "        last_key = 0\n",
    "    \n",
    "    else:\n",
    "        next_num = turn_dict[last_key][-1] - turn_dict[last_key][-2]\n",
    "        memory_dict[next_num] += 1\n",
    "        turn_dict[next_num].append(turn)\n",
    "        last_key = next_num\n",
    "        \n",
    "t1 = time.time()\n",
    "print(f\"Speaking: {last_key} on turn {turn}\")\n",
    "print(f\"Total Time: {t1-t0}\")"
   ]
  },
  {
   "cell_type": "markdown",
   "metadata": {},
   "source": [
    "#### Part 1: Actual Data"
   ]
  },
  {
   "cell_type": "code",
   "execution_count": 2,
   "metadata": {},
   "outputs": [
    {
     "name": "stdout",
     "output_type": "stream",
     "text": [
      "Speaking: 1325 on turn 2020\n",
      "Total Time: 0.004982709884643555\n"
     ]
    }
   ],
   "source": [
    "# path\n",
    "t0 = time.time()\n",
    "input_numbers = [19,20,14,0,9,1]\n",
    "goal_turn = 2020\n",
    "turn = 0\n",
    "\n",
    "# storing dictionaries\n",
    "memory_dict = defaultdict(int)\n",
    "turn_dict = defaultdict(list)\n",
    "\n",
    "for i in range(goal_turn):\n",
    "\n",
    "    turn += 1\n",
    "    \n",
    "    if i < len(input_numbers):\n",
    "        memory_dict[input_numbers[i]] += 1\n",
    "        turn_dict[input_numbers[i]].append(turn)\n",
    "        last_key = input_numbers[i]\n",
    "        \n",
    "    elif memory_dict[last_key] == 1:\n",
    "        memory_dict[0] += 1\n",
    "        turn_dict[0].append(turn)\n",
    "        last_key = 0\n",
    "    \n",
    "    else:\n",
    "        next_num = turn_dict[last_key][-1] - turn_dict[last_key][-2]\n",
    "        memory_dict[next_num] += 1\n",
    "        turn_dict[next_num].append(turn)\n",
    "        last_key = next_num\n",
    "        \n",
    "t1 = time.time()\n",
    "print(f\"Speaking: {last_key} on turn {turn}\")\n",
    "print(f\"Total Time: {t1-t0}\")"
   ]
  },
  {
   "cell_type": "markdown",
   "metadata": {},
   "source": [
    "### Part 2:\n",
    "\n",
    "Assuming a pattern exists....but brute forcing for speed. "
   ]
  },
  {
   "cell_type": "code",
   "execution_count": 3,
   "metadata": {},
   "outputs": [
    {
     "name": "stdout",
     "output_type": "stream",
     "text": [
      "Speaking: 59006 on turn 30000000\n",
      "Total Time: 62.961751222610474\n"
     ]
    }
   ],
   "source": [
    "# path\n",
    "t0 = time.time()\n",
    "input_numbers = [19,20,14,0,9,1]\n",
    "goal_turn = 30000000\n",
    "turn = 0\n",
    "\n",
    "# storing dictionaries\n",
    "memory_dict = defaultdict(int)\n",
    "turn_dict = defaultdict(list)\n",
    "\n",
    "for i in range(goal_turn):\n",
    "\n",
    "    turn += 1\n",
    "    \n",
    "    if i < len(input_numbers):\n",
    "        memory_dict[input_numbers[i]] += 1\n",
    "        turn_dict[input_numbers[i]].append(turn)\n",
    "        last_key = input_numbers[i]\n",
    "        \n",
    "    elif memory_dict[last_key] == 1:\n",
    "        memory_dict[0] += 1\n",
    "        turn_dict[0].append(turn)\n",
    "        last_key = 0\n",
    "    \n",
    "    else:\n",
    "        next_num = turn_dict[last_key][-1] - turn_dict[last_key][-2]\n",
    "        memory_dict[next_num] += 1\n",
    "        turn_dict[next_num].append(turn)\n",
    "        last_key = next_num\n",
    "\n",
    "t1 = time.time()\n",
    "print(f\"Speaking: {last_key} on turn {turn}\")\n",
    "print(f\"Total Time: {t1-t0}\")"
   ]
  }
 ],
 "metadata": {
  "kernelspec": {
   "display_name": "Python 3.8",
   "language": "python",
   "name": "other-env"
  },
  "language_info": {
   "codemirror_mode": {
    "name": "ipython",
    "version": 3
   },
   "file_extension": ".py",
   "mimetype": "text/x-python",
   "name": "python",
   "nbconvert_exporter": "python",
   "pygments_lexer": "ipython3",
   "version": "3.8.5"
  }
 },
 "nbformat": 4,
 "nbformat_minor": 4
}
