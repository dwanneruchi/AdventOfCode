{
 "cells": [
  {
   "cell_type": "markdown",
   "metadata": {},
   "source": [
    "### Day 13 pt 1: Test Data"
   ]
  },
  {
   "cell_type": "code",
   "execution_count": 4,
   "metadata": {},
   "outputs": [],
   "source": [
    "# path \n",
    "filepath = \"day13_test_data.txt\"\n",
    "with open(filepath) as fh:\n",
    "    lines = [line.split(',') for line in fh.readlines()]\n",
    "    \n"
   ]
  },
  {
   "cell_type": "code",
   "execution_count": 12,
   "metadata": {},
   "outputs": [
    {
     "name": "stdout",
     "output_type": "stream",
     "text": [
      "939\n",
      "[7, 13, 59, 31, 19]\n"
     ]
    }
   ],
   "source": [
    "# departure time\n",
    "dept_time = int(lines[0][0].strip())\n",
    "bus_times = [int(x) for x in lines[1] if x.isdigit()]\n",
    "print(dept_time)\n",
    "print(bus_times)"
   ]
  },
  {
   "cell_type": "code",
   "execution_count": 21,
   "metadata": {},
   "outputs": [
    {
     "name": "stdout",
     "output_type": "stream",
     "text": [
      "944\n"
     ]
    },
    {
     "data": {
      "text/plain": [
       "295"
      ]
     },
     "execution_count": 21,
     "metadata": {},
     "output_type": "execute_result"
    }
   ],
   "source": [
    "# Can just build out all times starting from 0 up until we exceed dept_time\n",
    "# then store off the last values in a dict with bus number find min\n",
    "start_time = 0\n",
    "bus_dict = {}\n",
    "for bus in bus_times:\n",
    "    current_time = 0\n",
    "    while True:\n",
    "        current_time += bus\n",
    "        if current_time > dept_time: # since we want 1 after\n",
    "            bus_dict[bus] = current_time\n",
    "            break\n",
    "\n",
    "# \n",
    "min_key = min(bus_dict, key=bus_dict.get)\n",
    "print(bus_dict[min_key])\n",
    "\n",
    "# solve: \n",
    "(bus_dict[min_key] - dept_time) * min_key"
   ]
  },
  {
   "cell_type": "markdown",
   "metadata": {},
   "source": [
    "### Day 13 Pt 1: Real Data"
   ]
  },
  {
   "cell_type": "code",
   "execution_count": 22,
   "metadata": {},
   "outputs": [
    {
     "name": "stdout",
     "output_type": "stream",
     "text": [
      "1008169\n",
      "[29, 41, 37, 653, 13, 17, 23, 823, 19]\n"
     ]
    }
   ],
   "source": [
    "# path \n",
    "filepath = \"day13_data.txt\"\n",
    "with open(filepath) as fh:\n",
    "    lines = [line.split(',') for line in fh.readlines()]\n",
    "\n",
    "# departure time\n",
    "dept_time = int(lines[0][0].strip())\n",
    "bus_times = [int(x) for x in lines[1] if x.isdigit()]\n",
    "print(dept_time)\n",
    "print(bus_times)"
   ]
  },
  {
   "cell_type": "code",
   "execution_count": 23,
   "metadata": {},
   "outputs": [
    {
     "name": "stdout",
     "output_type": "stream",
     "text": [
      "1008175\n"
     ]
    },
    {
     "data": {
      "text/plain": [
       "4938"
      ]
     },
     "execution_count": 23,
     "metadata": {},
     "output_type": "execute_result"
    }
   ],
   "source": [
    "# Can just build out all times starting from 0 up until we exceed dept_time\n",
    "# then store off the last values in a dict with bus number find min\n",
    "start_time = 0\n",
    "bus_dict = {}\n",
    "for bus in bus_times:\n",
    "    current_time = 0\n",
    "    while True:\n",
    "        current_time += bus\n",
    "        if current_time > dept_time: # since we want 1 after\n",
    "            bus_dict[bus] = current_time\n",
    "            break\n",
    "\n",
    "# \n",
    "min_key = min(bus_dict, key=bus_dict.get)\n",
    "print(bus_dict[min_key])\n",
    "\n",
    "# solve: \n",
    "(bus_dict[min_key] - dept_time) * min_key"
   ]
  },
  {
   "cell_type": "markdown",
   "metadata": {},
   "source": [
    "### Pt 2 Test Case:\n",
    "\n",
    "- Need to read in the data in order now, & keep the X.\n",
    "\n",
    "#### Early thought:\n",
    "- I think it comes down to being a multiple of something, maybe solving for least common multiple, but first doing the necessary adjustments for that shifted time. "
   ]
  },
  {
   "cell_type": "code",
   "execution_count": 28,
   "metadata": {},
   "outputs": [
    {
     "name": "stdout",
     "output_type": "stream",
     "text": [
      "{'7': 0, '13': 1, 'x': 5, '59': 4, '31': 6, '19': 7}\n"
     ]
    }
   ],
   "source": [
    "# path \n",
    "filepath = \"day13_test_data.txt\"\n",
    "with open(filepath) as fh:\n",
    "    lines = [line.split(',') for line in fh.readlines()]\n",
    "\n",
    "# departure time\n",
    "dept_time = int(lines[0][0].strip())\n",
    "bus_times = [x for x in lines[1]]\n",
    "\n",
    "# need to determine the offset (x can be ignored)\n",
    "bus_dict = {x: i for i,x in enumerate(bus_times)}\n",
    "print(bus_dict)\n",
    "\n"
   ]
  },
  {
   "cell_type": "code",
   "execution_count": null,
   "metadata": {},
   "outputs": [],
   "source": []
  }
 ],
 "metadata": {
  "kernelspec": {
   "display_name": "Python 3.8",
   "language": "python",
   "name": "other-env"
  },
  "language_info": {
   "codemirror_mode": {
    "name": "ipython",
    "version": 3
   },
   "file_extension": ".py",
   "mimetype": "text/x-python",
   "name": "python",
   "nbconvert_exporter": "python",
   "pygments_lexer": "ipython3",
   "version": "3.8.5"
  }
 },
 "nbformat": 4,
 "nbformat_minor": 4
}
