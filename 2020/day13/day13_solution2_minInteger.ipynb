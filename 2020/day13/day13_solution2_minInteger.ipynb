{
 "cells": [
  {
   "cell_type": "markdown",
   "metadata": {},
   "source": [
    "### Let's refit for a minimization integer problem?\n",
    "\n",
    "- great overview: http://benalexkeen.com/linear-programming-with-python-and-pulp-part-2/\n",
    "\n",
    "- Unfortunately, solving all together takes way too long for even the test case. My assumption is this would not be possible to solve off of my laptop for the actual data...but nice to learn a new tool\n",
    "\n",
    "\n",
    "All I am doing is solving for minimum `t` of first bus (`bus a`) with constraints around the remaining buses. \n",
    "- There is no single solution, rather infinite solutions, thus why solving for minima. "
   ]
  },
  {
   "cell_type": "code",
   "execution_count": 35,
   "metadata": {},
   "outputs": [
    {
     "data": {
      "text/plain": [
       "My_LP_Problem:\n",
       "MINIMIZE\n",
       "7*a + 0\n",
       "SUBJECT TO\n",
       "_C1: 7 a - 13 b = -1\n",
       "\n",
       "_C2: 7 a - 59 c = -4\n",
       "\n",
       "_C3: 7 a - 31 d = -6\n",
       "\n",
       "_C4: 7 a - 19 e = -7\n",
       "\n",
       "VARIABLES\n",
       "10020 <= a Integer\n",
       "0 <= b Integer\n",
       "0 <= c Integer\n",
       "0 <= d Integer\n",
       "0 <= e Integer"
      ]
     },
     "execution_count": 35,
     "metadata": {},
     "output_type": "execute_result"
    }
   ],
   "source": [
    "import pulp\n",
    "\n",
    "my_lp_problem = pulp.LpProblem(\"My LP Problem\", pulp.LpMinimize)\n",
    "\n",
    "a = pulp.LpVariable('a', lowBound=10020, cat='Integer') # lower bound came from solving across a,b,c,d\n",
    "b = pulp.LpVariable('b', lowBound=0, cat='Integer')\n",
    "c = pulp.LpVariable('c', lowBound=0, cat='Integer')\n",
    "d = pulp.LpVariable('d', lowBound=0, cat='Integer')\n",
    "e = pulp.LpVariable('e', lowBound=0, cat='Integer')\n",
    "\n",
    "# Objective function\n",
    "my_lp_problem += 7*a, \"Z\"\n",
    "\n",
    "# Constraints\n",
    "my_lp_problem += 7*a == 13*b - 1\n",
    "my_lp_problem += 7*a == 59*c - 4\n",
    "my_lp_problem += 7*a == 31*d - 6\n",
    "my_lp_problem += 7*a == 19*e - 7 # <- this becomes too big, so this method won't work \n",
    "my_lp_problem"
   ]
  },
  {
   "cell_type": "code",
   "execution_count": 36,
   "metadata": {},
   "outputs": [
    {
     "data": {
      "text/plain": [
       "'Optimal'"
      ]
     },
     "execution_count": 36,
     "metadata": {},
     "output_type": "execute_result"
    }
   ],
   "source": [
    "my_lp_problem.solve()\n",
    "pulp.LpStatus[my_lp_problem.status]"
   ]
  },
  {
   "cell_type": "code",
   "execution_count": 38,
   "metadata": {},
   "outputs": [],
   "source": [
    "solution_dict = {}\n",
    "for variable in my_lp_problem.variables():\n",
    "    solution_dict[variable.name] = variable.varValue"
   ]
  },
  {
   "cell_type": "code",
   "execution_count": 42,
   "metadata": {},
   "outputs": [],
   "source": [
    "test_case_solution = 1068781\n",
    "assert(solution_dict['a'] * 7 == test_case_solution)\n",
    "assert(pulp.value(my_lp_problem.objective) == test_case_solution)"
   ]
  },
  {
   "cell_type": "markdown",
   "metadata": {},
   "source": [
    "#### Break Down into single final problem"
   ]
  }
 ],
 "metadata": {
  "kernelspec": {
   "display_name": "Python 3.8",
   "language": "python",
   "name": "other-env"
  },
  "language_info": {
   "codemirror_mode": {
    "name": "ipython",
    "version": 3
   },
   "file_extension": ".py",
   "mimetype": "text/x-python",
   "name": "python",
   "nbconvert_exporter": "python",
   "pygments_lexer": "ipython3",
   "version": "3.8.5"
  }
 },
 "nbformat": 4,
 "nbformat_minor": 4
}
