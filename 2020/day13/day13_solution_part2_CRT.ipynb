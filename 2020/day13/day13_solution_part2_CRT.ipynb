{
 "cells": [
  {
   "cell_type": "markdown",
   "metadata": {},
   "source": [
    "### Day 13 pt 1: Test Data"
   ]
  },
  {
   "cell_type": "code",
   "execution_count": 2,
   "metadata": {},
   "outputs": [
    {
     "data": {
      "text/plain": [
       "{'7': 0, '13': 1, 'x': 5, '59': 4, '31': 6, '19': 7}"
      ]
     },
     "execution_count": 2,
     "metadata": {},
     "output_type": "execute_result"
    }
   ],
   "source": [
    "# path \n",
    "filepath = \"day13_test_data.txt\"\n",
    "with open(filepath) as fh:\n",
    "    lines = [line.split(',') for line in fh.readlines()]\n",
    "\n",
    "# departure time\n",
    "bus_times = [x for x in lines[1]]\n",
    "diff_times = [x[0] for x in enumerate(bus_times)]\n",
    "bus_dict = {x[1]: x[0] for x in enumerate(bus_times)}\n",
    "bus_dict"
   ]
  },
  {
   "cell_type": "markdown",
   "metadata": {},
   "source": [
    "#### Recommended Reading: Number Theory \n",
    "\n",
    "- MF mentioned looking into number theory so did a bit of reading here: http://www.its.caltech.edu/~kpilch/olympiad/NumberTheory-Complete.pdf\n",
    "\n",
    "- In looking through `Chinese Remainder Theory` looks like it would work \n",
    "\n",
    "#### Chinese Remainder Theory Overview: \n",
    "\n",
    "- Allows us to solve things like: \n",
    "\n",
    "```\n",
    "Problem:\n",
    "- Find all integers n such that n leaves a remainder of 2 when divided by 3, a remainder of 2 when divided by 4 and a remainder of 1 when divided by 5.\n",
    "```\n",
    "\n",
    "- For this problem, we want to find the number `t` that leaves a certain remainder (lagged time) when divided by `bus time`.\n",
    "- Would look like this:\n",
    "    - `t` where:\n",
    "        - remainder 0 when divded by 7\n",
    "        - remainder of (13 - 1) when divided by 13\n",
    "            - Since we need t + 1 to be a multiple of 13, this means we need a remainder of `13-1` when `t` is divided by 13. \n",
    "        - remainder of (59 - 4) when divded by 59\n",
    "        - remainder of (31 - 6) when divded by 31\n",
    "        - remainder of (19 - 7) when divded by 19\n",
    "        \n",
    "#### Basic Example of CRT:\n",
    "- Source: https://brilliant.org/wiki/chinese-remainder-theorem/\n",
    "- Say we want to solve the following: \n",
    "    - `X = 2 (mod 3)`\n",
    "    - `X = 3 (mod 8)`\n",
    "- we would whittle down \n",
    "- Begin with the largest modulus & rewrite as an equation:\n",
    "    - `x = 8j + 3`\n",
    "- Substitute into first congruence\n",
    "    - `8j + 3 = 2` (mod 3) \n",
    "- Solve for `j`:\n",
    "    - `8j + 3 - 2` (mod 3) -->  only value that works for j is 1 (11 % 3 == 2)\n",
    "    - `j` = 1 (mod 3)\n",
    "- We then write this congruence as an equation & substitute into equation for k: \n",
    "    - `j = 3k + 1`\n",
    "    - `x = 8(3k + 1) + 3`\n",
    "    - `x = 24k + 11`"
   ]
  },
  {
   "cell_type": "code",
   "execution_count": 5,
   "metadata": {},
   "outputs": [
    {
     "data": {
      "text/plain": [
       "3"
      ]
     },
     "execution_count": 5,
     "metadata": {},
     "output_type": "execute_result"
    }
   ],
   "source": [
    "11 % 8"
   ]
  },
  {
   "cell_type": "markdown",
   "metadata": {},
   "source": [
    "#### Test Case - Checking Assumptions: \n",
    "\n",
    "**All modulo (moduli??) must share same GCD**\n",
    "\n",
    "- For this problem, we want to find the number `t` that leaves a certain remainder (lagged time) when divided by `bus time`.\n",
    "- Would look like this:\n",
    "    - `t` where:\n",
    "        - remainder 0 when divded by 7\n",
    "        - remainder of (13 - 1) when divided by 13\n",
    "            - Since we need t + 1 to be a multiple of 13, this means we need a remainder of `13-1` when `t` is divided by 13. \n",
    "        - remainder of (59 - 4) when divded by 59\n",
    "        - remainder of (31 - 6) when divded by 31\n",
    "        - remainder of (19 - 7) when divded by 19"
   ]
  },
  {
   "cell_type": "code",
   "execution_count": 9,
   "metadata": {},
   "outputs": [
    {
     "name": "stdout",
     "output_type": "stream",
     "text": [
      "1\n",
      "1\n",
      "1\n",
      "1\n",
      "1\n",
      "1\n",
      "1\n",
      "1\n",
      "1\n",
      "1\n"
     ]
    }
   ],
   "source": [
    "from itertools import combinations\n",
    "import math \n",
    "test_list = [7,13,59,31,19]\n",
    "\n",
    "output = combinations(test_list,2)\n",
    "for i in output:\n",
    "    print(math.gcd(i[0], i[1])) # All are 1"
   ]
  },
  {
   "cell_type": "markdown",
   "metadata": {},
   "source": [
    "#### Actual solve: \n",
    "\n",
    "- We want `t` to be equivalent to all of the mods output. \n",
    "    - `t = 0 (mod 7)`\n",
    "    - `t = 13 - 1 (mod 13)`\n",
    "    - `t = 59 - 4 (mod 59)`\n",
    "    - `t = 31 - 6 (mod 31)`\n",
    "    - `t = 19 - 7 (mod 19)`\n",
    "    \n",
    "- Writing It Out: \n",
    "    - Resource: http://homepages.math.uic.edu/~leon/mcs425-s08/handouts/chinese_remainder.pdf\n",
    "    - Info:\n",
    "        - k = 5\n",
    "        - m1 = 7, a1 = 0\n",
    "        - m2 = 13, a2 = 12\n",
    "        - m3 = 59, a3 = 55\n",
    "        - m4 = 31, a4 = 25\n",
    "        - m5 = 19, a5 = 12\n",
    "    - Should be a solution with modulo m: `7 * 13 * 59 * 31 * 19 = 3162341`\n",
    "    \n",
    "    - Step 1: Compute various equations for zs:\n",
    "        - z1 = m/m1 = m2m3m4m5 = 13 * 59 * 31 * 19= 451763\n",
    "        - z2 = m/m2 = m1m3m4m5 = 7 * 59 * 31 * 19 = 243257\n",
    "        - z3 = m / m3 = m1m2m4m5 = 7 * 13 * 31 * 19 = 53599\n",
    "        - z4 = m / m4 = m1m2m3m5 = 7 * 13 * 59 * 19 =  102011\n",
    "        - z5 = m / m5 = m1m2m3m4 = 7 * 13 * 59 * 31 = 166439\n",
    "   \n",
    "    - Step 2: Compute inverse modulo\n",
    "```python\n",
    "pow(451763, -1, 7) == 2\n",
    "pow(243257, -1, 13) == 1\n",
    "pow(53599, -1, 59) == 35\n",
    "pow(102011, -1, 31) == 3\n",
    "pow(166439, -1, 19) == 18\n",
    "```\n",
    "    - \n",
    "  - Step 3: Solve for w\n",
    "      - w1 = y1z1 (mod m) = 2 * 451763 (mod 3162341)\n",
    "      - w2 = y2z2 (mod m) = 1 * 243257 (mod 3162341)\n",
    "      - w3 = y3z3 (mod m) = 35 * 53599 (mod 3162341)\n",
    "      - w4 = y4z4 (mod m) = 3 * 102011 (mod 3162341)        \n",
    "      - w5 = y5z5 (mod m) = 18 * 166439 (mod 3162341)\n",
    "  \n",
    "  \n",
    "  - Step 4: Throw it all together for unique solution: \n",
    "      - `x = a1*w1 + a2 * w2 + a3 * w3 + a4*w4 + a5*w5 (mod 3162341)`\n",
    "      - `  = 0 * 2 * 451763 + 12 * 1 * 243257 + 55* 35 * 53599 + 25 * 3 * 102011 + 12 * 18 * 166439 mod(3162341)`\n",
    "      - ` x = 1068781`\n"
   ]
  },
  {
   "cell_type": "code",
   "execution_count": 69,
   "metadata": {},
   "outputs": [
    {
     "name": "stdout",
     "output_type": "stream",
     "text": [
      "1068781\n"
     ]
    }
   ],
   "source": [
    "print((0 * 2 * 451763 + 12 * 1 * 243257 + 55* 35 * 53599 + 25 * 3 * 102011 + 12 * 18 * 166439) % 3162341)"
   ]
  },
  {
   "cell_type": "markdown",
   "metadata": {},
   "source": [
    "#### Scaling to Python: \n",
    "\n",
    "- Now that I can solve these, let's write some basic Python code"
   ]
  },
  {
   "cell_type": "code",
   "execution_count": 82,
   "metadata": {},
   "outputs": [
    {
     "name": "stdout",
     "output_type": "stream",
     "text": [
      "3162341\n",
      "[451763, 243257, 53599, 102011, 166439]\n",
      "[2, 1, 35, 3, 18]\n",
      "[903526, 243257, 1875965, 306033, 2995902]\n",
      "149698808\n",
      "1068781\n"
     ]
    }
   ],
   "source": [
    "from functools import reduce\n",
    "\n",
    "m_list = [7,13,59,31,19]\n",
    "a_list = [0,12,55,25,12]\n",
    "\n",
    "# solve for modulo\n",
    "modulo = reduce((lambda x, y: x * y), m_list)\n",
    "print(modulo)\n",
    "\n",
    "# Step 1: Compute various equations for zs:\n",
    "# generate all zs\n",
    "z_list = []\n",
    "for i in range(len(m_list)):\n",
    "    m_vals = [x for x in m_list if x != m_list[i]]\n",
    "    z_list.append(reduce((lambda x, y: x * y), m_vals))\n",
    "print(z_list)\n",
    "\n",
    "#  Step 2: Compute inverse modulo\n",
    "# calculate ys\n",
    "y_list = []\n",
    "for i in range(len(m_list)):\n",
    "    y_list.append(pow(z_list[i], -1, m_list[i]))\n",
    "print(y_list)\n",
    "\n",
    "# Step 3: Solve for w\n",
    "w_list = []\n",
    "for i in range(len(m_list)):\n",
    "    w_list.append(y_list[i] * z_list[i])\n",
    "print(w_list)\n",
    "\n",
    "# Step 4: Throw it Together\n",
    "total_sum = 0\n",
    "for i in range(len(m_list)):\n",
    "    total_sum += w_list[i] * a_list[i]\n",
    "print(total_sum)\n",
    "\n",
    "# Step 5: Solve for solution by taking modulo \n",
    "print(total_sum % modulo)"
   ]
  },
  {
   "cell_type": "markdown",
   "metadata": {},
   "source": [
    "### Moving to Part 2 Real Data"
   ]
  },
  {
   "cell_type": "code",
   "execution_count": 75,
   "metadata": {},
   "outputs": [
    {
     "name": "stdout",
     "output_type": "stream",
     "text": [
      "[['1008169\\n'], ['29', 'x', 'x', 'x', 'x', 'x', 'x', 'x', 'x', 'x', 'x', 'x', 'x', 'x', 'x', 'x', 'x', 'x', 'x', '41', 'x', 'x', 'x', '37', 'x', 'x', 'x', 'x', 'x', '653', 'x', 'x', 'x', 'x', 'x', 'x', 'x', 'x', 'x', 'x', 'x', 'x', '13', 'x', 'x', 'x', '17', 'x', 'x', 'x', 'x', 'x', '23', 'x', 'x', 'x', 'x', 'x', 'x', 'x', '823', 'x', 'x', 'x', 'x', 'x', 'x', 'x', 'x', 'x', 'x', 'x', 'x', 'x', 'x', 'x', 'x', 'x', 'x', '19']]\n"
     ]
    },
    {
     "data": {
      "text/plain": [
       "{'29': 0,\n",
       " 'x': 78,\n",
       " '41': 19,\n",
       " '37': 23,\n",
       " '653': 29,\n",
       " '13': 42,\n",
       " '17': 46,\n",
       " '23': 52,\n",
       " '823': 60,\n",
       " '19': 79}"
      ]
     },
     "execution_count": 75,
     "metadata": {},
     "output_type": "execute_result"
    }
   ],
   "source": [
    "# path \n",
    "filepath = \"day13_data.txt\"\n",
    "with open(filepath) as fh:\n",
    "    lines = [line.split(',') for line in fh.readlines()]\n",
    "print(lines)\n",
    "# departure time\n",
    "bus_times = [x for x in lines[1]]\n",
    "diff_times = [x[0] for x in enumerate(bus_times)]\n",
    "bus_dict = {x[1]: x[0] for x in enumerate(bus_times)}\n",
    "bus_dict"
   ]
  },
  {
   "cell_type": "code",
   "execution_count": 83,
   "metadata": {},
   "outputs": [
    {
     "name": "stdout",
     "output_type": "stream",
     "text": [
      "2283338533368659\n",
      "[78735811495471, 55691183740699, 61711852253207, 3496689943903, 175641425643743, 134314031374627, 99275588407333, 2774408910533, 120175712282561]\n",
      "[9, 36, 34, 614, 2, 1, 5, 170, 6]\n",
      "[708622303459239, 2004882614665164, 2098202976609038, 2146967625556442, 351282851287486, 134314031374627, 496377942036665, 471649514790610, 721054273695366]\n",
      "1701318110989628856\n",
      "230903629977901\n"
     ]
    }
   ],
   "source": [
    "m_list = [29,41,37, 653, 13, 17, 23, 823, 19]\n",
    "a_list = [0, 22, 14, 624, -29, -29, -29, 763, -60]\n",
    "\n",
    "# solve for modulo\n",
    "modulo = reduce((lambda x, y: x * y), m_list)\n",
    "print(modulo)\n",
    "\n",
    "# Step 1: Compute various equations for zs:\n",
    "# generate all zs\n",
    "z_list = []\n",
    "for i in range(len(m_list)):\n",
    "    m_vals = [x for x in m_list if x != m_list[i]]\n",
    "    z_list.append(reduce((lambda x, y: x * y), m_vals))\n",
    "print(z_list)\n",
    "\n",
    "#  Step 2: Compute inverse modulo\n",
    "# calculate ys\n",
    "y_list = []\n",
    "for i in range(len(m_list)):\n",
    "    y_list.append(pow(z_list[i], -1, m_list[i]))\n",
    "print(y_list)\n",
    "\n",
    "# Step 3: Solve for w\n",
    "w_list = []\n",
    "for i in range(len(m_list)):\n",
    "    w_list.append(y_list[i] * z_list[i])\n",
    "print(w_list)\n",
    "\n",
    "# Step 4: Throw it Together\n",
    "total_sum = 0\n",
    "for i in range(len(m_list)):\n",
    "    total_sum += w_list[i] * a_list[i]\n",
    "print(total_sum)\n",
    "\n",
    "# Step 5: Solve for solution by taking modulo \n",
    "print(total_sum % modulo)"
   ]
  }
 ],
 "metadata": {
  "kernelspec": {
   "display_name": "Python 3.8",
   "language": "python",
   "name": "other-env"
  },
  "language_info": {
   "codemirror_mode": {
    "name": "ipython",
    "version": 3
   },
   "file_extension": ".py",
   "mimetype": "text/x-python",
   "name": "python",
   "nbconvert_exporter": "python",
   "pygments_lexer": "ipython3",
   "version": "3.8.5"
  }
 },
 "nbformat": 4,
 "nbformat_minor": 4
}
