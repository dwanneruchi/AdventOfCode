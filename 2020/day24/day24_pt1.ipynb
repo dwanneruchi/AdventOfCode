{
 "cells": [
  {
   "cell_type": "markdown",
   "metadata": {},
   "source": [
    "### Day 24 - Part 1:\n",
    "\n",
    "- probably makes sense to convert from `N` and `E` to a coordinate system. "
   ]
  },
  {
   "cell_type": "code",
   "execution_count": 23,
   "metadata": {},
   "outputs": [],
   "source": [
    "from collections import defaultdict\n",
    "\n",
    "# Read in test data\n",
    "filepath = \"day24_test_data.txt\"\n",
    "with open(filepath) as fh:\n",
    "    lines = [line.strip() for line in fh.readlines()]"
   ]
  },
  {
   "cell_type": "code",
   "execution_count": 46,
   "metadata": {},
   "outputs": [],
   "source": [
    "def createCoords(d):\n",
    "    \"Input a char and output a tuple represents (x,y) change\"\n",
    "    \n",
    "    # when we step left or right we take a much bigger step since not splitting vector in two directions\n",
    "    # need to take 1/2 for each bi-directional shift (shows clearly on a visual of hex grids)\n",
    "    if d == 'e':\n",
    "        return (1,0)\n",
    "    elif d == 'se':\n",
    "        return (0.5, -0.5)\n",
    "    elif d == 'sw':\n",
    "        return (-0.5,-0.5)\n",
    "    elif d == 'w':\n",
    "        return (-1,0)\n",
    "    elif d == 'nw':\n",
    "        return (-0.5,0.5)\n",
    "    else:\n",
    "        return (0.5,0.5)"
   ]
  },
  {
   "cell_type": "code",
   "execution_count": 47,
   "metadata": {},
   "outputs": [
    {
     "name": "stdout",
     "output_type": "stream",
     "text": [
      "[0.0, 0.0]\n"
     ]
    }
   ],
   "source": [
    "direction_list = []\n",
    "coord_moves = []\n",
    "i = 0\n",
    "position = [0,0]\n",
    "line = 'nwwswee'\n",
    "while i < len(line):\n",
    "\n",
    "    # we see if we need to skip 2\n",
    "    if line[i] in ['n', 's']:\n",
    "        dir_char = line[i:i+2]\n",
    "        direction_list.append(dir_char) # only for testing\n",
    "        i += 2 # skip ahead 2\n",
    "        coord = createCoords(dir_char)\n",
    "        coord_moves.append(coord)\n",
    "    else:\n",
    "        dir_char = line[i]\n",
    "        direction_list.append(dir_char) # only for testing\n",
    "        i += 1 # only 1 step\n",
    "        coord = createCoords(dir_char)\n",
    "        coord_moves.append(coord)\n",
    "\n",
    "    # update position \n",
    "    position[0] += coord[0]\n",
    "    position[1] += coord[1]\n",
    "print(position)"
   ]
  },
  {
   "cell_type": "code",
   "execution_count": 48,
   "metadata": {},
   "outputs": [],
   "source": [
    "# This becomes a bit messier since we need to account for e vs se. Not clear consistency. \n",
    "all_coords = []\n",
    "all_directions = [] # strictly for testing\n",
    "flipped_dict = defaultdict(int) # track specific coords at each line & store times visited \n",
    "for line in lines:\n",
    "    direction_list = []\n",
    "    coord_moves = []\n",
    "    i = 0\n",
    "    position = [0,0]\n",
    "    while i < len(line):\n",
    "        \n",
    "        # we see if we need to skip 2\n",
    "        if line[i] in ['n', 's']:\n",
    "            dir_char = line[i:i+2]\n",
    "            direction_list.append(dir_char) # only for testing\n",
    "            i += 2 # skip ahead 2\n",
    "            coord = createCoords(dir_char)\n",
    "            coord_moves.append(coord)\n",
    "        else:\n",
    "            dir_char = line[i]\n",
    "            direction_list.append(dir_char) # only for testing\n",
    "            i += 1 # only 1 step\n",
    "            coord = createCoords(dir_char)\n",
    "            coord_moves.append(coord)\n",
    "    \n",
    "        # update position \n",
    "        position[0] += coord[0]\n",
    "        position[1] += coord[1]\n",
    "    \n",
    "    # take final position & add to default dict \n",
    "    flipped_dict[(position[0], position[1])] += 1\n",
    "    del position\n",
    "    # append to total list\n",
    "    all_coords.append(coord_moves)\n",
    "    all_directions.append(direction_list)"
   ]
  },
  {
   "cell_type": "code",
   "execution_count": 49,
   "metadata": {},
   "outputs": [
    {
     "name": "stdout",
     "output_type": "stream",
     "text": [
      "['se', 'se', 'nw', 'ne', 'ne', 'ne', 'w', 'se', 'e', 'sw', 'w', 'sw', 'sw', 'w', 'ne', 'ne', 'w', 'se', 'w', 'sw']\n",
      "[(0.5, -0.5), (0.5, -0.5), (-0.5, 0.5), (0.5, 0.5), (0.5, 0.5), (0.5, 0.5), (-1, 0), (0.5, -0.5), (1, 0), (-0.5, -0.5), (-1, 0), (-0.5, -0.5), (-0.5, -0.5), (-1, 0), (0.5, 0.5), (0.5, 0.5), (-1, 0), (0.5, -0.5), (-1, 0), (-0.5, -0.5)]\n"
     ]
    }
   ],
   "source": [
    "print(all_directions[0])\n",
    "print(all_coords[0])"
   ]
  },
  {
   "cell_type": "code",
   "execution_count": 50,
   "metadata": {},
   "outputs": [
    {
     "data": {
      "text/plain": [
       "defaultdict(int,\n",
       "            {(-2.0, -1.0): 1,\n",
       "             (-0.5, 1.5): 2,\n",
       "             (-1.5, -1.5): 1,\n",
       "             (1.0, 1.0): 2,\n",
       "             (0.0, 1.0): 2,\n",
       "             (-1.0, 0.0): 2,\n",
       "             (-2.0, 0.0): 1,\n",
       "             (-0.5, 0.5): 1,\n",
       "             (-1.5, -0.5): 1,\n",
       "             (-1.0, 1.0): 2,\n",
       "             (1.5, 1.5): 1,\n",
       "             (1.0, -1.0): 1,\n",
       "             (0.0, 0.0): 1,\n",
       "             (2.0, 0.0): 1,\n",
       "             (-1.5, 0.5): 1})"
      ]
     },
     "execution_count": 50,
     "metadata": {},
     "output_type": "execute_result"
    }
   ],
   "source": [
    "flipped_dict"
   ]
  },
  {
   "cell_type": "code",
   "execution_count": 51,
   "metadata": {},
   "outputs": [
    {
     "name": "stdout",
     "output_type": "stream",
     "text": [
      "10\n"
     ]
    }
   ],
   "source": [
    "# Logic - Anything flipped an odd amount is black\n",
    "tot_black = 0\n",
    "for k,v in flipped_dict.items():\n",
    "    if v % 2 == 1:\n",
    "        tot_black += 1\n",
    "print(tot_black)"
   ]
  },
  {
   "cell_type": "markdown",
   "metadata": {},
   "source": [
    "#### Real Data:"
   ]
  },
  {
   "cell_type": "code",
   "execution_count": 52,
   "metadata": {},
   "outputs": [],
   "source": [
    "# Read in test data\n",
    "filepath = \"day24_data.txt\"\n",
    "with open(filepath) as fh:\n",
    "    lines = [line.strip() for line in fh.readlines()]"
   ]
  },
  {
   "cell_type": "code",
   "execution_count": 53,
   "metadata": {},
   "outputs": [
    {
     "name": "stdout",
     "output_type": "stream",
     "text": [
      "427\n"
     ]
    }
   ],
   "source": [
    "# This becomes a bit messier since we need to account for e vs se. Not clear consistency. \n",
    "all_coords = []\n",
    "all_directions = [] # strictly for testing\n",
    "flipped_dict = defaultdict(int) # track specific coords at each line & store times visited \n",
    "for line in lines:\n",
    "    direction_list = []\n",
    "    coord_moves = []\n",
    "    i = 0\n",
    "    position = [0,0]\n",
    "    while i < len(line):\n",
    "        \n",
    "        # we see if we need to skip 2\n",
    "        if line[i] in ['n', 's']:\n",
    "            dir_char = line[i:i+2]\n",
    "            direction_list.append(dir_char) # only for testing\n",
    "            i += 2 # skip ahead 2\n",
    "            coord = createCoords(dir_char)\n",
    "            coord_moves.append(coord)\n",
    "        else:\n",
    "            dir_char = line[i]\n",
    "            direction_list.append(dir_char) # only for testing\n",
    "            i += 1 # only 1 step\n",
    "            coord = createCoords(dir_char)\n",
    "            coord_moves.append(coord)\n",
    "    \n",
    "        # update position \n",
    "        position[0] += coord[0]\n",
    "        position[1] += coord[1]\n",
    "    \n",
    "    # take final position & add to default dict \n",
    "    flipped_dict[(position[0], position[1])] += 1\n",
    "    del position\n",
    "    # append to total list\n",
    "    all_coords.append(coord_moves)\n",
    "    all_directions.append(direction_list)\n",
    "    \n",
    "# Logic - Anything flipped an odd amount is black\n",
    "tot_black = 0\n",
    "for k,v in flipped_dict.items():\n",
    "    if v % 2 == 1:\n",
    "        tot_black += 1\n",
    "print(tot_black)"
   ]
  }
 ],
 "metadata": {
  "kernelspec": {
   "display_name": "Python 3.8",
   "language": "python",
   "name": "other-env"
  },
  "language_info": {
   "codemirror_mode": {
    "name": "ipython",
    "version": 3
   },
   "file_extension": ".py",
   "mimetype": "text/x-python",
   "name": "python",
   "nbconvert_exporter": "python",
   "pygments_lexer": "ipython3",
   "version": "3.8.5"
  }
 },
 "nbformat": 4,
 "nbformat_minor": 4
}
