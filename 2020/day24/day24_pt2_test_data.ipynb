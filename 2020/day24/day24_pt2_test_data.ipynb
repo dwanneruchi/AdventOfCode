{
 "cells": [
  {
   "cell_type": "markdown",
   "metadata": {},
   "source": [
    "### Day 24 - Part 2:\n",
    "\n",
    "- now need to account for any adjacent values"
   ]
  },
  {
   "cell_type": "code",
   "execution_count": 35,
   "metadata": {},
   "outputs": [],
   "source": [
    "from collections import defaultdict\n",
    "\n",
    "# Read in test data\n",
    "filepath = \"day24_test_data.txt\"\n",
    "with open(filepath) as fh:\n",
    "    lines = [line.strip() for line in fh.readlines()]"
   ]
  },
  {
   "cell_type": "code",
   "execution_count": 36,
   "metadata": {},
   "outputs": [],
   "source": [
    "def createCoords(d):\n",
    "    \"Input a char and output a tuple represents (x,y) change\"\n",
    "    \n",
    "    # when we step left or right we take a much bigger step since not splitting vector in two directions\n",
    "    # need to take 1/2 for each bi-directional shift (shows clearly on a visual of hex grids)\n",
    "    if d == 'e':\n",
    "        return (1,0)\n",
    "    elif d == 'se':\n",
    "        return (0.5, -0.5)\n",
    "    elif d == 'sw':\n",
    "        return (-0.5,-0.5)\n",
    "    elif d == 'w':\n",
    "        return (-1,0)\n",
    "    elif d == 'nw':\n",
    "        return (-0.5,0.5)\n",
    "    else:\n",
    "        return (0.5,0.5)"
   ]
  },
  {
   "cell_type": "code",
   "execution_count": 37,
   "metadata": {},
   "outputs": [],
   "source": [
    "# This becomes a bit messier since we need to account for e vs se. Not clear consistency. \n",
    "all_coords = []\n",
    "all_directions = [] # strictly for testing\n",
    "flipped_dict = defaultdict(int) # track specific coords at each line & store times visited \n",
    "for line in lines:\n",
    "    direction_list = []\n",
    "    coord_moves = []\n",
    "    i = 0\n",
    "    position = [0,0]\n",
    "    while i < len(line):\n",
    "        \n",
    "        # we see if we need to skip 2\n",
    "        if line[i] in ['n', 's']:\n",
    "            dir_char = line[i:i+2]\n",
    "            direction_list.append(dir_char) # only for testing\n",
    "            i += 2 # skip ahead 2\n",
    "            coord = createCoords(dir_char)\n",
    "            coord_moves.append(coord)\n",
    "        else:\n",
    "            dir_char = line[i]\n",
    "            direction_list.append(dir_char) # only for testing\n",
    "            i += 1 # only 1 step\n",
    "            coord = createCoords(dir_char)\n",
    "            coord_moves.append(coord)\n",
    "    \n",
    "        # update position \n",
    "        position[0] += coord[0]\n",
    "        position[1] += coord[1]\n",
    "    \n",
    "    # take final position & add to default dict \n",
    "    flipped_dict[(position[0], position[1])] += 1\n",
    "    del position\n",
    "    # append to total list\n",
    "    all_coords.append(coord_moves)\n",
    "    all_directions.append(direction_list)"
   ]
  },
  {
   "cell_type": "code",
   "execution_count": 38,
   "metadata": {},
   "outputs": [
    {
     "name": "stdout",
     "output_type": "stream",
     "text": [
      "['se', 'se', 'nw', 'ne', 'ne', 'ne', 'w', 'se', 'e', 'sw', 'w', 'sw', 'sw', 'w', 'ne', 'ne', 'w', 'se', 'w', 'sw']\n",
      "[(0.5, -0.5), (0.5, -0.5), (-0.5, 0.5), (0.5, 0.5), (0.5, 0.5), (0.5, 0.5), (-1, 0), (0.5, -0.5), (1, 0), (-0.5, -0.5), (-1, 0), (-0.5, -0.5), (-0.5, -0.5), (-1, 0), (0.5, 0.5), (0.5, 0.5), (-1, 0), (0.5, -0.5), (-1, 0), (-0.5, -0.5)]\n"
     ]
    }
   ],
   "source": [
    "print(all_directions[0])\n",
    "print(all_coords[0])"
   ]
  },
  {
   "cell_type": "code",
   "execution_count": 39,
   "metadata": {},
   "outputs": [
    {
     "data": {
      "text/plain": [
       "defaultdict(int,\n",
       "            {(-2.0, -1.0): 1,\n",
       "             (-0.5, 1.5): 2,\n",
       "             (-1.5, -1.5): 1,\n",
       "             (1.0, 1.0): 2,\n",
       "             (0.0, 1.0): 2,\n",
       "             (-1.0, 0.0): 2,\n",
       "             (-2.0, 0.0): 1,\n",
       "             (-0.5, 0.5): 1,\n",
       "             (-1.5, -0.5): 1,\n",
       "             (-1.0, 1.0): 2,\n",
       "             (1.5, 1.5): 1,\n",
       "             (1.0, -1.0): 1,\n",
       "             (0.0, 0.0): 1,\n",
       "             (2.0, 0.0): 1,\n",
       "             (-1.5, 0.5): 1})"
      ]
     },
     "execution_count": 39,
     "metadata": {},
     "output_type": "execute_result"
    }
   ],
   "source": [
    "flipped_dict"
   ]
  },
  {
   "cell_type": "code",
   "execution_count": 56,
   "metadata": {},
   "outputs": [
    {
     "name": "stdout",
     "output_type": "stream",
     "text": [
      "[(-2.0, -1.0), (-1.5, -1.5), (-2.0, 0.0), (-0.5, 0.5), (-1.5, -0.5), (1.5, 1.5), (1.0, -1.0), (0.0, 0.0), (2.0, 0.0), (-1.5, 0.5)]\n"
     ]
    }
   ],
   "source": [
    "# Logic - Anything flipped an odd amount is black\n",
    "tot_black = []\n",
    "for k,v in flipped_dict.items():\n",
    "    if v % 2 == 1:\n",
    "        tot_black.append(k)\n",
    "print(tot_black)"
   ]
  },
  {
   "cell_type": "markdown",
   "metadata": {},
   "source": [
    "#### Logic to Apply: \n",
    "\n",
    "- Need to determine the 6 touching hexagons. \n",
    "- Also need to identify the x, y coords of the largest hexagon:\n",
    "    - I initially did this by expanding a grid but that isn't necessary.\n",
    "    \n",
    "    ```python\n",
    "    import numpy as np\n",
    "    from itertools import product\n",
    "    x_vals = np.linspace(-10, 10, 41)\n",
    "    y_vals = np.linspace(-10, 10, 41)\n",
    "\n",
    "    # build out all coords:\n",
    "    searchGrid = list(product(x_vals, y_vals))\n",
    "```\n",
    "- However, all I need to do is find the tiles that touch black at the start & return a list of those. This helps reduce the number of searches being done. "
   ]
  },
  {
   "cell_type": "code",
   "execution_count": 76,
   "metadata": {},
   "outputs": [],
   "source": [
    "def findBlackTiles(position, tot_black):\n",
    "    \"\"\"Check all 6 adjacent positions to see if coords exist in flipped coords\"\"\"\n",
    "    \n",
    "    black_count = 0\n",
    "    for x,y in [createCoords(d) for d in ['e', 'se', 'sw', 'w', 'nw', 'ne']]:\n",
    "        \n",
    "        test_position = (position[0] + x, position[1] + y)\n",
    "        if test_position in tot_black:\n",
    "            black_count += 1\n",
    "    \n",
    "    return black_count"
   ]
  },
  {
   "cell_type": "code",
   "execution_count": 77,
   "metadata": {},
   "outputs": [],
   "source": [
    "def findTilesInterest(tot_black):\n",
    "    \"\"\"Find any tile touching a black tile at the current state\"\"\"\n",
    "    important_list = set()\n",
    "    \n",
    "    for position in tot_black:\n",
    "        for x,y in [createCoords(d) for d in ['e', 'se', 'sw', 'w', 'nw', 'ne']]:\n",
    "            important_list.add((position[0] + x, position[1] + y))\n",
    "    \n",
    "    return list(important_list)"
   ]
  },
  {
   "cell_type": "code",
   "execution_count": 80,
   "metadata": {},
   "outputs": [
    {
     "name": "stdout",
     "output_type": "stream",
     "text": [
      "Day 1: 15\n",
      "Day 2: 12\n",
      "Day 3: 25\n",
      "Day 4: 14\n",
      "Day 5: 23\n",
      "Day 6: 28\n",
      "Day 7: 41\n",
      "Day 8: 37\n",
      "Day 9: 49\n",
      "Day 10: 37\n",
      "Day 11: 55\n",
      "Day 12: 54\n",
      "Day 13: 69\n",
      "Day 14: 73\n",
      "Day 15: 84\n",
      "Day 16: 92\n",
      "Day 17: 88\n",
      "Day 18: 107\n",
      "Day 19: 113\n",
      "Day 20: 132\n",
      "Day 21: 133\n",
      "Day 22: 147\n",
      "Day 23: 134\n",
      "Day 24: 177\n",
      "Day 25: 170\n",
      "Day 26: 176\n",
      "Day 27: 221\n",
      "Day 28: 208\n",
      "Day 29: 207\n",
      "Day 30: 259\n",
      "Day 31: 277\n",
      "Day 32: 283\n",
      "Day 33: 270\n",
      "Day 34: 324\n",
      "Day 35: 326\n",
      "Day 36: 333\n",
      "Day 37: 345\n",
      "Day 38: 371\n",
      "Day 39: 380\n",
      "Day 40: 406\n",
      "Day 41: 439\n",
      "Day 42: 466\n",
      "Day 43: 449\n",
      "Day 44: 478\n",
      "Day 45: 529\n",
      "Day 46: 525\n",
      "Day 47: 570\n",
      "Day 48: 588\n",
      "Day 49: 576\n",
      "Day 50: 566\n",
      "Day 51: 636\n",
      "Day 52: 601\n",
      "Day 53: 667\n",
      "Day 54: 672\n",
      "Day 55: 735\n",
      "Day 56: 766\n",
      "Day 57: 723\n",
      "Day 58: 755\n",
      "Day 59: 805\n",
      "Day 60: 788\n",
      "Day 61: 844\n",
      "Day 62: 875\n",
      "Day 63: 908\n",
      "Day 64: 936\n",
      "Day 65: 994\n",
      "Day 66: 943\n",
      "Day 67: 1015\n",
      "Day 68: 1029\n",
      "Day 69: 1058\n",
      "Day 70: 1106\n",
      "Day 71: 1158\n",
      "Day 72: 1146\n",
      "Day 73: 1125\n",
      "Day 74: 1159\n",
      "Day 75: 1202\n",
      "Day 76: 1344\n",
      "Day 77: 1277\n",
      "Day 78: 1345\n",
      "Day 79: 1320\n",
      "Day 80: 1373\n",
      "Day 81: 1420\n",
      "Day 82: 1431\n",
      "Day 83: 1469\n",
      "Day 84: 1561\n",
      "Day 85: 1590\n",
      "Day 86: 1596\n",
      "Day 87: 1699\n",
      "Day 88: 1662\n",
      "Day 89: 1788\n",
      "Day 90: 1844\n",
      "Day 91: 1797\n",
      "Day 92: 1800\n",
      "Day 93: 1866\n",
      "Day 94: 1887\n",
      "Day 95: 1878\n",
      "Day 96: 2070\n",
      "Day 97: 1930\n",
      "Day 98: 2031\n",
      "Day 99: 2088\n",
      "Day 100: 2208\n",
      "Total time: 58.04012179374695\n"
     ]
    }
   ],
   "source": [
    "import time\n",
    "start = time.time()\n",
    "\n",
    "# Logic - Anything flipped an odd amount is black\n",
    "tot_black = []\n",
    "for k,v in flipped_dict.items():\n",
    "    if v % 2 == 1:\n",
    "        tot_black.append(k)\n",
    "\n",
    "for i in range(100):\n",
    "    new_black_list = []\n",
    "    searchGrid = findTilesInterest(tot_black)\n",
    "    \n",
    "    for hex_pos in searchGrid:\n",
    "\n",
    "        # find total black tiles adjacent\n",
    "        black_tiles = findBlackTiles(hex_pos, tot_black)\n",
    "\n",
    "        if hex_pos in tot_black:\n",
    "            if black_tiles == 0 or black_tiles > 2:\n",
    "                pass\n",
    "            else:\n",
    "                new_black_list.append(hex_pos)\n",
    "\n",
    "        else:\n",
    "            if black_tiles == 2:\n",
    "                new_black_list.append(hex_pos)\n",
    "\n",
    "    # new black list overwrites the tot_black list\n",
    "    print(f'Day {i+1}: {len(new_black_list)}')\n",
    "    del tot_black\n",
    "    tot_black = new_black_list\n",
    "    del new_black_list\n",
    "    \n",
    "end = time.time()\n",
    "print(f\"Total time: {end - start}\")"
   ]
  },
  {
   "cell_type": "markdown",
   "metadata": {},
   "source": [
    "#### Appendix:\n",
    "\n",
    "A pretty ugly grid solution below which was quite slow, but would expand and check at the endpoints of the extreme black tiles. "
   ]
  },
  {
   "cell_type": "code",
   "execution_count": 81,
   "metadata": {},
   "outputs": [],
   "source": [
    "def buildGrid(tot_black):\n",
    "    \"\"\"Build a grid that is slightly larger than our most extreme black hexagons\"\"\"\n",
    "    min_x, min_y, max_x, max_y = 0,0,0,0\n",
    "    for coord in tot_black:\n",
    "        if coord[0] < min_x:\n",
    "            min_x = coord[0]\n",
    "        if coord[1] < min_y:\n",
    "            min_y = coord[1]\n",
    "        if coord[0] > max_x:\n",
    "            max_x = coord[0]\n",
    "        if coord[1] > max_y:\n",
    "            max_y = coord[1]\n",
    "    \n",
    "    # ugly expansion - there are cleaner ways to handle this \n",
    "    min_x -= 1\n",
    "    min_y -= 1\n",
    "    max_x += 1\n",
    "    max_y += 1\n",
    "    \n",
    "    # build our grid\n",
    "    x_ticks = abs(max_x - min_x) * 2 + 1\n",
    "    x_vals = np.linspace(min_x, max_x, int(x_ticks))\n",
    "    y_ticks = abs(max_y - min_y) * 2 + 1\n",
    "    y_vals = np.linspace(min_y, max_y, int(y_ticks))\n",
    "    \n",
    "    return list(product(x_vals, y_vals))"
   ]
  }
 ],
 "metadata": {
  "kernelspec": {
   "display_name": "Python 3.8",
   "language": "python",
   "name": "other-env"
  },
  "language_info": {
   "codemirror_mode": {
    "name": "ipython",
    "version": 3
   },
   "file_extension": ".py",
   "mimetype": "text/x-python",
   "name": "python",
   "nbconvert_exporter": "python",
   "pygments_lexer": "ipython3",
   "version": "3.8.5"
  }
 },
 "nbformat": 4,
 "nbformat_minor": 4
}
