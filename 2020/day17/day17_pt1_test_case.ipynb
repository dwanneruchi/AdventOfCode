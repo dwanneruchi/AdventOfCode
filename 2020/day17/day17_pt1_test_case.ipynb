{
 "cells": [
  {
   "cell_type": "markdown",
   "metadata": {},
   "source": [
    "### Day 17, Part 1: Test Cases\n",
    "\n",
    "\n",
    "#### Details:\n",
    "\n",
    "- The only exception to this is a small flat region of cubes (your puzzle input); the cubes in this region start in the specified active (#) or inactive (.) state\n",
    "\n",
    "- At every integer 3-dimensional coordinate (x,y,z), there exists a single cube which is either active or inactive.\n",
    "\n",
    "- Each cube only ever considers its neighbors: any of the 26 other cubes where any of their coordinates differ by at most 1. For example, given the cube at x=1,y=2,z=3, its neighbors include the cube at x=2,y=2,z=2, the cube at x=0,y=2,z=3, and so on.\n",
    "\n",
    "- During a cycle, all cubes simultaneously change their state according to the following rules:\n",
    "\n",
    "```If a cube is active and exactly 2 or 3 of its neighbors are also active, the cube remains active. Otherwise, the cube becomes inactive.\n",
    "If a cube is inactive but exactly 3 of its neighbors are active, the cube becomes active. Otherwise, the cube remains inactive.```"
   ]
  },
  {
   "cell_type": "code",
   "execution_count": 3,
   "metadata": {},
   "outputs": [],
   "source": [
    "filepath = \"day17_test_data.txt\"\n",
    "with open(filepath) as fh:\n",
    "    lines = [line.strip() for line in fh.readlines()]"
   ]
  },
  {
   "cell_type": "code",
   "execution_count": 141,
   "metadata": {},
   "outputs": [
    {
     "name": "stdout",
     "output_type": "stream",
     "text": [
      "[[0 1 0]\n",
      " [0 0 1]\n",
      " [1 1 1]]\n"
     ]
    }
   ],
   "source": [
    "# get it into a matrix \n",
    "import numpy as np\n",
    "\n",
    "matrix_in = [list(code) for code in lines]\n",
    "\n",
    "# matrix form of z = 0 -> we assume the surroundings are all inactive at the start\n",
    "matrix = np.array([np.array(row) for row in matrix_in])\n",
    "\n",
    "# going to switch to 1s and 0s\n",
    "# 1 == Active, 0 == Inactive -> will let me sum\n",
    "matrix[matrix == '#'] = 1\n",
    "matrix[matrix == '.'] = 0\n",
    "z0 = matrix.astype(int)\n",
    "print(z0)"
   ]
  },
  {
   "cell_type": "code",
   "execution_count": 142,
   "metadata": {},
   "outputs": [],
   "source": [
    "# we now need a way to expand these outward in all directions.\n",
    "# initially we have all 0s for z = -1 & z = 1 \n",
    "# if something does not exist, we can just assume it is 0\n",
    "z1 = np.full(z0.shape, 0)\n",
    "zn1 = np.full(z0.shape, 0)"
   ]
  },
  {
   "cell_type": "code",
   "execution_count": 143,
   "metadata": {},
   "outputs": [
    {
     "name": "stdout",
     "output_type": "stream",
     "text": [
      "[[[0 0 0]\n",
      "  [0 0 0]\n",
      "  [0 0 0]]\n",
      "\n",
      " [[0 1 0]\n",
      "  [0 0 1]\n",
      "  [1 1 1]]\n",
      "\n",
      " [[0 0 0]\n",
      "  [0 0 0]\n",
      "  [0 0 0]]]\n"
     ]
    }
   ],
   "source": [
    "array3d = np.stack((z1, z0, zn1))\n",
    "print(array3d)"
   ]
  },
  {
   "cell_type": "markdown",
   "metadata": {},
   "source": [
    "### Need to Expand Grid Out:\n",
    "\n",
    "- Just going to expand early....should really be a 5 x 5....or more...\n"
   ]
  },
  {
   "cell_type": "code",
   "execution_count": 150,
   "metadata": {},
   "outputs": [
    {
     "name": "stdout",
     "output_type": "stream",
     "text": [
      "New shape is: (23, 23, 23)\n"
     ]
    }
   ],
   "source": [
    "# can we pad a 3D object? Oh wow....we can! Let's pad this up!\n",
    "final_matrix = np.pad(array3d, pad_width=10, mode='constant', constant_values=0)\n",
    "print(f\"New shape is: {final_matrix.shape}\")"
   ]
  },
  {
   "cell_type": "markdown",
   "metadata": {},
   "source": [
    "### Building Functions for iterating over each Val: \n",
    "\n",
    "- Assumption is that non-existent coordinate actually should exist, but would start as a 0.\n",
    "- However, it will need to be constantly expanded (no idea how to do this)\n",
    "\n",
    "\n",
    "#### What should be surrounding (1,1,1) ?\n",
    "\n",
    "- x=1,y=2,z=3:\n",
    "- Inspiration: https://stackoverflow.com/questions/2373306/pythonic-and-efficient-way-of-finding-adjacent-cells-in-grid\n"
   ]
  },
  {
   "cell_type": "code",
   "execution_count": 151,
   "metadata": {},
   "outputs": [
    {
     "name": "stdout",
     "output_type": "stream",
     "text": [
      "26\n"
     ]
    }
   ],
   "source": [
    "# testing \n",
    "x_in, y_in, z_in = 1,1,1\n",
    "test_run = []\n",
    "for x,y,z in [(x_in + i, y_in + j, z_in + k) for i in (-1,0,1) for j in (-1,0,1) for k in (-1,0,1)]:\n",
    "    if x == x_in and y == y_in and z == z_in:\n",
    "        continue\n",
    "    test_run.append((x,y,z))\n",
    "\n",
    "print(len(set(test_run)))"
   ]
  },
  {
   "cell_type": "code",
   "execution_count": 152,
   "metadata": {},
   "outputs": [],
   "source": [
    "# single func\n",
    "def countNeighbors(coord, matrix):\n",
    "    \"\"\"Review neighbor states\"\"\"\n",
    "    depth, row, col = coord\n",
    "    count = 0\n",
    "    for d,r,c in [(depth + i, row + j, col + k) for i in (-1,0,1) for j in (-1,0,1) for k in (-1,0,1)]:\n",
    "        if d == depth and r == row and c == col:\n",
    "            continue\n",
    "        try:\n",
    "            count += matrix[(d,r,c)]\n",
    "        except:\n",
    "            pass\n",
    "\n",
    "    return count\n",
    "    "
   ]
  },
  {
   "cell_type": "code",
   "execution_count": 153,
   "metadata": {},
   "outputs": [
    {
     "name": "stdout",
     "output_type": "stream",
     "text": [
      "After 1 Cycle\n",
      "Check z = -1\n",
      "[[0 0 0 0 0 0 0 0 0 0 0 0 0 0 0 0 0 0 0 0 0 0 0]\n",
      " [0 0 0 0 0 0 0 0 0 0 0 0 0 0 0 0 0 0 0 0 0 0 0]\n",
      " [0 0 0 0 0 0 0 0 0 0 0 0 0 0 0 0 0 0 0 0 0 0 0]\n",
      " [0 0 0 0 0 0 0 0 0 0 0 0 0 0 0 0 0 0 0 0 0 0 0]\n",
      " [0 0 0 0 0 0 0 0 0 0 0 0 0 0 0 0 0 0 0 0 0 0 0]\n",
      " [0 0 0 0 0 0 0 0 0 0 0 0 0 0 0 0 0 0 0 0 0 0 0]\n",
      " [0 0 0 0 0 0 0 0 0 0 0 0 0 0 0 0 0 0 0 0 0 0 0]\n",
      " [0 0 0 0 0 0 0 0 0 0 0 0 0 0 0 0 0 0 0 0 0 0 0]\n",
      " [0 0 0 0 0 0 0 0 0 0 0 0 0 0 0 0 0 0 0 0 0 0 0]\n",
      " [0 0 0 0 0 0 0 0 0 0 0 0 0 0 0 0 0 0 0 0 0 0 0]\n",
      " [0 0 0 0 0 0 0 0 0 0 0 0 0 0 0 0 0 0 0 0 0 0 0]\n",
      " [0 0 0 0 0 0 0 0 0 0 1 0 1 0 0 0 0 0 0 0 0 0 0]\n",
      " [0 0 0 0 0 0 0 0 0 0 0 1 1 0 0 0 0 0 0 0 0 0 0]\n",
      " [0 0 0 0 0 0 0 0 0 0 0 1 0 0 0 0 0 0 0 0 0 0 0]\n",
      " [0 0 0 0 0 0 0 0 0 0 0 0 0 0 0 0 0 0 0 0 0 0 0]\n",
      " [0 0 0 0 0 0 0 0 0 0 0 0 0 0 0 0 0 0 0 0 0 0 0]\n",
      " [0 0 0 0 0 0 0 0 0 0 0 0 0 0 0 0 0 0 0 0 0 0 0]\n",
      " [0 0 0 0 0 0 0 0 0 0 0 0 0 0 0 0 0 0 0 0 0 0 0]\n",
      " [0 0 0 0 0 0 0 0 0 0 0 0 0 0 0 0 0 0 0 0 0 0 0]\n",
      " [0 0 0 0 0 0 0 0 0 0 0 0 0 0 0 0 0 0 0 0 0 0 0]\n",
      " [0 0 0 0 0 0 0 0 0 0 0 0 0 0 0 0 0 0 0 0 0 0 0]\n",
      " [0 0 0 0 0 0 0 0 0 0 0 0 0 0 0 0 0 0 0 0 0 0 0]\n",
      " [0 0 0 0 0 0 0 0 0 0 0 0 0 0 0 0 0 0 0 0 0 0 0]]\n",
      "Check z = 0\n",
      "[[0 0 0 0 0 0 0 0 0 0 0 0 0 0 0 0 0 0 0 0 0 0 0]\n",
      " [0 0 0 0 0 0 0 0 0 0 0 0 0 0 0 0 0 0 0 0 0 0 0]\n",
      " [0 0 0 0 0 0 0 0 0 0 0 0 0 0 0 0 0 0 0 0 0 0 0]\n",
      " [0 0 0 0 0 0 0 0 0 0 0 0 0 0 0 0 0 0 0 0 0 0 0]\n",
      " [0 0 0 0 0 0 0 0 0 0 0 0 0 0 0 0 0 0 0 0 0 0 0]\n",
      " [0 0 0 0 0 0 0 0 0 0 0 0 0 0 0 0 0 0 0 0 0 0 0]\n",
      " [0 0 0 0 0 0 0 0 0 0 0 0 0 0 0 0 0 0 0 0 0 0 0]\n",
      " [0 0 0 0 0 0 0 0 0 0 0 0 0 0 0 0 0 0 0 0 0 0 0]\n",
      " [0 0 0 0 0 0 0 0 0 0 0 0 0 0 0 0 0 0 0 0 0 0 0]\n",
      " [0 0 0 0 0 0 0 0 0 0 0 0 0 0 0 0 0 0 0 0 0 0 0]\n",
      " [0 0 0 0 0 0 0 0 0 0 0 0 0 0 0 0 0 0 0 0 0 0 0]\n",
      " [0 0 0 0 0 0 0 0 0 0 1 0 0 0 0 0 0 0 0 0 0 0 0]\n",
      " [0 0 0 0 0 0 0 0 0 0 0 0 1 0 0 0 0 0 0 0 0 0 0]\n",
      " [0 0 0 0 0 0 0 0 0 0 0 1 0 0 0 0 0 0 0 0 0 0 0]\n",
      " [0 0 0 0 0 0 0 0 0 0 0 0 0 0 0 0 0 0 0 0 0 0 0]\n",
      " [0 0 0 0 0 0 0 0 0 0 0 0 0 0 0 0 0 0 0 0 0 0 0]\n",
      " [0 0 0 0 0 0 0 0 0 0 0 0 0 0 0 0 0 0 0 0 0 0 0]\n",
      " [0 0 0 0 0 0 0 0 0 0 0 0 0 0 0 0 0 0 0 0 0 0 0]\n",
      " [0 0 0 0 0 0 0 0 0 0 0 0 0 0 0 0 0 0 0 0 0 0 0]\n",
      " [0 0 0 0 0 0 0 0 0 0 0 0 0 0 0 0 0 0 0 0 0 0 0]\n",
      " [0 0 0 0 0 0 0 0 0 0 0 0 0 0 0 0 0 0 0 0 0 0 0]\n",
      " [0 0 0 0 0 0 0 0 0 0 0 0 0 0 0 0 0 0 0 0 0 0 0]\n",
      " [0 0 0 0 0 0 0 0 0 0 0 0 0 0 0 0 0 0 0 0 0 0 0]]\n",
      "Check z = 1\n",
      "[[0 0 0 0 0 0 0 0 0 0 0 0 0 0 0 0 0 0 0 0 0 0 0]\n",
      " [0 0 0 0 0 0 0 0 0 0 0 0 0 0 0 0 0 0 0 0 0 0 0]\n",
      " [0 0 0 0 0 0 0 0 0 0 0 0 0 0 0 0 0 0 0 0 0 0 0]\n",
      " [0 0 0 0 0 0 0 0 0 0 0 0 0 0 0 0 0 0 0 0 0 0 0]\n",
      " [0 0 0 0 0 0 0 0 0 0 0 0 0 0 0 0 0 0 0 0 0 0 0]\n",
      " [0 0 0 0 0 0 0 0 0 0 0 0 0 0 0 0 0 0 0 0 0 0 0]\n",
      " [0 0 0 0 0 0 0 0 0 0 0 0 0 0 0 0 0 0 0 0 0 0 0]\n",
      " [0 0 0 0 0 0 0 0 0 0 0 0 0 0 0 0 0 0 0 0 0 0 0]\n",
      " [0 0 0 0 0 0 0 0 0 0 0 0 0 0 0 0 0 0 0 0 0 0 0]\n",
      " [0 0 0 0 0 0 0 0 0 0 0 0 0 0 0 0 0 0 0 0 0 0 0]\n",
      " [0 0 0 0 0 0 0 0 0 0 0 0 0 0 0 0 0 0 0 0 0 0 0]\n",
      " [0 0 0 0 0 0 0 0 0 0 0 0 0 0 0 0 0 0 0 0 0 0 0]\n",
      " [0 0 0 0 0 0 0 0 0 0 0 0 0 0 0 0 0 0 0 0 0 0 0]\n",
      " [0 0 0 0 0 0 0 0 0 0 0 0 0 0 0 0 0 0 0 0 0 0 0]\n",
      " [0 0 0 0 0 0 0 0 0 0 0 0 0 0 0 0 0 0 0 0 0 0 0]\n",
      " [0 0 0 0 0 0 0 0 0 0 0 0 0 0 0 0 0 0 0 0 0 0 0]\n",
      " [0 0 0 0 0 0 0 0 0 0 0 0 0 0 0 0 0 0 0 0 0 0 0]\n",
      " [0 0 0 0 0 0 0 0 0 0 0 0 0 0 0 0 0 0 0 0 0 0 0]\n",
      " [0 0 0 0 0 0 0 0 0 0 0 0 0 0 0 0 0 0 0 0 0 0 0]\n",
      " [0 0 0 0 0 0 0 0 0 0 0 0 0 0 0 0 0 0 0 0 0 0 0]\n",
      " [0 0 0 0 0 0 0 0 0 0 0 0 0 0 0 0 0 0 0 0 0 0 0]\n",
      " [0 0 0 0 0 0 0 0 0 0 0 0 0 0 0 0 0 0 0 0 0 0 0]\n",
      " [0 0 0 0 0 0 0 0 0 0 0 0 0 0 0 0 0 0 0 0 0 0 0]]\n"
     ]
    }
   ],
   "source": [
    "# array copy, but all 0s:\n",
    "my_copy = np.empty_like(final_matrix)\n",
    "\n",
    "# iterate over each value\n",
    "for depth in range(final_matrix.shape[0]):\n",
    "    for row in range(final_matrix.shape[1]):\n",
    "        for col in range(final_matrix.shape[2]):\n",
    "                \n",
    "                # find state & count neighbor states\n",
    "                coord = (depth, row, col)\n",
    "                state = final_matrix[coord]\n",
    "                active_count = countNeighbors(coord, final_matrix)\n",
    "                \n",
    "                if state:\n",
    "                    # keep active\n",
    "                    if 2 <= active_count <= 3:\n",
    "                        my_copy[coord] = 1\n",
    "                    else:\n",
    "                        my_copy[coord] = 0\n",
    "                else:\n",
    "                    if active_count == 3:\n",
    "                        my_copy[coord] = 1\n",
    "                    else:\n",
    "                        my_copy[coord] = 0\n",
    "\n",
    "# update\n",
    "final_matrix = np.array(my_copy, copy=True)\n",
    "\n",
    "\n",
    "# Compare to Test Case\n",
    "print(\"After 1 Cycle\")\n",
    "\n",
    "# check z = -1\n",
    "print(\"Check z = -1\")\n",
    "print(final_matrix[11])\n",
    "\n",
    "# print z = 0 (this is the middle value...)\n",
    "# wow, this is correct...but it is going to get big \n",
    "print(\"Check z = 0\")\n",
    "print(final_matrix[12])\n",
    "\n",
    "print(\"Check z = 1\")\n",
    "print(final_matrix[13])"
   ]
  },
  {
   "cell_type": "markdown",
   "metadata": {},
   "source": [
    "### Iterate 6 times & sum all 1s"
   ]
  },
  {
   "cell_type": "code",
   "execution_count": 157,
   "metadata": {},
   "outputs": [
    {
     "name": "stdout",
     "output_type": "stream",
     "text": [
      "New shape is: (5, 5, 5)\n",
      "New shape is: (7, 7, 7)\n",
      "New shape is: (9, 9, 9)\n",
      "New shape is: (11, 11, 11)\n",
      "New shape is: (13, 13, 13)\n",
      "New shape is: (15, 15, 15)\n",
      "New shape is: (17, 17, 17)\n",
      "Total active: 112\n"
     ]
    }
   ],
   "source": [
    "# Just going to pad in each loop\n",
    "final_matrix = np.pad(array3d, pad_width=1, mode='constant', constant_values=0)\n",
    "print(f\"New shape is: {final_matrix.shape}\")\n",
    "\n",
    "for _ in range(6):\n",
    "\n",
    "    # array copy, but all 0s:\n",
    "    my_copy = np.empty_like(final_matrix)\n",
    "\n",
    "    # iterate over each value\n",
    "    for depth in range(final_matrix.shape[0]):\n",
    "        for row in range(final_matrix.shape[1]):\n",
    "            for col in range(final_matrix.shape[2]):\n",
    "\n",
    "                    # find state & count neighbor states\n",
    "                    coord = (depth, row, col)\n",
    "                    state = final_matrix[coord]\n",
    "                    active_count = countNeighbors(coord, final_matrix)\n",
    "\n",
    "                    if state:\n",
    "                        # keep active\n",
    "                        if 2 <= active_count <= 3:\n",
    "                            my_copy[coord] = 1\n",
    "                        else:\n",
    "                            my_copy[coord] = 0\n",
    "                    else:\n",
    "                        if active_count == 3:\n",
    "                            my_copy[coord] = 1\n",
    "                        else:\n",
    "                            my_copy[coord] = 0\n",
    "\n",
    "    # update\n",
    "    final_matrix = np.array(my_copy, copy=True)\n",
    "    \n",
    "    # Add padding \n",
    "    final_matrix = np.pad(final_matrix, pad_width=1, mode='constant', constant_values=0)\n",
    "    print(f\"New shape is: {final_matrix.shape}\")\n",
    "    \n",
    "# print active:\n",
    "print(f\"Total active: {np.sum(final_matrix)}\")"
   ]
  },
  {
   "cell_type": "code",
   "execution_count": null,
   "metadata": {},
   "outputs": [],
   "source": []
  }
 ],
 "metadata": {
  "kernelspec": {
   "display_name": "Python 3.8",
   "language": "python",
   "name": "other-env"
  },
  "language_info": {
   "codemirror_mode": {
    "name": "ipython",
    "version": 3
   },
   "file_extension": ".py",
   "mimetype": "text/x-python",
   "name": "python",
   "nbconvert_exporter": "python",
   "pygments_lexer": "ipython3",
   "version": "3.8.5"
  }
 },
 "nbformat": 4,
 "nbformat_minor": 4
}
