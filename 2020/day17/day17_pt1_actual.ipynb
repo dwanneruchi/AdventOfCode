{
 "cells": [
  {
   "cell_type": "markdown",
   "metadata": {},
   "source": [
    "### Day 17, Part 1: Actual\n",
    "\n",
    "\n",
    "#### Details:\n",
    "\n",
    "- The only exception to this is a small flat region of cubes (your puzzle input); the cubes in this region start in the specified active (#) or inactive (.) state\n",
    "\n",
    "- At every integer 3-dimensional coordinate (x,y,z), there exists a single cube which is either active or inactive.\n",
    "\n",
    "- Each cube only ever considers its neighbors: any of the 26 other cubes where any of their coordinates differ by at most 1. For example, given the cube at x=1,y=2,z=3, its neighbors include the cube at x=2,y=2,z=2, the cube at x=0,y=2,z=3, and so on.\n",
    "\n",
    "- During a cycle, all cubes simultaneously change their state according to the following rules:\n",
    "\n",
    "```If a cube is active and exactly 2 or 3 of its neighbors are also active, the cube remains active. Otherwise, the cube becomes inactive.\n",
    "If a cube is inactive but exactly 3 of its neighbors are active, the cube becomes active. Otherwise, the cube remains inactive.```"
   ]
  },
  {
   "cell_type": "code",
   "execution_count": 4,
   "metadata": {},
   "outputs": [],
   "source": [
    "filepath = \"day17_data.txt\"\n",
    "with open(filepath) as fh:\n",
    "    lines = [line.strip() for line in fh.readlines()]"
   ]
  },
  {
   "cell_type": "code",
   "execution_count": 5,
   "metadata": {},
   "outputs": [
    {
     "name": "stdout",
     "output_type": "stream",
     "text": [
      "[[1 1 1 1 1 1 0 1]\n",
      " [1 1 0 1 1 1 0 1]\n",
      " [1 0 1 1 1 0 1 1]\n",
      " [0 0 1 0 0 1 1 1]\n",
      " [1 1 0 1 0 1 0 1]\n",
      " [1 1 0 0 0 1 1 0]\n",
      " [1 0 1 0 1 1 0 1]\n",
      " [0 1 1 1 0 1 1 1]]\n"
     ]
    }
   ],
   "source": [
    "# get it into a matrix \n",
    "import numpy as np\n",
    "\n",
    "matrix_in = [list(code) for code in lines]\n",
    "\n",
    "# matrix form of z = 0 -> we assume the surroundings are all inactive at the start\n",
    "matrix = np.array([np.array(row) for row in matrix_in])\n",
    "\n",
    "# going to switch to 1s and 0s\n",
    "# 1 == Active, 0 == Inactive -> will let me sum\n",
    "matrix[matrix == '#'] = 1\n",
    "matrix[matrix == '.'] = 0\n",
    "z0 = matrix.astype(int)\n",
    "print(z0)"
   ]
  },
  {
   "cell_type": "code",
   "execution_count": 7,
   "metadata": {},
   "outputs": [],
   "source": [
    "# we now need a way to expand these outward in all directions.\n",
    "# initially we have all 0s for z = -1 & z = 1 \n",
    "# if something does not exist, we can just assume it is 0\n",
    "z1 = np.full(z0.shape, 0)\n",
    "zn1 = np.full(z0.shape, 0)"
   ]
  },
  {
   "cell_type": "code",
   "execution_count": 8,
   "metadata": {},
   "outputs": [
    {
     "name": "stdout",
     "output_type": "stream",
     "text": [
      "[[[0 0 0 0 0 0 0 0]\n",
      "  [0 0 0 0 0 0 0 0]\n",
      "  [0 0 0 0 0 0 0 0]\n",
      "  [0 0 0 0 0 0 0 0]\n",
      "  [0 0 0 0 0 0 0 0]\n",
      "  [0 0 0 0 0 0 0 0]\n",
      "  [0 0 0 0 0 0 0 0]\n",
      "  [0 0 0 0 0 0 0 0]]\n",
      "\n",
      " [[1 1 1 1 1 1 0 1]\n",
      "  [1 1 0 1 1 1 0 1]\n",
      "  [1 0 1 1 1 0 1 1]\n",
      "  [0 0 1 0 0 1 1 1]\n",
      "  [1 1 0 1 0 1 0 1]\n",
      "  [1 1 0 0 0 1 1 0]\n",
      "  [1 0 1 0 1 1 0 1]\n",
      "  [0 1 1 1 0 1 1 1]]\n",
      "\n",
      " [[0 0 0 0 0 0 0 0]\n",
      "  [0 0 0 0 0 0 0 0]\n",
      "  [0 0 0 0 0 0 0 0]\n",
      "  [0 0 0 0 0 0 0 0]\n",
      "  [0 0 0 0 0 0 0 0]\n",
      "  [0 0 0 0 0 0 0 0]\n",
      "  [0 0 0 0 0 0 0 0]\n",
      "  [0 0 0 0 0 0 0 0]]]\n"
     ]
    }
   ],
   "source": [
    "array3d = np.stack((z1, z0, zn1))\n",
    "print(array3d)"
   ]
  },
  {
   "cell_type": "code",
   "execution_count": 9,
   "metadata": {},
   "outputs": [],
   "source": [
    "# single func\n",
    "def countNeighbors(coord, matrix):\n",
    "    \"\"\"Review neighbor states\"\"\"\n",
    "    depth, row, col = coord\n",
    "    count = 0\n",
    "    for d,r,c in [(depth + i, row + j, col + k) for i in (-1,0,1) for j in (-1,0,1) for k in (-1,0,1)]:\n",
    "        if d == depth and r == row and c == col:\n",
    "            continue\n",
    "        try:\n",
    "            count += matrix[(d,r,c)]\n",
    "        except:\n",
    "            pass\n",
    "\n",
    "    return count\n",
    "    "
   ]
  },
  {
   "cell_type": "markdown",
   "metadata": {},
   "source": [
    "### Run 6 Iterations:\n",
    "\n",
    "- Going to expand the padding each step by 1 to account for the inifinite expansion"
   ]
  },
  {
   "cell_type": "code",
   "execution_count": 10,
   "metadata": {},
   "outputs": [
    {
     "name": "stdout",
     "output_type": "stream",
     "text": [
      "New shape is: (5, 10, 10)\n",
      "New shape is: (7, 12, 12)\n",
      "New shape is: (9, 14, 14)\n",
      "New shape is: (11, 16, 16)\n",
      "New shape is: (13, 18, 18)\n",
      "New shape is: (15, 20, 20)\n",
      "New shape is: (17, 22, 22)\n",
      "Total active: 348\n"
     ]
    }
   ],
   "source": [
    "# Just going to pad in each loop\n",
    "final_matrix = np.pad(array3d, pad_width=1, mode='constant', constant_values=0)\n",
    "print(f\"New shape is: {final_matrix.shape}\")\n",
    "\n",
    "for _ in range(6):\n",
    "\n",
    "    # array copy, but all 0s:\n",
    "    my_copy = np.empty_like(final_matrix)\n",
    "\n",
    "    # iterate over each value\n",
    "    for depth in range(final_matrix.shape[0]):\n",
    "        for row in range(final_matrix.shape[1]):\n",
    "            for col in range(final_matrix.shape[2]):\n",
    "\n",
    "                    # find state & count neighbor states\n",
    "                    coord = (depth, row, col)\n",
    "                    state = final_matrix[coord]\n",
    "                    active_count = countNeighbors(coord, final_matrix)\n",
    "\n",
    "                    if state:\n",
    "                        # keep active\n",
    "                        if 2 <= active_count <= 3:\n",
    "                            my_copy[coord] = 1\n",
    "                        else:\n",
    "                            my_copy[coord] = 0\n",
    "                    else:\n",
    "                        if active_count == 3:\n",
    "                            my_copy[coord] = 1\n",
    "                        else:\n",
    "                            my_copy[coord] = 0\n",
    "\n",
    "    # update\n",
    "    final_matrix = np.array(my_copy, copy=True)\n",
    "    \n",
    "    # Add padding \n",
    "    final_matrix = np.pad(final_matrix, pad_width=1, mode='constant', constant_values=0)\n",
    "    print(f\"New shape is: {final_matrix.shape}\")\n",
    "    \n",
    "# print active:\n",
    "print(f\"Total active: {np.sum(final_matrix)}\")"
   ]
  }
 ],
 "metadata": {
  "kernelspec": {
   "display_name": "Python 3.8",
   "language": "python",
   "name": "other-env"
  },
  "language_info": {
   "codemirror_mode": {
    "name": "ipython",
    "version": 3
   },
   "file_extension": ".py",
   "mimetype": "text/x-python",
   "name": "python",
   "nbconvert_exporter": "python",
   "pygments_lexer": "ipython3",
   "version": "3.8.5"
  }
 },
 "nbformat": 4,
 "nbformat_minor": 4
}
