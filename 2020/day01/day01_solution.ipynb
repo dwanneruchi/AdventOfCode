{
 "cells": [
  {
   "cell_type": "markdown",
   "metadata": {},
   "source": [
    "### Part 1: \n",
    "\n",
    "Need to simply read in a list, pass through & find values that sum to 2020. Then multiply these together to get an answer."
   ]
  },
  {
   "cell_type": "code",
   "execution_count": 1,
   "metadata": {},
   "outputs": [
    {
     "name": "stdout",
     "output_type": "stream",
     "text": [
      "514579\n",
      "514579\n"
     ]
    }
   ],
   "source": [
    "# test\n",
    "test_list = [1721, 979, 366, 299, 675, 1456]\n",
    "\n",
    "# inefficient, but day 1\n",
    "for i in range(len(test_list)-1):\n",
    "    for j in range(len(test_list)-1):\n",
    "        if test_list[i] + test_list[j] == 2020:\n",
    "            print(test_list[i] * test_list[j])\n",
    "            "
   ]
  },
  {
   "cell_type": "code",
   "execution_count": 4,
   "metadata": {},
   "outputs": [],
   "source": [
    "# empty list\n",
    "my_list = []\n",
    "\n",
    "with open('day1.txt') as f:\n",
    "    for line in f:\n",
    "        my_list.append(float(line.split()[0]))"
   ]
  },
  {
   "cell_type": "code",
   "execution_count": 6,
   "metadata": {},
   "outputs": [
    {
     "name": "stdout",
     "output_type": "stream",
     "text": [
      "646779.0\n",
      "646779.0\n"
     ]
    }
   ],
   "source": [
    "for i in range(len(my_list)-1):\n",
    "    for j in range(len(my_list)-1):\n",
    "        if my_list[i] + my_list[j] == 2020:\n",
    "            print(my_list[i] * my_list[j])"
   ]
  },
  {
   "cell_type": "markdown",
   "metadata": {},
   "source": [
    "### Part 2: We now need to up this to 3 numbers"
   ]
  },
  {
   "cell_type": "code",
   "execution_count": 7,
   "metadata": {},
   "outputs": [
    {
     "name": "stdout",
     "output_type": "stream",
     "text": [
      "246191688.0\n",
      "246191688.0\n",
      "246191688.0\n",
      "246191688.0\n",
      "246191688.0\n",
      "246191688.0\n"
     ]
    }
   ],
   "source": [
    "for i in range(len(my_list)-1):\n",
    "    for j in range(len(my_list)-1):\n",
    "        for k in range(len(my_list)-1):\n",
    "            if my_list[i] + my_list[j] + my_list[k] == 2020:\n",
    "                print(my_list[i] * my_list[j] * my_list[k])"
   ]
  },
  {
   "cell_type": "code",
   "execution_count": null,
   "metadata": {},
   "outputs": [],
   "source": []
  }
 ],
 "metadata": {
  "kernelspec": {
   "display_name": "Python 3.8",
   "language": "python",
   "name": "other-env"
  },
  "language_info": {
   "codemirror_mode": {
    "name": "ipython",
    "version": 3
   },
   "file_extension": ".py",
   "mimetype": "text/x-python",
   "name": "python",
   "nbconvert_exporter": "python",
   "pygments_lexer": "ipython3",
   "version": "3.8.5"
  }
 },
 "nbformat": 4,
 "nbformat_minor": 4
}
