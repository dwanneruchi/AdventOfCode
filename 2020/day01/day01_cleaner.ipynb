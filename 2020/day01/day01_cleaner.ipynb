{
 "cells": [
  {
   "cell_type": "markdown",
   "metadata": {},
   "source": [
    "### Cleaner Approach\n",
    "\n",
    "- Making some functions, still slower than it could be (possibly could order and find boundaries of sums)"
   ]
  },
  {
   "cell_type": "code",
   "execution_count": 1,
   "metadata": {},
   "outputs": [],
   "source": [
    "from itertools import product\n",
    "import numpy as np \n",
    "\n",
    "def combinations(orig_list, num):\n",
    "    \"\"\"Function to build out all combinations of a list\"\"\"\n",
    "    if num == 2:\n",
    "        return list(product(orig_list, orig_list))\n",
    "    \n",
    "    elif num == 3:\n",
    "        return list(product(orig_list, orig_list, orig_list))\n",
    "    \n",
    "    else:\n",
    "        return \"Bad input\"\n",
    "    \n",
    "def sumProd(input_list, magic_num):\n",
    "    \"\"\"Find the product of elements that sum to magic number\"\"\"\n",
    "    for el in input_list:\n",
    "        if sum(el) == 2020:\n",
    "            return np.prod(el)"
   ]
  },
  {
   "cell_type": "code",
   "execution_count": 2,
   "metadata": {},
   "outputs": [
    {
     "name": "stdout",
     "output_type": "stream",
     "text": [
      "Answer for Part A: 646779.00\n",
      "Answer for Part B: 646779.00\n"
     ]
    }
   ],
   "source": [
    "# magic number\n",
    "magic_number = 2020 \n",
    "\n",
    "# empty list\n",
    "my_list = []\n",
    "\n",
    "# read in data\n",
    "with open('day1.txt') as f:\n",
    "    for line in f:\n",
    "        my_list.append(float(line.split()[0]))\n",
    "        \n",
    "# run for 2\n",
    "output_two = combinations(my_list, 2)\n",
    "answer_two = sumProd(output_two, magic_number)\n",
    "\n",
    "# run for 3\n",
    "output_three = combinations(my_list, 3)\n",
    "answer_three = sumProd(output_three, magic_number)\n",
    "\n",
    "# print answers:\n",
    "print(f\"Answer for Part A: {answer_two:.2f}\")\n",
    "print(f\"Answer for Part B: {answer_three:.2f}\")"
   ]
  }
 ],
 "metadata": {
  "kernelspec": {
   "display_name": "Python 3.8",
   "language": "python",
   "name": "other-env"
  },
  "language_info": {
   "codemirror_mode": {
    "name": "ipython",
    "version": 3
   },
   "file_extension": ".py",
   "mimetype": "text/x-python",
   "name": "python",
   "nbconvert_exporter": "python",
   "pygments_lexer": "ipython3",
   "version": "3.8.5"
  }
 },
 "nbformat": 4,
 "nbformat_minor": 4
}
