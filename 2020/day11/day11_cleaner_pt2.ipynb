{
 "cells": [
  {
   "cell_type": "markdown",
   "metadata": {},
   "source": [
    "### Day 11 - Part 2 Test Cases\n",
    "\n",
    "Apologies to anyone looking at this - first pass & works, but very very very ugly. Will be cleaning up (of course). \n",
    "\n",
    "####  Improvements:\n",
    "- cleaning up general process\n"
   ]
  },
  {
   "cell_type": "code",
   "execution_count": 1,
   "metadata": {},
   "outputs": [],
   "source": [
    "from copy import deepcopy\n",
    "from helperFuncs import totalDirection, seatCheck, occupiedSeats\n",
    "\n",
    "# path \n",
    "filepath = \"day11_test_data.txt\"\n",
    "with open(filepath) as fh:\n",
    "    lines = [line.strip() for line in fh.readlines()]\n",
    "\n",
    "# build out seat plan row by row \n",
    "seatPlan = [[col for col in row] for row in lines]"
   ]
  },
  {
   "cell_type": "code",
   "execution_count": 2,
   "metadata": {},
   "outputs": [
    {
     "name": "stdout",
     "output_type": "stream",
     "text": [
      "Iteration: 0\n",
      "Total State Changes: 71\n",
      "Iteration: 1\n",
      "Total State Changes: 64\n",
      "Iteration: 2\n",
      "Total State Changes: 46\n",
      "Iteration: 3\n",
      "Total State Changes: 35\n",
      "Iteration: 4\n",
      "Total State Changes: 13\n",
      "Iteration: 5\n",
      "Total State Changes: 5\n",
      "Total Occupied: 26\n"
     ]
    }
   ],
   "source": [
    "\n",
    "for _ in range(10):\n",
    "    state_change = 0\n",
    "    output_list = []\n",
    "    for row in range(len(seatPlan)):\n",
    "        new_row = []\n",
    "        for col in range(len(seatPlan[0])):\n",
    "            starting_state = seatPlan[row][col]\n",
    "            \n",
    "            # get adjacencies \n",
    "            adjacencies = totalDirection(seatPlan, row, col)\n",
    "\n",
    "            # determine occupied seats\n",
    "            occupied_seats = len([x for x in adjacencies if x == \"#\"])\n",
    "\n",
    "            # new seat\n",
    "            new_seat = seatCheck(starting_state, occupied_seats)\n",
    "            \n",
    "            # add to row\n",
    "            new_row.append(new_seat)\n",
    "        \n",
    "        # append row \n",
    "        output_list.append(new_row)\n",
    "        \n",
    "        # check how much new row is different than old row\n",
    "        state_change += sum([1 for x in list(zip(new_row, seatPlan[row])) if x[0] != x[1]])\n",
    "\n",
    "    # this is so ugly\n",
    "    seatPlan = deepcopy(output_list)\n",
    "\n",
    "    if state_change < 1:\n",
    "        break\n",
    "    \n",
    "    print(f\"Iteration: {_}\")\n",
    "    print(f\"Total State Changes: {state_change}\")\n",
    "    #print(seatPlan)\n",
    "\n",
    "# Total occupied seats:\n",
    "# Total occupied seats:\n",
    "print(f\"Total Occupied: {occupiedSeats(seatPlan)}\")"
   ]
  },
  {
   "cell_type": "markdown",
   "metadata": {},
   "source": [
    "\n",
    "### Day 11 - Part 2: Actual Data\n",
    "\n",
    "not printing this out, but will iterate through a bit. "
   ]
  },
  {
   "cell_type": "code",
   "execution_count": 3,
   "metadata": {},
   "outputs": [],
   "source": [
    "filepath = \"day11_data.txt\"\n",
    "with open(filepath) as fh:\n",
    "    lines = [line.strip() for line in fh.readlines()]\n",
    "\n",
    "# build out seat plan row by row \n",
    "seatPlan = [[col for col in row] for row in lines]"
   ]
  },
  {
   "cell_type": "code",
   "execution_count": 4,
   "metadata": {},
   "outputs": [
    {
     "name": "stdout",
     "output_type": "stream",
     "text": [
      "Iteration: 0\n",
      "Total State Changes: 7409\n",
      "Iteration: 20\n",
      "Total State Changes: 6540\n",
      "Iteration: 40\n",
      "Total State Changes: 4062\n",
      "Iteration: 60\n",
      "Total State Changes: 1324\n",
      "Iteration: 80\n",
      "Total State Changes: 98\n",
      "Total Occupied: 2091\n"
     ]
    }
   ],
   "source": [
    "for _ in range(10000):\n",
    "    state_change = 0\n",
    "    output_list = []\n",
    "    for row in range(len(seatPlan)):\n",
    "        new_row = []\n",
    "        for col in range(len(seatPlan[0])):\n",
    "            starting_state = seatPlan[row][col]\n",
    "            \n",
    "            # get adjacencies \n",
    "            adjacencies = totalDirection(seatPlan, row, col)\n",
    "\n",
    "            # determine occupied seats\n",
    "            occupied_seats = len([x for x in adjacencies if x == \"#\"])\n",
    "\n",
    "            # new seat\n",
    "            new_seat = seatCheck(starting_state, occupied_seats)\n",
    "            \n",
    "            # add to row\n",
    "            new_row.append(new_seat)\n",
    "        \n",
    "        # append row \n",
    "        output_list.append(new_row)\n",
    "        \n",
    "        # check how much new row is different than old row\n",
    "        state_change += sum([1 for x in list(zip(new_row, seatPlan[row])) if x[0] != x[1]])\n",
    "\n",
    "    # this is so ugly\n",
    "    seatPlan = deepcopy(output_list)\n",
    "\n",
    "    if state_change < 1:\n",
    "        break\n",
    "    \n",
    "    if _ % 20 == 0:\n",
    "        print(f\"Iteration: {_}\")\n",
    "        print(f\"Total State Changes: {state_change}\")\n",
    "        #print(lines)\n",
    "\n",
    "# Total occupied seats:\n",
    "print(f\"Total Occupied: {occupiedSeats(seatPlan)}\")   "
   ]
  }
 ],
 "metadata": {
  "kernelspec": {
   "display_name": "Python 3.8",
   "language": "python",
   "name": "other-env"
  },
  "language_info": {
   "codemirror_mode": {
    "name": "ipython",
    "version": 3
   },
   "file_extension": ".py",
   "mimetype": "text/x-python",
   "name": "python",
   "nbconvert_exporter": "python",
   "pygments_lexer": "ipython3",
   "version": "3.8.5"
  }
 },
 "nbformat": 4,
 "nbformat_minor": 4
}
