{
 "cells": [
  {
   "cell_type": "markdown",
   "metadata": {},
   "source": [
    "### Day 25, Pt 1: Test Case\n"
   ]
  },
  {
   "cell_type": "code",
   "execution_count": 1,
   "metadata": {},
   "outputs": [],
   "source": [
    "def steps(inputVal, subjectNum):\n",
    "    \"\"\"Process to run over loop size\"\"\"\n",
    "    inputVal = inputVal * subjectNum\n",
    "    return inputVal % 20201227\n",
    "\n",
    "def encryption(loopSize, subject_number):\n",
    "    \"\"\"Encryption process\"\"\"\n",
    "    inputVal = 1\n",
    "    for _ in range(loopSize):\n",
    "        inputVal = steps(inputVal, subject_number)\n",
    "    return inputVal"
   ]
  },
  {
   "cell_type": "code",
   "execution_count": 2,
   "metadata": {},
   "outputs": [
    {
     "name": "stdout",
     "output_type": "stream",
     "text": [
      "Input value is: 5764801\n"
     ]
    }
   ],
   "source": [
    "# example -> the loop size must be 8\n",
    "# This shows how to solve for cards key if we have loopsize & subject number \n",
    "subject_number = 7\n",
    "cards_key = 5764801\n",
    "loopsize = 8\n",
    "encrypt = encryption(loopsize, 7)\n",
    "print(f\"Input value is: {encrypt}\")"
   ]
  },
  {
   "cell_type": "code",
   "execution_count": 3,
   "metadata": {},
   "outputs": [],
   "source": [
    "def reverseEngineer(keyCard, subjectNum):\n",
    "    \"\"\"Solve for loop amount given ending key and subject number\"\"\"\n",
    "    loop = 1\n",
    "    while True:\n",
    "        inputVal = encryption(loop, subjectNum)\n",
    "        if inputVal == keyCard:\n",
    "            return loop\n",
    "        if loop % 10000 == 0:\n",
    "            print(f\"On loop {loop}\")\n",
    "        loop += 1\n"
   ]
  },
  {
   "cell_type": "code",
   "execution_count": 4,
   "metadata": {},
   "outputs": [
    {
     "data": {
      "text/plain": [
       "8"
      ]
     },
     "execution_count": 4,
     "metadata": {},
     "output_type": "execute_result"
    }
   ],
   "source": [
    "# check for card\n",
    "reverseEngineer(cards_key, 7)"
   ]
  },
  {
   "cell_type": "code",
   "execution_count": 5,
   "metadata": {},
   "outputs": [
    {
     "data": {
      "text/plain": [
       "11"
      ]
     },
     "execution_count": 5,
     "metadata": {},
     "output_type": "execute_result"
    }
   ],
   "source": [
    "# check for door \n",
    "doors_key = 17807724\n",
    "reverseEngineer(doors_key, 7)"
   ]
  },
  {
   "cell_type": "code",
   "execution_count": 6,
   "metadata": {},
   "outputs": [
    {
     "data": {
      "text/plain": [
       "14897079"
      ]
     },
     "execution_count": 6,
     "metadata": {},
     "output_type": "execute_result"
    }
   ],
   "source": [
    "# check for answer\n",
    "encryption(8, doors_key)"
   ]
  },
  {
   "cell_type": "markdown",
   "metadata": {},
   "source": [
    "### Real Problem:\n",
    "\n",
    "- The above brute-forced approach is quite too slow. \n",
    "- Realized I was repeating the same steps a ton, so switched my reverse engineering to just run the encryption process `n` times until the encryption matches the card number provided. Feels like cheating - I assume there is some CS approach I am not recognizing here. \n",
    "    - Had considered working backwards with mod math but not really sure how to handle multiple integers having the same possible remainders off of the same divisor. "
   ]
  },
  {
   "cell_type": "code",
   "execution_count": 7,
   "metadata": {},
   "outputs": [],
   "source": [
    "def reverseEncryption(subject_number, keyNum):\n",
    "    \"\"\"Iterate until we find a match; return n\"\"\"\n",
    "    inputVal = 1\n",
    "    n = 1\n",
    "    while True:\n",
    "        inputVal = steps(inputVal, subject_number)\n",
    "        if inputVal == keyNum:\n",
    "            return n\n",
    "        n += 1"
   ]
  },
  {
   "cell_type": "code",
   "execution_count": 8,
   "metadata": {},
   "outputs": [
    {
     "name": "stdout",
     "output_type": "stream",
     "text": [
      "Number of loops for card is: 12419160\n",
      "Number of loops for door is: 2115361\n",
      "Answer to Part 1: Encryption key is 42668\n"
     ]
    }
   ],
   "source": [
    "# Ke values\n",
    "cards_key = 2084668\n",
    "doors_key = 3704642\n",
    "\n",
    "subject_number = 7\n",
    "loop1 = reverseEncryption(subject_number, cards_key)\n",
    "loop2 = reverseEncryption(subject_number, doors_key)\n",
    "print(f\"Number of loops for card is: {loop1}\")\n",
    "print(f\"Number of loops for door is: {loop2}\")\n",
    "\n",
    "card_out = encryption(loop2, cards_key)\n",
    "door_out = encryption(loop1, doors_key)\n",
    "assert(card_out == door_out)\n",
    "\n",
    "print(f\"Answer to Part 1: Encryption key is {card_out}\")"
   ]
  }
 ],
 "metadata": {
  "kernelspec": {
   "display_name": "Python 3.8",
   "language": "python",
   "name": "other-env"
  },
  "language_info": {
   "codemirror_mode": {
    "name": "ipython",
    "version": 3
   },
   "file_extension": ".py",
   "mimetype": "text/x-python",
   "name": "python",
   "nbconvert_exporter": "python",
   "pygments_lexer": "ipython3",
   "version": "3.8.5"
  }
 },
 "nbformat": 4,
 "nbformat_minor": 4
}
