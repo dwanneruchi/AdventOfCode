{
 "cells": [
  {
   "cell_type": "markdown",
   "metadata": {},
   "source": [
    "### Day 5- Part 1\n",
    "\n",
    "\n",
    "#### Prompt\n",
    "Instead of zones or groups, this airline uses binary space partitioning to seat people. A seat might be specified like FBFBBFFRLR, where F means \"front\", B means \"back\", L means \"left\", and R means \"right\".\n",
    "\n",
    "The first 7 characters will either be F or B; these specify exactly one of the 128 rows on the plane (numbered 0 through 127). Each letter tells you which half of a region the given seat is in. Start with the whole list of rows; the first letter indicates whether the seat is in the front (0 through 63) or the back (64 through 127). The next letter indicates which half of that region the seat is in, and so on until you're left with exactly one row.\n",
    "\n",
    "For example, consider just the first seven characters of FBFBBFFRLR:\n",
    "\n",
    "```\n",
    "Start by considering the whole range, rows 0 through 127.\n",
    "F means to take the lower half, keeping rows 0 through 63.\n",
    "B means to take the upper half, keeping rows 32 through 63.\n",
    "F means to take the lower half, keeping rows 32 through 47.\n",
    "B means to take the upper half, keeping rows 40 through 47.\n",
    "B keeps rows 44 through 47.\n",
    "F keeps rows 44 through 45.\n",
    "The final F keeps the lower of the two, row 44.\n",
    "The last three characters will be either L or R; these specify exactly one of the 8 columns of seats on the plane (numbered 0 through 7). The same process as above proceeds again, this time with only three steps. L means to keep the lower half, while R means to keep the upper half.\n",
    "```\n",
    "For example, consider just the last 3 characters of FBFBBFFRLR:\n",
    "```\n",
    "Start by considering the whole range, columns 0 through 7.\n",
    "R means to take the upper half, keeping columns 4 through 7.\n",
    "L means to take the lower half, keeping columns 4 through 5.\n",
    "The final R keeps the upper of the two, column 5.\n",
    "So, decoding FBFBBFFRLR reveals that it is the seat at row 44, column 5.\n",
    "```\n",
    "Every seat also has a unique seat ID: multiply the row by 8, then add the column. In this example, the seat has ID 44 * 8 + 5 = 357.\n",
    "\n",
    "Here are some other boarding passes:\n",
    "```\n",
    "BFFFBBFRRR: row 70, column 7, seat ID 567.\n",
    "FFFBBBFRRR: row 14, column 7, seat ID 119.\n",
    "BBFFBBFRLL: row 102, column 4, seat ID 820.\n",
    "```\n",
    "\n",
    "As a sanity check, look through your list of boarding passes. What is the highest seat ID on a boarding pass?"
   ]
  },
  {
   "cell_type": "code",
   "execution_count": 6,
   "metadata": {},
   "outputs": [],
   "source": [
    "# parameterize\n",
    "initial_rows = 128\n",
    "initial_cols = 8\n",
    "\n",
    "# test case\n",
    "test_case = \"FBFBBFFRLR\""
   ]
  },
  {
   "cell_type": "code",
   "execution_count": 27,
   "metadata": {},
   "outputs": [],
   "source": [
    "import math \n",
    "\n",
    "def seatRows(letter, min_val, max_val):\n",
    "    \"\"\"Take in a seat letter & determine rows to keep based on letter\"\"\"\n",
    "    if letter.upper() == \"F\":\n",
    "        diff = max_val - min_val\n",
    "        max_val = max_val - math.ceil(diff / 2)\n",
    "        return min_val, max_val\n",
    "        \n",
    "    elif letter.upper() == \"B\":\n",
    "        diff = max_val - min_val\n",
    "        min_val = min_val + math.ceil(diff / 2)\n",
    "        return min_val, max_val\n",
    "    \n",
    "    else:\n",
    "        print(\"Bad input\")\n",
    "        return -1\n",
    "    \n",
    "def seatCols(letter, min_val, max_val):\n",
    "    \"\"\"Take in a seat letter & determine cols to keep based on letter\"\"\"\n",
    "    if letter.upper() == \"L\":\n",
    "        diff = max_val - min_val\n",
    "        max_val = max_val - math.ceil(diff / 2)\n",
    "        return min_val, max_val\n",
    "        \n",
    "    elif letter.upper() == \"R\":\n",
    "        diff = max_val - min_val\n",
    "        min_val = min_val + math.ceil(diff / 2)\n",
    "        return min_val, max_val\n",
    "    \n",
    "    else:\n",
    "        print(\"Bad input\")\n",
    "        return -1"
   ]
  },
  {
   "cell_type": "code",
   "execution_count": 28,
   "metadata": {},
   "outputs": [],
   "source": [
    "# testing f - case doesn't matter\n",
    "assert(seatRows(\"F\", 0, 127) == (0, 63))\n",
    "assert(seatRows(\"f\", 32, 63) == (32, 47))\n",
    "assert(seatRows(\"f\",44, 45) == (44, 44))\n",
    "\n",
    "# testing b\n",
    "assert(seatRows(\"B\", 0, 63) == (32, 63))\n",
    "assert(seatRows(\"b\", 32, 47) == (40, 47))\n",
    "assert(seatRows(\"b\",40, 47) == (44, 47))\n",
    "\n"
   ]
  },
  {
   "cell_type": "code",
   "execution_count": 31,
   "metadata": {},
   "outputs": [
    {
     "name": "stdout",
     "output_type": "stream",
     "text": [
      "Row is: 44\n",
      "Row is: 5\n",
      "ID is: 357\n"
     ]
    }
   ],
   "source": [
    "# full test of first 7:\n",
    "min_r = 0\n",
    "max_r = 127\n",
    "for letter in test_case[:7]:\n",
    "    min_r, max_r = seatRows(letter, min_r, max_r)\n",
    "\n",
    "assert(min_r == max_r)\n",
    "print(f\"Row is: {max_r}\")\n",
    "\n",
    "# full test of first 7:\n",
    "min_c = 0\n",
    "max_c = 7\n",
    "for letter in test_case[7:]:\n",
    "    min_c, max_c = seatCols(letter, min_c, max_c)\n",
    "\n",
    "assert(min_c == max_c)\n",
    "print(f\"Row is: {max_c}\")\n",
    "\n",
    "print(f\"ID is: {max_r * 8 + max_c}\")"
   ]
  },
  {
   "cell_type": "code",
   "execution_count": 33,
   "metadata": {},
   "outputs": [
    {
     "name": "stdout",
     "output_type": "stream",
     "text": [
      "Row is: 70\n",
      "Row is: 7\n",
      "ID is: 567\n",
      "Row is: 14\n",
      "Row is: 7\n",
      "ID is: 119\n",
      "Row is: 102\n",
      "Row is: 4\n",
      "ID is: 820\n"
     ]
    }
   ],
   "source": [
    "# other test cases, cleaner process: \n",
    "test_cases = [\"BFFFBBFRRR\", \"FFFBBBFRRR\", \"BBFFBBFRLL\"]\n",
    "\n",
    "for case in test_cases:\n",
    "    min_r = 0\n",
    "    max_r = 127\n",
    "    for letter in case[:7]:\n",
    "        min_r, max_r = seatRows(letter, min_r, max_r)\n",
    "\n",
    "    assert(min_r == max_r)\n",
    "    print(f\"Row is: {max_r}\")\n",
    "    \n",
    "    # full test of final 3\n",
    "    min_c = 0\n",
    "    max_c = 7\n",
    "    for letter in case[7:]:\n",
    "        min_c, max_c = seatCols(letter, min_c, max_c)\n",
    "\n",
    "    assert(min_c == max_c)\n",
    "    print(f\"Row is: {max_c}\")\n",
    "\n",
    "    print(f\"ID is: {max_r * 8 + max_c}\")"
   ]
  },
  {
   "cell_type": "markdown",
   "metadata": {},
   "source": [
    "#### Part 1: "
   ]
  },
  {
   "cell_type": "code",
   "execution_count": 36,
   "metadata": {},
   "outputs": [],
   "source": [
    "# Read in data\n",
    "with open('day05.txt') as fh:\n",
    "    lines = fh.readlines()\n",
    "\n",
    "text = [line.strip() for line in lines]\n",
    "\n",
    "assert(len(text) == 891) # too many issues before!"
   ]
  },
  {
   "cell_type": "code",
   "execution_count": 38,
   "metadata": {},
   "outputs": [
    {
     "name": "stdout",
     "output_type": "stream",
     "text": [
      "Max ID is: 987\n"
     ]
    }
   ],
   "source": [
    "max_id = 0\n",
    "for case in text:\n",
    "    min_r = 0\n",
    "    max_r = 127\n",
    "    for letter in case[:7]:\n",
    "        min_r, max_r = seatRows(letter, min_r, max_r)\n",
    "\n",
    "    assert(min_r == max_r)\n",
    "    \n",
    "    # final 3\n",
    "    min_c = 0\n",
    "    max_c = 7\n",
    "    for letter in case[7:]:\n",
    "        min_c, max_c = seatCols(letter, min_c, max_c)\n",
    "\n",
    "    assert(min_c == max_c)\n",
    "\n",
    "    int_id = max_r * 8 + max_c\n",
    "    \n",
    "    if int_id > max_id:\n",
    "        max_id = int_id\n",
    "        \n",
    "print(f\"Max ID is: {max_id}\")"
   ]
  },
  {
   "cell_type": "markdown",
   "metadata": {},
   "source": [
    "### Part 2:\n",
    "\n",
    "The logic here: Calculate all IDs, sort, and identify a gap of > 1. "
   ]
  },
  {
   "cell_type": "code",
   "execution_count": 39,
   "metadata": {},
   "outputs": [],
   "source": [
    "id_list = []\n",
    "for case in text:\n",
    "    min_r = 0\n",
    "    max_r = 127\n",
    "    for letter in case[:7]:\n",
    "        min_r, max_r = seatRows(letter, min_r, max_r)\n",
    "\n",
    "    assert(min_r == max_r)\n",
    "    \n",
    "    # final 3\n",
    "    min_c = 0\n",
    "    max_c = 7\n",
    "    for letter in case[7:]:\n",
    "        min_c, max_c = seatCols(letter, min_c, max_c)\n",
    "\n",
    "    assert(min_c == max_c)\n",
    "\n",
    "    int_id = max_r * 8 + max_c\n",
    "    \n",
    "    id_list.append(int_id)\n",
    "\n",
    "# sort list\n",
    "id_list.sort()\n",
    "\n",
    "# iterate over id_list until we find a gap \n",
    "for i, val in enumerate(id_list):\n",
    "    if val + 1 != id_list[i+1]:\n",
    "        print(id_list[i])\n",
    "        print(id_list[i+1])\n",
    "        print(f\"My ID is: {val + 1}\")\n",
    "        break"
   ]
  }
 ],
 "metadata": {
  "kernelspec": {
   "display_name": "Python 3.8",
   "language": "python",
   "name": "other-env"
  },
  "language_info": {
   "codemirror_mode": {
    "name": "ipython",
    "version": 3
   },
   "file_extension": ".py",
   "mimetype": "text/x-python",
   "name": "python",
   "nbconvert_exporter": "python",
   "pygments_lexer": "ipython3",
   "version": "3.8.5"
  }
 },
 "nbformat": 4,
 "nbformat_minor": 4
}
