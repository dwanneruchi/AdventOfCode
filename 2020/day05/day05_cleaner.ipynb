{
 "cells": [
  {
   "cell_type": "markdown",
   "metadata": {},
   "source": [
    "### Day 5- Part 1 & 2 combined\n",
    "\n",
    "\n",
    "#### Part 1\n",
    "Instead of zones or groups, this airline uses binary space partitioning to seat people. A seat might be specified like FBFBBFFRLR, where F means \"front\", B means \"back\", L means \"left\", and R means \"right\".\n",
    "\n",
    "The first 7 characters will either be F or B; these specify exactly one of the 128 rows on the plane (numbered 0 through 127). Each letter tells you which half of a region the given seat is in. Start with the whole list of rows; the first letter indicates whether the seat is in the front (0 through 63) or the back (64 through 127). The next letter indicates which half of that region the seat is in, and so on until you're left with exactly one row.\n",
    "\n",
    "For example, consider just the first seven characters of FBFBBFFRLR:\n",
    "\n",
    "```\n",
    "Start by considering the whole range, rows 0 through 127.\n",
    "F means to take the lower half, keeping rows 0 through 63.\n",
    "B means to take the upper half, keeping rows 32 through 63.\n",
    "F means to take the lower half, keeping rows 32 through 47.\n",
    "B means to take the upper half, keeping rows 40 through 47.\n",
    "B keeps rows 44 through 47.\n",
    "F keeps rows 44 through 45.\n",
    "The final F keeps the lower of the two, row 44.\n",
    "The last three characters will be either L or R; these specify exactly one of the 8 columns of seats on the plane (numbered 0 through 7). The same process as above proceeds again, this time with only three steps. L means to keep the lower half, while R means to keep the upper half.\n",
    "```\n",
    "For example, consider just the last 3 characters of FBFBBFFRLR:\n",
    "```\n",
    "Start by considering the whole range, columns 0 through 7.\n",
    "R means to take the upper half, keeping columns 4 through 7.\n",
    "L means to take the lower half, keeping columns 4 through 5.\n",
    "The final R keeps the upper of the two, column 5.\n",
    "So, decoding FBFBBFFRLR reveals that it is the seat at row 44, column 5.\n",
    "```\n",
    "Every seat also has a unique seat ID: multiply the row by 8, then add the column. In this example, the seat has ID 44 * 8 + 5 = 357.\n",
    "\n",
    "Here are some other boarding passes:\n",
    "```\n",
    "BFFFBBFRRR: row 70, column 7, seat ID 567.\n",
    "FFFBBBFRRR: row 14, column 7, seat ID 119.\n",
    "BBFFBBFRLL: row 102, column 4, seat ID 820.\n",
    "```\n",
    "\n",
    "As a sanity check, look through your list of boarding passes. What is the highest seat ID on a boarding pass?\n",
    "\n",
    "##### Part 2\n",
    "\n",
    "Ding! The \"fasten seat belt\" signs have turned on. Time to find your seat.\n",
    "\n",
    "It's a completely full flight, so your seat should be the only missing boarding pass in your list. However, there's a catch: some of the seats at the very front and back of the plane don't exist on this aircraft, so they'll be missing from your list as well.\n",
    "\n",
    "Your seat wasn't at the very front or back, though; the seats with IDs +1 and -1 from yours will be in your list."
   ]
  },
  {
   "cell_type": "code",
   "execution_count": 1,
   "metadata": {},
   "outputs": [],
   "source": [
    "import math \n",
    "\n",
    "def seatRowsCols(letter, min_val, max_val):\n",
    "    \"\"\"Take in a seat letter & determine rows or columns based on letter\"\"\"\n",
    "    if letter.upper() in [\"F\", \"L\"]:\n",
    "        max_val -= math.ceil((max_val - min_val) / 2)\n",
    "        return min_val, max_val\n",
    "        \n",
    "    elif letter.upper() in [\"B\", \"R\"]: \n",
    "        min_val += math.ceil((max_val - min_val) / 2)\n",
    "        return min_val, max_val\n",
    "    \n",
    "    else:\n",
    "        print(\"Bad input\")\n",
    "        return -1"
   ]
  },
  {
   "cell_type": "markdown",
   "metadata": {},
   "source": [
    "#### Solution"
   ]
  },
  {
   "cell_type": "code",
   "execution_count": 2,
   "metadata": {},
   "outputs": [],
   "source": [
    "# Read in data\n",
    "with open('day05.txt') as fh:\n",
    "    lines = fh.readlines()\n",
    "\n",
    "text = [line.strip() for line in lines]\n",
    "\n",
    "assert(len(text) == 891) # too many issues before!"
   ]
  },
  {
   "cell_type": "code",
   "execution_count": 3,
   "metadata": {},
   "outputs": [
    {
     "name": "stdout",
     "output_type": "stream",
     "text": [
      "Max ID is: 987\n",
      "My ID is: 603\n"
     ]
    }
   ],
   "source": [
    "id_list = []\n",
    "\n",
    "# iterate through each case\n",
    "for case in text:\n",
    "    \n",
    "    # start values\n",
    "    min_r = 0\n",
    "    max_r = 127\n",
    "    min_c = 0\n",
    "    max_c = 7\n",
    "    \n",
    "    # go through each letter\n",
    "    for i, letter in enumerate(case):\n",
    "        if i < 7:\n",
    "            min_r, max_r = seatRowsCols(letter, min_r, max_r)\n",
    "        else:\n",
    "            min_c, max_c = seatRowsCols(letter, min_c, max_c)\n",
    "            \n",
    "    # confirm we found a single output\n",
    "    assert(min_r == max_r)\n",
    "    assert(min_c == max_c)\n",
    "\n",
    "    # update id_list\n",
    "    id_list.append(max_r * 8 + max_c)\n",
    "\n",
    "# Sorting IDs & solving problem\n",
    "id_list.sort()\n",
    "\n",
    "# iterate over id_list until we find a gap \n",
    "for i, id_val in enumerate(id_list):\n",
    "    if id_val + 1 != id_list[i+1]:\n",
    "        missing_id = id_val + 1\n",
    "        break\n",
    "        \n",
    "print(f\"Max ID is: {id_list[-1]}\")\n",
    "print(f\"My ID is: {missing_id}\")"
   ]
  }
 ],
 "metadata": {
  "kernelspec": {
   "display_name": "Python 3.8",
   "language": "python",
   "name": "other-env"
  },
  "language_info": {
   "codemirror_mode": {
    "name": "ipython",
    "version": 3
   },
   "file_extension": ".py",
   "mimetype": "text/x-python",
   "name": "python",
   "nbconvert_exporter": "python",
   "pygments_lexer": "ipython3",
   "version": "3.8.5"
  }
 },
 "nbformat": 4,
 "nbformat_minor": 4
}
