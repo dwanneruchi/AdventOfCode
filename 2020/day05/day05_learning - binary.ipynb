{
 "cells": [
  {
   "cell_type": "markdown",
   "metadata": {},
   "source": [
    "### Day 5 - Learnings\n",
    "\n",
    "I saw Mark's awesome solution: https://github.com/mark-ferguson-kroger/aoc-2020/blob/main/aoc5.py\n",
    "\n",
    "Very clean, very efficient! Wanted to understand what was happening."
   ]
  },
  {
   "cell_type": "markdown",
   "metadata": {},
   "source": [
    "#### My original solution\n",
    "\n",
    "- I \"manually\" did division & updated either min or max based on the letter received. This gets clunky & requires looping and applying a function to do some unecessary math.\n",
    "\n",
    "#### Solving with Binary\n",
    "\n",
    "The code above converts all of the input data to binary, so will break down for myself what is happening. \n",
    "\n",
    "We can take an example provided us -  `FBFBBFFRLR:`\n",
    "\n",
    "```\n",
    "F means take the lower half\n",
    "B means take the upper half\n",
    "```\n",
    "\n",
    "#### Base 2 vs Base 10\n",
    "\n",
    "Binary / base 2 has a different meaning than decimal / base 10. \n",
    "\n",
    "In base 10 each digit in a number represents 1 of 10 sections (`values of 0-9`). \n",
    "For example `056` tells us: \n",
    "- `0`: We are in the 000s. \n",
    "- `5`: We are in the 50s. \n",
    "- `6`: We are in the 10s, but this actually provides our actual number. \n",
    "\n",
    "base 2 does the same, but each digit is going to represent 1 of 2 sections (`values of 0-1`), which makes it a great candidate for splitting in half!\n",
    "\n",
    "For example `010`: \n",
    "- Firstly, since this is three digits this number can only be 0 - 7 (`2*3` = `8` possible values)\n",
    "- `Leftmost 0`: This represents numbers 0-3. If it were 1 then this would be 4-7. \n",
    "- `Middle 1`: This value changes based on the value to left. \n",
    "    - If left were 0 & this is 1 then we have options of: `2-3`\n",
    "    - If left were 1 & this is 1 then we have options of: `3-4`\n",
    "- `Rightmost 0`: This is our last value & determines our number. In this case we take the lower bound, which yields `2`.\n",
    "\n",
    "Full binary breakdown: \n",
    "\n",
    "```\n",
    "000 = 0\n",
    "001 = 1\n",
    "010 = 2\n",
    "011 = 3\n",
    "100 = 4\n",
    "101 = 5\n",
    "110 = 6\n",
    "111 = 7\n",
    "```\n",
    "\n",
    "#### Using the above for solving the problem: \n",
    "\n",
    "Let's return to our test case:  `FBFBBFF`\n",
    "- Min row = 0\n",
    "- Max row = 127\n",
    "- Expected row: `44`\n",
    "\n",
    "Breaking it down from left to right: \n",
    "- `F` -> 0: 0 - 63\n",
    "- `B` -> 1: 32 - 63\n",
    "- `F` -> 0: 32 - 47\n",
    "- `B` -> 1: 40 - 47\n",
    "- `B` -> 1: 44 - 47\n",
    "- `F` -> 0: 44 - 45\n",
    "- `F` -> 0: 44\n",
    "\n",
    "#### Python code below: "
   ]
  },
  {
   "cell_type": "code",
   "execution_count": 1,
   "metadata": {},
   "outputs": [],
   "source": [
    "# test case\n",
    "test_case = \"FBFBBFF\"\n",
    "\n",
    "# convert to binary string by replacing letters properly \n",
    "test_case = test_case.replace(\"F\", \"0\").replace(\"B\", \"1\")\n",
    "\n",
    "# we can then convert this to an int with base-2, which will yield our row\n",
    "print(f\"Converted to binary: {int(test_case,2)}\")"
   ]
  },
  {
   "cell_type": "markdown",
   "metadata": {},
   "source": [
    "#### But it gets better: \n",
    "\n",
    "- We can actually solve the full problem, which asks us to get the `row` (first 7 chars) and `col` (last 3 chars), then solve for `id = row * 8 + col`\n",
    "- Details for col:\n",
    "```\n",
    "L means take the lower half\n",
    "R means take the upper half\n",
    "```\n",
    "\n",
    "Binary will allow us to handle all of this due to that `*8` off the col. \n",
    "- This means we are expanding our digits out by 3....the same as 2 x 2 x 2, or 8 (I could make this clearer). \n",
    "- 7 digit binary x 8 is the same as a 10 digit binary:\n",
    "    `1011100 * 8` = 736\n",
    "    `1011100000` = 736\n",
    "\n",
    "Mark was able to bypass that `id` calculation by recognizing this & just solving for a 10-digit binary (instead of doing this in 2 chunks and applying equation above). \n"
   ]
  },
  {
   "cell_type": "code",
   "execution_count": 2,
   "metadata": {},
   "outputs": [
    {
     "name": "stdout",
     "output_type": "stream",
     "text": [
      "Our ID is: 357\n"
     ]
    }
   ],
   "source": [
    "# test case -> ID should be 357\n",
    "test_case = \"FBFBBFFRLR\"\n",
    "\n",
    "# convert to binary string by replacing letters properly \n",
    "test_case = test_case.replace(\"F\", \"0\").replace(\"B\", \"1\").replace(\"L\", \"0\").replace(\"R\", \"1\")\n",
    "\n",
    "# we can then convert this to an int with base-2, which will yield our row\n",
    "print(f\"Our ID is: {int(test_case,2)}\")"
   ]
  },
  {
   "cell_type": "code",
   "execution_count": 3,
   "metadata": {},
   "outputs": [],
   "source": [
    "# now we can write a simple function to solve for all ids: \n",
    "def determineID(idString):\n",
    "    \"\"\"Function to convert input string into ID value based on base-2\"\"\"\n",
    "    return int(idString.replace(\"F\", \"0\").replace(\"B\", \"1\").replace(\"L\", \"0\").replace(\"R\", \"1\"),2)"
   ]
  },
  {
   "cell_type": "code",
   "execution_count": 4,
   "metadata": {},
   "outputs": [],
   "source": [
    "# confirm all shared test cases\n",
    "assert(determineID(\"FBFBBFFRLR\") == 357)\n",
    "assert(determineID(\"BFFFBBFRRR\") == 567)\n",
    "assert(determineID(\"FFFBBBFRRR\") == 119)\n",
    "assert(determineID(\"BBFFBBFRLL\") == 820)"
   ]
  },
  {
   "cell_type": "markdown",
   "metadata": {},
   "source": [
    "#### Solving Part 1 & 2 now: \n",
    "\n",
    "- much more efficient!"
   ]
  },
  {
   "cell_type": "code",
   "execution_count": 7,
   "metadata": {},
   "outputs": [
    {
     "name": "stdout",
     "output_type": "stream",
     "text": [
      "Max ID is: 987\n",
      "My ID is: 603\n"
     ]
    }
   ],
   "source": [
    "# Read in data\n",
    "with open('day05.txt') as fh:\n",
    "    lines = fh.readlines()\n",
    "\n",
    "text = [line.strip() for line in lines]\n",
    "\n",
    "id_list = []\n",
    "\n",
    "# iterate through each case, solve for ID & append\n",
    "for case in text:\n",
    "    id_list.append(determineID(case))\n",
    "\n",
    "# Sorting IDs\n",
    "id_list.sort()\n",
    "\n",
    "# iterate over id_list until we find a gap \n",
    "for i, id_val in enumerate(id_list):\n",
    "    if id_val + 1 != id_list[i+1]:\n",
    "        missing_id = id_val + 1\n",
    "        break\n",
    "        \n",
    "print(f\"Max ID is: {id_list[-1]}\")\n",
    "print(f\"My ID is: {missing_id}\")"
   ]
  }
 ],
 "metadata": {
  "kernelspec": {
   "display_name": "Python 3.8",
   "language": "python",
   "name": "other-env"
  },
  "language_info": {
   "codemirror_mode": {
    "name": "ipython",
    "version": 3
   },
   "file_extension": ".py",
   "mimetype": "text/x-python",
   "name": "python",
   "nbconvert_exporter": "python",
   "pygments_lexer": "ipython3",
   "version": "3.8.5"
  }
 },
 "nbformat": 4,
 "nbformat_minor": 4
}
