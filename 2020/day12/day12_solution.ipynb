{
 "cells": [
  {
   "cell_type": "markdown",
   "metadata": {},
   "source": [
    "### Day 12 Part 1: \n",
    "\n",
    "- Did a bit of clean-up after submitting proper solution (Friday night pandemic)"
   ]
  },
  {
   "cell_type": "code",
   "execution_count": 1,
   "metadata": {},
   "outputs": [],
   "source": [
    "# path \n",
    "filepath = \"day12_test_data.txt\"\n",
    "with open(filepath) as fh:\n",
    "    lines = [line.strip() for line in fh.readlines()]\n",
    "    \n",
    "# split out chars vs ints\n",
    "directions = [(x[0], int(x[1:])) for x in lines]\n",
    "print(directions)"
   ]
  },
  {
   "cell_type": "markdown",
   "metadata": {},
   "source": [
    "### Class Assumptions: \n",
    "\n",
    "#### Part 1: Ship Only\n",
    "- rotations only occur in multiples of 90 (0, 90, 180.....1800, etc)\n",
    "- Direction `0 = N`, `90 = E`, `180 = S`, `270 = W`\n",
    "\n",
    "#### Part 2: Adding Waypoint\n",
    "- rotations are now waypoint & occur around ship (which we can just treat as the (0,0))\n",
    "    - treat as (0,0) since our waypoint position is relative to ship\n",
    "- cardinal direction now only moves waypoint\n",
    "- forward is the only way a ship moves"
   ]
  },
  {
   "cell_type": "code",
   "execution_count": 2,
   "metadata": {},
   "outputs": [],
   "source": [
    "class ship():\n",
    "    def __init__(self, origin, data, ship_only = True):\n",
    "        self.position = origin\n",
    "        self.direction = 90\n",
    "        self.cardinal = ['N', 'E', 'S', 'W']\n",
    "        self.rotation = ['L', 'R']\n",
    "        self.forward = ['F']\n",
    "        self.movements = data\n",
    "        self.shipOnly = ship_only\n",
    "        self.waypoint = [10,1]\n",
    "    \n",
    "    def runship(self):\n",
    "        \"\"\"Move ship based on input data\"\"\"\n",
    "        if self.shipOnly:\n",
    "            for action, move in self.movements:\n",
    "                if action in self.cardinal:\n",
    "                    self.__shipCDir(action, move)\n",
    "                elif action in self.forward:\n",
    "                    self.__forward(move)\n",
    "                else:\n",
    "                    self.__shipRotation(action, move)\n",
    "        else:\n",
    "            for action, move in self.movements:\n",
    "                if action in self.cardinal:\n",
    "                    self.__waypointCDir(action, move)\n",
    "                elif action in self.forward:\n",
    "                    self._waypointForward(move)\n",
    "                else:\n",
    "                    self.__WPRotation(action, move)            \n",
    "\n",
    "        # Print results     \n",
    "        print(f\"Final ship position: {self.position}\")\n",
    "        print(f\"Final waypoint position: {self.waypoint}\")\n",
    "        print(f\"Manhattan Distance: {abs(self.position[0]) + abs(self.position[1])}\")\n",
    "        \n",
    "    def __shipCDir(self, action, move):\n",
    "        \"\"\"Moving ship based on cardinal directions\"\"\"\n",
    "        if action == \"E\":\n",
    "            self.position[0] += move\n",
    "        elif action == \"W\":\n",
    "            self.position[0] -= move\n",
    "        elif action == \"N\":\n",
    "            self.position[1] += move\n",
    "        elif action == \"S\":\n",
    "            self.position[1] -= move\n",
    "\n",
    "    def __waypointCDir(self, action, move):\n",
    "        \"\"\"Moving waypoint based on cardinal directions\"\"\"\n",
    "            # handling e/w is easy enough\n",
    "        if action == \"E\":\n",
    "            self.waypoint[0] += move\n",
    "        elif action == \"W\":\n",
    "            self.waypoint[0] -= move\n",
    "        elif action == \"N\":\n",
    "            self.waypoint[1] += move\n",
    "        elif action == \"S\":\n",
    "            self.waypoint[1] -= move\n",
    "            \n",
    "    def __forward(self, move):\n",
    "        \"\"\"Moving ship forward based on current direction\"\"\"\n",
    "        if self.direction == 90:\n",
    "            self.position[0] += move\n",
    "        elif self.direction == 270:\n",
    "            self.position[0] -= move\n",
    "        elif self.direction == 0:\n",
    "            self.position[1] += move\n",
    "        else:\n",
    "            self.position[1] -= move\n",
    "    \n",
    "    def _waypointForward(self, move):\n",
    "        \"\"\"Moving ship forward based on waypoint\"\"\"\n",
    "        self.position[0] += move * self.waypoint[0]\n",
    "        self.position[1] += move * self.waypoint[1]\n",
    "\n",
    "    def __shipRotation(self, action, move):\n",
    "        \"\"\"Rotation ship\"\"\"\n",
    "        if action == \"L\":\n",
    "            self.direction -= move\n",
    "            self.direction = self.direction % 360 # rescale with modulo\n",
    "        else:\n",
    "            self.direction += move\n",
    "            self.direction = self.direction % 360 # rescale with modulo\n",
    "\n",
    "    def __WPRotation(self, action, move):\n",
    "        \"\"\"Rotate waypoint to around ship (origin)\"\"\"\n",
    "        rotation = move % 360\n",
    "        if (rotation == 90 and action == 'L') or (rotation == 270 and action == 'R'):\n",
    "            x = -1 * self.waypoint[1]\n",
    "            y = 1 * self.waypoint[0]\n",
    "            self.waypoint[0] = x\n",
    "            self.waypoint[1] = y\n",
    "        elif rotation == 180:\n",
    "            x = -1 * self.waypoint[0]\n",
    "            y = -1 * self.waypoint[1]\n",
    "            self.waypoint[0] = x\n",
    "            self.waypoint[1] = y\n",
    "        elif (rotation == 90 and action == 'R') or (rotation == 270 and action == 'L'):\n",
    "            x = 1 * self.waypoint[1]\n",
    "            y = -1 * self.waypoint[0]\n",
    "            self.waypoint[0] = x\n",
    "            self.waypoint[1] = y\n",
    "        else:\n",
    "            self.waypoint = self.waypoint"
   ]
  },
  {
   "cell_type": "code",
   "execution_count": 3,
   "metadata": {},
   "outputs": [
    {
     "name": "stdout",
     "output_type": "stream",
     "text": [
      "Running part 1, ship only\n",
      "Final ship position: [17, -8]\n",
      "Final waypoint position: [10, 1]\n",
      "Manhattan Distance: 25\n",
      "Running part 2, ship & waypoint\n",
      "Final ship position: [214, -72]\n",
      "Final waypoint position: [4, -10]\n",
      "Manhattan Distance: 286\n"
     ]
    }
   ],
   "source": [
    "print(f\"Running part 1, ship only\")\n",
    "pt1 = ship([0,0], directions, True)\n",
    "pt1.runship()\n",
    "print(f\"Running part 2, ship & waypoint\")\n",
    "pt2 = ship([0,0], directions, False)\n",
    "pt2.runship()"
   ]
  },
  {
   "cell_type": "markdown",
   "metadata": {},
   "source": [
    "### Real Data Part 1 & Part 2"
   ]
  },
  {
   "cell_type": "code",
   "execution_count": 4,
   "metadata": {},
   "outputs": [
    {
     "name": "stdout",
     "output_type": "stream",
     "text": [
      "Running part 1, ship only\n",
      "Final ship position: [198, -121]\n",
      "Final waypoint position: [10, 1]\n",
      "Manhattan Distance: 319\n",
      "Running part 2, ship & waypoint\n",
      "Final ship position: [-10938, 39219]\n",
      "Final waypoint position: [-93, -28]\n",
      "Manhattan Distance: 50157\n"
     ]
    }
   ],
   "source": [
    "# path \n",
    "filepath = \"day12_data.txt\"\n",
    "with open(filepath) as fh:\n",
    "    lines = [line.strip() for line in fh.readlines()]\n",
    "    \n",
    "# split out chars vs ints\n",
    "directions = [(x[0], int(x[1:])) for x in lines]\n",
    "\n",
    "print(f\"Running part 1, ship only\")\n",
    "pt1 = ship([0,0], directions, True)\n",
    "pt1.runship()\n",
    "print(f\"Running part 2, ship & waypoint\")\n",
    "pt2 = ship([0,0], directions, False)\n",
    "pt2.runship()"
   ]
  }
 ],
 "metadata": {
  "kernelspec": {
   "display_name": "Python 3.8",
   "language": "python",
   "name": "other-env"
  },
  "language_info": {
   "codemirror_mode": {
    "name": "ipython",
    "version": 3
   },
   "file_extension": ".py",
   "mimetype": "text/x-python",
   "name": "python",
   "nbconvert_exporter": "python",
   "pygments_lexer": "ipython3",
   "version": "3.8.5"
  }
 },
 "nbformat": 4,
 "nbformat_minor": 4
}
