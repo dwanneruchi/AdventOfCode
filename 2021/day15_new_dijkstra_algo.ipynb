{
 "cells": [
  {
   "cell_type": "markdown",
   "id": "2ac61d04",
   "metadata": {},
   "source": [
    "### Day 15 Part 1\n",
    "\n",
    "My first attempt incorrectly assumed we could only go down or to the right, which is not the case. It managed to solve Part 1 & 2 for test data and Part 1 for actual, but ended there.\n",
    "\n",
    "Did some reading and will be testing `dijkstra algo`: \n",
    "- https://www.programiz.com/dsa/dijkstra-algorithm\n",
    "- https://stackabuse.com/dijkstras-algorithm-in-python/\n",
    "\n",
    "\n",
    "### General Process:\n",
    "\n",
    "- set all costs to a very large number (infinity) except for starting point (set to 0)\n",
    "- find the coordinate with the smallest path (referencing a queue here)\n",
    "    - this will be the starting point at the beginning\n",
    "- find all neighbors of this coordinate:\n",
    "    - In my case below this is left, right, up or down. \n",
    "    - we then add coordinate to a set marking it visited (this way we don't backtrack)\n",
    "- iterate over the neighbors:\n",
    "    - check to ensure neighbor hasn't been visited already (prevents unecessary searches)\n",
    "    - determine the cost to go from coordinate to neighbor\n",
    "    - if this cost is less than the current neigbor cost, then overwrite the value in the cost dictionary and add the neighbor to the priority queue \n",
    "- restart process with next shortest path\n",
    "    - process is run until all nodes have been visited. \n",
    "    - i assume there is a way to make this greedy (e.g. stop process once a path to the end has been found), but that wouldn't guarantee shortest distance.\n",
    "    \n",
    "    \n",
    "### Learnings:\n",
    "\n",
    "- For storing visited vertices I started by using a list, which was INSANELY slow on Part 2 of actual data. I switched to a set and was solved in 1.3 seconds, just massive differential and reminder of how slow lists are. A set worked perfectly for this need (storing visited nodes, no mutations needed)\n",
    "\n",
    "- Priority Queue:\n",
    "    - Going to prioritize an addition based on the cost. Specifically, default is to prioritize with lowest value (shortest path in our case)\n",
    "    - for this algorithm the use of this data structure allows us to minimize search time for the next closest distance (smallest risk in our case). \n",
    "    - This is critical as we start with all points set to infinity risk aside from the start. When we then need to determine where to go next it makes sense to use smallest cost/ risk, which is where priority queue is nice.\n",
    "        - Secondly, we just keep adding the shortest routes to a specific point....overtime the priority queue could contain the same coord multiple times, but will prioritize the shortest route (lowest risk value) "
   ]
  },
  {
   "cell_type": "code",
   "execution_count": 1,
   "id": "0734375d",
   "metadata": {},
   "outputs": [],
   "source": [
    "import time\n",
    "import numpy as np\n",
    "from itertools import accumulate \n",
    "from queue import PriorityQueue\n",
    "\n",
    "# read data \n",
    "with open('data/day15_test.txt') as fh:\n",
    "    data = [line.strip('\\n') for line in fh.readlines()]\n",
    "    \n",
    "# then break down for each list into an array\n",
    "single_list = []\n",
    "for row in data:\n",
    "    single_list.extend([int(x) for x in row])\n",
    "    \n",
    "# build matrix\n",
    "mat = np.asarray(single_list)\n",
    "mat.shape = (len(data), len(data[0]))"
   ]
  },
  {
   "cell_type": "code",
   "execution_count": 2,
   "id": "ec5d7ea4",
   "metadata": {},
   "outputs": [
    {
     "name": "stdout",
     "output_type": "stream",
     "text": [
      "(10, 'b')\n",
      "(50, 'c')\n",
      "(100, 'a')\n"
     ]
    }
   ],
   "source": [
    "# priority queue example: lowest cost is prioritized, even though it was added in middle\n",
    "pq = PriorityQueue()\n",
    "pq.put((100, 'a'))\n",
    "pq.put((10, 'b'))\n",
    "pq.put((50, 'c'))\n",
    "print(pq.get())\n",
    "print(pq.get())\n",
    "print(pq.get())"
   ]
  },
  {
   "cell_type": "code",
   "execution_count": 3,
   "id": "15dc0e82",
   "metadata": {},
   "outputs": [],
   "source": [
    "# New functions\n",
    "def findNeighbors(matrix, coord):\n",
    "    \"\"\"Return neighboring coordinates within boundary of matrix\"\"\"\n",
    "    i = coord[0]\n",
    "    j = coord[1]\n",
    "    \n",
    "    r_max = matrix.shape[0]\n",
    "    c_max = matrix.shape[1]\n",
    "    \n",
    "    coord_list = [(i, j+1), (i, j-1), (i-1,j), (i+1,j)]\n",
    "    final_list = []\n",
    "\n",
    "    for coord in coord_list:\n",
    "        i = coord[0]\n",
    "        j = coord[1]\n",
    "        if (i >= 0 and i < r_max) and (j >= 0 and j < c_max):\n",
    "            final_list.append(coord)\n",
    "    return final_list\n",
    "\n",
    "def dijkstra(matrix, start):\n",
    "    \"\"\"Dijkstra Algorithm \n",
    "    Source: https://stackabuse.com/dijkstras-algorithm-in-python/\n",
    "    Slightly modified for my purposes\n",
    "    \"\"\"\n",
    "    D = {} # key is coord, val is the lowest cost to get to this coord from start\n",
    "    visited = set() # store coords we have viewed\n",
    "    \n",
    "    # set all vals to infinity\n",
    "    for r in range(matrix.shape[0]):\n",
    "        for c in range(matrix.shape[1]):\n",
    "            D[(r,c)] = float('inf')\n",
    "    \n",
    "    # start is 0 cost\n",
    "    D[start] = 0\n",
    "    \n",
    "    # priority queue will keep shortest distances at the top\n",
    "    pq = PriorityQueue()\n",
    "    pq.put((0, start))\n",
    "    \n",
    "    while not pq.empty():\n",
    "        (dist, current_coord) = pq.get() # get shortest path coord, pops off top of queue\n",
    "        visited.add(current_coord) # add to visited node, we don't need to review it again\n",
    "        \n",
    "        # determine neighbors to check\n",
    "        neighbors = findNeighbors(matrix, current_coord)\n",
    "        \n",
    "        # iterate through neighbors to determine if current_coord -> neighbor is shorter path than\n",
    "        # current path to neighbor\n",
    "        for neighbor in neighbors:\n",
    "            distance = matrix[neighbor] # distance from current coord -> neighbor\n",
    "            if neighbor not in visited:\n",
    "                old_cost = D[neighbor] # current cost for start -> neighbor\n",
    "                new_cost = D[current_coord] + distance # new cost for start -> current coord -> neighbor\n",
    "                if new_cost < old_cost:\n",
    "                    pq.put((new_cost, neighbor)) # add to queue, will rise based on how lost cost is\n",
    "                    D[neighbor] = new_cost # override current smallest cost for neighbor coord\n",
    "    return D"
   ]
  },
  {
   "cell_type": "code",
   "execution_count": 4,
   "id": "1619105d",
   "metadata": {},
   "outputs": [
    {
     "data": {
      "text/plain": [
       "40"
      ]
     },
     "execution_count": 4,
     "metadata": {},
     "output_type": "execute_result"
    }
   ],
   "source": [
    "# test data\n",
    "paths = dijkstra(mat, (0,0))\n",
    "paths[mat.shape[0] -1,mat.shape[0] -1]"
   ]
  },
  {
   "cell_type": "code",
   "execution_count": 5,
   "id": "08500d81",
   "metadata": {},
   "outputs": [
    {
     "name": "stdout",
     "output_type": "stream",
     "text": [
      "(100, 100)\n",
      "Total risk: [99, 99]\n"
     ]
    }
   ],
   "source": [
    "# read data \n",
    "with open('data/day15.txt') as fh:\n",
    "    data = [line.strip('\\n') for line in fh.readlines()]\n",
    "    \n",
    "# then break down for each list into an array\n",
    "single_list = []\n",
    "for row in data:\n",
    "    single_list.extend([int(x) for x in row])\n",
    "    \n",
    "# build matrix\n",
    "mat = np.asarray(single_list)\n",
    "mat.shape = (len(data), len(data[0]))\n",
    "print(mat.shape)\n",
    "paths = dijkstra(mat, (0,0))\n",
    "print(f\"Total risk: {[mat.shape[0] -1,mat.shape[0] -1]}\")"
   ]
  },
  {
   "cell_type": "markdown",
   "id": "d9f441d4",
   "metadata": {},
   "source": [
    "### Part 2: Test Case\n",
    "\n",
    "The above solution should work, but need to handle the expansion."
   ]
  },
  {
   "cell_type": "code",
   "execution_count": 6,
   "id": "74470fdd",
   "metadata": {},
   "outputs": [],
   "source": [
    "# read data \n",
    "with open('data/day15_test.txt') as fh:\n",
    "    data = [line.strip('\\n') for line in fh.readlines()]\n",
    "    \n",
    "# then break down for each list into an array\n",
    "single_list = []\n",
    "for row in data:\n",
    "    single_list.extend([int(x) for x in row])\n",
    "    \n",
    "# build matrix\n",
    "mat = np.asarray(single_list)\n",
    "mat.shape = (len(data), len(data[0]))"
   ]
  },
  {
   "cell_type": "code",
   "execution_count": 7,
   "id": "0a226d95",
   "metadata": {},
   "outputs": [],
   "source": [
    "def matrixAdd(mat, idx, col=True):\n",
    "    \"\"\"Properly add last matrix and return stacked\"\"\"\n",
    "    i,i2,j,j2 = idx\n",
    "    add_mat = mat[i:i2,j:j2] + 1\n",
    "    add_mat = np.where(add_mat > 9, 1, add_mat)\n",
    "    \n",
    "    if col:\n",
    "        return np.column_stack((mat,add_mat))\n",
    "    return np.row_stack((mat,add_mat))"
   ]
  },
  {
   "cell_type": "code",
   "execution_count": 8,
   "id": "e2ce2019",
   "metadata": {},
   "outputs": [],
   "source": [
    "# Build out top row:\n",
    "a = 0\n",
    "b = 10\n",
    "for i in range(4):\n",
    "    mat = matrixAdd(mat, (0,10,a,b))\n",
    "    a += 10\n",
    "    b += 10\n",
    "test = [int(x) for x in '11637517422274862853338597396444961841755517295286']\n",
    "\n",
    "# confirm top row transormed properly \n",
    "assert(list(mat[0,:]) == test)"
   ]
  },
  {
   "cell_type": "code",
   "execution_count": 9,
   "id": "138d63d0",
   "metadata": {},
   "outputs": [
    {
     "name": "stdout",
     "output_type": "stream",
     "text": [
      "Total time 0.013150930404663086\n"
     ]
    }
   ],
   "source": [
    "# Build out second row - pretty easy now\n",
    "a = 0\n",
    "b = 10\n",
    "for _ in range(4):\n",
    "    mat = matrixAdd(mat, (a,b,0,50), col = False)\n",
    "    a += 10\n",
    "    b += 10\n",
    "\n",
    "# confirm second row transormed properly \n",
    "test = [int(x) for x in '22748628533385973964449618417555172952866628316397']\n",
    "assert(list(mat[10,:]) == test)\n",
    "assert(mat.shape == (50,50))\n",
    "s = time.time()\n",
    "paths = dijkstra(mat, (0,0))\n",
    "print(f\"Total time {time.time()-s}\")\n",
    "assert(paths[mat.shape[0] -1,mat.shape[0] -1] == 315)"
   ]
  },
  {
   "cell_type": "markdown",
   "id": "9cfecff5",
   "metadata": {},
   "source": [
    "### Part 2: Actual Data\n",
    "\n",
    "For some reason not working"
   ]
  },
  {
   "cell_type": "code",
   "execution_count": 10,
   "id": "db47c033",
   "metadata": {},
   "outputs": [
    {
     "name": "stdout",
     "output_type": "stream",
     "text": [
      "Matrix shape: (100, 100)\n"
     ]
    }
   ],
   "source": [
    "# read data \n",
    "with open('data/day15.txt') as fh:\n",
    "    data = [line.strip('\\n') for line in fh.readlines()]\n",
    "    \n",
    "# then break down for each list into an array\n",
    "single_list = []\n",
    "for row in data:\n",
    "    single_list.extend([int(x) for x in row])\n",
    "    \n",
    "# build matrix\n",
    "mat = np.asarray(single_list)\n",
    "mat.shape = (len(data), len(data[0]))\n",
    "print(f\"Matrix shape: {mat.shape}\")"
   ]
  },
  {
   "cell_type": "code",
   "execution_count": 11,
   "id": "6af2c22c",
   "metadata": {},
   "outputs": [
    {
     "name": "stdout",
     "output_type": "stream",
     "text": [
      "[1, 2, 3, 4, 5]\n",
      "[2, 3, 4, 5, 6]\n",
      "[3, 4, 5, 6, 7]\n",
      "[4, 5, 6, 7, 8]\n",
      "[5, 6, 7, 8, 9]\n",
      "1.346792221069336\n",
      "Shortest path to end: 2844 risk\n"
     ]
    }
   ],
   "source": [
    "# Build out top row:\n",
    "a = 0\n",
    "b = 100\n",
    "for i in range(4):\n",
    "    mat = matrixAdd(mat, (0,100,a,b))\n",
    "    a += 100\n",
    "    b += 100\n",
    "\n",
    "# Build out rows 2-5\n",
    "a = 0\n",
    "b = 100\n",
    "for _ in range(4):\n",
    "    mat = matrixAdd(mat, (a,b,0,500), col = False)\n",
    "    a += 100\n",
    "    b += 100\n",
    "\n",
    "# confirm values increment properly\n",
    "test = []\n",
    "for i in [0,100,200,300,400]:\n",
    "    for j in [0,100,200,300,400]:\n",
    "        test.append(mat[i, j])\n",
    "    print(test)\n",
    "    test = []\n",
    "\n",
    "# Solve for shortest path\n",
    "s = time.time()\n",
    "paths = dijkstra(mat, (0,0))\n",
    "print(time.time() - s)\n",
    "print(f\"Shortest path to end: {paths[mat.shape[0] -1,mat.shape[0] -1]} risk\")"
   ]
  }
 ],
 "metadata": {
  "kernelspec": {
   "display_name": "ml",
   "language": "python",
   "name": "ml"
  },
  "language_info": {
   "codemirror_mode": {
    "name": "ipython",
    "version": 3
   },
   "file_extension": ".py",
   "mimetype": "text/x-python",
   "name": "python",
   "nbconvert_exporter": "python",
   "pygments_lexer": "ipython3",
   "version": "3.9.2"
  }
 },
 "nbformat": 4,
 "nbformat_minor": 5
}
