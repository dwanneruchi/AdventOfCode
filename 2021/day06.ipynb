{
 "cells": [
  {
   "cell_type": "markdown",
   "id": "be064859",
   "metadata": {},
   "source": [
    "https://adventofcode.com/2021/day/6\n",
    "\n",
    "### Part 1:\n",
    "\n",
    "In hindsight I was a bit lazy on this. I should have noticed that something including `exponential` means we are about to enter a territory that is computationally infeasible. \n",
    "\n",
    "Regardless my approach is pretty simple:\n",
    "- Determine how many new fish to add (if any existing are at 0).\n",
    "- Append new ones with life 9 (I do this since it needs to start at 8, and my `-1 day` happens at end of loop\n",
    "- Anything that had been a 0 should be converted to a life 7 (same logic as above, this really becomes a 6)\n",
    "- At end of loop subtract 1 life."
   ]
  },
  {
   "cell_type": "code",
   "execution_count": 1,
   "id": "7053bf76",
   "metadata": {},
   "outputs": [
    {
     "name": "stdout",
     "output_type": "stream",
     "text": [
      "End of day 79: 5934\n"
     ]
    }
   ],
   "source": [
    "import numpy as np\n",
    "\n",
    "# sample data\n",
    "sample = [3,4,3,1,2]\n",
    "\n",
    "arr = np.asarray(sample)\n",
    "\n",
    "# iterate over 80 times\n",
    "for i in range(80):\n",
    "\n",
    "    # if anything is at 0 we add a new element starting at 8\n",
    "    new_size = sum(arr == 0)\n",
    "    \n",
    "    if new_size > 0:\n",
    "        arr = np.append(arr, new_size*[9])\n",
    "    \n",
    "    # convert any 0s to 6\n",
    "    arr = np.where(arr == 0, 7, arr)\n",
    "    \n",
    "    # subtract 1 life at end of each\n",
    "    arr = arr - 1\n",
    "    \n",
    "print(f\"End of day {i}: {len(arr)}\")\n",
    "assert(len(arr) == 5934)"
   ]
  },
  {
   "cell_type": "code",
   "execution_count": 2,
   "id": "9262d3ef",
   "metadata": {},
   "outputs": [
    {
     "name": "stdout",
     "output_type": "stream",
     "text": [
      "End of day 79: 353079\n"
     ]
    }
   ],
   "source": [
    "# read data \n",
    "with open('data/day06.txt') as fh:\n",
    "    data = [line.split(',') for line in fh.readlines()]\n",
    "\n",
    "# Ugly cleaning, but so it goes\n",
    "start = [int(x) for x in data[0]]\n",
    "arr = np.asarray(start)\n",
    "\n",
    "# iterate over 80 days\n",
    "for i in range(80):\n",
    "\n",
    "    # if anything is at 0 we add a new element starting at 8\n",
    "    new_size = sum(arr == 0)\n",
    "    \n",
    "    if new_size > 0:\n",
    "        arr = np.append(arr, new_size*[9])\n",
    "    \n",
    "    # convert any 0s to 6\n",
    "    arr = np.where(arr == 0, 7, arr)\n",
    "    \n",
    "    # subtract 1 life at end of each\n",
    "    arr = arr - 1\n",
    "    \n",
    "print(f\"End of day {i}: {len(arr)}\")"
   ]
  },
  {
   "cell_type": "markdown",
   "id": "2ad870c6",
   "metadata": {},
   "source": [
    "### Part 2: Some Efficiency Needed\n",
    "\n",
    "Now the problem is not feasible to solve by an ever-growing array. This is largely hinted at as the sample problem has shifted into a result of `26984457539`, so we know our solution will be significantly larger. \n",
    "\n",
    "#### Reframing Problem: \n",
    "\n",
    "It took me awhile to catch, but there is a nice pattern we can use here. I can think about the problem as `number of days until a new addition` rather than storing an ever-growing array.\n",
    "\n",
    "Let's start with a simple example: `[3,4,3,1,2]`\n",
    "- We know our current size is `5`\n",
    "- We know that in 1 day we need to add 1 new fish, in 2 days we add 1 new fish, in 3 days we add 2 new fish, and in 4 days we add 1 fish\n",
    "- We also know that whenever we add a new fish we need to:\n",
    "    - Give it 8 days until IT adds a new fish\n",
    "    - Give the original fish that is reproducing 6 more days until adding a new fish \n",
    "\n",
    "With this framework, we can store off a dictionary like below: \n",
    "```python\n",
    "size_dict = {1: 1, 2: 1, 3: 2, 4: 1}\n",
    "```\n",
    "\n",
    "We can then step through each day, and when we hit a day with that matches our dictionary we take a few steps:\n",
    "- Increment the total number of fish we have \n",
    "    - E.g. on Day 1 we go from 5 -> 6 in size\n",
    "        - `Note Day 1 here really means Day 2 since I am working in start of 0`\n",
    "- Add the new fish being added to `size_dict` twice:\n",
    "    - Once in the `day+7` spot to represent the existing fish that will reproduce again in 6 days\n",
    "    - Once in the `day+9` spot to represent the new fish that will reproduce in 8 days\n",
    "\n",
    "#### Conclusion: \n",
    "\n",
    "The benefit here is that instead of relying on a massive array we can just store off a small dictionary as well as a single integer variable that incremements through each step. Very efficient"
   ]
  },
  {
   "cell_type": "code",
   "execution_count": 3,
   "id": "1c7cb705",
   "metadata": {},
   "outputs": [
    {
     "name": "stdout",
     "output_type": "stream",
     "text": [
      "End of Day 80 size is 5934\n"
     ]
    }
   ],
   "source": [
    "from collections import defaultdict\n",
    "sum_d = defaultdict(lambda: 0)\n",
    "\n",
    "sample = [3,4,3,1,2]\n",
    "\n",
    "# initialize dict\n",
    "for day in sample:\n",
    "    sum_d[day] += 1\n",
    "    \n",
    "\n",
    "size = len(sample)\n",
    "    \n",
    "# for day of life \n",
    "for d in range(80):\n",
    "    \n",
    "    #print(f\"On Day {d} size is {size}\")\n",
    "    \n",
    "    # update based on sum_d dict\n",
    "    adds = sum_d[d]\n",
    "    sum_d[d+9] += adds # adding for future for new ones\n",
    "    sum_d[d+7] += adds # adding for future for old ones\n",
    "    size = size + adds\n",
    "print(f\"End of Day {d + 1} size is {size}\")\n",
    "assert(size == 5934)"
   ]
  },
  {
   "cell_type": "code",
   "execution_count": 4,
   "id": "f7a95b20",
   "metadata": {},
   "outputs": [
    {
     "name": "stdout",
     "output_type": "stream",
     "text": [
      "End of Day 256 size is 26984457539\n"
     ]
    }
   ],
   "source": [
    "sum_d = defaultdict(lambda: 0)\n",
    "\n",
    "sample = [3,4,3,1,2]\n",
    "\n",
    "# initialize dict\n",
    "for day in sample:\n",
    "    sum_d[day] += 1\n",
    "    \n",
    "\n",
    "size = len(sample)\n",
    "    \n",
    "# for day of life \n",
    "for d in range(256):\n",
    "    \n",
    "    #print(f\"On Day {d} size is {size}\")\n",
    "    \n",
    "    # update based on sum_d dict\n",
    "    adds = sum_d[d]\n",
    "    sum_d[d+9] += adds # adding for future for new ones\n",
    "    sum_d[d+7] += adds # adding for future for old ones\n",
    "    size = size + adds\n",
    "print(f\"End of Day {d+1} size is {size}\")\n",
    "assert(size == 26984457539)"
   ]
  },
  {
   "cell_type": "code",
   "execution_count": 5,
   "id": "eeb2c91e",
   "metadata": {},
   "outputs": [
    {
     "name": "stdout",
     "output_type": "stream",
     "text": [
      "End of Day 256 size is 1605400130036\n"
     ]
    }
   ],
   "source": [
    "sum_d = defaultdict(lambda: 0)\n",
    "\n",
    "# read data \n",
    "with open('data/day06.txt') as fh:\n",
    "    data = [line.split(',') for line in fh.readlines()]\n",
    "\n",
    "start = [int(x) for x in data[0]]\n",
    "\n",
    "# initialize dict\n",
    "for day in start:\n",
    "    sum_d[day] += 1\n",
    "    \n",
    "size = len(start)\n",
    "    \n",
    "# for day of life \n",
    "for d in range(256):\n",
    "    # update based on sum_d dict\n",
    "    adds = sum_d[d]\n",
    "    sum_d[d+9] += adds # adding for future for new ones\n",
    "    sum_d[d+7] += adds # adding for future for old ones\n",
    "    size = size + adds\n",
    "print(f\"End of Day {d+1} size is {size}\")"
   ]
  }
 ],
 "metadata": {
  "kernelspec": {
   "display_name": "ml",
   "language": "python",
   "name": "ml"
  },
  "language_info": {
   "codemirror_mode": {
    "name": "ipython",
    "version": 3
   },
   "file_extension": ".py",
   "mimetype": "text/x-python",
   "name": "python",
   "nbconvert_exporter": "python",
   "pygments_lexer": "ipython3",
   "version": "3.9.2"
  }
 },
 "nbformat": 4,
 "nbformat_minor": 5
}
