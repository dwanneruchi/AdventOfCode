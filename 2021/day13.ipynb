{
 "cells": [
  {
   "cell_type": "markdown",
   "id": "8fd0b72c",
   "metadata": {},
   "source": [
    "### Part 1:\n",
    "\n",
    "Pretty straightforward with numpy. I also assumed I would need to eventually solve all, which is why I wrote a function to handle the folding. "
   ]
  },
  {
   "cell_type": "code",
   "execution_count": 1,
   "id": "29b43f6b",
   "metadata": {},
   "outputs": [],
   "source": [
    "import numpy as np \n",
    "\n",
    "def fold(mat, dirs):\n",
    "    \"\"\"Function to handle folding\"\"\"\n",
    "    f, n = dirs\n",
    "    if f == 'y':\n",
    "        # When splitting on a y-split: we remove the row\n",
    "        mat = np.delete(mat, n, axis = 0)\n",
    "        \n",
    "        # we then split on [0,split]\n",
    "        junk, a, b = np.split(mat, [0,n], axis = 0)\n",
    "        \n",
    "        # in this case we \"flip up\" and add to a\n",
    "        return a + np.flipud(b)\n",
    "    else:\n",
    "        # When splitting on a x-split: we remove the col \n",
    "        mat = np.delete(mat, n, axis = 1)\n",
    "        \n",
    "        # we then split on [0,split]\n",
    "        junk, a, b = np.split(mat, [0,n], axis = 1 )\n",
    "        \n",
    "        # in this case we \"flip left\" and add to a\n",
    "        return a + np.fliplr(b)"
   ]
  },
  {
   "cell_type": "code",
   "execution_count": 2,
   "id": "bcd702d3",
   "metadata": {},
   "outputs": [
    {
     "name": "stdout",
     "output_type": "stream",
     "text": [
      "Part 1 Test Solution: After Flip 19 we have 17 dots\n",
      "Part 1 Test Solution: After Flip 19 we have 16 dots\n"
     ]
    }
   ],
   "source": [
    "# read data \n",
    "with open('data/day13_test.txt') as fh:\n",
    "    data = [line.strip('\\n|fold along') for line in fh.readlines()]\n",
    "\n",
    "# some variables to use:\n",
    "i = 0\n",
    "max_r = 0\n",
    "max_c = 0\n",
    "inputs = []\n",
    "fold_dir = []\n",
    "\n",
    "# start by handling coordinates\n",
    "while True:\n",
    "    if data[i] == '':\n",
    "        i += 1\n",
    "        break\n",
    "    c,r = data[i].split(',')\n",
    "    inputs.append((int(r), int(c)))\n",
    "    \n",
    "    # calculate max r and max c for matrix build\n",
    "    if int(r) > max_r:\n",
    "        max_r = int(r)\n",
    "    if int(c) > max_c:\n",
    "        max_c = int(c)\n",
    "    \n",
    "    # increment \n",
    "    i += 1\n",
    "    \n",
    "# finish by handling fold details \n",
    "for dirs in data[i:]:\n",
    "    d, n = dirs.split('=')\n",
    "    fold_dir.append((d, int(n)))\n",
    "    \n",
    "# build zero matrix of size (max_r+1, max_c+1)\n",
    "# +1 is necessary since we are using a 0-based index\n",
    "thermal_map = np.zeros((max_r+1, max_c+1))\n",
    "\n",
    "# Add values to thermal map: Marking as 1 \n",
    "for pt in inputs:\n",
    "    thermal_map[pt] = 1\n",
    "\n",
    "# Run folds:\n",
    "for dirs in fold_dir:\n",
    "    thermal_map = fold(thermal_map, dirs)\n",
    "    \n",
    "    # we count the total non-0s:\n",
    "    part1 = np.count_nonzero(thermal_map)\n",
    "    print(f\"Part 1 Test Solution: After Flip {i} we have {part1} dots\")"
   ]
  },
  {
   "cell_type": "code",
   "execution_count": 3,
   "id": "f47e93dd",
   "metadata": {},
   "outputs": [
    {
     "data": {
      "text/plain": [
       "array([['#', '#', '#', '#', '#'],\n",
       "       ['#', '.', '.', '.', '#'],\n",
       "       ['#', '.', '.', '.', '#'],\n",
       "       ['#', '.', '.', '.', '#'],\n",
       "       ['#', '#', '#', '#', '#'],\n",
       "       ['.', '.', '.', '.', '.'],\n",
       "       ['.', '.', '.', '.', '.']], dtype='<U1')"
      ]
     },
     "execution_count": 3,
     "metadata": {},
     "output_type": "execute_result"
    }
   ],
   "source": [
    "# Part 2: \n",
    "np.where(thermal_map > 0, '#', '.')"
   ]
  },
  {
   "cell_type": "markdown",
   "id": "bffe392f",
   "metadata": {},
   "source": [
    "### Actual Input Data:\n",
    "\n",
    "For Part 2 I just print every 5 columns (all rows) since we have 8 total uppercase letters. Had to squint, but can see everything. "
   ]
  },
  {
   "cell_type": "code",
   "execution_count": 4,
   "id": "6ddaee22",
   "metadata": {},
   "outputs": [
    {
     "name": "stdout",
     "output_type": "stream",
     "text": [
      "Part 1 Test Solution: After Flip 805 we have 671 dots\n",
      "Part 1 Test Solution: After Flip 805 we have 545 dots\n",
      "Part 1 Test Solution: After Flip 805 we have 461 dots\n",
      "Part 1 Test Solution: After Flip 805 we have 383 dots\n",
      "Part 1 Test Solution: After Flip 805 we have 328 dots\n",
      "Part 1 Test Solution: After Flip 805 we have 278 dots\n",
      "Part 1 Test Solution: After Flip 805 we have 228 dots\n",
      "Part 1 Test Solution: After Flip 805 we have 193 dots\n",
      "Part 1 Test Solution: After Flip 805 we have 165 dots\n",
      "Part 1 Test Solution: After Flip 805 we have 138 dots\n",
      "Part 1 Test Solution: After Flip 805 we have 120 dots\n",
      "Part 1 Test Solution: After Flip 805 we have 97 dots\n"
     ]
    }
   ],
   "source": [
    "# read data \n",
    "with open('data/day13.txt') as fh:\n",
    "    data = [line.strip('\\n|fold along') for line in fh.readlines()]\n",
    "\n",
    "# some variables to use:\n",
    "i = 0\n",
    "max_r = 0\n",
    "max_c = 0\n",
    "inputs = []\n",
    "fold_dir = []\n",
    "\n",
    "# start by handling coordinates\n",
    "while True:\n",
    "    if data[i] == '':\n",
    "        i += 1\n",
    "        break\n",
    "    c,r = data[i].split(',')\n",
    "    inputs.append((int(r), int(c)))\n",
    "    \n",
    "    # calculate max r and max c for matrix build\n",
    "    if int(r) > max_r:\n",
    "        max_r = int(r)\n",
    "    if int(c) > max_c:\n",
    "        max_c = int(c)\n",
    "    \n",
    "    # increment \n",
    "    i += 1\n",
    "    \n",
    "# finish by handling fold details \n",
    "for dirs in data[i:]:\n",
    "    d, n = dirs.split('=')\n",
    "    fold_dir.append((d, int(n)))\n",
    "    \n",
    "# build zero matrix of size (max_r+1, max_c+1)\n",
    "# +1 is necessary since we are using a 0-based index\n",
    "thermal_map = np.zeros((max_r+1, max_c+1))\n",
    "\n",
    "# Add values to thermal map: Marking as 1 \n",
    "for pt in inputs:\n",
    "    thermal_map[pt] = 1\n",
    "\n",
    "# Run folds:\n",
    "for dirs in fold_dir:\n",
    "    thermal_map = fold(thermal_map, dirs)\n",
    "    \n",
    "    # we count the total non-0s:\n",
    "    part1 = np.count_nonzero(thermal_map)\n",
    "    print(f\"Part 1 Test Solution: After Flip {i} we have {part1} dots\")"
   ]
  },
  {
   "cell_type": "code",
   "execution_count": 5,
   "id": "91bbbfc9",
   "metadata": {},
   "outputs": [
    {
     "name": "stdout",
     "output_type": "stream",
     "text": [
      "[['#' '#' '#' '.' '.']\n",
      " ['#' '.' '.' '#' '.']\n",
      " ['#' '.' '.' '#' '.']\n",
      " ['#' '#' '#' '.' '.']\n",
      " ['#' '.' '.' '.' '.']\n",
      " ['#' '.' '.' '.' '.']]\n",
      "[['.' '#' '#' '.' '.']\n",
      " ['#' '.' '.' '#' '.']\n",
      " ['#' '.' '.' '.' '.']\n",
      " ['#' '.' '.' '.' '.']\n",
      " ['#' '.' '.' '#' '.']\n",
      " ['.' '#' '#' '.' '.']]\n",
      "[['#' '#' '#' '.' '.']\n",
      " ['#' '.' '.' '#' '.']\n",
      " ['#' '.' '.' '#' '.']\n",
      " ['#' '#' '#' '.' '.']\n",
      " ['#' '.' '.' '.' '.']\n",
      " ['#' '.' '.' '.' '.']]\n",
      "[['#' '.' '.' '#' '.']\n",
      " ['#' '.' '.' '#' '.']\n",
      " ['#' '#' '#' '#' '.']\n",
      " ['#' '.' '.' '#' '.']\n",
      " ['#' '.' '.' '#' '.']\n",
      " ['#' '.' '.' '#' '.']]\n",
      "[['.' '#' '#' '.' '.']\n",
      " ['#' '.' '.' '#' '.']\n",
      " ['#' '.' '.' '#' '.']\n",
      " ['#' '#' '#' '#' '.']\n",
      " ['#' '.' '.' '#' '.']\n",
      " ['#' '.' '.' '#' '.']]\n",
      "[['#' '#' '#' '.' '.']\n",
      " ['#' '.' '.' '#' '.']\n",
      " ['#' '.' '.' '#' '.']\n",
      " ['#' '#' '#' '.' '.']\n",
      " ['#' '.' '#' '.' '.']\n",
      " ['#' '.' '.' '#' '.']]\n",
      "[['#' '.' '.' '#' '.']\n",
      " ['#' '.' '#' '.' '.']\n",
      " ['#' '#' '.' '.' '.']\n",
      " ['#' '.' '#' '.' '.']\n",
      " ['#' '.' '#' '.' '.']\n",
      " ['#' '.' '.' '#' '.']]\n",
      "[['#' '.' '.' '.' '.']\n",
      " ['#' '.' '.' '.' '.']\n",
      " ['#' '.' '.' '.' '.']\n",
      " ['#' '.' '.' '.' '.']\n",
      " ['#' '.' '.' '.' '.']\n",
      " ['#' '#' '#' '#' '.']]\n",
      "[]\n",
      "[]\n"
     ]
    }
   ],
   "source": [
    "thermal_map = np.where(thermal_map > 0, '#', '.')\n",
    "\n",
    "inc = int(thermal_map.shape[1] / 8)\n",
    "i = 0\n",
    "j = inc\n",
    "for _ in range(10):\n",
    "    \n",
    "    print(thermal_map[:,i:j])\n",
    "    \n",
    "    i += inc\n",
    "    j += inc\n",
    "    \n",
    "# Solution: PCPHARKL"
   ]
  }
 ],
 "metadata": {
  "kernelspec": {
   "display_name": "ml",
   "language": "python",
   "name": "ml"
  },
  "language_info": {
   "codemirror_mode": {
    "name": "ipython",
    "version": 3
   },
   "file_extension": ".py",
   "mimetype": "text/x-python",
   "name": "python",
   "nbconvert_exporter": "python",
   "pygments_lexer": "ipython3",
   "version": "3.9.2"
  }
 },
 "nbformat": 4,
 "nbformat_minor": 5
}
