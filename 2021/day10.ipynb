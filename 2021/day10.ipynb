{
 "cells": [
  {
   "cell_type": "markdown",
   "id": "353b3261",
   "metadata": {},
   "source": [
    "### part 1:\n",
    "\n",
    "- scanner function determines if we have any closed symbols left, if we don't then we pass - this is incomplete\n",
    "- findInnerOpen function is going to locate the closest open-close pair and output idx\n",
    "\n",
    "General process:\n",
    "- start at idx 0 and find first open-close pair\n",
    "- remove pair from list\n",
    "- check if they match -> if they do, move on; if they don't, add syntax error value\n",
    "- confirm more closed symbols in list (if not it is incomplete and we move to next step)"
   ]
  },
  {
   "cell_type": "code",
   "execution_count": 1,
   "id": "444a7c6e",
   "metadata": {},
   "outputs": [],
   "source": [
    "import numpy as np \n",
    "import time \n",
    "import math \n",
    "\n",
    "def scanner(in_list, cl):\n",
    "    \"\"\"Determine if the list still has closed symbols\n",
    "    \"\"\"\n",
    "    return sum([1 for e in in_list if e in cl])\n",
    "\n",
    "def findInnerOpen(idx, in_list):\n",
    "    \"\"\"Scan until you find an open-close pair\"\"\"\n",
    "    while True:\n",
    "        if (in_list[idx] in ol) and (in_list[idx+1] in cl):\n",
    "            return idx\n",
    "        idx+=1"
   ]
  },
  {
   "cell_type": "code",
   "execution_count": 2,
   "id": "fa57d5b6",
   "metadata": {},
   "outputs": [
    {
     "name": "stdout",
     "output_type": "stream",
     "text": [
      "Mismatch: [ not with }\n",
      "Mismatch: [ not with )\n",
      "Mismatch: ( not with ]\n",
      "Mismatch: < not with )\n",
      "Mismatch: [ not with >\n",
      "Syntax error score: 26397\n"
     ]
    }
   ],
   "source": [
    "# read data \n",
    "with open('data/day10_test.txt') as fh:\n",
    "    data = [line.strip('\\n') for line in fh.readlines()]\n",
    "    \n",
    "# syntax error dict\n",
    "se_dict = {\n",
    "    ')': 3,\n",
    "    ']': 57,\n",
    "    '}': 1197,\n",
    "    '>': 25137  \n",
    "}\n",
    "\n",
    "# mapping\n",
    "map_dict = {\n",
    "    '(': ')',\n",
    "    '[': ']',\n",
    "    '{': '}',\n",
    "    '<': '>' \n",
    "}\n",
    "\n",
    "# open list:\n",
    "ol = ['{', '(', '[', '<']\n",
    "\n",
    "# closed list\n",
    "cl = ['}', ')', ']', '>']\n",
    "\n",
    "sum_track = 0\n",
    "for line in data:\n",
    "    v = [v for v in line]\n",
    "    len_v = len(v)\n",
    "    \n",
    "    idx = 0\n",
    "    solve = True\n",
    "    while True:\n",
    "\n",
    "        # Find first inner-open pair\n",
    "        a = findInnerOpen(idx, v)\n",
    "\n",
    "        # once found, remove from list\n",
    "        o = v.pop(a)\n",
    "        c = v.pop(a)\n",
    "\n",
    "        # check if a correct match \n",
    "        if map_dict[o] != c:\n",
    "            print(f\"Mismatch: {o} not with {c}\")\n",
    "            sum_track += se_dict[c]\n",
    "\n",
    "        # confirm we can keep going - if not it means we have run out of pairs \n",
    "        # no need to track anything \n",
    "        if scanner(v, cl) == 0:\n",
    "            solve = False\n",
    "            break\n",
    "            \n",
    "print(f\"Syntax error score: {sum_track}\")"
   ]
  },
  {
   "cell_type": "code",
   "execution_count": 3,
   "id": "cf781590",
   "metadata": {},
   "outputs": [
    {
     "name": "stdout",
     "output_type": "stream",
     "text": [
      "Syntax error score: 344193\n"
     ]
    }
   ],
   "source": [
    "# run actual input\n",
    "# read data \n",
    "with open('data/day10.txt') as fh:\n",
    "    data = [line.strip('\\n') for line in fh.readlines()]\n",
    "    \n",
    "# syntax error dict\n",
    "se_dict = {\n",
    "    ')': 3,\n",
    "    ']': 57,\n",
    "    '}': 1197,\n",
    "    '>': 25137  \n",
    "}\n",
    "\n",
    "# mapping\n",
    "map_dict = {\n",
    "    '(': ')',\n",
    "    '[': ']',\n",
    "    '{': '}',\n",
    "    '<': '>' \n",
    "}\n",
    "\n",
    "# open list:\n",
    "ol = ['{', '(', '[', '<']\n",
    "\n",
    "# closed list\n",
    "cl = ['}', ')', ']', '>']\n",
    "\n",
    "sum_track = 0\n",
    "for line in data:\n",
    "    v = [v for v in line]\n",
    "    len_v = len(v)\n",
    "    \n",
    "    idx = 0\n",
    "    solve = True\n",
    "    while True:\n",
    "\n",
    "        # Find first inner-open pair\n",
    "        a = findInnerOpen(idx, v)\n",
    "\n",
    "        # once found, remove from list\n",
    "        o = v.pop(a)\n",
    "        c = v.pop(a)\n",
    "\n",
    "        # check if a correct match \n",
    "        if map_dict[o] != c:\n",
    "            #print(f\"Mismatch: {o} not with {c}\")\n",
    "            sum_track += se_dict[c]\n",
    "\n",
    "        # confirm we can keep going - if not it means we have run out of pairs \n",
    "        # no need to track anything \n",
    "        if scanner(v, cl) == 0:\n",
    "            solve = False\n",
    "            break\n",
    "            \n",
    "print(f\"Syntax error score: {sum_track}\")"
   ]
  },
  {
   "cell_type": "markdown",
   "id": "2c53bd7b",
   "metadata": {},
   "source": [
    "### Part 2: \n",
    "\n",
    "Given how I coded part 1 this is fairly straight-forward. \n",
    "\n",
    "- we can ignore any incorrect for now (adding break statement)\n",
    "- when we hit incomplete we just need to score this section with a new function\n",
    "\n",
    "New function just iterates through reversed list of remaining open symbols."
   ]
  },
  {
   "cell_type": "code",
   "execution_count": 4,
   "id": "3985fd79",
   "metadata": {},
   "outputs": [
    {
     "data": {
      "text/plain": [
       "294"
      ]
     },
     "execution_count": 4,
     "metadata": {},
     "output_type": "execute_result"
    }
   ],
   "source": [
    "# value dict dict\n",
    "val_dict = {\n",
    "    '(': 1,\n",
    "    '[': 2,\n",
    "    '{': 3,\n",
    "    '<': 4  \n",
    "}\n",
    "\n",
    "def scoreIncomplete(in_list):\n",
    "    \"\"\"Take a list with only open symbols & score\"\"\"\n",
    "    in_list.reverse()\n",
    "    score = 0\n",
    "    for c in in_list:\n",
    "        score *= 5\n",
    "        score += val_dict[c]\n",
    "    return score\n",
    "\n",
    "test_list = [x for x in '<{([']\n",
    "scoreIncomplete(test_list)"
   ]
  },
  {
   "cell_type": "code",
   "execution_count": 5,
   "id": "435045e5",
   "metadata": {},
   "outputs": [
    {
     "name": "stdout",
     "output_type": "stream",
     "text": [
      "288957\n"
     ]
    }
   ],
   "source": [
    "# read data \n",
    "with open('data/day10_test.txt') as fh:\n",
    "    data = [line.strip('\\n') for line in fh.readlines()]\n",
    "    \n",
    "error = 0\n",
    "score_list = []\n",
    "for line in data:\n",
    "    v = [v for v in line]\n",
    "    len_v = len(v)\n",
    "    \n",
    "    idx = 0\n",
    "    solve = True\n",
    "    while True:\n",
    "\n",
    "        # Find first inner-open pair\n",
    "        a = findInnerOpen(idx, v)\n",
    "\n",
    "        # once found, remove from list\n",
    "        o = v.pop(a)\n",
    "        c = v.pop(a)\n",
    "\n",
    "        # check if a correct match \n",
    "        if map_dict[o] != c:\n",
    "            break\n",
    "\n",
    "        # confirm we can keep going - if not it means we have run out of pairs and we score\n",
    "        if scanner(v, cl) == 0:\n",
    "            score_list.append(scoreIncomplete(v))\n",
    "            break\n",
    "            \n",
    "# sort - Python sure makes life easy!       \n",
    "score_list.sort()\n",
    "print(score_list[math.floor(len(score_list)/2)])"
   ]
  },
  {
   "cell_type": "code",
   "execution_count": 6,
   "id": "08930345",
   "metadata": {},
   "outputs": [
    {
     "name": "stdout",
     "output_type": "stream",
     "text": [
      "3241238967\n"
     ]
    }
   ],
   "source": [
    "# read data \n",
    "with open('data/day10.txt') as fh:\n",
    "    data = [line.strip('\\n') for line in fh.readlines()]\n",
    "    \n",
    "error = 0\n",
    "score_list = []\n",
    "for line in data:\n",
    "    v = [v for v in line]\n",
    "    len_v = len(v)\n",
    "    \n",
    "    idx = 0\n",
    "    solve = True\n",
    "    while True:\n",
    "\n",
    "        # Find first inner-open pair\n",
    "        a = findInnerOpen(idx, v)\n",
    "\n",
    "        # once found, remove from list\n",
    "        o = v.pop(a)\n",
    "        c = v.pop(a)\n",
    "\n",
    "        # check if a correct match \n",
    "        if map_dict[o] != c:\n",
    "            break\n",
    "\n",
    "        # confirm we can keep going - if not it means we have run out of pairs and we score\n",
    "        if scanner(v, cl) == 0:\n",
    "            score_list.append(scoreIncomplete(v))\n",
    "            break\n",
    "            \n",
    "# sort - Python sure makes life easy!       \n",
    "score_list.sort()\n",
    "print(score_list[math.floor(len(score_list)/2)])"
   ]
  }
 ],
 "metadata": {
  "kernelspec": {
   "display_name": "ml",
   "language": "python",
   "name": "ml"
  },
  "language_info": {
   "codemirror_mode": {
    "name": "ipython",
    "version": 3
   },
   "file_extension": ".py",
   "mimetype": "text/x-python",
   "name": "python",
   "nbconvert_exporter": "python",
   "pygments_lexer": "ipython3",
   "version": "3.9.2"
  }
 },
 "nbformat": 4,
 "nbformat_minor": 5
}
