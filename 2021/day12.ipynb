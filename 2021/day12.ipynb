{
 "cells": [
  {
   "cell_type": "markdown",
   "id": "b46ed2f0",
   "metadata": {},
   "source": [
    "### Part 1: \n",
    "\n",
    "This ended up taking me a long time and I did review a few others solutions, blog posts and eventually a helpful stackoverflow post. A good learning experience overall! In the end the following stack post was a solution I needed: https://stackoverflow.com/a/24471320/5094697"
   ]
  },
  {
   "cell_type": "markdown",
   "id": "d321dddf",
   "metadata": {},
   "source": [
    "### Recursion Example: Almost Step by Step\n",
    "\n",
    "My initial graph looks like below for first test case:\n",
    "\n",
    "```python:\n",
    "\n",
    "defaultdict(<class 'list'>, {'start': ['A', 'b'], 'A': ['start', 'c', 'b', 'end'], 'b': ['start', 'A', 'd', 'end'], 'c': ['A'], 'd': ['b'], 'end': ['A', 'b']})\n",
    "```\n",
    "\n",
    "Let's follow the path from `start` and walk through examples (traversing the `A` branch). `func` just means that we call a function (trying to highlight the recursive aspect). \n",
    "\n",
    "General pseudo-code:\n",
    "\n",
    "```bash\n",
    "\n",
    "- update path with current node\n",
    "- check if at end:\n",
    "    - if yes, return path\n",
    "- loop over all possible nodes for current node (e.g. the values of the key node)\n",
    "    - check if we have seen the node already (only matters for lowercase) \n",
    "        - call function with the new node and the updated path\n",
    "        - once we have finished rcursion for the new node we loop over all new paths and append onto a path list (i just use a set)\n",
    "- at the end we return the set of paths\n",
    "\n",
    "```\n",
    "Actually walking through steps: \n",
    "\n",
    "- func: set our initial path to `start`\n",
    "    - confirm we aren't at node `end`\n",
    "    - `start`: Iterate through `[A,B]`. Let's focus on `A`\n",
    "        - since `A` hasn't been added to our path yet we recursively call our function with `A` as our node and our path set to `[start]`\n",
    "    \n",
    "- func: set our initial path to `[start,A]`, current node would be `A`\n",
    "    - confirm we aren't at node `end`\n",
    "    - `A`: Iterate through `[start, c,b, end]`.\n",
    "    - since `start` has been added already and is lowercase we ignore, and move onto `c`\n",
    "        - func: set our initial path to `[start,A, c]`, current node would be `c`\n",
    "            - confirm we aren't at node `end`\n",
    "            - `c`: Iterate through `[A]`.\n",
    "            - since `A` is in our path but uppercase we recursively call function with `A` and path `[start,A, c]`\n",
    "                - func: set our initial path to `[start,A, c, A]`, current node `A`\n",
    "                - confirm we aren't at node `end`\n",
    "                - `A`: Iterate through `[start, c,b, end]`, but `start` and `c` are off-limits now due to lower case rule.\n",
    "                - basically this will run until we can output the following which show all possible paths for `start-A-c`\n",
    "                    - {start,A, c, A, end}\n",
    "                    - {start,A, c, A, b, end}\n",
    "                    - {start,A, c, A, b, A, end}\n",
    "                    \n",
    "                 - For the above we hit end three times and return the single list, which is then added to a set once we get through all of the `c` options as: `[[start,A, c, A, end], [start,A, c, A, b, end], [start,A, c, A, b, A, end]]`\n",
    "\n",
    "    - afer `c` is iterated over completely we move to `b`, which would give us the following: \n",
    "        - {'start,A,b,end', 'start,A,b,A,c,A,end', 'start,A,b,A,end'}\n",
    "\n",
    "    - finally we go to `end`, which is a single path: `{start,A,end}`\n",
    "    \n",
    "- After this we are at 7 paths. We then move from `start -> b`, eventually giving us:\n",
    "    - {start,b,A,c,A,end}\n",
    "    - {start,b,A,end}\n",
    "    - {start,b,end}\n",
    "    \n",
    "The ten total paths mentioned have been traversed. \n",
    "\n",
    "\n",
    "### Logic of Function: \n",
    "\n",
    "- `find_all_paths`:\n",
    "    - recursive function that will accept a graph (I stored as a dictionary of possible steps), start node ('start'), end node ('end') and list for path (default is empty list)\n",
    "    - I modified storage to a set and combined path into single string for more efficiencies (assume actual inputs get lots of paths)\n",
    "        - Note: Since lists are mutable they aren't hashable, and python does not let us add lists to a set which is why I used the `.join()`\n",
    "    \n",
    "- Walking through steps:\n",
    "    - Take the current path and add on start variable\n",
    "        - Why does it need to be addition of [start] instead of append? \n",
    "            - This comes down to `path` default being `[]`\n",
    "            - In python `path.append(start)` would just be treated as `[].append(start)` which is `None` (shown in debugger below)\n",
    "    - if `start` == `end` then we have a path:\n",
    "        - we should return this path as an element in a list. Why as an element in a list? \n",
    "            - This has to do with how returns occur in recursion\n",
    "            - once a node is fully searched through it is going to return `paths`, which will be a list or a set of all paths found. \n",
    "            - We then need to iterate through that in the step that adds paths to our `paths` variable. \n",
    "            - If we return just the path then we run into an annoying situation on the step where we update `paths` and we would need to determine first if we had just a list versus having a list of lists (or set of string-paths)\n",
    "    - I then create a `set()` called `paths` to store each path:\n",
    "        - It helps me to think of this as being the `outer-most` set, so after all recursion is done and a `node` has no other nodes to traverse it will populate `newpaths`, which will then be added to `paths` set. \n",
    "    - iterate through all nodes of `start` variable (`graph[start]`):\n",
    "        - what is happening?\n",
    "            - at the beginning this is `A` and `b`\n",
    "            - but when we get to `start == A` we see this becomes `['start', 'c', 'b', 'end']`, allowing for a variety of paths\n",
    "        - we check if the node is in the path already OR is upper:\n",
    "            - if it is upper then we don't care if in path and keep going\n",
    "            - if it is not in the path then we keep doing\n",
    "            - if it is lower and in path then we effectively move to the next neighbor - we have already visited this node in our current journey\n",
    "        - assuming we have moved on:\n",
    "            - we hit recursion -> we pass in our graph (unchanged), our node (which is our new starting point), our end (unchanged), and our path (which will have our journey so far). \n",
    "            - this will continue until we hit a return, which likely starts as returning a single path as an element in a list. \n",
    "        - our output is stored in newpaths, which we iterate through and add to paths\n",
    "        - once all available nodes have been searched through we pass out our paths, and this happens until we have solved all paths from the initial `start`."
   ]
  },
  {
   "cell_type": "code",
   "execution_count": 1,
   "id": "1b54076d",
   "metadata": {},
   "outputs": [],
   "source": [
    "def find_all_paths_debugger(graph, start, end, path=[], debug = False):\n",
    "        \n",
    "        # debugging purposes: why this way instead of .append()?\n",
    "        last_path = path.copy()\n",
    "        path = path + [start]\n",
    "        \n",
    "        if start == end:\n",
    "            if debug:\n",
    "                print(f\"Returning {[last_path.append(start)]} vs {[path]}\")\n",
    "            return [path]\n",
    "        paths = set()\n",
    "        for node in graph[start]:\n",
    "            if node not in path or node.isupper():\n",
    "                newpaths = find_all_paths_debugger(graph, node, end, path, debug)\n",
    "                for newpath in newpaths:\n",
    "                    paths.add(''.join(newpath))\n",
    "                    if debug:\n",
    "                        print(f\"Searched node {node}, paths now {paths}\")\n",
    "        if debug:\n",
    "            print(f\"Finished searching from start {start}\")\n",
    "            print(f\"Returning found paths: {paths}\")\n",
    "        return paths"
   ]
  },
  {
   "cell_type": "code",
   "execution_count": 2,
   "id": "cd5f3530",
   "metadata": {},
   "outputs": [
    {
     "name": "stdout",
     "output_type": "stream",
     "text": [
      "defaultdict(<class 'list'>, {'start': ['A', 'b'], 'A': ['start', 'c', 'b', 'end'], 'b': ['start', 'A', 'd', 'end'], 'c': ['A'], 'd': ['b'], 'end': ['A', 'b']})\n",
      "Returning [None] vs [['start', 'A', 'c', 'A', 'b', 'A', 'end']]\n",
      "Searched node end, paths now {'startAcAbAend'}\n",
      "Finished searching from start A\n",
      "Returning found paths: {'startAcAbAend'}\n",
      "Searched node A, paths now {'startAcAbAend'}\n",
      "Finished searching from start d\n",
      "Returning found paths: set()\n",
      "Returning [None] vs [['start', 'A', 'c', 'A', 'b', 'end']]\n",
      "Searched node end, paths now {'startAcAbend', 'startAcAbAend'}\n",
      "Finished searching from start b\n",
      "Returning found paths: {'startAcAbend', 'startAcAbAend'}\n",
      "Searched node b, paths now {'startAcAbend'}\n",
      "Searched node b, paths now {'startAcAbend', 'startAcAbAend'}\n",
      "Returning [None] vs [['start', 'A', 'c', 'A', 'end']]\n",
      "Searched node end, paths now {'startAcAbend', 'startAcAend', 'startAcAbAend'}\n",
      "Finished searching from start A\n",
      "Returning found paths: {'startAcAbend', 'startAcAend', 'startAcAbAend'}\n",
      "Searched node A, paths now {'startAcAbend'}\n",
      "Searched node A, paths now {'startAcAbend', 'startAcAend'}\n",
      "Searched node A, paths now {'startAcAbend', 'startAcAend', 'startAcAbAend'}\n",
      "Finished searching from start c\n",
      "Returning found paths: {'startAcAbend', 'startAcAend', 'startAcAbAend'}\n",
      "Searched node c, paths now {'startAcAbend'}\n",
      "Searched node c, paths now {'startAcAbend', 'startAcAend'}\n",
      "Searched node c, paths now {'startAcAbend', 'startAcAend', 'startAcAbAend'}\n",
      "Returning [None] vs [['start', 'A', 'b', 'A', 'c', 'A', 'end']]\n",
      "Searched node end, paths now {'startAbAcAend'}\n",
      "Finished searching from start A\n",
      "Returning found paths: {'startAbAcAend'}\n",
      "Searched node A, paths now {'startAbAcAend'}\n",
      "Finished searching from start c\n",
      "Returning found paths: {'startAbAcAend'}\n",
      "Searched node c, paths now {'startAbAcAend'}\n",
      "Returning [None] vs [['start', 'A', 'b', 'A', 'end']]\n",
      "Searched node end, paths now {'startAbAend', 'startAbAcAend'}\n",
      "Finished searching from start A\n",
      "Returning found paths: {'startAbAend', 'startAbAcAend'}\n",
      "Searched node A, paths now {'startAbAend'}\n",
      "Searched node A, paths now {'startAbAend', 'startAbAcAend'}\n",
      "Finished searching from start d\n",
      "Returning found paths: set()\n",
      "Returning [None] vs [['start', 'A', 'b', 'end']]\n",
      "Searched node end, paths now {'startAbAend', 'startAbAcAend', 'startAbend'}\n",
      "Finished searching from start b\n",
      "Returning found paths: {'startAbAend', 'startAbAcAend', 'startAbend'}\n",
      "Searched node b, paths now {'startAcAbend', 'startAbAend', 'startAcAend', 'startAcAbAend'}\n",
      "Searched node b, paths now {'startAbAend', 'startAcAbAend', 'startAcAbend', 'startAcAend', 'startAbAcAend'}\n",
      "Searched node b, paths now {'startAbAend', 'startAcAbAend', 'startAcAbend', 'startAcAend', 'startAbAcAend', 'startAbend'}\n",
      "Returning [None] vs [['start', 'A', 'end']]\n",
      "Searched node end, paths now {'startAend', 'startAbAend', 'startAcAbAend', 'startAcAbend', 'startAcAend', 'startAbAcAend', 'startAbend'}\n",
      "Finished searching from start A\n",
      "Returning found paths: {'startAend', 'startAbAend', 'startAcAbAend', 'startAcAbend', 'startAcAend', 'startAbAcAend', 'startAbend'}\n",
      "Searched node A, paths now {'startAend'}\n",
      "Searched node A, paths now {'startAbAend', 'startAend'}\n",
      "Searched node A, paths now {'startAbAend', 'startAcAbAend', 'startAend'}\n",
      "Searched node A, paths now {'startAcAbend', 'startAbAend', 'startAcAbAend', 'startAend'}\n",
      "Searched node A, paths now {'startAbAend', 'startAcAbAend', 'startAcAbend', 'startAcAend', 'startAend'}\n",
      "Searched node A, paths now {'startAbAend', 'startAcAbAend', 'startAcAbend', 'startAcAend', 'startAbAcAend', 'startAend'}\n",
      "Searched node A, paths now {'startAbend', 'startAbAend', 'startAcAbAend', 'startAcAbend', 'startAcAend', 'startAbAcAend', 'startAend'}\n",
      "Returning [None] vs [['start', 'b', 'A', 'c', 'A', 'end']]\n",
      "Searched node end, paths now {'startbAcAend'}\n",
      "Finished searching from start A\n",
      "Returning found paths: {'startbAcAend'}\n",
      "Searched node A, paths now {'startbAcAend'}\n",
      "Finished searching from start c\n",
      "Returning found paths: {'startbAcAend'}\n",
      "Searched node c, paths now {'startbAcAend'}\n",
      "Returning [None] vs [['start', 'b', 'A', 'end']]\n",
      "Searched node end, paths now {'startbAcAend', 'startbAend'}\n",
      "Finished searching from start A\n",
      "Returning found paths: {'startbAcAend', 'startbAend'}\n",
      "Searched node A, paths now {'startbAcAend'}\n",
      "Searched node A, paths now {'startbAcAend', 'startbAend'}\n",
      "Finished searching from start d\n",
      "Returning found paths: set()\n",
      "Returning [None] vs [['start', 'b', 'end']]\n",
      "Searched node end, paths now {'startbend', 'startbAcAend', 'startbAend'}\n",
      "Finished searching from start b\n",
      "Returning found paths: {'startbend', 'startbAcAend', 'startbAend'}\n",
      "Searched node b, paths now {'startAbend', 'startbend', 'startAbAend', 'startAcAbAend', 'startAcAbend', 'startAcAend', 'startAbAcAend', 'startAend'}\n",
      "Searched node b, paths now {'startbAcAend', 'startAbend', 'startbend', 'startAbAend', 'startAcAbAend', 'startAcAbend', 'startAcAend', 'startAbAcAend', 'startAend'}\n",
      "Searched node b, paths now {'startbAcAend', 'startAbend', 'startbend', 'startbAend', 'startAbAend', 'startAcAbAend', 'startAcAbend', 'startAcAend', 'startAbAcAend', 'startAend'}\n",
      "Finished searching from start start\n",
      "Returning found paths: {'startbAcAend', 'startAbend', 'startbend', 'startbAend', 'startAbAend', 'startAcAbAend', 'startAcAbend', 'startAcAend', 'startAbAcAend', 'startAend'}\n"
     ]
    },
    {
     "data": {
      "text/plain": [
       "10"
      ]
     },
     "execution_count": 2,
     "metadata": {},
     "output_type": "execute_result"
    }
   ],
   "source": [
    "from collections import defaultdict\n",
    "\n",
    "# read data & store connections in default dict\n",
    "fwd = defaultdict(list)\n",
    "bwd = defaultdict(list)\n",
    "\n",
    "with open('data/day12_testa.txt') as fh:\n",
    "    data = [line.strip('\\n') for line in fh.readlines()]\n",
    "    for cxn in data:\n",
    "        a,b = cxn.split('-')\n",
    "        \n",
    "        # add both directions\n",
    "        fwd[a].append(b)\n",
    "        fwd[b].append(a)\n",
    "\n",
    "# review\n",
    "print(fwd)\n",
    "\n",
    "# run through function\n",
    "len(find_all_paths_debugger(fwd, 'start', 'end', [], True))"
   ]
  },
  {
   "cell_type": "code",
   "execution_count": 3,
   "id": "f76de367",
   "metadata": {},
   "outputs": [],
   "source": [
    "### Without debugging: making list copies will get messy further on\n",
    "def find_all_paths(graph, start, end, path=[]):\n",
    "        path = path + [start]\n",
    "        \n",
    "        if start == end:\n",
    "            return [path]\n",
    "        paths = set()\n",
    "        for node in graph[start]:\n",
    "            if node not in path or node.isupper():\n",
    "                newpaths = find_all_paths(graph, node, end, path)\n",
    "                for newpath in newpaths:\n",
    "                    paths.add(''.join(newpath))\n",
    "        return paths"
   ]
  },
  {
   "cell_type": "code",
   "execution_count": 4,
   "id": "d1ff0d11",
   "metadata": {},
   "outputs": [
    {
     "name": "stdout",
     "output_type": "stream",
     "text": [
      "defaultdict(<class 'list'>, {'dc': ['end', 'start', 'HN', 'LN', 'kj'], 'end': ['dc', 'HN'], 'HN': ['start', 'dc', 'end', 'kj'], 'start': ['HN', 'kj', 'dc'], 'kj': ['start', 'sa', 'HN', 'dc'], 'LN': ['dc'], 'sa': ['kj']})\n"
     ]
    },
    {
     "data": {
      "text/plain": [
       "19"
      ]
     },
     "execution_count": 4,
     "metadata": {},
     "output_type": "execute_result"
    }
   ],
   "source": [
    "# read data & store connections in default dict\n",
    "fwd = defaultdict(list)\n",
    "bwd = defaultdict(list)\n",
    "\n",
    "with open('data/day12_testb.txt') as fh:\n",
    "    data = [line.strip('\\n') for line in fh.readlines()]\n",
    "    for cxn in data:\n",
    "        a,b = cxn.split('-')\n",
    "        \n",
    "        # add both directions\n",
    "        fwd[a].append(b)\n",
    "        fwd[b].append(a)\n",
    "\n",
    "# review\n",
    "print(fwd)\n",
    "\n",
    "# run through function\n",
    "len(find_all_paths(fwd, 'start', 'end'))"
   ]
  },
  {
   "cell_type": "code",
   "execution_count": 5,
   "id": "78040a91",
   "metadata": {},
   "outputs": [
    {
     "name": "stdout",
     "output_type": "stream",
     "text": [
      "defaultdict(<class 'list'>, {'fs': ['end', 'he', 'DX', 'pj'], 'end': ['fs', 'zg'], 'he': ['DX', 'fs', 'pj', 'RW', 'WI', 'zg'], 'DX': ['he', 'start', 'pj', 'fs'], 'start': ['DX', 'pj', 'RW'], 'pj': ['DX', 'zg', 'he', 'RW', 'start', 'fs'], 'zg': ['end', 'sl', 'pj', 'RW', 'he'], 'sl': ['zg'], 'RW': ['he', 'pj', 'zg', 'start'], 'WI': ['he']})\n"
     ]
    },
    {
     "data": {
      "text/plain": [
       "226"
      ]
     },
     "execution_count": 5,
     "metadata": {},
     "output_type": "execute_result"
    }
   ],
   "source": [
    "# read data & store connections in default dict\n",
    "fwd = defaultdict(list)\n",
    "bwd = defaultdict(list)\n",
    "\n",
    "with open('data/day12_testc.txt') as fh:\n",
    "    data = [line.strip('\\n') for line in fh.readlines()]\n",
    "    for cxn in data:\n",
    "        a,b = cxn.split('-')\n",
    "        \n",
    "        # add both directions\n",
    "        fwd[a].append(b)\n",
    "        fwd[b].append(a)\n",
    "\n",
    "# review\n",
    "print(fwd)\n",
    "\n",
    "# run through function\n",
    "len(find_all_paths(fwd, 'start', 'end'))"
   ]
  },
  {
   "cell_type": "code",
   "execution_count": 6,
   "id": "009cc260",
   "metadata": {},
   "outputs": [
    {
     "name": "stdout",
     "output_type": "stream",
     "text": [
      "defaultdict(<class 'list'>, {'mj': ['TZ', 'LY', 'start', 'TH'], 'TZ': ['mj', 'ez', 'sb', 'start', 'uw'], 'start': ['LY', 'mj', 'TZ'], 'LY': ['start', 'uw', 'mj', 'end', 'ez'], 'TX': ['ez', 'sb', 'mt'], 'ez': ['TX', 'uw', 'TZ', 'TH', 'LY'], 'uw': ['ez', 'sb', 'LY', 'RR', 'vn', 'TZ'], 'TH': ['vn', 'end', 'mj', 'ez'], 'vn': ['TH', 'sb', 'uw'], 'sb': ['uw', 'TX', 'TZ', 'end', 'vn'], 'end': ['TH', 'LY', 'sb'], 'RR': ['uw'], 'mt': ['TX']})\n"
     ]
    },
    {
     "data": {
      "text/plain": [
       "3563"
      ]
     },
     "execution_count": 6,
     "metadata": {},
     "output_type": "execute_result"
    }
   ],
   "source": [
    "# read data & store connections in default dict\n",
    "fwd = defaultdict(list)\n",
    "bwd = defaultdict(list)\n",
    "\n",
    "with open('data/day12.txt') as fh:\n",
    "    data = [line.strip('\\n') for line in fh.readlines()]\n",
    "    for cxn in data:\n",
    "        a,b = cxn.split('-')\n",
    "        \n",
    "        # add both directions\n",
    "        fwd[a].append(b)\n",
    "        fwd[b].append(a)\n",
    "\n",
    "# review\n",
    "print(fwd)\n",
    "\n",
    "# run through function\n",
    "len(find_all_paths(fwd, 'start', 'end'))"
   ]
  },
  {
   "cell_type": "markdown",
   "id": "dde04878",
   "metadata": {},
   "source": [
    "### Modifying for Part 2: \n",
    "\n",
    "- We can go through lowercase caves twice now....oh boy."
   ]
  },
  {
   "cell_type": "code",
   "execution_count": 7,
   "id": "2df3039e",
   "metadata": {},
   "outputs": [
    {
     "data": {
      "text/plain": [
       "2"
      ]
     },
     "execution_count": 7,
     "metadata": {},
     "output_type": "execute_result"
    }
   ],
   "source": [
    "test = ['aa', 'aa','bb']\n",
    "test.count('aa')"
   ]
  },
  {
   "cell_type": "code",
   "execution_count": 8,
   "id": "57d9773d",
   "metadata": {},
   "outputs": [],
   "source": [
    "### Without debugging: making list copies will get messy further on\n",
    "def find_all_paths(graph, start, end, path=[]):\n",
    "        path = path + [start]\n",
    "        \n",
    "        if start == end:\n",
    "            return [path]\n",
    "        paths = set()\n",
    "        for node in graph[start]:\n",
    "            # check if any lower case exceed \n",
    "            lw = [x for x in path if x.islower() and path.count(x) > 1]\n",
    "            if len(lw) > 0:\n",
    "                exclude_list = [x for x in path if x.islower()]\n",
    "                exclude_list.append('start')\n",
    "            else:\n",
    "                exclude_list = ['start']\n",
    "            if node not in exclude_list or node.isupper():\n",
    "                newpaths = find_all_paths(graph, node, end, path)\n",
    "                for newpath in newpaths:\n",
    "                    paths.add(''.join(newpath))\n",
    "        return paths"
   ]
  },
  {
   "cell_type": "code",
   "execution_count": 9,
   "id": "5a69faec",
   "metadata": {},
   "outputs": [
    {
     "name": "stdout",
     "output_type": "stream",
     "text": [
      "defaultdict(<class 'list'>, {'start': ['A', 'b'], 'A': ['start', 'c', 'b', 'end'], 'b': ['start', 'A', 'd', 'end'], 'c': ['A'], 'd': ['b'], 'end': ['A', 'b']})\n"
     ]
    }
   ],
   "source": [
    "# read data & store connections in default dict\n",
    "fwd = defaultdict(list)\n",
    "bwd = defaultdict(list)\n",
    "\n",
    "with open('data/day12_testa.txt') as fh:\n",
    "    data = [line.strip('\\n') for line in fh.readlines()]\n",
    "    for cxn in data:\n",
    "        a,b = cxn.split('-')\n",
    "        \n",
    "        # add both directions\n",
    "        fwd[a].append(b)\n",
    "        fwd[b].append(a)\n",
    "\n",
    "# review\n",
    "print(fwd)\n",
    "\n",
    "# run through function\n",
    "assert(len(find_all_paths(fwd, 'start', 'end')) == 36)"
   ]
  },
  {
   "cell_type": "code",
   "execution_count": 10,
   "id": "8160e9a4",
   "metadata": {},
   "outputs": [
    {
     "name": "stdout",
     "output_type": "stream",
     "text": [
      "defaultdict(<class 'list'>, {'mj': ['TZ', 'LY', 'start', 'TH'], 'TZ': ['mj', 'ez', 'sb', 'start', 'uw'], 'start': ['LY', 'mj', 'TZ'], 'LY': ['start', 'uw', 'mj', 'end', 'ez'], 'TX': ['ez', 'sb', 'mt'], 'ez': ['TX', 'uw', 'TZ', 'TH', 'LY'], 'uw': ['ez', 'sb', 'LY', 'RR', 'vn', 'TZ'], 'TH': ['vn', 'end', 'mj', 'ez'], 'vn': ['TH', 'sb', 'uw'], 'sb': ['uw', 'TX', 'TZ', 'end', 'vn'], 'end': ['TH', 'LY', 'sb'], 'RR': ['uw'], 'mt': ['TX']})\n"
     ]
    },
    {
     "data": {
      "text/plain": [
       "105453"
      ]
     },
     "execution_count": 10,
     "metadata": {},
     "output_type": "execute_result"
    }
   ],
   "source": [
    "# Actual Inputs\n",
    "# read data & store connections in default dict\n",
    "fwd = defaultdict(list)\n",
    "bwd = defaultdict(list)\n",
    "\n",
    "with open('data/day12.txt') as fh:\n",
    "    data = [line.strip('\\n') for line in fh.readlines()]\n",
    "    for cxn in data:\n",
    "        a,b = cxn.split('-')\n",
    "        \n",
    "        # add both directions\n",
    "        fwd[a].append(b)\n",
    "        fwd[b].append(a)\n",
    "\n",
    "# review\n",
    "print(fwd)\n",
    "\n",
    "# run through function\n",
    "len(find_all_paths(fwd, 'start', 'end'))"
   ]
  }
 ],
 "metadata": {
  "kernelspec": {
   "display_name": "Python 3 (ipykernel)",
   "language": "python",
   "name": "python3"
  },
  "language_info": {
   "codemirror_mode": {
    "name": "ipython",
    "version": 3
   },
   "file_extension": ".py",
   "mimetype": "text/x-python",
   "name": "python",
   "nbconvert_exporter": "python",
   "pygments_lexer": "ipython3",
   "version": "3.9.2"
  }
 },
 "nbformat": 4,
 "nbformat_minor": 5
}
