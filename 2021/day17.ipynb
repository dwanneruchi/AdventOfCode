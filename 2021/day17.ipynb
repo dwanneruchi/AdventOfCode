{
 "cells": [
  {
   "cell_type": "markdown",
   "id": "439f7bc3",
   "metadata": {},
   "source": [
    "### Day 17 Part 1:\n",
    "\n",
    "Approach is basically brute-force with attempts to reduce search. \n",
    "\n",
    "In part 1 we can assume that our highest point will come from maximizing steps, which indicates minimal horizontal velocity. "
   ]
  },
  {
   "cell_type": "code",
   "execution_count": 1,
   "id": "a2956f60",
   "metadata": {},
   "outputs": [],
   "source": [
    "# We need to be able to get to x[0] at a mininum, and we need to be able to land on x[1]\n",
    "# we know our min xV sits between and max(x_coord), limiting our search\n",
    "def minXv(min_pt):\n",
    "    \"\"\"Trace steps in opposite direction from a 0 Xv\"\"\"\n",
    "    x_disp = 0\n",
    "    x_v = 0\n",
    "    min_pt = abs(min_pt) # for convenience\n",
    "    while x_disp < min_pt:\n",
    "        x_v += 1\n",
    "        x_disp += x_v\n",
    "    return x_v\n",
    "\n",
    "def yDisp(vy, step):\n",
    "    \"\"\"Use initial vY and step to solve for vertical displacement\"\"\"\n",
    "    return sum([vy - r for r in range(step)])\n",
    "\n",
    "def vDisp(steps, max_y, min_y):\n",
    "    \"\"\"Return range of vYs that land in acceptable vertical position\"\"\"\n",
    "    vy_set = set()\n",
    "    \n",
    "    # find min necessary to hit in steps\n",
    "    vy = 0\n",
    "    while True:\n",
    "        y_disp = yDisp(vy, steps)\n",
    "        \n",
    "        if min_y <= y_disp <= max_y:\n",
    "            vy_set.add(vy)\n",
    "            vy += 1\n",
    "        elif (y_disp > max_y) and (y_disp > min_y):\n",
    "            break\n",
    "        else:\n",
    "            vy += 1      \n",
    "    return vy_set\n",
    "\n",
    "def highPoint(max_v):\n",
    "    \"\"\"Determine max point\"\"\"\n",
    "    yd = 0\n",
    "    while max_v > 0:\n",
    "        yd += max_v\n",
    "        max_v -= 1\n",
    "    return yd\n",
    "\n",
    "def vDispNeg(steps, max_y, min_y):\n",
    "    \"\"\"\"Update to search negatives too\"\"\"\n",
    "    vy_set = set()\n",
    "    \n",
    "    # find min necessary to hit in steps\n",
    "    vy = 0\n",
    "    while True:\n",
    "        y_disp = yDisp(vy, steps)\n",
    "        \n",
    "        if min_y <= y_disp <= max_y:\n",
    "            vy_set.add(vy)\n",
    "            vy -= 1\n",
    "        elif (y_disp < max_y) and (y_disp < min_y):\n",
    "            break\n",
    "        else:\n",
    "            vy -= 1\n",
    "    return vy_set\n",
    "\n",
    "def xInBounds(vx,step, x_min, x_max):\n",
    "    \"\"\"Confirm X displacement in bounds based on init vx and step\"\"\"\n",
    "    xdisp = 0\n",
    "    for _ in range(step):\n",
    "        xdisp += vx\n",
    "        vx -= 1\n",
    "        if vx < 1:\n",
    "            return x_min <= xdisp <= x_max\n",
    "    return x_min <= xdisp <= x_max"
   ]
  },
  {
   "cell_type": "code",
   "execution_count": 2,
   "id": "6b078722",
   "metadata": {},
   "outputs": [
    {
     "name": "stdout",
     "output_type": "stream",
     "text": [
      "High point: 45\n"
     ]
    }
   ],
   "source": [
    "# test params\n",
    "x = (20,30)\n",
    "y = (-10,-5)\n",
    "\n",
    "# determine mi. and max horizontal velocity\n",
    "min_xv = minXv(x[0])\n",
    "max_xv = x[1] # we can't just overshoot\n",
    "\n",
    "\n",
    "# determine range of x-velocities\n",
    "possible_xv = [x for x in range(min_xv, max_xv + 1)]\n",
    "\n",
    "# We want more time in the air\n",
    "# but small enough problem to just iterate from unrealistic early steps\n",
    "max_v = 0\n",
    "for step in range(1,100):\n",
    "    vs = vDisp(step, y[1], y[0])\n",
    "    if (vs) and (max(vs) > max_v):\n",
    "        max_v = max(vs)\n",
    "        \n",
    "print(f\"High point: {highPoint(max_v)}\")"
   ]
  },
  {
   "cell_type": "code",
   "execution_count": 3,
   "id": "613280b4",
   "metadata": {},
   "outputs": [
    {
     "name": "stdout",
     "output_type": "stream",
     "text": [
      "High point: 3655\n"
     ]
    }
   ],
   "source": [
    "# Actual Input\n",
    "x = (209,238)\n",
    "y = (-86,-59)\n",
    "\n",
    "# determine mi. and max horizontal velocity\n",
    "min_xv = minXv(x[0])\n",
    "max_xv = x[1] # we can't just overshoot\n",
    "\n",
    "# determine range of x-velocities\n",
    "possible_xv = [x for x in range(min_xv, max_xv + 1)]\n",
    "\n",
    "# We want more time in the air\n",
    "# but small enough problem to just iterate from unrealistic early steps\n",
    "max_v = 0\n",
    "for step in range(1,200):\n",
    "    vs = vDisp(step, y[1], y[0])\n",
    "    if (vs) and (max(vs) > max_v):\n",
    "        max_v = max(vs)\n",
    "        \n",
    "print(f\"High point: {highPoint(max_v)}\")"
   ]
  },
  {
   "cell_type": "markdown",
   "id": "366cda74",
   "metadata": {},
   "source": [
    "### Part 2:\n",
    "\n",
    "In part 2 I expand out to search eligible horizontal velocities in conjunction with vertical, pretty simple. Also need to consider negative velocities now (which weren't included before) since we could cover horizontal displacement in one step with a minimal shift in vertical displacement, allowing us to still land in region of interest."
   ]
  },
  {
   "cell_type": "code",
   "execution_count": 4,
   "id": "18ae7878",
   "metadata": {},
   "outputs": [
    {
     "name": "stdout",
     "output_type": "stream",
     "text": [
      "112\n"
     ]
    }
   ],
   "source": [
    "# Part 2\n",
    "x = (20,30)\n",
    "y = (-10,-5)\n",
    "\n",
    "min_xv = minXv(x[0])\n",
    "max_xv = x[1] # we can't just overshoot\n",
    "\n",
    "# eligible horizontal x\n",
    "possible_xv = [x for x in range(min_xv, max_xv + 1)]\n",
    "\n",
    "# Find all velocity pairings\n",
    "pairs = set()\n",
    "for s in range(1,25):\n",
    "    vp = vDisp(s, y[1], y[0])\n",
    "    vn = vDispNeg(s, y[1], y[0])\n",
    "    vp.update(vn)\n",
    "    for v in vp:\n",
    "        for xv in possible_xv:\n",
    "            if xInBounds(xv,s,x[0],x[1]):\n",
    "                pairs.add((xv, v))      \n",
    "                \n",
    "print(len(pairs))          "
   ]
  },
  {
   "cell_type": "code",
   "execution_count": 5,
   "id": "1554da8a",
   "metadata": {},
   "outputs": [
    {
     "name": "stdout",
     "output_type": "stream",
     "text": [
      "1447\n"
     ]
    }
   ],
   "source": [
    "# Part 2\n",
    "# Actual Input\n",
    "x = (209,238)\n",
    "y = (-86,-59)\n",
    "\n",
    "min_xv = minXv(x[0])\n",
    "max_xv = x[1] # we can't just overshoot\n",
    "\n",
    "# eligible horizontal vel\n",
    "possible_xv = [x for x in range(min_xv, max_xv + 1)]\n",
    "\n",
    "# Find all velocity pairings\n",
    "pairs = set()\n",
    "for s in range(1,1000):\n",
    "    #print(f\"Trying {s} steps\")\n",
    "    vp = vDisp(s, y[1], y[0])\n",
    "    vn = vDispNeg(s, y[1], y[0])\n",
    "    vp.update(vn)\n",
    "    for v in vp:\n",
    "        for xv in possible_xv:\n",
    "            if xInBounds(xv,s,x[0],x[1]):\n",
    "                pairs.add((xv, v))        \n",
    "                \n",
    "print(len(pairs))          "
   ]
  }
 ],
 "metadata": {
  "kernelspec": {
   "display_name": "ml",
   "language": "python",
   "name": "ml"
  },
  "language_info": {
   "codemirror_mode": {
    "name": "ipython",
    "version": 3
   },
   "file_extension": ".py",
   "mimetype": "text/x-python",
   "name": "python",
   "nbconvert_exporter": "python",
   "pygments_lexer": "ipython3",
   "version": "3.9.2"
  }
 },
 "nbformat": 4,
 "nbformat_minor": 5
}
