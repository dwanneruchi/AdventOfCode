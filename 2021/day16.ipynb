{
 "cells": [
  {
   "cell_type": "markdown",
   "id": "439f7bc3",
   "metadata": {},
   "source": [
    "### Day 16 Part 1:"
   ]
  },
  {
   "cell_type": "code",
   "execution_count": 1,
   "id": "10327c55",
   "metadata": {},
   "outputs": [],
   "source": [
    "import math\n",
    "\n",
    "# tedious\n",
    "hex_map = {\n",
    "    '0':'0000',\n",
    "    '1':'0001',\n",
    "    '2':'0010',\n",
    "    '3':'0011',\n",
    "    '4':'0100',\n",
    "    '5':'0101',\n",
    "    '6':'0110',\n",
    "    '7':'0111',\n",
    "    '8':'1000',\n",
    "    '9':'1001',\n",
    "    'A':'1010',\n",
    "    'B':'1011',\n",
    "    'C':'1100',\n",
    "    'D':'1101',\n",
    "    'E':'1110',\n",
    "    'F':'1111'\n",
    "}\n",
    "\n",
    "def convertHex(hex_in, hex_map):\n",
    "    \"\"\"Convert input string to hex as expected\"\"\"\n",
    "    out = ''\n",
    "    for c in hex_in:\n",
    "        out = out + hex_map[c]\n",
    "    return out\n",
    "\n",
    "assert(convertHex(\"D2FE28\",hex_map) == '110100101111111000101000')\n",
    "assert(convertHex(\"38006F45291200\",hex_map) == '00111000000000000110111101000101001010010001001000000000')\n",
    "\n",
    "def literal(input_str):\n",
    "    \"\"\"Folow instructions to get literal \"\"\"\n",
    "    lit = ''\n",
    "    for i in range(0,len(input_str), 5):\n",
    "        s = input_str[i:i+5]\n",
    "        if len(s) == 5:\n",
    "            lit = lit + s[1:]\n",
    "        if s[0] == '0':\n",
    "            leftover = input_str[i+5:]\n",
    "            return int(lit,2), leftover\n",
    "        \n",
    "istr = convertHex(\"D2FE28\",hex_map)\n",
    "lit, str_i = literal(istr[6:])\n",
    "assert(lit == 2021)\n",
    "\n",
    "def findpack(input_str):\n",
    "    # get version\n",
    "    vers = int(input_str[0:3], 2)\n",
    "    \n",
    "    # get packed type\n",
    "    pack = int(input_str[3:6], 2)\n",
    "    \n",
    "    return pack, vers, input_str[6:]\n",
    "\n",
    "def operator(input_str):\n",
    "    len_type_id = input_str[0]\n",
    "    if not int(len_type_id):\n",
    "        # working with a 0 -> use 15 bits \n",
    "        len_bits = int(input_str[1:16],2)\n",
    "        return len_bits, input_str[16:]\n",
    "    else:\n",
    "        # working with a 1 -> use 11 bits \n",
    "        len_bits = int(input_str[1:12],2)\n",
    "        return len_bits, input_str[12:]"
   ]
  },
  {
   "cell_type": "markdown",
   "id": "970b6826",
   "metadata": {},
   "source": [
    "### Minor Tests:"
   ]
  },
  {
   "cell_type": "code",
   "execution_count": 2,
   "id": "b6fe31dd",
   "metadata": {},
   "outputs": [
    {
     "name": "stdout",
     "output_type": "stream",
     "text": [
      "2021 000\n",
      "Version sum is: 6\n"
     ]
    }
   ],
   "source": [
    "istr = convertHex(\"D2FE28\",hex_map)\n",
    "vers_sum = 0\n",
    "while True:\n",
    "    pack, vers, istr = findpack(istr)\n",
    "    vers_sum += vers\n",
    "    if pack == 4:\n",
    "        lit, istr = literal(istr)\n",
    "        print(lit, istr)\n",
    "    \n",
    "    if istr in [None, '000']:\n",
    "        break\n",
    "print(f\"Version sum is: {vers_sum}\")"
   ]
  },
  {
   "cell_type": "code",
   "execution_count": 3,
   "id": "a286efa1",
   "metadata": {},
   "outputs": [
    {
     "name": "stdout",
     "output_type": "stream",
     "text": [
      "27 1101000101001010010001001000000000\n",
      "10 01010010001001000000000\n",
      "20 0000000\n",
      "Vers sum is: 9 \n"
     ]
    }
   ],
   "source": [
    "\n",
    "istr = convertHex(\"38006F45291200\",hex_map)\n",
    "vers_sum = 0\n",
    "while True:\n",
    "    pack, vers, istr = findpack(istr)\n",
    "    vers_sum += vers\n",
    "    if pack == 4:\n",
    "        lit, istr = literal(istr)\n",
    "        print(lit, istr)\n",
    "    \n",
    "    else:\n",
    "        bits, istr = operator(istr)\n",
    "        print(bits, istr)\n",
    "    \n",
    "    if (istr == None) or (istr == len(istr) * istr[0]):\n",
    "        break\n",
    "print(f\"Vers sum is: {vers_sum} \")"
   ]
  },
  {
   "cell_type": "code",
   "execution_count": 4,
   "id": "4cf96e8a",
   "metadata": {},
   "outputs": [
    {
     "name": "stdout",
     "output_type": "stream",
     "text": [
      "3 01010000001100100000100011000001100000\n",
      "1 100100000100011000001100000\n",
      "2 0011000001100000\n",
      "3 00000\n",
      "Vers sum is: 14 \n"
     ]
    }
   ],
   "source": [
    "\n",
    "istr = convertHex(\"EE00D40C823060\",hex_map)\n",
    "vers_sum = 0\n",
    "while True:\n",
    "    pack, vers, istr = findpack(istr)\n",
    "    vers_sum += vers\n",
    "    if pack == 4:\n",
    "        lit, istr = literal(istr)\n",
    "        print(lit, istr)\n",
    "    \n",
    "    else:\n",
    "        bits, istr = operator(istr)\n",
    "        print(bits, istr)\n",
    "    \n",
    "    if (istr == None) or (istr == len(istr) * istr[0]):\n",
    "        break\n",
    "print(f\"Vers sum is: {vers_sum} \")"
   ]
  },
  {
   "cell_type": "markdown",
   "id": "585f9a62",
   "metadata": {},
   "source": [
    "### Running Test Cases:\n",
    "\n"
   ]
  },
  {
   "cell_type": "code",
   "execution_count": 5,
   "id": "599f39fc",
   "metadata": {},
   "outputs": [
    {
     "name": "stdout",
     "output_type": "stream",
     "text": [
      "Vers sum is: 16\n",
      "Vers sum is: 12\n",
      "Vers sum is: 23\n",
      "Vers sum is: 31\n"
     ]
    }
   ],
   "source": [
    "cases = [\"8A004A801A8002F478\", \"620080001611562C8802118E34\", \n",
    "         \"C0015000016115A2E0802F182340\", \"A0016C880162017C3686B18A3D4780\"]\n",
    "sums = [16,12,23, 31]\n",
    "\n",
    "test_cases = zip(cases, sums)\n",
    "\n",
    "for c,s in test_cases:\n",
    "    istr = convertHex(c,hex_map)\n",
    "    vers_sum = 0\n",
    "    while True:\n",
    "        pack, vers, istr = findpack(istr)\n",
    "        vers_sum += vers\n",
    "        if pack == 4:\n",
    "            lit, istr = literal(istr)\n",
    "        else:\n",
    "            bits, istr = operator(istr)\n",
    "        if (istr == None) or (istr == len(istr) * istr[0]):\n",
    "            break\n",
    "    print(f\"Vers sum is: {vers_sum}\")\n",
    "    assert(vers_sum == s)"
   ]
  },
  {
   "cell_type": "code",
   "execution_count": 6,
   "id": "4e470976",
   "metadata": {},
   "outputs": [
    {
     "name": "stdout",
     "output_type": "stream",
     "text": [
      "Vers sum is: 904\n"
     ]
    }
   ],
   "source": [
    "### Actual Input: \n",
    "c = \"20546C8802538E136091C1802689BCD7DA45948D319D1B100747A009C97696E8B4ABFCA6AB8F4F26C401964A6271C80F802D392C01CEDDCE6E5CB829802F600A00021B14E34C361006E0AC418BB2CA6800BE4599BB6A73507002A52BEEB14D201802F600849E64D3369D37C74100866785B3D0ADFD8E601E5EB9DE2366D93ECB8B040142CB8ACE07CCB5CF34CA89380410B6134CE6FEF104A2B200243396976A00401A45004313D68435DBDDDA61CE6428C01491AEBF0C7E580AE00CCC401B86514216880370EE3443D2013DF003750004361343D88800084C4C8B116A679018300740010C8571BA32080350DA0D42800043A3044189AE0174B314D76E1F3ACF3BDAE3EE7298FF134002EF9DBCD0644127E3CAE7FCBA9A80393544F9A927C973DF1A500965A5CEA94C4DDA5658B94C6C3002A798A629CF21280532BAB4F4C7271E45EE6E71D8143A9BC7948804AB94D1D6006AC200EC1E8A10C00010985316A35C3620061E641644D661A4C012993E99208FC60097802F28F528F738606008CA47205400814C89CC8890064D400AB4BE0A66F2BF253E73AE8401424A7BFB16C0037E06CE0641E0013B08010A8930CE2B980351161DC3730066274188B020054A5E16965940057895ADEB5BF56A635ADE2354191D70566273A6F5B078266008D8022200D46E8291C4401A8CF0CE33CEDE55E9F9802BA00B4BD44A5EA2D10CC00B40316800BAE1003580A6D6026F00090E50024007C9500258068850035C00A4012ED8040B400D71002AF500284009700226336CA4980471D655E25D4650888023AB00525CAE5CBA5E428600BE003993778CB4732996E9887AE3F311C291004BD37517C0041E780A7808802AF8C1C00D0CDBE4ACAD69B3B004E13BDF23CAE7368C9F62448F64546008E0034F3720192A67AD9254917454200DCE801C99ADF182575BBAACAC7F8580\"\n",
    "istr = convertHex(c,hex_map)\n",
    "vers_sum = 0\n",
    "while True:\n",
    "    pack, vers, istr = findpack(istr)\n",
    "    vers_sum += vers\n",
    "    if pack == 4:\n",
    "        lit, istr = literal(istr)\n",
    "    else:\n",
    "        bits, istr = operator(istr)\n",
    "    if (istr == None) or (istr == len(istr) * istr[0]):\n",
    "        break\n",
    "print(f\"Vers sum is: {vers_sum}\")\n"
   ]
  }
 ],
 "metadata": {
  "kernelspec": {
   "display_name": "ml",
   "language": "python",
   "name": "ml"
  },
  "language_info": {
   "codemirror_mode": {
    "name": "ipython",
    "version": 3
   },
   "file_extension": ".py",
   "mimetype": "text/x-python",
   "name": "python",
   "nbconvert_exporter": "python",
   "pygments_lexer": "ipython3",
   "version": "3.9.2"
  }
 },
 "nbformat": 4,
 "nbformat_minor": 5
}
