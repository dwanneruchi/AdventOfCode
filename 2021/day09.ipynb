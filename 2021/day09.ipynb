{
 "cells": [
  {
   "cell_type": "markdown",
   "id": "e7510e12",
   "metadata": {},
   "source": [
    "### Part 1: Running Test\n",
    "\n",
    "Simple approach: \n",
    "- build out a matrix with `99` padding (to ensure our element is always less than boundary). \n",
    "- Our search space is then the 8 surrounding points of an element `(row,col)` within our matrix.\n",
    "- If `(row,col)` is less than all surround values, we output `matrix[r,c] + 1` (value + 1). Otherwise 0"
   ]
  },
  {
   "cell_type": "code",
   "execution_count": 1,
   "id": "0cf363d0",
   "metadata": {},
   "outputs": [
    {
     "name": "stdout",
     "output_type": "stream",
     "text": [
      "Building 5 x 10 matrix\n"
     ]
    }
   ],
   "source": [
    "import numpy as np \n",
    "import time \n",
    "\n",
    "# read data \n",
    "with open('data/day09_test.txt') as fh:\n",
    "    data = [line.strip('\\n') for line in fh.readlines()]\n",
    "\n",
    "# get matrix sizing\n",
    "row = len(data)\n",
    "col = len(data[0])\n",
    "print(f\"Building {row} x {col} matrix\")\n",
    "\n",
    "# store as matrix of size row x col\n",
    "m = np.asarray([int(x) for x in ''.join(data)])\n",
    "m.shape = (row,col)\n",
    "\n",
    "# add padding of 99 for easy checking\n",
    "m_pad = np.pad(m, pad_width=1, mode = 'constant', constant_values = 99)"
   ]
  },
  {
   "cell_type": "code",
   "execution_count": 2,
   "id": "4b03339b",
   "metadata": {},
   "outputs": [],
   "source": [
    "def searchArea(i,j, m):\n",
    "    \"\"\"Receive input i,j and search 8 points around.\n",
    "    Return value if lowest point\n",
    "    \"\"\"\n",
    "    # start\n",
    "    v = m[i,j]\n",
    "    \n",
    "    # search around\n",
    "    elements = [m[i-1, j-1], m[i, j-1], m[i-1, j], m[i+1, j-1],\n",
    "                m[i+1, j], m[i, j+1], m[i+1, j+1], m[i-1, j+1]]\n",
    "    \n",
    "    # check if v > any surrounding vals\n",
    "    g = len([e for e in elements if v > e])\n",
    "    \n",
    "    if g > 0:\n",
    "        return 0\n",
    "    return v + 1\n",
    "\n",
    "assert(searchArea(1,2,m_pad) == 2) # this is one of low points, so value + 1\n",
    "assert(searchArea(1,3,m_pad) == 0) # this is not a low point"
   ]
  },
  {
   "cell_type": "code",
   "execution_count": 3,
   "id": "e8c58ef9",
   "metadata": {},
   "outputs": [
    {
     "name": "stdout",
     "output_type": "stream",
     "text": [
      "Total sum: 15\n"
     ]
    }
   ],
   "source": [
    "tot_sum = 0\n",
    "for r in range(row+1):\n",
    "    for c in range(col+1):\n",
    "        tot_sum += searchArea(r,c,m_pad)\n",
    "\n",
    "print(f\"Total sum: {tot_sum}\")"
   ]
  },
  {
   "cell_type": "markdown",
   "id": "babb80c3",
   "metadata": {},
   "source": [
    "### Actual Part 1: "
   ]
  },
  {
   "cell_type": "code",
   "execution_count": 4,
   "id": "98212b27",
   "metadata": {},
   "outputs": [
    {
     "name": "stdout",
     "output_type": "stream",
     "text": [
      "Building 100 x 100 matrix\n",
      "Total sum: 518\n"
     ]
    }
   ],
   "source": [
    "# read data \n",
    "with open('data/day09.txt') as fh:\n",
    "    data = [line.strip('\\n') for line in fh.readlines()]\n",
    "\n",
    "# get matrix sizing\n",
    "row = len(data)\n",
    "col = len(data[0])\n",
    "print(f\"Building {row} x {col} matrix\")\n",
    "\n",
    "# store as matrix of size row x col\n",
    "m = np.asarray([int(x) for x in ''.join(data)])\n",
    "m.shape = (row,col)\n",
    "\n",
    "# add padding of 99 for easy checking\n",
    "m_pad = np.pad(m, pad_width=1, mode = 'constant', constant_values = 99)\n",
    "\n",
    "# Running search \n",
    "tot_sum = 0\n",
    "for r in range(row+1):\n",
    "    for c in range(col+1):\n",
    "        tot_sum += searchArea(r,c,m_pad)\n",
    "\n",
    "print(f\"Total sum: {tot_sum}\")"
   ]
  },
  {
   "cell_type": "markdown",
   "id": "c7f010a5",
   "metadata": {},
   "source": [
    "### Part 2: \n",
    "\n",
    "This becomes a bit trickier (of course). Once we know our low points (solved above), we need to then move outward from them across each point until we hit a higher point.\n",
    "\n",
    "This screams recursion....unfortunately. "
   ]
  },
  {
   "cell_type": "code",
   "execution_count": 5,
   "id": "1bc19f6f",
   "metadata": {},
   "outputs": [],
   "source": [
    "def searchAreaPt(i,j, m):\n",
    "    \"\"\"Receive input i,j and search 8 points around.\n",
    "    Return 1 to mark our basin\n",
    "    \"\"\"\n",
    "    # start\n",
    "    v = m[i,j]\n",
    "    \n",
    "    # search around\n",
    "    elements = [m[i-1, j-1], m[i, j-1], m[i-1, j], m[i+1, j-1],\n",
    "                m[i+1, j], m[i, j+1], m[i+1, j+1], m[i-1, j+1]]\n",
    "    \n",
    "    # check if v > any surrounding vals\n",
    "    g = len([e for e in elements if v > e])\n",
    "    \n",
    "    if g > 0:\n",
    "        return 0\n",
    "    return 1"
   ]
  },
  {
   "cell_type": "code",
   "execution_count": 6,
   "id": "47bb119d",
   "metadata": {},
   "outputs": [
    {
     "name": "stdout",
     "output_type": "stream",
     "text": [
      "Building 5 x 10 matrix\n",
      "Low points found: [(1, 2), (1, 10), (3, 3), (5, 7)]\n"
     ]
    }
   ],
   "source": [
    "# read data \n",
    "with open('data/day09_test.txt') as fh:\n",
    "    data = [line.strip('\\n') for line in fh.readlines()]\n",
    "\n",
    "# get matrix sizing\n",
    "row = len(data)\n",
    "col = len(data[0])\n",
    "print(f\"Building {row} x {col} matrix\")\n",
    "\n",
    "# store as matrix of size row x col\n",
    "m = np.asarray([int(x) for x in ''.join(data)])\n",
    "m.shape = (row,col)\n",
    "\n",
    "# add padding of 99 for easy checking\n",
    "m_pad = np.pad(m, pad_width=1, mode = 'constant', constant_values = 99)\n",
    "\n",
    "# Running search \n",
    "lowpoint = []\n",
    "for r in range(row+1):\n",
    "    for c in range(col+1):\n",
    "        if searchAreaPt(r,c,m_pad):\n",
    "            lowpoint.append((r,c))\n",
    "\n",
    "print(f\"Low points found: {lowpoint}\")"
   ]
  },
  {
   "cell_type": "markdown",
   "id": "ab1a9a73",
   "metadata": {},
   "source": [
    "we now have access to all lowpoints, so our next step will be to use these as starting points and recursively determine where flow downwards originated. "
   ]
  },
  {
   "cell_type": "code",
   "execution_count": null,
   "id": "8dce57cc",
   "metadata": {},
   "outputs": [],
   "source": []
  }
 ],
 "metadata": {
  "kernelspec": {
   "display_name": "Python 3 (ipykernel)",
   "language": "python",
   "name": "python3"
  },
  "language_info": {
   "codemirror_mode": {
    "name": "ipython",
    "version": 3
   },
   "file_extension": ".py",
   "mimetype": "text/x-python",
   "name": "python",
   "nbconvert_exporter": "python",
   "pygments_lexer": "ipython3",
   "version": "3.9.2"
  }
 },
 "nbformat": 4,
 "nbformat_minor": 5
}
