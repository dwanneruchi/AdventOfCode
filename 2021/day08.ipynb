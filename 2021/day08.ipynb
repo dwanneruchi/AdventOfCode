{
 "cells": [
  {
   "cell_type": "markdown",
   "id": "df741d18",
   "metadata": {},
   "source": [
    "### Part 1:\n",
    "\n",
    "Some ugly importing"
   ]
  },
  {
   "cell_type": "code",
   "execution_count": 1,
   "id": "608ead01",
   "metadata": {},
   "outputs": [
    {
     "name": "stdout",
     "output_type": "stream",
     "text": [
      "Count of digits 1,4,7,8: 344\n"
     ]
    }
   ],
   "source": [
    "import numpy as np \n",
    "import time \n",
    "\n",
    "# read data \n",
    "with open('data/day08.txt') as fh:\n",
    "    data = [line.split(\"|\")[1] for line in fh.readlines()]\n",
    "\n",
    "# Some ugly clean-up\n",
    "input_list = [d.strip(' ').strip(\"\\n\").split(\" \") for d in data]\n",
    "\n",
    "# Generate Distinct Counts: \n",
    "all_sum = 0\n",
    "for output_val in input_list:\n",
    "    \n",
    "    # get distinct count of chars\n",
    "    dist_list = [len(set(v)) for v in output_val]\n",
    "    \n",
    "    # if matching proper counts, sum it up\n",
    "    all_sum += sum([1 for d in dist_list if d in [2,4,3,7]])\n",
    "print(f\"Count of digits 1,4,7,8: {all_sum}\")"
   ]
  },
  {
   "cell_type": "markdown",
   "id": "62011c62",
   "metadata": {},
   "source": [
    "### Part 2: \n",
    "\n",
    "We can sort through this number by number\n",
    "\n",
    "- We know 1,4,7,8\n",
    "- We can get 6 using `7` and `8`\n",
    "    - 6 will match 6/7 of 8 and 2/3 of 7\n",
    "    - 9 will match 6/7 of 8 and 3/3 of 7, 4/4 of 4\n",
    "    - 0 will match 6/7 of 8 and 3/3 of 7, 3/4 of 4\n",
    "- 5 matches 6 on 5/6 and is length 5\n",
    "- 3 matches 4 on 3 and len 5\n",
    "- 2 matches 4 on 2 and len 5"
   ]
  },
  {
   "cell_type": "code",
   "execution_count": 2,
   "id": "1f565544",
   "metadata": {},
   "outputs": [],
   "source": [
    "def find_len6(sol_dict, sig):\n",
    "    \"\"\"Use existing solution dictionary to determine length 6 number\n",
    "    \n",
    "    6 matches 7 on 2 chars\n",
    "    9 matches 4 on 4 chars\n",
    "    otherwise it is a 0\n",
    "    \n",
    "    Return updated dict\n",
    "    \"\"\"\n",
    "    m = len([x for x in sig if x in solution[7]])\n",
    "    n = len([x for x in sig if x in solution[4]])\n",
    "\n",
    "    if m == 2:\n",
    "        sol_dict[6] = sig\n",
    "    elif n == 4:\n",
    "        sol_dict[9] = sig\n",
    "    else:\n",
    "        sol_dict[0] = sig\n",
    "    return sol_dict\n",
    "\n",
    "def find_len5(sol_dict, sig):\n",
    "    \"\"\"Use existing solution dictionary to determine length 5 number\n",
    "    \n",
    "    5 matches 6 on 5 chars\n",
    "    3 matches 4 on 3 chars\n",
    "    otherwise it is a 2\n",
    "    \n",
    "    Return updated dict\n",
    "    \"\"\"\n",
    "    m = len([x for x in sig if x in solution[6]])\n",
    "    n = len([x for x in sig if x in solution[4]])\n",
    "\n",
    "    if m == 5:\n",
    "        sol_dict[5] = sig            \n",
    "    elif n == 3:\n",
    "        sol_dict[3] = sig\n",
    "    else:\n",
    "        sol_dict[2] = sig\n",
    "    return sol_dict"
   ]
  },
  {
   "cell_type": "code",
   "execution_count": 3,
   "id": "a1f7539d",
   "metadata": {},
   "outputs": [
    {
     "name": "stdout",
     "output_type": "stream",
     "text": [
      "5353\n"
     ]
    }
   ],
   "source": [
    "# read data \n",
    "with open('data/day08_test.txt') as fh:\n",
    "    data = [line.split(\"|\") for line in fh.readlines()]\n",
    "\n",
    "# Some ugly clean-up\n",
    "cl_data = [d.strip(' ').strip(\"\\n\").split(\" \") for d in data[0]]\n",
    "\n",
    "# get signal and outputs\n",
    "sig_data = cl_data[0]\n",
    "out_data = cl_data[1]\n",
    "\n",
    "# dictionary of number to unique chars\n",
    "known_dict = {\n",
    "    2: 1,\n",
    "    4: 4,\n",
    "    3: 7,\n",
    "    7: 8\n",
    "}\n",
    "\n",
    "solution = {}\n",
    "\n",
    "# start by mapping 1,4,7,8 -> known signal patterns\n",
    "for sig in sig_data:\n",
    "    if len(sig) in known_dict.keys():\n",
    "        solution[known_dict[len(sig)]] = sig\n",
    "\n",
    "# next determine 6 vs 9 vs 0: all len 6\n",
    "for sig in sig_data:\n",
    "    if len(sig) == 6:\n",
    "        solution = find_len6(solution, sig)\n",
    "        \n",
    "# next determine 2 vs 3 vs 5, all len 5\n",
    "for sig in sig_data:\n",
    "    if len(sig) == 5:\n",
    "        solution = find_len5(solution, sig)\n",
    "\n",
    "# build reverse mapping:\n",
    "rev = dict((v,k) for k,v in solution.items())\n",
    "\n",
    "# use dict to calculate solution:\n",
    "ans = \"\"\n",
    "for val in out_data:\n",
    "        for k, v in rev.items():\n",
    "            if sorted(val) == sorted(k):\n",
    "                ans = ans + str(v)\n",
    "print(f\"{ans}\")"
   ]
  },
  {
   "cell_type": "markdown",
   "id": "1bbd2e11",
   "metadata": {},
   "source": [
    "### Test Example 2: \n"
   ]
  },
  {
   "cell_type": "code",
   "execution_count": 4,
   "id": "0d063e16",
   "metadata": {},
   "outputs": [
    {
     "name": "stdout",
     "output_type": "stream",
     "text": [
      "Final answer: 61229\n"
     ]
    }
   ],
   "source": [
    "# Input: Yikes this is ugly \n",
    "with open('data/day08_test2.txt') as fh:\n",
    "    data = [line.split(\"|\") for line in fh.readlines()]\n",
    "\n",
    "cl_data = [[d.strip(' ').strip(\"\\n\").split(\" \") for d in dt] for dt in data]\n",
    "sig_data = [x[0] for x in cl_data]\n",
    "out_data = [x[1] for x in cl_data]\n",
    "\n",
    "final_sum = 0\n",
    "\n",
    "for i in range(len(sig_data)):\n",
    "    \n",
    "    solution = {}\n",
    "\n",
    "    # start by mapping 1,4,7,8\n",
    "    for sig in sig_data[i]:\n",
    "        if len(sig) in known_dict.keys():\n",
    "            solution[known_dict[len(sig)]] = sig\n",
    "\n",
    "    # next determine 6 vs 9 vs 0: all len 6\n",
    "    for sig in sig_data[i]:\n",
    "        if len(sig) == 6:\n",
    "            solution = find_len6(solution, sig)\n",
    "\n",
    "    # next determine 2 vs 3 vs 5, all len 5\n",
    "    for sig in sig_data[i]:\n",
    "        if len(sig) == 5:\n",
    "            solution = find_len5(solution, sig)\n",
    "            \n",
    "    # build reverse mapping:\n",
    "    rev = dict((v,k) for k,v in solution.items())\n",
    "\n",
    "    # use dict to calculate solution:\n",
    "    ans = \"\"\n",
    "    for val in out_data[i]:\n",
    "            for k, v in rev.items():\n",
    "                if sorted(val) == sorted(k):\n",
    "                    ans = ans + str(v)\n",
    "    # Final sum\n",
    "    final_sum += int(ans)\n",
    "\n",
    "print(f\"Final answer: {final_sum}\")"
   ]
  },
  {
   "cell_type": "code",
   "execution_count": 5,
   "id": "0941a11b",
   "metadata": {},
   "outputs": [
    {
     "name": "stdout",
     "output_type": "stream",
     "text": [
      "Final answer: 1048410\n"
     ]
    }
   ],
   "source": [
    "# Input: Yikes this is ugly \n",
    "with open('data/day08.txt') as fh:\n",
    "    data = [line.split(\"|\") for line in fh.readlines()]\n",
    "\n",
    "cl_data = [[d.strip(' ').strip(\"\\n\").split(\" \") for d in dt] for dt in data]\n",
    "sig_data = [x[0] for x in cl_data]\n",
    "out_data = [x[1] for x in cl_data]\n",
    "\n",
    "final_sum = 0\n",
    "\n",
    "for i in range(len(sig_data)):\n",
    "    \n",
    "    solution = {}\n",
    "\n",
    "    # start by mapping 1,4,7,8\n",
    "    for sig in sig_data[i]:\n",
    "        if len(sig) in known_dict.keys():\n",
    "            solution[known_dict[len(sig)]] = sig\n",
    "\n",
    "    # next determine 6 vs 9 vs 0: all len 6\n",
    "    for sig in sig_data[i]:\n",
    "        if len(sig) == 6:\n",
    "            solution = find_len6(solution, sig)\n",
    "\n",
    "    # next determine 2 vs 3 vs 5, all len 5\n",
    "    for sig in sig_data[i]:\n",
    "        if len(sig) == 5:\n",
    "            solution = find_len5(solution, sig)\n",
    "            \n",
    "    # build reverse mapping:\n",
    "    rev = dict((v,k) for k,v in solution.items())\n",
    "\n",
    "    # use dict to calculate solution:\n",
    "    ans = \"\"\n",
    "    for val in out_data[i]:\n",
    "            for k, v in rev.items():\n",
    "                if sorted(val) == sorted(k):\n",
    "                    ans = ans + str(v)\n",
    "    # Final sum\n",
    "    final_sum += int(ans)\n",
    "\n",
    "print(f\"Final answer: {final_sum}\")"
   ]
  }
 ],
 "metadata": {
  "kernelspec": {
   "display_name": "Python 3 (ipykernel)",
   "language": "python",
   "name": "python3"
  },
  "language_info": {
   "codemirror_mode": {
    "name": "ipython",
    "version": 3
   },
   "file_extension": ".py",
   "mimetype": "text/x-python",
   "name": "python",
   "nbconvert_exporter": "python",
   "pygments_lexer": "ipython3",
   "version": "3.9.2"
  }
 },
 "nbformat": 4,
 "nbformat_minor": 5
}
