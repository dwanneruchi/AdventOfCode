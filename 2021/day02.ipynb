{
 "cells": [
  {
   "cell_type": "markdown",
   "id": "be064859",
   "metadata": {},
   "source": [
    "https://adventofcode.com/2021/day/2"
   ]
  },
  {
   "cell_type": "code",
   "execution_count": 18,
   "id": "e96ab4e1",
   "metadata": {},
   "outputs": [],
   "source": [
    "# read data \n",
    "with open('data/day02.txt') as fh:\n",
    "    data = [line.strip().split() for line in fh.readlines()]"
   ]
  },
  {
   "cell_type": "code",
   "execution_count": 19,
   "id": "8831b987",
   "metadata": {},
   "outputs": [],
   "source": [
    "def movement(x,y, move, num):\n",
    "    if move == 'forward':\n",
    "        x += int(num)\n",
    "    elif move == 'up':\n",
    "        y += int(num)\n",
    "    else:\n",
    "        y -= int(num)\n",
    "    return x,y"
   ]
  },
  {
   "cell_type": "code",
   "execution_count": 20,
   "id": "010809c1",
   "metadata": {},
   "outputs": [
    {
     "data": {
      "text/plain": [
       "1484118"
      ]
     },
     "execution_count": 20,
     "metadata": {},
     "output_type": "execute_result"
    }
   ],
   "source": [
    "x = 0\n",
    "y = 0\n",
    "for m,n in data:\n",
    "    x, y = movement(x,y,m,n)\n",
    "    \n",
    "abs(x*y)"
   ]
  },
  {
   "cell_type": "markdown",
   "id": "f44b439e",
   "metadata": {},
   "source": [
    "# part 2:"
   ]
  },
  {
   "cell_type": "code",
   "execution_count": 26,
   "id": "e4e7b30b",
   "metadata": {},
   "outputs": [],
   "source": [
    "# read data \n",
    "with open('data/day02.txt') as fh:\n",
    "    data = [line.strip().split() for line in fh.readlines()]"
   ]
  },
  {
   "cell_type": "code",
   "execution_count": 27,
   "id": "4ea12d8d",
   "metadata": {},
   "outputs": [],
   "source": [
    "def movement(x,y,z, move, num):\n",
    "    if move == 'forward':\n",
    "        x += int(num)\n",
    "        y += z * int(num)\n",
    "    elif move == 'up':\n",
    "        z -= int(num)\n",
    "    else:\n",
    "        z += int(num)\n",
    "    return x,y,z"
   ]
  },
  {
   "cell_type": "code",
   "execution_count": 28,
   "id": "1d6ece63",
   "metadata": {},
   "outputs": [
    {
     "data": {
      "text/plain": [
       "1463827010"
      ]
     },
     "execution_count": 28,
     "metadata": {},
     "output_type": "execute_result"
    }
   ],
   "source": [
    "x = 0\n",
    "y = 0\n",
    "z = 0 # aim\n",
    "for m,n in data:\n",
    "    x, y, z = movement(x,y,z,m,n)\n",
    "    \n",
    "abs(x*y)"
   ]
  }
 ],
 "metadata": {
  "kernelspec": {
   "display_name": "ml",
   "language": "python",
   "name": "ml"
  },
  "language_info": {
   "codemirror_mode": {
    "name": "ipython",
    "version": 3
   },
   "file_extension": ".py",
   "mimetype": "text/x-python",
   "name": "python",
   "nbconvert_exporter": "python",
   "pygments_lexer": "ipython3",
   "version": "3.9.2"
  }
 },
 "nbformat": 4,
 "nbformat_minor": 5
}
