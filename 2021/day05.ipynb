{
 "cells": [
  {
   "cell_type": "markdown",
   "id": "be064859",
   "metadata": {},
   "source": [
    "https://adventofcode.com/2021/day/5"
   ]
  },
  {
   "cell_type": "code",
   "execution_count": 1,
   "id": "e96ab4e1",
   "metadata": {},
   "outputs": [],
   "source": [
    "from collections import Counter\n",
    "\n",
    "# read data \n",
    "with open('data/day05_test.txt') as fh:\n",
    "    data = [line.strip().split() for line in fh.readlines()]"
   ]
  },
  {
   "cell_type": "code",
   "execution_count": 2,
   "id": "56a08675",
   "metadata": {},
   "outputs": [],
   "source": [
    "# cleaning: format into coordinates\n",
    "def extract(line):\n",
    "    \"\"\"Following pattern and extracting two lines\"\"\"\n",
    "    l1 = tuple([int(x) for x in line[0].split(',')])\n",
    "    l2 = tuple([int(x) for x in line[2].split(',')])\n",
    "    return l1, l2\n",
    "\n",
    "def build_vert(x1,x2,y1,y2):\n",
    "    \"\"\"x1 == x2, so build all vert coords\"\"\"\n",
    "    max_y = max(y1,y2)\n",
    "    min_y = min(y1,y2)\n",
    "    return [(x1, y) for y in range(min_y,max_y+1)]\n",
    "\n",
    "def build_horiz(x1,x2,y1,y2):\n",
    "    \"\"\"y1 == y2, so build all horiz coords\"\"\"\n",
    "    max_x = max(x1,x2)\n",
    "    min_x = min(x1,x2)\n",
    "    return [(x, y1) for x in range(min_x,max_x+1)]\n",
    "\n",
    "def build_diag(x1,x2,y1,y2):\n",
    "    \"\"\"For now just return (-1,-1) which we can ignore\"\"\"\n",
    "    return [(-1,-1)]\n",
    "    \n",
    "# Build all points\n",
    "def line_points(points):\n",
    "    \"\"\"Take in list of two coordinate sets, output all points in line\"\"\"\n",
    "    x1,y1 = points[0]\n",
    "    x2,y2 = points[1]\n",
    "    \n",
    "    if x1 == x2:\n",
    "        return build_vert(x1,x2,y1,y2)\n",
    "    \n",
    "    elif y1 == y2:\n",
    "        return build_horiz(x1,x2,y1,y2)\n",
    "\n",
    "    return build_diag(x1,x2,y1,y2)"
   ]
  },
  {
   "cell_type": "code",
   "execution_count": 3,
   "id": "1bda1e76",
   "metadata": {},
   "outputs": [
    {
     "name": "stdout",
     "output_type": "stream",
     "text": [
      "Total Match: 5\n"
     ]
    }
   ],
   "source": [
    "# storage of lines in dict:\n",
    "main_lines = {}\n",
    "\n",
    "for i, line in enumerate(data):\n",
    "    l1, l2 = extract(line)\n",
    "    main_lines[i] = [l1,l2]\n",
    "    \n",
    "# For part 1 we limit just to horizontal (meaning the ys match) or vertical (meaning xs match)\n",
    "# Storing all points in a final list\n",
    "total_points = []\n",
    "for key, line in main_lines.items():\n",
    "    # store all together\n",
    "    total_points.extend(line_points(line))\n",
    "\n",
    "# Convert to counter object, which will store distinct points with respective count\n",
    "all_points = dict(Counter(total_points))\n",
    "\n",
    "my_sum = 0\n",
    "for pt, c in all_points.items():\n",
    "    if pt != (-1,-1) and c > 1:\n",
    "        my_sum += 1\n",
    "print(f'Total Match: {my_sum}')"
   ]
  },
  {
   "cell_type": "markdown",
   "id": "e90b811b",
   "metadata": {},
   "source": [
    "### Actual Pt 1:"
   ]
  },
  {
   "cell_type": "code",
   "execution_count": 4,
   "id": "3e0c3685",
   "metadata": {},
   "outputs": [
    {
     "name": "stdout",
     "output_type": "stream",
     "text": [
      "Total Match: 5585\n"
     ]
    }
   ],
   "source": [
    "# read data \n",
    "with open('data/day05.txt') as fh:\n",
    "    data = [line.strip().split() for line in fh.readlines()]\n",
    "    \n",
    "# storage of lines in dict:\n",
    "main_lines = {}\n",
    "\n",
    "for i, line in enumerate(data):\n",
    "    l1, l2 = extract(line)\n",
    "    main_lines[i] = [l1,l2]\n",
    "    \n",
    "# For part 1 we limit just to horizontal (meaning the ys match) or vertical (meaning xs match)\n",
    "# Storing all points in a final list\n",
    "total_points = []\n",
    "for key, line in main_lines.items():\n",
    "    # store all together\n",
    "    total_points.extend(line_points(line))\n",
    "\n",
    "# Convert to counter object, which will store distinct points with respective count\n",
    "all_points = dict(Counter(total_points))\n",
    "\n",
    "my_sum = 0\n",
    "for pt, c in all_points.items():\n",
    "    if pt != (-1,-1) and c > 1:\n",
    "        my_sum += 1\n",
    "print(f'Total Match: {my_sum}')"
   ]
  },
  {
   "cell_type": "markdown",
   "id": "f44b439e",
   "metadata": {},
   "source": [
    "### Part 2:\n",
    "\n",
    "Bring diagonals into play - given the 90-degree assumption just need to increment by +1,+1 relative to the \"higher\" point. "
   ]
  },
  {
   "cell_type": "code",
   "execution_count": 5,
   "id": "fb59cc6d",
   "metadata": {},
   "outputs": [],
   "source": [
    "def build_diag(x1,x2,y1,y2):\n",
    "    \"\"\"Can assume 90-degree angle - must be a cleaner way\"\"\"\n",
    "    if (x1 < x2 and y1 < y2):\n",
    "        diff = x2 - x1\n",
    "        return [(x1+i,y1+i) for i in range(diff+1)]\n",
    "    elif (x1 < x2 and y1 > y2):\n",
    "        diff = x2 - x1\n",
    "        return [(x1+i,y1-i) for i in range(diff+1)]\n",
    "    elif (x1 > x2 and y1 < y2):\n",
    "        diff = y2 - y1\n",
    "        return [(x1-i,y1+i) for i in range(diff+1)]\n",
    "    else:\n",
    "        diff = y1 - y2\n",
    "        return [(x1-i,y1-i) for i in range(diff+1)]"
   ]
  },
  {
   "cell_type": "code",
   "execution_count": 6,
   "id": "e4e7b30b",
   "metadata": {},
   "outputs": [
    {
     "name": "stdout",
     "output_type": "stream",
     "text": [
      "Total Match: 12\n"
     ]
    }
   ],
   "source": [
    "# read data \n",
    "with open('data/day05_test.txt') as fh:\n",
    "    data = [line.strip().split() for line in fh.readlines()]\n",
    "    \n",
    "# storage of lines in dict:\n",
    "main_lines = {}\n",
    "\n",
    "for i, line in enumerate(data):\n",
    "    l1, l2 = extract(line)\n",
    "    main_lines[i] = [l1,l2]\n",
    "    \n",
    "# Storing all points in a final list\n",
    "total_points = []\n",
    "for k, line in main_lines.items():\n",
    "    # store all together\n",
    "    total_points.extend(line_points(line))\n",
    "\n",
    "# Convert to counter object, which will store distinct points with respective count\n",
    "all_points = dict(Counter(total_points))\n",
    "\n",
    "# Determine how many points had more than one occurrence\n",
    "my_sum = 0\n",
    "for pt, c in all_points.items():\n",
    "    if pt != (-1,-1) and c > 1:\n",
    "        my_sum += 1\n",
    "print(f'Total Match: {my_sum}')"
   ]
  },
  {
   "cell_type": "code",
   "execution_count": 7,
   "id": "4f96ff2a",
   "metadata": {},
   "outputs": [
    {
     "name": "stdout",
     "output_type": "stream",
     "text": [
      "Total Match: 17193\n"
     ]
    }
   ],
   "source": [
    "# read data \n",
    "with open('data/day05.txt') as fh:\n",
    "    data = [line.strip().split() for line in fh.readlines()]\n",
    "    \n",
    "# storage of lines in dict:\n",
    "main_lines = {}\n",
    "\n",
    "for i, line in enumerate(data):\n",
    "    l1, l2 = extract(line)\n",
    "    main_lines[i] = [l1,l2]\n",
    "    \n",
    "# Storing all points in a final list\n",
    "total_points = []\n",
    "for k, line in main_lines.items():\n",
    "    # store all together\n",
    "    total_points.extend(line_points(line))\n",
    "\n",
    "# Convert to counter object, which will store distinct points with respective count\n",
    "all_points = dict(Counter(total_points))\n",
    "\n",
    "# Determine how many points had more than one occurrence\n",
    "my_sum = 0\n",
    "for pt, c in all_points.items():\n",
    "    if pt != (-1,-1) and c > 1:\n",
    "        my_sum += 1\n",
    "print(f'Total Match: {my_sum}')"
   ]
  }
 ],
 "metadata": {
  "kernelspec": {
   "display_name": "ml",
   "language": "python",
   "name": "ml"
  },
  "language_info": {
   "codemirror_mode": {
    "name": "ipython",
    "version": 3
   },
   "file_extension": ".py",
   "mimetype": "text/x-python",
   "name": "python",
   "nbconvert_exporter": "python",
   "pygments_lexer": "ipython3",
   "version": "3.9.2"
  }
 },
 "nbformat": 4,
 "nbformat_minor": 5
}
