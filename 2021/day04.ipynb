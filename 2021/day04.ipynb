{
 "cells": [
  {
   "cell_type": "markdown",
   "id": "ed443a52",
   "metadata": {},
   "source": [
    "https://adventofcode.com/2021/day/4"
   ]
  },
  {
   "cell_type": "markdown",
   "id": "bc1dd3b4",
   "metadata": {},
   "source": [
    "### Part 1:\n",
    "\n",
    "I did testing, but swapped over to the real input data. \n",
    "\n",
    "- Preparing data\n",
    "    - I extend a list to take in each integer in order (row 1 + row 2...)\n",
    "    - When I run into '' this indicates a break in the board, so I process accodingly\n",
    "    - I convert to a 5x5 array and store in a dictionary\n",
    "    \n",
    "- Solving:\n",
    "    - iterate through each draw\n",
    "    - iterate over each 5x5 board (matrix)\n",
    "    - if a draw matches an element in the matrix, i convert that element to 0. This makes it much easier to do a full sum later (since we don't care abou the guesses)\n",
    "    - i then do sums across rows and cols, store in an array, and if any of these 10 elements == 0 that indicates a win\n",
    "        - in which case I print solution & update quit flag."
   ]
  },
  {
   "cell_type": "code",
   "execution_count": 1,
   "id": "c5de553f",
   "metadata": {},
   "outputs": [],
   "source": [
    "import numpy as np \n",
    "\n",
    "# read data \n",
    "with open('data/day04.txt') as fh:\n",
    "    data = [line.strip() for line in fh.readlines()]\n",
    "    \n",
    "# prep bingo values \n",
    "draws = [int(x) for x in data[0].split(',')]"
   ]
  },
  {
   "cell_type": "code",
   "execution_count": 2,
   "id": "9a3a293b",
   "metadata": {},
   "outputs": [],
   "source": [
    "bingo_cards = {}\n",
    "sheet_num = 0\n",
    "new_list = []\n",
    "for row in data[2:]:\n",
    "    if row == '':\n",
    "        # convert to array\n",
    "        arr = np.array(new_list)\n",
    "        arr.shape = (5,5)\n",
    "        bingo_cards[sheet_num] = arr\n",
    "        sheet_num += 1\n",
    "        new_list = []\n",
    "    else:\n",
    "        new_list.extend([int(x) for x in row.split(' ') if x != ''])\n",
    "\n",
    "# handle last matrix - there is def a cleaner way \n",
    "arr = np.array(new_list)\n",
    "arr.shape = (5,5)\n",
    "bingo_cards[sheet_num] = arr"
   ]
  },
  {
   "cell_type": "code",
   "execution_count": 3,
   "id": "5e35ab9e",
   "metadata": {},
   "outputs": [
    {
     "name": "stdout",
     "output_type": "stream",
     "text": [
      "45\n",
      "Sum: 1108\n",
      "Answer: 49860\n"
     ]
    }
   ],
   "source": [
    "# clunky, but solves\n",
    "j = 0\n",
    "i = 0\n",
    "quit = False\n",
    "while quit != True:\n",
    "     \n",
    "    pull = draws[j]\n",
    "    j+=1\n",
    "    \n",
    "    for i in bingo_cards.keys():\n",
    "\n",
    "\n",
    "        # convert match to 0\n",
    "        bingo_cards[i] = np.where(bingo_cards[i] == pull, 0, bingo_cards[i])\n",
    "        #print(bingo_cards[i])\n",
    "\n",
    "        # check if we win row or col wise\n",
    "        rows = np.sum(bingo_cards[i], axis = 1)\n",
    "        cols = np.sum(bingo_cards[i], axis = 0)\n",
    "        for s in range(len(rows)):\n",
    "            if rows[s] == 0 or cols[s] == 0:\n",
    "                quit = True\n",
    "                print(pull)\n",
    "                print(f\"Sum: {np.sum(bingo_cards[i])}\")\n",
    "                print(f\"Answer: {pull * np.sum(bingo_cards[i])}\")\n",
    "\n"
   ]
  },
  {
   "cell_type": "markdown",
   "id": "d92f9ed5",
   "metadata": {},
   "source": [
    "### Part 2: \n",
    "\n",
    "Stumped for a bit, but recalled that newer versions of Python store dictionaries in the order they are updated!\n",
    "\n",
    "Process:\n",
    "- iterate over all draws and all boards\n",
    "- I created a dictionary called solutions\n",
    "    - The first time a win occurs, I update the dictionary with the board's key and solution\n",
    "    - This allows a board to win multiple times, but we only consider it's first win\n",
    "- Last element added is going to be the answer"
   ]
  },
  {
   "cell_type": "code",
   "execution_count": 4,
   "id": "da625f7d",
   "metadata": {},
   "outputs": [],
   "source": [
    "# read data \n",
    "with open('data/day04.txt') as fh:\n",
    "    data = [line.strip() for line in fh.readlines()]\n",
    "    \n",
    "# prep\n",
    "draws = [int(x) for x in data[0].split(',')]"
   ]
  },
  {
   "cell_type": "code",
   "execution_count": 5,
   "id": "cc620355",
   "metadata": {},
   "outputs": [],
   "source": [
    "# restarting - will need to delete keys as wins occur\n",
    "bingo_cards = {}\n",
    "sheet_num = 0\n",
    "new_list = []\n",
    "for row in data[2:]:\n",
    "    if row == '':\n",
    "        # convert to array\n",
    "        arr = np.array(new_list)\n",
    "        arr.shape = (5,5)\n",
    "        bingo_cards[sheet_num] = arr\n",
    "        sheet_num += 1\n",
    "        new_list = []\n",
    "    else:\n",
    "        new_list.extend([int(x) for x in row.split(' ') if x != ''])\n",
    "\n",
    "# handle last sheet\n",
    "# convert to array\n",
    "arr = np.array(new_list)\n",
    "arr.shape = (5,5)\n",
    "bingo_cards[sheet_num] = arr"
   ]
  },
  {
   "cell_type": "code",
   "execution_count": 6,
   "id": "a0906199",
   "metadata": {},
   "outputs": [],
   "source": [
    "# we can mark each number simply by converting to a 0\n",
    "solutions = {}\n",
    "for pull in draws:\n",
    "    \n",
    "    # force a copy of keys so as to avoid runtime error\n",
    "    for i in bingo_cards.copy():\n",
    "\n",
    "        # convert match to 0\n",
    "        bingo_cards[i] = np.where(bingo_cards[i] == pull, 0, bingo_cards[i])\n",
    "        #print(bingo_cards[i])\n",
    "\n",
    "        # check if we win row wise \n",
    "        rows = np.sum(bingo_cards[i], axis = 1)\n",
    "        cols = np.sum(bingo_cards[i], axis = 0)\n",
    "        for s in range(len(rows)):\n",
    "            if rows[s] == 0 or cols[s] == 0:\n",
    "                #print(pull)\n",
    "                #print(f\"Sum: {np.sum(bingo_cards[i])}\")\n",
    "                #print(f\"Answer: {pull * np.sum(bingo_cards[i])}\")\n",
    "                if i not in solutions.keys():\n",
    "                    solutions[i] = pull * np.sum(bingo_cards[i])"
   ]
  },
  {
   "cell_type": "code",
   "execution_count": 7,
   "id": "1a249d18",
   "metadata": {},
   "outputs": [
    {
     "data": {
      "text/plain": [
       "(22, 24628)"
      ]
     },
     "execution_count": 7,
     "metadata": {},
     "output_type": "execute_result"
    }
   ],
   "source": [
    "# get last key\n",
    "list(solutions.items())[-1]"
   ]
  }
 ],
 "metadata": {
  "kernelspec": {
   "display_name": "ml",
   "language": "python",
   "name": "ml"
  },
  "language_info": {
   "codemirror_mode": {
    "name": "ipython",
    "version": 3
   },
   "file_extension": ".py",
   "mimetype": "text/x-python",
   "name": "python",
   "nbconvert_exporter": "python",
   "pygments_lexer": "ipython3",
   "version": "3.9.2"
  }
 },
 "nbformat": 4,
 "nbformat_minor": 5
}
