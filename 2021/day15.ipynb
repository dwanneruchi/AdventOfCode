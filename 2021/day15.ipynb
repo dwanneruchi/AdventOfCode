{
 "cells": [
  {
   "cell_type": "markdown",
   "id": "afdbcad1",
   "metadata": {},
   "source": [
    "### Day 15 Part 1\n",
    "\n",
    "This puzzle reminds me of a Project Euler problem I worked on (after reading someone else's solution and heavily incorporating it) years ago. \n",
    "\n",
    "I will be honest - I had to review that code to remind myself how this all worked. Here is the original post I worked through: https://codereview.stackexchange.com/questions/60930/project-euler-81-minimum-path-sum-through-a-matrix\n",
    "\n",
    "Changes I made: Not much, but I am using Numpy!\n",
    "\n",
    "### Logic: \n",
    "\n",
    "Below is my reasoning on the solution:\n",
    "\n",
    "- What we need to do is determine total risk at the very last point, without really caring about the general path for part 1.\n",
    "- We can do this by accumulating values over each step, starting with the row and column\n",
    "    - In row 1 we update values to be: row 1 col 1, row 1 col 1 + row 1 col 2, row 1 col 1+ r1c2 + r1c3...etc\n",
    "    - In col 1 we update values to be: r1c1, r1c1 + r2c1, r1c1 + r2c1 + r3c1....etc.\n",
    "    - Why do this? We need an initial cumulative border given the next steps\n",
    "- At this point we know the cost of moving directly across a row (it is just the sum of the row). We also know the cost of moving directly down a column (it is just the sum of the column). Likely our solution requires more movement than this. \n",
    "- We then iterate through the remaining values of our matrix (n-1 x n-1):\n",
    "    - At each position we look at where we could have moved from and add the smaller value. \n",
    "    - For example, if I am looking at the value of (3,3) I could have ended up here in two ways:\n",
    "        - From above, meaning my last point was (2,3) <- row 2, col 3\n",
    "        - From the left, meaning my last point was (3,2) <- row 3 col 2.\n",
    "        - By adding the smallest path I ensure that I make the optimal decision for this point.\n",
    "- By the end our last point (n,n) is going to represent the cumulative value of our path."
   ]
  },
  {
   "cell_type": "code",
   "execution_count": 1,
   "id": "36d4ee2c",
   "metadata": {},
   "outputs": [
    {
     "data": {
      "text/plain": [
       "array([[1, 1, 6, 3, 7, 5, 1, 7, 4, 2],\n",
       "       [1, 3, 8, 1, 3, 7, 3, 6, 7, 2],\n",
       "       [2, 1, 3, 6, 5, 1, 1, 3, 2, 8],\n",
       "       [3, 6, 9, 4, 9, 3, 1, 5, 6, 9],\n",
       "       [7, 4, 6, 3, 4, 1, 7, 1, 1, 1],\n",
       "       [1, 3, 1, 9, 1, 2, 8, 1, 3, 7],\n",
       "       [1, 3, 5, 9, 9, 1, 2, 4, 2, 1],\n",
       "       [3, 1, 2, 5, 4, 2, 1, 6, 3, 9],\n",
       "       [1, 2, 9, 3, 1, 3, 8, 5, 2, 1],\n",
       "       [2, 3, 1, 1, 9, 4, 4, 5, 8, 1]])"
      ]
     },
     "execution_count": 1,
     "metadata": {},
     "output_type": "execute_result"
    }
   ],
   "source": [
    "import numpy as np\n",
    "from itertools import accumulate \n",
    "\n",
    "# read data \n",
    "with open('data/day15_test.txt') as fh:\n",
    "    data = [line.strip('\\n') for line in fh.readlines()]\n",
    "    \n",
    "# then break down for each list into an array\n",
    "single_list = []\n",
    "for row in data:\n",
    "    single_list.extend([int(x) for x in row])\n",
    "    \n",
    "# build matrix\n",
    "mat = np.asarray(single_list)\n",
    "mat.shape = (len(data), len(data[0]))\n",
    "mat"
   ]
  },
  {
   "cell_type": "code",
   "execution_count": 2,
   "id": "4409d493",
   "metadata": {},
   "outputs": [
    {
     "data": {
      "text/plain": [
       "[1, 2, 8, 11, 18, 23, 24, 31, 35, 37]"
      ]
     },
     "execution_count": 2,
     "metadata": {},
     "output_type": "execute_result"
    }
   ],
   "source": [
    "# accumulate is pretty awesome - it solves by incremental updates over elements\n",
    "list(accumulate(mat[0,:]))"
   ]
  },
  {
   "cell_type": "code",
   "execution_count": 3,
   "id": "74ae7318",
   "metadata": {},
   "outputs": [],
   "source": [
    "def min_path_sum(matrix):\n",
    "    \n",
    "    size = len(matrix)\n",
    "    \n",
    "    # top row gets accumulated\n",
    "    matrix[0,:] = list(accumulate(matrix[0,:]))\n",
    "    \n",
    "    for i in range(1,size):\n",
    "        matrix[i,0] += matrix[i-1,0]\n",
    "        for j in range(1,size):\n",
    "            matrix[i,j] += min(matrix[i-1,j], matrix[i,j-1])\n",
    "    \n",
    "    return matrix[size-1,size-1] - matrix[0,0]\n",
    "\n",
    "assert(min_path_sum(mat) == 40)"
   ]
  },
  {
   "cell_type": "code",
   "execution_count": 4,
   "id": "3648528b",
   "metadata": {},
   "outputs": [
    {
     "name": "stdout",
     "output_type": "stream",
     "text": [
      "Total risk: 429\n"
     ]
    }
   ],
   "source": [
    "# read data \n",
    "with open('data/day15.txt') as fh:\n",
    "    data = [line.strip('\\n') for line in fh.readlines()]\n",
    "    \n",
    "# then break down for each list into an array\n",
    "single_list = []\n",
    "for row in data:\n",
    "    single_list.extend([int(x) for x in row])\n",
    "    \n",
    "# build matrix\n",
    "mat = np.asarray(single_list)\n",
    "mat.shape = (len(data), len(data[0]))\n",
    "\n",
    "print(f\"Total risk: {min_path_sum(mat)}\")"
   ]
  },
  {
   "cell_type": "markdown",
   "id": "899b019c",
   "metadata": {},
   "source": [
    "### Part 2: Test Case\n",
    "\n",
    "The above solution should work, but need to handle the expansion."
   ]
  },
  {
   "cell_type": "code",
   "execution_count": 5,
   "id": "d761dbc3",
   "metadata": {},
   "outputs": [],
   "source": [
    "# read data \n",
    "with open('data/day15_test.txt') as fh:\n",
    "    data = [line.strip('\\n') for line in fh.readlines()]\n",
    "    \n",
    "# then break down for each list into an array\n",
    "single_list = []\n",
    "for row in data:\n",
    "    single_list.extend([int(x) for x in row])\n",
    "    \n",
    "# build matrix\n",
    "mat = np.asarray(single_list)\n",
    "mat.shape = (len(data), len(data[0]))"
   ]
  },
  {
   "cell_type": "code",
   "execution_count": 6,
   "id": "7e325dad",
   "metadata": {},
   "outputs": [],
   "source": [
    "def matrixAdd(mat, idx, col=True):\n",
    "    \"\"\"Properly add last matrix and return stacked\"\"\"\n",
    "    i,i2,j,j2 = idx\n",
    "    add_mat = mat[i:i2,j:j2] + 1\n",
    "    add_mat = np.where(add_mat > 9, 1, add_mat)\n",
    "    \n",
    "    if col:\n",
    "        return np.column_stack((mat,add_mat))\n",
    "    return np.row_stack((mat,add_mat))"
   ]
  },
  {
   "cell_type": "code",
   "execution_count": 7,
   "id": "4bfbc406",
   "metadata": {},
   "outputs": [],
   "source": [
    "# Build out top row:\n",
    "a = 0\n",
    "b = 10\n",
    "for i in range(4):\n",
    "    mat = matrixAdd(mat, (0,10,a,b))\n",
    "    a += 10\n",
    "    b += 10\n",
    "test = [int(x) for x in '11637517422274862853338597396444961841755517295286']\n",
    "\n",
    "# confirm top row transormed properly \n",
    "assert(list(mat[0,:]) == test)"
   ]
  },
  {
   "cell_type": "code",
   "execution_count": 8,
   "id": "980fff5a",
   "metadata": {},
   "outputs": [],
   "source": [
    "# Build out second row - pretty easy now\n",
    "a = 0\n",
    "b = 10\n",
    "for _ in range(4):\n",
    "    mat = matrixAdd(mat, (a,b,0,50), col = False)\n",
    "    a += 10\n",
    "    b += 10\n",
    "\n",
    "# confirm second row transormed properly \n",
    "test = [int(x) for x in '22748628533385973964449618417555172952866628316397']\n",
    "assert(list(mat[10,:]) == test)\n",
    "assert(mat.shape == (50,50))\n",
    "assert(min_path_sum(mat) == 315)"
   ]
  },
  {
   "cell_type": "markdown",
   "id": "9f4c9277",
   "metadata": {},
   "source": [
    "### Part 2: Actual Data\n",
    "\n",
    "For some reason not working"
   ]
  },
  {
   "cell_type": "code",
   "execution_count": 9,
   "id": "ab88c58c",
   "metadata": {},
   "outputs": [
    {
     "name": "stdout",
     "output_type": "stream",
     "text": [
      "Matrix shape: (100, 100)\n"
     ]
    }
   ],
   "source": [
    "# read data \n",
    "with open('data/day15.txt') as fh:\n",
    "    data = [line.strip('\\n') for line in fh.readlines()]\n",
    "    \n",
    "# then break down for each list into an array\n",
    "single_list = []\n",
    "for row in data:\n",
    "    single_list.extend([int(x) for x in row])\n",
    "    \n",
    "# build matrix\n",
    "mat = np.asarray(single_list)\n",
    "mat.shape = (len(data), len(data[0]))\n",
    "print(f\"Matrix shape: {mat.shape}\")"
   ]
  },
  {
   "cell_type": "code",
   "execution_count": 10,
   "id": "4234b428",
   "metadata": {},
   "outputs": [
    {
     "name": "stdout",
     "output_type": "stream",
     "text": [
      "[1, 2, 3, 4, 5]\n",
      "[2, 3, 4, 5, 6]\n",
      "[3, 4, 5, 6, 7]\n",
      "[4, 5, 6, 7, 8]\n",
      "[5, 6, 7, 8, 9]\n"
     ]
    }
   ],
   "source": [
    "# Build out top row:\n",
    "a = 0\n",
    "b = 100\n",
    "for i in range(4):\n",
    "    mat = matrixAdd(mat, (0,100,a,b))\n",
    "    a += 100\n",
    "    b += 100\n",
    "\n",
    "# Build out rows 2-5\n",
    "a = 0\n",
    "b = 100\n",
    "for _ in range(4):\n",
    "    mat = matrixAdd(mat, (a,b,0,500), col = False)\n",
    "    a += 100\n",
    "    b += 100\n",
    "\n",
    "# confirm values increment properly\n",
    "test = []\n",
    "for i in [0,100,200,300,400]:\n",
    "    for j in [0,100,200,300,400]:\n",
    "        test.append(mat[i, j])\n",
    "    print(test)\n",
    "    test = []"
   ]
  },
  {
   "cell_type": "code",
   "execution_count": 11,
   "id": "21b17144",
   "metadata": {},
   "outputs": [
    {
     "data": {
      "text/plain": [
       "2851"
      ]
     },
     "execution_count": 11,
     "metadata": {},
     "output_type": "execute_result"
    }
   ],
   "source": [
    "min_path_sum(mat) # wrong >|?"
   ]
  }
 ],
 "metadata": {
  "kernelspec": {
   "display_name": "ml",
   "language": "python",
   "name": "ml"
  },
  "language_info": {
   "codemirror_mode": {
    "name": "ipython",
    "version": 3
   },
   "file_extension": ".py",
   "mimetype": "text/x-python",
   "name": "python",
   "nbconvert_exporter": "python",
   "pygments_lexer": "ipython3",
   "version": "3.9.2"
  }
 },
 "nbformat": 4,
 "nbformat_minor": 5
}
