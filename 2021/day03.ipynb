{
 "cells": [
  {
   "cell_type": "markdown",
   "id": "ed443a52",
   "metadata": {},
   "source": [
    "https://adventofcode.com/2021/day/3"
   ]
  },
  {
   "cell_type": "code",
   "execution_count": 1,
   "id": "c5de553f",
   "metadata": {},
   "outputs": [],
   "source": [
    "# read data \n",
    "with open('data/day03.txt') as fh:\n",
    "    data = [line.strip() for line in fh.readlines()]"
   ]
  },
  {
   "cell_type": "code",
   "execution_count": 2,
   "id": "5951e41b",
   "metadata": {},
   "outputs": [
    {
     "data": {
      "text/plain": [
       "1307354"
      ]
     },
     "execution_count": 2,
     "metadata": {},
     "output_type": "execute_result"
    }
   ],
   "source": [
    "import collections\n",
    "\n",
    "c_s = ''\n",
    "l_s = ''\n",
    "for i in range(len(data[0])):\n",
    "    string = ''\n",
    "    for row in data:\n",
    "        string += row[i]\n",
    "    c_s += collections.Counter(string).most_common(1)[0][0]\n",
    "    l_s += collections.Counter(string).most_common()[-1][0]\n",
    "    \n",
    "gamma = int(c_s, 2)\n",
    "eps = int(l_s,2)\n",
    "\n",
    "gamma * eps"
   ]
  },
  {
   "cell_type": "markdown",
   "id": "8c79678f",
   "metadata": {},
   "source": [
    "# Part 2:"
   ]
  },
  {
   "cell_type": "code",
   "execution_count": 3,
   "id": "d22d5f27",
   "metadata": {},
   "outputs": [
    {
     "name": "stdout",
     "output_type": "stream",
     "text": [
      "125\n"
     ]
    }
   ],
   "source": [
    "# read data \n",
    "with open('data/day03.txt') as fh:\n",
    "    data = [line.strip() for line in fh.readlines()]\n",
    "    \n",
    "for i in range(len(data[0])):\n",
    "    string = ''\n",
    "    for row in data:\n",
    "        string += row[i]\n",
    "    common = collections.Counter(string).most_common(2)\n",
    "\n",
    "    if len(common) > 1:\n",
    "        if common[0][1] == common[1][1]:\n",
    "            common_v = '1'\n",
    "        else:\n",
    "            common_v = common[0][0]  \n",
    "    else:\n",
    "        common_v = common[0][0]\n",
    "    \n",
    "    # remove non-common\n",
    "    data = [row for row in data if row[i] == common_v]\n",
    "    \n",
    "    if len(data) == 1:\n",
    "        os_scrub = int(data[0], 2)\n",
    "        print(os_scrub)\n",
    "        break\n",
    "    "
   ]
  },
  {
   "cell_type": "code",
   "execution_count": 4,
   "id": "066e607c",
   "metadata": {},
   "outputs": [
    {
     "name": "stdout",
     "output_type": "stream",
     "text": [
      "3860\n"
     ]
    }
   ],
   "source": [
    "# read data \n",
    "with open('data/day03.txt') as fh:\n",
    "    data = [line.strip() for line in fh.readlines()]\n",
    "    \n",
    "for i in range(len(data[0])):\n",
    "    string = ''\n",
    "    for row in data:\n",
    "        string += row[i]\n",
    "    common = collections.Counter(string).most_common(2)\n",
    "\n",
    "    if len(common) > 1:\n",
    "        if common[0][1] == common[1][1]:\n",
    "            common_v = '0'\n",
    "        else:\n",
    "            common_v = common[1][0]  \n",
    "    else:\n",
    "        common_v = common[1][0]\n",
    "    \n",
    "    # remove non-common\n",
    "    data = [row for row in data if row[i] == common_v]\n",
    "    \n",
    "    if len(data) == 1:\n",
    "        co2_scrub = int(data[0], 2)\n",
    "        print(co2_scrub)\n",
    "        break\n"
   ]
  },
  {
   "cell_type": "code",
   "execution_count": 5,
   "id": "3bf18b5c",
   "metadata": {},
   "outputs": [
    {
     "data": {
      "text/plain": [
       "482500"
      ]
     },
     "execution_count": 5,
     "metadata": {},
     "output_type": "execute_result"
    }
   ],
   "source": [
    "os_scrub * co2_scrub"
   ]
  }
 ],
 "metadata": {
  "kernelspec": {
   "display_name": "ml",
   "language": "python",
   "name": "ml"
  },
  "language_info": {
   "codemirror_mode": {
    "name": "ipython",
    "version": 3
   },
   "file_extension": ".py",
   "mimetype": "text/x-python",
   "name": "python",
   "nbconvert_exporter": "python",
   "pygments_lexer": "ipython3",
   "version": "3.9.2"
  }
 },
 "nbformat": 4,
 "nbformat_minor": 5
}
