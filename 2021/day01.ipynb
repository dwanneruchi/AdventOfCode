{
 "cells": [
  {
   "cell_type": "markdown",
   "id": "6fc7f741",
   "metadata": {},
   "source": [
    "https://adventofcode.com/2021/day/1"
   ]
  },
  {
   "cell_type": "code",
   "execution_count": 1,
   "id": "2ec0a665",
   "metadata": {},
   "outputs": [],
   "source": [
    "# read data \n",
    "with open('data/day01.txt') as fh:\n",
    "    data = [int(line.strip()) for line in fh.readlines()]"
   ]
  },
  {
   "cell_type": "code",
   "execution_count": 2,
   "id": "b8a85efd",
   "metadata": {},
   "outputs": [
    {
     "data": {
      "text/plain": [
       "1400"
      ]
     },
     "execution_count": 2,
     "metadata": {},
     "output_type": "execute_result"
    }
   ],
   "source": [
    "# simple solve for part 1: \n",
    "sum([1 for i in range(1,len(data)) if data[i] > data[i-1]])"
   ]
  },
  {
   "cell_type": "markdown",
   "id": "86243355",
   "metadata": {},
   "source": [
    "Part 2 Testing"
   ]
  },
  {
   "cell_type": "code",
   "execution_count": 3,
   "id": "e28d8057",
   "metadata": {},
   "outputs": [
    {
     "data": {
      "text/plain": [
       "5"
      ]
     },
     "execution_count": 3,
     "metadata": {},
     "output_type": "execute_result"
    }
   ],
   "source": [
    "test = [199,200,208,210,200,207,240,269,260,263]\n",
    "sum([1 for i in range(1,len(test)-2) if sum(test[i:i+3]) > sum(test[i-1:i+2])])"
   ]
  },
  {
   "cell_type": "code",
   "execution_count": 4,
   "id": "50ff1b10",
   "metadata": {},
   "outputs": [
    {
     "data": {
      "text/plain": [
       "1429"
      ]
     },
     "execution_count": 4,
     "metadata": {},
     "output_type": "execute_result"
    }
   ],
   "source": [
    "# with my inputs\n",
    "sum([1 for i in range(1,len(data)-2) if sum(data[i:i+3]) > sum(data[i-1:i+2])])"
   ]
  }
 ],
 "metadata": {
  "kernelspec": {
   "display_name": "ml",
   "language": "python",
   "name": "ml"
  },
  "language_info": {
   "codemirror_mode": {
    "name": "ipython",
    "version": 3
   },
   "file_extension": ".py",
   "mimetype": "text/x-python",
   "name": "python",
   "nbconvert_exporter": "python",
   "pygments_lexer": "ipython3",
   "version": "3.9.2"
  }
 },
 "nbformat": 4,
 "nbformat_minor": 5
}
