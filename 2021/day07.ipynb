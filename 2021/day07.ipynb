{
 "cells": [
  {
   "cell_type": "markdown",
   "id": "df741d18",
   "metadata": {},
   "source": [
    "### Part 1:\n",
    "\n",
    "For now avoiding any true search - just brute force from `min` val to `max` val. `Numpy` should make this fairly quick.\n",
    "\n",
    "Potential updates:\n",
    "- Could avoid a for loop in numpy by building a matrix that is current input array as columns, where the size of columns would be equal to the search space (`max - min`). However, speed is fine for part 1."
   ]
  },
  {
   "cell_type": "code",
   "execution_count": 1,
   "id": "608ead01",
   "metadata": {},
   "outputs": [],
   "source": [
    "import numpy as np \n",
    "import time \n",
    "\n",
    "input_list = [16,1,2,0,4,2,7,1,2,14]\n",
    "\n",
    "# find max & min\n",
    "arr = np.array(input_list)\n",
    "min_a = np.min(arr)\n",
    "max_a = np.max(arr)\n",
    "\n",
    "# Cost dict\n",
    "cost = {}\n",
    "for align in range(min_a, max_a+1):\n",
    "    cost[align] = np.sum(np.abs(arr - align))"
   ]
  },
  {
   "cell_type": "code",
   "execution_count": 2,
   "id": "6ddfe8c1",
   "metadata": {},
   "outputs": [],
   "source": [
    "# read data \n",
    "with open('data/day07.txt') as fh:\n",
    "    data = [line.split(',') for line in fh.readlines()]\n",
    "data = [int(x) for x in data[0]]"
   ]
  },
  {
   "cell_type": "code",
   "execution_count": 3,
   "id": "47e8fbdc",
   "metadata": {},
   "outputs": [
    {
     "data": {
      "text/plain": [
       "336120"
      ]
     },
     "execution_count": 3,
     "metadata": {},
     "output_type": "execute_result"
    }
   ],
   "source": [
    "# find max & min\n",
    "arr = np.array(data)\n",
    "min_a = np.min(arr)\n",
    "max_a = np.max(arr)\n",
    "\n",
    "# Cost dict\n",
    "cost = {}\n",
    "for align in range(min_a, max_a+1):\n",
    "    cost[align] = np.sum(np.abs(arr - align))\n",
    "    \n",
    "# Find mininum cost - use .get as our key, which yields key of value that has smallest cost\n",
    "key = min(cost, key=cost.get)\n",
    "cost[key]"
   ]
  },
  {
   "cell_type": "markdown",
   "id": "dcd5b5e5",
   "metadata": {},
   "source": [
    "### Part 2: \n",
    "\n",
    "Now we need to do an extra step where the difference between an element and step needs to be summed over. \n",
    "\n",
    "Options:\n",
    "\n",
    "- `range()` can solve this\n",
    "- can also use equation to sum from `1 to n`:\n",
    "\n",
    "$\\frac{n(n+1)}{2}$"
   ]
  },
  {
   "cell_type": "code",
   "execution_count": 4,
   "id": "e6919509",
   "metadata": {},
   "outputs": [],
   "source": [
    "def sum_func(n):\n",
    "    \"\"\"Return integer sum from 1 -> n\"\"\"\n",
    "    return n*(n+1) / 2\n",
    "\n",
    "# vectorized for use on numpy array \n",
    "sf = np.vectorize(sum_func)"
   ]
  },
  {
   "cell_type": "code",
   "execution_count": 5,
   "id": "86966211",
   "metadata": {},
   "outputs": [
    {
     "name": "stdout",
     "output_type": "stream",
     "text": [
      "Horizontal shift of 5 at a cost of 168\n",
      "Total time: 0.000173\n"
     ]
    }
   ],
   "source": [
    "## Approach 1: Just using range()\n",
    "# find max & min\n",
    "arr = np.array(input_list)\n",
    "min_a = np.min(arr)\n",
    "max_a = np.max(arr)\n",
    "\n",
    "# time it\n",
    "start = time.time()\n",
    "\n",
    "# Cost dict\n",
    "cost = {}\n",
    "for align in range(min_a, max_a+1):\n",
    "    diff = np.abs(arr - align)\n",
    "    \n",
    "    cost_v = 0\n",
    "    for val in diff:\n",
    "        cost_v += sum(range(val+1))\n",
    "\n",
    "    cost[align] = cost_v\n",
    "\n",
    "# Find mininum cost - use .get as our key, which yields key of value that has smallest cost\n",
    "key = min(cost, key=cost.get)\n",
    "\n",
    "end = time.time()\n",
    "print(f\"Horizontal shift of {key} at a cost of {cost[key]}\")\n",
    "print(f\"Total time: {end - start:.6f}\")"
   ]
  },
  {
   "cell_type": "code",
   "execution_count": 6,
   "id": "896eb1f0",
   "metadata": {},
   "outputs": [
    {
     "name": "stdout",
     "output_type": "stream",
     "text": [
      "Horizontal shift of 5 at a cost of 168.0\n",
      "Total time: 0.000219\n"
     ]
    }
   ],
   "source": [
    "## Approach 2: using equation\n",
    "# find max & min\n",
    "arr = np.array(input_list)\n",
    "min_a = np.min(arr)\n",
    "max_a = np.max(arr)\n",
    "\n",
    "# time it\n",
    "start = time.time()\n",
    "\n",
    "# Cost dict\n",
    "cost = {}\n",
    "for align in range(min_a, max_a+1):\n",
    "    cost[align] = np.sum(sf(np.abs(arr - align)))\n",
    "\n",
    "# Find mininum cost - use .get as our key, which yields key of value that has smallest cost\n",
    "key = min(cost, key=cost.get)\n",
    "\n",
    "end = time.time()\n",
    "print(f\"Horizontal shift of {key} at a cost of {cost[key]}\")\n",
    "print(f\"Total time: {end - start:.6f}\")"
   ]
  },
  {
   "cell_type": "markdown",
   "id": "a320bef4",
   "metadata": {},
   "source": [
    "### Part 2: On Our Input Data\n",
    "\n",
    "The speed gains of `numpy` vectorized function really shows here! Makes sense, the equation to find the sum has way less steps as we approach infinity. "
   ]
  },
  {
   "cell_type": "code",
   "execution_count": 7,
   "id": "9f87891e",
   "metadata": {},
   "outputs": [
    {
     "name": "stdout",
     "output_type": "stream",
     "text": [
      "Horizontal shift of 462 at a cost of 96864235\n",
      "Total time: 11.49\n"
     ]
    }
   ],
   "source": [
    "# Method 1: Using Range()\n",
    "# find max & min\n",
    "arr = np.array(data)\n",
    "min_a = np.min(arr)\n",
    "max_a = np.max(arr)\n",
    "\n",
    "# time it\n",
    "start = time.time()\n",
    "\n",
    "# Cost dict\n",
    "cost = {}\n",
    "for align in range(min_a, max_a+1):\n",
    "    diff = np.abs(arr - align)\n",
    "    \n",
    "    cost_v = 0\n",
    "    for val in diff:\n",
    "        cost_v += sum(range(val+1))\n",
    "\n",
    "    cost[align] = cost_v\n",
    "\n",
    "# Find mininum cost - use .get as our key, which yields key of value that has smallest cost\n",
    "key = min(cost, key=cost.get)\n",
    "\n",
    "end = time.time()\n",
    "print(f\"Horizontal shift of {key} at a cost of {cost[key]}\")\n",
    "print(f\"Total time: {end - start:.2f}\")"
   ]
  },
  {
   "cell_type": "code",
   "execution_count": 8,
   "id": "f7b39401",
   "metadata": {},
   "outputs": [
    {
     "name": "stdout",
     "output_type": "stream",
     "text": [
      "Horizontal shift of 462 at a cost of 96864235.0\n",
      "Total time: 0.215039\n"
     ]
    }
   ],
   "source": [
    "# Method 2: Using numpy vectorized func\n",
    "# find max & min\n",
    "arr = np.array(data)\n",
    "min_a = np.min(arr)\n",
    "max_a = np.max(arr)\n",
    "\n",
    "# time it\n",
    "start = time.time()\n",
    "\n",
    "# Cost dict\n",
    "cost = {}\n",
    "for align in range(min_a, max_a+1):\n",
    "    cost[align] = np.sum(sf(np.abs(arr - align)))\n",
    "\n",
    "# Find mininum cost - use .get as our key, which yields key of value that has smallest cost\n",
    "key = min(cost, key=cost.get)\n",
    "\n",
    "end = time.time()\n",
    "print(f\"Horizontal shift of {key} at a cost of {cost[key]}\")\n",
    "print(f\"Total time: {end - start:.6f}\")"
   ]
  }
 ],
 "metadata": {
  "kernelspec": {
   "display_name": "Python 3 (ipykernel)",
   "language": "python",
   "name": "python3"
  },
  "language_info": {
   "codemirror_mode": {
    "name": "ipython",
    "version": 3
   },
   "file_extension": ".py",
   "mimetype": "text/x-python",
   "name": "python",
   "nbconvert_exporter": "python",
   "pygments_lexer": "ipython3",
   "version": "3.9.2"
  }
 },
 "nbformat": 4,
 "nbformat_minor": 5
}
