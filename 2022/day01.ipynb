{
 "cells": [
  {
   "cell_type": "code",
   "execution_count": 1,
   "id": "23d8bc62",
   "metadata": {},
   "outputs": [],
   "source": [
    "# read data \n",
    "with open('data/day01.txt') as fh:\n",
    "    data = [line.strip() for line in fh.readlines()]"
   ]
  },
  {
   "cell_type": "code",
   "execution_count": 2,
   "id": "627c74ec",
   "metadata": {},
   "outputs": [],
   "source": [
    "# Ugly Approach: Build Out All Elf Sums\n",
    "int_sum = 0\n",
    "sum_list = []\n",
    "for _ in data:\n",
    "    if _ != '':\n",
    "        int_sum += int(_)\n",
    "    else:\n",
    "        sum_list.append(int_sum)\n",
    "        int_sum = 0"
   ]
  },
  {
   "cell_type": "code",
   "execution_count": 3,
   "id": "e7deb693",
   "metadata": {},
   "outputs": [
    {
     "data": {
      "text/plain": [
       "68923"
      ]
     },
     "execution_count": 3,
     "metadata": {},
     "output_type": "execute_result"
    }
   ],
   "source": [
    "max(sum_list) # part 1"
   ]
  },
  {
   "cell_type": "code",
   "execution_count": 4,
   "id": "777d9790",
   "metadata": {},
   "outputs": [
    {
     "data": {
      "text/plain": [
       "200044"
      ]
     },
     "execution_count": 4,
     "metadata": {},
     "output_type": "execute_result"
    }
   ],
   "source": [
    "sum(sorted(sum_list)[-3:]) # part 2"
   ]
  }
 ],
 "metadata": {
  "kernelspec": {
   "display_name": "ml",
   "language": "python",
   "name": "ml"
  },
  "language_info": {
   "codemirror_mode": {
    "name": "ipython",
    "version": 3
   },
   "file_extension": ".py",
   "mimetype": "text/x-python",
   "name": "python",
   "nbconvert_exporter": "python",
   "pygments_lexer": "ipython3",
   "version": "3.9.2"
  }
 },
 "nbformat": 4,
 "nbformat_minor": 5
}
