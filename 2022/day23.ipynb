{
 "cells": [
  {
   "cell_type": "code",
   "execution_count": 1,
   "id": "4a692ba3",
   "metadata": {},
   "outputs": [],
   "source": [
    "import numpy as np"
   ]
  },
  {
   "cell_type": "code",
   "execution_count": 2,
   "id": "e0c95718",
   "metadata": {},
   "outputs": [],
   "source": [
    "all_checks =[(0, -1), (0, +1)] + [(-1, c) for c in range(-1,2)] + [(+1, c) for c in range(-1,2)]\n",
    "assert(len(set(all_checks)) == 8)\n",
    "\n",
    "#check_list = ['North', 'South', 'West', 'East']\n",
    "\n",
    "check_dict = {\n",
    "    'North': [(-1, c) for c in range(-1,2)],\n",
    "    'South': [(+1, c) for c in range(-1,2)],\n",
    "    'West': [(0,-1), (-1,-1), (+1,-1)],\n",
    "    'East': [(0,+1), (-1,+1), (+1,+1)],\n",
    "}\n",
    "\n",
    "move_dict = {\n",
    "    'North': (-1,0),\n",
    "    'South': (+1,0),\n",
    "    'West': (0,-1),\n",
    "    'East': (0,+1),  \n",
    "}\n",
    "\n",
    "# very lazy....def a cleaner way to do this!\n",
    "check_list = [\n",
    "    ['North', 'South', 'West', 'East'],\n",
    "    ['South', 'West', 'East', 'North'],\n",
    "    ['West', 'East', 'North', 'South'],\n",
    "    ['East', 'North', 'South', 'West'],\n",
    "]\n"
   ]
  },
  {
   "cell_type": "code",
   "execution_count": 3,
   "id": "3b239391",
   "metadata": {},
   "outputs": [],
   "source": [
    "def full_scan(matrix, all_checks):\n",
    "    \"\"\"\n",
    "    For each location of elf determine total neighbors. If 0 neighbors around\n",
    "    then do not include in eligible list.\n",
    "    \n",
    "    \"\"\"\n",
    "    elves = np.argwhere(matrix == '#')\n",
    "    passed_elves = []\n",
    "    \n",
    "    for (r1,c1) in elves:\n",
    "        neighbor_count = 0\n",
    "        for (r_check, c_check) in all_checks:\n",
    "            if matrix[(r1 + r_check, c1 + c_check)] == '#':\n",
    "                neighbor_count += 1\n",
    "        if neighbor_count > 0:\n",
    "            passed_elves.append((r1, c1))\n",
    "    return passed_elves\n",
    "\n",
    "def move_proposal(matrix, elves, check_dict, check_list):\n",
    "    \"\"\"\n",
    "    Return an index of values that pass checks\n",
    "    \n",
    "    Assume check_list is properly ordered \n",
    "    \"\"\"\n",
    "    passed_elves = []\n",
    "    for (r1,c1) in elves:\n",
    "        #print(f\"Checking elf: {r1,c1}\")\n",
    "        add_flag = False\n",
    "        \n",
    "        dir_check = 0\n",
    "        while (add_flag == False):# or (dir_check < 3):\n",
    "            direction = check_list[dir_check]\n",
    "            #print(f\"Checking direction {direction}\")\n",
    "            fail_flag = False\n",
    "            for (r_check, c_check) in check_dict[direction]:\n",
    "                #print(f\"Checking {direction, r_check, c_check}\")\n",
    "                if matrix[(r1 + r_check, c1 + c_check)] == '#':\n",
    "                    #print(\"Failed direction\")\n",
    "                    fail_flag = True\n",
    "                    break\n",
    "            dir_check += 1\n",
    "            # If fail flag is false then we didn't fail!  \n",
    "            if fail_flag == False:\n",
    "                passed_elves.append((r1,c1,direction))\n",
    "                add_flag = True\n",
    "                \n",
    "            if dir_check == 4:\n",
    "                break\n",
    "                  \n",
    "    return passed_elves  \n",
    "    \n",
    "def move_calcs(elf_list, move_dict):\n",
    "    \"\"\"\n",
    "    Take elves that can move, check for collisions and remove\n",
    "    \n",
    "    Important note: Don't need full matrix since we did a full \n",
    "    matrix check in the last step \n",
    "    \n",
    "    \"\"\"\n",
    "    old_list = []\n",
    "    new_list = []\n",
    "    transition_list = []\n",
    "    for (r,c, d) in elf_list:        \n",
    "        # apply move\n",
    "        #print(r,c,d)\n",
    "        r_new = r + move_dict[d][0]\n",
    "        c_new = c + move_dict[d][1]\n",
    "        \n",
    "        # store old and new locations for processing\n",
    "        old_list.append((r,c))\n",
    "        new_list.append((r_new, c_new))\n",
    "        \n",
    "    # checking for collisions: won't save collisions\n",
    "    for idx, loc in enumerate(new_list):\n",
    "        comp = [x for i, x in enumerate(new_list) if i != idx and x == loc]\n",
    "        \n",
    "        if len(comp) == 0:\n",
    "            transition_list.append([old_list[idx], new_list[idx]])\n",
    "    return transition_list"
   ]
  },
  {
   "cell_type": "code",
   "execution_count": 4,
   "id": "d40305f3",
   "metadata": {},
   "outputs": [
    {
     "name": "stdout",
     "output_type": "stream",
     "text": [
      "Starting shape: (6, 5)\n",
      "No moves at 3\n"
     ]
    }
   ],
   "source": [
    "with open(\"data/day23_sample.txt\", \"r\", encoding=\"UTF-8\") as f:\n",
    "    lines = f.read().split(\"\\n\")\n",
    "    \n",
    "# get matrix starting dimensions\n",
    "nrows = len(lines)\n",
    "ncols = len(lines[0])\n",
    "print(f\"Starting shape: {nrows, ncols}\")\n",
    "    \n",
    "# create matrix\n",
    "matrix = np.asarray([[x for x in l] for l in lines])\n",
    "matrix.shape = (nrows, ncols)\n",
    "\n",
    "# each step we'd want to expand prior to checks\n",
    "steps = 0 # always off by 1 from actual count\n",
    "pad_size = 1\n",
    "default = '.'\n",
    "\n",
    "while steps <= 4:\n",
    "    # expand border\n",
    "    matrix = np.pad(matrix, pad_width=pad_size, mode='constant', constant_values=default)\n",
    "    \n",
    "    # figure out check order\n",
    "    check_order = check_list[steps % len(check_list)]\n",
    "    \n",
    "    # find eligible elves for movement\n",
    "    eligible_elves = full_scan(matrix, all_checks)\n",
    "    \n",
    "    if len(eligible_elves) == 0:\n",
    "        print(f\"No moves at {steps}\")\n",
    "        break\n",
    "    \n",
    "    # find potential moves\n",
    "    moves = move_proposal(matrix, eligible_elves, check_dict, check_order)\n",
    "\n",
    "    # output moves, accounting for collisions\n",
    "    actual_movement = move_calcs(moves, move_dict)\n",
    "    \n",
    "    # make them move in the matrix\n",
    "    for (old_move, new_move) in actual_movement:\n",
    "        matrix[old_move] = '.'\n",
    "        matrix[new_move] = '#'\n",
    "    \n",
    "    steps += 1"
   ]
  },
  {
   "cell_type": "code",
   "execution_count": 5,
   "id": "cd5e2dd3",
   "metadata": {},
   "outputs": [
    {
     "name": "stdout",
     "output_type": "stream",
     "text": [
      ".............\n",
      ".............\n",
      ".............\n",
      ".............\n",
      "......#......\n",
      "........#....\n",
      "....#........\n",
      "........#....\n",
      ".............\n",
      "......#......\n",
      ".............\n",
      ".............\n",
      ".............\n",
      ".............\n"
     ]
    }
   ],
   "source": [
    "for row in range(matrix.shape[0]):\n",
    "    print(''.join([x for x in matrix[row,:]]))"
   ]
  },
  {
   "cell_type": "code",
   "execution_count": 6,
   "id": "035d3320",
   "metadata": {},
   "outputs": [
    {
     "name": "stdout",
     "output_type": "stream",
     "text": [
      "Starting shape: (12, 14)\n",
      "On round 1\n",
      "On round 2\n",
      "On round 3\n",
      "On round 4\n",
      "On round 5\n",
      "On round 6\n",
      "On round 7\n",
      "On round 8\n",
      "On round 9\n",
      "On round 10\n"
     ]
    }
   ],
   "source": [
    "# larger Sample\n",
    "with open(\"data/day23_sample2.txt\", \"r\", encoding=\"UTF-8\") as f:\n",
    "    lines = f.read().split(\"\\n\")\n",
    "    \n",
    "# get matrix starting dimensions\n",
    "nrows = len(lines)\n",
    "ncols = len(lines[0])\n",
    "print(f\"Starting shape: {nrows, ncols}\")\n",
    "    \n",
    "# create matrix\n",
    "matrix = np.asarray([[x for x in l] for l in lines])\n",
    "matrix.shape = (nrows, ncols)\n",
    "\n",
    "# each step we'd want to expand prior to checks\n",
    "steps = 0 # always off by 1 from actual count\n",
    "pad_size = 1\n",
    "default = '.'\n",
    "\n",
    "while steps <= 9:\n",
    "    print(f\"On round {steps + 1}\")\n",
    "    # expand border\n",
    "    matrix = np.pad(matrix, pad_width=pad_size, mode='constant', constant_values=default)\n",
    "    \n",
    "    # figure out check order\n",
    "    check_order = check_list[steps % len(check_list)]\n",
    "    \n",
    "    # find eligible elves for movement\n",
    "    eligible_elves = full_scan(matrix, all_checks)\n",
    "    \n",
    "    if len(eligible_elves) == 0:\n",
    "        print(f\"No moves at {step}\")\n",
    "        break\n",
    "    \n",
    "    # find potential moves\n",
    "    moves = move_proposal(matrix, eligible_elves, check_dict, check_order)\n",
    "\n",
    "    # output moves, accounting for collisions\n",
    "    actual_movement = move_calcs(moves, move_dict)\n",
    "    \n",
    "    # make them move in the matrix\n",
    "    for (old_move, new_move) in actual_movement:\n",
    "        matrix[old_move] = '.'\n",
    "        matrix[new_move] = '#'\n",
    "    \n",
    "    steps += 1"
   ]
  },
  {
   "cell_type": "code",
   "execution_count": 7,
   "id": "c51719f0",
   "metadata": {},
   "outputs": [
    {
     "name": "stdout",
     "output_type": "stream",
     "text": [
      "..................................\n",
      "..................................\n",
      "..................................\n",
      "..................................\n",
      "..................................\n",
      "..................................\n",
      "..................................\n",
      "..................................\n",
      "..................................\n",
      "..................................\n",
      ".................#................\n",
      ".....................#............\n",
      "............#.#..#................\n",
      "................#.................\n",
      ".............#.....#..#...........\n",
      "...........#......##..............\n",
      "...............##.................\n",
      "............#........#............\n",
      "..............#.#..#..............\n",
      "..................................\n",
      "..............#..#..#.............\n",
      "..................................\n",
      "..................................\n",
      "..................................\n",
      "..................................\n",
      "..................................\n",
      "..................................\n",
      "..................................\n",
      "..................................\n",
      "..................................\n",
      "..................................\n",
      "..................................\n"
     ]
    }
   ],
   "source": [
    "for row in range(matrix.shape[0]):\n",
    "    print(''.join([x for x in matrix[row,:]]))"
   ]
  },
  {
   "cell_type": "code",
   "execution_count": 8,
   "id": "d4b514f3",
   "metadata": {},
   "outputs": [],
   "source": [
    "# must find min row, max row, min col, max col\n",
    "min_row = min([r[0] for r in np.argwhere(matrix == '#')])\n",
    "max_row = max([r[0] for r in np.argwhere(matrix == '#')])\n",
    "min_col = min([r[1] for r in np.argwhere(matrix == '#')])\n",
    "max_col = max([r[1] for r in np.argwhere(matrix == '#')])"
   ]
  },
  {
   "cell_type": "code",
   "execution_count": 9,
   "id": "a5b0b6e9",
   "metadata": {},
   "outputs": [
    {
     "data": {
      "text/plain": [
       "array([['.', '.', '.', '.', '.', '.', '#', '.', '.', '.', '.', '.'],\n",
       "       ['.', '.', '.', '.', '.', '.', '.', '.', '.', '.', '#', '.'],\n",
       "       ['.', '#', '.', '#', '.', '.', '#', '.', '.', '.', '.', '.'],\n",
       "       ['.', '.', '.', '.', '.', '#', '.', '.', '.', '.', '.', '.'],\n",
       "       ['.', '.', '#', '.', '.', '.', '.', '.', '#', '.', '.', '#'],\n",
       "       ['#', '.', '.', '.', '.', '.', '.', '#', '#', '.', '.', '.'],\n",
       "       ['.', '.', '.', '.', '#', '#', '.', '.', '.', '.', '.', '.'],\n",
       "       ['.', '#', '.', '.', '.', '.', '.', '.', '.', '.', '#', '.'],\n",
       "       ['.', '.', '.', '#', '.', '#', '.', '.', '#', '.', '.', '.'],\n",
       "       ['.', '.', '.', '.', '.', '.', '.', '.', '.', '.', '.', '.'],\n",
       "       ['.', '.', '.', '#', '.', '.', '#', '.', '.', '#', '.', '.']],\n",
       "      dtype='<U1')"
      ]
     },
     "execution_count": 9,
     "metadata": {},
     "output_type": "execute_result"
    }
   ],
   "source": [
    "matrix[np.ix_([x for x in range(min_row, max_row + 1)], [x for x in range(min_col, max_col + 1)])]"
   ]
  },
  {
   "cell_type": "code",
   "execution_count": 10,
   "id": "22e1282b",
   "metadata": {},
   "outputs": [
    {
     "data": {
      "text/plain": [
       "110"
      ]
     },
     "execution_count": 10,
     "metadata": {},
     "output_type": "execute_result"
    }
   ],
   "source": [
    "final = matrix[np.ix_([x for x in range(min_row, max_row + 1)], [x for x in range(min_col, max_col + 1)])]\n",
    "len(np.argwhere(final == '.'))"
   ]
  },
  {
   "cell_type": "code",
   "execution_count": 11,
   "id": "328363e1",
   "metadata": {},
   "outputs": [
    {
     "name": "stdout",
     "output_type": "stream",
     "text": [
      "Starting shape: (73, 73)\n",
      "On round 1\n",
      "On round 2\n",
      "On round 3\n",
      "On round 4\n",
      "On round 5\n",
      "On round 6\n",
      "On round 7\n",
      "On round 8\n",
      "On round 9\n",
      "On round 10\n"
     ]
    }
   ],
   "source": [
    "# larger Sample\n",
    "with open(\"data/day23.txt\", \"r\", encoding=\"UTF-8\") as f:\n",
    "    lines = f.read().split(\"\\n\")\n",
    "    \n",
    "# get matrix starting dimensions\n",
    "nrows = len(lines)\n",
    "ncols = len(lines[0])\n",
    "print(f\"Starting shape: {nrows, ncols}\")\n",
    "    \n",
    "# create matrix\n",
    "matrix = np.asarray([[x for x in l] for l in lines])\n",
    "matrix.shape = (nrows, ncols)\n",
    "\n",
    "# each step we'd want to expand prior to checks\n",
    "steps = 0 # always off by 1 from actual count\n",
    "pad_size = 1\n",
    "default = '.'\n",
    "\n",
    "while steps <= 9:\n",
    "    print(f\"On round {steps + 1}\")\n",
    "    # expand border\n",
    "    matrix = np.pad(matrix, pad_width=pad_size, mode='constant', constant_values=default)\n",
    "    \n",
    "    # figure out check order\n",
    "    check_order = check_list[steps % len(check_list)]\n",
    "    \n",
    "    # find eligible elves for movement\n",
    "    eligible_elves = full_scan(matrix, all_checks)\n",
    "    \n",
    "    if len(eligible_elves) == 0:\n",
    "        print(f\"No moves at {step}\")\n",
    "        break\n",
    "    \n",
    "    # find potential moves\n",
    "    moves = move_proposal(matrix, eligible_elves, check_dict, check_order)\n",
    "\n",
    "    # output moves, accounting for collisions\n",
    "    actual_movement = move_calcs(moves, move_dict)\n",
    "    \n",
    "    # make them move in the matrix\n",
    "    for (old_move, new_move) in actual_movement:\n",
    "        matrix[old_move] = '.'\n",
    "        matrix[new_move] = '#'\n",
    "    \n",
    "    steps += 1"
   ]
  },
  {
   "cell_type": "code",
   "execution_count": 12,
   "id": "cae6b473",
   "metadata": {},
   "outputs": [
    {
     "data": {
      "text/plain": [
       "4049"
      ]
     },
     "execution_count": 12,
     "metadata": {},
     "output_type": "execute_result"
    }
   ],
   "source": [
    "# must find min row, max row, min col, max col\n",
    "min_row = min([r[0] for r in np.argwhere(matrix == '#')])\n",
    "max_row = max([r[0] for r in np.argwhere(matrix == '#')])\n",
    "min_col = min([r[1] for r in np.argwhere(matrix == '#')])\n",
    "max_col = max([r[1] for r in np.argwhere(matrix == '#')])\n",
    "\n",
    "final = matrix[np.ix_([x for x in range(min_row, max_row + 1)], [x for x in range(min_col, max_col + 1)])]\n",
    "len(np.argwhere(final == '.'))"
   ]
  },
  {
   "cell_type": "code",
   "execution_count": 13,
   "id": "0141d146",
   "metadata": {},
   "outputs": [
    {
     "name": "stdout",
     "output_type": "stream",
     "text": [
      "Starting shape: (73, 73)\n",
      "No moves at 1021\n",
      "Total time: 79.75\n"
     ]
    }
   ],
   "source": [
    "# part 2: We just determine when we can't take anymore steps.\n",
    "import time\n",
    "with open(\"data/day23.txt\", \"r\", encoding=\"UTF-8\") as f:\n",
    "    lines = f.read().split(\"\\n\")\n",
    "    \n",
    "# get matrix starting dimensions\n",
    "nrows = len(lines)\n",
    "ncols = len(lines[0])\n",
    "print(f\"Starting shape: {nrows, ncols}\")\n",
    "    \n",
    "# create matrix\n",
    "matrix = np.asarray([[x for x in l] for l in lines])\n",
    "matrix.shape = (nrows, ncols)\n",
    "\n",
    "# each step we'd want to expand prior to checks\n",
    "steps = 0 # always off by 1 from actual count\n",
    "pad_size = 1\n",
    "default = '.'\n",
    "s = time.time()\n",
    "while True:\n",
    "    #print(f\"On round {steps + 1}\")\n",
    "    # expand border\n",
    "    matrix = np.pad(matrix, pad_width=pad_size, mode='constant', constant_values=default)\n",
    "    \n",
    "    # figure out check order\n",
    "    check_order = check_list[steps % len(check_list)]\n",
    "    \n",
    "    # find eligible elves for movement\n",
    "    eligible_elves = full_scan(matrix, all_checks)\n",
    "    \n",
    "    if len(eligible_elves) == 0:\n",
    "        print(f\"No moves at {steps + 1}\")\n",
    "        print(f\"Total time: {time.time() - s:.2f}\")\n",
    "        break\n",
    "    \n",
    "    # find potential moves\n",
    "    moves = move_proposal(matrix, eligible_elves, check_dict, check_order)\n",
    "\n",
    "    # output moves, accounting for collisions\n",
    "    actual_movement = move_calcs(moves, move_dict)\n",
    "    \n",
    "    # make them move in the matrix\n",
    "    for (old_move, new_move) in actual_movement:\n",
    "        matrix[old_move] = '.'\n",
    "        matrix[new_move] = '#'\n",
    "    \n",
    "    steps += 1"
   ]
  }
 ],
 "metadata": {
  "kernelspec": {
   "display_name": "ml",
   "language": "python",
   "name": "ml"
  },
  "language_info": {
   "codemirror_mode": {
    "name": "ipython",
    "version": 3
   },
   "file_extension": ".py",
   "mimetype": "text/x-python",
   "name": "python",
   "nbconvert_exporter": "python",
   "pygments_lexer": "ipython3",
   "version": "3.9.2"
  }
 },
 "nbformat": 4,
 "nbformat_minor": 5
}
