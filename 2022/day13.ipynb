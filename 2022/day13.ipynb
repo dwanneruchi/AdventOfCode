{
 "cells": [
  {
   "cell_type": "markdown",
   "id": "b7a8aeb6",
   "metadata": {},
   "source": [
    "### Very Late On This Because:\n",
    "\n",
    "Recursive functions really mess with me! This was good practice, definitely spent a few hours tinkering on this without recursion and eventually went to the reddit thread to see that people were using recursion.\n",
    "\n",
    "It makes sense now why it is very useful for handling these lists, so good learning! Especially from reading one poster's solution (https://github.com/tobstern/AoC2022/blob/master/day13.py)"
   ]
  },
  {
   "cell_type": "code",
   "execution_count": 1,
   "id": "79ee4dc1",
   "metadata": {},
   "outputs": [
    {
     "data": {
      "text/plain": [
       "[1, 2, 3, 4, 5, 6, 5, 7]"
      ]
     },
     "execution_count": 1,
     "metadata": {},
     "output_type": "execute_result"
    }
   ],
   "source": [
    "# Practice recursive functions: unnest a nested list -> this should help me run the problem\n",
    "# Screwed up the .extend, used a .append instead. Stack set me right\n",
    "def iterate_rec(l):\n",
    "    \"\"\" Unnest a nested list\"\"\"\n",
    "    long = []\n",
    "    for i in range(len(l)):\n",
    "        val = l[i]\n",
    "        if type(val) == list:\n",
    "            long.extend(iterate_rec(val))\n",
    "        else:\n",
    "            long.append(val)\n",
    "    \n",
    "    return long\n",
    "\n",
    "\n",
    "iterate_rec([1,2,3,[4,5,6, [5,7]]])"
   ]
  },
  {
   "cell_type": "code",
   "execution_count": 2,
   "id": "4daf0895",
   "metadata": {},
   "outputs": [],
   "source": [
    "# Recursive comparison function:\n",
    "# Similar to example above, when we run into a list object we need to exhaust it\n",
    "# Helpful resource: https://github.com/tobstern/AoC2022/blob/master/day13.py\n",
    "import time \n",
    "import numpy as np\n",
    "from ast import literal_eval\n",
    "\n",
    "def comparison(all_left, all_right):\n",
    "    \"\"\"\n",
    "    status:\n",
    "    - 0 indicates no decisions\n",
    "    - (-1) indicates incorrect order\n",
    "    - (1) indicates correct order\n",
    "    \n",
    "    \"\"\"\n",
    "    max_len = max(len(all_left), len(all_right))\n",
    "    status = 0\n",
    "    \n",
    "    for i in range(max_len):\n",
    "        \n",
    "        # check if we reached the end of left (proper order) or right (improper order)\n",
    "        if i >= len(all_left):\n",
    "            return 1\n",
    "        if i >= len(all_right):\n",
    "            return -1\n",
    "        \n",
    "        # unpack to ith element\n",
    "        left = all_left[i]\n",
    "        right = all_right[i]\n",
    "    \n",
    "        # start going through logic -> mainly recursive functions!\n",
    "        if type(left) == type(right) == int:\n",
    "            status = int_comp(left, right)\n",
    "        elif type(left) == type(right) == list:\n",
    "            status = comparison(left,right)\n",
    "        elif (type(left) == list) and (type(right) == int):\n",
    "            status = comparison(left, [right])\n",
    "        elif (type(left) == int) and (type(right) == list):\n",
    "            status = comparison([left], right)\n",
    "        else:\n",
    "            print(\"Something is wrong here\")\n",
    "        \n",
    "        # if we have an answer then return it\n",
    "        if status != 0:\n",
    "            return status\n",
    "    # end of list -> this is mostly important for the recursive element, which is why\n",
    "    # this caused me some annoyance in testing\n",
    "    return 0\n",
    "\n",
    "def int_comp(left, right):\n",
    "    \"\"\"\n",
    "    If both values are integers, the lower integer should come first. \n",
    "    If the left integer is lower than the right integer, the inputs are in the right order. \n",
    "    If the left integer is higher than the right integer, the inputs are not in the right order. \n",
    "    Otherwise, the inputs are the same integer; continue checking the next part of the input.\n",
    "    \"\"\"\n",
    "    if left > right:\n",
    "        return -1\n",
    "    elif right > left:\n",
    "        return 1\n",
    "    else:\n",
    "        return 0"
   ]
  },
  {
   "cell_type": "code",
   "execution_count": 3,
   "id": "366015f7",
   "metadata": {},
   "outputs": [
    {
     "name": "stdout",
     "output_type": "stream",
     "text": [
      "Step 1: Result 1\n",
      "Step 2: Result 1\n",
      "Step 3: Result -1\n",
      "Step 4: Result 1\n",
      "Step 5: Result -1\n",
      "Step 6: Result 1\n",
      "Step 7: Result -1\n",
      "Step 8: Result -1\n",
      "Final Sum: 13\n"
     ]
    }
   ],
   "source": [
    "# SAMPLE\n",
    "with open('data/day13_sample.txt') as fh:\n",
    "    data = [line.strip() for line in fh.readlines()]\n",
    "\n",
    "# Thank you python for `eval` (or the safer `literal_eval`)\n",
    "clean_data = [literal_eval(d) for d in data if d != '']\n",
    "\n",
    "# combine with zip: Didn't use this\n",
    "#zip_list = [list(zip(clean_data[i-1], clean_data[i])) for i in range(1, len(clean_data), 2)]\n",
    "\n",
    "step = 1 # tricky indexing\n",
    "final_sum = 0\n",
    "for i in range(0,len(clean_data),2):\n",
    "    #print(i, pair)\n",
    "    out = comparison(clean_data[i], clean_data[i+1])\n",
    "    print(f\"Step {step}: Result {out}\")\n",
    "    if out == 1:\n",
    "        final_sum += step\n",
    "    step += 1\n",
    "print(f\"Final Sum: {final_sum}\")"
   ]
  },
  {
   "cell_type": "code",
   "execution_count": 4,
   "id": "5899e514",
   "metadata": {},
   "outputs": [
    {
     "name": "stdout",
     "output_type": "stream",
     "text": [
      "Final Sum: 5605\n"
     ]
    }
   ],
   "source": [
    "with open('data/day13.txt') as fh:\n",
    "    data = [line.strip() for line in fh.readlines()]\n",
    "\n",
    "# Thank you python for `eval` (or the safer `literal_eval`)\n",
    "clean_data = [literal_eval(d) for d in data if d != '']\n",
    "\n",
    "step = 1 # tricky indexing\n",
    "final_sum = 0\n",
    "for i in range(0,len(clean_data),2):\n",
    "    out = comparison(clean_data[i], clean_data[i+1])\n",
    "    if out == 1:\n",
    "        final_sum += step\n",
    "    step += 1\n",
    "print(f\"Final Sum: {final_sum}\")"
   ]
  },
  {
   "cell_type": "markdown",
   "id": "dd5df8c7",
   "metadata": {},
   "source": [
    "### Part 2:\n",
    "\n",
    "Properly ordering....will brute force work....? (No it will not - couldn't even solve the sample!)\n",
    "\n",
    "Enter sorting algorithms, and one that I recall from a CS course is called `bubbleSort`. Refeshed my memory here: https://www.guru99.com/bubble-sort.html\n",
    "\n",
    "#### Basic idea of bubble sort in this application\n",
    "\n",
    "- Take the full input of lists (plus the two additional elements added)\n",
    "- Iterate over the first element (index 0):\n",
    "    - flag 0 just highlights status (location not solved)\n",
    "    - iterate over remaining items\n",
    "    - each item will be compared to other items using `comparison` function until `1` is returned (which indicates proper ordering)\n",
    "        - Note: I did a little switch for comparison just to get an order from lowest to highest\n",
    "    - when a proper order is found then the element spots are swapped and flag is set to 1\n",
    "    \n",
    "- This process will run until all items are in order, there are some nice visuals out there!"
   ]
  },
  {
   "cell_type": "code",
   "execution_count": 5,
   "id": "49f2768e",
   "metadata": {},
   "outputs": [],
   "source": [
    "def bubbleSort( theSeq ):\n",
    "    \"\"\"Source: https://www.guru99.com/bubble-sort.html\"\"\"\n",
    "    n = len( theSeq )\n",
    "\n",
    "    for i in range( n - 1 ) :\n",
    "        flag = 0\n",
    "        for j in range(n - 1) :\n",
    "            # check if order is correct\n",
    "            if comparison(theSeq[j + 1], theSeq[j]) == 1: \n",
    "                theSeq[j], theSeq[j + 1] = theSeq[j + 1], theSeq[j]\n",
    "                flag = 1\n",
    "\n",
    "        if flag == 0:\n",
    "            break\n",
    "\n",
    "    return theSeq"
   ]
  },
  {
   "cell_type": "code",
   "execution_count": 6,
   "id": "0fbe07fa",
   "metadata": {},
   "outputs": [
    {
     "name": "stdout",
     "output_type": "stream",
     "text": [
      "Total time: 0.00\n",
      "[[2]] is in index 10\n",
      "[[6]] is in index 14\n",
      "Part 2 Solution: 140\n"
     ]
    }
   ],
   "source": [
    "# sample\n",
    "with open('data/day13_sample.txt') as fh:\n",
    "    data = [line.strip() for line in fh.readlines()]\n",
    "\n",
    "# Thank you python for `eval` (or the safer `literal_eval`)\n",
    "clean_data = [literal_eval(d) for d in data if d != '']\n",
    "clean_data.append([[2]])\n",
    "clean_data.append([[6]])\n",
    "\n",
    "s = time.time()\n",
    "proper_order = bubbleSort(clean_data)\n",
    "print(f\"Total time: {time.time() - s:.2f}\")\n",
    "prod = 1\n",
    "for i, r in enumerate(proper_order):\n",
    "    if r in [[[2]], [[6]]]:\n",
    "        print(f\"{r} is in index {i+1}\")\n",
    "        prod *= (i+1)\n",
    "print(f\"Part 2 Solution: {prod}\")"
   ]
  },
  {
   "cell_type": "code",
   "execution_count": 7,
   "id": "41421057",
   "metadata": {},
   "outputs": [
    {
     "name": "stdout",
     "output_type": "stream",
     "text": [
      "Total time: 0.14\n",
      "[[2]] is in index 123\n",
      "[[6]] is in index 203\n",
      "Part 2 Solution: 24969\n"
     ]
    }
   ],
   "source": [
    "# actual\n",
    "with open('data/day13.txt') as fh:\n",
    "    data = [line.strip() for line in fh.readlines()]\n",
    "\n",
    "# Thank you python for `eval` (or the safer `literal_eval`)\n",
    "clean_data = [literal_eval(d) for d in data if d != '']\n",
    "clean_data.append([[2]])\n",
    "clean_data.append([[6]])\n",
    "\n",
    "s = time.time()\n",
    "proper_order = bubbleSort(clean_data)\n",
    "print(f\"Total time: {time.time() - s:.2f}\")\n",
    "prod = 1\n",
    "for i, r in enumerate(proper_order):\n",
    "    if r in [[[2]], [[6]]]:\n",
    "        print(f\"{r} is in index {i+1}\")\n",
    "        prod *= (i+1)\n",
    "print(f\"Part 2 Solution: {prod}\")"
   ]
  }
 ],
 "metadata": {
  "kernelspec": {
   "display_name": "ml",
   "language": "python",
   "name": "ml"
  },
  "language_info": {
   "codemirror_mode": {
    "name": "ipython",
    "version": 3
   },
   "file_extension": ".py",
   "mimetype": "text/x-python",
   "name": "python",
   "nbconvert_exporter": "python",
   "pygments_lexer": "ipython3",
   "version": "3.9.2"
  }
 },
 "nbformat": 4,
 "nbformat_minor": 5
}
