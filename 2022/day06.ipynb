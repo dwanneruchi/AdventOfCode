{
 "cells": [
  {
   "cell_type": "code",
   "execution_count": 1,
   "id": "d9bb9e75",
   "metadata": {},
   "outputs": [
    {
     "data": {
      "text/plain": [
       "1235"
      ]
     },
     "execution_count": 1,
     "metadata": {},
     "output_type": "execute_result"
    }
   ],
   "source": [
    "# samples\n",
    "from collections import deque\n",
    "\n",
    "# read data & \n",
    "with open('data/day06.txt') as fh:\n",
    "    data = [line.strip() for line in fh.readlines()]\n",
    "\n",
    "# samples\n",
    "s1 = \"mjqjpqmgbljsphdztnvjfqwrcgsmlb\"\n",
    "s2 = \"bvwbjplbgvbhsrlpgdmjqwftvncz\"\n",
    "s3 = \"nppdvjthqldpwncqszvftbrmjlhg\"\n",
    "\n",
    "def distinct_seq(string, n = 4):\n",
    "    \"\"\" Input a string and look for sequence of n distinct chars\"\"\"\n",
    "    my_q = deque() # keep tabs with a deque, allows for pop left!\n",
    "    for i, c in enumerate(string):\n",
    "        my_q.append(c)\n",
    "        if len(set(my_q)) == n:\n",
    "            return i+1\n",
    "        elif i+1 >= n:\n",
    "            my_q.popleft()\n",
    "        else:\n",
    "            continue\n",
    "\n",
    "# confirm tests pass\n",
    "assert(distinct_seq(s1) == 7)\n",
    "assert(distinct_seq(s2) == 5)\n",
    "assert(distinct_seq(s3) == 6)\n",
    "\n",
    "# run for Part 1  \n",
    "distinct_seq(data[0])"
   ]
  },
  {
   "cell_type": "code",
   "execution_count": 2,
   "id": "152baabb",
   "metadata": {},
   "outputs": [
    {
     "data": {
      "text/plain": [
       "3051"
      ]
     },
     "execution_count": 2,
     "metadata": {},
     "output_type": "execute_result"
    }
   ],
   "source": [
    "# samples for part 2\n",
    "s1 = \"mjqjpqmgbljsphdztnvjfqwrcgsmlb\"\n",
    "s2 = \"bvwbjplbgvbhsrlpgdmjqwftvncz\"\n",
    "s3 = \"nppdvjthqldpwncqszvftbrmjlhg\"\n",
    "\n",
    "# confirm tests pass\n",
    "assert(distinct_seq(s1, n = 14) == 19)\n",
    "assert(distinct_seq(s2, n = 14) == 23)\n",
    "assert(distinct_seq(s3, n = 14) == 23)\n",
    "\n",
    "distinct_seq(data[0], n = 14)"
   ]
  }
 ],
 "metadata": {
  "kernelspec": {
   "display_name": "ml",
   "language": "python",
   "name": "ml"
  },
  "language_info": {
   "codemirror_mode": {
    "name": "ipython",
    "version": 3
   },
   "file_extension": ".py",
   "mimetype": "text/x-python",
   "name": "python",
   "nbconvert_exporter": "python",
   "pygments_lexer": "ipython3",
   "version": "3.9.2"
  }
 },
 "nbformat": 4,
 "nbformat_minor": 5
}
