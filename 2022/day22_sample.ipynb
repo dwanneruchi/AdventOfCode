{
 "cells": [
  {
   "cell_type": "code",
   "execution_count": 1,
   "id": "5b0bdc7e",
   "metadata": {},
   "outputs": [
    {
     "name": "stdout",
     "output_type": "stream",
     "text": [
      "Max width of map: 16\n",
      "\n",
      "99999999...#9999\n",
      "99999999.#..9999\n",
      "99999999#...9999\n",
      "99999999....9999\n",
      "...#.......#9999\n",
      "........#...9999\n",
      "..#....#....9999\n",
      "..........#.9999\n",
      "99999999...#....\n",
      "99999999.....#..\n",
      "99999999.#......\n",
      "99999999......#.\n"
     ]
    }
   ],
   "source": [
    "import numpy as np \n",
    "from day22_function import movement, rotate, rotation\n",
    "\n",
    "# Run part 1, no debugger:\n",
    "with open(\"data/day22_sample.txt\", \"r\", encoding=\"UTF-8\") as f:\n",
    "    lines = f.read().split(\"\\n\")\n",
    "    \n",
    "# directions\n",
    "directions = \"10R5L5R10L4R5L5\"\n",
    "\n",
    "# total rows:\n",
    "row_count = len(lines)\n",
    "\n",
    "# find max row width\n",
    "max_width = max([len(row) for row in lines])\n",
    "print(f\"Max width of map: {max_width}\\n\")\n",
    "\n",
    "map_list = []\n",
    "for row in lines:\n",
    "    new_row = []\n",
    "    for v in row:\n",
    "        if v == ' ':\n",
    "            new_row.append('9')\n",
    "        else:\n",
    "            new_row.append(v)\n",
    "    \n",
    "    # check if we have proper size, if not add on \n",
    "    # a signifier of not accessible space\n",
    "    while len(new_row) < max_width:\n",
    "        new_row.append('9')\n",
    "    map_list.append(new_row)\n",
    "    \n",
    "# A functional map! Solid walls are marked by a #,\n",
    "# edge that can be jumped through are a 9\n",
    "#for row in map_list:\n",
    "#    print(''.join(x for x in row))\n",
    "    \n",
    "# convert to an array:\n",
    "mat = np.asarray([row for row in map_list])\n",
    "mat.shape = (row_count, max_width)\n",
    "\n",
    "for row in mat:\n",
    "    print(''.join(x for x in row))"
   ]
  },
  {
   "cell_type": "code",
   "execution_count": 2,
   "id": "5d755374",
   "metadata": {},
   "outputs": [
    {
     "name": "stdout",
     "output_type": "stream",
     "text": [
      "We are at the end, whatever\n"
     ]
    }
   ],
   "source": [
    "# Oh baby...getting a list of tuples\n",
    "i = - 1\n",
    "step = []\n",
    "clean_dir = []\n",
    "while i < len(directions):\n",
    "    i += 1\n",
    "    try:\n",
    "        v = int(directions[i])\n",
    "        step.append(directions[i])\n",
    "        #print(step)\n",
    "    except:\n",
    "        clean_dir.append(step)\n",
    "        step = []\n",
    "        try:\n",
    "            clean_dir.append(directions[i])\n",
    "        except IndexError:\n",
    "            print(\"We are at the end, whatever\")\n",
    "            \n",
    "# Building the groupings of move, direction\n",
    "final_dir = [(int(''.join(x for x in clean_dir[i+1])), clean_dir[i]) for i in range(1, len(clean_dir), 2)]\n",
    "\n",
    "# get initial movement, and we already have its direction\n",
    "initial_moves = (int(''.join(x for x in clean_dir[0])))"
   ]
  },
  {
   "cell_type": "code",
   "execution_count": 3,
   "id": "32f8c2fc",
   "metadata": {},
   "outputs": [],
   "source": [
    "# functions for movement:\n",
    "cur_dir = (0,1) # row is tuple index 0, col is tuple index 1\n",
    " \n",
    "# Going from moving Right to moving Downward\n",
    "assert(rotate(cur_dir, 'R', rotation) == (1,0))\n",
    "\n",
    "# Going from moving Right to moving Upward\n",
    "assert(rotate(cur_dir, 'L', rotation) == (-1,0))"
   ]
  },
  {
   "cell_type": "code",
   "execution_count": 4,
   "id": "43717b0d",
   "metadata": {},
   "outputs": [],
   "source": [
    "# We start at row = 0 (1st row), col = 8 (9th col)\n",
    "# Assume we want to move 10 steps to the right\n",
    "# we should hit a wall after 3 steps, meaning we should end at (0,10)\n",
    "assert(movement((0,8), (0,1), 10, mat) == (0,10))\n",
    "\n",
    "# Let's try a wraparound no wall: Row 6, Col 11 -> 1 step (A -> B example)\n",
    "# expect to end at Row 6, Col 0\n",
    "# check: mat[(6,(11,12,13))]\n",
    "assert(movement((6,11), (0,1), 1, mat) == (6,0))\n",
    "\n",
    "# Let's try a wraparound into a wall! Row 0, col 9 (we can move left 1 step, but next step transports us into wall)\n",
    "# shold end at Row 0, col 8 for steps >= 1\n",
    "assert(movement((0,9), (0,-1), 3, mat) == (0, 8))\n",
    "\n",
    "# Let's try a wraparound upwards: row 4, col 0 -> let's move upwards by 1, should get us to row (7,0)\n",
    "assert(movement((4,0), (-1,0), 1, mat) == (7,0))\n",
    "\n",
    "# Let's try a wraparound upwards where we hit a wall, and end: \n",
    "# row 7, col 3 move down and we hit a wall -> regardless of steps we should end at (7,3)\n",
    "assert(movement((7,3), (1,0), 5, mat) == (7,3))"
   ]
  },
  {
   "cell_type": "code",
   "execution_count": 5,
   "id": "bf3365b9",
   "metadata": {},
   "outputs": [
    {
     "name": "stdout",
     "output_type": "stream",
     "text": [
      "Starting at (0, 8), facing R, and will move 10\n",
      "5 (0, 1)\n",
      "5 (1, 0)\n",
      "10 (0, 1)\n",
      "4 (1, 0)\n",
      "5 (0, 1)\n",
      "5 (1, 0)\n",
      "Finished at row: 6, col: 8, facing (0, 1)\n",
      "Final answer: 6032\n"
     ]
    }
   ],
   "source": [
    "# calculate start\n",
    "start_row = 0\n",
    "start_col = np.where(mat[start_row,:] != '9')[0][0] # find lowest col without a '9' on same row\n",
    "location = (start_row, start_col)\n",
    "face = 'R'\n",
    "cur_dir = (0,1)\n",
    "print(f\"Starting at {location}, facing {face}, and will move {initial_moves}\")\n",
    "\n",
    "# do our movement to start: at start, moving right, \n",
    "location = movement(location, cur_dir, initial_moves, mat)\n",
    "for moves, rot_dir in final_dir:\n",
    "    print(moves, cur_dir)\n",
    "    \n",
    "    # modify our direction\n",
    "    cur_dir = rotate(cur_dir, rot_dir, rotation)\n",
    "    \n",
    "    # do our moves\n",
    "    location = movement(location, cur_dir, moves, mat)\n",
    "    \n",
    "row = location[0] + 1 # really trying to trick us...\n",
    "col = location[1] + 1 # tricky indexing\n",
    "face = cur_dir\n",
    "print(f\"Finished at row: {row}, col: {col}, facing {face}\")\n",
    "\n",
    "\n",
    "facing_val = {(0,1): 0, (1,0): 1, (-1,0): 2, (0,-1): 3}\n",
    "\n",
    "print(f\"Final answer: {sum([row * 1_000, col * 4, facing_val[face]])}\")"
   ]
  },
  {
   "cell_type": "code",
   "execution_count": null,
   "id": "d902488d",
   "metadata": {},
   "outputs": [],
   "source": []
  }
 ],
 "metadata": {
  "kernelspec": {
   "display_name": "ml",
   "language": "python",
   "name": "ml"
  },
  "language_info": {
   "codemirror_mode": {
    "name": "ipython",
    "version": 3
   },
   "file_extension": ".py",
   "mimetype": "text/x-python",
   "name": "python",
   "nbconvert_exporter": "python",
   "pygments_lexer": "ipython3",
   "version": "3.9.2"
  }
 },
 "nbformat": 4,
 "nbformat_minor": 5
}
