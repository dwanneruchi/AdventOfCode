{
 "cells": [
  {
   "cell_type": "code",
   "execution_count": 1,
   "id": "d9bb9e75",
   "metadata": {},
   "outputs": [],
   "source": [
    "# samples\n",
    "from collections import deque\n",
    "\n",
    "# read data & \n",
    "with open('data/day07_sample.txt') as fh:\n",
    "    data = [line.strip() for line in fh.readlines()]"
   ]
  },
  {
   "cell_type": "code",
   "execution_count": 2,
   "id": "152baabb",
   "metadata": {},
   "outputs": [],
   "source": [
    "# Part 1: Find sizes of each\n",
    "dir_dict = {}\n",
    "for i in range(len(data)):\n",
    "    if data[i] == '$ cd ..':\n",
    "        continue\n",
    "    elif data[i].startswith('$ cd'):\n",
    "        v = data[i].split('$ cd ')[1]\n",
    "        dir_dict[v] = []\n",
    "        try:\n",
    "            i += 2 # move ahead past LS command\n",
    "            next_step = data[i]\n",
    "            while not next_step.startswith('$'):\n",
    "                if next_step.startswith('dir'):\n",
    "                    dir_dict[v].append(next_step.split('dir ')[1])\n",
    "                else:\n",
    "                    dir_dict[v].append(int(next_step.split(' ')[0]))\n",
    "                i += 1\n",
    "                next_step = data[i]\n",
    "        except:\n",
    "            continue\n",
    "    else:\n",
    "        continue"
   ]
  },
  {
   "cell_type": "code",
   "execution_count": 3,
   "id": "f2c20c29",
   "metadata": {},
   "outputs": [
    {
     "data": {
      "text/plain": [
       "{'/': ['a', 14848514, 8504156, 'd'],\n",
       " 'a': ['e', 29116, 2557, 62596],\n",
       " 'e': [584],\n",
       " 'd': [4060174, 8033020, 5626152, 7214296]}"
      ]
     },
     "execution_count": 3,
     "metadata": {},
     "output_type": "execute_result"
    }
   ],
   "source": [
    "dir_dict"
   ]
  },
  {
   "cell_type": "code",
   "execution_count": 4,
   "id": "637d5f0e",
   "metadata": {},
   "outputs": [],
   "source": [
    "# and now recursion\n",
    "def recursionSum(d, k):\n",
    "    \"\"\"Iterate over values in key, adding counts)\"\"\"\n",
    "    sum_v = 0\n",
    "    \n",
    "    # iterate over each value of colors\n",
    "    for c in d[k]:\n",
    "        if c in d.keys():\n",
    "            sum_v = (sum_v + recursionSum(d, c))\n",
    "        else:\n",
    "            sum_v += c\n",
    "    return sum_v"
   ]
  },
  {
   "cell_type": "code",
   "execution_count": 5,
   "id": "76dc45a9",
   "metadata": {},
   "outputs": [
    {
     "name": "stdout",
     "output_type": "stream",
     "text": [
      "95437\n"
     ]
    }
   ],
   "source": [
    "final_sums = 0\n",
    "\n",
    "for k in dir_dict.keys():\n",
    "    out = recursionSum(dir_dict, k)\n",
    "    if out <= 100_000:\n",
    "        final_sums += out\n",
    "\n",
    "print(final_sums)"
   ]
  },
  {
   "cell_type": "code",
   "execution_count": 6,
   "id": "81fd01db",
   "metadata": {},
   "outputs": [],
   "source": [
    "import random \n",
    "\n",
    "with open('data/day07.txt') as fh:\n",
    "    data = [line.strip() for line in fh.readlines()]\n",
    "\n",
    "# Part 1: Find sizes of each\n",
    "dir_dict = {}\n",
    "for i in range(len(data)):\n",
    "    if data[i] == '$ cd ..':\n",
    "        continue\n",
    "    elif data[i].startswith('$ cd'):\n",
    "        v = data[i].split('$ cd ')[1]\n",
    "        dir_dict[v] = []\n",
    "        try:\n",
    "            i += 2 # move ahead past LS command\n",
    "            next_step = data[i]\n",
    "            while not next_step.startswith('$'):\n",
    "                if next_step.startswith('dir'):\n",
    "                    dir_dict[v].append(next_step.split('dir ')[1])\n",
    "                else:\n",
    "                    dir_dict[v].append(int(next_step.split(' ')[0]))\n",
    "                i += 1\n",
    "                next_step = data[i]\n",
    "        except:\n",
    "            continue\n",
    "    else:\n",
    "        continue"
   ]
  },
  {
   "cell_type": "code",
   "execution_count": 7,
   "id": "33803087",
   "metadata": {},
   "outputs": [
    {
     "ename": "AssertionError",
     "evalue": "",
     "output_type": "error",
     "traceback": [
      "\u001b[0;31m---------------------------------------------------------------------------\u001b[0m",
      "\u001b[0;31mAssertionError\u001b[0m                            Traceback (most recent call last)",
      "\u001b[0;32m/var/folders/mk/5nqd3xjx50q0c83t841l9hsw0000gn/T/ipykernel_14580/634083793.py\u001b[0m in \u001b[0;36m<module>\u001b[0;34m\u001b[0m\n\u001b[1;32m      2\u001b[0m \u001b[0;32massert\u001b[0m\u001b[0;34m(\u001b[0m\u001b[0mdir_dict\u001b[0m\u001b[0;34m[\u001b[0m\u001b[0;34m'wvdlv'\u001b[0m\u001b[0;34m]\u001b[0m \u001b[0;34m==\u001b[0m \u001b[0;34m[\u001b[0m\u001b[0;36m314303\u001b[0m\u001b[0;34m]\u001b[0m\u001b[0;34m)\u001b[0m\u001b[0;34m\u001b[0m\u001b[0;34m\u001b[0m\u001b[0m\n\u001b[1;32m      3\u001b[0m \u001b[0;32massert\u001b[0m\u001b[0;34m(\u001b[0m\u001b[0mdir_dict\u001b[0m\u001b[0;34m[\u001b[0m\u001b[0;34m'fjmbvhh'\u001b[0m\u001b[0;34m]\u001b[0m \u001b[0;34m==\u001b[0m \u001b[0;34m[\u001b[0m\u001b[0;36m244287\u001b[0m\u001b[0;34m,\u001b[0m \u001b[0;36m146029\u001b[0m\u001b[0;34m]\u001b[0m\u001b[0;34m)\u001b[0m\u001b[0;34m\u001b[0m\u001b[0;34m\u001b[0m\u001b[0m\n\u001b[0;32m----> 4\u001b[0;31m \u001b[0;32massert\u001b[0m\u001b[0;34m(\u001b[0m\u001b[0mdir_dict\u001b[0m\u001b[0;34m[\u001b[0m\u001b[0;34m'pjmc'\u001b[0m\u001b[0;34m]\u001b[0m \u001b[0;34m==\u001b[0m \u001b[0;34m[\u001b[0m\u001b[0;36m106609\u001b[0m\u001b[0;34m]\u001b[0m\u001b[0;34m)\u001b[0m \u001b[0;31m# ah shoot, i need to actually keep the full directory names (not just ignore the \"..\")\u001b[0m\u001b[0;34m\u001b[0m\u001b[0;34m\u001b[0m\u001b[0m\n\u001b[0m",
      "\u001b[0;31mAssertionError\u001b[0m: "
     ]
    }
   ],
   "source": [
    "# manual sanity checks\n",
    "assert(dir_dict['wvdlv'] == [314303])\n",
    "assert(dir_dict['fjmbvhh'] == [244287, 146029])\n",
    "assert(dir_dict['pjmc'] == [106609]) # ah shoot, i need to actually keep the full directory names (not just ignore the \"..\")\n"
   ]
  },
  {
   "cell_type": "markdown",
   "id": "7f8a9c11",
   "metadata": {},
   "source": [
    "### Early, Painful Finding:\n",
    "\n",
    "- As shown above, my manual value of `106609` did not match with my dictionary for key `pjmc`. This is because there are multiple directories called `pjmc` that have different full paths.\n",
    "- To handle this, below I use a `deque` to keep tabs on where I am in the path in order to store distinct versions of directories when needed. This was painful!\n",
    "- Note: the `///` instead of `/` doesn't matter as long as consistent."
   ]
  },
  {
   "cell_type": "code",
   "execution_count": 8,
   "id": "38842bc6",
   "metadata": {},
   "outputs": [
    {
     "data": {
      "text/plain": [
       "{'///': ['///a/', 14848514, 8504156, '///d/'],\n",
       " '///a/': ['///a/e/', 29116, 2557, 62596],\n",
       " '///a/e/': [584],\n",
       " '///d/': [4060174, 8033020, 5626152, 7214296]}"
      ]
     },
     "execution_count": 8,
     "metadata": {},
     "output_type": "execute_result"
    }
   ],
   "source": [
    "# Part 1: Find sizes of each\n",
    "dir_dict = {}\n",
    "# read data & \n",
    "with open('data/day07_sample.txt') as fh:\n",
    "    data = [line.strip() for line in fh.readlines()]\n",
    "\n",
    "for i in range(len(data)):\n",
    "    if data[i] == '$ cd /':\n",
    "        path_deque = deque(['/'])\n",
    "        \n",
    "    if data[i] == '$ cd ..':\n",
    "        path_deque.pop()\n",
    "    elif data[i].startswith('$ cd'):\n",
    "        v = data[i].split('$ cd ')[1]\n",
    "        #print(v)\n",
    "        path_deque.append(f'{v}/')\n",
    "        #print(path_deque)\n",
    "        path_key = ''.join([x for x in path_deque])\n",
    "        dir_dict[path_key] = []\n",
    "        try:\n",
    "            i += 2 # move ahead past LS command\n",
    "            next_step = data[i]\n",
    "            while not next_step.startswith('$'):\n",
    "                if next_step.startswith('dir'):\n",
    "                    v = next_step.split('dir ')[1]\n",
    "                    dir_dict[path_key].append(f'{path_key}{v}/')\n",
    "                else:\n",
    "                    dir_dict[path_key].append(int(next_step.split(' ')[0]))\n",
    "                i += 1\n",
    "                next_step = data[i]\n",
    "        except:\n",
    "            continue\n",
    "    else:\n",
    "        continue\n",
    "dir_dict"
   ]
  },
  {
   "cell_type": "code",
   "execution_count": 9,
   "id": "65152172",
   "metadata": {},
   "outputs": [
    {
     "name": "stdout",
     "output_type": "stream",
     "text": [
      "95437\n"
     ]
    }
   ],
   "source": [
    "final_sums = 0\n",
    "\n",
    "for k in dir_dict.keys():\n",
    "    out = recursionSum(dir_dict, k)\n",
    "    if out <= 100_000:\n",
    "        final_sums += out\n",
    "\n",
    "print(final_sums)"
   ]
  },
  {
   "cell_type": "code",
   "execution_count": 10,
   "id": "07aabcbc",
   "metadata": {},
   "outputs": [
    {
     "name": "stdout",
     "output_type": "stream",
     "text": [
      "1501149\n"
     ]
    }
   ],
   "source": [
    "# actual data\n",
    "with open('data/day07.txt') as fh:\n",
    "    data = [line.strip() for line in fh.readlines()]\n",
    "    \n",
    "# Part 1: Find sizes of each\n",
    "dir_dict = {}\n",
    "\n",
    "for i in range(len(data)):\n",
    "    if data[i] == '$ cd /':\n",
    "        path_deque = deque(['/'])\n",
    "        \n",
    "    if data[i] == '$ cd ..':\n",
    "        path_deque.pop()\n",
    "    elif data[i].startswith('$ cd'):\n",
    "        v = data[i].split('$ cd ')[1]\n",
    "        path_deque.append(f'{v}/')\n",
    "        path_key = ''.join([x for x in path_deque])\n",
    "        dir_dict[path_key] = []\n",
    "        try:\n",
    "            i += 2 # move ahead past LS command\n",
    "            next_step = data[i]\n",
    "            while not next_step.startswith('$'):\n",
    "                if next_step.startswith('dir'):\n",
    "                    v = next_step.split('dir ')[1]\n",
    "                    dir_dict[path_key].append(f'{path_key}{v}/')\n",
    "                else:\n",
    "                    dir_dict[path_key].append(int(next_step.split(' ')[0]))\n",
    "                i += 1\n",
    "                next_step = data[i]\n",
    "        except:\n",
    "            continue\n",
    "    else:\n",
    "        continue\n",
    "            \n",
    "final_sums = 0\n",
    "final_sum_dict = {}\n",
    "for k in dir_dict.keys():\n",
    "    out = recursionSum(dir_dict, k)\n",
    "    final_sum_dict[k] = out\n",
    "    if out <= 100_000:\n",
    "        final_sums += out\n",
    "        \n",
    "\n",
    "print(final_sums)"
   ]
  },
  {
   "cell_type": "code",
   "execution_count": 11,
   "id": "f003cbc1",
   "metadata": {},
   "outputs": [
    {
     "name": "stdout",
     "output_type": "stream",
     "text": [
      "We need to delete at least: 9199225\n",
      "In path /// found space of 49199225\n",
      "In path ///gwnwqcgq/ found space of 44484503\n",
      "In path ///gwnwqcgq/mdhln/ found space of 22685292\n",
      "In path ///gwnwqcgq/mdhln/jhmvgjrr/ found space of 10096985\n",
      "10096985\n"
     ]
    }
   ],
   "source": [
    "### Part 2: Thank you for going easier on us\n",
    "total = 70000000\n",
    "need = 30000000\n",
    "used = final_sum_dict['///']\n",
    "unused = total - used\n",
    "remaining_need = need - unused\n",
    "print(f\"We need to delete at least: {remaining_need}\")\n",
    "\n",
    "min_v = 999_999_999\n",
    "for k,v in final_sum_dict.items():\n",
    "    if v >= remaining_need:\n",
    "        if v < min_v:\n",
    "            min_v = v\n",
    "            print(f\"In path {k} found space of {v}\")\n",
    "print(min_v)"
   ]
  }
 ],
 "metadata": {
  "kernelspec": {
   "display_name": "ml",
   "language": "python",
   "name": "ml"
  },
  "language_info": {
   "codemirror_mode": {
    "name": "ipython",
    "version": 3
   },
   "file_extension": ".py",
   "mimetype": "text/x-python",
   "name": "python",
   "nbconvert_exporter": "python",
   "pygments_lexer": "ipython3",
   "version": "3.9.2"
  }
 },
 "nbformat": 4,
 "nbformat_minor": 5
}
