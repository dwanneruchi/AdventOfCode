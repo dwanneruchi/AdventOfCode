{
 "cells": [
  {
   "cell_type": "markdown",
   "id": "61db2948",
   "metadata": {},
   "source": [
    "### Part 1:\n",
    "\n",
    "For each step"
   ]
  },
  {
   "cell_type": "code",
   "execution_count": 1,
   "id": "1470e39f",
   "metadata": {},
   "outputs": [],
   "source": [
    "from dataclasses import dataclass, field\n",
    "import numpy as np\n",
    "from matplotlib import pyplot as plt\n",
    "\n",
    "@dataclass\n",
    "class seg:\n",
    "    \"\"\"Class for keeping track location of segment of a knots.\"\"\"\n",
    "    x: int\n",
    "    y: int\n",
    "    locations: set = field(default_factory=set)\n",
    "    \n",
    "    def get_location(self):\n",
    "        \"\"\"Save & return location\"\"\"\n",
    "        self.locations.add((self.x, self.y))\n",
    "        return (self.x, self.y)\n",
    "    \n",
    "    def return_location(self):\n",
    "        \"\"\"Only return location\"\"\"\n",
    "        return (self.x, self.y)\n",
    "    \n",
    "    def update_head_location(self, direction, val):\n",
    "        \"\"\"Accepts direction and integer value & updates, only done by true head\"\"\"\n",
    "        if direction == 'R':\n",
    "            self.x += val\n",
    "        elif direction == 'L':\n",
    "            self.x -= val\n",
    "        elif direction == 'U':\n",
    "            self.y += val\n",
    "        elif direction == 'D':\n",
    "            self.y -= val \n",
    "        else:\n",
    "            raise ValueError('You entered an invalid direction')   \n",
    "        \n",
    "    def compare_to_head(self, head_class):\n",
    "        \"\"\"Compare location to head, update location accordingly\"\"\"\n",
    "        xh, yh = head_class.get_location()\n",
    "        \n",
    "        x_diff = abs(xh - self.x)\n",
    "        y_diff = abs(yh - self.y)\n",
    "        \n",
    "        # Handle diagonal where x has biggest shift: x moves to 1 away, y same axis\n",
    "        if (x_diff == 2) and (y_diff == 1):\n",
    "            self.y = yh\n",
    "            if xh - self.x >= 1: # positive case\n",
    "                self.x = xh - 1\n",
    "            else: # negative case\n",
    "                self.x = xh + 1            \n",
    "        elif (x_diff == 1) and (y_diff == 2):\n",
    "            self.x = xh\n",
    "            if yh - self.y >= 1: # positive case\n",
    "                self.y = yh - 1\n",
    "            else: # negative case\n",
    "                self.y = yh + 1            \n",
    "        # head is only diff on x-axis\n",
    "        elif (x_diff >= 1):\n",
    "            if xh - self.x >= 1: # positive case\n",
    "                self.x = xh - 1\n",
    "            else: # negative case\n",
    "                self.x = xh + 1\n",
    "        elif (y_diff >= 1):\n",
    "            if yh - self.y >= 1: # positive case\n",
    "                self.y = yh - 1\n",
    "            else: # negative case\n",
    "                self.y = yh + 1  \n",
    "        else:\n",
    "            pass"
   ]
  },
  {
   "cell_type": "code",
   "execution_count": 2,
   "id": "87f768f7",
   "metadata": {},
   "outputs": [],
   "source": [
    "# read sample data\n",
    "with open('data/day09_sample.txt') as fh:\n",
    "    data = [line.strip() for line in fh.readlines()]\n",
    "moves = [x.split(' ') for x in data]\n",
    "\n",
    "H = seg(0,0)\n",
    "T = seg(0,0)\n",
    "T.get_location()\n",
    "for m in moves:\n",
    "    for _ in range(int(m[1])):\n",
    "        H.update_head_location(m[0], 1)\n",
    "        T.compare_to_head(H)\n",
    "        T.get_location()\n",
    "assert(len(T.locations) == 13)"
   ]
  },
  {
   "cell_type": "code",
   "execution_count": 3,
   "id": "739fe27c",
   "metadata": {},
   "outputs": [
    {
     "name": "stdout",
     "output_type": "stream",
     "text": [
      "6098\n",
      "6897\n"
     ]
    },
    {
     "data": {
      "image/png": "[encoded data removed]",
      "text/plain": [
       "<Figure size 432x288 with 1 Axes>"
      ]
     },
     "metadata": {
      "needs_background": "light"
     },
     "output_type": "display_data"
    }
   ],
   "source": [
    "# read data\n",
    "with open('data/day09.txt') as fh:\n",
    "    data = [line.strip() for line in fh.readlines()]\n",
    "moves = [x.split(' ') for x in data]\n",
    "\n",
    "H = seg(0,0)\n",
    "T = seg(0,0)\n",
    "T.get_location()\n",
    "t_coords = []\n",
    "for m in moves:\n",
    "    for _ in range(int(m[1])):\n",
    "        H.update_head_location(m[0], 1)\n",
    "        T.compare_to_head(H)\n",
    "        t_coords.append(T.get_location())\n",
    "        \n",
    "print(len(T.locations))\n",
    "print(len(H.locations)) # this should hold up in part B also\n",
    "data = np.array(t_coords)\n",
    "x, y = data.T\n",
    "plt.scatter(x,y)\n",
    "plt.show();"
   ]
  },
  {
   "cell_type": "markdown",
   "id": "1445b069",
   "metadata": {},
   "source": [
    "### Part B:\n",
    "\n",
    "Logic: \n",
    "- I should be able to compare the `ith` node to the `ith + 1` node, and only use the `update_head_location` once per move on the `head` (0th index)"
   ]
  },
  {
   "cell_type": "code",
   "execution_count": 4,
   "id": "ed364659",
   "metadata": {},
   "outputs": [
    {
     "data": {
      "image/png": "[encoded data removed]",
      "text/plain": [
       "<Figure size 432x288 with 1 Axes>"
      ]
     },
     "metadata": {
      "needs_background": "light"
     },
     "output_type": "display_data"
    }
   ],
   "source": [
    "# read sample data\n",
    "with open('data/day09_sample.txt') as fh:\n",
    "    data = [line.strip() for line in fh.readlines()]\n",
    "moves = [x.split(' ') for x in data]\n",
    "\n",
    "segments = [seg(0,0) for _ in range(10)] # technically 9 heads & 9 tails\n",
    "\n",
    "# update location to track start\n",
    "[t.get_location() for t in segments]\n",
    "\n",
    "for m in moves:\n",
    "    for _ in range(int(m[1])):\n",
    "        segments[0].update_head_location(m[0], 1) # update main head, which will have a ripple effect on others\n",
    "        for i in range(9):\n",
    "            segments[i+1].compare_to_head(segments[i])\n",
    "            segments[i+1].get_location()\n",
    "# confirm pass\n",
    "assert(len(segments[9].locations) == 1)\n",
    "\n",
    "# read sample data b -> more interesting visual\n",
    "with open('data/day09_sampleb.txt') as fh:\n",
    "    data = [line.strip() for line in fh.readlines()]\n",
    "\n",
    "# build moves out\n",
    "moves = [x.split(' ') for x in data]\n",
    "segments = [seg(0,0) for _ in range(10)] # technically 9 heads & 9 tails\n",
    "\n",
    "# update location to track start\n",
    "[t.get_location() for t in segments]\n",
    "t_coords = []\n",
    "\n",
    "for m in moves:\n",
    "    for _ in range(int(m[1])):\n",
    "        segments[0].update_head_location(m[0], 1) # update main head, which will have a ripple effect on others\n",
    "        for i in range(9):\n",
    "            segments[i+1].compare_to_head(segments[i])\n",
    "            segments[i+1].get_location()\n",
    "            if i == 8:\n",
    "                t_coords.append(segments[i+1].return_location())\n",
    "\n",
    "# plot the tail\n",
    "assert(len(segments[9].locations) == 36)\n",
    "data = np.array(t_coords)\n",
    "x, y = data.T\n",
    "plt.scatter(x,y)\n",
    "plt.show();"
   ]
  },
  {
   "cell_type": "code",
   "execution_count": 5,
   "id": "dcc4e744",
   "metadata": {},
   "outputs": [
    {
     "name": "stdout",
     "output_type": "stream",
     "text": [
      "2328\n",
      "6897\n"
     ]
    },
    {
     "data": {
      "image/png": "[encoded data removed]",
      "text/plain": [
       "<Figure size 432x288 with 1 Axes>"
      ]
     },
     "metadata": {
      "needs_background": "light"
     },
     "output_type": "display_data"
    }
   ],
   "source": [
    "# read sample data\n",
    "with open('data/day09.txt') as fh:\n",
    "    data = [line.strip() for line in fh.readlines()]\n",
    "moves = [x.split(' ') for x in data]\n",
    "\n",
    "segments = [seg(0,0) for _ in range(10)] # technically 9 heads & 9 tails\n",
    "\n",
    "# update location to track start\n",
    "[t.get_location() for t in segments]\n",
    "h_coords = []\n",
    "t_coords = []\n",
    "\n",
    "for m in moves:\n",
    "    for _ in range(int(m[1])):\n",
    "        segments[0].update_head_location(m[0], 1) # update main head, which will have a ripple effect on others\n",
    "        h_coords.append((segments[0].x, segments[0].y))\n",
    "        for i in range(9):\n",
    "            segments[i+1].compare_to_head(segments[i])\n",
    "            segments[i+1].get_location()\n",
    "            if i == 8:\n",
    "                t_coords.append((segments[9].return_location()))\n",
    "\n",
    "# plot the tail\n",
    "print(len(segments[9].locations))\n",
    "print(len(segments[0].locations)) # head will travel just as far as in part 1\n",
    "data = np.array(list(set(h_coords)))\n",
    "x1, y1 = data.T\n",
    "data = np.array(list(set(t_coords)))\n",
    "x2, y2 = data.T\n",
    "plt.scatter(x1,y1, c = 'b', label = 'Head')\n",
    "plt.scatter(x2,y2, c = 'r', label = 'Tail')\n",
    "plt.legend()\n",
    "plt.show();"
   ]
  },
  {
   "cell_type": "code",
   "execution_count": null,
   "id": "c4b01e5c",
   "metadata": {},
   "outputs": [],
   "source": []
  }
 ],
 "metadata": {
  "kernelspec": {
   "display_name": "ml",
   "language": "python",
   "name": "ml"
  },
  "language_info": {
   "codemirror_mode": {
    "name": "ipython",
    "version": 3
   },
   "file_extension": ".py",
   "mimetype": "text/x-python",
   "name": "python",
   "nbconvert_exporter": "python",
   "pygments_lexer": "ipython3",
   "version": "3.9.2"
  }
 },
 "nbformat": 4,
 "nbformat_minor": 5
}
