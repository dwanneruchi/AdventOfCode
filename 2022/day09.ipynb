{
 "cells": [
  {
   "cell_type": "markdown",
   "id": "5e093360",
   "metadata": {},
   "source": [
    "### Part 1:\n",
    "\n",
    "For each step incremeny the head by one and then calculate move for tail."
   ]
  },
  {
   "cell_type": "code",
   "execution_count": 1,
   "id": "1470e39f",
   "metadata": {},
   "outputs": [],
   "source": [
    "from dataclasses import dataclass, field\n",
    "import numpy as np\n",
    "from matplotlib import pyplot as plt\n",
    "\n",
    "@dataclass\n",
    "class seg:\n",
    "    \"\"\"Class for keeping track location of segment of a knots.\"\"\"\n",
    "    x: int\n",
    "    y: int\n",
    "    locations: set = field(default_factory=set)\n",
    "    \n",
    "    def get_location(self):\n",
    "        \"\"\"Save & return location\"\"\"\n",
    "        #print(self.x,self.y)\n",
    "        self.locations.add((self.x, self.y))\n",
    "        return (self.x, self.y)\n",
    "\n",
    "    def update_head_location(self, direction, val):\n",
    "        \"\"\"Accepts direction and integer value & updates, only done by true head\"\"\"\n",
    "        if direction == 'R':\n",
    "            self.x += val\n",
    "        elif direction == 'L':\n",
    "            self.x -= val\n",
    "        elif direction == 'U':\n",
    "            self.y += val\n",
    "        elif direction == 'D':\n",
    "            self.y -= val \n",
    "        else:\n",
    "            raise ValueError('You entered an invalid direction')   \n",
    "        \n",
    "    def compare_to_head(self, head_class):\n",
    "        \"\"\"Compare location to head, update location accordingly\"\"\"\n",
    "        \n",
    "        # read \"head\" locations\n",
    "        xh, yh = head_class.get_location()\n",
    "        #print(f\"{(self.x,self.y)}, vs {(xh, yh)}\")\n",
    "        \n",
    "        # find diffs relative to self (so a positive indicates a negative move by head\n",
    "        # wish I wrote this the other way...\n",
    "        diff_x = self.x - xh\n",
    "        diff_y = self.y - yh\n",
    "        \n",
    "        if (abs(diff_x) <= 1) and (abs(diff_y) <= 1): # touching case\n",
    "            pass\n",
    "        elif (diff_x >= 1) and (diff_y >= 1): # left, down\n",
    "            self.x -= 1\n",
    "            self.y -= 1\n",
    "        elif (diff_x <= -1) and (diff_y >= 1): # right, down\n",
    "            self.x += 1\n",
    "            self.y -= 1\n",
    "        elif (diff_x <= -1) and (diff_y <= -1): # right, up\n",
    "            self.x += 1\n",
    "            self.y += 1\n",
    "        elif (diff_x >= 1) and (diff_y <= -1): # left, up\n",
    "            self.x -= 1\n",
    "            self.y += 1\n",
    "        elif (diff_x > 1):\n",
    "                self.x -= 1\n",
    "        elif (diff_x < -1):\n",
    "                self.x += 1\n",
    "        elif (diff_y > 1):\n",
    "                self.y -= 1\n",
    "        elif (diff_y < -1):\n",
    "                self.y += 1 \n",
    "        else:\n",
    "            raise ValueError('Something is incorrect in your head to tail comparison') "
   ]
  },
  {
   "cell_type": "code",
   "execution_count": 2,
   "id": "87f768f7",
   "metadata": {},
   "outputs": [],
   "source": [
    "# read sample data\n",
    "with open('data/day09_sample.txt') as fh:\n",
    "    data = [line.strip() for line in fh.readlines()]\n",
    "moves = [x.split(' ') for x in data]\n",
    "\n",
    "# establish H & T\n",
    "H = seg(0,0)\n",
    "T = seg(0,0)\n",
    "T.get_location()\n",
    "\n",
    "# iterate over each move, and increment in direction step by step based on int val\n",
    "for m in moves:\n",
    "    for _ in range(int(m[1])):\n",
    "        H.update_head_location(m[0], 1)\n",
    "        T.compare_to_head(H)\n",
    "        T.get_location()\n",
    "\n",
    "assert(len(T.locations) == 13)"
   ]
  },
  {
   "cell_type": "code",
   "execution_count": 3,
   "id": "739fe27c",
   "metadata": {},
   "outputs": [
    {
     "name": "stdout",
     "output_type": "stream",
     "text": [
      "6098\n",
      "6897\n"
     ]
    },
    {
     "data": {
      "image/png": "[encoded data removed]",
      "text/plain": [
       "<Figure size 432x288 with 1 Axes>"
      ]
     },
     "metadata": {
      "needs_background": "light"
     },
     "output_type": "display_data"
    }
   ],
   "source": [
    "# read data\n",
    "with open('data/day09.txt') as fh:\n",
    "    data = [line.strip() for line in fh.readlines()]\n",
    "moves = [x.split(' ') for x in data]\n",
    "\n",
    "H = seg(0,0)\n",
    "T = seg(0,0)\n",
    "T.get_location()\n",
    "t_coords = []\n",
    "for m in moves:\n",
    "    for _ in range(int(m[1])):\n",
    "        H.update_head_location(m[0], 1)\n",
    "        H.get_location()\n",
    "        T.compare_to_head(H)\n",
    "        t_coords.append(T.get_location())\n",
    "        \n",
    "print(len(T.locations))\n",
    "print(len(H.locations)) # this should hold up in part B also\n",
    "data = np.array(t_coords)\n",
    "x, y = data.T\n",
    "plt.scatter(x,y)\n",
    "plt.show();"
   ]
  },
  {
   "cell_type": "markdown",
   "id": "e53fb11a",
   "metadata": {},
   "source": [
    "### Part B:\n",
    "\n",
    "Logic: \n",
    "- I should be able to compare the `ith` node to the `ith + 1` node, and only use the `update_head_location` once per move on the `head` (0th index)\n",
    "- Once the `head` (0th index) is updated, all subsequent indices are updated as needed."
   ]
  },
  {
   "cell_type": "code",
   "execution_count": 4,
   "id": "8561bee6",
   "metadata": {},
   "outputs": [
    {
     "data": {
      "image/png": "[encoded data removed]",
      "text/plain": [
       "<Figure size 432x288 with 1 Axes>"
      ]
     },
     "metadata": {
      "needs_background": "light"
     },
     "output_type": "display_data"
    }
   ],
   "source": [
    "# read sample data\n",
    "with open('data/day09_sample.txt') as fh:\n",
    "    data = [line.strip() for line in fh.readlines()]\n",
    "moves = [x.split(' ') for x in data]\n",
    "\n",
    "segments = [seg(0,0) for _ in range(10)] # technically 9 heads & 9 tails\n",
    "\n",
    "# update location to track start\n",
    "[t.get_location() for t in segments]\n",
    "\n",
    "for m in moves:\n",
    "    for _ in range(int(m[1])):\n",
    "        segments[0].update_head_location(m[0], 1) # update main head, which will have a ripple effect on others\n",
    "        for i in range(9):\n",
    "            segments[i+1].compare_to_head(segments[i])\n",
    "            segments[i+1].get_location()\n",
    "\n",
    "# confirm pass\n",
    "assert(len(segments[9].locations) == 1)\n",
    "\n",
    "# read sample data b -> more interesting visual\n",
    "with open('data/day09_sampleb.txt') as fh:\n",
    "    data = [line.strip() for line in fh.readlines()]\n",
    "\n",
    "# build moves out\n",
    "moves = [x.split(' ') for x in data]\n",
    "segments = [seg(0,0) for _ in range(10)] # technically 9 heads & 9 tails\n",
    "\n",
    "# update location to track start\n",
    "[t.get_location() for t in segments]\n",
    "t_coords = []\n",
    "\n",
    "for m in moves:\n",
    "    for _ in range(int(m[1])):\n",
    "        segments[0].update_head_location(m[0], 1) # update main head, which will have a ripple effect on others\n",
    "        for i in range(9):\n",
    "            segments[i+1].compare_to_head(segments[i])\n",
    "            segments[i+1].get_location()\n",
    "            if i == 8:\n",
    "                t_coords.append(segments[i+1].get_location()) # for visualization\n",
    "\n",
    "# plot the tail\n",
    "assert(len(segments[9].locations) == 36)\n",
    "data = np.array(t_coords)\n",
    "x, y = data.T\n",
    "plt.scatter(x,y)\n",
    "plt.show();"
   ]
  },
  {
   "cell_type": "code",
   "execution_count": 5,
   "id": "4c4eb9bc",
   "metadata": {},
   "outputs": [
    {
     "name": "stdout",
     "output_type": "stream",
     "text": [
      "10\n",
      "2597\n",
      "6897\n"
     ]
    },
    {
     "data": {
      "image/png": "[encoded data removed]",
      "text/plain": [
       "<Figure size 432x288 with 1 Axes>"
      ]
     },
     "metadata": {
      "needs_background": "light"
     },
     "output_type": "display_data"
    }
   ],
   "source": [
    "# read sample data\n",
    "with open('data/day09.txt') as fh:\n",
    "    data = [line.strip() for line in fh.readlines()]\n",
    "moves = [x.split(' ') for x in data]\n",
    "\n",
    "segments = [seg(0,0) for _ in range(10)] # technically 9 heads & 9 tails\n",
    "print(len(segments))\n",
    "\n",
    "# update location to track start\n",
    "[t.get_location() for t in segments]\n",
    "h_coords = []\n",
    "t_coords = []\n",
    "\n",
    "for m in moves:\n",
    "    for _ in range(int(m[1])):\n",
    "        segments[0].update_head_location(m[0], 1) # update main head, which will have a ripple effect on others\n",
    "        segments[0].get_location()\n",
    "        h_coords.append((segments[0].x, segments[0].y))\n",
    "        for i in range(9):\n",
    "            segments[i+1].compare_to_head(segments[i])\n",
    "            segments[i+1].get_location()\n",
    "            if i == 8:\n",
    "                t_coords.append((segments[9].get_location()))\n",
    "\n",
    "print(len(segments[9].locations))\n",
    "print(len(segments[0].locations)) # head will travel just as far as in part 1\n",
    "\n",
    "# plot for fun\n",
    "data = np.array(list(set(h_coords)))\n",
    "x1, y1 = data.T\n",
    "data = np.array(list(set(t_coords)))\n",
    "x2, y2 = data.T\n",
    "plt.scatter(x1,y1, c = 'b', label = 'Head', alpha = 0.5)\n",
    "plt.scatter(x2,y2, c = 'r', label = 'Tail', alpha = 0.5)\n",
    "plt.legend()\n",
    "plt.show();"
   ]
  }
 ],
 "metadata": {
  "kernelspec": {
   "display_name": "ml",
   "language": "python",
   "name": "ml"
  },
  "language_info": {
   "codemirror_mode": {
    "name": "ipython",
    "version": 3
   },
   "file_extension": ".py",
   "mimetype": "text/x-python",
   "name": "python",
   "nbconvert_exporter": "python",
   "pygments_lexer": "ipython3",
   "version": "3.9.2"
  }
 },
 "nbformat": 4,
 "nbformat_minor": 5
}
