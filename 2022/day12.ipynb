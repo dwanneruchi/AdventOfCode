{
 "cells": [
  {
   "cell_type": "markdown",
   "id": "aaaf1c37",
   "metadata": {},
   "source": [
    "### Part 1: Approach\n",
    "\n",
    "I needed to seek out a resource for a search algorithm, which I have listed below. Tried repurposing my Djikstra's algo from last year (day 15) but something was off)\n",
    "\n",
    "Below is an overview of how the search works:\n",
    "\n",
    "#### Preparing Data:\n",
    "- The data should be stored as a graph, which I have done by using a dictionary:\n",
    "    - each key represents a node, each value represents an adjacent node\n",
    "    - ~~also important: I moved away from using coordinates and instead calculated an integer value to represent each coordinate by taking `row coord + col coord * num_cols`. This equation ensures a clean mapping from coordinate to integer, and each integer can now represent a node in full.~~\n",
    "    - ~~Finally, I made the end node `999_999`, this mattered more in early experimentation and actually shouldn't matter now.~~\n",
    "    \n",
    "    \n",
    "#### Path Search: BFS\n",
    "\n",
    "- Breadth-first search is going to start at our root (`starting coordinate`) and explore all other \"root level\" (which does not exist for this problem)\n",
    "    - We also maintain a previous nodes list so we don't backtrack\n",
    "\n",
    "**Now we move to our adjacent nodes which is in our while loop**\n",
    "\n",
    "- While loop logic:\n",
    "    - Check if the path_index is smaller than length of path list:\n",
    "        if not then we actually had no new nodes to tack on (this occurs under the `add new paths` section) which indicates we have run out of search space. This will yield an automatic `return empty list` indicating it is not possible to traverse (example below)\n",
    "        \n",
    "- Assume we are now in the while loop, we have the following process:\n",
    "    - First we get out `current_path`, initially it will just have our `start` but over time we will add to this\n",
    "    - We then find the `last_node` we visited in `current_path`, this is used to find all adjacent nodes \n",
    "    - If our `end node (node2)` appears in our adjacent nodes then we stop -> we have solved the problem. \n",
    "        - This threw me off initially but this is fine to do since we have already checked each of the other depths. At this point we are dealing with similarly-lengthed listed and adjacent nodes, so returning here would indicate our shortest list (not returning here would mean we keep searching down a longer list)\n",
    "    - If not, then we iterate over each node (this is the `breadth` component, we aren't just digging deep, rather we span a wide net around options our node touches\n",
    "        - With each next node we confirm we haven't visited it (if we have then we pass to the next node)\n",
    "        - We make a copy of the currenr_path & append this node -> call it `new_path`\n",
    "        - `new_path` is now added to our path_list (meaning `len(path_list)` increments by 1. \n",
    "            - This also means when we finish our loop and increment our `path_index` by 1 that we are going to eventually return to this incomplete path. We will find this most recent add, review which neighbors aren't in our `previous_nodes` list and then continue our search!\n",
    "        - we also add this node to our `previous_nodes` list to avoid backtracking\n",
    "            \n",
    "Walking through this was very helpful, this is a pretty nice algorithm."
   ]
  },
  {
   "cell_type": "code",
   "execution_count": 1,
   "id": "79ce9dc4",
   "metadata": {},
   "outputs": [
    {
     "name": "stdout",
     "output_type": "stream",
     "text": [
      "[6, 4]\n",
      "[6, 4, 3]\n",
      "[6, 4, 5]\n",
      "[6, 4, 3, 2]\n",
      "-----\n",
      "[3, 2]\n",
      "[3, 4]\n",
      "[3, 2, 1]\n",
      "[3, 2, 5]\n",
      "[3, 4, 6]\n"
     ]
    }
   ],
   "source": [
    "# source: https://onestepcode.com/graph-shortest-path-python/\n",
    "def shortest_path(graph, node1, node2, debug = False):\n",
    "    path_list = [[node1]]\n",
    "    path_index = 0\n",
    "    # To keep track of previously visited nodes\n",
    "    previous_nodes = {node1}\n",
    "    if node1 == node2:\n",
    "        return path_list[0]\n",
    "        \n",
    "    while path_index < len(path_list):\n",
    "        current_path = path_list[path_index]\n",
    "        last_node = current_path[-1]\n",
    "        next_nodes = graph[last_node]\n",
    "        # Search goal node\n",
    "        if node2 in next_nodes:\n",
    "            current_path.append(node2)\n",
    "            return current_path\n",
    "        # Add new paths\n",
    "        for next_node in next_nodes:\n",
    "            if not next_node in previous_nodes:\n",
    "                new_path = current_path[:]\n",
    "                new_path.append(next_node)\n",
    "                path_list.append(new_path)\n",
    "                # To avoid backtracking\n",
    "                previous_nodes.add(next_node)\n",
    "                if debug:\n",
    "                    print(new_path)\n",
    "        # Continue to next path in list\n",
    "        path_index += 1\n",
    "    # No path is found\n",
    "    return []\n",
    "\n",
    "# find path from \n",
    "graph = {}\n",
    "graph[1] = {2, 5}\n",
    "graph[2] = {1, 3, 5}\n",
    "graph[3] = {2, 4}\n",
    "graph[4] = {3, 5, 6}\n",
    "graph[5] = {1, 2, 4}\n",
    "graph[6] = {4}\n",
    "graph[7] = {}\n",
    "\n",
    "# example with connection\n",
    "# Could go 6 -> 4 -> 5 -> 1\n",
    "# But also could go: 6 -> 4 -> 3 -> 2 -> 1 (which is longer)\n",
    "assert(shortest_path(graph, 6, 1, True) == [6,4,5,1])\n",
    "print(\"-----\")\n",
    "# example where 7 has no connections, so we yield an empty list\n",
    "assert(shortest_path(graph, 3, 7, True) == [])"
   ]
  },
  {
   "cell_type": "code",
   "execution_count": 2,
   "id": "63565cb5",
   "metadata": {},
   "outputs": [
    {
     "name": "stdout",
     "output_type": "stream",
     "text": [
      "(0, 0)\n",
      "(2, 5)\n"
     ]
    },
    {
     "data": {
      "text/plain": [
       "array([[ 97,  97,  98, 113, 112, 111, 110, 109],\n",
       "       [ 97,  98,  99, 114, 121, 120, 120, 108],\n",
       "       [ 97,  99,  99, 115, 122, 122, 120, 107],\n",
       "       [ 97,  99,  99, 116, 117, 118, 119, 106],\n",
       "       [ 97,  98, 100, 101, 102, 103, 104, 105]])"
      ]
     },
     "execution_count": 2,
     "metadata": {},
     "output_type": "execute_result"
    }
   ],
   "source": [
    "import numpy as np\n",
    "with open('data/day12_sample.txt') as fh:\n",
    "    data = [line.strip() for line in fh.readlines()]\n",
    "\n",
    "# convert to matrix, use ord for easier elevation checks\n",
    "m = np.asarray([x for y in data for x in y])\n",
    "m.shape = (len(data), len(data[0]))\n",
    "\n",
    "# find start, end coords\n",
    "start = (np.where(m == 'S')[0][0], np.where(m == 'S')[1][0])\n",
    "end = (np.where(m == 'E')[0][0], np.where(m == 'E')[1][0])\n",
    "print(start)\n",
    "print(end)\n",
    "\n",
    "# convert S & E to elevation values now that we have coords\n",
    "m[start] = 'a'\n",
    "m[end] = 'z'\n",
    "\n",
    "# convert all to ORD\n",
    "ord_vec = np.vectorize(ord)\n",
    "final_m = ord_vec(m)\n",
    "final_m"
   ]
  },
  {
   "cell_type": "code",
   "execution_count": 3,
   "id": "38c05cbc",
   "metadata": {},
   "outputs": [],
   "source": [
    "def getNeighbors(matrix, i, j):\n",
    "    \"\"\"Return neighboring coordinates within boundary of matrix\"\"\"\n",
    "    r_max = matrix.shape[0]\n",
    "    c_max = matrix.shape[1]\n",
    "    \n",
    "    # only consider upwards\n",
    "    coord_list = [(i, j+1), (i, j-1), (i-1,j), (i+1,j)]\n",
    "    final_list = []\n",
    "\n",
    "    for coord in coord_list:\n",
    "        i = coord[0]\n",
    "        j = coord[1]\n",
    "        if (i >= 0 and i < r_max) and (j >= 0 and j < c_max):\n",
    "            final_list.append(coord)\n",
    "    return final_list\n",
    "\n",
    "def eligibleMovement(matrix, coord):\n",
    "    \"\"\"Return eligible movement considering elevation constraints\"\"\"\n",
    "    # find current position & value\n",
    "    i = coord[0]\n",
    "    j = coord[1]\n",
    "    cur_val = matrix[coord]\n",
    "    boundary_options = getNeighbors(matrix, i, j)\n",
    "    \n",
    "    # reduce options to those with values <= cur_val + 1\n",
    "    # Note: There is no lower bound constraint\n",
    "    final_set = []\n",
    "    for coords in boundary_options:\n",
    "        if matrix[coords] <= cur_val + 1:\n",
    "            final_set.append(coords)\n",
    "    \n",
    "    return final_set\n",
    "\n",
    "# Testing:\n",
    "# At the start we only have 2 options, all with same elevation\n",
    "out = eligibleMovement(final_m , (0,0))\n",
    "assert(out == [(0,1), (1, 0)])\n",
    "\n",
    "# 4 option example: (2,1) -> c surrounded bt a b (-1), c(0), c(0), and a(-2) -> all legal\n",
    "out = eligibleMovement(final_m , (2,1))\n",
    "assert(out == [(2, 2), (2,0), (1,1), (3,1)])\n",
    "\n",
    "# This is next to a z so we should not be able to move to (2,3)\n",
    "out = eligibleMovement(final_m , (2,2))\n",
    "assert(out == [(2, 1), (1, 2), (3, 2)])"
   ]
  },
  {
   "cell_type": "code",
   "execution_count": 4,
   "id": "3c3889f7",
   "metadata": {},
   "outputs": [
    {
     "data": {
      "text/plain": [
       "{(0, 0): [(0, 1), (1, 0)],\n",
       " (1, 0): [(1, 1), (0, 0), (2, 0)],\n",
       " (2, 0): [(1, 0), (3, 0)],\n",
       " (3, 0): [(2, 0), (4, 0)],\n",
       " (4, 0): [(4, 1), (3, 0)],\n",
       " (0, 1): [(0, 2), (0, 0), (1, 1)],\n",
       " (1, 1): [(1, 2), (1, 0), (0, 1), (2, 1)],\n",
       " (2, 1): [(2, 2), (2, 0), (1, 1), (3, 1)],\n",
       " (3, 1): [(3, 2), (3, 0), (2, 1), (4, 1)],\n",
       " (4, 1): [(4, 0), (3, 1)],\n",
       " (0, 2): [(0, 1), (1, 2)],\n",
       " (1, 2): [(1, 1), (0, 2), (2, 2)],\n",
       " (2, 2): [(2, 1), (1, 2), (3, 2)],\n",
       " (3, 2): [(3, 1), (2, 2), (4, 2)],\n",
       " (4, 2): [(4, 3), (4, 1), (3, 2)],\n",
       " (0, 3): [(0, 4), (0, 2), (1, 3)],\n",
       " (1, 3): [(1, 2), (0, 3), (2, 3)],\n",
       " (2, 3): [(2, 2), (1, 3), (3, 3)],\n",
       " (3, 3): [(3, 4), (3, 2), (2, 3), (4, 3)],\n",
       " (4, 3): [(4, 4), (4, 2)],\n",
       " (0, 4): [(0, 5), (0, 3)],\n",
       " (1, 4): [(1, 5), (1, 3), (0, 4), (2, 4)],\n",
       " (2, 4): [(2, 5), (2, 3), (1, 4), (3, 4)],\n",
       " (3, 4): [(3, 5), (3, 3), (4, 4)],\n",
       " (4, 4): [(4, 5), (4, 3)],\n",
       " (0, 5): [(0, 6), (0, 4)],\n",
       " (1, 5): [(1, 6), (1, 4), (0, 5)],\n",
       " (2, 5): [(2, 6), (2, 4), (1, 5), (3, 5)],\n",
       " (3, 5): [(3, 6), (3, 4), (4, 5)],\n",
       " (4, 5): [(4, 6), (4, 4)],\n",
       " (0, 6): [(0, 7), (0, 5)],\n",
       " (1, 6): [(1, 7), (1, 5), (0, 6), (2, 6)],\n",
       " (2, 6): [(2, 7), (1, 6), (3, 6)],\n",
       " (3, 6): [(3, 7), (3, 5), (2, 6), (4, 6)],\n",
       " (4, 6): [(4, 7), (4, 5)],\n",
       " (0, 7): [(0, 6), (1, 7)],\n",
       " (1, 7): [(0, 7), (2, 7)],\n",
       " (2, 7): [(1, 7), (3, 7)],\n",
       " (3, 7): [(2, 7), (4, 7)],\n",
       " (4, 7): [(4, 6), (3, 7)]}"
      ]
     },
     "execution_count": 4,
     "metadata": {},
     "output_type": "execute_result"
    }
   ],
   "source": [
    "# now we can get all eligible connections for each vertex\n",
    "elig_dict = {}\n",
    "for col in range(final_m.shape[1]):\n",
    "    for row in range(final_m.shape[0]): \n",
    "        elig_dict[(row,col)] = eligibleMovement(final_m, (row,col))\n",
    "        \n",
    "elig_dict"
   ]
  },
  {
   "cell_type": "code",
   "execution_count": 5,
   "id": "c3afc902",
   "metadata": {},
   "outputs": [
    {
     "name": "stdout",
     "output_type": "stream",
     "text": [
      "Make end biggest\n"
     ]
    }
   ],
   "source": [
    "# convert each coordinate to be a single, distinct value -> easier to handle in terms of node\n",
    "# row = row\n",
    "# col = col + col * 5 - 1\n",
    "# so (0,0) -> 0\n",
    "# so (0, 1) -> 5\n",
    "\n",
    "new_dict = {}\n",
    "for k,v in elig_dict.items():\n",
    "    if k == end:\n",
    "        print(\"Make end biggest\")\n",
    "        new_k = 999_999\n",
    "    else:\n",
    "        new_k = k[0] + k[1] + k[1] * 5\n",
    "    #print(k, new_k)\n",
    "    \n",
    "    # new vs:\n",
    "    new_vs = [k[0] + k[1] + k[1] * 5 if k != end else 999_999 for k in v]\n",
    "    #print(v, new_vs)\n",
    "\n",
    "    new_dict[new_k] = new_vs"
   ]
  },
  {
   "cell_type": "code",
   "execution_count": 6,
   "id": "b2f89ed0",
   "metadata": {},
   "outputs": [
    {
     "name": "stdout",
     "output_type": "stream",
     "text": [
      "31\n"
     ]
    }
   ],
   "source": [
    "graph = {}\n",
    "for k, vals in elig_dict.items():\n",
    "    #print(k, vals)\n",
    "    graph[k] = {v for v in vals}\n",
    "    \n",
    "short_path = shortest_path(graph, start, end)\n",
    "print(len(short_path) - 1)"
   ]
  },
  {
   "cell_type": "code",
   "execution_count": 7,
   "id": "6d3bdf69",
   "metadata": {},
   "outputs": [
    {
     "data": {
      "image/png": "[encoded data removed]",
      "text/plain": [
       "<Figure size 432x288 with 1 Axes>"
      ]
     },
     "metadata": {
      "needs_background": "light"
     },
     "output_type": "display_data"
    }
   ],
   "source": [
    "from matplotlib import pyplot as plt\n",
    "\n",
    "data = np.array(short_path)\n",
    "x, y = data.T\n",
    "plt.scatter(x,y)\n",
    "plt.show();"
   ]
  },
  {
   "cell_type": "code",
   "execution_count": 8,
   "id": "81df52a4",
   "metadata": {},
   "outputs": [
    {
     "name": "stdout",
     "output_type": "stream",
     "text": [
      "(20, 0)\n",
      "(20, 107)\n"
     ]
    },
    {
     "data": {
      "text/plain": [
       "array([[97, 98, 99, ..., 97, 97, 97],\n",
       "       [97, 98, 99, ..., 97, 97, 97],\n",
       "       [97, 98, 99, ..., 97, 97, 97],\n",
       "       ...,\n",
       "       [97, 98, 99, ..., 97, 97, 97],\n",
       "       [97, 98, 99, ..., 97, 97, 97],\n",
       "       [97, 98, 99, ..., 97, 97, 97]])"
      ]
     },
     "execution_count": 8,
     "metadata": {},
     "output_type": "execute_result"
    }
   ],
   "source": [
    "import numpy as np\n",
    "with open('data/day12.txt') as fh:\n",
    "    data = [line.strip() for line in fh.readlines()]\n",
    "\n",
    "# convert to matrix, use ord for easier elevation checks\n",
    "m = np.asarray([x for y in data for x in y])\n",
    "m.shape = (len(data), len(data[0]))\n",
    "\n",
    "# find start, end coords\n",
    "start = (np.where(m == 'S')[0][0], np.where(m == 'S')[1][0])\n",
    "end = (np.where(m == 'E')[0][0], np.where(m == 'E')[1][0])\n",
    "print(start)\n",
    "print(end)\n",
    "\n",
    "# convert S & E to elevation values now that we have coords\n",
    "m[start] = 'a'\n",
    "m[end] = 'z'\n",
    "\n",
    "# convert all to ORD\n",
    "ord_vec = np.vectorize(ord)\n",
    "final_m = ord_vec(m)\n",
    "final_m"
   ]
  },
  {
   "cell_type": "code",
   "execution_count": 9,
   "id": "49b80af9",
   "metadata": {},
   "outputs": [],
   "source": [
    "# now we can get all eligible connections for each vertex\n",
    "elig_dict = {}\n",
    "for col in range(final_m.shape[1]):\n",
    "    for row in range(final_m.shape[0]): \n",
    "        elig_dict[(row,col)] = eligibleMovement(final_m, (row,col))"
   ]
  },
  {
   "cell_type": "code",
   "execution_count": 10,
   "id": "f7c85ba3",
   "metadata": {},
   "outputs": [
    {
     "name": "stdout",
     "output_type": "stream",
     "text": [
      "449\n"
     ]
    }
   ],
   "source": [
    "graph = {}\n",
    "for k, vals in elig_dict.items():\n",
    "    #print(k, vals)\n",
    "    graph[k] = {v for v in vals}\n",
    "\n",
    "short_path = shortest_path(graph, start, end)\n",
    "print(len(short_path) - 1)"
   ]
  },
  {
   "cell_type": "code",
   "execution_count": 11,
   "id": "e533ae61",
   "metadata": {},
   "outputs": [
    {
     "data": {
      "image/png": "[encoded data removed]",
      "text/plain": [
       "<Figure size 432x288 with 1 Axes>"
      ]
     },
     "metadata": {
      "needs_background": "light"
     },
     "output_type": "display_data"
    }
   ],
   "source": [
    "plt.gca().invert_yaxis() # numpy\n",
    "data = np.array(short_path)\n",
    "y, x = data.T\n",
    "plt.plot(start[1], start[0], c = 'red', marker='^', markersize=14)\n",
    "plt.plot(end[1], end[0], c = 'red', marker='^', markersize=14)\n",
    "plt.scatter(x,y, c = 'green')\n",
    "plt.show();"
   ]
  },
  {
   "cell_type": "markdown",
   "id": "5cb0ccdb",
   "metadata": {},
   "source": [
    "### Part 2: Find All Candidate Starting Points\n",
    "\n",
    "Seemed suspiciously easy."
   ]
  },
  {
   "cell_type": "code",
   "execution_count": 12,
   "id": "1f46ce87",
   "metadata": {},
   "outputs": [
    {
     "name": "stdout",
     "output_type": "stream",
     "text": [
      "450\n",
      "449\n",
      "448\n",
      "447\n",
      "446\n",
      "445\n",
      "444\n",
      "443\n",
      "Final Answer: 443\n"
     ]
    }
   ],
   "source": [
    "min_v = 451\n",
    "for i, j in np.argwhere(m == 'a'):\n",
    "    short_path = shortest_path(graph, (i,j), end)\n",
    "    \n",
    "    if (len(short_path) - 1 < min_v) and (len(short_path) - 1 > 0):\n",
    "        print(len(short_path) - 1)\n",
    "        min_v = (len(short_path) - 1)\n",
    "        \n",
    "print(f\"Final Answer: {min_v}\")"
   ]
  }
 ],
 "metadata": {
  "kernelspec": {
   "display_name": "ml",
   "language": "python",
   "name": "ml"
  },
  "language_info": {
   "codemirror_mode": {
    "name": "ipython",
    "version": 3
   },
   "file_extension": ".py",
   "mimetype": "text/x-python",
   "name": "python",
   "nbconvert_exporter": "python",
   "pygments_lexer": "ipython3",
   "version": "3.9.2"
  }
 },
 "nbformat": 4,
 "nbformat_minor": 5
}
