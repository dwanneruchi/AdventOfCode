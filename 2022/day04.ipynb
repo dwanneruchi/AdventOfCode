{
 "cells": [
  {
   "cell_type": "code",
   "execution_count": 1,
   "id": "94bee9ea",
   "metadata": {},
   "outputs": [],
   "source": [
    "# read data \n",
    "with open('data/day04.txt') as fh:\n",
    "    data = [line.strip() for line in fh.readlines()]\n",
    "    \n",
    "# separate min,max of pairs\n",
    "min_max = [d.replace(',', '-').split('-') for d in data]"
   ]
  },
  {
   "cell_type": "code",
   "execution_count": 2,
   "id": "30ec785a",
   "metadata": {},
   "outputs": [
    {
     "data": {
      "text/plain": [
       "560"
      ]
     },
     "execution_count": 2,
     "metadata": {},
     "output_type": "execute_result"
    }
   ],
   "source": [
    "def check_fully_contained(element):\n",
    "    \"\"\"Check for fully membership of x/y relative to y/x\"\"\"\n",
    "    element = [int(x) for x in element] # convert to int\n",
    "    x_min, x_max, y_min, y_max = element\n",
    "    \n",
    "    if (x_min >= y_min) and (x_max <= y_max): # x fully in range\n",
    "        return 1\n",
    "    elif (y_min >= x_min) and (y_max <= x_max): # y fully in range\n",
    "        return 1\n",
    "    else:\n",
    "        return 0\n",
    "    \n",
    "assert(check_fully_contained(['6', '6', '4', '6']) == 1)\n",
    "assert(check_fully_contained(['5', '7', '7', '9']) == 0)\n",
    "\n",
    "# run on data for part 1\n",
    "sum([check_fully_contained(element) for element in min_max])"
   ]
  },
  {
   "cell_type": "code",
   "execution_count": 3,
   "id": "1137e9ea",
   "metadata": {},
   "outputs": [
    {
     "data": {
      "text/plain": [
       "839"
      ]
     },
     "execution_count": 3,
     "metadata": {},
     "output_type": "execute_result"
    }
   ],
   "source": [
    "def check_partial_overlap(element):\n",
    "    \"\"\"Check for partial membership using sets\"\"\"\n",
    "    element = [int(x) for x in element] # convert to int\n",
    "    x_min, x_max, y_min, y_max = element\n",
    "    \n",
    "    a = set(range(x_min, x_max + 1))\n",
    "    b = set(range(y_min, y_max + 1))\n",
    "    \n",
    "    return int(bool(len(a & b)))\n",
    "\n",
    "\n",
    "assert(check_partial_overlap(['6', '6', '4', '6']) == 1)\n",
    "assert(check_partial_overlap(['5', '7', '7', '9']) == 1)\n",
    "assert(check_partial_overlap(['2', '4', '6', '8']) == 0)\n",
    "\n",
    "# run on data for part 2\n",
    "sum([check_partial_overlap(element) for element in min_max])"
   ]
  }
 ],
 "metadata": {
  "kernelspec": {
   "display_name": "ml",
   "language": "python",
   "name": "ml"
  },
  "language_info": {
   "codemirror_mode": {
    "name": "ipython",
    "version": 3
   },
   "file_extension": ".py",
   "mimetype": "text/x-python",
   "name": "python",
   "nbconvert_exporter": "python",
   "pygments_lexer": "ipython3",
   "version": "3.9.2"
  }
 },
 "nbformat": 4,
 "nbformat_minor": 5
}
