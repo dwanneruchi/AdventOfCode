{
 "cells": [
  {
   "cell_type": "markdown",
   "id": "7400f9d9",
   "metadata": {},
   "source": [
    "### Part 2:\n",
    "\n",
    "A few things:\n",
    "- The sprite starts at the value position\n",
    "- Needed to view this in chunks of 40, which is why I use `40 * ceil(cycle / 40) - 40`, which is going to help realign for each row (the value is just applied to the cycle amount)"
   ]
  },
  {
   "cell_type": "code",
   "execution_count": 1,
   "id": "c6124b33",
   "metadata": {},
   "outputs": [],
   "source": [
    "import math \n",
    "from dataclasses import dataclass, field\n",
    "\n",
    "@dataclass\n",
    "class ray:\n",
    "    \"\"\"Class for keeping track location of segment of a knots.\"\"\"\n",
    "    cycle: int\n",
    "    value: int\n",
    "    cycle_execution: dict \n",
    "    cycle_track: dict\n",
    "    crt_row: list\n",
    "        \n",
    "    def write_out(self):\n",
    "        \"\"\"\n",
    "        Check if value - correction is between cycle and cycle + 2\n",
    "        \"\"\"\n",
    "        correction = 40 * math.ceil(self.cycle/40) - 40\n",
    "        if self.value - 0 <= self.cycle - correction <= self.value + 2:\n",
    "            return '#'\n",
    "        return '.'\n",
    "        \n",
    "    def read_action(self, ex, v):\n",
    "        \"\"\"\n",
    "        Read in action and value, track execution cycle relative to current.\n",
    "        \"\"\"\n",
    "        # update cycle\n",
    "        self.cycle += 1\n",
    "        \n",
    "        # read instruction\n",
    "        if ex == 'addx':\n",
    "            self.cycle_execution[self.cycle + 1] = int(v)\n",
    "            self.crt_row.append(self.write_out())\n",
    "            \n",
    "            # extra update step\n",
    "            self.cycle_track[self.cycle] = self.value\n",
    "            self.cycle += 1\n",
    "        else:\n",
    "            self.cycle_execution[self.cycle] = 0\n",
    "        \n",
    "        # update value with cycle\n",
    "        self.crt_row.append(self.write_out())\n",
    "        self.cycle_track[self.cycle] = self.value\n",
    "        \n",
    "        # run execution\n",
    "        self.value = self.value + self.cycle_execution[self.cycle]"
   ]
  },
  {
   "cell_type": "code",
   "execution_count": 2,
   "id": "ce835c17",
   "metadata": {},
   "outputs": [
    {
     "name": "stdout",
     "output_type": "stream",
     "text": [
      "##..##..##..##..##..##..##..##..##..##..\n",
      "###...###...###...###...###...###...###.\n",
      "####....####....####....####....####....\n",
      "#####.....#####.....#####.....#####.....\n",
      "######......######......######......####\n",
      "#######.......#######.......#######.....\n"
     ]
    }
   ],
   "source": [
    "with open('data/day10_sample.txt') as fh:\n",
    "    data = [line.strip() for line in fh.readlines()]\n",
    "moves = [x.split(' ') for x in data]\n",
    "test_case = ray(0,1,{}, {}, [])\n",
    "\n",
    "# run through each move\n",
    "[test_case.read_action(m[0], int(m[1])) if len(m) > 1 else test_case.read_action(m[0], 0) for m in moves]\n",
    "\n",
    "# sum across expected values\n",
    "vals = [20, 60, 100, 140, 180, 220]\n",
    "full_sum = sum([v * test_case.cycle_track[v] for v in vals])\n",
    "assert(full_sum == 13140)\n",
    "\n",
    "for i in range(40,280, 40):\n",
    "    print(''.join(test_case.crt_row[i-40: i]))"
   ]
  },
  {
   "cell_type": "code",
   "execution_count": 3,
   "id": "cac41d78",
   "metadata": {
    "scrolled": true
   },
   "outputs": [
    {
     "name": "stdout",
     "output_type": "stream",
     "text": [
      "Sum of signals: 14160\n",
      "###....##.####.###..###..####.####..##..\n",
      "#..#....#.#....#..#.#..#.#....#....#..#.\n",
      "#..#....#.###..#..#.#..#.###..###..#....\n",
      "###.....#.#....###..###..#....#....#....\n",
      "#.#..#..#.#....#.#..#....#....#....#..#.\n",
      "#..#..##..####.#..#.#....####.#.....##..\n"
     ]
    }
   ],
   "source": [
    "with open('data/day10.txt') as fh:\n",
    "    data = [line.strip() for line in fh.readlines()]\n",
    "moves = [x.split(' ') for x in data]\n",
    "test_case = ray(0,1,{}, {}, [])\n",
    "\n",
    "# run through each move\n",
    "[test_case.read_action(m[0], int(m[1])) if len(m) > 1 else test_case.read_action(m[0], 0) for m in moves]\n",
    "\n",
    "# sum across expected values\n",
    "vals = [20, 60, 100, 140, 180, 220]\n",
    "full_sum = sum([v * test_case.cycle_track[v] for v in vals])\n",
    "print(f\"Sum of signals: {full_sum}\")\n",
    "\n",
    "for i in range(40,280, 40):\n",
    "    print(''.join(test_case.crt_row[i-40: i]))"
   ]
  }
 ],
 "metadata": {
  "kernelspec": {
   "display_name": "ml",
   "language": "python",
   "name": "ml"
  },
  "language_info": {
   "codemirror_mode": {
    "name": "ipython",
    "version": 3
   },
   "file_extension": ".py",
   "mimetype": "text/x-python",
   "name": "python",
   "nbconvert_exporter": "python",
   "pygments_lexer": "ipython3",
   "version": "3.9.2"
  }
 },
 "nbformat": 4,
 "nbformat_minor": 5
}
