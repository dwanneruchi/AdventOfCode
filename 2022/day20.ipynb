{
 "cells": [
  {
   "cell_type": "code",
   "execution_count": 1,
   "id": "ab3da681",
   "metadata": {},
   "outputs": [
    {
     "data": {
      "text/plain": [
       "3"
      ]
     },
     "execution_count": 1,
     "metadata": {},
     "output_type": "execute_result"
    }
   ],
   "source": [
    "# assume we will have duplicates, so should reference progress of initial list separate\n",
    "initial_list = [1,2,-3,3,-2,0,4]\n",
    "\n",
    "# create a list of tuples that has value, index -> this is how I iterate\n",
    "tup_list = [(initial_list[i], i) for i in range(len(initial_list))]\n",
    "\n",
    "# keep initial index, val which is our value in our list\n",
    "for i, v in enumerate(initial_list):\n",
    "    \n",
    "    # find index for next in line\n",
    "    idx = tup_list.index((v,i))\n",
    "    \n",
    "    # Remove this value from list, find new index\n",
    "    tup_list.remove((v,i))\n",
    "    index_update = (idx + v) % len(tup_list) # handles neg & pos case\n",
    "        \n",
    "    # update in index\n",
    "    tup_list.insert(index_update, (v,i))    \n",
    "    \n",
    "# 0 offset has to be handled\n",
    "sum([tup_list[(tup_list.index((0,5)) + num) % len(tup_list)][0] for num in [1000, 2000, 3000]])"
   ]
  },
  {
   "cell_type": "code",
   "execution_count": 2,
   "id": "c9e7af95",
   "metadata": {},
   "outputs": [
    {
     "data": {
      "text/plain": [
       "13289"
      ]
     },
     "execution_count": 2,
     "metadata": {},
     "output_type": "execute_result"
    }
   ],
   "source": [
    "with open(\"data/day20.txt\", \"r\", encoding=\"UTF-8\") as f:\n",
    "    lines = f.read().split(\"\\n\")\n",
    "    \n",
    "initial_list = [int(x) for x in lines]\n",
    "tup_list = [(initial_list[i], i) for i in range(len(initial_list))]\n",
    "\n",
    "for i, v in enumerate(initial_list):\n",
    "    idx = tup_list.index((v,i))\n",
    "    tup_list.remove((v,i))\n",
    "    index_update = (idx + v) % len(tup_list)\n",
    "    tup_list.insert(index_update, (v,i))    \n",
    "    \n",
    "# 0 offset has to be handled\n",
    "sum([tup_list[(tup_list.index((0,2701)) + num) % len(tup_list)][0] for num in [1000, 2000, 3000]])"
   ]
  },
  {
   "cell_type": "code",
   "execution_count": 3,
   "id": "8fac5140",
   "metadata": {},
   "outputs": [
    {
     "data": {
      "text/plain": [
       "2865721299243"
      ]
     },
     "execution_count": 3,
     "metadata": {},
     "output_type": "execute_result"
    }
   ],
   "source": [
    "# Part 2: Well, initial solution makes this straight forward!\n",
    "with open(\"data/day20.txt\", \"r\", encoding=\"UTF-8\") as f:\n",
    "    lines = f.read().split(\"\\n\")\n",
    "\n",
    "d_key = 811589153 # decryption key\n",
    "initial_list = [int(x) * d_key for x in lines]\n",
    "\n",
    "# create a list of tuples that has value, index\n",
    "tup_list = [(initial_list[i], i) for i in range(len(initial_list))]\n",
    "\n",
    "# iterate 10 times -> since we have a separate list of index & values we can just iterate 10 times \n",
    "# and keep modifying the changing list (tup_list)\n",
    "for _ in range(10):\n",
    "    for i, v in enumerate(initial_list):\n",
    "        idx = tup_list.index((v,i))\n",
    "        tup_list.remove((v,i))\n",
    "        index_update = (idx + v) % len(tup_list)\n",
    "        tup_list.insert(index_update, (v,i))\n",
    "    \n",
    "# 0 offset has to be handled\n",
    "sum([tup_list[(tup_list.index((0,2701)) + num) % len(tup_list)][0] for num in [1000, 2000, 3000]])"
   ]
  }
 ],
 "metadata": {
  "kernelspec": {
   "display_name": "ml",
   "language": "python",
   "name": "ml"
  },
  "language_info": {
   "codemirror_mode": {
    "name": "ipython",
    "version": 3
   },
   "file_extension": ".py",
   "mimetype": "text/x-python",
   "name": "python",
   "nbconvert_exporter": "python",
   "pygments_lexer": "ipython3",
   "version": "3.9.2"
  }
 },
 "nbformat": 4,
 "nbformat_minor": 5
}
