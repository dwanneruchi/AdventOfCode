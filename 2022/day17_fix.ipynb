{
 "cells": [
  {
   "cell_type": "markdown",
   "id": "0e323a47",
   "metadata": {},
   "source": [
    "### part 2: First, simplify approach\n",
    "\n",
    "Use an (X, Y) approach, but Y will have a reversed axis (most positive at bottom)\n",
    "\n",
    "Functions:\n",
    "- check if we can safely fall next step\n",
    "- function for updating left / right\n",
    "- check if we can safely push left / right\n",
    "- function for updating left / right\n",
    "- function to generate a new rock based on existing tower height\n",
    "\n",
    "#### Some Resources and General Idea\n",
    "\n",
    "This should just require finding a pattern and figuring how many shapes it takes for that pattern to occur. \n",
    "\n",
    "Values we should look at (based on a helpful [video](https://www.youtube.com/watch?v=hgfnfC6r0EY) and [code](https://topaz.github.io/paste/#XQAAAQDeEAAAAAAAAAA0m0pnuFI8c/e2SDRqvyl0DGid1Rx5W42tStn+BRzbLAr/JndLruvOMW7160tkMywF1IdThvU6P2T7qJ1uCU6EcUBbdODJP0V3JAf+9my7rrAwRqyZL2WX8wlY6YrnganSh1otE1W3VsuRq4lgoWvwrxaCb3OgMEWPMkZeYY0H5+0eHmRT3hW3wEJeGzFU/Hd08ukSqmUeXjPOCzf7nWr6l7nW5T5S2dr+NU2x9uOQ8N2lMIWH/S5mAUrdIlXwNiWTfjH4mwd40FLb+1JBgp1DLaC/BT3smbXQEETYg9ASyuid0TDKCH2D4zlQx9+Mk1szjRSTm+0/W1UNbp8y1U266CXodvQ77K6MgYgChP8CGHijwxpBM+5754y537CBOI0EVFAaRme16PTZhAGM6PVBIA5+zoxlkqzLzz4kPgSDqsywAghB9K2uhCfFi6c3gahAPr+iE34KfjlsGmYUFApyUb1W9lznSY/DGT2U/fc+KQj5Ne3h0iIeVsjTYB+g8AUya1gfswGfmA8nlEhLXJA4tCGzcxaIpU5yNIPtoQkKe9coY8kNaLMZB9wHmqWfzoo3UbHGZEkt3DCGqR+9DXHEPybzAy1MnBesT0wqAQEpp94nTTyno0ajBNRdYHTSDa+nGpHRHwvT8oYxJwzk/kOp45eBR2dAutPzQdI9VM5pLaMEm54KUIHCJnVbFHrIlQjZK1Pupoga4j/GLDKgw25BGmrHY/zNRNoJV5g06w7KsIQG+O1jQ/XTOmZrfGeN7T7OHXOOlyUBFBu5gAJcwWWjGX7kOXJ+WXT/egge8MuU0GQS0UBgfDQhKUWkD5Wpn/wod+Io1cU1+K87QYfMrI2ApAsBgKZDUjoJOBcVlVF5PYwQAj70BHvImCvx1PVsdupsPor7dnU5NBmjJxJLgQJhltdocdNoar56vg0rFp/aObCvi/GVDpBgRZwemJwS3Je1Pw3Gq8InsIDNVtWISF+CgtXzg738nF0NNyC3aiCrVRYvr0Hil+v2ysQUWGbmZxTduJgGgrC4HXvF4dmvxg5nRl9n9bv30q+cN8r1Jifwtab2IG4ogUe0o0+H5WTMMn4C6Im3toCh4NqqjHC+vBrrbEWQ9wau543z40lVI+ItSxT8ogvCa7rpTKqVlF33N/ioMLV2dXtvXcjWyUjRQJzWTGctVjaQ8Us6WoJVICl5CbpViNjxAP6aTQSxxmp9eXYDhPOxZ0z68v9G1lX01IM6Ptxv29/h4KZvnG6b+3wZvgdQPWlTF7BfWaUYTylrY+PYvNL4XcQj2sgFM/KhwP6Efm9uEzwV9BNKW88Y/v04NdsY3wNCFvSE+o46A9CzAE1hOU3Orr2M5zsT0H5yfhlu/Y885RBYuPuXUZjcUhPCbVCpwQEvxjIfh/8/xVAFRlx3yYqqiRig80WR+9BShigKLcIGCEBaABL31C6KhumsY0FNsRINV6GFanZpM9tQPPuMGV3ZPjj1ywaI6cxoiEkQpvv/hTdMm5m2Gh+a+Rt144+AYTppSXbOuBdnuDn6aKmLUTNXXiwIOSlDUiGxzQF7PZ7UNsj0vzfexBSIe46O4we2iK+/gkzZDcRoLQYlvn9E0oQmevPxxsJMp0cesCOf8grbkjDb2SqasYPmi0xS0fQdIH+0BY2zyVpsTzVxGYpbKxG2hUNHMwq9dhtSeUNi/muyBxYHNwaE12IysoWfLoEgtj3nISDIuGig7zWw+FT2vRnZUgQaG5YgPdY89wKdn+zpzR+Mo3xpcl4v+YNmRGGVaiR1S8cczDhoXCQ+088IeFvzT5jmyj9PUDfdGSFGaRCIwXbWcn3LgGXvHy6iWw+FUGblpOOmrX7n7I8ynaPAOkmsaJ5442Ol1ONlYcL9VR1TnR32ILuz6/p+S9anovCTTMEwtZce0XjjavFBjiBON+cJif89z/gA)\n",
    "- top of tower (specifically, the top y across each column\n",
    "- next shape\n",
    "- current jet stream (More on this below!)\n",
    "\n",
    "And then we should store top of tower height, which would let us do quick substraction to determine our gains.\n",
    "\n",
    "Found a lot of help from these resources:\n",
    "- https://github.com/ChrisWojcik/advent-of-code-2022/blob/main/17/2.py\n",
    "- "
   ]
  },
  {
   "cell_type": "code",
   "execution_count": 1,
   "id": "3cb113e2",
   "metadata": {},
   "outputs": [],
   "source": [
    "def build_shape(shape_int, tower_height, y_offset = 4):\n",
    "    \n",
    "    # bottom of shape, build upwards\n",
    "    Y = tower_height + y_offset\n",
    "    if shape_int == 0:\n",
    "        return [(X, Y) for X in range(2,6)]\n",
    "    elif shape_int == 1:\n",
    "        return [(3, Y + 2),\n",
    "                (2, Y + 1), (3, Y + 1), (4, Y + 1),\n",
    "                (3, Y)\n",
    "               ]\n",
    "    elif shape_int == 2:\n",
    "        return [(4, Y + 2),\n",
    "                (4, Y + 1),\n",
    "                (2, Y), (3, Y), (4, Y)\n",
    "               ]\n",
    "    elif shape_int == 3:\n",
    "        return [(2, Y + 3),\n",
    "                (2, Y + 2),\n",
    "                (2, Y + 1),\n",
    "                (2, Y)\n",
    "               ]\n",
    "    elif shape_int == 4:\n",
    "        return [(2, Y + 1), (3, Y + 1),\n",
    "                (2, Y), (3, Y),\n",
    "               ]"
   ]
  },
  {
   "cell_type": "code",
   "execution_count": 2,
   "id": "c5b912ca",
   "metadata": {},
   "outputs": [
    {
     "data": {
      "text/plain": [
       "[(2, 4), (3, 4), (4, 4), (5, 4)]"
      ]
     },
     "execution_count": 2,
     "metadata": {},
     "output_type": "execute_result"
    }
   ],
   "source": [
    "tracker_shapes = set((X, 0) for X in range(6)) # create a floor\n",
    "starting_shape = build_shape(0, 0)\n",
    "starting_shape"
   ]
  },
  {
   "cell_type": "code",
   "execution_count": 3,
   "id": "1ccaa2d8",
   "metadata": {},
   "outputs": [],
   "source": [
    "def check_down(shape, tracker_shapes):\n",
    "    \"\"\" Simple comparison to set of coords to ensure all shapes\n",
    "        can move down one step\n",
    "    \"\"\"\n",
    "    for (x,y) in shape:\n",
    "        if (x,y-1) in tracker_shapes:\n",
    "            return False\n",
    "    return True\n",
    "\n",
    "def move_down(shape):\n",
    "    return [(x,y-1) for (x,y) in shape]"
   ]
  },
  {
   "cell_type": "code",
   "execution_count": 4,
   "id": "35ae2328",
   "metadata": {},
   "outputs": [
    {
     "name": "stdout",
     "output_type": "stream",
     "text": [
      "[(2, 3), (3, 3), (4, 3), (5, 3)]\n"
     ]
    }
   ],
   "source": [
    "if check_down(starting_shape, tracker_shapes) == True:\n",
    "    out = move_down(starting_shape)\n",
    "    print(out)"
   ]
  },
  {
   "cell_type": "code",
   "execution_count": 5,
   "id": "7e8832b8",
   "metadata": {},
   "outputs": [],
   "source": [
    "def check_side(shape, tracker_shapes, x_move):\n",
    "    \"\"\"\n",
    "    \"\"\"\n",
    "    for (x,y) in shape:\n",
    "        if (x + x_move > 6) or (x + x_move < 0):\n",
    "            return False\n",
    "        if (x + x_move, y) in tracker_shapes:\n",
    "            return False\n",
    "    else:\n",
    "        return True\n",
    "    \n",
    "def move_side(shape, x_move):\n",
    "    return [(x + x_move,y) for (x,y) in shape]"
   ]
  },
  {
   "cell_type": "code",
   "execution_count": 9,
   "id": "3dee8449",
   "metadata": {},
   "outputs": [],
   "source": [
    "def get_top_seq(tracker_shapes, tower_height):\n",
    "    \"\"\"\n",
    "    \n",
    "    \"\"\"\n",
    "    top_row = []\n",
    "    for i in range(7):\n",
    "        try:\n",
    "            col_max = max(s[1] for s in tracker_shapes if s[0] == i)\n",
    "        except:\n",
    "            col_max = 0\n",
    "        top_row.append(col_max - tower_height)\n",
    "        \n",
    "    return tuple(top_row)"
   ]
  },
  {
   "cell_type": "code",
   "execution_count": 17,
   "id": "6b8740f9",
   "metadata": {},
   "outputs": [
    {
     "name": "stdout",
     "output_type": "stream",
     "text": [
      "Cycle found on shape_count 63\n",
      "((-2, -2, 0, -2, -3, -5, -7), 3, 28)\n",
      "Additional height: 1514285714157\n",
      "Shape count: 999999999978\n",
      "Tower height: 131\n"
     ]
    }
   ],
   "source": [
    "symbol_dict = {'>': 1, '<': -1}\n",
    "tracker_shapes = set((X, 0) for X in range(6)) # create a floor\n",
    "jet_stream = [x for x in '>>><<><>><<<>><>>><<<>>><<<><<<>><>><<>>']\n",
    "\n",
    "# we start with the shape above\n",
    "step = 0\n",
    "shape_count = 0\n",
    "tower_height = 0\n",
    "runs = 1000000000000 #2022\n",
    "\n",
    "# part 2: storage\n",
    "storage_dict = {}\n",
    "additional = 0\n",
    "jet_index = 0\n",
    "while shape_count < runs:\n",
    "    \n",
    "    # Build shape\n",
    "    shape = build_shape(shape_count % 5, tower_height)\n",
    "    shape_count += 1\n",
    "    \n",
    "    continue_flag = True\n",
    "    while continue_flag:\n",
    "\n",
    "            \n",
    "        x_move = symbol_dict[jet_stream[jet_index]]\n",
    "        \n",
    "        # ugly because I need this state.\n",
    "        jet_index += 1\n",
    "        if jet_index > len(jet_stream) - 1:\n",
    "            jet_index = 0\n",
    "            \n",
    "        step += 1\n",
    "\n",
    "        # confirm we can move sideways\n",
    "        if check_side(shape, tracker_shapes, x_move):\n",
    "            shape = move_side(shape, x_move)\n",
    "            \n",
    "        # confirm we can move down\n",
    "        if check_down(shape, tracker_shapes):\n",
    "            shape = move_down(shape)\n",
    "        else:\n",
    "            break\n",
    "        \n",
    "        # check if at rest:\n",
    "        #if check_down(shape, tracker_shapes) != True:\n",
    "        #    continue_flag = False\n",
    "            \n",
    "    # Update locations:\n",
    "    [tracker_shapes.add((x,y)) for (x,y) in shape]\n",
    "    #print(shape)\n",
    "    \n",
    "    #print(f\"On step {step}\")\n",
    "    \n",
    "    # find current tower height:\n",
    "    tower_height = max(s[1] for s in tracker_shapes)\n",
    "    \n",
    "    # store info after each run:\n",
    "    top_row = get_top_seq(tracker_shapes, tower_height)\n",
    "    next_shape = shape_count % 5\n",
    "\n",
    "    if (top_row, next_shape, jet_index) in storage_dict:\n",
    "        print(f\"Cycle found on shape_count {shape_count}\")\n",
    "        print(f\"{(top_row, next_shape, jet_index)}\")\n",
    "        old_count, old_height = storage_dict[(top_row, next_shape, jet_index)]\n",
    "        repeat = (1000000000000 - shape_count) // (shape_count - old_count)\n",
    "        \n",
    "        # update shape count based on repeats to get close to 1 trillion\n",
    "        shape_count += (shape_count - old_count) * repeat\n",
    "        additional += repeat * (tower_height - old_height)\n",
    "        storage_dict = {}\n",
    "        print(f\"Additional height: {additional}\")\n",
    "        print(f\"Shape count: {shape_count}\")\n",
    "    \n",
    "    # update\n",
    "    storage_dict[(top_row, next_shape, jet_index)] = (shape_count, tower_height) # tower size\n",
    "\n",
    "    \n",
    "print(f\"Tower height: {tower_height}\")"
   ]
  },
  {
   "cell_type": "code",
   "execution_count": 12,
   "id": "2e75382b",
   "metadata": {},
   "outputs": [
    {
     "data": {
      "text/plain": [
       "1514285714288"
      ]
     },
     "execution_count": 12,
     "metadata": {},
     "output_type": "execute_result"
    }
   ],
   "source": [
    "1514285714157 + 131"
   ]
  },
  {
   "cell_type": "markdown",
   "id": "da03b490",
   "metadata": {},
   "source": [
    "### With Input\n",
    "\n",
    "So I finally figured out my annoying error (and really didn't need to rewrite all of this code...)\n",
    "\n",
    "I was storing the next jet stream, which is either a `<` or `>`, so pretty easy to get an \"accidental same state\" measure. However, what I really needed to be tracking was my jet index in terms of integer, and this can then be carried to the following sequence.\n",
    "\n",
    "This. Drove. Me. Insane. Finally caught it by printing out steps and realizing I was storing quite outdated steps, but then noticed I only used steps for some modulus math on jet streams and realized I'd need a pretty fancy way to estimate steps in a repeating pattern. To avoid this I just store off a simple jet index - no modulus, going back to the basics of a good ole `if-else` statement!"
   ]
  },
  {
   "cell_type": "code",
   "execution_count": 18,
   "id": "c59136a0",
   "metadata": {},
   "outputs": [
    {
     "name": "stdout",
     "output_type": "stream",
     "text": [
      "Cycle found on shape_count 2323\n",
      "((-2, -1, -2, -3, -2, -2, 0), 3, 3579)\n",
      "Additional height: 1535483865916\n",
      "Shape count: 999999999033\n",
      "Tower height: 5008\n"
     ]
    }
   ],
   "source": [
    "symbol_dict = {'>': 1, '<': -1}\n",
    "tracker_shapes = set((X, 0) for X in range(6)) # create a floor\n",
    "jet_stream = [x for x in '>>><<<<><<><<<>>>><>>>><<><<<<>>>><<<<>><<>><<<>><<>>>><<<>>>><<<<>>><>><<<<>>><<<<>>>><<<>>>><<<>><<><><<>>><<<<>>>><<<><<<<>>><<<<>>>><><<<<><<<>>>><<<<>>><<><<<<>>>><<<>>>><<<><<<<>>><<<<>>><<<<>><<<<>>>><<><<<>><<<><<<>>>><<<<>><>><<><<<<><<<>>>><<<>><<<>>>><>><<<>>>><<>>><>>>><>>><<<<><<<>>><<<>>><<<<>>>><<<><<<<><>><<<>>>><>><>><>><>><<>><<<>>>><<><>><<<<>><>><<>><<<<>>><<<>><>>><>><<>>><>><<<<>><<<<><<<<>><<<>><<<>><<>><>>><<<<><<<>>><>>><>>>><<>><<<<><<<<>><<<>>>><<<<><<<>>><<<>>><<<>>>><<><<<>>>><>>><>>><<<<>>><<<<>>>><>>><<<<>><<>><<<<><><<<><>>><<<<>>><<><><<<<>>><<>>>><>>><>><<>>>><<>><<>>><>><<<><>>><<>>>><<><><<<>><<<<>><><<<<>><<>>>><<>>><>>><>>><>><<<>>>><<<<>><<><<<>><>>><<<>>><<<>>><<<<>>>><<<>>><<<<>>><<<><<>>>><<<<>>><<<<>><<<>>><<>>>><<<<><<<<>><<><<<<>>><<<<><<<><<<>><>>><<<>>><>><<<><<<<>><<<>>>><>>>><<<><<<>>><>>><<<>>><<<><>>><>><<<<>>><<>>><<>>>><><<<<>>><>><>>>><>>><<<<><<<>>><<>>>><>><<<>>>><<<>><><<<><<<>><<<><>>><><<<<>><<>>>><><<<>>>><>>>><<<>>>><<<<>>>><<<<>>><<<><<<>>>><>>>><<<<>><<<<>>>><<>><>><<<<>><<><<<>><<<<>>>><>><<<<><<<>><>>><<<<>><>>>><>>>><><<><<<<>><<<>><<>>><<<>>><<<<>>>><<<>>>><<<>><<<<>><<<<><>>><><<<<><<><<<><<>>>><<<><<><<>>>><<>>>><>>>><>><<<<>>>><<<<><>><<>>><><<<<>>>><<>><><<>>><<<<>>><<<>>><<<>><>>><<<<>>>><>>>><>>><<<>>>><<>>><>>>><<>>>><<<<><>>>><<>><<<><>>><<<>>><>>>><<<>>>><>><<<>>>><>><><<<<>>><<<<>><<<>>>><>>>><<<<>><<<>>>><<><<<><<<>>><<<<>>>><<<><<>><>>><<<<>>><<<>>>><>>>><<<<>>>><<>>><<<>><>>>><<<<>><<<<><>>><<<<>>><>>>><<<<>>><>>>><<><<>>>><<>>><<<<>>>><<<<>><<<<><<<>>><<<<><<<><>>>><>>><<>><<<<>><><>><<>>><>>>><><<<>>>><<>><<<>>>><<>><<><<>>>><<<<>>>><<<<>>><<<<>>><>><<<>>><<<>>><<<<>><<><>>>><<<>>><<>>>><<>>><<>>><<<<>>>><<<<>>>><>><<<>><<<<>>>><<<>>>><><><<<<>>><<<>>><<<<>>><<<><<<<>><<<>>><<<>><<>>>><<>>><<>>>><<<><<>>>><<><<<><<<>>><<<<>>><>>><<<<>>><>>><<<>>>><>>><<<><<><>>><<>>><<>>>><<<<>><<<<><><<<<>>>><<<<>><<<><<<>><<<>>>><<>><<>>>><<><<>>><<<<><<<>><<<>>><>><<>><<<<>>>><<>>>><<<><>>><<<><<>>><<<<>>>><<<>>><<>>>><<<<>>>><<<>>>><<<>><<<>><<<<><<<<><<>>><<<<>><<<>>><>><>><><<<>>>><<>>><>>><<><>>>><<>>><<>>><<><><<<<>><<<>><<<<>>>><>>>><>>><<<<>><<<><<<>>><<<<><<><>>>><<<>>><<<><<>>>><<<>><<<<>>><>><<<<>><<<>><><<<<><<<<>><>><<<>>>><<<>>><<<>>><>>><<<>><<>>>><<<>>><<<<>><>>><<>>>><>><<<<>>>><>><<<>>>><>>><<<<>>><><<<>><<<>>><>><<<<><<<><<<>>>><>>>><<<<><>>>><<>>>><>>><<>>><>>><<<<>>><<<><>>>><>><<>>><<<<>><<<><<<><>>>><<<<>><<>><<<<>>>><>>>><><<<<>><<<>>>><<<>>>><<<>>>><<>>>><<<><>>>><<<>>>><<<<><<<>><<<<><><<<>><<>><<>><<><<<<><<>><<<<>>>><<<>>><<<><>><<>>>><<>>><>><<><<<><>>><<><>><<<><>><<<><<<>><<>>><<<>>>><<<<>><<<>>><>>><<<<>>><><<<<>>><<<<>>>><>><<>>>><<<<>>><<<>>><><>>><><<<<>>>><<<>>>><<<<>><<><<<<>>>><<><>>><<<>>><<>>><<<><<>>>><<<<>>><<<>>>><<<<>><<<>>>><<<>><<>><><<<>><<<<>>>><>><<<<>><<><<<<>>>><>><<>>>><>>>><><<<<>>>><<>><>>>><<>>>><<><<<<><>>>><>>><<>>><<<><<>>><<>>>><>>>><>>><>>>><<<>><<<<>>><<>>><<<<>>><><<>><<>><<<>><<>><<<>>>><<>>>><<<<>>><<<>>>><<<>>>><><<<<>><<>><<<<><<<>>><<<>><<<<>><<<<>>>><<<<>><<<>><<>>>><<<<>>>><<<<>>><<<<>>>><<>>><<>>>><<>><<<>>><<>><><<<>><>>>><<<>>><>>><<<>>>><<<<><>><<<<>><<>>>><<>><<<<>>>><<<><<><>>>><>>>><<><<<>>>><<>><<<<>>>><<<<><>><<<>><>>><<<<><>>>><<><<>>>><<<<>>>><<<<><<<>><<>><<>><>>><<<><<<<>>>><<>><<>>>><>>>><<<><>>>><<<<>>>><<<<>>>><<>>><<<<>>><<<>><>>>><<<><<>>><<>>>><><<<>><>>>><<<><<>><<>><<<>>><>><>><<>>>><>>><<><<>><<<><>>>><<<<>>><<<>><<<><<<<>><<<><>><<<><<>>><<<>>><>><>><<<>>>><<<><>>>><>>><<>>>><<<>><<<<>>>><<<>><>>>><<><<<>><>>><<<>>><<>>>><><>><<<>>>><<<><>>>><<<>>><<<>><<>>><>><>>>><<<<>>>><<><><<<<>>><>><<<<><>><<<>>>><<<<>>><<<<>>><<>><><<<<>><<<<>>>><<<<>>><<<>>>><<<<>>><<<<>>><<<>><>><<>>><<<>><>>><<><<<>>><>>><<<><<>>><>><<<<><<<>>><>><<<<>>><><>>>><<>>>><<<>><<<>>>><<<<><<>><>><>>>><><<<<><<><<><<<>>><><<<<>><<>><<<>>>><<>>><<<>><>><>>>><<>>>><>>>><>><>>>><>>><>><<<<>><<<<>>>><<<><<<><<<<>><>>><<>><<<<>><<<<>>><<<<>>><<<>>>><<<<>><<<>><<<><<<><<<<>>>><<<><<>>><<<>>><<><<<<>><<>>><><<<<>><><<<>>>><<<>>>><<<<>>>><><<>>><><><<>><>><>><<<>>><>><<<>><<<<><<<<>>>><<<>>><>>><>>>><<><<>>>><>>><><>><<>>>><<<>><<<<>><>>>><>>><<<<>>><<>>>><><<<>>><>>><>>><<<<>>>><<>><<<>>>><<>><>>>><<>><<>>><<<<>>>><>>><>>>><<<<>>><<<<>><>>>><<<>><><<<<>>>><<>>><<><<><><<<>>>><<>>>><<>>><>>><<<>>><>>><<<>>>><<<>><<<<>><<>>>><<><<<><<<>><<<<>>>><<<>><<>>><<<<>>><<<>>><<<<><<><>>>><<<<>><><<><<<>><<<<><<<>><<<>>><<>><<<<>>><<<><<<<>><<<<>>><><<<>>><<<<>>><<>>><>>>><<>>><<>><<<><<<<>><<>>>><<<<>>><<<<>>>><<<>><<<<>>>><<<<>>><<<>>><>><<><<<<><<<<>>>><<<><<><<<<><<<<>><>><<<>><<><<<><<><<<>><<<<><>>>><<<>>>><>><<>>>><>>>><>>>><<<>><<<>><<<<>>>><>>>><<<>>><<>>>><<<>>><<>>>><<<<>>>><><>>><><<>>><<<<>>>><>>>><<<>>>><<>>><<>><<<>>><<<<>><<<<>><<>><<<>><<>>>><>>><><<<<><><>>>><<<>>>><<<<>>><<>><>><<<<><>>><<<<>>>><<<<>><>>><<<>>><>>>><><>><>>><><>>>><><>>><<>><<><<<<>><<<<><<<<><<>><<<<><<<>><<<>>>><><<<<>>><<><<<<>>>><>>>><>>><<<>>><<<>>>><<>>><<><>>><<<><>><<<<><<<<><><<<>><><<>>>><<<>><<><<<<>><<>>><>><<>>><>><<<><>>><<>>>><<<<>><>>>><<<>>><<<>>><<>>>><<<>>><<<><>><<>>>><<>><>><<<<>><<<>>>><><<<<>>><>>><<>>><<<<>><<<>>><<>>>><<<>>>><><<<>><<>>>><<<>>><<<<><<<<>><<<<>><<<<>><<>>><<<>><<<>>>><<<<>>><<>>><<<<>>><<<>><<<<><><>><<>>>><<>>><<<<><<<><<<<><<<><><<<>>><>>>><<<<>>>><<><<<>>>><<><<<><><<>><<<<>>><<<><<<>><<<>>><>>><<<<>>><>><<>>>><<<<><<<>><<><>>><<<<>>>><><<>><>>>><<<>>>><<<<>>>><<<>>>><>>><<<>>><<<<><<<<>>>><<<<>>><<><<<>><<<<>><<<>>>><<<<>><<>>><>>><<<<><><<<>><>><>><<<>><<<<>>>><<>><>><<<>>><><<<<>><<>><<<><<>>>><><<<><<>><>><<>>>><<<<>><>>><<<<><<<><<>><<<<>><<<<>>>><<>>><<<<>>><<<>>>><<>>><<<><>>>><<<<>><<<<>><<>>>><<<>>>><<>><<<>>><>><<<<>>>><>><<<<><<<>><<<<>><>><>>>><<<>>>><><><>>>><<<<>>><<<>>><<<<><<>><<><<>>>><<<><<<<>>>><<>>>><<>>><<>><<<<>><<<<>>><>>><>>>><>><<<>>>><<>><<<><<<<><<<>>><<<>>>><<<><<>><<>>><><<<<>><<><<<<><<<>>>><<<<>><<>><<><<<>>><<<<>><<>>><<<>>><<<>><<<>>>><>>>><<>>><<<<>>><>>>><<<><<<>>><<<>><>>><>><<<>>><>>><<<>>><<<<><<<><<<<>><<<<>><<>>><>>><<<<><<>>>><<<<><<>>>><>>>><>>><<>>>><<>>>><<<<><<>><<>><<><>><><<<<>>><>>><<>><<<<>>>><<<<>><>><<<<>><<<>>><<<<>><<>><<>>><<<>>><<<<>><<<<><>><<<<>>><>>>><>><<>>>><>>>><<<<>><<>>><<>>><<>>>><><<><<<<>><<<<><<>>><>>><<<<><<<<>>><<<<>><<<>><<>>>><<<<><<>>>><<<>>>><<<<>>>><<<<><<<<>><<<<>>>><<<>>>><>><>>><<<<>><<<>><<<>><<>><<<<><>><<>><><<<<><<<<>>><<><<<<>><<<>>>><<<><<<<><<>>>><>>><>>><<<>><<<>>>><>>>><<>>><<<<>>><<>><><<<>>>><<><>>>><>><>>>><<<>>>><>>><<>>><>><>>><<<<><<>><<>><>>><>>><<<>><<><<>><><<>>><<>><<>><<<>><<<>>>><>>>><><<<<>>>><<<><<<>>><>><<<<><<<<>>><>>>><<>>>><<>>><>>>><>>>><<<<>>>><<>>><<<<>>><<<>><>>><<<<>>><>><<>>>><<>><<>><><><<<>>>><><<<>>><<<>><<>>>><<>>>><<>>><<>>><<>>><<<><<<<>><<<<>><<<<>><<><<<<>>>><<><<<<>>>><<<<>><<<>>>><<<>><<<<><<<<>>>><<<>><>>>><><>>>><<<<>><<<>>>><<<><<<>>>><<<<><<<>><><<>>><<<<><<>><<<<>>><<<<><<<<>><<<<><<><<<<>><><<<>>><>>>><<<<>><<<>>><<>><<<><>>>><>>><<<<>><>>>><<<><<>>>><<<<>>><<<>>><<><<<<>>>><<<>>><<>>><>>>><<<>>>><>>><<<<><>>>><<>>><<<><>>>><>>>><<<><<><<>><<<<><>>><><<<>>><<>>>><<<<>>><>><<<>><<<>>><<>>><<>>><<<>><<<<>><<<>>><<<>><<<><<<<>>><>>><<<<><<<><<<>>><>>><<><<<<>><<<<><<>><<>>>><<<><>>>><<>>>><<<><>><><<<<><<<><>>><<<<>><>><<<><<><<<<>>><>>><<<>><<<>><>>><<><<<<>>>><<>>>><><><>>>><<>>><<>>><<<<>><<><<<<>><>>><><<<<>>><<<<><<<<>>><<<>>><<<<>>>><<>>>><<<<>><<<>>>><<>>><<<<>><<><<<<><<<><<<><<<<>>><<<<>>>><<>>><<<<>><>><<>><<>>>><>>><<<<><<<<>>><<<>><<><<>>><>>><<<><>>><>>><><>><<<>>>><<<<>>><>><<<><<<>>>><<><<<<>>><<<>>>><<<><<>>>><<<<>>><<><<>>><<>><<>>>><<>>>><<<>>><<<<>><<>><<<<><<<>>><>>>><<>>><>>><<>>><<<>>>><>>>><>>>><<<><>>><<<<>><<<>>><<<>>>><<<<>>>><>>><<<<>>>><<<>>>><>>><<>><<<>>>><<<>><<<>>>><><><>>><<><>>><>>>><>>>><<<<>>><<<><<>>>><<<>>>><<<><>><>>><<<>>>><>><<>><>><<<>>>><<<<>>><<<<><<<<>>>><<<<>>><<>>>><<<<>>>><<<<>><<<>><><<<>>><<<<>>><>>>><<<<>><<>><>><<>>><>>>><<<<><<<><<>>><<<>><<<<>>><<>>><<<>>><<<<><<<>>>><<<>>>><<<>>><>>>><<>>>><<>><<><<>>><><<>><<<<>>>><<<><>>>><<<>><<<<>>>><>>><<<><>>><<<<>>><><<>>>><<<<><<<<>><>>><<<><>>>><<<<>><>>>><<<><<<>>>><<<>>><<<><<<>><<<<>>>><<<>><<<<><<<><<><<<<>>><<<<>>>><<><<<<>>>><><<<<>>>><<<>>><<<>>><<<<><>><<<<>><<<><<<<>>><<><<<<><<>>><<<><<<<><>>><<<<><<<>>>><<<<>>>><<>>>><>><<<<>>><><<<<>>>><<<<>><<<>><<<><<>>><<>>>><>>><<>><<<>><<>>><>>>><<>>>><>>><<<<>><><>>>><<><<<<>>>><<<<>>>><<>><>>><<<>>><<>>>><>>>><>>>><<<<>><<<<>><<<<><<<>>>><>>>><<<<>>>><>><<>>>><<<<>>><<<>>><>><<><<<>>>><>>><<>><<<><>><<<<>><<><>>><<<<><<<>><>>><<<>>>><<>>>><<<<>>><<>><>>><<<<>><<>><<<<>>><><<>>><<><<<<><<<<>><>>><<><<<><<<<>><>>><<>>>><<<>><<<>><<<>>><<<>>>><>>>><<>>><<<>>><>><>>>><>>>><<<>><>>><<<>><<>><>><<<<>>><>>><<<><<<>>>><<<>><<<>>><>>><<<><>>>><<<<><>><<>><<<<><<<>><<>>><<<><>>><<<><<<<><<<<><>><<>>>><<<<>>><<<<>><<<<>>><<<<><<><<<>>><><<>><<>>>><<>>><><<<<><<<<>>><><<<>>>><<<<>>>><<<<>>>><<>><<>><<>><<<>><>>><>><<<<>><<><<<>>><>>><><>>><<<>>>><<>>><>><<<>>>><<<>><<><><<<><>><<<<>>><<<<>><<<<>><<<>>><<<<>>><<<<>>>><<<>>><<<<>><<<<><><<<>>><<<><<><<><<<>><<>>><<>><<><<>>>><>><<<<>>>><>>>><<<<>>><<<<>>><>><<<><<<>>>><<<<>><<<<><<><<<<>>>><<<<>><<<<>>>><<<<>><<<>><<>><<<<>><>><<>>>><<<<><<<><>>><>><<<>>>><><<<><>>>><<<>>><<<>><<<><<<>><<><>>>><<><>>><>><<<>>><<<<>><<><<>><<<<>><<<<><<<>>>><<<<>><<<>>>><>>><<<>><<>>>><<><><<<<><<<<>>>><<<>><<<<>><>>>><<><><<>>>><<<><<<<>><>><>>><<><<<<>>>><<>><<<<><<>>><<<>>><<<>>><<<>>>><>><<<>>>><<<>>>><><<<<>>>><>><<<<>><<<<>>>><<>>><<<>>>><<>><<><<<>>><<>>>><<<<>><<<<>>><>>>><<<>>><<>>>><<>>><><>><<<<>><<<>>>><<>><<<>><<<>>><<<>><>><><<<<>>><<<><<>>>><<>>>><<>><<<><<<><<<<><<><>>>><<<>>>><<<<>>><>><<>>>><>><<<>>>><<<>><<>>>><<<<>>><<<><><<>>><<>><<<>>><<<<>><<>>>><<<><<<<><<>>>><<>>><<<<><<<<><<<>>><<>>><>><<><<><<>>><><>>>><<<>><<>>>><>>>><<<<>><><<<<>><<<<>>>><<>>>><<<<><<<>>><<>>><<><<<<>><>><<><<><<><<<><<<<><>><<<>>>><<<<>>>><<<><>>>><<>>><><>>><<<>>><<<><<>>><<><><<><<<<><<<<>>>><><><<<<>>><>><<>>>><<<<>>>><<<>>><<<><<><<<<><<<<>>><<<<>>>><<<>><<<<>>>><<><<<>><><>>>><<<>>>><<<>>>><<><<<>><>>>><<<><>><<<<><<<<>>><<<<>>>><<><<<>>>><><><<<<><<<<><>><<><>>>><<<>><<>><']\n",
    "\n",
    "# we start with the shape above\n",
    "step = 0\n",
    "shape_count = 0\n",
    "tower_height = 0\n",
    "runs = 1000000000000 #2022\n",
    "\n",
    "# part 2: storage\n",
    "storage_dict = {}\n",
    "additional = 0\n",
    "jet_index = 0\n",
    "while shape_count < runs:\n",
    "    \n",
    "    # Build shape\n",
    "    shape = build_shape(shape_count % 5, tower_height)\n",
    "    shape_count += 1\n",
    "    \n",
    "    continue_flag = True\n",
    "    while continue_flag:\n",
    "\n",
    "            \n",
    "        x_move = symbol_dict[jet_stream[jet_index]]\n",
    "        \n",
    "        # ugly because I need this state.\n",
    "        jet_index += 1\n",
    "        if jet_index > len(jet_stream) - 1:\n",
    "            jet_index = 0\n",
    "            \n",
    "        step += 1\n",
    "\n",
    "        # confirm we can move sideways\n",
    "        if check_side(shape, tracker_shapes, x_move):\n",
    "            shape = move_side(shape, x_move)\n",
    "            \n",
    "        # confirm we can move down\n",
    "        if check_down(shape, tracker_shapes):\n",
    "            shape = move_down(shape)\n",
    "        else:\n",
    "            break\n",
    "        \n",
    "        # check if at rest:\n",
    "        #if check_down(shape, tracker_shapes) != True:\n",
    "        #    continue_flag = False\n",
    "            \n",
    "    # Update locations:\n",
    "    [tracker_shapes.add((x,y)) for (x,y) in shape]\n",
    "    #print(shape)\n",
    "    \n",
    "    #print(f\"On step {step}\")\n",
    "    \n",
    "    # find current tower height:\n",
    "    tower_height = max(s[1] for s in tracker_shapes)\n",
    "    \n",
    "    # store info after each run:\n",
    "    top_row = get_top_seq(tracker_shapes, tower_height)\n",
    "    next_shape = shape_count % 5\n",
    "\n",
    "    if (top_row, next_shape, jet_index) in storage_dict:\n",
    "        print(f\"Cycle found on shape_count {shape_count}\")\n",
    "        print(f\"{(top_row, next_shape, jet_index)}\")\n",
    "        old_count, old_height = storage_dict[(top_row, next_shape, jet_index)]\n",
    "        repeat = (1000000000000 - shape_count) // (shape_count - old_count)\n",
    "        \n",
    "        # update shape count based on repeats to get close to 1 trillion\n",
    "        shape_count += (shape_count - old_count) * repeat\n",
    "        additional += repeat * (tower_height - old_height)\n",
    "        storage_dict = {}\n",
    "        print(f\"Additional height: {additional}\")\n",
    "        print(f\"Shape count: {shape_count}\")\n",
    "    \n",
    "    # update\n",
    "    storage_dict[(top_row, next_shape, jet_index)] = (shape_count, tower_height) # tower size\n",
    "\n",
    "    \n",
    "print(f\"Tower height: {tower_height}\")"
   ]
  },
  {
   "cell_type": "code",
   "execution_count": 19,
   "id": "785db116",
   "metadata": {},
   "outputs": [
    {
     "data": {
      "text/plain": [
       "1535483870924"
      ]
     },
     "execution_count": 19,
     "metadata": {},
     "output_type": "execute_result"
    }
   ],
   "source": [
    "1535483865916 + 5008"
   ]
  }
 ],
 "metadata": {
  "kernelspec": {
   "display_name": "fluent",
   "language": "python",
   "name": "fluent"
  },
  "language_info": {
   "codemirror_mode": {
    "name": "ipython",
    "version": 3
   },
   "file_extension": ".py",
   "mimetype": "text/x-python",
   "name": "python",
   "nbconvert_exporter": "python",
   "pygments_lexer": "ipython3",
   "version": "3.9.6"
  }
 },
 "nbformat": 4,
 "nbformat_minor": 5
}
