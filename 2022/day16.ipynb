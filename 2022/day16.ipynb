{
 "cells": [
  {
   "cell_type": "markdown",
   "id": "2747f6cd",
   "metadata": {},
   "source": [
    "### Part 1:\n",
    "\n",
    "Plan - modify my solution from day 12 but couldn't get that. Liberally read through other python solution in the reddit AoC thread.\n",
    "\n",
    "Super helpful resources:\n",
    "- https://github.com/SourishS17/aoc2022/blob/main/day16a.py (also a video explaining process)\n",
    "- https://stackabuse.com/courses/graphs-in-python-theory-and-implementation/lessons/depth-first-search-dfs-algorithm/\n",
    "\n",
    "Important Learnings:\n",
    "- any 0 valve slows us down: we can bypass them (they slow us down by 1 instead of 2 min since we have to take a minute to get through them prior to moving to another)\n",
    "- once a valve is open it released `p` every minute. This was not initially clear!\n",
    "- the DFS approach I copied is able to handle backtracking since it is always looking at all neighbors: \n",
    "    - Assume I have `AA` connected to `BB,CC` and `BB` connected to `EE`.\n",
    "    - At `AA` I will consider the following:\n",
    "        - opening to valve `AA` (a one-time step)\n",
    "        - moving to `BB`\n",
    "        - moving to `CC`\n",
    "    - Let's say I move to `BB`, then my options are:\n",
    "        - open valve `BB` (assuming not already open)\n",
    "        - move to `EE` \n",
    "        - move to `AA` -> we could keep bouncing back and forth, of course we will also take all other routes to 30 in this case."
   ]
  },
  {
   "cell_type": "code",
   "execution_count": 1,
   "id": "7c9b3d03",
   "metadata": {},
   "outputs": [],
   "source": [
    "import numpy as np\n",
    "from collections import deque\n",
    "\n",
    "with open(\"data/day16.txt\", \"r\", encoding=\"UTF-8\") as f:\n",
    "    lines = f.read().split(\"\\n\")\n",
    " \n",
    "# ugly\n",
    "valve_flow = {l.split(' ')[1]: int(l.split('rate=')[1].split(';')[0]) for l in lines}\n",
    "valve_graph = {l.split(' ')[1]: l.replace('valves ', 'valve ').split('valve ')[1].split(',') for l in lines}\n",
    "# darn white spaces...\n",
    "valve_graph = {k: [vv.strip() for vv in v] for k,v in valve_graph.items()}\n"
   ]
  },
  {
   "cell_type": "code",
   "execution_count": 2,
   "id": "324bb09e",
   "metadata": {},
   "outputs": [
    {
     "name": "stdout",
     "output_type": "stream",
     "text": [
      "2077\n"
     ]
    }
   ],
   "source": [
    "# minutes, nodes opened, start, total\n",
    "q=deque([(0,(),\"AA\",0)])\n",
    "visited=set() # track visited nodes\n",
    "max_pressure =0 # global max value\n",
    "\n",
    "# while there are elements in our queue\n",
    "while q:\n",
    "    \n",
    "    # pop of each component\n",
    "    minutes,opened_valves,current,pressure=q.popleft()\n",
    "    \n",
    "    # if hit 30 min then check if we \n",
    "    # have exceeded current max (w)\n",
    "    if minutes==30: \n",
    "        max_pressure=max(max_pressure,pressure)\n",
    "        continue\n",
    "        \n",
    "    # don't revisit IF the opened valves & current\n",
    "    # have been visited.\n",
    "    # This means we'd be revisiting just to close\n",
    "    # a valve from the same position we entered\n",
    "    # waste of time -> not super clear on this\n",
    "    if (opened_valves,current) in visited:\n",
    "        continue\n",
    "    \n",
    "    # add to our visited set\n",
    "    visited.add((opened_valves,current))\n",
    "    \n",
    "    # We iterate through the opened valves since a minute has passed\n",
    "    # and sum up their pressure onto our prior pressure passed forward\n",
    "    pp = pressure\n",
    "    for i in opened_valves:\n",
    "        pp += valve_flow[i]\n",
    "        \n",
    "    # we will only open our current valve\n",
    "    # if it is not 0. Otherwise this is a waste of time\n",
    "    if valve_flow[current]!=0:\n",
    "        \n",
    "        # assuming we haven't opened, then we will \n",
    "        # add to our opened valve list\n",
    "        # and we will increment by 1 more minute\n",
    "        if current not in opened_valves:\n",
    "            q.append((minutes+1,tuple(list(opened_valves)+[current]),current,pp))\n",
    "            \n",
    "    # Iterate through all nodes connected to current\n",
    "    # This is great as it will also allow us to backtrack along a graph\n",
    "    # And open unopened valves connected on separate\n",
    "    # lineage branches (for lack of a better term)\n",
    "    for i in valve_graph[current]:\n",
    "        q.append((minutes+1,opened_valves,i,pp))\n",
    "\n",
    "print(max_pressure)"
   ]
  },
  {
   "cell_type": "markdown",
   "id": "474be8b1",
   "metadata": {},
   "source": [
    "### Part 2:\n",
    "\n",
    "Thoughts before reviewing another solution:\n",
    "- The goal is to optimize turning on as many valves as possible, considering the elephant's progress.\n",
    "- It seems like we could write the above to share some universal queue....but I think this also explodes in size because for every `1 of N` paths I am on there are `N` paths to consider from the elephant.\n",
    "- Can we just run it twice and find all possible sets, and from there find the most distinct with the largest value? ugly but doable..."
   ]
  },
  {
   "cell_type": "code",
   "execution_count": 8,
   "id": "9efadea9",
   "metadata": {},
   "outputs": [],
   "source": [
    "import numpy as np\n",
    "from collections import deque\n",
    "\n",
    "with open(\"data/day16_sample.txt\", \"r\", encoding=\"UTF-8\") as f:\n",
    "    lines = f.read().split(\"\\n\")\n",
    " \n",
    "# ugly\n",
    "valve_flow = {l.split(' ')[1]: int(l.split('rate=')[1].split(';')[0]) for l in lines}\n",
    "valve_graph = {l.split(' ')[1]: l.replace('valves ', 'valve ').split('valve ')[1].split(',') for l in lines}\n",
    "# darn white spaces...\n",
    "valve_graph = {k: [vv.strip() for vv in v] for k,v in valve_graph.items()}\n"
   ]
  },
  {
   "cell_type": "code",
   "execution_count": 20,
   "id": "aba5b472",
   "metadata": {},
   "outputs": [
    {
     "name": "stdout",
     "output_type": "stream",
     "text": [
      "Total elf paths: 679\n"
     ]
    }
   ],
   "source": [
    "# minutes, nodes opened, start, total\n",
    "q=deque([(0,(),\"AA\",0)])\n",
    "visited=set() # track visited nodes\n",
    "max_pressure =0 # global max value\n",
    "elf_paths = set()\n",
    "\n",
    "# while there are elements in our queue\n",
    "while q:\n",
    "    \n",
    "    # pop of each component\n",
    "    minutes,opened_valves,current,pressure=q.popleft()\n",
    "    \n",
    "    # if hit 30 min then check if we \n",
    "    # have exceeded current max (w)\n",
    "    if minutes==30: \n",
    "        elf_paths.add((opened_valves, pressure))\n",
    "        continue\n",
    "        \n",
    "    # don't revisit IF the opened valves & current\n",
    "    # have been visited.\n",
    "    # This means we'd be revisiting just to close\n",
    "    # a valve from the same position we entered\n",
    "    # waste of time -> not super clear on this\n",
    "    if (opened_valves,current) in visited:\n",
    "        continue\n",
    "    \n",
    "    # add to our visited set\n",
    "    visited.add((opened_valves,current))\n",
    "    \n",
    "    # We iterate through the opened valves since a minute has passed\n",
    "    # and sum up their pressure onto our prior pressure passed forward\n",
    "    pp = pressure\n",
    "    for i in opened_valves:\n",
    "        pp += valve_flow[i]\n",
    "        \n",
    "    # we will only open our current valve\n",
    "    # if it is not 0. Otherwise this is a waste of time\n",
    "    if valve_flow[current]!=0:\n",
    "        \n",
    "        # assuming we haven't opened, then we will \n",
    "        # add to our opened valve list\n",
    "        # and we will increment by 1 more minute\n",
    "        if current not in opened_valves:\n",
    "            q.append((minutes+1,tuple(list(opened_valves)+[current]),current,pp))\n",
    "            \n",
    "    # Iterate through all nodes connected to current\n",
    "    # This is great as it will also allow us to backtrack along a graph\n",
    "    # And open unopened valves connected on separate\n",
    "    # lineage branches (for lack of a better term)\n",
    "    for i in valve_graph[current]:\n",
    "        q.append((minutes+1,opened_valves,i,pp))\n",
    "\n",
    "print(f\"Total elf paths: {len(elf_paths)}\")"
   ]
  },
  {
   "cell_type": "code",
   "execution_count": 21,
   "id": "4fe41f05",
   "metadata": {},
   "outputs": [],
   "source": [
    "# we can now build all sets...which again is going to explode I am guessing\n",
    "# I used a set which reduced size a lot...\n",
    "import itertools\n",
    "\n",
    "for i in itertools.product(elf_paths, elf_paths):\n",
    "    if len(set(i[0][0]).intersection(set(i[1][0]))) == 0:\n",
    "        print(i[0][1], i[1][1])"
   ]
  },
  {
   "cell_type": "code",
   "execution_count": null,
   "id": "0b551b26",
   "metadata": {},
   "outputs": [],
   "source": []
  }
 ],
 "metadata": {
  "kernelspec": {
   "display_name": "ml",
   "language": "python",
   "name": "ml"
  },
  "language_info": {
   "codemirror_mode": {
    "name": "ipython",
    "version": 3
   },
   "file_extension": ".py",
   "mimetype": "text/x-python",
   "name": "python",
   "nbconvert_exporter": "python",
   "pygments_lexer": "ipython3",
   "version": "3.9.2"
  }
 },
 "nbformat": 4,
 "nbformat_minor": 5
}
