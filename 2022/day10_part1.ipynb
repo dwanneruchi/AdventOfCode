{
 "cells": [
  {
   "cell_type": "code",
   "execution_count": 1,
   "id": "376eb18d",
   "metadata": {},
   "outputs": [],
   "source": [
    "from dataclasses import dataclass, field\n",
    "\n",
    "@dataclass\n",
    "class ray:\n",
    "    \"\"\"Class for keeping track location of segment of a knots.\"\"\"\n",
    "    cycle: int\n",
    "    value: int\n",
    "    cycle_execution: dict \n",
    "    cycle_track: dict\n",
    "        \n",
    "    def read_action(self, ex, v):\n",
    "        \"\"\"\n",
    "        Read in action and value, track execution cycle relative to current.\n",
    "        \"\"\"\n",
    "        self.cycle += 1\n",
    "        \n",
    "        #print(f\"Starting on cycle: {self.cycle}, value of {self.value}\")\n",
    "        if ex == 'addx':\n",
    "            self.cycle_execution[self.cycle + 1] = int(v)\n",
    "            \n",
    "            # extra update step\n",
    "            self.cycle_track[self.cycle] = self.value\n",
    "            self.cycle += 1\n",
    "        else:\n",
    "            self.cycle_execution[self.cycle] = 0\n",
    "        \n",
    "        # update value with cycle\n",
    "        self.cycle_track[self.cycle] = self.value\n",
    "        \n",
    "        # run execution\n",
    "        #print(f\"Executing for cycle: {self.cycle}, adding {self.cycle_execution[self.cycle]}\")\n",
    "        self.value = self.value + self.cycle_execution[self.cycle]\n",
    "\n",
    "        #print(f\"Ending cycle: {self.cycle}, value of {self.value}\")"
   ]
  },
  {
   "cell_type": "code",
   "execution_count": 2,
   "id": "1ba5ff70",
   "metadata": {},
   "outputs": [],
   "source": [
    "with open('data/day10_sample.txt') as fh:\n",
    "    data = [line.strip() for line in fh.readlines()]\n",
    "moves = [x.split(' ') for x in data]\n",
    "test_case = ray(0,1,{}, {})\n",
    "\n",
    "# run through each move\n",
    "[test_case.read_action(m[0], int(m[1])) if len(m) > 1 else test_case.read_action(m[0], 0) for m in moves]\n",
    "\n",
    "# sum across expected values\n",
    "vals = [20, 60, 100, 140, 180, 220]\n",
    "full_sum = sum([v * test_case.cycle_track[v] for v in vals])\n",
    "assert(full_sum == 13140)"
   ]
  },
  {
   "cell_type": "code",
   "execution_count": 3,
   "id": "662697f4",
   "metadata": {
    "scrolled": true
   },
   "outputs": [
    {
     "name": "stdout",
     "output_type": "stream",
     "text": [
      "Sum of signals: 14160\n"
     ]
    }
   ],
   "source": [
    "with open('data/day10.txt') as fh:\n",
    "    data = [line.strip() for line in fh.readlines()]\n",
    "moves = [x.split(' ') for x in data]\n",
    "test_case = ray(0,1,{}, {})\n",
    "\n",
    "# run through each move\n",
    "[test_case.read_action(m[0], int(m[1])) if len(m) > 1 else test_case.read_action(m[0], 0) for m in moves]\n",
    "\n",
    "# sum across expected values\n",
    "vals = [20, 60, 100, 140, 180, 220]\n",
    "full_sum = sum([v * test_case.cycle_track[v] for v in vals])\n",
    "print(f\"Sum of signals: {full_sum}\")"
   ]
  }
 ],
 "metadata": {
  "kernelspec": {
   "display_name": "ml",
   "language": "python",
   "name": "ml"
  },
  "language_info": {
   "codemirror_mode": {
    "name": "ipython",
    "version": 3
   },
   "file_extension": ".py",
   "mimetype": "text/x-python",
   "name": "python",
   "nbconvert_exporter": "python",
   "pygments_lexer": "ipython3",
   "version": "3.9.2"
  }
 },
 "nbformat": 4,
 "nbformat_minor": 5
}
