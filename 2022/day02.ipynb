{
 "cells": [
  {
   "cell_type": "code",
   "execution_count": 1,
   "id": "a02f93bd",
   "metadata": {},
   "outputs": [],
   "source": [
    "# read data \n",
    "with open('data/day02.txt') as fh:\n",
    "    data = [line.strip() for line in fh.readlines()]"
   ]
  },
  {
   "cell_type": "code",
   "execution_count": 2,
   "id": "c38b7fac",
   "metadata": {},
   "outputs": [
    {
     "name": "stdout",
     "output_type": "stream",
     "text": [
      "13268\n"
     ]
    }
   ],
   "source": [
    "score = {'X': 1, 'Y': 2, 'Z': 3}\n",
    "conv_map = {'X': 'R', 'A': 'R', 'Y': 'P', 'B': 'P', 'Z': 'S', 'C': 'S'}\n",
    "\n",
    "def outcome(p1,p2, conv_map):\n",
    "    p1 = conv_map[p1]\n",
    "    p2 = conv_map[p2]\n",
    "    \n",
    "    if p1 == p2:\n",
    "        return 3\n",
    "    elif (p1 == 'R' and p2 == 'S') | (p1 == 'S' and p2 == 'P') | (p1 == 'P' and p2 == 'R'):\n",
    "        return 0\n",
    "    else:\n",
    "        return 6\n",
    "    \n",
    "score_track = 0\n",
    "for x in data:\n",
    "    p1, p2 = x.split(' ')\n",
    "    score_track += score[p2]\n",
    "    score_track += outcome(p1,p2, conv_map)\n",
    "    \n",
    "print(score_track)"
   ]
  },
  {
   "cell_type": "markdown",
   "id": "29977fba",
   "metadata": {},
   "source": [
    "### part 2:"
   ]
  },
  {
   "cell_type": "code",
   "execution_count": 3,
   "id": "30027f8c",
   "metadata": {},
   "outputs": [
    {
     "name": "stdout",
     "output_type": "stream",
     "text": [
      "15508\n"
     ]
    }
   ],
   "source": [
    "score = {'R': 1, 'P': 2, 'S': 3}\n",
    "conv_map = {'X': 'R', 'A': 'R', 'Y': 'P', 'B': 'P', 'Z': 'S', 'C': 'S'}\n",
    "\n",
    "lose_scenarios = {'R': 'S', 'S': 'P', 'P': 'R'}\n",
    "win_scenarios = {'S': 'R', 'P': 'S', 'R': 'P'}\n",
    "\n",
    "def fix_outcome(p1,p2):\n",
    "    p1 = conv_map[p1] # find P1 value, convert to R,P,S\n",
    "    \n",
    "    if p2 == 'X': #lose\n",
    "        return 0 + score[lose_scenarios[p1]] # add necessary losing score based on p1\n",
    "    elif p2 == 'Y': #draw\n",
    "        return 3 + score[p1]\n",
    "    else: # otherwise we need to win\n",
    "        return 6 + score[win_scenarios[p1]] # add necessary winning score based on p1\n",
    "    \n",
    "score_track = 0\n",
    "for x in data:\n",
    "    p1, p2 = x.split(' ')\n",
    "    score_track += fix_outcome(p1,p2)\n",
    "    \n",
    "print(score_track)"
   ]
  }
 ],
 "metadata": {
  "kernelspec": {
   "display_name": "ml",
   "language": "python",
   "name": "ml"
  },
  "language_info": {
   "codemirror_mode": {
    "name": "ipython",
    "version": 3
   },
   "file_extension": ".py",
   "mimetype": "text/x-python",
   "name": "python",
   "nbconvert_exporter": "python",
   "pygments_lexer": "ipython3",
   "version": "3.9.2"
  }
 },
 "nbformat": 4,
 "nbformat_minor": 5
}
