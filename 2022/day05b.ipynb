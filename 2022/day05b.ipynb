{
 "cells": [
  {
   "cell_type": "code",
   "execution_count": 1,
   "id": "2271a3e9",
   "metadata": {},
   "outputs": [],
   "source": [
    "# read data \n",
    "with open('data/day05_sample.txt') as fh:\n",
    "    data = [line.strip() for line in fh.readlines()]"
   ]
  },
  {
   "cell_type": "code",
   "execution_count": 2,
   "id": "d3232dbf",
   "metadata": {},
   "outputs": [],
   "source": [
    "from collections import deque\n",
    "import re\n",
    "\n",
    "q1 = deque([x for x in 'ZN'])\n",
    "q2 = deque([x for x in 'MCD'])\n",
    "q3 = deque([x for x in 'P'])\n",
    "\n",
    "queue_list = [q1,q2,q3]"
   ]
  },
  {
   "cell_type": "code",
   "execution_count": 3,
   "id": "7982e415",
   "metadata": {},
   "outputs": [
    {
     "data": {
      "text/plain": [
       "[12, 3, 4]"
      ]
     },
     "execution_count": 3,
     "metadata": {},
     "output_type": "execute_result"
    }
   ],
   "source": [
    "t = [12,3,4]\n",
    "reversed(t)\n",
    "t"
   ]
  },
  {
   "cell_type": "code",
   "execution_count": 4,
   "id": "87895aba",
   "metadata": {},
   "outputs": [],
   "source": [
    "def rearrangement(n, from_q, to_q, q_list = queue_list):\n",
    "    \"\"\"Move n crates from from_q -> to_q\"\"\"\n",
    "    temp_list = []\n",
    "    for _ in range(n):\n",
    "        c = q_list[from_q - 1].pop()\n",
    "        temp_list.append(c)\n",
    "    \n",
    "    # append in order\n",
    "    [q_list[to_q - 1].append(x) for x in reversed(temp_list)]\n",
    "    \n",
    "    return 1\n",
    "    \n",
    "def build_moves(seq):\n",
    "    \"\"\"return all numeric as a list\"\"\"\n",
    "    return [int(x) for x in re.findall(r'\\d+', seq)]\n",
    "\n",
    "def final_code(q_list = queue_list):\n",
    "    \"\"\"return last element of each queue\"\"\"\n",
    "    final_code = ''\n",
    "    for q in queue_list:\n",
    "        o = q.pop()\n",
    "        final_code += o\n",
    "    return final_code"
   ]
  },
  {
   "cell_type": "code",
   "execution_count": 5,
   "id": "817a9676",
   "metadata": {},
   "outputs": [
    {
     "data": {
      "text/plain": [
       "'MCD'"
      ]
     },
     "execution_count": 5,
     "metadata": {},
     "output_type": "execute_result"
    }
   ],
   "source": [
    "moves = [build_moves(d) for d in data]\n",
    "\n",
    "for seq in moves:\n",
    "    rearrangement(seq[0], seq[1], seq[2], queue_list)\n",
    "    \n",
    "final_code()"
   ]
  },
  {
   "cell_type": "code",
   "execution_count": 6,
   "id": "caaf45de",
   "metadata": {},
   "outputs": [
    {
     "data": {
      "text/plain": [
       "'TCGLQSLPW'"
      ]
     },
     "execution_count": 6,
     "metadata": {},
     "output_type": "execute_result"
    }
   ],
   "source": [
    "### Day 1: Actual Data\n",
    "# read data \n",
    "with open('data/day05.txt') as fh:\n",
    "    data = [line.strip() for line in fh.readlines()]\n",
    "\n",
    "# so painfully manual....\n",
    "q1 = deque([x for x in 'QFMRLWCV'])\n",
    "q2 = deque([x for x in 'DQL'])\n",
    "q3 = deque([x for x in 'PSRGWCNB'])\n",
    "q4 = deque([x for x in 'LCDHBQG'])\n",
    "q5 = deque([x for x in 'VGLFZS'])\n",
    "q6 = deque([x for x in 'DGNP'])\n",
    "q7 = deque([x for x in 'DZPVFCW'])\n",
    "q8 = deque([x for x in 'CPDMS'])\n",
    "q9 = deque([x for x in 'ZNWTVMPC'])\n",
    "\n",
    "queue_list = [q1,q2,q3, q4, q5, q6, q7, q8, q9]\n",
    "moves = [build_moves(d) for d in data]\n",
    "\n",
    "for seq in moves:\n",
    "    rearrangement(seq[0], seq[1], seq[2], queue_list)\n",
    "final_code()"
   ]
  }
 ],
 "metadata": {
  "kernelspec": {
   "display_name": "ml",
   "language": "python",
   "name": "ml"
  },
  "language_info": {
   "codemirror_mode": {
    "name": "ipython",
    "version": 3
   },
   "file_extension": ".py",
   "mimetype": "text/x-python",
   "name": "python",
   "nbconvert_exporter": "python",
   "pygments_lexer": "ipython3",
   "version": "3.9.2"
  }
 },
 "nbformat": 4,
 "nbformat_minor": 5
}
