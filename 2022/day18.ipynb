{
 "cells": [
  {
   "cell_type": "code",
   "execution_count": 1,
   "id": "524a1ff1",
   "metadata": {},
   "outputs": [
    {
     "name": "stdout",
     "output_type": "stream",
     "text": [
      "Sides for [2, 2, 2]: 0\n",
      "Sides for [1, 2, 2]: 5\n",
      "Sides for [3, 2, 2]: 5\n",
      "Sides for [2, 1, 2]: 5\n",
      "Sides for [2, 3, 2]: 5\n",
      "Sides for [2, 2, 1]: 5\n",
      "Sides for [2, 2, 3]: 4\n",
      "Sides for [2, 2, 4]: 5\n",
      "Sides for [2, 2, 6]: 6\n",
      "Sides for [1, 2, 5]: 6\n",
      "Sides for [3, 2, 5]: 6\n",
      "Sides for [2, 1, 5]: 6\n",
      "Sides for [2, 3, 5]: 6\n",
      "Total sides: 64\n"
     ]
    }
   ],
   "source": [
    "import numpy as np\n",
    "\n",
    "with open(\"data/day18_sample.txt\", \"r\", encoding=\"UTF-8\") as f:\n",
    "    lines = f.read().split(\"\\n\")\n",
    "\n",
    "# logic: if a cube shares 2 dims with another then side covered\n",
    "\n",
    "total = 0\n",
    "for first in lines:\n",
    "    sides = 6\n",
    "    for second in lines:\n",
    "        l = [int(x) for x in first.split(',')]\n",
    "        z = [int(x) for x in second.split(',')]\n",
    "        if l == z:\n",
    "            continue\n",
    "            \n",
    "        if (l[0] == z[0]) and (l[1] == z[1]) and (abs(l[2] - z[2]) <= 1):\n",
    "            sides -= 1\n",
    "        elif (l[0] == z[0]) and (l[2] == z[2]) and (abs(l[1] - z[1]) <= 1):\n",
    "            sides -= 1\n",
    "        elif (abs(l[0] - z[0]) <= 1) and (l[1] == z[1]) and (l[2] == z[2]):\n",
    "            sides -= 1\n",
    "            \n",
    "    print(f\"Sides for {l}: {sides}\")\n",
    "    total += max(sides, 0)\n",
    "print(f\"Total sides: {total}\")"
   ]
  },
  {
   "cell_type": "code",
   "execution_count": 2,
   "id": "c4d90fd1",
   "metadata": {},
   "outputs": [
    {
     "name": "stdout",
     "output_type": "stream",
     "text": [
      "Total sides: 4636\n"
     ]
    }
   ],
   "source": [
    "with open(\"data/day18.txt\", \"r\", encoding=\"UTF-8\") as f:\n",
    "    lines = f.read().split(\"\\n\")\n",
    "\n",
    "# logic: if a cube shares 2 dims with another then side covered\n",
    "\n",
    "total = 0\n",
    "for first in lines:\n",
    "    sides = 6\n",
    "    for second in lines:\n",
    "        l = [int(x) for x in first.split(',')]\n",
    "        z = [int(x) for x in second.split(',')]\n",
    "        if l == z:\n",
    "            continue\n",
    "            \n",
    "        if (l[0] == z[0]) and (l[1] == z[1]) and (abs(l[2] - z[2]) <= 1):\n",
    "            sides -= 1\n",
    "        elif (l[0] == z[0]) and (l[2] == z[2]) and (abs(l[1] - z[1]) <= 1):\n",
    "            sides -= 1\n",
    "        elif (abs(l[0] - z[0]) <= 1) and (l[1] == z[1]) and (l[2] == z[2]):\n",
    "            sides -= 1\n",
    "            \n",
    "    total += max(sides, 0)\n",
    "print(f\"Total sides: {total}\")"
   ]
  }
 ],
 "metadata": {
  "kernelspec": {
   "display_name": "ml",
   "language": "python",
   "name": "ml"
  },
  "language_info": {
   "codemirror_mode": {
    "name": "ipython",
    "version": 3
   },
   "file_extension": ".py",
   "mimetype": "text/x-python",
   "name": "python",
   "nbconvert_exporter": "python",
   "pygments_lexer": "ipython3",
   "version": "3.9.2"
  }
 },
 "nbformat": 4,
 "nbformat_minor": 5
}
