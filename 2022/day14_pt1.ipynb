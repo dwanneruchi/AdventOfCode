{
 "cells": [
  {
   "cell_type": "code",
   "execution_count": 1,
   "id": "c95c389c",
   "metadata": {},
   "outputs": [],
   "source": [
    "import numpy as np\n",
    "\n",
    "with open(\"data/day14_sample.txt\", \"r\", encoding=\"UTF-8\") as f:\n",
    "    lines = f.read().split(\"\\n\")\n",
    "\n",
    "def build_coords(l, r):\n",
    "    \"\"\" Build V or H line based on input coords\"\"\"\n",
    "    x1, y1 = [int(x) for x in l.split(',')]\n",
    "    x2, y2 = [int(x) for x in r.split(',')]\n",
    "    \n",
    "    if x1 == x2:\n",
    "        return [(y, x1) for y in range(min(y1, y2), max(y1, y2) + 1)]\n",
    "    elif y1 == y2:\n",
    "        return [(y1, x) for x in range(min(x1, x2), max(x1, x2) + 1)]\n",
    "    else:\n",
    "        raise ValueError(\"This shouldn't happen, you misunderstood the prompt!\")\n",
    "        \n",
    "def flattenArray(l):\n",
    "    return np.asarray([item for sublist in l for item in sublist])\n",
    "\n",
    "def sandFall(mat, start):\n",
    "    r, c = start\n",
    "    \n",
    "    # fall until we hit something: an index error means we are in infinity zone\n",
    "    while falling:\n",
    "        try:\n",
    "            if mat[r + 1,c] not in ['#', 'O']: # fall downward until we hit a rock\n",
    "                r += 1\n",
    "            else:\n",
    "                if mat[r + 1,c - 1] not in ['#', 'O']: # try diag left first\n",
    "                    r += 1\n",
    "                    c -= 1\n",
    "                elif mat[r + 1, c + 1] not in ['#', 'O']: # try diag right\n",
    "                    r += 1\n",
    "                    c += 1\n",
    "                else: # nowere else to go\n",
    "                    return (r,c)\n",
    "        except IndexError:\n",
    "            return start"
   ]
  },
  {
   "cell_type": "code",
   "execution_count": 2,
   "id": "df40897e",
   "metadata": {},
   "outputs": [
    {
     "name": "stdout",
     "output_type": "stream",
     "text": [
      "4 9\n",
      "494 503\n"
     ]
    },
    {
     "data": {
      "text/plain": [
       "array([['.', '.', '.', '.', '.', '.', '+', '.', '.', '.'],\n",
       "       ['.', '.', '.', '.', '.', '.', '.', '.', '.', '.'],\n",
       "       ['.', '.', '.', '.', '.', '.', '.', '.', '.', '.'],\n",
       "       ['.', '.', '.', '.', '.', '.', '.', '.', '.', '.'],\n",
       "       ['.', '.', '.', '.', '#', '.', '.', '.', '#', '#'],\n",
       "       ['.', '.', '.', '.', '#', '.', '.', '.', '#', '.'],\n",
       "       ['.', '.', '#', '#', '#', '.', '.', '.', '#', '.'],\n",
       "       ['.', '.', '.', '.', '.', '.', '.', '.', '#', '.'],\n",
       "       ['.', '.', '.', '.', '.', '.', '.', '.', '#', '.'],\n",
       "       ['#', '#', '#', '#', '#', '#', '#', '#', '#', '.']], dtype='<U1')"
      ]
     },
     "execution_count": 2,
     "metadata": {},
     "output_type": "execute_result"
    }
   ],
   "source": [
    "# get coords of rocks\n",
    "rock_coords = []\n",
    "for l in lines:\n",
    "    vals = l.split(' -> ')\n",
    "    for i in range(len(vals) - 1):\n",
    "        rock_coords.append(build_coords(vals[i], vals[i+1]))\n",
    "\n",
    "# single array of coords (written as row, column)\n",
    "all_rocks = flattenArray(rock_coords)\n",
    "\n",
    "# calculate boundaries and offset, which is used mainly\n",
    "# for indexing / visualization\n",
    "min_r = np.min(all_rocks[:,0])\n",
    "max_r = np.max(all_rocks[:,0])\n",
    "min_c = np.min(all_rocks[:,1])\n",
    "max_c = np.max(all_rocks[:,1])\n",
    "\n",
    "print(min_r, max_r)\n",
    "print(min_c, max_c)\n",
    "offset = min_c\n",
    "\n",
    "# Build our matrix and look at starting rocks\n",
    "mat = np.zeros((max_r + 1, max_c - min_c + 1), str)\n",
    "mat[mat == ''] = '.'\n",
    "for rock in all_rocks:\n",
    "    r, c = (rock[0], rock[1])\n",
    "    mat[r, c - offset] = '#'\n",
    "    \n",
    "# And our starting point\n",
    "sr , sc = (0, 500)\n",
    "mat[sr, sc - offset] = '+'\n",
    "    \n",
    "mat"
   ]
  },
  {
   "cell_type": "code",
   "execution_count": 3,
   "id": "e496c68b",
   "metadata": {},
   "outputs": [
    {
     "name": "stdout",
     "output_type": "stream",
     "text": [
      "Total sand at rest: 24\n"
     ]
    },
    {
     "data": {
      "text/plain": [
       "array([['.', '.', '.', '.', '.', '.', '+', '.', '.', '.'],\n",
       "       ['.', '.', '.', '.', '.', '.', '.', '.', '.', '.'],\n",
       "       ['.', '.', '.', '.', '.', '.', 'O', '.', '.', '.'],\n",
       "       ['.', '.', '.', '.', '.', 'O', 'O', 'O', '.', '.'],\n",
       "       ['.', '.', '.', '.', '#', 'O', 'O', 'O', '#', '#'],\n",
       "       ['.', '.', '.', 'O', '#', 'O', 'O', 'O', '#', '.'],\n",
       "       ['.', '.', '#', '#', '#', 'O', 'O', 'O', '#', '.'],\n",
       "       ['.', '.', '.', '.', 'O', 'O', 'O', 'O', '#', '.'],\n",
       "       ['.', 'O', '.', 'O', 'O', 'O', 'O', 'O', '#', '.'],\n",
       "       ['#', '#', '#', '#', '#', '#', '#', '#', '#', '.']], dtype='<U1')"
      ]
     },
     "execution_count": 3,
     "metadata": {},
     "output_type": "execute_result"
    }
   ],
   "source": [
    "# Run falling simulation\n",
    "start = (0, 500 - offset)\n",
    "falling = True\n",
    "while falling:\n",
    "    coords = sandFall(mat, start)\n",
    "    if coords == start:\n",
    "        break\n",
    "    mat[coords] = 'O'\n",
    "\n",
    "print(f\"Total sand at rest: {len(np.argwhere(mat == 'O'))}\")\n",
    "mat"
   ]
  },
  {
   "cell_type": "code",
   "execution_count": 4,
   "id": "d5fcd7d9",
   "metadata": {},
   "outputs": [
    {
     "name": "stdout",
     "output_type": "stream",
     "text": [
      "13 165\n",
      "368 518\n"
     ]
    }
   ],
   "source": [
    "# actual\n",
    "with open(\"data/day14.txt\", \"r\", encoding=\"UTF-8\") as f:\n",
    "    lines = f.read().split(\"\\n\")\n",
    "\n",
    "rock_coords = []\n",
    "for l in lines:\n",
    "    vals = l.split(' -> ')\n",
    "    for i in range(len(vals) - 1):\n",
    "        rock_coords.append(build_coords(vals[i], vals[i+1]))\n",
    "\n",
    "all_rocks = flattenArray(rock_coords)\n",
    "\n",
    "# get bounds:\n",
    "min_r = np.min(all_rocks[:,0])\n",
    "max_r = np.max(all_rocks[:,0])\n",
    "min_c = np.min(all_rocks[:,1])\n",
    "max_c = np.max(all_rocks[:,1])\n",
    "\n",
    "print(min_r, max_r)\n",
    "print(min_c, max_c)\n",
    "offset = min_c"
   ]
  },
  {
   "cell_type": "code",
   "execution_count": 5,
   "id": "0bd81706",
   "metadata": {},
   "outputs": [
    {
     "name": "stdout",
     "output_type": "stream",
     "text": [
      "Total sand at rest: 1298\n"
     ]
    }
   ],
   "source": [
    "# These steps aren't super relevant -> but used for visual\n",
    "mat = np.zeros((max_r + 1, max_c - min_c + 1), str)\n",
    "mat[mat == ''] = '.'\n",
    "for rock in all_rocks:\n",
    "    r, c = (rock[0], rock[1])\n",
    "    mat[r, c - offset] = '#'\n",
    "    \n",
    "# And our starting point\n",
    "sr , sc = (0, 500)\n",
    "mat[sr, sc - offset] = '+'\n",
    "    \n",
    "start = (0, 500 - offset)\n",
    "falling = True\n",
    "while falling:\n",
    "    coords = sandFall(mat, start)\n",
    "    if coords == start:\n",
    "        break\n",
    "    mat[coords] = 'O'\n",
    "\n",
    "print(f\"Total sand at rest: {len(np.argwhere(mat == 'O'))}\")"
   ]
  }
 ],
 "metadata": {
  "kernelspec": {
   "display_name": "ml",
   "language": "python",
   "name": "ml"
  },
  "language_info": {
   "codemirror_mode": {
    "name": "ipython",
    "version": 3
   },
   "file_extension": ".py",
   "mimetype": "text/x-python",
   "name": "python",
   "nbconvert_exporter": "python",
   "pygments_lexer": "ipython3",
   "version": "3.9.2"
  }
 },
 "nbformat": 4,
 "nbformat_minor": 5
}
