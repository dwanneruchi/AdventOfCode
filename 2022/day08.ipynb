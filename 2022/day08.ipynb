{
 "cells": [
  {
   "cell_type": "code",
   "execution_count": 1,
   "id": "7a344814",
   "metadata": {},
   "outputs": [
    {
     "name": "stdout",
     "output_type": "stream",
     "text": [
      "[[3 0 3 7 3]\n",
      " [2 5 5 1 2]\n",
      " [6 5 3 3 2]\n",
      " [3 3 5 4 9]\n",
      " [3 5 3 9 0]]\n",
      "16\n"
     ]
    }
   ],
   "source": [
    "import numpy as np\n",
    "\n",
    "# read sample data\n",
    "with open('data/day08_sample.txt') as fh:\n",
    "    data = [line.strip() for line in fh.readlines()]\n",
    "\n",
    "# build as matrix\n",
    "m = np.asarray([[int(x) for x in group] for group in data])\n",
    "print(m)\n",
    "\n",
    "# count border: just in case we don't have a n x n matrix\n",
    "border_count = m.shape[0] + m.shape[1] + 2 * (m[:,0].shape[0] - 2)\n",
    "print(border_count)"
   ]
  },
  {
   "cell_type": "code",
   "execution_count": 2,
   "id": "e9cbf48d",
   "metadata": {},
   "outputs": [
    {
     "name": "stdout",
     "output_type": "stream",
     "text": [
      "Part 1 Visibile trees: 21\n"
     ]
    }
   ],
   "source": [
    "def quad_scan(r,c, m):\n",
    "    \"\"\"Take input (r,c) and determine if tree can be seen from any angle\"\"\"\n",
    "    v = m[r,c]\n",
    "    \n",
    "    # each check is boolean - confirm all elements in direction are less than\n",
    "    dirs = [np.all(v > m[r,:c]),\n",
    "            np.all(v > m[r,c+1:]),\n",
    "            np.all(v > m[:r, c]),\n",
    "            np.all(v > m[r+1:, c])\n",
    "           ]\n",
    "    \n",
    "    return np.any([d for d in dirs])\n",
    "    \n",
    "assert(quad_scan(1,1,m) == True) # top left\n",
    "assert(quad_scan(1,3,m) == False) # top right\n",
    "assert(quad_scan(2,1,m) == True) # left middle\n",
    "\n",
    "row,col = m.shape\n",
    "tot_vis = np.sum([quad_scan(r,c,m) for r in range(1,row-1) for c in range(1,col-1)])\n",
    "        \n",
    "print(f\"Part 1 Visibile trees: {tot_vis + border_count}\")"
   ]
  },
  {
   "cell_type": "code",
   "execution_count": 3,
   "id": "b8de0f93",
   "metadata": {},
   "outputs": [
    {
     "name": "stdout",
     "output_type": "stream",
     "text": [
      "392\n",
      "Part 1 Visibile trees: 1684\n"
     ]
    }
   ],
   "source": [
    "# Actual Data\n",
    "with open('data/day08.txt') as fh:\n",
    "    data = [line.strip() for line in fh.readlines()]\n",
    "\n",
    "m = np.asarray([[int(x) for x in group] for group in data])\n",
    "\n",
    "# count border: just in case we don't have a n x n matrix\n",
    "border_count = m.shape[0] + m.shape[1] + 2 * (m[:,0].shape[0] - 2)\n",
    "print(border_count)\n",
    "\n",
    "row,col = m.shape\n",
    "tot_vis = np.sum([quad_scan(r,c,m) for r in range(1,row-1) for c in range(1,col-1)])\n",
    "\n",
    "print(f\"Part 1 Visibile trees: {tot_vis + border_count}\")"
   ]
  },
  {
   "cell_type": "code",
   "execution_count": 4,
   "id": "9147478a",
   "metadata": {},
   "outputs": [],
   "source": [
    "# Part 2: Scenic Score\n",
    "def scen_score(r,c, m):\n",
    "    \"\"\"Take input (r,c) and determine scenic score\n",
    "    \n",
    "    The general logic is based on indexing:\n",
    "    - Looking left find the max index where the value of our tree <= another tree. \n",
    "      If this index was 0 (1st) and our tree was index 3 (4th) then we want a value of 3 - 0 = 3\n",
    "    - Looking right find the min index where the value of our tree <= another tree. \n",
    "      If this index was 8 (9th tree) and our tree was index 3 (4th) then we want a value of 5;\n",
    "      This is handled by treating tress 4 (0 index) - 8 (4th index) as a separate array. Can then do \n",
    "      min of this array where condition is met (which is 4th index) and add 1 to get 5 (account for 0-based index)\n",
    "    \n",
    "    Same logic applies for up/down. Up we reference starting row, down treat as separate vector\n",
    "    \n",
    "    Unfortunately I was running into issues handling null vectors (the case where every tree is less in a direction)\n",
    "    meaning that we get an empty vector. The quick solve was to use try/except for each direction. However, I have\n",
    "    to imagine there is a smarter way to do this (maybe checking length before subtracting )\n",
    "    \"\"\"\n",
    "    v = m[r,c]\n",
    "    \n",
    "    # left\n",
    "    try:\n",
    "        l = c - np.max(np.where(v <= m[r,:c]))\n",
    "    except:\n",
    "        l = c\n",
    "    \n",
    "    # right\n",
    "    try:\n",
    "        ri = 1 + np.min(np.where(v <= m[r,c+1:]))\n",
    "    except:\n",
    "        ri = m.shape[0] - (c  + 1 )              \n",
    "    \n",
    "    # up\n",
    "    try:\n",
    "        u = r - np.max(np.where(v <= m[:r,c]))\n",
    "    except:\n",
    "        u = r   \n",
    "        \n",
    "    # down\n",
    "    try:\n",
    "        d = 1 + np.min(np.where(v <= m[r+1:,c]))\n",
    "    except:\n",
    "        d = m.shape[1] - (r + 1)  \n",
    "\n",
    "    return l * ri * u * d"
   ]
  },
  {
   "cell_type": "code",
   "execution_count": 5,
   "id": "ad18109f",
   "metadata": {},
   "outputs": [
    {
     "name": "stdout",
     "output_type": "stream",
     "text": [
      "Part 2 sample: max is 8\n"
     ]
    }
   ],
   "source": [
    "# read sample data\n",
    "with open('data/day08_sample.txt') as fh:\n",
    "    data = [line.strip() for line in fh.readlines()]\n",
    "\n",
    "m = np.asarray([[int(x) for x in group] for group in data])\n",
    "\n",
    "assert(scen_score(3,2,m) == 8)\n",
    "assert(scen_score(1,2,m) == 4)\n",
    "\n",
    "row,col = m.shape\n",
    "max_scen_score = np.max([scen_score(r,c,m) for r in range(1,row-1) for c in range(1,col-1)])\n",
    "\n",
    "print(f\"Part 2 sample: max is {max_scen_score}\")"
   ]
  },
  {
   "cell_type": "code",
   "execution_count": 6,
   "id": "a1054fac",
   "metadata": {},
   "outputs": [
    {
     "name": "stdout",
     "output_type": "stream",
     "text": [
      "[2 5 5 1 2]\n",
      "1\n"
     ]
    }
   ],
   "source": [
    "# exaple of error: all trees to left of the first 5 are visible (just a vector of [2])\n",
    "r = 1\n",
    "c = 1\n",
    "v = m[r,c]\n",
    "print(m[r, :])\n",
    "try:\n",
    "    l = c - np.max(np.where(v <= m[r,:c]))\n",
    "except:\n",
    "    l = c\n",
    "print(l)"
   ]
  },
  {
   "cell_type": "code",
   "execution_count": 7,
   "id": "dc2c440c",
   "metadata": {},
   "outputs": [
    {
     "name": "stdout",
     "output_type": "stream",
     "text": [
      "Part 2: max is 486540\n"
     ]
    }
   ],
   "source": [
    "# read real data\n",
    "with open('data/day08.txt') as fh:\n",
    "    data = [line.strip() for line in fh.readlines()]\n",
    "\n",
    "# build matrix\n",
    "m = np.asarray([[int(x) for x in group] for group in data])\n",
    "row,col = m.shape\n",
    "max_scen_score = np.max([scen_score(r,c,m) for r in range(1,row-1) for c in range(1,col-1)])\n",
    "print(f\"Part 2: max is {max_scen_score}\")\n"
   ]
  }
 ],
 "metadata": {
  "kernelspec": {
   "display_name": "ml",
   "language": "python",
   "name": "ml"
  },
  "language_info": {
   "codemirror_mode": {
    "name": "ipython",
    "version": 3
   },
   "file_extension": ".py",
   "mimetype": "text/x-python",
   "name": "python",
   "nbconvert_exporter": "python",
   "pygments_lexer": "ipython3",
   "version": "3.9.2"
  }
 },
 "nbformat": 4,
 "nbformat_minor": 5
}
