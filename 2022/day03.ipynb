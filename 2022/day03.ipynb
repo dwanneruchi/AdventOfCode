{
 "cells": [
  {
   "cell_type": "code",
   "execution_count": 1,
   "id": "168a3af7",
   "metadata": {},
   "outputs": [],
   "source": [
    "# read data \n",
    "with open('data/day03.txt') as fh:\n",
    "    data = [line.strip() for line in fh.readlines()]"
   ]
  },
  {
   "cell_type": "code",
   "execution_count": 2,
   "id": "172966b5",
   "metadata": {},
   "outputs": [],
   "source": [
    "def compartment_overlap(line):\n",
    "    \"\"\"Take in a line, split into two comparments, and find single common element\"\"\"\n",
    "    split_point = int(len(line) / 2)\n",
    "    return list(set(line[:split_point]) & set(line[split_point:]))[0]\n",
    "\n",
    "def convert_char(char):\n",
    "    \"\"\"Using ord build priority value\"\"\"\n",
    "    if char.isupper():\n",
    "        return ord(char) - 38\n",
    "    return ord(char) - 96\n",
    "\n",
    "def elf_group_priority(lines):\n",
    "    \"\"\"Take in a list of 3 rucksacks and find single common element\"\"\"\n",
    "    return list(set(lines[0]) & set(lines[1]) &  set(lines[2]))[0]\n",
    "\n",
    "# testing\n",
    "assert(convert_char('Z') == 52)\n",
    "assert(convert_char('z') == 26)\n",
    "assert(convert_char('A') == 27)\n",
    "assert(convert_char('a') == 1)\n",
    "assert(compartment_overlap(\"vJrwpWtwJgWrhcsFMMfFFhFp\") ==  \"p\")\n",
    "assert(elf_group_priority([\"vJrwpWtwJgWrhcsFMMfFFhFp\", \n",
    "                           \"jqHRNqRjqzjGDLGLrsFMfFZSrLrFZsSL\", \n",
    "                           \"PmmdzqPrVvPwwTWBwg\"]) == 'r')"
   ]
  },
  {
   "cell_type": "code",
   "execution_count": 3,
   "id": "3388b8ac",
   "metadata": {},
   "outputs": [
    {
     "name": "stdout",
     "output_type": "stream",
     "text": [
      "7903\n"
     ]
    }
   ],
   "source": [
    "# Part 1: Sum priorities\n",
    "priority_sum = 0\n",
    "for line in data:\n",
    "    overlap = compartment_overlap(line)\n",
    "    priority_sum += convert_char(overlap)\n",
    "print(priority_sum)"
   ]
  },
  {
   "cell_type": "code",
   "execution_count": 4,
   "id": "9e4ea6e1",
   "metadata": {},
   "outputs": [
    {
     "name": "stdout",
     "output_type": "stream",
     "text": [
      "2548\n"
     ]
    }
   ],
   "source": [
    "# Part 2: Sum Common by Group\n",
    "group_priority_sum = 0\n",
    "total_lines = len(data)\n",
    "for i in range(0, len(data), 3):\n",
    "    input_rucks = [data[i], data[i+1], data[i+2]]\n",
    "    overlap = elf_group_priority(input_rucks)\n",
    "    group_priority_sum += convert_char(overlap)\n",
    "print(group_priority_sum)"
   ]
  }
 ],
 "metadata": {
  "kernelspec": {
   "display_name": "ml",
   "language": "python",
   "name": "ml"
  },
  "language_info": {
   "codemirror_mode": {
    "name": "ipython",
    "version": 3
   },
   "file_extension": ".py",
   "mimetype": "text/x-python",
   "name": "python",
   "nbconvert_exporter": "python",
   "pygments_lexer": "ipython3",
   "version": "3.9.2"
  }
 },
 "nbformat": 4,
 "nbformat_minor": 5
}
