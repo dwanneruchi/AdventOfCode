{
 "cells": [
  {
   "cell_type": "code",
   "execution_count": 1,
   "id": "61687266",
   "metadata": {},
   "outputs": [],
   "source": [
    "import numpy as np\n",
    "\n",
    "with open(\"data/day15_sample.txt\", \"r\", encoding=\"UTF-8\") as f:\n",
    "    lines = f.read().split(\"\\n\")\n",
    "    \n",
    "def manhattan_distance(s, b):\n",
    "    return abs(s[0] - b[0]) + abs(s[1] - b[1])\n",
    "\n",
    "def find_four_points(s, md):\n",
    "    \"\"\"Input sensor and build all directions based on manhattan distance\"\"\"\n",
    "    \n",
    "    # col math\n",
    "    sc_neg = (s[0], s[1] - md)\n",
    "    sc_pos = (s[0], s[1] + md)\n",
    "    \n",
    "    # row math\n",
    "    sr_neg = (s[0] - md, s[1])\n",
    "    sr_pos = (s[0] + md, s[1])\n",
    "    \n",
    "    return (sc_neg, sc_pos, sr_neg, sr_pos)\n",
    "    \n",
    "def flattenArray(l):\n",
    "    return np.asarray([item for sublist in l for item in sublist])\n",
    "\n",
    "def build_coverage(sc_neg, sc_pos, sr_neg, sr_pos, md):\n",
    "    \"\"\"We can start at sr_neg which is our high point\"\"\"\n",
    "    \n",
    "    update_vals = []\n",
    "    \n",
    "    \n",
    "    r = sr_neg[0]\n",
    "    c = sr_neg[1]\n",
    "    update_vals.append([(r,c)])\n",
    "    min_c = c\n",
    "    max_c = c\n",
    "    \n",
    "    # each step we increment row by 1, and increment column range outward until we hit the manhattan dist\n",
    "    while (max_c - min_c + 1) <= (2 * md - 1):\n",
    "        #Spread cols\n",
    "        min_c -= 1\n",
    "        max_c += 1\n",
    "        r += 1\n",
    "        \n",
    "        update_vals.append([(r, c) for c in range(min_c, max_c + 1)])\n",
    "        \n",
    "    # now build upwards from low point\n",
    "    r = sr_pos[0]\n",
    "    c = sr_pos[1]\n",
    "    update_vals.append([(r,c)])\n",
    "    min_c = c\n",
    "    max_c = c\n",
    "    # each step we reduce row by 1, and increment column range outward until we hit the manhattan dist\n",
    "    while (max_c - min_c + 1) <= (2 * md - 2):\n",
    "        #Spread cols\n",
    "        min_c -= 1\n",
    "        max_c += 1\n",
    "        r -= 1\n",
    "        update_vals.append([(r, c) for c in range(min_c, max_c + 1)])\n",
    "        \n",
    "    \n",
    "    # return flattened array\n",
    "    return flattenArray(update_vals)"
   ]
  },
  {
   "cell_type": "code",
   "execution_count": 2,
   "id": "82ae9710",
   "metadata": {},
   "outputs": [],
   "source": [
    "sensor_dict = {}\n",
    "for l in lines:\n",
    "    \n",
    "    # sensor data\n",
    "    sx = int(l.split('x=')[1].split(',')[0])\n",
    "    sy = int(l.split('y=')[1].split(':')[0])\n",
    "    \n",
    "    # beacon data\n",
    "    beacon = l.split('beacon')[1]\n",
    "    bx = int(beacon.split('x=')[1].split(',')[0])\n",
    "    by = int(beacon.split('y=')[1].strip())\n",
    "    \n",
    "    # store as row, col\n",
    "    sensor_dict[(sy,sx)] = (by,bx)"
   ]
  },
  {
   "cell_type": "code",
   "execution_count": 3,
   "id": "2e81db82",
   "metadata": {},
   "outputs": [
    {
     "name": "stdout",
     "output_type": "stream",
     "text": [
      "0 22\n",
      "-2 25\n"
     ]
    }
   ],
   "source": [
    "# calculate boundaries and offset, which is used mainly\n",
    "# for indexing / visualization\n",
    "long_list = []\n",
    "for k,v in sensor_dict.items():\n",
    "    long_list.append(k)\n",
    "    long_list.append(v)\n",
    "long_list = np.asarray(long_list)\n",
    "\n",
    "min_r = np.min(long_list[:,0])\n",
    "max_r = np.max(long_list[:,0])\n",
    "min_c = np.min(long_list[:,1])\n",
    "max_c = np.max(long_list[:,1])\n",
    "\n",
    "print(min_r, max_r)\n",
    "print(min_c, max_c)\n",
    "offset = -1 * min_c"
   ]
  },
  {
   "cell_type": "code",
   "execution_count": 4,
   "id": "5aa87ef6",
   "metadata": {},
   "outputs": [
    {
     "name": "stdout",
     "output_type": "stream",
     "text": [
      "....S.......................\n",
      "......................S.....\n",
      "...............S............\n",
      "................SB..........\n",
      "............................\n",
      "............................\n",
      "............................\n",
      "..........S.......S.........\n",
      "............................\n",
      "............................\n",
      "....B.......................\n",
      "..S.........................\n",
      "............................\n",
      "............................\n",
      "..............S.......S.....\n",
      "B...........................\n",
      "...........SB...............\n",
      "................S..........B\n",
      "....S.......................\n",
      "............................\n",
      "............S......S........\n",
      "............................\n",
      ".......................B....\n"
     ]
    }
   ],
   "source": [
    "# Build our matrix start (not needed but helpful for visualizing solution)\n",
    "mat = np.zeros((max_r + 1, max_c - min_c + 1), str)\n",
    "mat[mat == ''] = '.'\n",
    "for k,v in sensor_dict.items():\n",
    "    # calculate sensor\n",
    "    r,c = k\n",
    "    mat[r, c + offset] = 'S'\n",
    "    \n",
    "    # calculate beacon\n",
    "    r,c = v\n",
    "    mat[r, c + offset] = 'B'\n",
    "\n",
    "for row in mat:\n",
    "    print(''.join(list(row)))"
   ]
  },
  {
   "cell_type": "code",
   "execution_count": 5,
   "id": "87d14865",
   "metadata": {},
   "outputs": [],
   "source": [
    "# expand grid for visual\n",
    "def update_grid(mat, coverage, offset):\n",
    "    for m in coverage:\n",
    "        if (m[0] < 0) or (m[0] > mat.shape[0] - 1) or (m[1] < 0 - offset) or (m[1] > mat.shape[1] - offset - 1):\n",
    "            continue\n",
    "        elif mat[(m[0], m[1] + offset)] in ['B', 'S']:\n",
    "            continue\n",
    "        else:\n",
    "            mat[(m[0], m[1] + offset)] = \"#\"\n",
    "    \n",
    "    return mat"
   ]
  },
  {
   "cell_type": "code",
   "execution_count": 6,
   "id": "aa8d6a81",
   "metadata": {},
   "outputs": [
    {
     "name": "stdout",
     "output_type": "stream",
     "text": [
      "####S#######################\n",
      "######################S#####\n",
      "###############S############\n",
      "################SB##########\n",
      "###########################.\n",
      "##########################..\n",
      "#########################...\n",
      ".#########S#######S#####....\n",
      "..#######################...\n",
      ".#########################..\n",
      "####B######################.\n",
      "##S#############.###########\n",
      "############################\n",
      ".###########################\n",
      ".#############S#######S#####\n",
      "B###########################\n",
      "###########SB###############\n",
      "################S##########B\n",
      "####S######################.\n",
      "##########################..\n",
      "############S######S######..\n",
      "#########################...\n",
      ".#######..#############B....\n"
     ]
    }
   ],
   "source": [
    "# full sample:\n",
    "for k,v in sensor_dict.items():\n",
    "\n",
    "    md = manhattan_distance(k, v)\n",
    "    a,b,c,d = find_four_points(k, md)\n",
    "    coverage = build_coverage(a,b,c,d, md)\n",
    "    mat = update_grid(mat, coverage, offset = 2)\n",
    "\n",
    "for row in mat:\n",
    "    print(''.join(list(row))) "
   ]
  },
  {
   "cell_type": "code",
   "execution_count": 7,
   "id": "ed49a55a",
   "metadata": {},
   "outputs": [
    {
     "data": {
      "text/plain": [
       "26"
      ]
     },
     "execution_count": 7,
     "metadata": {},
     "output_type": "execute_result"
    }
   ],
   "source": [
    "len(np.argwhere(mat[10,:] ==  '#')) "
   ]
  }
 ],
 "metadata": {
  "kernelspec": {
   "display_name": "ml",
   "language": "python",
   "name": "ml"
  },
  "language_info": {
   "codemirror_mode": {
    "name": "ipython",
    "version": 3
   },
   "file_extension": ".py",
   "mimetype": "text/x-python",
   "name": "python",
   "nbconvert_exporter": "python",
   "pygments_lexer": "ipython3",
   "version": "3.9.2"
  }
 },
 "nbformat": 4,
 "nbformat_minor": 5
}
