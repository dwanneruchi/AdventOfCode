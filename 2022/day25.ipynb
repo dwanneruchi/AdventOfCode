{
 "cells": [
  {
   "cell_type": "markdown",
   "id": "85627845",
   "metadata": {},
   "source": [
    "### Part 1\n",
    "\n",
    "#### Comparison of SNAFU to base-ten\n",
    "\n",
    "Base ten:\n",
    "\n",
    "1,580 -> 10^3 * 1 + 10^2 * 5 + 10^1 * 8 + 10^0 * 0"
   ]
  },
  {
   "cell_type": "code",
   "execution_count": 1,
   "id": "632fa1a8",
   "metadata": {},
   "outputs": [
    {
     "data": {
      "text/plain": [
       "1580"
      ]
     },
     "execution_count": 1,
     "metadata": {},
     "output_type": "execute_result"
    }
   ],
   "source": [
    "10**3 + 5 * 10**2 + 8 * 10 ** 1 + 0 * 10 ** 0"
   ]
  },
  {
   "cell_type": "markdown",
   "id": "fe8f5efe",
   "metadata": {},
   "source": [
    "SNAFU swaps out the 10 with a 5, so should be straight forward using power logic.\n",
    "\n",
    "Also uses (2,1,0,-,=)\n",
    "\n",
    "\n",
    "### Approach: \n",
    "- I first built a `snafu -> decimal` function, this was helpful to confirm I understood the logic and helped me to do some checks\n",
    "- Next, I could actually avoid converting from `decimal` to `SNAFU`. Instead I can just sum up directly with a little bit of modulus math. "
   ]
  },
  {
   "cell_type": "code",
   "execution_count": 2,
   "id": "f4f12926",
   "metadata": {},
   "outputs": [],
   "source": [
    "# map a string SNAFU -> base-10\n",
    "snafu_map = {\n",
    "    '2': 2, '1': 1, '0': 0, '-': -1, '=': -2\n",
    "}\n",
    "\n",
    "# map a base-10 to SNAFU\n",
    "dec_to_snafu = {v:k for k,v in snafu_map.items()}"
   ]
  },
  {
   "cell_type": "code",
   "execution_count": 3,
   "id": "c8ad7779",
   "metadata": {},
   "outputs": [],
   "source": [
    "def snafu_to_dec(string, snafu_map):\n",
    "    powers = list(range(len(string)))\n",
    "    total = 0\n",
    "    for v, p in zip(string, reversed(powers)):\n",
    "        total += int(snafu_map[v]) * (5 ** p)\n",
    "    \n",
    "    return total"
   ]
  },
  {
   "cell_type": "code",
   "execution_count": 4,
   "id": "9904b4bb",
   "metadata": {},
   "outputs": [],
   "source": [
    "tests = [\"1=11-2\", \"1=0\", \"1121-1110-1=0\"]\n",
    "solutions = [2022, 15, 314159265]\n",
    "\n",
    "# convert to base 10 from SNAFU\n",
    "for idx in range(len(tests)):\n",
    "    assert snafu_to_dec(tests[idx], snafu_map) == solutions[idx]\n",
    "\n",
    "# and we can sum & check\n",
    "assert (snafu_to_dec(tests[0], snafu_map) + snafu_to_dec(tests[1], snafu_map)) == solutions[0] + solutions[1]"
   ]
  },
  {
   "cell_type": "code",
   "execution_count": 5,
   "id": "2225ac47",
   "metadata": {},
   "outputs": [],
   "source": [
    "# this was determined by using the \"snafu_to_dec\" function above\n",
    "mod_map = {5: (1, '0'), 4: (1, '-'), 3: (1, '='), \n",
    "           -3: (-1, '2'), -4: (-1, '1'), -5: (-1, '0')}\n",
    "\n",
    "# Can keep everything in SNAFU, solve right to left\n",
    "def snafu_addition(string1, string2, snafu_map):\n",
    "    \n",
    "    s1 = len(string1)\n",
    "    s2 = len(string2)\n",
    "    \n",
    "    # pad the shorter one w/ 0s as strings\n",
    "    if s1 > s2:\n",
    "        string2 = string2.rjust(s1, '0')\n",
    "    else:\n",
    "        string1 = string1.rjust(s2, '0')\n",
    "        \n",
    "    #print(string1)\n",
    "    #print(string2)\n",
    "    \n",
    "    r = 0\n",
    "    string = ''\n",
    "    for i, (t, b) in enumerate(zip(reversed(string1), reversed(string2))):\n",
    "        #print(i,t,b) start by unpacking the index, and each char\n",
    "        \n",
    "        # Calculate a decimal total\n",
    "        total = snafu_map[t] + snafu_map[b] + r\n",
    "        #print(total)\n",
    "        \n",
    "        # our system is limited to -2 -> 2 boundary, anything else must be handled \n",
    "        # using mod math\n",
    "        if -2 <= total <= 2:\n",
    "            #print(\"can represent\")\n",
    "            string += dec_to_snafu[total]\n",
    "            r = 0\n",
    "            \n",
    "        # hardcoded mod math above, going char by char\n",
    "        else:\n",
    "            #print(\"need some mod math\")\n",
    "            r, char = mod_map[total]\n",
    "            string += char\n",
    "        \n",
    "    if r > 0:\n",
    "        string+= str(r)\n",
    "        \n",
    "    return string[::-1]"
   ]
  },
  {
   "cell_type": "code",
   "execution_count": 6,
   "id": "20d013bc",
   "metadata": {},
   "outputs": [],
   "source": [
    "# quick test\n",
    "snafu_out = snafu_addition(tests[0], tests[1], snafu_map)\n",
    "assert snafu_to_dec(snafu_out, snafu_map) == solutions[0] + solutions[1]"
   ]
  },
  {
   "cell_type": "code",
   "execution_count": 7,
   "id": "93593ba8",
   "metadata": {},
   "outputs": [
    {
     "name": "stdout",
     "output_type": "stream",
     "text": [
      "2=-1=0\n"
     ]
    }
   ],
   "source": [
    "# sample -> sum line by line\n",
    "with open(\"data/day25_sample.txt\", \"r\", encoding=\"UTF-8\") as f:\n",
    "    lines = f.read().split(\"\\n\")\n",
    "    \n",
    "snafu_out = snafu_addition(lines[0], lines[1], snafu_map)\n",
    "for i in range(2, len(lines)):\n",
    "    snafu_out = snafu_addition(snafu_out, lines[i], snafu_map)\n",
    "\n",
    "print(snafu_out)"
   ]
  },
  {
   "cell_type": "code",
   "execution_count": 8,
   "id": "9050cc39",
   "metadata": {},
   "outputs": [
    {
     "name": "stdout",
     "output_type": "stream",
     "text": [
      "2=222-2---22=1=--1-2\n"
     ]
    }
   ],
   "source": [
    "# sample -> sum line by line\n",
    "with open(\"data/day25.txt\", \"r\", encoding=\"UTF-8\") as f:\n",
    "    lines = f.read().split(\"\\n\")\n",
    "    \n",
    "snafu_out = snafu_addition(lines[0], lines[1], snafu_map)\n",
    "#print(snafu_to_dec(lines[0], snafu_map) + (snafu_to_dec(lines[1], snafu_map)))\n",
    "cumu_list = []\n",
    "for i in range(2, len(lines)):\n",
    "    snafu_out = snafu_addition(snafu_out, lines[i], snafu_map)\n",
    "    cumu_list.append(snafu_out)\n",
    "    #print(i, snafu_to_dec(snafu_out, snafu_map))\n",
    "\n",
    "print(snafu_out)"
   ]
  },
  {
   "cell_type": "code",
   "execution_count": 9,
   "id": "488ab047",
   "metadata": {},
   "outputs": [],
   "source": [
    "# And we can just do a quick confirmation\n",
    "sum_v = 0\n",
    "snaf_list = []\n",
    "for i in lines:\n",
    "    #print(i)\n",
    "    v = snafu_to_dec(i, snafu_map)\n",
    "    sum_v += v\n",
    "    snaf_list.append(sum_v)\n",
    "\n",
    "assert(sum_v == snafu_to_dec(snafu_out, snafu_map))"
   ]
  }
 ],
 "metadata": {
  "kernelspec": {
   "display_name": "ml",
   "language": "python",
   "name": "ml"
  },
  "language_info": {
   "codemirror_mode": {
    "name": "ipython",
    "version": 3
   },
   "file_extension": ".py",
   "mimetype": "text/x-python",
   "name": "python",
   "nbconvert_exporter": "python",
   "pygments_lexer": "ipython3",
   "version": "3.9.2"
  }
 },
 "nbformat": 4,
 "nbformat_minor": 5
}
