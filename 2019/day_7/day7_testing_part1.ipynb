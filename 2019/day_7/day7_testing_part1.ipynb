{
 "cells": [
  {
   "cell_type": "code",
   "execution_count": 1,
   "metadata": {},
   "outputs": [],
   "source": [
    "from functions_fun import intcode_pc"
   ]
  },
  {
   "cell_type": "code",
   "execution_count": 5,
   "metadata": {},
   "outputs": [],
   "source": [
    "test_vals = [3,23,3,24,1002,24,10,24,1002,23,-1,23,101,5,23,23,1,24,23,23,4,23,99,0,0]"
   ]
  },
  {
   "cell_type": "code",
   "execution_count": 6,
   "metadata": {},
   "outputs": [
    {
     "name": "stdout",
     "output_type": "stream",
     "text": [
      "0\n",
      "0\n",
      "5\n"
     ]
    }
   ],
   "source": [
    "intcode_pc(test_vals, 0, False)"
   ]
  },
  {
   "cell_type": "code",
   "execution_count": 7,
   "metadata": {},
   "outputs": [
    {
     "name": "stdout",
     "output_type": "stream",
     "text": [
      "1\n",
      "0\n",
      "4\n"
     ]
    }
   ],
   "source": [
    "intcode_pc(test_vals, 0, False)"
   ]
  },
  {
   "cell_type": "code",
   "execution_count": 23,
   "metadata": {},
   "outputs": [],
   "source": [
    "# this is rally just a massive loop, and instead of really having inputs I just need to pass in a val for input + 0s after"
   ]
  },
  {
   "cell_type": "markdown",
   "metadata": {},
   "source": [
    "# modify intcode_pd to not take direct input"
   ]
  },
  {
   "cell_type": "code",
   "execution_count": 49,
   "metadata": {},
   "outputs": [],
   "source": [
    "def intcode_pc(list_vals, init_val, flag_99, permut_input, input_sig):\n",
    "    \n",
    "    \"\"\"Built in Day 5\"\"\"\n",
    "    input_cnt = 0 # initialize\n",
    "    \n",
    "    while flag_99 != True:\n",
    "    \n",
    "        # identify the opt_code_str\n",
    "        opt_code_str = str(list_vals[init_val])\n",
    "\n",
    "        # take actual opt code: \n",
    "        opt_code = int(opt_code_str[-2:])\n",
    "\n",
    "        # modes can be 0 == position or 1 == immediate \n",
    "        # handle mode with try / except\n",
    "        mode_3, mode_2, mode_1 = 0, 0, 0\n",
    "\n",
    "        # overwrite 0s UNLESS type error, then we know we had trailing 0s\n",
    "        # saw example here: https://p.szy.io/MrmgEA/python\n",
    "        try:\n",
    "            mode_1 = int(opt_code_str[-3])\n",
    "            mode_2 = int(opt_code_str[-4])\n",
    "            mode_3 = int(opt_code_str[-5])\n",
    "\n",
    "        except IndexError:\n",
    "            pass\n",
    "\n",
    "\n",
    "        # handling each type of opt code\n",
    "        if opt_code == 1:\n",
    "\n",
    "            # the third param provides the writing point: we always look at the 3rd value after opt code to write\n",
    "            write_ix = list_vals[init_val + 3]\n",
    "\n",
    "            # we now need values to sum\n",
    "            # When Mode == 0: first move to param, and take val. l_v[init+n] - output\n",
    "            # Then find the list_vals[output] and this is the value of interest\n",
    "            val1 = list_vals[list_vals[init_val + 1]] if mode_1 == 0 else list_vals[init_val + 1]\n",
    "            val2 = list_vals[list_vals[init_val + 2]] if mode_2 == 0 else list_vals[init_val + 2]\n",
    "            ans = val1 + val2\n",
    "\n",
    "            # overwrite\n",
    "            list_vals[write_ix] = ans\n",
    "\n",
    "            init_val += 4\n",
    "\n",
    "        elif opt_code == 2:\n",
    "\n",
    "            write_ix = list_vals[init_val + 3]\n",
    "\n",
    "            val1 = list_vals[list_vals[init_val + 1]] if mode_1 == 0 else list_vals[init_val + 1]\n",
    "            val2 = list_vals[list_vals[init_val + 2]] if mode_2 == 0 else list_vals[init_val + 2]\n",
    "            ans = val1 * val2\n",
    "\n",
    "            # overwrite\n",
    "            list_vals[write_ix] = ans\n",
    "\n",
    "            init_val += 4\n",
    "\n",
    "        elif opt_code == 3:\n",
    "            # DAY 7 MOD: no more input, just pass in vals\n",
    "            write_ix = list_vals[init_val + 1]\n",
    "            \n",
    "            if input_cnt > 0:\n",
    "                list_vals[write_ix] = input_sig\n",
    "                input_cnt += 1\n",
    "                \n",
    "            else:\n",
    "                list_vals[write_ix] = permut_input\n",
    "                input_cnt += 1\n",
    "                \n",
    "            init_val += 2\n",
    "\n",
    "\n",
    "        elif opt_code == 4:\n",
    "            # DAY 7: MOD to not print, but return at last line\n",
    "            print_val = list_vals[list_vals[init_val + 1]] if mode_1 == 0 else list_vals[init_val + 1]\n",
    "            init_val += 2        \n",
    "\n",
    "        elif opt_code == 5:\n",
    "\n",
    "            # jump-if-true\n",
    "            val1 = list_vals[list_vals[init_val + 1]] if mode_1 == 0 else list_vals[init_val + 1]\n",
    "            val2 = list_vals[list_vals[init_val + 2]] if mode_2 == 0 else list_vals[init_val + 2]\n",
    "\n",
    "            if val1 != 0:\n",
    "                init_val = val2\n",
    "            else:\n",
    "                init_val += 3\n",
    "\n",
    "        elif opt_code == 6:\n",
    "\n",
    "            # jump-if-false\n",
    "            val1 = list_vals[list_vals[init_val + 1]] if mode_1 == 0 else list_vals[init_val + 1]\n",
    "            val2 = list_vals[list_vals[init_val + 2]] if mode_2 == 0 else list_vals[init_val + 2]\n",
    "\n",
    "            if val1 == 0:\n",
    "                init_val = val2\n",
    "            else:\n",
    "                init_val += 3\n",
    "\n",
    "        elif opt_code == 7:\n",
    "\n",
    "            # less than\n",
    "            val1 = list_vals[list_vals[init_val + 1]] if mode_1 == 0 else list_vals[init_val + 1]\n",
    "            val2 = list_vals[list_vals[init_val + 2]] if mode_2 == 0 else list_vals[init_val + 2]\n",
    "\n",
    "            write_ix = list_vals[init_val + 3]\n",
    "\n",
    "            ans = 1 if val1 < val2 else 0\n",
    "            list_vals[write_ix] = ans\n",
    "            init_val += 4\n",
    "\n",
    "        elif opt_code == 8:\n",
    "\n",
    "            # equals\n",
    "            val1 = list_vals[list_vals[init_val + 1]] if mode_1 == 0 else list_vals[init_val + 1]\n",
    "            val2 = list_vals[list_vals[init_val + 2]] if mode_2 == 0 else list_vals[init_val + 2]\n",
    "\n",
    "            write_ix = list_vals[init_val + 3]\n",
    "\n",
    "            ans = 1 if val1 == val2 else 0\n",
    "            list_vals[write_ix] = ans\n",
    "            init_val += 4\n",
    "\n",
    "        elif opt_code == 99:\n",
    "            flag_99 = True\n",
    "            return print_val\n",
    "\n",
    "        else:\n",
    "\n",
    "            print(\"Something is broken!\")"
   ]
  },
  {
   "cell_type": "code",
   "execution_count": 50,
   "metadata": {},
   "outputs": [
    {
     "name": "stdout",
     "output_type": "stream",
     "text": [
      "54321\n",
      "554543543254321\n"
     ]
    }
   ],
   "source": [
    "# ensure this still works; should return a 54321\n",
    "a = intcode_pc(test_vals, 0, False, 0, 0)\n",
    "b = intcode_pc(test_vals, 0, False, 1, a)\n",
    "c = intcode_pc(test_vals, 0, False, 2, b)\n",
    "d = intcode_pc(test_vals, 0, False, 3, c)\n",
    "e = intcode_pc(test_vals, 0, False, 4, d)\n",
    "print(e)\n"
   ]
  },
  {
   "cell_type": "markdown",
   "metadata": {},
   "source": [
    "# actually building this out: Just need all combinations to run, then wil store vals "
   ]
  },
  {
   "cell_type": "code",
   "execution_count": 51,
   "metadata": {},
   "outputs": [],
   "source": [
    "import itertools\n",
    "all_combinations = list(itertools.permutations([0, 1, 2, 3, 4]))"
   ]
  },
  {
   "cell_type": "code",
   "execution_count": 52,
   "metadata": {},
   "outputs": [],
   "source": [
    "# have a 0 start val for final answer\n",
    "final_answer = 0\n",
    "\n",
    "# iterate through all\n",
    "for comb in all_combinations:\n",
    "    \n",
    "    a = intcode_pc(test_vals, 0, False, comb[0], 0)\n",
    "    b = intcode_pc(test_vals, 0, False, comb[1], a)\n",
    "    c = intcode_pc(test_vals, 0, False, comb[2], b)\n",
    "    d = intcode_pc(test_vals, 0, False, comb[3], c)\n",
    "    e = intcode_pc(test_vals, 0, False, comb[4], d)\n",
    "\n",
    "    my_num = e\n",
    "    \n",
    "    if my_num > final_answer:\n",
    "        \n",
    "        final_answer = my_num"
   ]
  },
  {
   "cell_type": "code",
   "execution_count": 53,
   "metadata": {},
   "outputs": [
    {
     "data": {
      "text/plain": [
       "54321"
      ]
     },
     "execution_count": 53,
     "metadata": {},
     "output_type": "execute_result"
    }
   ],
   "source": [
    "final_answer"
   ]
  },
  {
   "cell_type": "code",
   "execution_count": 54,
   "metadata": {},
   "outputs": [],
   "source": [
    "# read in data & go!\n",
    "# empty list\n",
    "data_list = []\n",
    "\n",
    "# need to ensure a clean run each time \n",
    "with open('day7_data.txt') as f:\n",
    "    for line in f:\n",
    "        data_list.append(line.split(','))\n",
    "\n",
    "# convert to ints\n",
    "clean_d_list = [int(x) for x in data_list[0]]"
   ]
  },
  {
   "cell_type": "code",
   "execution_count": 55,
   "metadata": {},
   "outputs": [],
   "source": [
    "all_combinations = list(itertools.permutations([0, 1, 2, 3, 4]))\n",
    "\n",
    "# iterate through all\n",
    "final_answer = 0\n",
    "for comb in all_combinations:\n",
    "    \n",
    "    a = intcode_pc(clean_d_list, 0, False, comb[0], 0)\n",
    "    b = intcode_pc(clean_d_list, 0, False, comb[1], a)\n",
    "    c = intcode_pc(clean_d_list, 0, False, comb[2], b)\n",
    "    d = intcode_pc(clean_d_list, 0, False, comb[3], c)\n",
    "    e = intcode_pc(clean_d_list, 0, False, comb[4], d)\n",
    "    \n",
    "    if e > final_answer:\n",
    "        \n",
    "        final_answer = e"
   ]
  },
  {
   "cell_type": "code",
   "execution_count": 56,
   "metadata": {},
   "outputs": [
    {
     "data": {
      "text/plain": [
       "70597"
      ]
     },
     "execution_count": 56,
     "metadata": {},
     "output_type": "execute_result"
    }
   ],
   "source": [
    "final_answer"
   ]
  },
  {
   "cell_type": "code",
   "execution_count": null,
   "metadata": {},
   "outputs": [],
   "source": []
  }
 ],
 "metadata": {
  "kernelspec": {
   "display_name": "Python 3",
   "language": "python",
   "name": "python3"
  },
  "language_info": {
   "codemirror_mode": {
    "name": "ipython",
    "version": 3
   },
   "file_extension": ".py",
   "mimetype": "text/x-python",
   "name": "python",
   "nbconvert_exporter": "python",
   "pygments_lexer": "ipython3",
   "version": "3.6.5"
  }
 },
 "nbformat": 4,
 "nbformat_minor": 2
}
