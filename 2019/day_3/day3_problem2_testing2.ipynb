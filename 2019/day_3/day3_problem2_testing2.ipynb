{
 "cells": [
  {
   "cell_type": "code",
   "execution_count": 1,
   "metadata": {},
   "outputs": [],
   "source": [
    "data_list = []\n",
    "\n",
    "with open('day3_test3.txt') as f:\n",
    "    for line in f:\n",
    "        data_list.append(line.split(','))"
   ]
  },
  {
   "cell_type": "code",
   "execution_count": 2,
   "metadata": {},
   "outputs": [],
   "source": [
    "vector_1 = data_list[0] # pull list out\n",
    "vector_2 = data_list[1]\n",
    "\n",
    "vector_1 = [(x[0],x[1:]) for x in vector_1] # convert to tuple with direction & magnitude\n",
    "vector_2 = [(x[0],x[1:]) for x in vector_2]"
   ]
  },
  {
   "cell_type": "code",
   "execution_count": 3,
   "metadata": {},
   "outputs": [
    {
     "data": {
      "text/plain": [
       "('R', '98')"
      ]
     },
     "execution_count": 3,
     "metadata": {},
     "output_type": "execute_result"
    }
   ],
   "source": [
    "vector_1[0]"
   ]
  },
  {
   "cell_type": "code",
   "execution_count": 4,
   "metadata": {},
   "outputs": [],
   "source": [
    "## Below Just Building Coordinates Out\n",
    "\n",
    "# we start at 0,0\n",
    "v1_pos = [0,0]\n",
    "\n",
    "# storing \n",
    "v1_pos_list = []\n",
    "v1_steps_list = []\n",
    "\n",
    "steps = 0 \n",
    "\n",
    "for pos in range(len(vector_1)):\n",
    "\n",
    "    # Horizontals\n",
    "    if vector_1[pos][0] == 'L':\n",
    "        v1_pos[0] = v1_pos[0] + -1*int(vector_1[pos][1])\n",
    "   \n",
    "    elif vector_1[pos][0] == 'R':\n",
    "        v1_pos[0] = v1_pos[0] + 1*int(vector_1[pos][1])    \n",
    "\n",
    "    elif vector_1[pos][0] == 'D':\n",
    "        v1_pos[1] = v1_pos[1] + -1*int(vector_1[pos][1])\n",
    "   \n",
    "    else:\n",
    "        v1_pos[1] = v1_pos[1] + 1*int(vector_1[pos][1])\n",
    "   \n",
    "    # add to lsit\n",
    "    v1_tup = (v1_pos[0], v1_pos[1])\n",
    "    v1_pos_list.append(v1_tup)\n",
    "        \n",
    "    # update total steps: \n",
    "    steps += int(vector_1[pos][1])\n",
    "    v1_steps_list.append(steps)"
   ]
  },
  {
   "cell_type": "code",
   "execution_count": 5,
   "metadata": {},
   "outputs": [
    {
     "name": "stdout",
     "output_type": "stream",
     "text": [
      "[98, 145, 171, 234, 267, 354, 416, 436, 469, 522, 573]\n",
      "[(98, 0), (98, 47), (124, 47), (124, -16), (157, -16), (157, 71), (95, 71), (95, 51), (128, 51), (128, 104), (179, 104)]\n"
     ]
    }
   ],
   "source": [
    "print(v1_steps_list)\n",
    "print(v1_pos_list)"
   ]
  },
  {
   "cell_type": "code",
   "execution_count": 6,
   "metadata": {},
   "outputs": [
    {
     "name": "stdout",
     "output_type": "stream",
     "text": [
      "(98, 0) 98\n",
      "(98, 47) 145\n",
      "(124, 47) 171\n",
      "(124, -16) 234\n",
      "(157, -16) 267\n",
      "(157, 71) 354\n",
      "(95, 71) 416\n",
      "(95, 51) 436\n",
      "(128, 51) 469\n",
      "(128, 104) 522\n",
      "(179, 104) 573\n"
     ]
    }
   ],
   "source": [
    "for i,j in zip(v1_pos_list, v1_steps_list):\n",
    "    print(i,j)"
   ]
  },
  {
   "cell_type": "code",
   "execution_count": 23,
   "metadata": {},
   "outputs": [],
   "source": [
    "vector_2 = [(x[0],x[1]) for x in vector_2]\n",
    "\n",
    "v2_pos = [0,0]\n",
    "\n",
    "v2_pos_list = []\n",
    "\n",
    "v2_steps_list = []\n",
    "\n",
    "steps = 0 \n",
    "for pos in range(len(vector_2)):\n",
    "   \n",
    "    # Horizontals\n",
    "    if vector_2[pos][0] == 'L':\n",
    "        v2_pos[0] = v2_pos[0] + -1*int(vector_2[pos][1])\n",
    "   \n",
    "    elif vector_2[pos][0] == 'R':\n",
    "        v2_pos[0] = v2_pos[0] + 1*int(vector_2[pos][1])    \n",
    "\n",
    "    elif vector_2[pos][0] == 'D':\n",
    "        v2_pos[1] = v2_pos[1] + -1*int(vector_2[pos][1])\n",
    "   \n",
    "    else:\n",
    "        v2_pos[1] = v2_pos[1] + 1*int(vector_2[pos][1])\n",
    "   \n",
    "    # add to lsit\n",
    "    v2_tup = (v2_pos[0], v2_pos[1])\n",
    "    v2_pos_list.append(v2_tup)\n",
    "    \n",
    "    # update total steps: \n",
    "    steps += int(vector_2[pos][1])\n",
    "    v2_steps_list.append(steps)"
   ]
  },
  {
   "cell_type": "code",
   "execution_count": 24,
   "metadata": {},
   "outputs": [
    {
     "name": "stdout",
     "output_type": "stream",
     "text": [
      "(0, 98) 98\n",
      "(91, 98) 189\n",
      "(91, 78) 209\n",
      "(107, 78) 225\n",
      "(107, 11) 292\n",
      "(147, 11) 332\n",
      "(147, 18) 339\n",
      "(162, 18) 354\n",
      "(162, 24) 360\n",
      "(169, 24) 367\n"
     ]
    }
   ],
   "source": [
    "for i,j in zip(v2_pos_list, v2_steps_list):\n",
    "    print(i,j)"
   ]
  },
  {
   "cell_type": "code",
   "execution_count": 50,
   "metadata": {},
   "outputs": [],
   "source": [
    "def build_points(point_a, point_b, step_a):\n",
    "    \"\"\"Assumption that one coordinate is the same\n",
    "        Need to keep track of steps\n",
    "        \n",
    "        stepsrepresent start & end of steps\n",
    "    \"\"\"\n",
    "    \n",
    "    if point_a[0] == point_b[0]: # this means x-vals are equivalent\n",
    "        \n",
    "        # find min & max vals\n",
    "        min_pt = min(point_a[1], point_b[1])\n",
    "        max_pt = max(point_a[1], point_b[1])\n",
    "        \n",
    "        # build out all possible values - determine direction ---> this lets us work our way down\n",
    "        if point_a[1] > point_b[1]:\n",
    "            y_vals = list(range(min_pt+1, max_pt+1))[::-1]\n",
    "            x_vals = [point_a[0]] * len(y_vals)\n",
    "\n",
    "            # update step list \n",
    "            step_list = [step_a + incr for incr in range(len(x_vals))]\n",
    "\n",
    "            # join into tuple\n",
    "            temp_tup = tuple(zip(x_vals, y_vals))\n",
    "            \n",
    "        else:\n",
    "            y_vals = list(range(min_pt, max_pt))\n",
    "            x_vals = [point_a[0]] * len(y_vals)\n",
    "\n",
    "            # update step list \n",
    "            step_list = [step_a + incr for incr in range(len(x_vals))]\n",
    "\n",
    "            # join into tuple\n",
    "            temp_tup = tuple(zip(x_vals, y_vals))\n",
    "    else: \n",
    "        # find min & max vals\n",
    "        min_pt = min(point_a[0], point_b[0])\n",
    "        max_pt = max(point_a[0], point_b[0])\n",
    "        \n",
    "        # build out all possible values\n",
    "        if point_a[0] > point_b[0]:\n",
    "            \n",
    "            x_vals = list(range(min_pt+1, max_pt+1))[::-1]\n",
    "            y_vals = [point_a[1]] * len(x_vals)\n",
    "\n",
    "            # update step list \n",
    "            step_list = [step_a + incr for incr in range(len(x_vals))]\n",
    "            temp_tup = tuple(zip(x_vals, y_vals))\n",
    "            \n",
    "        else:\n",
    "            \n",
    "            x_vals = list(range(min_pt, max_pt))\n",
    "            y_vals = [point_a[1]] * len(x_vals)\n",
    "\n",
    "            # update step list \n",
    "            step_list = [step_a + incr for incr in range(len(x_vals))]\n",
    "\n",
    "            # join into tuple\n",
    "            temp_tup = tuple(zip(x_vals, y_vals))         \n",
    "        \n",
    "    return temp_tup, step_list"
   ]
  },
  {
   "cell_type": "code",
   "execution_count": 51,
   "metadata": {},
   "outputs": [
    {
     "data": {
      "text/plain": [
       "(((3, 4), (3, 3), (3, 2)), [5, 6, 7])"
      ]
     },
     "execution_count": 51,
     "metadata": {},
     "output_type": "execute_result"
    }
   ],
   "source": [
    "build_points((3,4), (3,1), 5)"
   ]
  },
  {
   "cell_type": "code",
   "execution_count": 52,
   "metadata": {},
   "outputs": [
    {
     "data": {
      "text/plain": [
       "(((3, 1), (3, 0), (3, -1), (3, -2), (3, -3), (3, -4)), [5, 6, 7, 8, 9, 10])"
      ]
     },
     "execution_count": 52,
     "metadata": {},
     "output_type": "execute_result"
    }
   ],
   "source": [
    "build_points((3,1), (3,-5), 5)"
   ]
  },
  {
   "cell_type": "code",
   "execution_count": 53,
   "metadata": {},
   "outputs": [
    {
     "data": {
      "text/plain": [
       "(((3, -5), (3, -4), (3, -3), (3, -2), (3, -1), (3, 0), (3, 1), (3, 2)),\n",
       " [5, 6, 7, 8, 9, 10, 11, 12])"
      ]
     },
     "execution_count": 53,
     "metadata": {},
     "output_type": "execute_result"
    }
   ],
   "source": [
    "build_points((3,-5), (3,3), 5)"
   ]
  },
  {
   "cell_type": "code",
   "execution_count": 54,
   "metadata": {},
   "outputs": [
    {
     "data": {
      "text/plain": [
       "(((11, 4), (10, 4), (9, 4), (8, 4), (7, 4), (6, 4), (5, 4), (4, 4)),\n",
       " [5, 6, 7, 8, 9, 10, 11, 12])"
      ]
     },
     "execution_count": 54,
     "metadata": {},
     "output_type": "execute_result"
    }
   ],
   "source": [
    "# understand y static:\n",
    "build_points((11,4), (3,4), 5)"
   ]
  },
  {
   "cell_type": "code",
   "execution_count": 55,
   "metadata": {},
   "outputs": [
    {
     "data": {
      "text/plain": [
       "(((3, 4), (4, 4)), [12, 13])"
      ]
     },
     "execution_count": 55,
     "metadata": {},
     "output_type": "execute_result"
    }
   ],
   "source": [
    "# understand y static:\n",
    "build_points((3,4), (5,4), 12)"
   ]
  },
  {
   "cell_type": "code",
   "execution_count": 56,
   "metadata": {},
   "outputs": [],
   "source": [
    "line_1 = tuple()\n",
    "step_dict1 = {}\n",
    "\n",
    "for i in range(len(v1_pos_list)):\n",
    "\n",
    "    # kill before it dies\n",
    "    if (i + 1) >= len(v1_pos_list):\n",
    "        break\n",
    "        \n",
    "    coords, step_out = build_points(v1_pos_list[i], v1_pos_list[i+1], v1_steps_list[i])\n",
    "    line_1 += coords\n",
    "    step_dict1[i] = {pos: step for pos, step in zip(coords, step_out)}\n",
    "    "
   ]
  },
  {
   "cell_type": "code",
   "execution_count": 57,
   "metadata": {},
   "outputs": [],
   "source": [
    "line_2 = tuple()\n",
    "step_dict2 = {}\n",
    "\n",
    "for i in range(len(v2_pos_list)):\n",
    "\n",
    "    # kill before it dies\n",
    "    if (i + 1) >= len(v2_pos_list):\n",
    "        break\n",
    "        \n",
    "    coords, step_out = build_points(v2_pos_list[i], v2_pos_list[i+1], v2_steps_list[i])\n",
    "    line_2 += coords\n",
    "    step_dict2[i] = {pos: step for pos, step in zip(coords, step_out)}"
   ]
  },
  {
   "cell_type": "code",
   "execution_count": 58,
   "metadata": {},
   "outputs": [],
   "source": [
    "match_list = list(set(list(line_1)).intersection(list(line_2)))"
   ]
  },
  {
   "cell_type": "code",
   "execution_count": 59,
   "metadata": {},
   "outputs": [
    {
     "data": {
      "text/plain": [
       "[(107, 71), (157, 18), (124, 11), (107, 47), (107, 51)]"
      ]
     },
     "execution_count": 59,
     "metadata": {},
     "output_type": "execute_result"
    }
   ],
   "source": [
    "match_list # this is correct still "
   ]
  },
  {
   "cell_type": "code",
   "execution_count": 60,
   "metadata": {},
   "outputs": [],
   "source": [
    "\n",
    "# identify steps that align with each match_list for dict 1\n",
    "match_dict_1 = {}\n",
    "\n",
    "# iterate through all items in dict 1\n",
    "for i in step_dict1.keys():\n",
    "\n",
    "    # iterate through various match_list values; add\n",
    "    for match_coord in match_list:\n",
    "        \n",
    "        for coord, step in step_dict1[i].items():\n",
    "            \n",
    "            if coord == match_coord:\n",
    "                \n",
    "                match_dict_1[coord] = step"
   ]
  },
  {
   "cell_type": "code",
   "execution_count": 61,
   "metadata": {},
   "outputs": [
    {
     "data": {
      "text/plain": [
       "{(107, 47): 154,\n",
       " (124, 11): 207,\n",
       " (157, 18): 301,\n",
       " (107, 71): 404,\n",
       " (107, 51): 448}"
      ]
     },
     "execution_count": 61,
     "metadata": {},
     "output_type": "execute_result"
    }
   ],
   "source": [
    "match_dict_1"
   ]
  },
  {
   "cell_type": "code",
   "execution_count": 62,
   "metadata": {},
   "outputs": [],
   "source": [
    "\n",
    "# iterate through all items in dict 2\n",
    "match_dict_2 = {}\n",
    "\n",
    "# iterate through all items in dict 1\n",
    "for i in step_dict2.keys():\n",
    "\n",
    "    # iterate through various match_list values; add\n",
    "    for match_coord in match_list:\n",
    "        \n",
    "        for coord, step in step_dict2[i].items():\n",
    "            \n",
    "            if coord == match_coord:\n",
    "                \n",
    "                match_dict_2[coord] = step"
   ]
  },
  {
   "cell_type": "code",
   "execution_count": 63,
   "metadata": {},
   "outputs": [
    {
     "data": {
      "text/plain": [
       "{(107, 71): 232,\n",
       " (107, 47): 256,\n",
       " (107, 51): 252,\n",
       " (124, 11): 309,\n",
       " (157, 18): 349}"
      ]
     },
     "execution_count": 63,
     "metadata": {},
     "output_type": "execute_result"
    }
   ],
   "source": [
    "match_dict_2"
   ]
  },
  {
   "cell_type": "code",
   "execution_count": 64,
   "metadata": {},
   "outputs": [],
   "source": [
    "final_dict = {}\n",
    "\n",
    "for key in match_dict_1.keys():\n",
    "    final_dict[key] = match_dict_1[key] + match_dict_2[key]"
   ]
  },
  {
   "cell_type": "code",
   "execution_count": 65,
   "metadata": {},
   "outputs": [
    {
     "name": "stdout",
     "output_type": "stream",
     "text": [
      "410\n"
     ]
    }
   ],
   "source": [
    "min_key = min(final_dict, key = final_dict.get)\n",
    "print(final_dict[min_key])"
   ]
  },
  {
   "cell_type": "code",
   "execution_count": null,
   "metadata": {},
   "outputs": [],
   "source": []
  }
 ],
 "metadata": {
  "kernelspec": {
   "display_name": "Python 3",
   "language": "python",
   "name": "python3"
  },
  "language_info": {
   "codemirror_mode": {
    "name": "ipython",
    "version": 3
   },
   "file_extension": ".py",
   "mimetype": "text/x-python",
   "name": "python",
   "nbconvert_exporter": "python",
   "pygments_lexer": "ipython3",
   "version": "3.6.5"
  }
 },
 "nbformat": 4,
 "nbformat_minor": 2
}
