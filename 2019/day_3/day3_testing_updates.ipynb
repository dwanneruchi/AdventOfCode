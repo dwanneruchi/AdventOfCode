{
 "cells": [
  {
   "cell_type": "code",
   "execution_count": 88,
   "metadata": {},
   "outputs": [],
   "source": [
    "data_list = []\n",
    "\n",
    "with open('day3_test.txt') as f:\n",
    "    for line in f:\n",
    "        data_list.append(line.split(','))"
   ]
  },
  {
   "cell_type": "code",
   "execution_count": 89,
   "metadata": {},
   "outputs": [],
   "source": [
    "vector_1 = data_list[0] # pull list out\n",
    "vector_2 = data_list[1]\n",
    "\n",
    "vector_1 = [(x[0],x[1:]) for x in vector_1] # convert to tuple with direction & magnitude\n",
    "vector_2 = [(x[0],x[1:]) for x in vector_2]"
   ]
  },
  {
   "cell_type": "code",
   "execution_count": 90,
   "metadata": {},
   "outputs": [],
   "source": [
    "v1_pos = [0,0]\n",
    "\n",
    "v1_pos_list = []\n",
    "for pos in range(len(vector_1)):\n",
    "   \n",
    "    # determine the step\n",
    "   \n",
    "    # Horizontals\n",
    "    if vector_1[pos][0] == 'L':\n",
    "        v1_pos[0] = v1_pos[0] + -1*int(vector_1[pos][1])\n",
    "   \n",
    "    elif vector_1[pos][0] == 'R':\n",
    "        v1_pos[0] = v1_pos[0] + 1*int(vector_1[pos][1])    \n",
    "\n",
    "    elif vector_1[pos][0] == 'D':\n",
    "        v1_pos[1] = v1_pos[1] + -1*int(vector_1[pos][1])\n",
    "   \n",
    "    else:\n",
    "        v1_pos[1] = v1_pos[1] + 1*int(vector_1[pos][1])\n",
    "   \n",
    "    # add to lsit\n",
    "    v1_tup = (v1_pos[0], v1_pos[1])\n",
    "    v1_pos_list.append(v1_tup)"
   ]
  },
  {
   "cell_type": "code",
   "execution_count": 91,
   "metadata": {},
   "outputs": [],
   "source": [
    "vector_2 = [(x[0],x[1]) for x in vector_2]\n",
    "\n",
    "v2_pos = [0,0]\n",
    "\n",
    "v2_pos_list = []\n",
    "for pos in range(len(vector_2)):\n",
    "   \n",
    "    # determine the step\n",
    "   \n",
    "    # Horizontals\n",
    "    if vector_2[pos][0] == 'L':\n",
    "        v2_pos[0] = v2_pos[0] + -1*int(vector_2[pos][1])\n",
    "   \n",
    "    elif vector_2[pos][0] == 'R':\n",
    "        v2_pos[0] = v2_pos[0] + 1*int(vector_2[pos][1])    \n",
    "\n",
    "    elif vector_2[pos][0] == 'D':\n",
    "        v2_pos[1] = v2_pos[1] + -1*int(vector_2[pos][1])\n",
    "   \n",
    "    else:\n",
    "        v2_pos[1] = v2_pos[1] + 1*int(vector_2[pos][1])\n",
    "   \n",
    "    # add to lsit\n",
    "    v2_tup = (v2_pos[0], v2_pos[1])\n",
    "    v2_pos_list.append(v2_tup)"
   ]
  },
  {
   "cell_type": "code",
   "execution_count": 92,
   "metadata": {},
   "outputs": [],
   "source": [
    "def build_points(point_a, point_b):\n",
    "    \"\"\"Assumption that one coordinate is the same\"\"\"\n",
    "    \n",
    "    if point_a[0] == point_b[0]: # this means x-vals are equivalent\n",
    "        # find min & max vals\n",
    "        min_pt = min(point_a[1], point_b[1])\n",
    "        max_pt = max(point_a[1], point_b[1])\n",
    "        \n",
    "        # build out all possible values\n",
    "        y_vals = list(range(min_pt, max_pt + 1))\n",
    "        x_vals = [point_a[0]] * len(y_vals)\n",
    "        \n",
    "        # join into tuple\n",
    "        temp_tup = tuple(zip(x_vals, y_vals))\n",
    "\n",
    "    else: \n",
    "        # find min & max vals\n",
    "        min_pt = min(point_a[0], point_b[0])\n",
    "        max_pt = max(point_a[0], point_b[0])\n",
    "        \n",
    "        # build out all possible values\n",
    "        x_vals = list(range(min_pt, max_pt + 1))\n",
    "        y_vals = [point_a[1]] * len(x_vals)\n",
    "        \n",
    "        # join into tuple\n",
    "        temp_tup = tuple(zip(x_vals, y_vals))\n",
    "        \n",
    "    return temp_tup"
   ]
  },
  {
   "cell_type": "code",
   "execution_count": 106,
   "metadata": {},
   "outputs": [],
   "source": [
    "line_1 = tuple()\n",
    "\n",
    "for i in range(len(v1_pos_list)):\n",
    "    \n",
    "    # kill before it dies\n",
    "    if (i + 1) >= len(v1_pos_list):\n",
    "        break\n",
    "        \n",
    "    line_1 += build_points(v1_pos_list[i], v1_pos_list[i+1])"
   ]
  },
  {
   "cell_type": "code",
   "execution_count": 107,
   "metadata": {},
   "outputs": [],
   "source": [
    "line_2 = tuple() \n",
    "\n",
    "for i in range(len(v2_pos_list)):\n",
    "    \n",
    "    # kill before it dies\n",
    "    if (i + 1) >= len(v2_pos_list):\n",
    "        break\n",
    "        \n",
    "    line_2 += build_points(v2_pos_list[i], v2_pos_list[i+1])"
   ]
  },
  {
   "cell_type": "code",
   "execution_count": 109,
   "metadata": {},
   "outputs": [
    {
     "name": "stdout",
     "output_type": "stream",
     "text": [
      "Found a match with (6, 5)\n",
      "Found a match with (3, 3)\n"
     ]
    }
   ],
   "source": [
    "for coord1 in line_1:\n",
    "    \n",
    "    for coord2 in line_2:\n",
    "        \n",
    "        if coord1 == coord2:\n",
    "            \n",
    "            print(f\"Found a match with {coord1}\")\n",
    "        "
   ]
  },
  {
   "cell_type": "code",
   "execution_count": null,
   "metadata": {},
   "outputs": [],
   "source": [
    "x_final_list = []\n",
    "y_final_list = []\n",
    "\n",
    "for i in range(1,len(v2_pos_list)):\n",
    "\n",
    "    # kill before it dies\n",
    "    if (i + 1) >= len(v2_pos_list):\n",
    "        break\n",
    "        \n",
    "    # "
   ]
  },
  {
   "cell_type": "code",
   "execution_count": 7,
   "metadata": {},
   "outputs": [],
   "source": [
    "x_final_list = []\n",
    "y_final_list = []\n",
    "\n",
    "for i in range(1,len(v2_pos_list)):\n",
    "\n",
    "    # kill before it dies\n",
    "    if (i + 1) >= len(v2_pos_list):\n",
    "        break\n",
    "        \n",
    "    # finding x-val: will be where ?x - ?x == 0\n",
    "    # working with segments AB & CD\n",
    "    ax, ay = v1_pos_list[i]\n",
    "    bx, by = v1_pos_list[i + 1]\n",
    "    cx, cy = v2_pos_list[i]\n",
    "    dx, dy = v2_pos_list[i + 1]\n",
    "    \n",
    "    # find x ans\n",
    "    test_1 = [ax,ax,ax,bx,bx,cx]\n",
    "    test_2 = [bx,cx,dx,cx,dx,dx]\n",
    "\n",
    "    # find y ans\n",
    "    test_3 = [ay,ay,ay,by,by,cy]\n",
    "    test_4 = [by,cy,dy,cy,dy,dy]\n",
    "    \n",
    "    # zip\n",
    "    final_list_x = zip(test_1, test_2)\n",
    "    final_list_y = zip(test_3, test_4)\n",
    "    \n",
    "    # subtract until a 0 is found\n",
    "    for x1, x2 in final_list_x:\n",
    "        if x1 - x2 == 0:\n",
    "            x_ans = x1\n",
    "            break \n",
    "            \n",
    "    for y1, y2 in final_list_y:\n",
    "        if y1 - y2 == 0:\n",
    "            y_ans = y1\n",
    "            break\n",
    "            \n",
    "    # append\n",
    "    x_final_list.append(x_ans)\n",
    "    y_final_list.append(y_ans)"
   ]
  },
  {
   "cell_type": "code",
   "execution_count": 8,
   "metadata": {},
   "outputs": [],
   "source": [
    "final_coords = zip(x_final_list, y_final_list)"
   ]
  },
  {
   "cell_type": "code",
   "execution_count": 9,
   "metadata": {},
   "outputs": [],
   "source": [
    "def manh_dist(x1,y1):\n",
    "    \n",
    "    return abs(x1-0) + abs(y1-0)"
   ]
  },
  {
   "cell_type": "code",
   "execution_count": 10,
   "metadata": {},
   "outputs": [],
   "source": [
    "manh_distance = {}\n",
    "for x,y in final_coords:\n",
    "    manh_distance[(x,y)] = manh_dist(x,y)"
   ]
  },
  {
   "cell_type": "code",
   "execution_count": 11,
   "metadata": {},
   "outputs": [
    {
     "data": {
      "text/plain": [
       "(66, -30)"
      ]
     },
     "execution_count": 11,
     "metadata": {},
     "output_type": "execute_result"
    }
   ],
   "source": [
    "min(manh_distance, key = manh_distance.get)"
   ]
  },
  {
   "cell_type": "code",
   "execution_count": 12,
   "metadata": {},
   "outputs": [
    {
     "ename": "KeyError",
     "evalue": "(-123, -582)",
     "output_type": "error",
     "traceback": [
      "\u001b[1;31m---------------------------------------------------------------------------\u001b[0m",
      "\u001b[1;31mKeyError\u001b[0m                                  Traceback (most recent call last)",
      "\u001b[1;32m<ipython-input-12-437717ddae99>\u001b[0m in \u001b[0;36m<module>\u001b[1;34m\u001b[0m\n\u001b[1;32m----> 1\u001b[1;33m \u001b[0mmanh_distance\u001b[0m\u001b[1;33m[\u001b[0m\u001b[1;33m(\u001b[0m\u001b[1;33m-\u001b[0m\u001b[1;36m123\u001b[0m\u001b[1;33m,\u001b[0m \u001b[1;33m-\u001b[0m\u001b[1;36m582\u001b[0m\u001b[1;33m)\u001b[0m\u001b[1;33m]\u001b[0m\u001b[1;33m\u001b[0m\u001b[0m\n\u001b[0m",
      "\u001b[1;31mKeyError\u001b[0m: (-123, -582)"
     ]
    }
   ],
   "source": [
    "manh_distance[(-123, -582)]"
   ]
  },
  {
   "cell_type": "code",
   "execution_count": null,
   "metadata": {},
   "outputs": [],
   "source": []
  }
 ],
 "metadata": {
  "kernelspec": {
   "display_name": "Python 3",
   "language": "python",
   "name": "python3"
  },
  "language_info": {
   "codemirror_mode": {
    "name": "ipython",
    "version": 3
   },
   "file_extension": ".py",
   "mimetype": "text/x-python",
   "name": "python",
   "nbconvert_exporter": "python",
   "pygments_lexer": "ipython3",
   "version": "3.6.5"
  }
 },
 "nbformat": 4,
 "nbformat_minor": 2
}
