{
 "cells": [
  {
   "cell_type": "code",
   "execution_count": 1,
   "metadata": {},
   "outputs": [],
   "source": [
    "data_list = []\n",
    "\n",
    "with open('day3_test2.txt') as f:\n",
    "    for line in f:\n",
    "        data_list.append(line.split(','))"
   ]
  },
  {
   "cell_type": "code",
   "execution_count": 2,
   "metadata": {},
   "outputs": [],
   "source": [
    "vector_1 = data_list[0] # pull list out\n",
    "vector_2 = data_list[1]\n",
    "\n",
    "vector_1 = [(x[0],x[1:]) for x in vector_1] # convert to tuple with direction & magnitude\n",
    "vector_2 = [(x[0],x[1:]) for x in vector_2]"
   ]
  },
  {
   "cell_type": "code",
   "execution_count": 3,
   "metadata": {},
   "outputs": [],
   "source": [
    "v1_pos = [0,0]\n",
    "\n",
    "v1_pos_list = []\n",
    "for pos in range(len(vector_1)):\n",
    "   \n",
    "    # determine the step\n",
    "   \n",
    "    # Horizontals\n",
    "    if vector_1[pos][0] == 'L':\n",
    "        v1_pos[0] = v1_pos[0] + -1*int(vector_1[pos][1])\n",
    "   \n",
    "    elif vector_1[pos][0] == 'R':\n",
    "        v1_pos[0] = v1_pos[0] + 1*int(vector_1[pos][1])    \n",
    "\n",
    "    elif vector_1[pos][0] == 'D':\n",
    "        v1_pos[1] = v1_pos[1] + -1*int(vector_1[pos][1])\n",
    "   \n",
    "    else:\n",
    "        v1_pos[1] = v1_pos[1] + 1*int(vector_1[pos][1])\n",
    "   \n",
    "    # add to lsit\n",
    "    v1_tup = (v1_pos[0], v1_pos[1])\n",
    "    v1_pos_list.append(v1_tup)"
   ]
  },
  {
   "cell_type": "code",
   "execution_count": 4,
   "metadata": {},
   "outputs": [],
   "source": [
    "vector_2 = [(x[0],x[1]) for x in vector_2]\n",
    "\n",
    "v2_pos = [0,0]\n",
    "\n",
    "v2_pos_list = []\n",
    "for pos in range(len(vector_2)):\n",
    "   \n",
    "    # determine the step\n",
    "   \n",
    "    # Horizontals\n",
    "    if vector_2[pos][0] == 'L':\n",
    "        v2_pos[0] = v2_pos[0] + -1*int(vector_2[pos][1])\n",
    "   \n",
    "    elif vector_2[pos][0] == 'R':\n",
    "        v2_pos[0] = v2_pos[0] + 1*int(vector_2[pos][1])    \n",
    "\n",
    "    elif vector_2[pos][0] == 'D':\n",
    "        v2_pos[1] = v2_pos[1] + -1*int(vector_2[pos][1])\n",
    "   \n",
    "    else:\n",
    "        v2_pos[1] = v2_pos[1] + 1*int(vector_2[pos][1])\n",
    "   \n",
    "    # add to lsit\n",
    "    v2_tup = (v2_pos[0], v2_pos[1])\n",
    "    v2_pos_list.append(v2_tup)"
   ]
  },
  {
   "cell_type": "code",
   "execution_count": 5,
   "metadata": {},
   "outputs": [],
   "source": [
    "def build_points(point_a, point_b):\n",
    "    \"\"\"Assumption that one coordinate is the same\"\"\"\n",
    "    \n",
    "    if point_a[0] == point_b[0]: # this means x-vals are equivalent\n",
    "        # find min & max vals\n",
    "        min_pt = min(point_a[1], point_b[1])\n",
    "        max_pt = max(point_a[1], point_b[1])\n",
    "        \n",
    "        # build out all possible values\n",
    "        y_vals = list(range(min_pt, max_pt + 1))\n",
    "        x_vals = [point_a[0]] * len(y_vals)\n",
    "        \n",
    "        # join into tuple\n",
    "        temp_tup = tuple(zip(x_vals, y_vals))\n",
    "\n",
    "    else: \n",
    "        # find min & max vals\n",
    "        min_pt = min(point_a[0], point_b[0])\n",
    "        max_pt = max(point_a[0], point_b[0])\n",
    "        \n",
    "        # build out all possible values\n",
    "        x_vals = list(range(min_pt, max_pt + 1))\n",
    "        y_vals = [point_a[1]] * len(x_vals)\n",
    "        \n",
    "        # join into tuple\n",
    "        temp_tup = tuple(zip(x_vals, y_vals))\n",
    "        \n",
    "    return temp_tup"
   ]
  },
  {
   "cell_type": "code",
   "execution_count": 6,
   "metadata": {},
   "outputs": [],
   "source": [
    "line_1 = tuple()\n",
    "\n",
    "for i in range(len(v1_pos_list)):\n",
    "    \n",
    "    # kill before it dies\n",
    "    if (i + 1) >= len(v1_pos_list):\n",
    "        break\n",
    "        \n",
    "    line_1 += build_points(v1_pos_list[i], v1_pos_list[i+1])"
   ]
  },
  {
   "cell_type": "code",
   "execution_count": 7,
   "metadata": {},
   "outputs": [],
   "source": [
    "line_2 = tuple() \n",
    "\n",
    "for i in range(len(v2_pos_list)):\n",
    "    \n",
    "    # kill before it dies\n",
    "    if (i + 1) >= len(v2_pos_list):\n",
    "        break\n",
    "        \n",
    "    line_2 += build_points(v2_pos_list[i], v2_pos_list[i+1])"
   ]
  },
  {
   "cell_type": "code",
   "execution_count": 8,
   "metadata": {},
   "outputs": [
    {
     "name": "stdout",
     "output_type": "stream",
     "text": [
      "Found a match with (158, -12)\n",
      "Found a match with (146, 46)\n",
      "Found a match with (155, 4)\n",
      "Found a match with (155, 11)\n"
     ]
    }
   ],
   "source": [
    "# match list\n",
    "match_list = []\n",
    "\n",
    "for coord1 in line_1:\n",
    "    \n",
    "    for coord2 in line_2:\n",
    "        \n",
    "        if coord1 == coord2:\n",
    "            \n",
    "            print(f\"Found a match with {coord1}\")\n",
    "            \n",
    "            match_list.append(coord1)\n",
    "        "
   ]
  },
  {
   "cell_type": "code",
   "execution_count": 9,
   "metadata": {},
   "outputs": [],
   "source": [
    "def manh_dist(coords):\n",
    "    x1 = coords[0]\n",
    "    y1 = coords[1]\n",
    "    \n",
    "    return abs(x1-0) + abs(y1-0)"
   ]
  },
  {
   "cell_type": "code",
   "execution_count": 10,
   "metadata": {},
   "outputs": [],
   "source": [
    "manh_distance = {}\n",
    "for coords in match_list:\n",
    "    manh_distance[coords] = manh_dist(coords)"
   ]
  },
  {
   "cell_type": "code",
   "execution_count": 11,
   "metadata": {},
   "outputs": [
    {
     "data": {
      "text/plain": [
       "(155, 4)"
      ]
     },
     "execution_count": 11,
     "metadata": {},
     "output_type": "execute_result"
    }
   ],
   "source": [
    "min(manh_distance, key = manh_distance.get)"
   ]
  },
  {
   "cell_type": "code",
   "execution_count": 12,
   "metadata": {},
   "outputs": [
    {
     "data": {
      "text/plain": [
       "159"
      ]
     },
     "execution_count": 12,
     "metadata": {},
     "output_type": "execute_result"
    }
   ],
   "source": [
    "manh_distance[(155,4)]"
   ]
  },
  {
   "cell_type": "code",
   "execution_count": null,
   "metadata": {},
   "outputs": [],
   "source": []
  }
 ],
 "metadata": {
  "kernelspec": {
   "display_name": "Python 3",
   "language": "python",
   "name": "python3"
  },
  "language_info": {
   "codemirror_mode": {
    "name": "ipython",
    "version": 3
   },
   "file_extension": ".py",
   "mimetype": "text/x-python",
   "name": "python",
   "nbconvert_exporter": "python",
   "pygments_lexer": "ipython3",
   "version": "3.6.5"
  }
 },
 "nbformat": 4,
 "nbformat_minor": 2
}
