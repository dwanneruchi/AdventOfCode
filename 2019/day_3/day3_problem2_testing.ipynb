{
 "cells": [
  {
   "cell_type": "code",
   "execution_count": 1,
   "metadata": {},
   "outputs": [],
   "source": [
    "data_list = []\n",
    "\n",
    "with open('day3_prob2_test.txt') as f:\n",
    "    for line in f:\n",
    "        data_list.append(line.split(','))"
   ]
  },
  {
   "cell_type": "code",
   "execution_count": 2,
   "metadata": {},
   "outputs": [],
   "source": [
    "vector_1 = data_list[0] # pull list out\n",
    "vector_2 = data_list[1]\n",
    "\n",
    "vector_1 = [(x[0],x[1:]) for x in vector_1] # convert to tuple with direction & magnitude\n",
    "vector_2 = [(x[0],x[1:]) for x in vector_2]"
   ]
  },
  {
   "cell_type": "code",
   "execution_count": 3,
   "metadata": {},
   "outputs": [
    {
     "data": {
      "text/plain": [
       "('R', '75')"
      ]
     },
     "execution_count": 3,
     "metadata": {},
     "output_type": "execute_result"
    }
   ],
   "source": [
    "vector_1[0]"
   ]
  },
  {
   "cell_type": "code",
   "execution_count": 4,
   "metadata": {},
   "outputs": [],
   "source": [
    "## Below Just Building Coordinates Out\n",
    "\n",
    "# we start at 0,0\n",
    "v1_pos = [0,0]\n",
    "\n",
    "# storing \n",
    "v1_pos_list = []\n",
    "v1_steps_list = []\n",
    "\n",
    "steps = 0 \n",
    "\n",
    "for pos in range(len(vector_1)):\n",
    "\n",
    "    # Horizontals\n",
    "    if vector_1[pos][0] == 'L':\n",
    "        v1_pos[0] = v1_pos[0] + -1*int(vector_1[pos][1])\n",
    "   \n",
    "    elif vector_1[pos][0] == 'R':\n",
    "        v1_pos[0] = v1_pos[0] + 1*int(vector_1[pos][1])    \n",
    "\n",
    "    elif vector_1[pos][0] == 'D':\n",
    "        v1_pos[1] = v1_pos[1] + -1*int(vector_1[pos][1])\n",
    "   \n",
    "    else:\n",
    "        v1_pos[1] = v1_pos[1] + 1*int(vector_1[pos][1])\n",
    "   \n",
    "    # add to lsit\n",
    "    v1_tup = (v1_pos[0], v1_pos[1])\n",
    "    v1_pos_list.append(v1_tup)\n",
    "        \n",
    "    # update total steps: \n",
    "    steps += int(vector_1[pos][1])\n",
    "    v1_steps_list.append(steps)"
   ]
  },
  {
   "cell_type": "code",
   "execution_count": 5,
   "metadata": {},
   "outputs": [
    {
     "name": "stdout",
     "output_type": "stream",
     "text": [
      "[75, 105, 188, 271, 283, 332, 403, 410, 482]\n",
      "[(75, 0), (75, -30), (158, -30), (158, 53), (146, 53), (146, 4), (217, 4), (217, 11), (145, 11)]\n"
     ]
    }
   ],
   "source": [
    "print(v1_steps_list)\n",
    "print(v1_pos_list)"
   ]
  },
  {
   "cell_type": "code",
   "execution_count": 6,
   "metadata": {},
   "outputs": [
    {
     "name": "stdout",
     "output_type": "stream",
     "text": [
      "(75, 0) 75\n",
      "(75, -30) 105\n",
      "(158, -30) 188\n",
      "(158, 53) 271\n",
      "(146, 53) 283\n",
      "(146, 4) 332\n",
      "(217, 4) 403\n",
      "(217, 11) 410\n",
      "(145, 11) 482\n"
     ]
    }
   ],
   "source": [
    "for i,j in zip(v1_pos_list, v1_steps_list):\n",
    "    print(i,j)"
   ]
  },
  {
   "cell_type": "code",
   "execution_count": null,
   "metadata": {},
   "outputs": [],
   "source": []
  },
  {
   "cell_type": "code",
   "execution_count": 7,
   "metadata": {},
   "outputs": [],
   "source": [
    "vector_2 = [(x[0],x[1]) for x in vector_2]\n",
    "\n",
    "v2_pos = [0,0]\n",
    "\n",
    "v2_pos_list = []\n",
    "\n",
    "v2_steps_list = []\n",
    "\n",
    "steps = 0 \n",
    "for pos in range(len(vector_2)):\n",
    "   \n",
    "    # Horizontals\n",
    "    if vector_2[pos][0] == 'L':\n",
    "        v2_pos[0] = v2_pos[0] + -1*int(vector_2[pos][1])\n",
    "   \n",
    "    elif vector_2[pos][0] == 'R':\n",
    "        v2_pos[0] = v2_pos[0] + 1*int(vector_2[pos][1])    \n",
    "\n",
    "    elif vector_2[pos][0] == 'D':\n",
    "        v2_pos[1] = v2_pos[1] + -1*int(vector_2[pos][1])\n",
    "   \n",
    "    else:\n",
    "        v2_pos[1] = v2_pos[1] + 1*int(vector_2[pos][1])\n",
    "   \n",
    "    # add to lsit\n",
    "    v2_tup = (v2_pos[0], v2_pos[1])\n",
    "    v2_pos_list.append(v2_tup)\n",
    "    \n",
    "    # update total steps: \n",
    "    steps += int(vector_2[pos][1])\n",
    "    v2_steps_list.append(steps)"
   ]
  },
  {
   "cell_type": "code",
   "execution_count": 12,
   "metadata": {},
   "outputs": [],
   "source": [
    "def build_points(point_a, point_b, step_a):\n",
    "    \"\"\"Assumption that one coordinate is the same\n",
    "        Need to keep track of steps\n",
    "        \n",
    "        stepsrepresent start & end of steps\n",
    "    \"\"\"\n",
    "    \n",
    "    if point_a[0] == point_b[0]: # this means x-vals are equivalent\n",
    "        \n",
    "        # find min & max vals\n",
    "        min_pt = min(point_a[1], point_b[1])\n",
    "        max_pt = max(point_a[1], point_b[1])\n",
    "        \n",
    "        # build out all possible values - determine direction ---> this lets us work our way down\n",
    "        if point_a[1] > point_b[1]:\n",
    "            y_vals = list(range(min_pt, max_pt))[::-1]\n",
    "            x_vals = [point_a[0]] * len(y_vals)\n",
    "\n",
    "            # update step list \n",
    "            step_list = [step_a + incr for incr in range(len(x_vals))]\n",
    "\n",
    "            # join into tuple\n",
    "            temp_tup = tuple(zip(x_vals, y_vals))\n",
    "            \n",
    "        else:\n",
    "            y_vals = list(range(min_pt, max_pt))\n",
    "            x_vals = [point_a[0]] * len(y_vals)\n",
    "\n",
    "            # update step list \n",
    "            step_list = [step_a + incr for incr in range(len(x_vals))]\n",
    "\n",
    "            # join into tuple\n",
    "            temp_tup = tuple(zip(x_vals, y_vals))\n",
    "    else: \n",
    "        # find min & max vals\n",
    "        min_pt = min(point_a[0], point_b[0])\n",
    "        max_pt = max(point_a[0], point_b[0])\n",
    "        \n",
    "        # build out all possible values\n",
    "        if point_a[0] > point_b[0]:\n",
    "            \n",
    "            x_vals = list(range(min_pt, max_pt))[::-1]\n",
    "            y_vals = [point_a[1]] * len(x_vals)\n",
    "\n",
    "            # update step list \n",
    "            step_list = [step_a + incr for incr in range(len(x_vals))]\n",
    "            temp_tup = tuple(zip(x_vals, y_vals))\n",
    "            \n",
    "        else:\n",
    "            \n",
    "            x_vals = list(range(min_pt, max_pt))\n",
    "            y_vals = [point_a[1]] * len(x_vals)\n",
    "\n",
    "            # update step list \n",
    "            step_list = [step_a + incr for incr in range(len(x_vals))]\n",
    "\n",
    "            # join into tuple\n",
    "            temp_tup = tuple(zip(x_vals, y_vals))         \n",
    "        \n",
    "    return temp_tup, step_list"
   ]
  },
  {
   "cell_type": "code",
   "execution_count": 13,
   "metadata": {},
   "outputs": [
    {
     "data": {
      "text/plain": [
       "(((3, 3), (3, 2), (3, 1)), [5, 6, 7])"
      ]
     },
     "execution_count": 13,
     "metadata": {},
     "output_type": "execute_result"
    }
   ],
   "source": [
    "build_points((3,4), (3,1), 5)"
   ]
  },
  {
   "cell_type": "code",
   "execution_count": 14,
   "metadata": {},
   "outputs": [
    {
     "data": {
      "text/plain": [
       "(((3, 0), (3, -1), (3, -2), (3, -3), (3, -4), (3, -5)), [5, 6, 7, 8, 9, 10])"
      ]
     },
     "execution_count": 14,
     "metadata": {},
     "output_type": "execute_result"
    }
   ],
   "source": [
    "build_points((3,1), (3,-5), 5)"
   ]
  },
  {
   "cell_type": "code",
   "execution_count": 15,
   "metadata": {},
   "outputs": [
    {
     "data": {
      "text/plain": [
       "(((10, 4), (9, 4), (8, 4), (7, 4), (6, 4), (5, 4), (4, 4), (3, 4)),\n",
       " [5, 6, 7, 8, 9, 10, 11, 12])"
      ]
     },
     "execution_count": 15,
     "metadata": {},
     "output_type": "execute_result"
    }
   ],
   "source": [
    "# understand y static:\n",
    "build_points((11,4), (3,4), 5)"
   ]
  },
  {
   "cell_type": "code",
   "execution_count": 16,
   "metadata": {},
   "outputs": [
    {
     "data": {
      "text/plain": [
       "(((3, 3), (3, 2), (3, 1)), [12, 13, 14])"
      ]
     },
     "execution_count": 16,
     "metadata": {},
     "output_type": "execute_result"
    }
   ],
   "source": [
    "# understand y static:\n",
    "build_points((3,4), (3,1), 12)"
   ]
  },
  {
   "cell_type": "code",
   "execution_count": 17,
   "metadata": {},
   "outputs": [],
   "source": [
    "line_1 = tuple()\n",
    "step_dict1 = {}\n",
    "\n",
    "for i in range(len(v1_pos_list)):\n",
    "\n",
    "    # kill before it dies\n",
    "    if (i + 1) >= len(v1_pos_list):\n",
    "        break\n",
    "        \n",
    "    coords, step_out = build_points(v1_pos_list[i], v1_pos_list[i+1], v1_steps_list[i])\n",
    "    line_1 += coords\n",
    "    step_dict1[i] = {pos: step for pos, step in zip(coords, step_out)}\n",
    "    "
   ]
  },
  {
   "cell_type": "code",
   "execution_count": 18,
   "metadata": {},
   "outputs": [],
   "source": [
    "line_2 = tuple()\n",
    "step_dict2 = {}\n",
    "\n",
    "for i in range(len(v2_pos_list)):\n",
    "\n",
    "    # kill before it dies\n",
    "    if (i + 1) >= len(v2_pos_list):\n",
    "        break\n",
    "        \n",
    "    coords, step_out = build_points(v2_pos_list[i], v2_pos_list[i+1], v2_steps_list[i])\n",
    "    line_2 += coords\n",
    "    step_dict2[i] = {pos: step for pos, step in zip(coords, step_out)}"
   ]
  },
  {
   "cell_type": "code",
   "execution_count": 19,
   "metadata": {},
   "outputs": [],
   "source": [
    "match_list = list(set(list(line_1)).intersection(list(line_2)))"
   ]
  },
  {
   "cell_type": "code",
   "execution_count": 20,
   "metadata": {},
   "outputs": [
    {
     "data": {
      "text/plain": [
       "[(158, -12), (146, 46), (155, 4), (155, 11)]"
      ]
     },
     "execution_count": 20,
     "metadata": {},
     "output_type": "execute_result"
    }
   ],
   "source": [
    "match_list # this is correct still "
   ]
  },
  {
   "cell_type": "code",
   "execution_count": 21,
   "metadata": {},
   "outputs": [],
   "source": [
    "\n",
    "# identify steps that align with each match_list for dict 1\n",
    "match_dict_1 = {}\n",
    "\n",
    "# iterate through all items in dict 1\n",
    "for i in step_dict1.keys():\n",
    "\n",
    "    # iterate through various match_list values; add\n",
    "    for match_coord in match_list:\n",
    "        \n",
    "        for coord, step in step_dict1[i].items():\n",
    "            \n",
    "            if coord == match_coord:\n",
    "                \n",
    "                match_dict_1[coord] = step"
   ]
  },
  {
   "cell_type": "code",
   "execution_count": 22,
   "metadata": {},
   "outputs": [
    {
     "data": {
      "text/plain": [
       "{(158, -12): 206, (146, 46): 289, (155, 4): 341, (155, 11): 471}"
      ]
     },
     "execution_count": 22,
     "metadata": {},
     "output_type": "execute_result"
    }
   ],
   "source": [
    "match_dict_1"
   ]
  },
  {
   "cell_type": "code",
   "execution_count": 23,
   "metadata": {},
   "outputs": [],
   "source": [
    "\n",
    "# iterate through all items in dict 2\n",
    "match_dict_2 = {}\n",
    "\n",
    "# iterate through all items in dict 1\n",
    "for i in step_dict2.keys():\n",
    "\n",
    "    # iterate through various match_list values; add\n",
    "    for match_coord in match_list:\n",
    "        \n",
    "        for coord, step in step_dict2[i].items():\n",
    "            \n",
    "            if coord == match_coord:\n",
    "                \n",
    "                match_dict_2[coord] = step"
   ]
  },
  {
   "cell_type": "code",
   "execution_count": 24,
   "metadata": {},
   "outputs": [
    {
     "data": {
      "text/plain": [
       "{(146, 46): 334, (155, 4): 384, (155, 11): 377, (158, -12): 404}"
      ]
     },
     "execution_count": 24,
     "metadata": {},
     "output_type": "execute_result"
    }
   ],
   "source": [
    "match_dict_2"
   ]
  },
  {
   "cell_type": "code",
   "execution_count": 25,
   "metadata": {},
   "outputs": [],
   "source": [
    "final_dict = {}\n",
    "\n",
    "for key in match_dict_1.keys():\n",
    "    final_dict[key] = match_dict_1[key] + match_dict_2[key]"
   ]
  },
  {
   "cell_type": "code",
   "execution_count": 26,
   "metadata": {},
   "outputs": [
    {
     "name": "stdout",
     "output_type": "stream",
     "text": [
      "610\n"
     ]
    }
   ],
   "source": [
    "min_key = min(final_dict, key = final_dict.get)\n",
    "print(final_dict[min_key])"
   ]
  },
  {
   "cell_type": "code",
   "execution_count": null,
   "metadata": {},
   "outputs": [],
   "source": []
  }
 ],
 "metadata": {
  "kernelspec": {
   "display_name": "Python 3",
   "language": "python",
   "name": "python3"
  },
  "language_info": {
   "codemirror_mode": {
    "name": "ipython",
    "version": 3
   },
   "file_extension": ".py",
   "mimetype": "text/x-python",
   "name": "python",
   "nbconvert_exporter": "python",
   "pygments_lexer": "ipython3",
   "version": "3.6.5"
  }
 },
 "nbformat": 4,
 "nbformat_minor": 2
}
