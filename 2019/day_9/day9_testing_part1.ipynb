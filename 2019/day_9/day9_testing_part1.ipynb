{
 "cells": [
  {
   "cell_type": "markdown",
   "metadata": {},
   "source": [
    "#### Modifications for this horrible intcode problem: \n",
    "\n",
    "Add relative mode (mode = 2):\n",
    "- Instead, they count from a value called the relative base. The relative base starts at 0.\n",
    "\n",
    "The relative base is modified with the relative base offset instruction:\n",
    "\n",
    "- Opcode 9 adjusts the relative base by the value of its only parameter. The relative base increases (or decreases, if the value is negative) by the value of the parameter."
   ]
  },
  {
   "cell_type": "code",
   "execution_count": 129,
   "metadata": {},
   "outputs": [],
   "source": [
    "def mode_check_1(mode, list_vals, init_val, rel_base):\n",
    "    if mode == 0:\n",
    "        value =  list_vals[init_val + 1]\n",
    "\n",
    "    if mode == 1:\n",
    "        value =  init_val + 1\n",
    "\n",
    "    if mode == 2:\n",
    "        value =  rel_base + list_vals[init_val + 1]\n",
    "    \n",
    "    return value"
   ]
  },
  {
   "cell_type": "code",
   "execution_count": 130,
   "metadata": {},
   "outputs": [
    {
     "data": {
      "text/plain": [
       "-1"
      ]
     },
     "execution_count": 130,
     "metadata": {},
     "output_type": "execute_result"
    }
   ],
   "source": [
    "test_a = [109,1,204,-1,1001,100,1,100,1008,100,16,101,1006,101,0,99]\n",
    "test_a[2 + 1]"
   ]
  },
  {
   "cell_type": "code",
   "execution_count": 131,
   "metadata": {},
   "outputs": [
    {
     "data": {
      "text/plain": [
       "1985"
      ]
     },
     "execution_count": 131,
     "metadata": {},
     "output_type": "execute_result"
    }
   ],
   "source": [
    "# exmaple two should output 1985\n",
    "mode_check_1(2, [204,-34], 0, 2019)"
   ]
  },
  {
   "cell_type": "code",
   "execution_count": 132,
   "metadata": {},
   "outputs": [],
   "source": [
    "def mode_check_2(mode, list_vals, init_val, rel_base):\n",
    "    if mode == 0:\n",
    "        value = list_vals[init_val + 2]\n",
    "\n",
    "    if mode == 1:\n",
    "        value = init_val + 2\n",
    "\n",
    "    if mode == 2:\n",
    "        value = rel_base + list_vals[init_val + 2]\n",
    "        \n",
    "    return value"
   ]
  },
  {
   "cell_type": "code",
   "execution_count": 133,
   "metadata": {},
   "outputs": [],
   "source": [
    "# This should handle 203 error\n",
    "# Will allow for the handling of mode 2\n",
    "def val_literal(mode, list_vals, init_val, rel_base):\n",
    "    if mode == 0:\n",
    "        value = list_vals[init_val + 3]\n",
    "\n",
    "    if mode == 1:\n",
    "        raise Exception(\"not allowed\")\n",
    "\n",
    "    if mode == 2:\n",
    "        value = rel_base + list_vals[init_val + 3]\n",
    "        \n",
    "    return value    "
   ]
  },
  {
   "cell_type": "code",
   "execution_count": 134,
   "metadata": {},
   "outputs": [],
   "source": [
    "def intcode_pc(list_vals, init_val, rel_base):\n",
    "    \n",
    "    \"\"\"Built in Day 7\"\"\"\n",
    "    \n",
    "    while True:\n",
    "\n",
    "        # identify the opt_code_str\n",
    "        opt_code_str = str(list_vals[init_val])\n",
    "\n",
    "        # take actual opt code: \n",
    "        opt_code = int(opt_code_str[-2:])\n",
    "\n",
    "        # modes can be 0 == position or 1 == immediate \n",
    "        # handle mode with try / except\n",
    "        mode_3, mode_2, mode_1 = 0, 0, 0\n",
    "\n",
    "        # overwrite 0s UNLESS type error, then we know we had trailing 0s\n",
    "        # saw example here: https://p.szy.io/MrmgEA/python\n",
    "        try:\n",
    "            mode_1 = int(opt_code_str[-3])\n",
    "            mode_2 = int(opt_code_str[-4])\n",
    "            mode_3 = int(opt_code_str[-5])\n",
    "\n",
    "        except IndexError:\n",
    "            pass\n",
    "\n",
    "\n",
    "        # handling each type of opt code\n",
    "        if opt_code == 1:\n",
    "\n",
    "            # the third param provides the writing point: we always look at the 3rd value after opt code to write\n",
    "            write_ix = val_literal(mode_3, list_vals, init_val, rel_base)\n",
    "\n",
    "            # get sum vals\n",
    "            val1 = mode_check_1(mode_1, list_vals, init_val, rel_base)\n",
    "            val2 = mode_check_2(mode_2, list_vals, init_val, rel_base)\n",
    "            ans = list_vals[val1] + list_vals[val2]\n",
    "\n",
    "            # overwrite\n",
    "            list_vals[write_ix] = ans\n",
    "\n",
    "            init_val += 4\n",
    "\n",
    "        elif opt_code == 2:\n",
    "\n",
    "            write_ix = val_literal(mode_3, list_vals, init_val, rel_base)\n",
    "\n",
    "            val1 = mode_check_1(mode_1, list_vals, init_val, rel_base)\n",
    "            val2 = mode_check_2(mode_2, list_vals, init_val, rel_base)\n",
    "            ans = list_vals[val1] * list_vals[val2]\n",
    "\n",
    "            # overwrite\n",
    "            list_vals[write_ix] = ans\n",
    "      \n",
    "            init_val += 4\n",
    "\n",
    "        elif opt_code == 3:\n",
    "\n",
    "            write_ix = val_literal(mode_3, list_vals, init_val, rel_base)\n",
    "            list_vals[write_ix] = int(input())\n",
    "            init_val += 2\n",
    "\n",
    "\n",
    "        elif opt_code == 4:\n",
    "            # output val that is at 'init_val + 1' index: think i need t be able to handle a non-0 val....\n",
    "            # possibility of mode == 1?\n",
    "\n",
    "            # something off with mode not being picked up properly\n",
    "            val1 = mode_check_1(mode_1, list_vals, init_val, rel_base)\n",
    "            print(f\"Val in 4 is {list_vals[val1]}\")\n",
    "   \n",
    "            init_val += 2        \n",
    "\n",
    "        elif opt_code == 5:\n",
    "\n",
    "            # jump-if-true\n",
    "            val1 = mode_check_1(mode_1, list_vals, init_val, rel_base)\n",
    "            val2 = mode_check_2(mode_2, list_vals, init_val, rel_base)\n",
    "\n",
    "            if list_vals[val1] != 0:\n",
    "                init_val = list_vals[val2]\n",
    "            else:\n",
    "                init_val += 3\n",
    "\n",
    "        elif opt_code == 6:\n",
    "\n",
    "            # jump-if-false\n",
    "            val1 = mode_check_1(mode_1, list_vals, init_val, rel_base)\n",
    "            val2 = mode_check_2(mode_2, list_vals, init_val, rel_base)\n",
    "\n",
    "            if list_vals[val1] == 0:\n",
    "                init_val = list_vals[val2]\n",
    "            else:\n",
    "                init_val += 3\n",
    "\n",
    "        elif opt_code == 7:\n",
    "\n",
    "            # less than\n",
    "            val1 = mode_check_1(mode_1, list_vals, init_val, rel_base)\n",
    "            val2 = mode_check_2(mode_2, list_vals, init_val, rel_base)\n",
    "\n",
    "            write_ix = val_literal(mode_3, list_vals, init_val, rel_base)\n",
    "\n",
    "            ans = 1 if list_vals[val1] < list_vals[val2] else 0\n",
    "            list_vals[write_ix] = ans\n",
    "            init_val += 4\n",
    "\n",
    "        elif opt_code == 8:\n",
    "\n",
    "            # equals\n",
    "            val1 = mode_check_1(mode_1, list_vals, init_val, rel_base)\n",
    "            val2 = mode_check_2(mode_2, list_vals, init_val, rel_base)\n",
    "\n",
    "            write_ix = val_literal(mode_3, list_vals, init_val, rel_base)\n",
    "\n",
    "            ans = 1 if list_vals[val1] == list_vals[val2] else 0\n",
    "            list_vals[write_ix] = ans\n",
    "            init_val += 4\n",
    "            \n",
    "        elif opt_code == 9:\n",
    "\n",
    "            # update relative base\n",
    "            rel_base += list_vals[init_val +1]\n",
    "            init_val += 2\n",
    "            \n",
    "        elif opt_code == 99:\n",
    "            break\n",
    "\n",
    "        else:\n",
    "\n",
    "            print(\"Something is broken!\")"
   ]
  },
  {
   "cell_type": "code",
   "execution_count": 135,
   "metadata": {},
   "outputs": [
    {
     "name": "stdout",
     "output_type": "stream",
     "text": [
      "Val in 4 is 1125899906842624\n"
     ]
    }
   ],
   "source": [
    "intcode_pc([104,1125899906842624,99], init_val = 0, rel_base = 0)"
   ]
  },
  {
   "cell_type": "code",
   "execution_count": 136,
   "metadata": {},
   "outputs": [
    {
     "name": "stdout",
     "output_type": "stream",
     "text": [
      "Val in 4 is 1219070632396864\n"
     ]
    }
   ],
   "source": [
    "intcode_pc([1102,34915192,34915192,7,4,7,99,0], init_val = 0, rel_base = 0)"
   ]
  },
  {
   "cell_type": "code",
   "execution_count": null,
   "metadata": {},
   "outputs": [],
   "source": []
  },
  {
   "cell_type": "code",
   "execution_count": 137,
   "metadata": {},
   "outputs": [],
   "source": [
    "test_case1 = [109,1,204,-1,1001,100,1,100,1008,100,16,101,1006,101,0,99]\n",
    "extra_0_list = [[0] * 9999999]"
   ]
  },
  {
   "cell_type": "code",
   "execution_count": 138,
   "metadata": {},
   "outputs": [],
   "source": [
    "test_again = test_case1 + extra_0_list[0]"
   ]
  },
  {
   "cell_type": "code",
   "execution_count": 139,
   "metadata": {
    "scrolled": true
   },
   "outputs": [
    {
     "name": "stdout",
     "output_type": "stream",
     "text": [
      "Val in 4 is 109\n",
      "Val in 4 is 1\n",
      "Val in 4 is 204\n",
      "Val in 4 is -1\n",
      "Val in 4 is 1001\n",
      "Val in 4 is 100\n",
      "Val in 4 is 1\n",
      "Val in 4 is 100\n",
      "Val in 4 is 1008\n",
      "Val in 4 is 100\n",
      "Val in 4 is 16\n",
      "Val in 4 is 101\n",
      "Val in 4 is 1006\n",
      "Val in 4 is 101\n",
      "Val in 4 is 0\n",
      "Val in 4 is 99\n"
     ]
    }
   ],
   "source": [
    "intcode_pc(list_vals = test_again, init_val = 0, rel_base=0)"
   ]
  },
  {
   "cell_type": "code",
   "execution_count": null,
   "metadata": {},
   "outputs": [],
   "source": []
  },
  {
   "cell_type": "code",
   "execution_count": null,
   "metadata": {},
   "outputs": [],
   "source": []
  }
 ],
 "metadata": {
  "kernelspec": {
   "display_name": "Python 3",
   "language": "python",
   "name": "python3"
  },
  "language_info": {
   "codemirror_mode": {
    "name": "ipython",
    "version": 3
   },
   "file_extension": ".py",
   "mimetype": "text/x-python",
   "name": "python",
   "nbconvert_exporter": "python",
   "pygments_lexer": "ipython3",
   "version": "3.6.5"
  }
 },
 "nbformat": 4,
 "nbformat_minor": 2
}
