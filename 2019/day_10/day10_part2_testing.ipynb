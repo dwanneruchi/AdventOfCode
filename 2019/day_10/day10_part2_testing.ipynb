{
 "cells": [
  {
   "cell_type": "code",
   "execution_count": 1,
   "metadata": {},
   "outputs": [],
   "source": [
    "# empty list\n",
    "data_list = []\n",
    "\n",
    "# need to ensure a clean run each time\n",
    "with open('day10_test1.txt') as f:\n",
    "    for line in f:\n",
    "        data_list.append(line.strip('\\n').split(' '))\n",
    "       \n",
    "       \n",
    "asteroid_dict = {}\n",
    "\n",
    "\n",
    "for i in range(len(data_list)):\n",
    "   \n",
    "    # convert to list of vals\n",
    "    limit_row = list(data_list[i][0])\n",
    "   \n",
    "    \n",
    "    for j in range(len(limit_row)):\n",
    "        \n",
    "        if limit_row[j] == '#':\n",
    "           \n",
    "            # add to asteroid dict\n",
    "            asteroid_dict[(j,i)] = 'asteroid'"
   ]
  },
  {
   "cell_type": "code",
   "execution_count": 2,
   "metadata": {},
   "outputs": [],
   "source": [
    "from scipy.spatial import distance\n",
    "\n",
    "\n",
    "# new function: euclidean distance off coord - total laziness\n",
    "def eucl_funct(coord1, coord2):\n",
    "    \n",
    "    return distance.euclidean(coord1, coord2)"
   ]
  },
  {
   "cell_type": "code",
   "execution_count": 3,
   "metadata": {},
   "outputs": [],
   "source": [
    "def dir_x_funct(asteroid_x, val2):\n",
    "    \n",
    "    diff = val2 - asteroid_x\n",
    "   \n",
    "    if diff < 0:\n",
    "       \n",
    "        return \"Negative\"\n",
    "   \n",
    "    else:\n",
    "        return \"Positive\"\n",
    "\n",
    "def dir_y_funct(asteroid_y, val2):\n",
    "    \n",
    "    diff = val2 - asteroid_y # due to y_val axis being \"backwards\" we switch\n",
    "   \n",
    "    if diff < 0:\n",
    "       \n",
    "        return \"Negative\"\n",
    "   \n",
    "    else:\n",
    "        return \"Positive\"\n",
    "    \n",
    "# equation to product slope\n",
    "def slope_funct(coord1, coord2):\n",
    "    \n",
    "    # unpack\n",
    "    x1,y1 = coord1\n",
    "    x2,y2 = coord2\n",
    "    \n",
    "    try:\n",
    "        return (y2 - y1) / (x2-x1) # slope is slightly diff.\n",
    "   \n",
    "    except:\n",
    "        return None # need to be extreme here....sloppy sloppy\n",
    "    \n",
    "# x & y \n",
    "def int_funct(coord1, coord2):\n",
    "    \"\"\" Calculate intercept\"\"\"\n",
    "    \n",
    "    # unpack\n",
    "    x1,y1 = coord1\n",
    "    x2,y2 = coord2\n",
    "    \n",
    "    if x1 == x2:\n",
    "        return None # no y intercept\n",
    "    \n",
    "    slope = slope_funct(coord1, coord2)\n",
    "    return -x1*slope+y1\n",
    "\n",
    "# revuild y-val\n",
    "def y_scale(y_asteroid, y_comp):\n",
    "    \"\"\" Rescale from 0 - N to +N to -N with y_asteroid = 0\"\"\"\n",
    "    \n",
    "    return y_asteroid - y_comp"
   ]
  },
  {
   "cell_type": "code",
   "execution_count": 11,
   "metadata": {},
   "outputs": [
    {
     "data": {
      "text/plain": [
       "-1"
      ]
     },
     "execution_count": 11,
     "metadata": {},
     "output_type": "execute_result"
    }
   ],
   "source": [
    "y_scale(3,4)"
   ]
  },
  {
   "cell_type": "code",
   "execution_count": 12,
   "metadata": {},
   "outputs": [
    {
     "data": {
      "text/plain": [
       "-0.25"
      ]
     },
     "execution_count": 12,
     "metadata": {},
     "output_type": "execute_result"
    }
   ],
   "source": [
    "slope_funct((8,0), (12,-1))"
   ]
  },
  {
   "cell_type": "code",
   "execution_count": 39,
   "metadata": {},
   "outputs": [
    {
     "name": "stdout",
     "output_type": "stream",
     "text": [
      "0\n",
      "Already removed\n"
     ]
    }
   ],
   "source": [
    "coord1 = (8,3)\n",
    "y_zero = coord1[1]\n",
    "new_y = y_scale(y_zero, coord1[1])\n",
    "print(new_y)\n",
    "\n",
    "# dl from asteroid\n",
    "try:\n",
    "    del asteroid_dict[coord1]\n",
    "except:\n",
    "    print(\"Already removed\")\n",
    "    \n",
    "coord1 = (coord1[0], new_y)\n",
    "\n",
    "# build a few dfs to store info: \n",
    "\n",
    "total_vert = []\n",
    "total_neg_vert = []\n",
    "zone_1 = []\n",
    "zone_2 = []\n",
    "zone_3 = []\n",
    "zone_4 = []\n",
    "\n",
    "# count total distinct\n",
    "for coord2 in asteroid_dict.keys():\n",
    "     \n",
    "    # update y_vals \n",
    "    new_y = y_scale(y_zero, coord2[1])\n",
    "    coord2 = (coord2[0], new_y)\n",
    "    \n",
    "    # calculate slope & intercept:\n",
    "    slope = slope_funct(coord1, coord2)\n",
    "    intercept = int_funct(coord1, coord2)\n",
    "\n",
    "    # DIRECTION OF X & Y RELATIVE TO ASTEROID\n",
    "    dir_x = dir_x_funct(coord1[0], coord2[0])\n",
    "    dir_y = dir_y_funct(coord1[1], coord2[1])\n",
    "    \n",
    "    # calculate euclidean distance\n",
    "    eucl_dist = eucl_funct(coord1, coord2)\n",
    "    \n",
    "    # build tuple \n",
    "    coord2 = (slope, eucl_dist, coord2)\n",
    "\n",
    "    # See if there is a starting value:\n",
    "    if slope == None and dir_y == \"Positive\":\n",
    "        total_vert.append(coord2)\n",
    "        \n",
    "    elif slope == None and dir_y == \"Negative\":\n",
    "        total_neg_vert.append(coord2)        \n",
    "    \n",
    "    # add to list for zone 1\n",
    "    elif slope >= 0 and dir_x == \"Positive\" and dir_y == \"Positive\":\n",
    "        zone_1.append(coord2)\n",
    "    \n",
    "    # elif to list for zone 2\n",
    "    elif slope <= 0 and dir_x == \"Positive\" and dir_y == \"Negative\":\n",
    "        zone_2.append(coord2)\n",
    "\n",
    "    # elif to list for zone 3\n",
    "    elif slope >= 0 and dir_x == \"Negative\" and dir_y == \"Negative\":\n",
    "        zone_3.append(coord2)\n",
    "\n",
    "    # elif to list for zone 3\n",
    "    elif slope <= 0 and dir_x == \"Negative\" and dir_y == \"Positive\":\n",
    "        zone_4.append(coord2)\n",
    "    else:\n",
    "        print(\"Issue\")"
   ]
  },
  {
   "cell_type": "code",
   "execution_count": 40,
   "metadata": {},
   "outputs": [],
   "source": [
    "def blast_asteroids(slope, zone_list, rank_val):\n",
    "\n",
    "    temp_vals = []\n",
    "\n",
    "    for lines in zone_list:\n",
    "\n",
    "        if lines[0] == slope:\n",
    "            temp_vals.append(lines)\n",
    "\n",
    "    # sort the temp_vals\n",
    "    sorted_list = sorted(temp_vals,key = lambda x: x[1])\n",
    "\n",
    "    if len(sorted_list) > 0:\n",
    "        val_remove = sorted_list[::-1].pop()\n",
    "        print(rank_val, val_remove)\n",
    "        rank_val += 1\n",
    "        zone_list.remove(val_remove)\n",
    "    \n",
    "    return zone_list, rank_val"
   ]
  },
  {
   "cell_type": "code",
   "execution_count": 41,
   "metadata": {},
   "outputs": [
    {
     "name": "stdout",
     "output_type": "stream",
     "text": [
      "1 (None, 2.0, (8, 2))\n",
      "finished vertical loop\n",
      "2 (3.0, 3.1622776601683795, (9, 3))\n",
      "3 (2.0, 2.23606797749979, (9, 2))\n",
      "4 (1.5, 3.605551275463989, (10, 3))\n",
      "5 (1.0, 1.4142135623730951, (9, 1))\n",
      "6 (0.6666666666666666, 3.605551275463989, (11, 2))\n",
      "7 (0.5, 4.47213595499958, (12, 2))\n",
      "8 (0.3333333333333333, 3.1622776601683795, (11, 1))\n",
      "9 (0.2857142857142857, 7.280109889280518, (15, 2))\n",
      "10 (0.25, 4.123105625617661, (12, 1))\n",
      "11 (0.2, 5.0990195135927845, (13, 1))\n",
      "12 (0.16666666666666666, 6.082762530298219, (14, 1))\n",
      "13 (0.14285714285714285, 7.0710678118654755, (15, 1))\n",
      "14 (0.0, 4.0, (12, 0))\n",
      "Finished zone 1\n",
      "15 (-0.125, 8.06225774829855, (16, -1))\n",
      "16 (-0.14285714285714285, 7.0710678118654755, (15, -1))\n",
      "17 (-0.5, 2.23606797749979, (10, -1))\n",
      "Finished zone 2\n",
      "finished negative vert\n",
      "18 (0.25, 4.123105625617661, (4, -1))\n",
      "19 (0.16666666666666666, 6.082762530298219, (2, -1))\n",
      "Finished zone 3\n",
      "20 (-0.0, 6.0, (2, 0))\n",
      "21 (-0.125, 8.06225774829855, (0, 1))\n",
      "22 (-0.14285714285714285, 7.0710678118654755, (1, 1))\n",
      "23 (-0.25, 8.246211251235321, (0, 2))\n",
      "24 (-0.2857142857142857, 7.280109889280518, (1, 2))\n",
      "25 (-0.3333333333333333, 3.1622776601683795, (5, 1))\n",
      "26 (-0.42857142857142855, 7.615773105863909, (1, 3))\n",
      "27 (-0.6666666666666666, 3.605551275463989, (5, 2))\n",
      "28 (-1.0, 2.8284271247461903, (6, 2))\n",
      "29 (-1.5, 3.605551275463989, (6, 3))\n",
      "30 (-3.0, 3.1622776601683795, (7, 3))\n",
      "Finished Zone 4\n",
      "31 (None, 3.0, (8, 3))\n",
      "finished vertical loop\n",
      "32 (1.0, 2.8284271247461903, (10, 2))\n",
      "33 (0.5, 6.708203932499369, (14, 3))\n",
      "34 (0.25, 8.246211251235321, (16, 2))\n",
      "35 (0.0, 5.0, (13, 0))\n",
      "Finished zone 1\n",
      "Finished zone 2\n",
      "finished negative vert\n",
      "Finished zone 3\n",
      "Finished Zone 4\n"
     ]
    }
   ],
   "source": [
    "\n",
    "i = 1\n",
    "\n",
    "while i < 36:\n",
    "    \n",
    "    # handling vertical\n",
    "    dist_vals = sorted(set([x[0] for x in total_vert]))[::-1]\n",
    "    for slope in dist_vals:\n",
    "        total_vert, i = blast_asteroids(slope, total_vert, i)\n",
    "    print(\"finished vertical loop\")\n",
    "    # handling zone 1\n",
    "    dist_vals = sorted(set([x[0] for x in zone_1]))[::-1]\n",
    "    for slope in dist_vals:\n",
    "        zone_1, i = blast_asteroids(slope, zone_1, i)\n",
    "    print(\"Finished zone 1\")\n",
    "    \n",
    "    # handling zone 2\n",
    "    dist_vals = sorted(set([x[0] for x in zone_2]))[::-1]\n",
    "    for slope in dist_vals:\n",
    "        zone_2, i = blast_asteroids(slope, zone_2, i)\n",
    "    print(\"Finished zone 2\")\n",
    "    \n",
    "    # handling negative vertical\n",
    "    dist_vals = sorted(set([x[0] for x in total_neg_vert]))[::-1]\n",
    "    for slope in dist_vals:\n",
    "        total_neg_vert, i = blast_asteroids(slope, total_neg_vert, i)\n",
    "\n",
    "    print(\"finished negative vert\")\n",
    "    \n",
    "    # handling zone 3\n",
    "    dist_vals = sorted(set([x[0] for x in zone_3]))[::-1]\n",
    "    for slope in dist_vals:\n",
    "        zone_3, i = blast_asteroids(slope, zone_3, i)\n",
    "    print(\"Finished zone 3\")\n",
    "    \n",
    "    # handling zone 4\n",
    "    dist_vals = sorted(set([x[0] for x in zone_4]))[::-1]\n",
    "    for slope in dist_vals:\n",
    "        zone_4, i = blast_asteroids(slope, zone_4, i)\n",
    "    print(\"Finished Zone 4\")"
   ]
  },
  {
   "cell_type": "code",
   "execution_count": null,
   "metadata": {},
   "outputs": [],
   "source": [
    "zone_1"
   ]
  },
  {
   "cell_type": "code",
   "execution_count": null,
   "metadata": {},
   "outputs": [],
   "source": [
    "for slope in dist_vals:\n",
    "    \n",
    "    temp_vals = []\n",
    "    \n",
    "    for lines in zone_1:\n",
    "        \n",
    "        if lines[0] == slope:\n",
    "            temp_vals.append(lines)\n",
    "    \n",
    "    # sort the temp_vals\n",
    "    sorted_list = sorted(temp_vals,key = lambda x: x[1])\n",
    "    if len(sorted_list) > 0:\n",
    "        val_remove = sorted_list[::-1].pop()\n",
    "        print(val_remove[2])\n",
    "        zone_1.remove(val_remove)"
   ]
  },
  {
   "cell_type": "code",
   "execution_count": null,
   "metadata": {},
   "outputs": [],
   "source": [
    "sorted(zone_1, key = lambda x: (x[0], x[1]))"
   ]
  },
  {
   "cell_type": "code",
   "execution_count": 270,
   "metadata": {},
   "outputs": [
    {
     "data": {
      "text/plain": [
       "[(10, -1), (15, -1), (16, -1)]"
      ]
     },
     "execution_count": 270,
     "metadata": {},
     "output_type": "execute_result"
    }
   ],
   "source": [
    "zone_2"
   ]
  },
  {
   "cell_type": "code",
   "execution_count": null,
   "metadata": {},
   "outputs": [],
   "source": [
    "##### Run process: \n",
    "\n",
    "while i < 10: "
   ]
  }
 ],
 "metadata": {
  "kernelspec": {
   "display_name": "Python 3",
   "language": "python",
   "name": "python3"
  },
  "language_info": {
   "codemirror_mode": {
    "name": "ipython",
    "version": 3
   },
   "file_extension": ".py",
   "mimetype": "text/x-python",
   "name": "python",
   "nbconvert_exporter": "python",
   "pygments_lexer": "ipython3",
   "version": "3.6.5"
  }
 },
 "nbformat": 4,
 "nbformat_minor": 2
}
