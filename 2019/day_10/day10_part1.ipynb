{
 "cells": [
  {
   "cell_type": "code",
   "execution_count": 2,
   "metadata": {},
   "outputs": [],
   "source": [
    "# empty list\n",
    "data_list = []\n",
    "\n",
    "# need to ensure a clean run each time\n",
    "with open('day10_data.txt') as f:\n",
    "    for line in f:\n",
    "        data_list.append(line.strip('\\n').split(' '))\n",
    "       \n",
    "       \n",
    "asteroid_dict = {}\n",
    "\n",
    "\n",
    "for i in range(len(data_list)):\n",
    "   \n",
    "    # convert to list of vals\n",
    "    limit_row = list(data_list[i][0])\n",
    "   \n",
    "    for j in range(len(limit_row)):\n",
    "       \n",
    "        if limit_row[j] == '#':\n",
    "           \n",
    "            # add to asteroid dict\n",
    "            asteroid_dict[(j,i)] = 'asteroid'\n",
    "           \n",
    "      "
   ]
  },
  {
   "cell_type": "code",
   "execution_count": 3,
   "metadata": {},
   "outputs": [],
   "source": [
    "def dir_funct(val1, val2):\n",
    "    \n",
    "    diff = val1 - val2\n",
    "   \n",
    "    if diff < 0:\n",
    "       \n",
    "        return \"Negative\"\n",
    "   \n",
    "    else:\n",
    "        return \"Positive\""
   ]
  },
  {
   "cell_type": "code",
   "execution_count": 4,
   "metadata": {},
   "outputs": [
    {
     "name": "stdout",
     "output_type": "stream",
     "text": [
      "(19, 11)\n"
     ]
    }
   ],
   "source": [
    "    \n",
    "# equation to product slope\n",
    "def slope_funct(coord1, coord2):\n",
    "    try:\n",
    "        return (coord2[1] - coord1[1]) / (coord2[0] - coord1[0])\n",
    "   \n",
    "    except:\n",
    "        return \"None\"\n",
    "\n",
    "def int_funct(coord1, coord2):\n",
    "    \"\"\" Calculate intercept\"\"\"\n",
    "    try:\n",
    "        return (coord1[0] * coord2[1] - coord2[0]* coord1[1]) / (coord1[0] - coord2[0])\n",
    "    except:\n",
    "        return 0\n",
    "\n",
    "\n",
    "asteroid_sight = {}\n",
    "\n",
    "for coord1 in asteroid_dict.keys():\n",
    "   \n",
    "    # my list\n",
    "    list_cross = []\n",
    "   \n",
    "    # count total distinct\n",
    "    for coord2 in asteroid_dict.keys():\n",
    "       \n",
    "        if coord1 == coord2:\n",
    "            continue\n",
    "       \n",
    "        # calculate slope & intercept:\n",
    "        slope = slope_funct(coord1, coord2)\n",
    "        intercept = int_funct(coord1, coord2)\n",
    "       \n",
    "        # DIRECTION OF X & Y RELATIVE TO ASTEROID\n",
    "        dir_x = dir_funct(coord1[0], coord2[0])\n",
    "        dir_y = dir_funct(coord1[1], coord2[1])\n",
    "        # add to list\n",
    "        list_cross.append((slope, intercept, dir_x, dir_y))\n",
    "   \n",
    "    # add final length of distinct values to dict\n",
    "    asteroid_sight[coord1] = len(set(list_cross))\n",
    "    \n",
    "    \n",
    "print(max(asteroid_sight, key=asteroid_sight.get))"
   ]
  },
  {
   "cell_type": "code",
   "execution_count": 5,
   "metadata": {},
   "outputs": [
    {
     "data": {
      "text/plain": [
       "230"
      ]
     },
     "execution_count": 5,
     "metadata": {},
     "output_type": "execute_result"
    }
   ],
   "source": [
    "asteroid_sight[(19,11)]"
   ]
  },
  {
   "cell_type": "code",
   "execution_count": null,
   "metadata": {},
   "outputs": [],
   "source": []
  }
 ],
 "metadata": {
  "kernelspec": {
   "display_name": "Python 3",
   "language": "python",
   "name": "python3"
  },
  "language_info": {
   "codemirror_mode": {
    "name": "ipython",
    "version": 3
   },
   "file_extension": ".py",
   "mimetype": "text/x-python",
   "name": "python",
   "nbconvert_exporter": "python",
   "pygments_lexer": "ipython3",
   "version": "3.6.5"
  }
 },
 "nbformat": 4,
 "nbformat_minor": 2
}
