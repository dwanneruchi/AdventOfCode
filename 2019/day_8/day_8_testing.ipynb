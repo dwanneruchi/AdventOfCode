{
 "cells": [
  {
   "cell_type": "code",
   "execution_count": 2,
   "metadata": {},
   "outputs": [],
   "source": [
    "# empty list\n",
    "data_list = []\n",
    "\n",
    "# need to ensure a clean run each time \n",
    "with open('day8_data.txt') as f:\n",
    "    for line in f:\n",
    "        data_list.append(line.split(','))\n",
    "\n",
    "# convert to ints\n",
    "test_case = [int(x) for x in data_list[0]]"
   ]
  },
  {
   "cell_type": "code",
   "execution_count": 4,
   "metadata": {},
   "outputs": [],
   "source": [
    "#img size\n",
    "img_size = 25*6"
   ]
  },
  {
   "cell_type": "code",
   "execution_count": 13,
   "metadata": {},
   "outputs": [
    {
     "data": {
      "text/plain": [
       "15000"
      ]
     },
     "execution_count": 13,
     "metadata": {},
     "output_type": "execute_result"
    }
   ],
   "source": [
    "len(str(test_case[0]))"
   ]
  },
  {
   "cell_type": "code",
   "execution_count": 15,
   "metadata": {},
   "outputs": [
    {
     "data": {
      "text/plain": [
       "100.0"
      ]
     },
     "execution_count": 15,
     "metadata": {},
     "output_type": "execute_result"
    }
   ],
   "source": [
    "15000 / img_size # 100 different images fo 150 each"
   ]
  },
  {
   "cell_type": "code",
   "execution_count": 66,
   "metadata": {},
   "outputs": [],
   "source": [
    "dict_img = {}\n",
    "for i in range(100):\n",
    "    start = i*150+1\n",
    "    end = (i+1)*150+1\n",
    "    dict_img[i] = str(test_case)[start:end]"
   ]
  },
  {
   "cell_type": "code",
   "execution_count": 67,
   "metadata": {},
   "outputs": [
    {
     "data": {
      "text/plain": [
       "150"
      ]
     },
     "execution_count": 67,
     "metadata": {},
     "output_type": "execute_result"
    }
   ],
   "source": [
    "len(dict_img[0])"
   ]
  },
  {
   "cell_type": "code",
   "execution_count": 69,
   "metadata": {},
   "outputs": [
    {
     "data": {
      "text/plain": [
       "150"
      ]
     },
     "execution_count": 69,
     "metadata": {},
     "output_type": "execute_result"
    }
   ],
   "source": [
    "len(dict_img[99])"
   ]
  },
  {
   "cell_type": "code",
   "execution_count": 72,
   "metadata": {},
   "outputs": [],
   "source": [
    "# building a test list\n",
    "dict_int = {}\n",
    "for i in dict_img.keys():\n",
    "    \n",
    "    test_list = [int(x) for x in dict_img[i]]\n",
    "        \n",
    "    dict_int[i] = np.reshape(test_list, (6, 25))"
   ]
  },
  {
   "cell_type": "code",
   "execution_count": 75,
   "metadata": {},
   "outputs": [],
   "source": [
    "from matplotlib import pyplot as plt\n",
    "import numpy as np"
   ]
  },
  {
   "cell_type": "code",
   "execution_count": 74,
   "metadata": {},
   "outputs": [
    {
     "data": {
      "text/plain": [
       "array([[1, 0, 2, 0, 0, 0, 1, 2, 0, 0, 1, 1, 2, 2, 0, 2, 2, 1, 2, 1, 1, 2,\n",
       "        1, 1, 2],\n",
       "       [1, 1, 0, 2, 0, 1, 1, 0, 0, 0, 2, 0, 1, 1, 1, 2, 2, 1, 1, 2, 1, 0,\n",
       "        0, 1, 2],\n",
       "       [1, 2, 0, 2, 1, 1, 2, 2, 1, 2, 2, 1, 2, 1, 0, 1, 1, 1, 2, 1, 2, 2,\n",
       "        0, 1, 0],\n",
       "       [1, 0, 1, 2, 0, 0, 0, 1, 1, 0, 2, 0, 0, 2, 2, 0, 2, 2, 0, 1, 1, 0,\n",
       "        0, 1, 1],\n",
       "       [1, 2, 1, 0, 1, 1, 0, 1, 1, 1, 1, 0, 2, 0, 2, 1, 2, 0, 0, 1, 2, 1,\n",
       "        0, 2, 1],\n",
       "       [1, 1, 2, 0, 0, 1, 0, 0, 0, 2, 0, 2, 0, 0, 2, 0, 1, 0, 1, 0, 0, 0,\n",
       "        1, 1, 0]])"
      ]
     },
     "execution_count": 74,
     "metadata": {},
     "output_type": "execute_result"
    }
   ],
   "source": [
    "dict_int[i]"
   ]
  },
  {
   "cell_type": "code",
   "execution_count": 78,
   "metadata": {},
   "outputs": [],
   "source": [
    "### Find the one with least 0s"
   ]
  },
  {
   "cell_type": "code",
   "execution_count": 79,
   "metadata": {},
   "outputs": [],
   "source": [
    "zero_dict = {}\n",
    "\n",
    "for i in dict_img.keys():\n",
    "    \n",
    "    zero_count = [x for x in dict_img[i] if x == '0']\n",
    "    zero_dict[i] = len(zero_count)"
   ]
  },
  {
   "cell_type": "code",
   "execution_count": 81,
   "metadata": {},
   "outputs": [
    {
     "data": {
      "text/plain": [
       "(21, 7)"
      ]
     },
     "execution_count": 81,
     "metadata": {},
     "output_type": "execute_result"
    }
   ],
   "source": [
    "min(zero_dict.items(), key=lambda x: x[1]) "
   ]
  },
  {
   "cell_type": "code",
   "execution_count": 82,
   "metadata": {},
   "outputs": [
    {
     "data": {
      "text/plain": [
       "7"
      ]
     },
     "execution_count": 82,
     "metadata": {},
     "output_type": "execute_result"
    }
   ],
   "source": [
    "zero_dict[21]"
   ]
  },
  {
   "cell_type": "code",
   "execution_count": 83,
   "metadata": {},
   "outputs": [
    {
     "data": {
      "text/plain": [
       "2250"
      ]
     },
     "execution_count": 83,
     "metadata": {},
     "output_type": "execute_result"
    }
   ],
   "source": [
    "# now calculate part 1\n",
    "len([x for x in dict_img[21] if x == '1']) * len([x for x in dict_img[21] if x == '2'])\n"
   ]
  },
  {
   "cell_type": "markdown",
   "metadata": {},
   "source": [
    "### Moving into Part 2: \n",
    "\n",
    "0 = black\n",
    "1 = white\n",
    "2 = transparent\n",
    "\n",
    "- Any transparents will be overwritten....basically need to loop over each array, and any 2s will be ignored....\n",
    "\n",
    "\n",
    "Approach: \n",
    "\n",
    "- first find the max val of each point based on layer (skip across all pixels, and then all layers)\n",
    "- next do quick math to determine vals....basically ignore any 2s & take value\n",
    "- then reshape into proper output (width x height"
   ]
  },
  {
   "cell_type": "code",
   "execution_count": 99,
   "metadata": {},
   "outputs": [],
   "source": [
    "testing = '0222112222120000'"
   ]
  },
  {
   "cell_type": "code",
   "execution_count": 104,
   "metadata": {},
   "outputs": [],
   "source": [
    "pixels = 4\n",
    "layers = 4\n",
    "layer_stack_dict = {} # store output & do quick math\n",
    "\n",
    "for i in range(pixels):\n",
    "    my_list = []\n",
    "    for j in range(layers):\n",
    "        \n",
    "        app_val = testing[i+j*pixels]\n",
    "        my_list.append(app_val)\n",
    "        \n",
    "    layer_stack_dict[i] = my_list      "
   ]
  },
  {
   "cell_type": "code",
   "execution_count": 106,
   "metadata": {},
   "outputs": [
    {
     "data": {
      "text/plain": [
       "{0: ['0', '1', '2', '0'],\n",
       " 1: ['2', '1', '2', '0'],\n",
       " 2: ['2', '2', '1', '0'],\n",
       " 3: ['2', '2', '2', '0']}"
      ]
     },
     "execution_count": 106,
     "metadata": {},
     "output_type": "execute_result"
    }
   ],
   "source": [
    "layer_stack_dict"
   ]
  },
  {
   "cell_type": "code",
   "execution_count": 109,
   "metadata": {},
   "outputs": [],
   "source": [
    "final_list = []\n",
    "for i in range(pixels):\n",
    "    val = '2'\n",
    "    spec_layer = layer_stack_dict[i][::-1]\n",
    "    while val == '2':\n",
    "        val = spec_layer.pop()\n",
    "    \n",
    "    # add to final section\n",
    "    final_list.append(val)"
   ]
  },
  {
   "cell_type": "code",
   "execution_count": 111,
   "metadata": {},
   "outputs": [],
   "source": [
    "# restructure as array: \n",
    "answer = np.reshape(final_list, (2, 2))"
   ]
  },
  {
   "cell_type": "code",
   "execution_count": 113,
   "metadata": {},
   "outputs": [
    {
     "data": {
      "text/plain": [
       "array([['0', '1'],\n",
       "       ['1', '0']], dtype='<U1')"
      ]
     },
     "execution_count": 113,
     "metadata": {},
     "output_type": "execute_result"
    }
   ],
   "source": [
    "answer # works with test case!"
   ]
  },
  {
   "cell_type": "code",
   "execution_count": 117,
   "metadata": {},
   "outputs": [],
   "source": [
    "# with final data///will bne slow\n",
    "pixels = 150\n",
    "layers = 100\n",
    "layer_stack_dict = {} # store output & do quick math\n",
    "\n",
    "for i in range(pixels):\n",
    "    my_list = []\n",
    "    for j in range(layers):\n",
    "        \n",
    "        app_val = str(test_case[0])[i+j*pixels]\n",
    "        my_list.append(app_val)\n",
    "        \n",
    "    layer_stack_dict[i] = my_list    "
   ]
  },
  {
   "cell_type": "code",
   "execution_count": 118,
   "metadata": {},
   "outputs": [],
   "source": [
    "final_list = []\n",
    "for i in range(pixels):\n",
    "    val = '2'\n",
    "    spec_layer = layer_stack_dict[i][::-1]\n",
    "    while val == '2':\n",
    "        val = spec_layer.pop()\n",
    "    \n",
    "    # add to final section\n",
    "    final_list.append(val)"
   ]
  },
  {
   "cell_type": "code",
   "execution_count": 129,
   "metadata": {},
   "outputs": [],
   "source": [
    "# restructure as array: \n",
    "int_list = [int(x) for x in final_list]\n",
    "answer = np.reshape(int_list, (6, 25))"
   ]
  },
  {
   "cell_type": "code",
   "execution_count": 130,
   "metadata": {},
   "outputs": [],
   "source": [
    "from matplotlib import pyplot as plt\n",
    "import numpy as np"
   ]
  },
  {
   "cell_type": "code",
   "execution_count": 131,
   "metadata": {},
   "outputs": [
    {
     "data": {
      "text/plain": [
       "<matplotlib.image.AxesImage at 0x196bb65e978>"
      ]
     },
     "execution_count": 131,
     "metadata": {},
     "output_type": "execute_result"
    },
    {
     "data": {
      "image/png": "[encoded data removed]",
      "text/plain": [
       "<Figure size 432x288 with 1 Axes>"
      ]
     },
     "metadata": {
      "needs_background": "light"
     },
     "output_type": "display_data"
    }
   ],
   "source": [
    "plt.imshow(answer)"
   ]
  },
  {
   "cell_type": "code",
   "execution_count": null,
   "metadata": {},
   "outputs": [],
   "source": []
  }
 ],
 "metadata": {
  "kernelspec": {
   "display_name": "Python 3",
   "language": "python",
   "name": "python3"
  },
  "language_info": {
   "codemirror_mode": {
    "name": "ipython",
    "version": 3
   },
   "file_extension": ".py",
   "mimetype": "text/x-python",
   "name": "python",
   "nbconvert_exporter": "python",
   "pygments_lexer": "ipython3",
   "version": "3.6.5"
  }
 },
 "nbformat": 4,
 "nbformat_minor": 2
}
