{
 "cells": [
  {
   "cell_type": "code",
   "execution_count": 45,
   "metadata": {},
   "outputs": [],
   "source": [
    "# empty list\n",
    "data_list = []\n",
    "\n",
    "# need to ensure a clean run each time \n",
    "with open('day6_data_testing.txt') as f:\n",
    "    for line in f:\n",
    "        data_list.append(line)"
   ]
  },
  {
   "cell_type": "code",
   "execution_count": 46,
   "metadata": {},
   "outputs": [],
   "source": [
    "# cleaning things up a bit.\n",
    "clean_orbit = [orbit.rstrip('\\n').split(')') for orbit in data_list]"
   ]
  },
  {
   "cell_type": "code",
   "execution_count": 51,
   "metadata": {},
   "outputs": [],
   "source": [
    "# doubt the data will be in order...\n",
    "scrambled = clean_orbit[::-1]"
   ]
  },
  {
   "cell_type": "code",
   "execution_count": 57,
   "metadata": {},
   "outputs": [],
   "source": [
    "def find_start(input_list):\n",
    "    \"\"\"Our start is the one that is not orbiting anything else\"\"\"\n",
    "    \n",
    "    # split left & right sides\n",
    "    left_side = [x[0] for x in input_list]\n",
    "    right_side = [x[1] for x in input_list]\n",
    "    \n",
    "    # find start_point\n",
    "    start_list = [x for x in left_side if x not in right_side]\n",
    "\n",
    "    # return val\n",
    "    try:\n",
    "        return start_list[0], left_side\n",
    "    \n",
    "    except:\n",
    "        print(\"Found no starting point\")"
   ]
  },
  {
   "cell_type": "code",
   "execution_count": 58,
   "metadata": {},
   "outputs": [],
   "source": [
    "starting_val, all_parents = find_start(scrambled)"
   ]
  },
  {
   "cell_type": "code",
   "execution_count": 63,
   "metadata": {},
   "outputs": [],
   "source": [
    "all_parents = [x for x in set(all_parents) if x not in starting_val]"
   ]
  },
  {
   "cell_type": "code",
   "execution_count": 72,
   "metadata": {},
   "outputs": [],
   "source": [
    "\n",
    "\n",
    "# Now we know the start: So we can build off of this....\n",
    "dict_counts = {}\n",
    "\n",
    "# initializ with start:\n",
    "dict_counts[starting_val] = 0\n",
    "\n",
    "# assuming its a single parent\n",
    "parent_list = [starting_val]\n",
    "\n",
    "for _ in range(len(all_parents) +1):\n",
    "\n",
    "    temp_par = []\n",
    "\n",
    "    for par in parent_list:\n",
    "\n",
    "        output = [x[1] for x in scrambled if x[0] in par]\n",
    "\n",
    "        for child in output:\n",
    "            dict_counts[child] = 1 + dict_counts[par]\n",
    "\n",
    "            # add to temp_par\n",
    "            temp_par.append(child)\n",
    "\n",
    "    # temp_par then overwrites parent_list\n",
    "    parent_list = temp_par\n",
    "\n",
    "    \n",
    "    \n",
    "    "
   ]
  },
  {
   "cell_type": "code",
   "execution_count": 73,
   "metadata": {},
   "outputs": [
    {
     "data": {
      "text/plain": [
       "42"
      ]
     },
     "execution_count": 73,
     "metadata": {},
     "output_type": "execute_result"
    }
   ],
   "source": [
    "sum(dict_counts.values())"
   ]
  },
  {
   "cell_type": "code",
   "execution_count": 74,
   "metadata": {},
   "outputs": [
    {
     "data": {
      "text/plain": [
       "{'COM': 0,\n",
       " 'D': 3,\n",
       " 'B': 1,\n",
       " 'I': 4,\n",
       " 'E': 4,\n",
       " 'G': 2,\n",
       " 'C': 2,\n",
       " 'J': 5,\n",
       " 'F': 5,\n",
       " 'H': 3,\n",
       " 'K': 6,\n",
       " 'L': 7}"
      ]
     },
     "execution_count": 74,
     "metadata": {},
     "output_type": "execute_result"
    }
   ],
   "source": [
    "dict_counts"
   ]
  }
 ],
 "metadata": {
  "kernelspec": {
   "display_name": "Python 3",
   "language": "python",
   "name": "python3"
  },
  "language_info": {
   "codemirror_mode": {
    "name": "ipython",
    "version": 3
   },
   "file_extension": ".py",
   "mimetype": "text/x-python",
   "name": "python",
   "nbconvert_exporter": "python",
   "pygments_lexer": "ipython3",
   "version": "3.6.5"
  }
 },
 "nbformat": 4,
 "nbformat_minor": 2
}
