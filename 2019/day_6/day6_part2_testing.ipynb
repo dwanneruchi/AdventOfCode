{
 "cells": [
  {
   "cell_type": "code",
   "execution_count": 55,
   "metadata": {},
   "outputs": [],
   "source": [
    "# empty list\n",
    "data_list = []\n",
    "\n",
    "# need to ensure a clean run each time \n",
    "with open('day6_test2.txt') as f:\n",
    "    for line in f:\n",
    "        data_list.append(line)"
   ]
  },
  {
   "cell_type": "code",
   "execution_count": 56,
   "metadata": {},
   "outputs": [],
   "source": [
    "# cleaning things up a bit.\n",
    "clean_orbit = [orbit.rstrip('\\n').split(')') for orbit in data_list]"
   ]
  },
  {
   "cell_type": "code",
   "execution_count": 57,
   "metadata": {},
   "outputs": [
    {
     "data": {
      "text/plain": [
       "[['COM', 'B'],\n",
       " ['B', 'C'],\n",
       " ['C', 'D'],\n",
       " ['D', 'E'],\n",
       " ['E', 'F'],\n",
       " ['B', 'G'],\n",
       " ['G', 'H'],\n",
       " ['D', 'I'],\n",
       " ['E', 'J'],\n",
       " ['J', 'K'],\n",
       " ['K', 'L'],\n",
       " ['K', 'YOU'],\n",
       " ['I', 'SAN']]"
      ]
     },
     "execution_count": 57,
     "metadata": {},
     "output_type": "execute_result"
    }
   ],
   "source": [
    "clean_orbit"
   ]
  },
  {
   "cell_type": "code",
   "execution_count": 58,
   "metadata": {},
   "outputs": [
    {
     "name": "stdout",
     "output_type": "stream",
     "text": [
      "['I']\n"
     ]
    }
   ],
   "source": [
    "# find santtas spot\n",
    "santa_spot = [x[0] for x in clean_orbit if x[1] == \"SAN\"]\n",
    "print(santa_spot)"
   ]
  },
  {
   "cell_type": "code",
   "execution_count": 78,
   "metadata": {},
   "outputs": [],
   "source": [
    "you_list = []\n",
    "\n",
    "# start with YOU & work backwards....\n",
    "new_list = ['YOU']\n",
    "while True:\n",
    "    \n",
    "    new_list = [x[0] for x in clean_orbit if x[1] == new_list[0]]\n",
    "    \n",
    "    if len(new_list) == 0:\n",
    "        break\n",
    "        \n",
    "    you_list.append(new_list)"
   ]
  },
  {
   "cell_type": "code",
   "execution_count": 79,
   "metadata": {},
   "outputs": [],
   "source": [
    "santa_list = []\n",
    "\n",
    "# start with YOU & work backwards....\n",
    "new_list = ['SAN']\n",
    "while True:\n",
    "    \n",
    "    new_list = [x[0] for x in clean_orbit if x[1] == new_list[0]]\n",
    "    \n",
    "    if len(new_list) == 0:\n",
    "        break\n",
    "        \n",
    "    santa_list.append(new_list)\n"
   ]
  },
  {
   "cell_type": "code",
   "execution_count": 80,
   "metadata": {},
   "outputs": [
    {
     "name": "stdout",
     "output_type": "stream",
     "text": [
      "[['K'], ['J'], ['E'], ['D'], ['C'], ['B'], ['COM']]\n",
      "[['I'], ['D'], ['C'], ['B'], ['COM']]\n"
     ]
    }
   ],
   "source": [
    "# this is in order, so make the last point the shared point..\n",
    "print(you_list)\n",
    "print(santa_list)"
   ]
  },
  {
   "cell_type": "code",
   "execution_count": 81,
   "metadata": {},
   "outputs": [],
   "source": [
    "shared_point = [x for x in santa_list if x in you_list]\n",
    "\n",
    "# we want the nearest?\n",
    "true_intersection = shared_point[::-1].pop()"
   ]
  },
  {
   "cell_type": "code",
   "execution_count": 82,
   "metadata": {},
   "outputs": [
    {
     "data": {
      "text/plain": [
       "['D']"
      ]
     },
     "execution_count": 82,
     "metadata": {},
     "output_type": "execute_result"
    }
   ],
   "source": [
    "true_intersection"
   ]
  },
  {
   "cell_type": "code",
   "execution_count": 83,
   "metadata": {},
   "outputs": [],
   "source": [
    "for x in you_list[::-1]:\n",
    "    \n",
    "    if x == true_intersection:\n",
    "        \n",
    "        break\n",
    "        \n",
    "    you_list.pop()"
   ]
  },
  {
   "cell_type": "code",
   "execution_count": 84,
   "metadata": {},
   "outputs": [
    {
     "data": {
      "text/plain": [
       "[['K'], ['J'], ['E'], ['D']]"
      ]
     },
     "execution_count": 84,
     "metadata": {},
     "output_type": "execute_result"
    }
   ],
   "source": [
    "you_list"
   ]
  },
  {
   "cell_type": "code",
   "execution_count": 85,
   "metadata": {},
   "outputs": [
    {
     "name": "stdout",
     "output_type": "stream",
     "text": [
      "['COM']\n",
      "['B']\n",
      "['C']\n",
      "['D']\n"
     ]
    }
   ],
   "source": [
    "for x in santa_list[::-1]:\n",
    "    \n",
    "    if x == true_intersection:\n",
    "        \n",
    "        break\n",
    "        \n",
    "    santa_list.pop()"
   ]
  },
  {
   "cell_type": "code",
   "execution_count": 86,
   "metadata": {},
   "outputs": [
    {
     "data": {
      "text/plain": [
       "[['I'], ['D']]"
      ]
     },
     "execution_count": 86,
     "metadata": {},
     "output_type": "execute_result"
    }
   ],
   "source": [
    "santa_list"
   ]
  },
  {
   "cell_type": "code",
   "execution_count": 88,
   "metadata": {},
   "outputs": [
    {
     "data": {
      "text/plain": [
       "[['K'], ['J'], ['E'], ['D']]"
      ]
     },
     "execution_count": 88,
     "metadata": {},
     "output_type": "execute_result"
    }
   ],
   "source": [
    "you_list"
   ]
  },
  {
   "cell_type": "code",
   "execution_count": 90,
   "metadata": {},
   "outputs": [
    {
     "data": {
      "text/plain": [
       "4"
      ]
     },
     "execution_count": 90,
     "metadata": {},
     "output_type": "execute_result"
    }
   ],
   "source": [
    "len(you_list) + len(santa_list) - 2"
   ]
  },
  {
   "cell_type": "code",
   "execution_count": null,
   "metadata": {},
   "outputs": [],
   "source": []
  }
 ],
 "metadata": {
  "kernelspec": {
   "display_name": "Python 3",
   "language": "python",
   "name": "python3"
  },
  "language_info": {
   "codemirror_mode": {
    "name": "ipython",
    "version": 3
   },
   "file_extension": ".py",
   "mimetype": "text/x-python",
   "name": "python",
   "nbconvert_exporter": "python",
   "pygments_lexer": "ipython3",
   "version": "3.6.5"
  }
 },
 "nbformat": 4,
 "nbformat_minor": 2
}
