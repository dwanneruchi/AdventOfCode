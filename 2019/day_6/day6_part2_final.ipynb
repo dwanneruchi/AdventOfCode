{
 "cells": [
  {
   "cell_type": "code",
   "execution_count": 1,
   "metadata": {},
   "outputs": [],
   "source": [
    "# empty list\n",
    "data_list = []\n",
    "\n",
    "# need to ensure a clean run each time \n",
    "with open('day6_data.txt') as f:\n",
    "    for line in f:\n",
    "        data_list.append(line)"
   ]
  },
  {
   "cell_type": "code",
   "execution_count": 2,
   "metadata": {},
   "outputs": [],
   "source": [
    "# cleaning things up a bit.\n",
    "clean_orbit = [orbit.rstrip('\\n').split(')') for orbit in data_list]"
   ]
  },
  {
   "cell_type": "code",
   "execution_count": 4,
   "metadata": {},
   "outputs": [],
   "source": [
    "you_list = []\n",
    "\n",
    "# start with YOU & work backwards....\n",
    "new_list = ['YOU']\n",
    "while True:\n",
    "    \n",
    "    new_list = [x[0] for x in clean_orbit if x[1] == new_list[0]]\n",
    "    \n",
    "    if len(new_list) == 0:\n",
    "        break\n",
    "        \n",
    "    you_list.append(new_list)"
   ]
  },
  {
   "cell_type": "code",
   "execution_count": 5,
   "metadata": {},
   "outputs": [],
   "source": [
    "santa_list = []\n",
    "\n",
    "# start with YOU & work backwards....\n",
    "new_list = ['SAN']\n",
    "while True:\n",
    "    \n",
    "    new_list = [x[0] for x in clean_orbit if x[1] == new_list[0]]\n",
    "    \n",
    "    if len(new_list) == 0:\n",
    "        break\n",
    "        \n",
    "    santa_list.append(new_list)\n"
   ]
  },
  {
   "cell_type": "code",
   "execution_count": 7,
   "metadata": {},
   "outputs": [],
   "source": [
    "shared_point = [x for x in santa_list if x in you_list]\n",
    "\n",
    "# we want the nearest?\n",
    "true_intersection = shared_point[::-1].pop()"
   ]
  },
  {
   "cell_type": "code",
   "execution_count": 8,
   "metadata": {},
   "outputs": [
    {
     "data": {
      "text/plain": [
       "['6C4']"
      ]
     },
     "execution_count": 8,
     "metadata": {},
     "output_type": "execute_result"
    }
   ],
   "source": [
    "true_intersection"
   ]
  },
  {
   "cell_type": "code",
   "execution_count": 9,
   "metadata": {},
   "outputs": [],
   "source": [
    "for x in you_list[::-1]:\n",
    "    \n",
    "    if x == true_intersection:\n",
    "        \n",
    "        break\n",
    "        \n",
    "    you_list.pop()"
   ]
  },
  {
   "cell_type": "code",
   "execution_count": 11,
   "metadata": {},
   "outputs": [],
   "source": [
    "for x in santa_list[::-1]:\n",
    "    \n",
    "    if x == true_intersection:\n",
    "        \n",
    "        break\n",
    "        \n",
    "    santa_list.pop()"
   ]
  },
  {
   "cell_type": "code",
   "execution_count": 12,
   "metadata": {},
   "outputs": [
    {
     "data": {
      "text/plain": [
       "388"
      ]
     },
     "execution_count": 12,
     "metadata": {},
     "output_type": "execute_result"
    }
   ],
   "source": [
    "len(you_list) + len(santa_list) - 2"
   ]
  },
  {
   "cell_type": "code",
   "execution_count": null,
   "metadata": {},
   "outputs": [],
   "source": []
  }
 ],
 "metadata": {
  "kernelspec": {
   "display_name": "Python 3",
   "language": "python",
   "name": "python3"
  },
  "language_info": {
   "codemirror_mode": {
    "name": "ipython",
    "version": 3
   },
   "file_extension": ".py",
   "mimetype": "text/x-python",
   "name": "python",
   "nbconvert_exporter": "python",
   "pygments_lexer": "ipython3",
   "version": "3.6.5"
  }
 },
 "nbformat": 4,
 "nbformat_minor": 2
}
