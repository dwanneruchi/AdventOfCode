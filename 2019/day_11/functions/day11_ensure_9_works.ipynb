{
 "cells": [
  {
   "cell_type": "code",
   "execution_count": 1,
   "metadata": {},
   "outputs": [],
   "source": [
    "from intCode import *"
   ]
  },
  {
   "cell_type": "markdown",
   "metadata": {},
   "source": [
    "#### Need to ensure day 9 still loads properly\n",
    "\n",
    "- Both still run, so the intcode should be fine..."
   ]
  },
  {
   "cell_type": "markdown",
   "metadata": {},
   "source": [
    "#### Trying a Run:"
   ]
  },
  {
   "cell_type": "code",
   "execution_count": 10,
   "metadata": {},
   "outputs": [],
   "source": [
    "# empty list\n",
    "data_list = []\n",
    "\n",
    "# need to ensure a clean run each time \n",
    "with open('day9_data.txt') as f:\n",
    "    for line in f:\n",
    "        data_list.append(line.split(','))\n",
    "\n",
    "# convert to ints\n",
    "clean_d_list = [int(x) for x in data_list[0]]\n",
    "\n",
    "# adding range\n",
    "extra_list = [x for x in range(1000000)]\n",
    "\n",
    "day_9_data = clean_d_list + extra_list"
   ]
  },
  {
   "cell_type": "code",
   "execution_count": 11,
   "metadata": {},
   "outputs": [],
   "source": [
    "my_dict = intcode_pc(list_vals = day_9_data, init_val = 0, rel_base=0, input_val=2)"
   ]
  },
  {
   "cell_type": "code",
   "execution_count": 12,
   "metadata": {},
   "outputs": [
    {
     "name": "stdout",
     "output_type": "stream",
     "text": [
      "59785\n"
     ]
    }
   ],
   "source": [
    "print(my_dict['robo_output'])"
   ]
  },
  {
   "cell_type": "code",
   "execution_count": 13,
   "metadata": {},
   "outputs": [
    {
     "name": "stdout",
     "output_type": "stream",
     "text": [
      "3906448201\n"
     ]
    }
   ],
   "source": [
    "## try the other run with input of 1\n",
    "# empty list\n",
    "data_list = []\n",
    "\n",
    "# need to ensure a clean run each time \n",
    "with open('day9_data.txt') as f:\n",
    "    for line in f:\n",
    "        data_list.append(line.split(','))\n",
    "\n",
    "# convert to ints\n",
    "clean_d_list = [int(x) for x in data_list[0]]\n",
    "\n",
    "# adding range\n",
    "extra_list = [x for x in range(1000000)]\n",
    "\n",
    "day_9_data = clean_d_list + extra_list\n",
    "\n",
    "# run\n",
    "my_dict = intcode_pc(list_vals = day_9_data, init_val = 0, rel_base=0, input_val=1)\n",
    "print(my_dict['robo_output'])"
   ]
  },
  {
   "cell_type": "code",
   "execution_count": null,
   "metadata": {},
   "outputs": [],
   "source": []
  }
 ],
 "metadata": {
  "kernelspec": {
   "display_name": "Python 3",
   "language": "python",
   "name": "python3"
  },
  "language_info": {
   "codemirror_mode": {
    "name": "ipython",
    "version": 3
   },
   "file_extension": ".py",
   "mimetype": "text/x-python",
   "name": "python",
   "nbconvert_exporter": "python",
   "pygments_lexer": "ipython3",
   "version": "3.6.5"
  }
 },
 "nbformat": 4,
 "nbformat_minor": 2
}
