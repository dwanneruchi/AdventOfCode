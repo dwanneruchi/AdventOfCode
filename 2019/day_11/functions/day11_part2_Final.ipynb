{
 "cells": [
  {
   "cell_type": "code",
   "execution_count": 1,
   "metadata": {},
   "outputs": [],
   "source": [
    "from intCode import *\n",
    "\n",
    "def paint_funct(input_val):\n",
    "    \"\"\"Func to determine paint color\"\"\"\n",
    "    if input_val == 0:\n",
    "        return 'BLACK'\n",
    "    else:\n",
    "        return 'WHITE'"
   ]
  },
  {
   "cell_type": "code",
   "execution_count": 2,
   "metadata": {},
   "outputs": [],
   "source": [
    "def direction_funct(next_move, direction, coords):\n",
    "    \"\"\"Func for direction robot should turn\"\"\"\n",
    "    if next_move == 0 :\n",
    "        # ^ -> <\n",
    "        if direction == '^':\n",
    "            direction = '<'\n",
    "            coords = (coords[0] - 1, coords[1])\n",
    "\n",
    "        elif direction == '>':\n",
    "            direction = '^'\n",
    "            coords = (coords[0], coords[1] + 1)\n",
    "\n",
    "        elif direction == 'v':\n",
    "            direction = '>'\n",
    "            coords = (coords[0] + 1, coords[1])\n",
    "\n",
    "        elif direction == '<':\n",
    "            direction = 'v'\n",
    "            coords = (coords[0], coords[1] - 1)\n",
    "\n",
    "    if next_move == 1 :\n",
    "        # ^ -> <\n",
    "        if direction == '^':\n",
    "            direction = '>'\n",
    "            coords = (coords[0] + 1, coords[1])\n",
    "\n",
    "        elif direction == '>':\n",
    "            direction = 'v'\n",
    "            coords = (coords[0], coords[1] - 1)\n",
    "\n",
    "        elif direction == 'v':\n",
    "            direction = '<'\n",
    "            coords = (coords[0] - 1, coords[1])\n",
    "\n",
    "        elif direction == '<':\n",
    "            direction = '^'\n",
    "            coords = (coords[0], coords[1] + 1)\n",
    "   \n",
    "    return direction, coords\n",
    "\n",
    "def robot_paint(paint_color):\n",
    "   \n",
    "    if paint_color == 'BLACK':\n",
    "        return 0\n",
    "    else:\n",
    "        return 1"
   ]
  },
  {
   "cell_type": "code",
   "execution_count": 8,
   "metadata": {},
   "outputs": [],
   "source": [
    "# the solve: \n",
    "\n",
    "inp = open('day11_data.txt').read().split(',')\n",
    "lst = list(map(int, inp))\n",
    "[lst.append(0) for rin in range(10000)]\n",
    "\n",
    "# store coordinates that are painted - then we can take distinct values\n",
    "dict_results = {}\n",
    "\n",
    "# initial intermed_dict vals\n",
    "intermed_dict = {}\n",
    "intermed_dict['list'] = lst\n",
    "intermed_dict['init_val'] = 0\n",
    "intermed_dict['rel_base'] = 0\n",
    "intermed_dict['robo_input'] = 1\n",
    "\n",
    "robot_pos = (0,0) # start at 0\n",
    "direction = '^' # up\n",
    "dict_results[(0,0)] = \"WHITE\"\n",
    "\n",
    "i = 1\n",
    "while True:\n",
    "   \n",
    "    # run process, updating\n",
    "    intermed_dict = intcode_pc(list_vals = intermed_dict['list'], init_val = intermed_dict['init_val'], rel_base=intermed_dict['rel_base'] , input_val = intermed_dict['robo_input'])\n",
    "\n",
    "    # Find our stopping point\n",
    "    if intermed_dict['robo_output'] == 'FINISHED':\n",
    "        break\n",
    "       \n",
    "    # if i %2 == 1, then odd number meaning we are on the color to paint panel\n",
    "    if i %2 == 1:\n",
    "        paint_color = paint_funct(input_val = intermed_dict['robo_output'])\n",
    "        robot_output_val = intermed_dict['robo_output']\n",
    "\n",
    "        # change coord to specific color --> the only time we add to dict_results is when painting occurs\n",
    "        dict_results[robot_pos] = paint_color\n",
    "       \n",
    "        # send back proper input\n",
    "        intermed_dict['robo_input'] = 1\n",
    "       \n",
    "        #print(f\"Robo input is: {robot_paint(dict_results[robot_pos])}\")\n",
    "        # update\n",
    "        i+= 1\n",
    "\n",
    "    else: # update robot position\n",
    "        robot_output_val = intermed_dict['robo_output']\n",
    "       \n",
    "        direction, robot_pos = direction_funct(intermed_dict['robo_output'], direction, robot_pos)\n",
    "       \n",
    "        # add coords to dict; assume black if no other color\n",
    "        if robot_pos in dict_results.keys():\n",
    "            color_pos = dict_results[robot_pos]\n",
    "       \n",
    "        else:\n",
    "            color_pos = \"BLACK\"\n",
    "       \n",
    "        # Finally, this step will need to pass a true input\n",
    "        intermed_dict['robo_input'] = robot_paint(color_pos)\n",
    "          \n",
    "        # update i\n",
    "        i += 1"
   ]
  },
  {
   "cell_type": "code",
   "execution_count": 9,
   "metadata": {},
   "outputs": [
    {
     "name": "stdout",
     "output_type": "stream",
     "text": [
      "Part 2 Total unique panels painted: 249\n"
     ]
    }
   ],
   "source": [
    "print(f'Part 2 Total unique panels painted: {len(dict_results.keys())}')"
   ]
  },
  {
   "cell_type": "markdown",
   "metadata": {},
   "source": [
    "#### Moving into Part 2: \n",
    "\n",
    "Leaned on a solve similar to this: https://pastebin.com/b6XErirs"
   ]
  },
  {
   "cell_type": "code",
   "execution_count": 15,
   "metadata": {},
   "outputs": [],
   "source": [
    "white_coords = []\n",
    "for coord in dict_results.keys():\n",
    "    \n",
    "    if dict_results[coord] == 'WHITE':\n",
    "        white_coords.append(coord)"
   ]
  },
  {
   "cell_type": "code",
   "execution_count": 19,
   "metadata": {},
   "outputs": [
    {
     "name": "stdout",
     "output_type": "stream",
     "text": [
      "                                         \n",
      "   ##  #  #  ##  #  # #    ####  ##  #   \n",
      "  #  # # #  #  # #  # #    #    #  # #   \n",
      "  #  # ###  #    #### #    #    #    ### \n",
      "  #  # #  # #    #  # ###  #    #    #  #\n",
      "  #  # #  # #  # #  # #    #    #  # #  #\n",
      "  #  # ###   ##   ##  #### #     ##  ### \n",
      "                                         \n",
      "                                         \n",
      "                                         \n",
      "                                         \n"
     ]
    }
   ],
   "source": [
    "min_x = -1\n",
    "min_y = -6\n",
    "max_x = 40\n",
    "max_y = 5\n",
    " \n",
    "for i in range(min_y, max_y):\n",
    "    line = ''\n",
    "    for j in range(min_x, max_x):\n",
    "        if (j,i) in white_coords:\n",
    "            line += \"#\"\n",
    "        else:\n",
    "            line += ' '\n",
    "    print(line)\n"
   ]
  },
  {
   "cell_type": "code",
   "execution_count": null,
   "metadata": {},
   "outputs": [],
   "source": [
    "# URCAFLCP upside down?"
   ]
  }
 ],
 "metadata": {
  "kernelspec": {
   "display_name": "Python 3",
   "language": "python",
   "name": "python3"
  },
  "language_info": {
   "codemirror_mode": {
    "name": "ipython",
    "version": 3
   },
   "file_extension": ".py",
   "mimetype": "text/x-python",
   "name": "python",
   "nbconvert_exporter": "python",
   "pygments_lexer": "ipython3",
   "version": "3.6.5"
  }
 },
 "nbformat": 4,
 "nbformat_minor": 2
}
