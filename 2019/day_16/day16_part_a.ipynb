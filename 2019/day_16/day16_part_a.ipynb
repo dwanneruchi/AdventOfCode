{
 "cells": [
  {
   "cell_type": "code",
   "execution_count": 1,
   "metadata": {},
   "outputs": [],
   "source": [
    "from itertools import cycle, islice\n",
    "\n",
    "def rebuild_base(row_num, base_pattern, num_rows):\n",
    "   \n",
    "    # multiply base by num row\n",
    "    updated_base = [[x] * row_num for x in base_pattern]\n",
    "   \n",
    "    # flatten into one list - should maintain order\n",
    "    flattened =  [item for sublist in updated_base for item in sublist]\n",
    "   \n",
    "    # make it large enough for length of input: we add one due to the shift\n",
    "    long_flat = list(islice(cycle(flattened), num_rows +1))\n",
    "   \n",
    "    # shift by 1\n",
    "    new_base = long_flat[1:]\n",
    "   \n",
    "    return new_base"
   ]
  },
  {
   "cell_type": "code",
   "execution_count": 2,
   "metadata": {},
   "outputs": [
    {
     "name": "stdout",
     "output_type": "stream",
     "text": [
      "23 ns ± 2.12 ns per loop (mean ± std. dev. of 7 runs, 10000000 loops each)\n",
      "Phase 10 output signal first 8 digits is: 87380253238657140951801716640095 \n",
      "Phase 20 output signal first 8 digits is: 47119211811248198398274769195595 \n",
      "Phase 30 output signal first 8 digits is: 73240335452002565335742212190095 \n",
      "Phase 40 output signal first 8 digits is: 34940623588809371477310710645595 \n",
      "Phase 50 output signal first 8 digits is: 36670980885919541119088218640095 \n",
      "Phase 60 output signal first 8 digits is: 13080304533152690401301261195595 \n",
      "Phase 70 output signal first 8 digits is: 36323937166298698348729714190095 \n",
      "Phase 80 output signal first 8 digits is: 06512094007507010835247212645595 \n",
      "Phase 90 output signal first 8 digits is: 19142202138859876977865710640095 \n",
      "Phase 100 output signal first 8 digits is: 24176176480919046114038763195595 \n"
     ]
    }
   ],
   "source": [
    "%timeit 3\n",
    "\n",
    "# start in phase 1\n",
    "phase = 1\n",
    "\n",
    "# our base\n",
    "base_pattern = [0, 1, 0, -1]\n",
    "\n",
    "# starting signal:\n",
    "input_signal = '80871224585914546619083218645595'\n",
    "\n",
    "while phase < 101:\n",
    "    row_dict = {}\n",
    "\n",
    "    input_list = []\n",
    "\n",
    "    # iterate over & generate proper list\n",
    "    for i in input_signal:\n",
    "\n",
    "        input_list.append(int(i))\n",
    "   \n",
    "    # get number of rows needed\n",
    "    num_rows = len(input_list)\n",
    "   \n",
    "    for row_num in range(1,num_rows+1):\n",
    "\n",
    "        # update base according to row num\n",
    "        new_base = rebuild_base(row_num, base_pattern, num_rows)\n",
    "\n",
    "        # zip with input list\n",
    "        row_sum = 0\n",
    "\n",
    "        for x,y in zip(new_base, input_list):\n",
    "\n",
    "            row_sum += x*y\n",
    "\n",
    "        # add sum to row dict\n",
    "        row_dict[row_num] = str(abs(row_sum))[-1]\n",
    "\n",
    "    input_signal = ''.join([val for val in row_dict.values()])\n",
    "    if phase % 10 == 0:\n",
    "        print(f'Phase {phase} output signal first 8 digits is: {input_signal} ')\n",
    "    phase +=1 # increment by 1\n"
   ]
  },
  {
   "cell_type": "code",
   "execution_count": null,
   "metadata": {},
   "outputs": [],
   "source": []
  }
 ],
 "metadata": {
  "kernelspec": {
   "display_name": "Python 3",
   "language": "python",
   "name": "python3"
  },
  "language_info": {
   "codemirror_mode": {
    "name": "ipython",
    "version": 3
   },
   "file_extension": ".py",
   "mimetype": "text/x-python",
   "name": "python",
   "nbconvert_exporter": "python",
   "pygments_lexer": "ipython3",
   "version": "3.6.5"
  }
 },
 "nbformat": 4,
 "nbformat_minor": 2
}
