{
 "cells": [
  {
   "cell_type": "code",
   "execution_count": 7,
   "metadata": {},
   "outputs": [],
   "source": [
    "# part 1 of day 4\n",
    "start = 124075 \n",
    "end = 580769\n",
    "\n",
    "count = 0 \n",
    "\n",
    "for val in range(start, end+1):\n",
    "    val = str(val)\n",
    "    a,b,c,d,e,f = val[0], val[1], val[2], val[3], val[4], val[5]\n",
    "    \n",
    "    # test for adj\n",
    "    if a == b or b == c or c == d or d == e or e == f:\n",
    "        \n",
    "        # test for constant same or increase\n",
    "        if a <= b and b <= c and c <= d and d <= e and e <= f:\n",
    "            \n",
    "            count += 1"
   ]
  },
  {
   "cell_type": "code",
   "execution_count": 8,
   "metadata": {},
   "outputs": [
    {
     "name": "stdout",
     "output_type": "stream",
     "text": [
      "2150\n"
     ]
    }
   ],
   "source": [
    "print(count)"
   ]
  },
  {
   "cell_type": "code",
   "execution_count": null,
   "metadata": {},
   "outputs": [],
   "source": [
    "# part 2 of day 4\n",
    "for val in range(start, end+1):\n",
    "    val = str(val)\n",
    "    a,b,c,d,e,f = val[0], val[1], val[2], val[3], val[4], val[5]\n",
    "    \n",
    "    # same test for constant or increase\n",
    "    if a <= b and b <= c and c <= d and d <= e and e <= f:\n",
    "        \n",
    "        for i in range(len(val)):\n",
    "            \n",
    "            \n",
    "        # test for adj: we now want to find 2 similar, and they can't exist in rest of digits \n",
    "    "
   ]
  },
  {
   "cell_type": "code",
   "execution_count": 36,
   "metadata": {},
   "outputs": [
    {
     "name": "stdout",
     "output_type": "stream",
     "text": [
      "Worked\n"
     ]
    }
   ],
   "source": [
    "val = \"111122\"\n",
    "count = 0\n",
    "\n",
    "for i in range(len(val)):\n",
    "    \n",
    "    if i+1 >= len(val):\n",
    "        \n",
    "        break\n",
    "        \n",
    "    if val[i] == val[i+1]:\n",
    "        \n",
    "        new_str = val[:i] + val[i+2:] # generate new string\n",
    "        \n",
    "        if val[i] not in new_str:\n",
    "            \n",
    "            count += 1\n",
    "            print(\"Worked\")\n",
    "            break\n",
    "            \n",
    "        \n",
    "        \n",
    "        \n",
    "        "
   ]
  },
  {
   "cell_type": "code",
   "execution_count": 37,
   "metadata": {},
   "outputs": [],
   "source": [
    "# put it all together\n",
    "\n",
    "# part 2 of day 4\n",
    "start = 124075 \n",
    "end = 580769\n",
    "\n",
    "count = 0 \n",
    "\n",
    "# part 2 of day 4\n",
    "for val in range(start, end+1):\n",
    "    val = str(val)\n",
    "    a,b,c,d,e,f = val[0], val[1], val[2], val[3], val[4], val[5]\n",
    "    \n",
    "    # same test for constant or increase\n",
    "    if a <= b and b <= c and c <= d and d <= e and e <= f:\n",
    "        \n",
    "        for i in range(len(val)):\n",
    "\n",
    "            if i+1 >= len(val):\n",
    "\n",
    "                break\n",
    "\n",
    "            if val[i] == val[i+1]:\n",
    "\n",
    "                new_str = val[:i] + val[i+2:] # generate new string\n",
    "\n",
    "                if val[i] not in new_str:\n",
    "\n",
    "                    count += 1\n",
    "                    break"
   ]
  },
  {
   "cell_type": "code",
   "execution_count": 38,
   "metadata": {},
   "outputs": [
    {
     "data": {
      "text/plain": [
       "1462"
      ]
     },
     "execution_count": 38,
     "metadata": {},
     "output_type": "execute_result"
    }
   ],
   "source": [
    "count"
   ]
  },
  {
   "cell_type": "code",
   "execution_count": null,
   "metadata": {},
   "outputs": [],
   "source": []
  }
 ],
 "metadata": {
  "kernelspec": {
   "display_name": "Python 3",
   "language": "python",
   "name": "python3"
  },
  "language_info": {
   "codemirror_mode": {
    "name": "ipython",
    "version": 3
   },
   "file_extension": ".py",
   "mimetype": "text/x-python",
   "name": "python",
   "nbconvert_exporter": "python",
   "pygments_lexer": "ipython3",
   "version": "3.6.5"
  }
 },
 "nbformat": 4,
 "nbformat_minor": 2
}
